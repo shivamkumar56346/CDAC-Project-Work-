{
 "cells": [
  {
   "cell_type": "code",
   "execution_count": 0,
   "metadata": {
    "application/vnd.databricks.v1+cell": {
     "title": "",
     "showTitle": false,
     "inputWidgets": {},
     "nuid": "bf559ce7-7a26-4b81-b6ea-85205dc0e28c"
    }
   },
   "outputs": [
    {
     "data": {
      "text/html": [
       "<style scoped>\n  .ansiout {\n    display: block;\n    unicode-bidi: embed;\n    white-space: pre-wrap;\n    word-wrap: break-word;\n    word-break: break-all;\n    font-family: \"Source Code Pro\", \"Menlo\", monospace;;\n    font-size: 13px;\n    color: #555;\n    margin-left: 4px;\n    line-height: 19px;\n  }\n</style>\n<div class=\"ansiout\"></div>"
      ]
     },
     "metadata": {
      "application/vnd.databricks.v1+output": {
       "datasetInfos": [],
       "data": "<div class=\"ansiout\"></div>",
       "removedWidgets": [],
       "addedWidgets": {},
       "type": "html",
       "arguments": {}
      }
     },
     "output_type": "execute_result"
    }
   ],
   "source": [
    "from pyspark.sql import SparkSession,functions as func\n",
    "from pyspark.sql.types import StructType,StructField,StringType,IntegerType,FloatType,LongType,DoubleType"
   ]
  },
  {
   "cell_type": "code",
   "execution_count": 0,
   "metadata": {
    "application/vnd.databricks.v1+cell": {
     "title": "",
     "showTitle": false,
     "inputWidgets": {},
     "nuid": "5acda561-9e82-4254-b63c-e0bcb186d5e1"
    }
   },
   "outputs": [
    {
     "data": {
      "text/html": [
       "<style scoped>\n  .ansiout {\n    display: block;\n    unicode-bidi: embed;\n    white-space: pre-wrap;\n    word-wrap: break-word;\n    word-break: break-all;\n    font-family: \"Source Code Pro\", \"Menlo\", monospace;;\n    font-size: 13px;\n    color: #555;\n    margin-left: 4px;\n    line-height: 19px;\n  }\n</style>\n<div class=\"ansiout\"></div>"
      ]
     },
     "metadata": {
      "application/vnd.databricks.v1+output": {
       "datasetInfos": [],
       "data": "<div class=\"ansiout\"></div>",
       "removedWidgets": [],
       "addedWidgets": {},
       "type": "html",
       "arguments": {}
      }
     },
     "output_type": "execute_result"
    }
   ],
   "source": [
    "spark=SparkSession.builder.appName(\"Regression Models\").getOrCreate()"
   ]
  },
  {
   "cell_type": "code",
   "execution_count": 0,
   "metadata": {
    "application/vnd.databricks.v1+cell": {
     "title": "",
     "showTitle": false,
     "inputWidgets": {},
     "nuid": "78cf7e33-b6d5-472f-b63f-43ea3937f6e5"
    }
   },
   "outputs": [
    {
     "data": {
      "text/html": [
       "<style scoped>\n  .ansiout {\n    display: block;\n    unicode-bidi: embed;\n    white-space: pre-wrap;\n    word-wrap: break-word;\n    word-break: break-all;\n    font-family: \"Source Code Pro\", \"Menlo\", monospace;;\n    font-size: 13px;\n    color: #555;\n    margin-left: 4px;\n    line-height: 19px;\n  }\n</style>\n<div class=\"ansiout\">+-------+------+------+\nmovieId|imdbId|tmdbId|\n+-------+------+------+\n      1|114709|   862|\n      2|113497|  8844|\n      3|113228| 15602|\n      4|114885| 31357|\n      5|113041| 11862|\n+-------+------+------+\nonly showing top 5 rows\n\n</div>"
      ]
     },
     "metadata": {
      "application/vnd.databricks.v1+output": {
       "datasetInfos": [],
       "data": "<div class=\"ansiout\">+-------+------+------+\n|movieId|imdbId|tmdbId|\n+-------+------+------+\n|      1|114709|   862|\n|      2|113497|  8844|\n|      3|113228| 15602|\n|      4|114885| 31357|\n|      5|113041| 11862|\n+-------+------+------+\nonly showing top 5 rows\n\n</div>",
       "removedWidgets": [],
       "addedWidgets": {},
       "type": "html",
       "arguments": {}
      }
     },
     "output_type": "execute_result"
    }
   ],
   "source": [
    "links=spark.read.option(\"inferSchema\",\"true\").option(\"header\",\"true\").csv(\"dbfs:/FileStore/tables/links.csv\")\n",
    "links.show(5)"
   ]
  },
  {
   "cell_type": "code",
   "execution_count": 0,
   "metadata": {
    "application/vnd.databricks.v1+cell": {
     "title": "",
     "showTitle": false,
     "inputWidgets": {},
     "nuid": "ea6e564a-3044-47b9-92d1-e98890eba178"
    }
   },
   "outputs": [
    {
     "data": {
      "text/html": [
       "<style scoped>\n  .ansiout {\n    display: block;\n    unicode-bidi: embed;\n    white-space: pre-wrap;\n    word-wrap: break-word;\n    word-break: break-all;\n    font-family: \"Source Code Pro\", \"Menlo\", monospace;;\n    font-size: 13px;\n    color: #555;\n    margin-left: 4px;\n    line-height: 19px;\n  }\n</style>\n<div class=\"ansiout\">root\n-- movieId: integer (nullable = true)\n-- imdbId: integer (nullable = true)\n-- tmdbId: integer (nullable = true)\n\n</div>"
      ]
     },
     "metadata": {
      "application/vnd.databricks.v1+output": {
       "datasetInfos": [],
       "data": "<div class=\"ansiout\">root\n |-- movieId: integer (nullable = true)\n |-- imdbId: integer (nullable = true)\n |-- tmdbId: integer (nullable = true)\n\n</div>",
       "removedWidgets": [],
       "addedWidgets": {},
       "type": "html",
       "arguments": {}
      }
     },
     "output_type": "execute_result"
    }
   ],
   "source": [
    "links.printSchema()"
   ]
  },
  {
   "cell_type": "code",
   "execution_count": 0,
   "metadata": {
    "application/vnd.databricks.v1+cell": {
     "title": "",
     "showTitle": false,
     "inputWidgets": {},
     "nuid": "3884b7cb-3d5c-416c-b5f0-4d0bb55d3439"
    }
   },
   "outputs": [
    {
     "data": {
      "text/html": [
       "<style scoped>\n  .ansiout {\n    display: block;\n    unicode-bidi: embed;\n    white-space: pre-wrap;\n    word-wrap: break-word;\n    word-break: break-all;\n    font-family: \"Source Code Pro\", \"Menlo\", monospace;;\n    font-size: 13px;\n    color: #555;\n    margin-left: 4px;\n    line-height: 19px;\n  }\n</style>\n<div class=\"ansiout\">+------+-------+------+----------+\nuserId|movieId|rating| timestamp|\n+------+-------+------+----------+\n     1|    296|   5.0|1147880044|\n     1|    306|   3.5|1147868817|\n     1|    307|   5.0|1147868828|\n     1|    665|   5.0|1147878820|\n     1|    899|   3.5|1147868510|\n+------+-------+------+----------+\nonly showing top 5 rows\n\n</div>"
      ]
     },
     "metadata": {
      "application/vnd.databricks.v1+output": {
       "datasetInfos": [],
       "data": "<div class=\"ansiout\">+------+-------+------+----------+\n|userId|movieId|rating| timestamp|\n+------+-------+------+----------+\n|     1|    296|   5.0|1147880044|\n|     1|    306|   3.5|1147868817|\n|     1|    307|   5.0|1147868828|\n|     1|    665|   5.0|1147878820|\n|     1|    899|   3.5|1147868510|\n+------+-------+------+----------+\nonly showing top 5 rows\n\n</div>",
       "removedWidgets": [],
       "addedWidgets": {},
       "type": "html",
       "arguments": {}
      }
     },
     "output_type": "execute_result"
    }
   ],
   "source": [
    "ratings=spark.read.option(\"inferSchema\",\"true\").option(\"header\",\"true\").csv(\"dbfs:/FileStore/tables/ratings.csv\")\n",
    "ratings.show(5)"
   ]
  },
  {
   "cell_type": "code",
   "execution_count": 0,
   "metadata": {
    "application/vnd.databricks.v1+cell": {
     "title": "",
     "showTitle": false,
     "inputWidgets": {},
     "nuid": "a15eb098-b823-42c5-90e2-9aa374867fd9"
    }
   },
   "outputs": [
    {
     "data": {
      "text/html": [
       "<style scoped>\n  .ansiout {\n    display: block;\n    unicode-bidi: embed;\n    white-space: pre-wrap;\n    word-wrap: break-word;\n    word-break: break-all;\n    font-family: \"Source Code Pro\", \"Menlo\", monospace;;\n    font-size: 13px;\n    color: #555;\n    margin-left: 4px;\n    line-height: 19px;\n  }\n</style>\n<div class=\"ansiout\">root\n-- userId: integer (nullable = true)\n-- movieId: integer (nullable = true)\n-- rating: double (nullable = true)\n-- timestamp: integer (nullable = true)\n\n</div>"
      ]
     },
     "metadata": {
      "application/vnd.databricks.v1+output": {
       "datasetInfos": [],
       "data": "<div class=\"ansiout\">root\n |-- userId: integer (nullable = true)\n |-- movieId: integer (nullable = true)\n |-- rating: double (nullable = true)\n |-- timestamp: integer (nullable = true)\n\n</div>",
       "removedWidgets": [],
       "addedWidgets": {},
       "type": "html",
       "arguments": {}
      }
     },
     "output_type": "execute_result"
    }
   ],
   "source": [
    "ratings.printSchema()"
   ]
  },
  {
   "cell_type": "code",
   "execution_count": 0,
   "metadata": {
    "application/vnd.databricks.v1+cell": {
     "title": "",
     "showTitle": false,
     "inputWidgets": {},
     "nuid": "51afc671-12b8-4cbf-a551-179589455b12"
    }
   },
   "outputs": [
    {
     "data": {
      "text/html": [
       "<style scoped>\n  .ansiout {\n    display: block;\n    unicode-bidi: embed;\n    white-space: pre-wrap;\n    word-wrap: break-word;\n    word-break: break-all;\n    font-family: \"Source Code Pro\", \"Menlo\", monospace;;\n    font-size: 13px;\n    color: #555;\n    margin-left: 4px;\n    line-height: 19px;\n  }\n</style>\n<div class=\"ansiout\"></div>"
      ]
     },
     "metadata": {
      "application/vnd.databricks.v1+output": {
       "datasetInfos": [],
       "data": "<div class=\"ansiout\"></div>",
       "removedWidgets": [],
       "addedWidgets": {},
       "type": "html",
       "arguments": {}
      }
     },
     "output_type": "execute_result"
    }
   ],
   "source": [
    "links.createOrReplaceTempView(\"link\")\n",
    "ratings.createOrReplaceTempView(\"rating\")"
   ]
  },
  {
   "cell_type": "code",
   "execution_count": 0,
   "metadata": {
    "application/vnd.databricks.v1+cell": {
     "title": "",
     "showTitle": false,
     "inputWidgets": {},
     "nuid": "e40d6aea-246a-4805-a092-09bd1523eba9"
    }
   },
   "outputs": [
    {
     "data": {
      "text/html": [
       "<style scoped>\n  .ansiout {\n    display: block;\n    unicode-bidi: embed;\n    white-space: pre-wrap;\n    word-wrap: break-word;\n    word-break: break-all;\n    font-family: \"Source Code Pro\", \"Menlo\", monospace;;\n    font-size: 13px;\n    color: #555;\n    margin-left: 4px;\n    line-height: 19px;\n  }\n</style>\n<div class=\"ansiout\">+-------+------+------+------+------+\nmovieId|imdbId|tmdbId|userId|rating|\n+-------+------+------+------+------+\n    296|110912|   680|     1|   5.0|\n    306|111495|   110|     1|   3.5|\n    307|108394|   108|     1|   5.0|\n    665|114787| 11902|     1|   5.0|\n    899| 45152|   872|     1|   3.5|\n   1088| 92890|    88|     1|   4.0|\n   1175|101700|   892|     1|   3.5|\n   1217| 89881| 11645|     1|   3.5|\n   1237| 50976|   490|     1|   5.0|\n   1250| 50212|   826|     1|   4.0|\n+-------+------+------+------+------+\nonly showing top 10 rows\n\n</div>"
      ]
     },
     "metadata": {
      "application/vnd.databricks.v1+output": {
       "datasetInfos": [],
       "data": "<div class=\"ansiout\">+-------+------+------+------+------+\n|movieId|imdbId|tmdbId|userId|rating|\n+-------+------+------+------+------+\n|    296|110912|   680|     1|   5.0|\n|    306|111495|   110|     1|   3.5|\n|    307|108394|   108|     1|   5.0|\n|    665|114787| 11902|     1|   5.0|\n|    899| 45152|   872|     1|   3.5|\n|   1088| 92890|    88|     1|   4.0|\n|   1175|101700|   892|     1|   3.5|\n|   1217| 89881| 11645|     1|   3.5|\n|   1237| 50976|   490|     1|   5.0|\n|   1250| 50212|   826|     1|   4.0|\n+-------+------+------+------+------+\nonly showing top 10 rows\n\n</div>",
       "removedWidgets": [],
       "addedWidgets": {},
       "type": "html",
       "arguments": {}
      }
     },
     "output_type": "execute_result"
    }
   ],
   "source": [
    "join_df=spark.sql(\"select l.*,r.userId,r.rating from link l inner join rating r on l.movieId=r.movieId\")\n",
    "join_df.show(10)"
   ]
  },
  {
   "cell_type": "code",
   "execution_count": 0,
   "metadata": {
    "application/vnd.databricks.v1+cell": {
     "title": "",
     "showTitle": false,
     "inputWidgets": {},
     "nuid": "3f6a2499-4ba2-4ba3-847f-aa5bc8c9bbbb"
    }
   },
   "outputs": [
    {
     "data": {
      "text/html": [
       "<style scoped>\n  .ansiout {\n    display: block;\n    unicode-bidi: embed;\n    white-space: pre-wrap;\n    word-wrap: break-word;\n    word-break: break-all;\n    font-family: \"Source Code Pro\", \"Menlo\", monospace;;\n    font-size: 13px;\n    color: #555;\n    margin-left: 4px;\n    line-height: 19px;\n  }\n</style>\n<div class=\"ansiout\"></div>"
      ]
     },
     "metadata": {
      "application/vnd.databricks.v1+output": {
       "datasetInfos": [],
       "data": "<div class=\"ansiout\"></div>",
       "removedWidgets": [],
       "addedWidgets": {},
       "type": "html",
       "arguments": {}
      }
     },
     "output_type": "execute_result"
    }
   ],
   "source": [
    "join_df.createOrReplaceTempView(\"temp_table\")"
   ]
  },
  {
   "cell_type": "code",
   "execution_count": 0,
   "metadata": {
    "application/vnd.databricks.v1+cell": {
     "title": "",
     "showTitle": false,
     "inputWidgets": {},
     "nuid": "b1f67e56-cd16-4c0c-aab5-6864ac25fd92"
    }
   },
   "outputs": [
    {
     "data": {
      "text/html": [
       "<style scoped>\n  .ansiout {\n    display: block;\n    unicode-bidi: embed;\n    white-space: pre-wrap;\n    word-wrap: break-word;\n    word-break: break-all;\n    font-family: \"Source Code Pro\", \"Menlo\", monospace;;\n    font-size: 13px;\n    color: #555;\n    margin-left: 4px;\n    line-height: 19px;\n  }\n</style>\n<div class=\"ansiout\">+-------+-----+---------+\nmovieId|tagId|relevance|\n+-------+-----+---------+\n      1|    1|  0.02875|\n      1|    2|  0.02375|\n      1|    3|   0.0625|\n      1|    4|  0.07575|\n      1|    5|  0.14075|\n      1|    6|  0.14675|\n      1|    7|   0.0635|\n      1|    8|  0.20375|\n      1|    9|    0.202|\n      1|   10|  0.03075|\n+-------+-----+---------+\nonly showing top 10 rows\n\n</div>"
      ]
     },
     "metadata": {
      "application/vnd.databricks.v1+output": {
       "datasetInfos": [],
       "data": "<div class=\"ansiout\">+-------+-----+---------+\n|movieId|tagId|relevance|\n+-------+-----+---------+\n|      1|    1|  0.02875|\n|      1|    2|  0.02375|\n|      1|    3|   0.0625|\n|      1|    4|  0.07575|\n|      1|    5|  0.14075|\n|      1|    6|  0.14675|\n|      1|    7|   0.0635|\n|      1|    8|  0.20375|\n|      1|    9|    0.202|\n|      1|   10|  0.03075|\n+-------+-----+---------+\nonly showing top 10 rows\n\n</div>",
       "removedWidgets": [],
       "addedWidgets": {},
       "type": "html",
       "arguments": {}
      }
     },
     "output_type": "execute_result"
    }
   ],
   "source": [
    "genome_score=spark.read.option(\"inferSchema\",\"true\").option(\"header\",\"true\").csv(\"dbfs:/FileStore/tables/genome_score.csv\")\n",
    "genome_score.show(10)"
   ]
  },
  {
   "cell_type": "code",
   "execution_count": 0,
   "metadata": {
    "application/vnd.databricks.v1+cell": {
     "title": "",
     "showTitle": false,
     "inputWidgets": {},
     "nuid": "ee58ca19-71cd-4d72-99d8-d5fb7787c52c"
    }
   },
   "outputs": [
    {
     "data": {
      "text/html": [
       "<style scoped>\n  .ansiout {\n    display: block;\n    unicode-bidi: embed;\n    white-space: pre-wrap;\n    word-wrap: break-word;\n    word-break: break-all;\n    font-family: \"Source Code Pro\", \"Menlo\", monospace;;\n    font-size: 13px;\n    color: #555;\n    margin-left: 4px;\n    line-height: 19px;\n  }\n</style>\n<div class=\"ansiout\"></div>"
      ]
     },
     "metadata": {
      "application/vnd.databricks.v1+output": {
       "datasetInfos": [],
       "data": "<div class=\"ansiout\"></div>",
       "removedWidgets": [],
       "addedWidgets": {},
       "type": "html",
       "arguments": {}
      }
     },
     "output_type": "execute_result"
    }
   ],
   "source": [
    "genome_score.createOrReplaceTempView(\"score\")"
   ]
  },
  {
   "cell_type": "code",
   "execution_count": 0,
   "metadata": {
    "application/vnd.databricks.v1+cell": {
     "title": "",
     "showTitle": false,
     "inputWidgets": {},
     "nuid": "5c1c28b8-ba95-48e4-8dcb-e94cbc7e8730"
    }
   },
   "outputs": [
    {
     "data": {
      "text/html": [
       "<style scoped>\n  .ansiout {\n    display: block;\n    unicode-bidi: embed;\n    white-space: pre-wrap;\n    word-wrap: break-word;\n    word-break: break-all;\n    font-family: \"Source Code Pro\", \"Menlo\", monospace;;\n    font-size: 13px;\n    color: #555;\n    margin-left: 4px;\n    line-height: 19px;\n  }\n</style>\n<div class=\"ansiout\">+-------+------+------+------+------+-----+---------+\nmovieId|imdbId|tmdbId|userId|rating|tagId|relevance|\n+-------+------+------+------+------+-----+---------+\n      1|114709|   862|     2|   3.5| 1128|    0.022|\n      1|114709|   862|     2|   3.5| 1127|  0.08475|\n      1|114709|   862|     2|   3.5| 1126|  0.02975|\n      1|114709|   862|     2|   3.5| 1125|    0.039|\n      1|114709|   862|     2|   3.5| 1124|  0.05775|\n      1|114709|   862|     2|   3.5| 1123|  0.14125|\n      1|114709|   862|     2|   3.5| 1122|    0.035|\n      1|114709|   862|     2|   3.5| 1121|   0.0305|\n      1|114709|   862|     2|   3.5| 1120|  0.01425|\n      1|114709|   862|     2|   3.5| 1119|   0.0405|\n+-------+------+------+------+------+-----+---------+\nonly showing top 10 rows\n\n</div>"
      ]
     },
     "metadata": {
      "application/vnd.databricks.v1+output": {
       "datasetInfos": [],
       "data": "<div class=\"ansiout\">+-------+------+------+------+------+-----+---------+\n|movieId|imdbId|tmdbId|userId|rating|tagId|relevance|\n+-------+------+------+------+------+-----+---------+\n|      1|114709|   862|     2|   3.5| 1128|    0.022|\n|      1|114709|   862|     2|   3.5| 1127|  0.08475|\n|      1|114709|   862|     2|   3.5| 1126|  0.02975|\n|      1|114709|   862|     2|   3.5| 1125|    0.039|\n|      1|114709|   862|     2|   3.5| 1124|  0.05775|\n|      1|114709|   862|     2|   3.5| 1123|  0.14125|\n|      1|114709|   862|     2|   3.5| 1122|    0.035|\n|      1|114709|   862|     2|   3.5| 1121|   0.0305|\n|      1|114709|   862|     2|   3.5| 1120|  0.01425|\n|      1|114709|   862|     2|   3.5| 1119|   0.0405|\n+-------+------+------+------+------+-----+---------+\nonly showing top 10 rows\n\n</div>",
       "removedWidgets": [],
       "addedWidgets": {},
       "type": "html",
       "arguments": {}
      }
     },
     "output_type": "execute_result"
    }
   ],
   "source": [
    "final_df=spark.sql(\"select t.*,s.tagId,s.relevance from temp_table t inner join score s on t.movieId=s.movieId\")\n",
    "final_df.show(10)"
   ]
  },
  {
   "cell_type": "code",
   "execution_count": 0,
   "metadata": {
    "application/vnd.databricks.v1+cell": {
     "title": "",
     "showTitle": false,
     "inputWidgets": {},
     "nuid": "818b88f5-290d-45ba-a2df-9cc9656a2685"
    }
   },
   "outputs": [
    {
     "data": {
      "text/html": [
       "<style scoped>\n  .ansiout {\n    display: block;\n    unicode-bidi: embed;\n    white-space: pre-wrap;\n    word-wrap: break-word;\n    word-break: break-all;\n    font-family: \"Source Code Pro\", \"Menlo\", monospace;;\n    font-size: 13px;\n    color: #555;\n    margin-left: 4px;\n    line-height: 19px;\n  }\n</style>\n<div class=\"ansiout\">Out[20]: 4487481</div>"
      ]
     },
     "metadata": {
      "application/vnd.databricks.v1+output": {
       "datasetInfos": [],
       "data": "<div class=\"ansiout\">Out[20]: 4487481</div>",
       "removedWidgets": [],
       "addedWidgets": {},
       "type": "html",
       "arguments": {}
      }
     },
     "output_type": "execute_result"
    }
   ],
   "source": [
    "final_df.count()"
   ]
  },
  {
   "cell_type": "code",
   "execution_count": 0,
   "metadata": {
    "application/vnd.databricks.v1+cell": {
     "title": "",
     "showTitle": false,
     "inputWidgets": {},
     "nuid": "dffa9df8-897c-4585-af09-65ab1ec17ff7"
    }
   },
   "outputs": [
    {
     "data": {
      "text/html": [
       "<style scoped>\n  .ansiout {\n    display: block;\n    unicode-bidi: embed;\n    white-space: pre-wrap;\n    word-wrap: break-word;\n    word-break: break-all;\n    font-family: \"Source Code Pro\", \"Menlo\", monospace;;\n    font-size: 13px;\n    color: #555;\n    margin-left: 4px;\n    line-height: 19px;\n  }\n</style>\n<div class=\"ansiout\">root\n-- movieId: integer (nullable = true)\n-- imdbId: integer (nullable = true)\n-- tmdbId: integer (nullable = true)\n-- userId: integer (nullable = true)\n-- rating: double (nullable = true)\n-- tagId: integer (nullable = true)\n-- relevance: double (nullable = true)\n\n</div>"
      ]
     },
     "metadata": {
      "application/vnd.databricks.v1+output": {
       "datasetInfos": [],
       "data": "<div class=\"ansiout\">root\n |-- movieId: integer (nullable = true)\n |-- imdbId: integer (nullable = true)\n |-- tmdbId: integer (nullable = true)\n |-- userId: integer (nullable = true)\n |-- rating: double (nullable = true)\n |-- tagId: integer (nullable = true)\n |-- relevance: double (nullable = true)\n\n</div>",
       "removedWidgets": [],
       "addedWidgets": {},
       "type": "html",
       "arguments": {}
      }
     },
     "output_type": "execute_result"
    }
   ],
   "source": [
    "final_df.printSchema()"
   ]
  },
  {
   "cell_type": "code",
   "execution_count": 0,
   "metadata": {
    "application/vnd.databricks.v1+cell": {
     "title": "",
     "showTitle": false,
     "inputWidgets": {},
     "nuid": "de13a901-186f-4682-a917-1f5cf5585930"
    }
   },
   "outputs": [
    {
     "data": {
      "text/html": [
       "<style scoped>\n  .ansiout {\n    display: block;\n    unicode-bidi: embed;\n    white-space: pre-wrap;\n    word-wrap: break-word;\n    word-break: break-all;\n    font-family: \"Source Code Pro\", \"Menlo\", monospace;;\n    font-size: 13px;\n    color: #555;\n    margin-left: 4px;\n    line-height: 19px;\n  }\n</style>\n<div class=\"ansiout\"></div>"
      ]
     },
     "metadata": {
      "application/vnd.databricks.v1+output": {
       "datasetInfos": [],
       "data": "<div class=\"ansiout\"></div>",
       "removedWidgets": [],
       "addedWidgets": {},
       "type": "html",
       "arguments": {}
      }
     },
     "output_type": "execute_result"
    }
   ],
   "source": [
    "from pyspark.ml.regression import *\n",
    "from pyspark.ml.feature import *\n",
    "from pyspark.ml.linalg import *\n",
    "from pyspark.ml.evaluation import *"
   ]
  },
  {
   "cell_type": "code",
   "execution_count": 0,
   "metadata": {
    "application/vnd.databricks.v1+cell": {
     "title": "",
     "showTitle": false,
     "inputWidgets": {},
     "nuid": "16afe73e-26ac-4ca0-a13b-f60b160d7693"
    }
   },
   "outputs": [
    {
     "data": {
      "text/html": [
       "<style scoped>\n  .ansiout {\n    display: block;\n    unicode-bidi: embed;\n    white-space: pre-wrap;\n    word-wrap: break-word;\n    word-break: break-all;\n    font-family: \"Source Code Pro\", \"Menlo\", monospace;;\n    font-size: 13px;\n    color: #555;\n    margin-left: 4px;\n    line-height: 19px;\n  }\n</style>\n<div class=\"ansiout\"></div>"
      ]
     },
     "metadata": {
      "application/vnd.databricks.v1+output": {
       "datasetInfos": [],
       "data": "<div class=\"ansiout\"></div>",
       "removedWidgets": [],
       "addedWidgets": {},
       "type": "html",
       "arguments": {}
      }
     },
     "output_type": "execute_result"
    }
   ],
   "source": [
    "featureAssembler=VectorAssembler(inputCols=[\"movieId\",\"imdbId\",\"tmdbId\",\"userId\",\"tagId\",\"relevance\"],outputCol=\"Independent Variables\")\n",
    "output=featureAssembler.transform(final_df)"
   ]
  },
  {
   "cell_type": "code",
   "execution_count": 0,
   "metadata": {
    "application/vnd.databricks.v1+cell": {
     "title": "",
     "showTitle": false,
     "inputWidgets": {},
     "nuid": "164008fe-224f-4269-b5ea-72100e11ca62"
    }
   },
   "outputs": [
    {
     "data": {
      "text/html": [
       "<style scoped>\n  .ansiout {\n    display: block;\n    unicode-bidi: embed;\n    white-space: pre-wrap;\n    word-wrap: break-word;\n    word-break: break-all;\n    font-family: \"Source Code Pro\", \"Menlo\", monospace;;\n    font-size: 13px;\n    color: #555;\n    margin-left: 4px;\n    line-height: 19px;\n  }\n</style>\n<div class=\"ansiout\">+-------+------+------+------+------+-----+---------+---------------------+\nmovieId|imdbId|tmdbId|userId|rating|tagId|relevance|Independent Variables|\n+-------+------+------+------+------+-----+---------+---------------------+\n      1|114709|   862|     2|   3.5| 1128|    0.022| [1.0,114709.0,862...|\n      1|114709|   862|     2|   3.5| 1127|  0.08475| [1.0,114709.0,862...|\n      1|114709|   862|     2|   3.5| 1126|  0.02975| [1.0,114709.0,862...|\n      1|114709|   862|     2|   3.5| 1125|    0.039| [1.0,114709.0,862...|\n      1|114709|   862|     2|   3.5| 1124|  0.05775| [1.0,114709.0,862...|\n+-------+------+------+------+------+-----+---------+---------------------+\nonly showing top 5 rows\n\n</div>"
      ]
     },
     "metadata": {
      "application/vnd.databricks.v1+output": {
       "datasetInfos": [],
       "data": "<div class=\"ansiout\">+-------+------+------+------+------+-----+---------+---------------------+\n|movieId|imdbId|tmdbId|userId|rating|tagId|relevance|Independent Variables|\n+-------+------+------+------+------+-----+---------+---------------------+\n|      1|114709|   862|     2|   3.5| 1128|    0.022| [1.0,114709.0,862...|\n|      1|114709|   862|     2|   3.5| 1127|  0.08475| [1.0,114709.0,862...|\n|      1|114709|   862|     2|   3.5| 1126|  0.02975| [1.0,114709.0,862...|\n|      1|114709|   862|     2|   3.5| 1125|    0.039| [1.0,114709.0,862...|\n|      1|114709|   862|     2|   3.5| 1124|  0.05775| [1.0,114709.0,862...|\n+-------+------+------+------+------+-----+---------+---------------------+\nonly showing top 5 rows\n\n</div>",
       "removedWidgets": [],
       "addedWidgets": {},
       "type": "html",
       "arguments": {}
      }
     },
     "output_type": "execute_result"
    }
   ],
   "source": [
    "output.show(5)"
   ]
  },
  {
   "cell_type": "code",
   "execution_count": 0,
   "metadata": {
    "application/vnd.databricks.v1+cell": {
     "title": "",
     "showTitle": false,
     "inputWidgets": {},
     "nuid": "4bf9cd35-5095-4760-b9aa-584957227c03"
    }
   },
   "outputs": [
    {
     "data": {
      "text/html": [
       "<style scoped>\n  .ansiout {\n    display: block;\n    unicode-bidi: embed;\n    white-space: pre-wrap;\n    word-wrap: break-word;\n    word-break: break-all;\n    font-family: \"Source Code Pro\", \"Menlo\", monospace;;\n    font-size: 13px;\n    color: #555;\n    margin-left: 4px;\n    line-height: 19px;\n  }\n</style>\n<div class=\"ansiout\">+---------------------+------+\nIndependent Variables|rating|\n+---------------------+------+\n [1.0,114709.0,862...|   3.5|\n [1.0,114709.0,862...|   3.5|\n [1.0,114709.0,862...|   3.5|\n [1.0,114709.0,862...|   3.5|\n [1.0,114709.0,862...|   3.5|\n+---------------------+------+\nonly showing top 5 rows\n\n</div>"
      ]
     },
     "metadata": {
      "application/vnd.databricks.v1+output": {
       "datasetInfos": [],
       "data": "<div class=\"ansiout\">+---------------------+------+\n|Independent Variables|rating|\n+---------------------+------+\n| [1.0,114709.0,862...|   3.5|\n| [1.0,114709.0,862...|   3.5|\n| [1.0,114709.0,862...|   3.5|\n| [1.0,114709.0,862...|   3.5|\n| [1.0,114709.0,862...|   3.5|\n+---------------------+------+\nonly showing top 5 rows\n\n</div>",
       "removedWidgets": [],
       "addedWidgets": {},
       "type": "html",
       "arguments": {}
      }
     },
     "output_type": "execute_result"
    }
   ],
   "source": [
    "dataset=output.select(\"Independent Variables\",\"rating\")\n",
    "dataset.show(5)"
   ]
  },
  {
   "cell_type": "code",
   "execution_count": 0,
   "metadata": {
    "application/vnd.databricks.v1+cell": {
     "title": "",
     "showTitle": false,
     "inputWidgets": {},
     "nuid": "a30af884-cdf4-4e72-a9a2-30796d535634"
    }
   },
   "outputs": [
    {
     "data": {
      "text/html": [
       "<style scoped>\n  .ansiout {\n    display: block;\n    unicode-bidi: embed;\n    white-space: pre-wrap;\n    word-wrap: break-word;\n    word-break: break-all;\n    font-family: \"Source Code Pro\", \"Menlo\", monospace;;\n    font-size: 13px;\n    color: #555;\n    margin-left: 4px;\n    line-height: 19px;\n  }\n</style>\n<div class=\"ansiout\"></div>"
      ]
     },
     "metadata": {
      "application/vnd.databricks.v1+output": {
       "datasetInfos": [],
       "data": "<div class=\"ansiout\"></div>",
       "removedWidgets": [],
       "addedWidgets": {},
       "type": "html",
       "arguments": {}
      }
     },
     "output_type": "execute_result"
    }
   ],
   "source": [
    "train_data,test_data=dataset.randomSplit([0.7,0.3])"
   ]
  },
  {
   "cell_type": "code",
   "execution_count": 0,
   "metadata": {
    "application/vnd.databricks.v1+cell": {
     "title": "",
     "showTitle": false,
     "inputWidgets": {},
     "nuid": "43d2eeca-7f45-4d59-af47-51f5cfdb9116"
    }
   },
   "outputs": [
    {
     "data": {
      "text/html": [
       "<style scoped>\n  .ansiout {\n    display: block;\n    unicode-bidi: embed;\n    white-space: pre-wrap;\n    word-wrap: break-word;\n    word-break: break-all;\n    font-family: \"Source Code Pro\", \"Menlo\", monospace;;\n    font-size: 13px;\n    color: #555;\n    margin-left: 4px;\n    line-height: 19px;\n  }\n</style>"
      ]
     },
     "metadata": {
      "application/vnd.databricks.v1+output": {
       "type": "ipynbError",
       "data": "",
       "errorSummary": "",
       "arguments": {}
      }
     },
     "output_type": "execute_result"
    }
   ],
   "source": [
    "# Applying Linear Regression Model."
   ]
  },
  {
   "cell_type": "code",
   "execution_count": 0,
   "metadata": {
    "application/vnd.databricks.v1+cell": {
     "title": "",
     "showTitle": false,
     "inputWidgets": {},
     "nuid": "c21c51f7-9966-4759-ba21-86cc94af7f88"
    }
   },
   "outputs": [
    {
     "data": {
      "text/html": [
       "<style scoped>\n  .ansiout {\n    display: block;\n    unicode-bidi: embed;\n    white-space: pre-wrap;\n    word-wrap: break-word;\n    word-break: break-all;\n    font-family: \"Source Code Pro\", \"Menlo\", monospace;;\n    font-size: 13px;\n    color: #555;\n    margin-left: 4px;\n    line-height: 19px;\n  }\n</style>\n<div class=\"ansiout\"></div>"
      ]
     },
     "metadata": {
      "application/vnd.databricks.v1+output": {
       "datasetInfos": [],
       "data": "<div class=\"ansiout\"></div>",
       "removedWidgets": [],
       "addedWidgets": {},
       "type": "html",
       "arguments": {}
      }
     },
     "output_type": "execute_result"
    }
   ],
   "source": [
    "lr=LinearRegression(featuresCol=\"Independent Variables\",labelCol=\"rating\",maxIter=10,regParam=0.5)\n",
    "regressor=lr.fit(train_data)"
   ]
  },
  {
   "cell_type": "code",
   "execution_count": 0,
   "metadata": {
    "application/vnd.databricks.v1+cell": {
     "title": "",
     "showTitle": false,
     "inputWidgets": {},
     "nuid": "2a6e5af1-26e5-4a61-8b95-fa771e2b2268"
    }
   },
   "outputs": [
    {
     "data": {
      "text/html": [
       "<style scoped>\n  .ansiout {\n    display: block;\n    unicode-bidi: embed;\n    white-space: pre-wrap;\n    word-wrap: break-word;\n    word-break: break-all;\n    font-family: \"Source Code Pro\", \"Menlo\", monospace;;\n    font-size: 13px;\n    color: #555;\n    margin-left: 4px;\n    line-height: 19px;\n  }\n</style>\n<div class=\"ansiout\">[-0.10801545865334342,0.00016597509544617053,-1.5271388892037032e-05,-2.369595328209368e-06,-3.252061816763325e-08,0.022889879202446457]\n-15.061307753374185\n</div>"
      ]
     },
     "metadata": {
      "application/vnd.databricks.v1+output": {
       "datasetInfos": [],
       "data": "<div class=\"ansiout\">[-0.10801545865334342,0.00016597509544617053,-1.5271388892037032e-05,-2.369595328209368e-06,-3.252061816763325e-08,0.022889879202446457]\n-15.061307753374185\n</div>",
       "removedWidgets": [],
       "addedWidgets": {},
       "type": "html",
       "arguments": {}
      }
     },
     "output_type": "execute_result"
    }
   ],
   "source": [
    "print(regressor.coefficients)\n",
    "print(regressor.intercept)"
   ]
  },
  {
   "cell_type": "code",
   "execution_count": 0,
   "metadata": {
    "application/vnd.databricks.v1+cell": {
     "title": "",
     "showTitle": false,
     "inputWidgets": {},
     "nuid": "5b68b7da-7938-4110-9ee7-1f3a9564da9b"
    }
   },
   "outputs": [
    {
     "data": {
      "text/html": [
       "<style scoped>\n  .ansiout {\n    display: block;\n    unicode-bidi: embed;\n    white-space: pre-wrap;\n    word-wrap: break-word;\n    word-break: break-all;\n    font-family: \"Source Code Pro\", \"Menlo\", monospace;;\n    font-size: 13px;\n    color: #555;\n    margin-left: 4px;\n    line-height: 19px;\n  }\n</style>\n<div class=\"ansiout\">+---------------------+------+------------------+\nIndependent Variables|rating|        prediction|\n+---------------------+------+------------------+\n [1.0,114709.0,862...|   3.5| 3.857003386598107|\n [1.0,114709.0,862...|   3.5| 3.861008887814206|\n [1.0,114709.0,862...|   3.5| 3.860962945452714|\n [1.0,114709.0,862...|   3.5|3.8567224652479855|\n [1.0,114709.0,862...|   3.5|3.8635950213960495|\n+---------------------+------+------------------+\nonly showing top 5 rows\n\n</div>"
      ]
     },
     "metadata": {
      "application/vnd.databricks.v1+output": {
       "datasetInfos": [],
       "data": "<div class=\"ansiout\">+---------------------+------+------------------+\n|Independent Variables|rating|        prediction|\n+---------------------+------+------------------+\n| [1.0,114709.0,862...|   3.5| 3.857003386598107|\n| [1.0,114709.0,862...|   3.5| 3.861008887814206|\n| [1.0,114709.0,862...|   3.5| 3.860962945452714|\n| [1.0,114709.0,862...|   3.5|3.8567224652479855|\n| [1.0,114709.0,862...|   3.5|3.8635950213960495|\n+---------------------+------+------------------+\nonly showing top 5 rows\n\n</div>",
       "removedWidgets": [],
       "addedWidgets": {},
       "type": "html",
       "arguments": {}
      }
     },
     "output_type": "execute_result"
    }
   ],
   "source": [
    "pred=regressor.evaluate(test_data)\n",
    "pred.predictions.show(5)"
   ]
  },
  {
   "cell_type": "code",
   "execution_count": 0,
   "metadata": {
    "application/vnd.databricks.v1+cell": {
     "title": "",
     "showTitle": false,
     "inputWidgets": {},
     "nuid": "7c4d804a-da86-42f5-96d1-9bf0a6d3ed95"
    }
   },
   "outputs": [
    {
     "data": {
      "text/html": [
       "<style scoped>\n  .ansiout {\n    display: block;\n    unicode-bidi: embed;\n    white-space: pre-wrap;\n    word-wrap: break-word;\n    word-break: break-all;\n    font-family: \"Source Code Pro\", \"Menlo\", monospace;;\n    font-size: 13px;\n    color: #555;\n    margin-left: 4px;\n    line-height: 19px;\n  }\n</style>\n<div class=\"ansiout\">0.9434757242864568\n</div>"
      ]
     },
     "metadata": {
      "application/vnd.databricks.v1+output": {
       "datasetInfos": [],
       "data": "<div class=\"ansiout\">0.9434757242864568\n</div>",
       "removedWidgets": [],
       "addedWidgets": {},
       "type": "html",
       "arguments": {}
      }
     },
     "output_type": "execute_result"
    }
   ],
   "source": [
    "evaluator=RegressionEvaluator(labelCol=\"rating\",predictionCol=\"prediction\",metricName=\"rmse\")\n",
    "pred_result=regressor.transform(test_data)\n",
    "rmse=evaluator.evaluate(pred_result)\n",
    "print(rmse)"
   ]
  },
  {
   "cell_type": "code",
   "execution_count": 0,
   "metadata": {
    "application/vnd.databricks.v1+cell": {
     "title": "",
     "showTitle": false,
     "inputWidgets": {},
     "nuid": "3c5bc505-3e5a-4586-87e2-59e9c7a8827c"
    }
   },
   "outputs": [
    {
     "data": {
      "text/html": [
       "<style scoped>\n  .ansiout {\n    display: block;\n    unicode-bidi: embed;\n    white-space: pre-wrap;\n    word-wrap: break-word;\n    word-break: break-all;\n    font-family: \"Source Code Pro\", \"Menlo\", monospace;;\n    font-size: 13px;\n    color: #555;\n    margin-left: 4px;\n    line-height: 19px;\n  }\n</style>"
      ]
     },
     "metadata": {
      "application/vnd.databricks.v1+output": {
       "type": "ipynbError",
       "data": "",
       "errorSummary": "",
       "arguments": {}
      }
     },
     "output_type": "execute_result"
    }
   ],
   "source": [
    "#Applying Decision Tree Regressor."
   ]
  },
  {
   "cell_type": "code",
   "execution_count": 0,
   "metadata": {
    "application/vnd.databricks.v1+cell": {
     "title": "",
     "showTitle": false,
     "inputWidgets": {},
     "nuid": "15ec56ac-a752-4dd6-b42f-863f4b3e8c2e"
    }
   },
   "outputs": [
    {
     "data": {
      "text/html": [
       "<style scoped>\n  .ansiout {\n    display: block;\n    unicode-bidi: embed;\n    white-space: pre-wrap;\n    word-wrap: break-word;\n    word-break: break-all;\n    font-family: \"Source Code Pro\", \"Menlo\", monospace;;\n    font-size: 13px;\n    color: #555;\n    margin-left: 4px;\n    line-height: 19px;\n  }\n</style>\n<div class=\"ansiout\"></div>"
      ]
     },
     "metadata": {
      "application/vnd.databricks.v1+output": {
       "datasetInfos": [],
       "data": "<div class=\"ansiout\"></div>",
       "removedWidgets": [],
       "addedWidgets": {},
       "type": "html",
       "arguments": {}
      }
     },
     "output_type": "execute_result"
    }
   ],
   "source": [
    "dtr=DecisionTreeRegressor(featuresCol=\"Independent Variables\",labelCol=\"rating\")\n",
    "model=dtr.fit(train_data)"
   ]
  },
  {
   "cell_type": "code",
   "execution_count": 0,
   "metadata": {
    "application/vnd.databricks.v1+cell": {
     "title": "",
     "showTitle": false,
     "inputWidgets": {},
     "nuid": "8631ace3-79a6-4404-b327-ab1de1869e81"
    }
   },
   "outputs": [
    {
     "data": {
      "text/html": [
       "<style scoped>\n  .ansiout {\n    display: block;\n    unicode-bidi: embed;\n    white-space: pre-wrap;\n    word-wrap: break-word;\n    word-break: break-all;\n    font-family: \"Source Code Pro\", \"Menlo\", monospace;;\n    font-size: 13px;\n    color: #555;\n    margin-left: 4px;\n    line-height: 19px;\n  }\n</style>\n<div class=\"ansiout\">Feature Importances: &lt;bound method SparseVector.toArray of SparseVector(6, {0: 0.9058, 3: 0.0941, 4: 0.0})&gt;\n</div>"
      ]
     },
     "metadata": {
      "application/vnd.databricks.v1+output": {
       "datasetInfos": [],
       "data": "<div class=\"ansiout\">Feature Importances: &lt;bound method SparseVector.toArray of SparseVector(6, {0: 0.9058, 3: 0.0941, 4: 0.0})&gt;\n</div>",
       "removedWidgets": [],
       "addedWidgets": {},
       "type": "html",
       "arguments": {}
      }
     },
     "output_type": "execute_result"
    }
   ],
   "source": [
    "print(\"Feature Importances:\",model.featureImportances.toArray)"
   ]
  },
  {
   "cell_type": "code",
   "execution_count": 0,
   "metadata": {
    "application/vnd.databricks.v1+cell": {
     "title": "",
     "showTitle": false,
     "inputWidgets": {},
     "nuid": "68e61286-6bb6-4e68-ade4-3b73493d1471"
    }
   },
   "outputs": [
    {
     "data": {
      "text/html": [
       "<style scoped>\n  .ansiout {\n    display: block;\n    unicode-bidi: embed;\n    white-space: pre-wrap;\n    word-wrap: break-word;\n    word-break: break-all;\n    font-family: \"Source Code Pro\", \"Menlo\", monospace;;\n    font-size: 13px;\n    color: #555;\n    margin-left: 4px;\n    line-height: 19px;\n  }\n</style>\n<div class=\"ansiout\">+---------------------+------+-----------------+\nIndependent Variables|rating|       prediction|\n+---------------------+------+-----------------+\n [1.0,114709.0,862...|   3.5|3.986653570603189|\n [1.0,114709.0,862...|   3.5|3.986653570603189|\n [1.0,114709.0,862...|   3.5|3.986653570603189|\n [1.0,114709.0,862...|   3.5|3.986653570603189|\n [1.0,114709.0,862...|   3.5|3.986653570603189|\n+---------------------+------+-----------------+\nonly showing top 5 rows\n\n</div>"
      ]
     },
     "metadata": {
      "application/vnd.databricks.v1+output": {
       "datasetInfos": [],
       "data": "<div class=\"ansiout\">+---------------------+------+-----------------+\n|Independent Variables|rating|       prediction|\n+---------------------+------+-----------------+\n| [1.0,114709.0,862...|   3.5|3.986653570603189|\n| [1.0,114709.0,862...|   3.5|3.986653570603189|\n| [1.0,114709.0,862...|   3.5|3.986653570603189|\n| [1.0,114709.0,862...|   3.5|3.986653570603189|\n| [1.0,114709.0,862...|   3.5|3.986653570603189|\n+---------------------+------+-----------------+\nonly showing top 5 rows\n\n</div>",
       "removedWidgets": [],
       "addedWidgets": {},
       "type": "html",
       "arguments": {}
      }
     },
     "output_type": "execute_result"
    }
   ],
   "source": [
    "predicts=model.transform(test_data)\n",
    "predicts.show(5)"
   ]
  },
  {
   "cell_type": "code",
   "execution_count": 0,
   "metadata": {
    "application/vnd.databricks.v1+cell": {
     "title": "",
     "showTitle": false,
     "inputWidgets": {},
     "nuid": "43232f32-dea3-494a-9e6b-21960a396528"
    }
   },
   "outputs": [
    {
     "data": {
      "text/html": [
       "<style scoped>\n  .ansiout {\n    display: block;\n    unicode-bidi: embed;\n    white-space: pre-wrap;\n    word-wrap: break-word;\n    word-break: break-all;\n    font-family: \"Source Code Pro\", \"Menlo\", monospace;;\n    font-size: 13px;\n    color: #555;\n    margin-left: 4px;\n    line-height: 19px;\n  }\n</style>\n<div class=\"ansiout\">0.935723424755869\n</div>"
      ]
     },
     "metadata": {
      "application/vnd.databricks.v1+output": {
       "datasetInfos": [],
       "data": "<div class=\"ansiout\">0.935723424755869\n</div>",
       "removedWidgets": [],
       "addedWidgets": {},
       "type": "html",
       "arguments": {}
      }
     },
     "output_type": "execute_result"
    }
   ],
   "source": [
    "new_evaluator=RegressionEvaluator(labelCol=\"rating\",predictionCol=\"prediction\",metricName=\"rmse\")\n",
    "rmse_value=new_evaluator.evaluate(predicts)\n",
    "print(rmse_value)"
   ]
  },
  {
   "cell_type": "code",
   "execution_count": 0,
   "metadata": {
    "application/vnd.databricks.v1+cell": {
     "title": "",
     "showTitle": false,
     "inputWidgets": {},
     "nuid": "20b5a987-d0bc-4dc3-9dc3-79670a208b2e"
    }
   },
   "outputs": [
    {
     "data": {
      "text/html": [
       "<style scoped>\n  .ansiout {\n    display: block;\n    unicode-bidi: embed;\n    white-space: pre-wrap;\n    word-wrap: break-word;\n    word-break: break-all;\n    font-family: \"Source Code Pro\", \"Menlo\", monospace;;\n    font-size: 13px;\n    color: #555;\n    margin-left: 4px;\n    line-height: 19px;\n  }\n</style>"
      ]
     },
     "metadata": {
      "application/vnd.databricks.v1+output": {
       "type": "ipynbError",
       "data": "",
       "errorSummary": "",
       "arguments": {}
      }
     },
     "output_type": "execute_result"
    }
   ],
   "source": [
    "#Applying Random Forest Regressor."
   ]
  },
  {
   "cell_type": "code",
   "execution_count": 0,
   "metadata": {
    "application/vnd.databricks.v1+cell": {
     "title": "",
     "showTitle": false,
     "inputWidgets": {},
     "nuid": "1b39fb3e-372d-49e9-92d4-072f31a4cb5a"
    }
   },
   "outputs": [
    {
     "data": {
      "text/html": [
       "<style scoped>\n  .ansiout {\n    display: block;\n    unicode-bidi: embed;\n    white-space: pre-wrap;\n    word-wrap: break-word;\n    word-break: break-all;\n    font-family: \"Source Code Pro\", \"Menlo\", monospace;;\n    font-size: 13px;\n    color: #555;\n    margin-left: 4px;\n    line-height: 19px;\n  }\n</style>\n<div class=\"ansiout\"></div>"
      ]
     },
     "metadata": {
      "application/vnd.databricks.v1+output": {
       "datasetInfos": [],
       "data": "<div class=\"ansiout\"></div>",
       "removedWidgets": [],
       "addedWidgets": {},
       "type": "html",
       "arguments": {}
      }
     },
     "output_type": "execute_result"
    }
   ],
   "source": [
    "rfr=RandomForestRegressor(featuresCol=\"Independent Variables\",labelCol=\"rating\")\n",
    "new_model=rfr.fit(train_data)"
   ]
  },
  {
   "cell_type": "code",
   "execution_count": 0,
   "metadata": {
    "application/vnd.databricks.v1+cell": {
     "title": "",
     "showTitle": false,
     "inputWidgets": {},
     "nuid": "5688983f-c874-482b-9ae2-74e56fe3f289"
    }
   },
   "outputs": [
    {
     "data": {
      "text/html": [
       "<style scoped>\n  .ansiout {\n    display: block;\n    unicode-bidi: embed;\n    white-space: pre-wrap;\n    word-wrap: break-word;\n    word-break: break-all;\n    font-family: \"Source Code Pro\", \"Menlo\", monospace;;\n    font-size: 13px;\n    color: #555;\n    margin-left: 4px;\n    line-height: 19px;\n  }\n</style>\n<div class=\"ansiout\">Feature Importances : &lt;bound method SparseVector.toArray of SparseVector(6, {0: 0.4968, 1: 0.1855, 2: 0.2884, 3: 0.0267, 4: 0.0001, 5: 0.0025})&gt;\n</div>"
      ]
     },
     "metadata": {
      "application/vnd.databricks.v1+output": {
       "datasetInfos": [],
       "data": "<div class=\"ansiout\">Feature Importances : &lt;bound method SparseVector.toArray of SparseVector(6, {0: 0.4968, 1: 0.1855, 2: 0.2884, 3: 0.0267, 4: 0.0001, 5: 0.0025})&gt;\n</div>",
       "removedWidgets": [],
       "addedWidgets": {},
       "type": "html",
       "arguments": {}
      }
     },
     "output_type": "execute_result"
    }
   ],
   "source": [
    "print(\"Feature Importances :\",new_model.featureImportances.toArray)"
   ]
  },
  {
   "cell_type": "code",
   "execution_count": 0,
   "metadata": {
    "application/vnd.databricks.v1+cell": {
     "title": "",
     "showTitle": false,
     "inputWidgets": {},
     "nuid": "eb79f9f3-9182-49ce-b453-fe75148ffcc2"
    }
   },
   "outputs": [
    {
     "data": {
      "text/html": [
       "<style scoped>\n  .ansiout {\n    display: block;\n    unicode-bidi: embed;\n    white-space: pre-wrap;\n    word-wrap: break-word;\n    word-break: break-all;\n    font-family: \"Source Code Pro\", \"Menlo\", monospace;;\n    font-size: 13px;\n    color: #555;\n    margin-left: 4px;\n    line-height: 19px;\n  }\n</style>\n<div class=\"ansiout\">+---------------------+------+------------------+\nIndependent Variables|rating|        prediction|\n+---------------------+------+------------------+\n [1.0,114709.0,862...|   3.5|3.9224820025680835|\n [1.0,114709.0,862...|   3.5| 3.925927090909218|\n [1.0,114709.0,862...|   3.5| 3.925034923817216|\n [1.0,114709.0,862...|   3.5|3.9218259560427584|\n [1.0,114709.0,862...|   3.5|3.9266741896042547|\n+---------------------+------+------------------+\nonly showing top 5 rows\n\n</div>"
      ]
     },
     "metadata": {
      "application/vnd.databricks.v1+output": {
       "datasetInfos": [],
       "data": "<div class=\"ansiout\">+---------------------+------+------------------+\n|Independent Variables|rating|        prediction|\n+---------------------+------+------------------+\n| [1.0,114709.0,862...|   3.5|3.9224820025680835|\n| [1.0,114709.0,862...|   3.5| 3.925927090909218|\n| [1.0,114709.0,862...|   3.5| 3.925034923817216|\n| [1.0,114709.0,862...|   3.5|3.9218259560427584|\n| [1.0,114709.0,862...|   3.5|3.9266741896042547|\n+---------------------+------+------------------+\nonly showing top 5 rows\n\n</div>",
       "removedWidgets": [],
       "addedWidgets": {},
       "type": "html",
       "arguments": {}
      }
     },
     "output_type": "execute_result"
    }
   ],
   "source": [
    "new_predicts=new_model.transform(test_data)\n",
    "new_predicts.show(5)"
   ]
  },
  {
   "cell_type": "code",
   "execution_count": 0,
   "metadata": {
    "application/vnd.databricks.v1+cell": {
     "title": "",
     "showTitle": false,
     "inputWidgets": {},
     "nuid": "6aed9a50-6a16-42a8-abbc-0e166b98aa65"
    }
   },
   "outputs": [
    {
     "data": {
      "text/html": [
       "<style scoped>\n  .ansiout {\n    display: block;\n    unicode-bidi: embed;\n    white-space: pre-wrap;\n    word-wrap: break-word;\n    word-break: break-all;\n    font-family: \"Source Code Pro\", \"Menlo\", monospace;;\n    font-size: 13px;\n    color: #555;\n    margin-left: 4px;\n    line-height: 19px;\n  }\n</style>\n<div class=\"ansiout\">0.9387521706989937\n</div>"
      ]
     },
     "metadata": {
      "application/vnd.databricks.v1+output": {
       "datasetInfos": [],
       "data": "<div class=\"ansiout\">0.9387521706989937\n</div>",
       "removedWidgets": [],
       "addedWidgets": {},
       "type": "html",
       "arguments": {}
      }
     },
     "output_type": "execute_result"
    }
   ],
   "source": [
    "evaluator2=RegressionEvaluator(labelCol=\"rating\",predictionCol=\"prediction\",metricName=\"rmse\")\n",
    "calculated_rmse=evaluator2.evaluate(new_predicts)\n",
    "print(calculated_rmse)"
   ]
  },
  {
   "cell_type": "code",
   "execution_count": 0,
   "metadata": {
    "application/vnd.databricks.v1+cell": {
     "title": "",
     "showTitle": false,
     "inputWidgets": {},
     "nuid": "6a079d57-a37c-4c4d-98ff-9dfa87942ab4"
    }
   },
   "outputs": [
    {
     "data": {
      "text/html": [
       "<style scoped>\n  .ansiout {\n    display: block;\n    unicode-bidi: embed;\n    white-space: pre-wrap;\n    word-wrap: break-word;\n    word-break: break-all;\n    font-family: \"Source Code Pro\", \"Menlo\", monospace;;\n    font-size: 13px;\n    color: #555;\n    margin-left: 4px;\n    line-height: 19px;\n  }\n</style>"
      ]
     },
     "metadata": {
      "application/vnd.databricks.v1+output": {
       "type": "ipynbError",
       "data": "",
       "errorSummary": "",
       "arguments": {}
      }
     },
     "output_type": "execute_result"
    }
   ],
   "source": [
    "# Applying Gradient-boosted tree regression."
   ]
  },
  {
   "cell_type": "code",
   "execution_count": 0,
   "metadata": {
    "application/vnd.databricks.v1+cell": {
     "title": "",
     "showTitle": false,
     "inputWidgets": {},
     "nuid": "0c28cefe-56eb-4ce2-b172-a60bba3dfc7b"
    }
   },
   "outputs": [
    {
     "data": {
      "text/html": [
       "<style scoped>\n  .ansiout {\n    display: block;\n    unicode-bidi: embed;\n    white-space: pre-wrap;\n    word-wrap: break-word;\n    word-break: break-all;\n    font-family: \"Source Code Pro\", \"Menlo\", monospace;;\n    font-size: 13px;\n    color: #555;\n    margin-left: 4px;\n    line-height: 19px;\n  }\n</style>\n<div class=\"ansiout\"></div>"
      ]
     },
     "metadata": {
      "application/vnd.databricks.v1+output": {
       "datasetInfos": [],
       "data": "<div class=\"ansiout\"></div>",
       "removedWidgets": [],
       "addedWidgets": {},
       "type": "html",
       "arguments": {}
      }
     },
     "output_type": "execute_result"
    }
   ],
   "source": [
    "gbt=GBTRegressor(featuresCol=\"Independent Variables\",labelCol=\"rating\",maxIter=10)\n",
    "gbt_model=gbt.fit(train_data)"
   ]
  },
  {
   "cell_type": "code",
   "execution_count": 0,
   "metadata": {
    "application/vnd.databricks.v1+cell": {
     "title": "",
     "showTitle": false,
     "inputWidgets": {},
     "nuid": "60b6031a-8681-4738-ad1e-d8c109dc4cbd"
    }
   },
   "outputs": [
    {
     "data": {
      "text/html": [
       "<style scoped>\n  .ansiout {\n    display: block;\n    unicode-bidi: embed;\n    white-space: pre-wrap;\n    word-wrap: break-word;\n    word-break: break-all;\n    font-family: \"Source Code Pro\", \"Menlo\", monospace;;\n    font-size: 13px;\n    color: #555;\n    margin-left: 4px;\n    line-height: 19px;\n  }\n</style>\n<div class=\"ansiout\">+---------------------+------+------------------+\nIndependent Variables|rating|        prediction|\n+---------------------+------+------------------+\n [1.0,114709.0,862...|   3.5|3.9164602292679564|\n [1.0,114709.0,862...|   3.5|3.9164602292679564|\n [1.0,114709.0,862...|   3.5|3.9164602292679564|\n [1.0,114709.0,862...|   3.5|3.9141464051393604|\n [1.0,114709.0,862...|   3.5|3.9164602292679564|\n+---------------------+------+------------------+\nonly showing top 5 rows\n\n</div>"
      ]
     },
     "metadata": {
      "application/vnd.databricks.v1+output": {
       "datasetInfos": [],
       "data": "<div class=\"ansiout\">+---------------------+------+------------------+\n|Independent Variables|rating|        prediction|\n+---------------------+------+------------------+\n| [1.0,114709.0,862...|   3.5|3.9164602292679564|\n| [1.0,114709.0,862...|   3.5|3.9164602292679564|\n| [1.0,114709.0,862...|   3.5|3.9164602292679564|\n| [1.0,114709.0,862...|   3.5|3.9141464051393604|\n| [1.0,114709.0,862...|   3.5|3.9164602292679564|\n+---------------------+------+------------------+\nonly showing top 5 rows\n\n</div>",
       "removedWidgets": [],
       "addedWidgets": {},
       "type": "html",
       "arguments": {}
      }
     },
     "output_type": "execute_result"
    }
   ],
   "source": [
    "gbt_predicts=gbt_model.transform(test_data)\n",
    "gbt_predicts.show(5)"
   ]
  },
  {
   "cell_type": "code",
   "execution_count": 0,
   "metadata": {
    "application/vnd.databricks.v1+cell": {
     "title": "",
     "showTitle": false,
     "inputWidgets": {},
     "nuid": "e3ae8560-3570-4d81-930f-e4b5bc1cce23"
    }
   },
   "outputs": [
    {
     "data": {
      "text/html": [
       "<style scoped>\n  .ansiout {\n    display: block;\n    unicode-bidi: embed;\n    white-space: pre-wrap;\n    word-wrap: break-word;\n    word-break: break-all;\n    font-family: \"Source Code Pro\", \"Menlo\", monospace;;\n    font-size: 13px;\n    color: #555;\n    margin-left: 4px;\n    line-height: 19px;\n  }\n</style>\n<div class=\"ansiout\">0.9321227519475505\n</div>"
      ]
     },
     "metadata": {
      "application/vnd.databricks.v1+output": {
       "datasetInfos": [],
       "data": "<div class=\"ansiout\">0.9321227519475505\n</div>",
       "removedWidgets": [],
       "addedWidgets": {},
       "type": "html",
       "arguments": {}
      }
     },
     "output_type": "execute_result"
    }
   ],
   "source": [
    "gbt_evaluator=RegressionEvaluator(labelCol=\"rating\",predictionCol=\"prediction\",metricName=\"rmse\")\n",
    "gbt_rmse=gbt_evaluator.evaluate(gbt_predicts)\n",
    "print(gbt_rmse)"
   ]
  },
  {
   "cell_type": "code",
   "execution_count": 0,
   "metadata": {
    "application/vnd.databricks.v1+cell": {
     "title": "",
     "showTitle": false,
     "inputWidgets": {},
     "nuid": "7b309f76-4b0c-4fff-a66c-c87255f238a7"
    }
   },
   "outputs": [
    {
     "data": {
      "text/html": [
       "<style scoped>\n  .ansiout {\n    display: block;\n    unicode-bidi: embed;\n    white-space: pre-wrap;\n    word-wrap: break-word;\n    word-break: break-all;\n    font-family: \"Source Code Pro\", \"Menlo\", monospace;;\n    font-size: 13px;\n    color: #555;\n    margin-left: 4px;\n    line-height: 19px;\n  }\n</style>"
      ]
     },
     "metadata": {
      "application/vnd.databricks.v1+output": {
       "type": "ipynbError",
       "data": "",
       "errorSummary": "",
       "arguments": {}
      }
     },
     "output_type": "execute_result"
    }
   ],
   "source": [
    "#Introducing MLFlow with Databricks.\n",
    "# pip install mlflow"
   ]
  },
  {
   "cell_type": "code",
   "execution_count": 0,
   "metadata": {
    "application/vnd.databricks.v1+cell": {
     "title": "",
     "showTitle": false,
     "inputWidgets": {},
     "nuid": "2fe2e2ee-7b70-4a5d-afe9-f5d028ff8ac0"
    }
   },
   "outputs": [
    {
     "data": {
      "text/html": [
       "<style scoped>\n  .ansiout {\n    display: block;\n    unicode-bidi: embed;\n    white-space: pre-wrap;\n    word-wrap: break-word;\n    word-break: break-all;\n    font-family: \"Source Code Pro\", \"Menlo\", monospace;;\n    font-size: 13px;\n    color: #555;\n    margin-left: 4px;\n    line-height: 19px;\n  }\n</style>\n<div class=\"ansiout\"></div>"
      ]
     },
     "metadata": {
      "application/vnd.databricks.v1+output": {
       "datasetInfos": [],
       "data": "<div class=\"ansiout\"></div>",
       "removedWidgets": [],
       "addedWidgets": {},
       "type": "html",
       "arguments": {}
      }
     },
     "output_type": "execute_result"
    }
   ],
   "source": [
    "import mlflow"
   ]
  },
  {
   "cell_type": "code",
   "execution_count": 0,
   "metadata": {
    "application/vnd.databricks.v1+cell": {
     "title": "",
     "showTitle": false,
     "inputWidgets": {},
     "nuid": "526e0e13-cc94-49b2-b7c6-621cf67a3233"
    }
   },
   "outputs": [
    {
     "data": {
      "text/html": [
       "<style scoped>\n  .ansiout {\n    display: block;\n    unicode-bidi: embed;\n    white-space: pre-wrap;\n    word-wrap: break-word;\n    word-break: break-all;\n    font-family: \"Source Code Pro\", \"Menlo\", monospace;;\n    font-size: 13px;\n    color: #555;\n    margin-left: 4px;\n    line-height: 19px;\n  }\n</style>\n<div class=\"ansiout\">[-0.0818688695978008,0.0002614291341638032,-1.4080008813830507e-05,-3.2558461439554663e-06,-1.3208031950784742e-06,0.006948767196186226]\n-26.002386816277614\n/databricks/spark/python/pyspark/sql/context.py:120: DeprecationWarning: Deprecated in 3.0.0. Use SparkSession.builder.getOrCreate() instead.\n  DeprecationWarning)\n+---------------------+------+------------------+\nIndependent Variables|rating|        prediction|\n+---------------------+------+------------------+\n [1.0,114709.0,862...|   3.5| 3.892073841884173|\n [1.0,114709.0,862...|   3.5|  3.89328063052114|\n [1.0,114709.0,862...|   3.5|3.8932601289707733|\n [1.0,114709.0,862...|   3.5| 3.891967586634898|\n [1.0,114709.0,862...|   3.5| 3.894048670772772|\n+---------------------+------+------------------+\nonly showing top 5 rows\n\n0.9418258830180407\n</div>"
      ]
     },
     "metadata": {
      "application/vnd.databricks.v1+output": {
       "datasetInfos": [],
       "data": "<div class=\"ansiout\">[-0.0818688695978008,0.0002614291341638032,-1.4080008813830507e-05,-3.2558461439554663e-06,-1.3208031950784742e-06,0.006948767196186226]\n-26.002386816277614\n/databricks/spark/python/pyspark/sql/context.py:120: DeprecationWarning: Deprecated in 3.0.0. Use SparkSession.builder.getOrCreate() instead.\n  DeprecationWarning)\n+---------------------+------+------------------+\n|Independent Variables|rating|        prediction|\n+---------------------+------+------------------+\n| [1.0,114709.0,862...|   3.5| 3.892073841884173|\n| [1.0,114709.0,862...|   3.5|  3.89328063052114|\n| [1.0,114709.0,862...|   3.5|3.8932601289707733|\n| [1.0,114709.0,862...|   3.5| 3.891967586634898|\n| [1.0,114709.0,862...|   3.5| 3.894048670772772|\n+---------------------+------+------------------+\nonly showing top 5 rows\n\n0.9418258830180407\n</div>",
       "removedWidgets": [],
       "addedWidgets": {},
       "type": "html",
       "arguments": {}
      }
     },
     "output_type": "execute_result"
    }
   ],
   "source": [
    "with mlflow.start_run():\n",
    "  lr1=LinearRegression(featuresCol=\"Independent Variables\",labelCol=\"rating\",maxIter=5,regParam=0.1)\n",
    "  regressor1=lr1.fit(train_data)\n",
    "  print(regressor1.coefficients)\n",
    "  print(regressor1.intercept)\n",
    "  pred1=regressor1.evaluate(test_data)\n",
    "  pred1.predictions.show(5)\n",
    "  evaluator1=RegressionEvaluator(labelCol=\"rating\",predictionCol=\"prediction\",metricName=\"rmse\")\n",
    "  pred_result1=regressor1.transform(test_data)\n",
    "  rmse1=evaluator1.evaluate(pred_result1)\n",
    "  print(rmse1)"
   ]
  },
  {
   "cell_type": "code",
   "execution_count": 0,
   "metadata": {
    "application/vnd.databricks.v1+cell": {
     "title": "",
     "showTitle": false,
     "inputWidgets": {},
     "nuid": "d4ce9c18-8f52-42e3-8c62-a91b549378c6"
    }
   },
   "outputs": [
    {
     "data": {
      "text/html": [
       "<style scoped>\n  .ansiout {\n    display: block;\n    unicode-bidi: embed;\n    white-space: pre-wrap;\n    word-wrap: break-word;\n    word-break: break-all;\n    font-family: \"Source Code Pro\", \"Menlo\", monospace;;\n    font-size: 13px;\n    color: #555;\n    margin-left: 4px;\n    line-height: 19px;\n  }\n</style>\n<div class=\"ansiout\">Feature Importances: &lt;bound method SparseVector.toArray of SparseVector(6, {0: 0.9058, 3: 0.0941, 4: 0.0})&gt;\n+---------------------+------+-----------------+\nIndependent Variables|rating|       prediction|\n+---------------------+------+-----------------+\n [1.0,114709.0,862...|   3.5|3.986653570603189|\n [1.0,114709.0,862...|   3.5|3.986653570603189|\n [1.0,114709.0,862...|   3.5|3.986653570603189|\n [1.0,114709.0,862...|   3.5|3.986653570603189|\n [1.0,114709.0,862...|   3.5|3.986653570603189|\n+---------------------+------+-----------------+\nonly showing top 5 rows\n\n0.935723424755869\n</div>"
      ]
     },
     "metadata": {
      "application/vnd.databricks.v1+output": {
       "datasetInfos": [],
       "data": "<div class=\"ansiout\">Feature Importances: &lt;bound method SparseVector.toArray of SparseVector(6, {0: 0.9058, 3: 0.0941, 4: 0.0})&gt;\n+---------------------+------+-----------------+\n|Independent Variables|rating|       prediction|\n+---------------------+------+-----------------+\n| [1.0,114709.0,862...|   3.5|3.986653570603189|\n| [1.0,114709.0,862...|   3.5|3.986653570603189|\n| [1.0,114709.0,862...|   3.5|3.986653570603189|\n| [1.0,114709.0,862...|   3.5|3.986653570603189|\n| [1.0,114709.0,862...|   3.5|3.986653570603189|\n+---------------------+------+-----------------+\nonly showing top 5 rows\n\n0.935723424755869\n</div>",
       "removedWidgets": [],
       "addedWidgets": {},
       "type": "html",
       "arguments": {}
      }
     },
     "output_type": "execute_result"
    }
   ],
   "source": [
    "with mlflow.start_run():\n",
    "  dtr1=DecisionTreeRegressor(featuresCol=\"Independent Variables\",labelCol=\"rating\")\n",
    "  model1=dtr1.fit(train_data)\n",
    "  print(\"Feature Importances:\",model1.featureImportances.toArray)\n",
    "  predicts1=model1.transform(test_data)\n",
    "  predicts1.show(5)\n",
    "  new_evaluator1=RegressionEvaluator(labelCol=\"rating\",predictionCol=\"prediction\",metricName=\"rmse\")\n",
    "  rmse_value1=new_evaluator1.evaluate(predicts1)\n",
    "  print(rmse_value1)"
   ]
  },
  {
   "cell_type": "code",
   "execution_count": 0,
   "metadata": {
    "application/vnd.databricks.v1+cell": {
     "title": "",
     "showTitle": false,
     "inputWidgets": {},
     "nuid": "7d2d2493-5e52-43dd-8ce1-c2be4b5ed33a"
    }
   },
   "outputs": [
    {
     "data": {
      "text/html": [
       "<style scoped>\n  .ansiout {\n    display: block;\n    unicode-bidi: embed;\n    white-space: pre-wrap;\n    word-wrap: break-word;\n    word-break: break-all;\n    font-family: \"Source Code Pro\", \"Menlo\", monospace;;\n    font-size: 13px;\n    color: #555;\n    margin-left: 4px;\n    line-height: 19px;\n  }\n</style>\n<div class=\"ansiout\">Feature Importances : &lt;bound method SparseVector.toArray of SparseVector(6, {0: 0.4968, 1: 0.1855, 2: 0.2884, 3: 0.0267, 4: 0.0001, 5: 0.0025})&gt;\n+---------------------+------+------------------+\nIndependent Variables|rating|        prediction|\n+---------------------+------+------------------+\n [1.0,114709.0,862...|   3.5|3.9224820025680835|\n [1.0,114709.0,862...|   3.5| 3.925927090909218|\n [1.0,114709.0,862...|   3.5| 3.925034923817216|\n [1.0,114709.0,862...|   3.5|3.9218259560427584|\n [1.0,114709.0,862...|   3.5|3.9266741896042547|\n+---------------------+------+------------------+\nonly showing top 5 rows\n\n0.9387521706989937\n</div>"
      ]
     },
     "metadata": {
      "application/vnd.databricks.v1+output": {
       "datasetInfos": [],
       "data": "<div class=\"ansiout\">Feature Importances : &lt;bound method SparseVector.toArray of SparseVector(6, {0: 0.4968, 1: 0.1855, 2: 0.2884, 3: 0.0267, 4: 0.0001, 5: 0.0025})&gt;\n+---------------------+------+------------------+\n|Independent Variables|rating|        prediction|\n+---------------------+------+------------------+\n| [1.0,114709.0,862...|   3.5|3.9224820025680835|\n| [1.0,114709.0,862...|   3.5| 3.925927090909218|\n| [1.0,114709.0,862...|   3.5| 3.925034923817216|\n| [1.0,114709.0,862...|   3.5|3.9218259560427584|\n| [1.0,114709.0,862...|   3.5|3.9266741896042547|\n+---------------------+------+------------------+\nonly showing top 5 rows\n\n0.9387521706989937\n</div>",
       "removedWidgets": [],
       "addedWidgets": {},
       "type": "html",
       "arguments": {}
      }
     },
     "output_type": "execute_result"
    }
   ],
   "source": [
    "with mlflow.start_run():\n",
    "  rfr1=RandomForestRegressor(featuresCol=\"Independent Variables\",labelCol=\"rating\")\n",
    "  new_model1=rfr1.fit(train_data)\n",
    "  print(\"Feature Importances :\",new_model1.featureImportances.toArray)\n",
    "  new_predicts1=new_model1.transform(test_data)\n",
    "  new_predicts1.show(5)\n",
    "  new_evaluator2=RegressionEvaluator(labelCol=\"rating\",predictionCol=\"prediction\",metricName=\"rmse\")\n",
    "  calculated_rmse1=new_evaluator2.evaluate(new_predicts1)\n",
    "  print(calculated_rmse1)"
   ]
  },
  {
   "cell_type": "code",
   "execution_count": 0,
   "metadata": {
    "application/vnd.databricks.v1+cell": {
     "title": "",
     "showTitle": false,
     "inputWidgets": {},
     "nuid": "4402c509-cbe5-4fe0-afe1-7b70efbad20d"
    }
   },
   "outputs": [
    {
     "data": {
      "text/html": [
       "<style scoped>\n  .ansiout {\n    display: block;\n    unicode-bidi: embed;\n    white-space: pre-wrap;\n    word-wrap: break-word;\n    word-break: break-all;\n    font-family: \"Source Code Pro\", \"Menlo\", monospace;;\n    font-size: 13px;\n    color: #555;\n    margin-left: 4px;\n    line-height: 19px;\n  }\n</style>\n<div class=\"ansiout\">+---------------------+------+------------------+\nIndependent Variables|rating|        prediction|\n+---------------------+------+------------------+\n [1.0,114709.0,862...|   3.5|3.9164602292679564|\n [1.0,114709.0,862...|   3.5|3.9164602292679564|\n [1.0,114709.0,862...|   3.5|3.9164602292679564|\n [1.0,114709.0,862...|   3.5|3.9141464051393604|\n [1.0,114709.0,862...|   3.5|3.9164602292679564|\n+---------------------+------+------------------+\nonly showing top 5 rows\n\n0.9321227519475505\n</div>"
      ]
     },
     "metadata": {
      "application/vnd.databricks.v1+output": {
       "datasetInfos": [],
       "data": "<div class=\"ansiout\">+---------------------+------+------------------+\n|Independent Variables|rating|        prediction|\n+---------------------+------+------------------+\n| [1.0,114709.0,862...|   3.5|3.9164602292679564|\n| [1.0,114709.0,862...|   3.5|3.9164602292679564|\n| [1.0,114709.0,862...|   3.5|3.9164602292679564|\n| [1.0,114709.0,862...|   3.5|3.9141464051393604|\n| [1.0,114709.0,862...|   3.5|3.9164602292679564|\n+---------------------+------+------------------+\nonly showing top 5 rows\n\n0.9321227519475505\n</div>",
       "removedWidgets": [],
       "addedWidgets": {},
       "type": "html",
       "arguments": {}
      }
     },
     "output_type": "execute_result"
    }
   ],
   "source": [
    "with mlflow.start_run():\n",
    "  gbt1=GBTRegressor(featuresCol=\"Independent Variables\",labelCol=\"rating\",maxIter=10)\n",
    "  gbt_model1=gbt1.fit(train_data)\n",
    "  gbt_predicts1=gbt_model1.transform(test_data)\n",
    "  gbt_predicts1.show(5)\n",
    "  gbt_evaluator1=RegressionEvaluator(labelCol=\"rating\",predictionCol=\"prediction\",metricName=\"rmse\")\n",
    "  gbt_rmse1=gbt_evaluator1.evaluate(gbt_predicts1)\n",
    "  print(gbt_rmse1)"
   ]
  },
  {
   "cell_type": "code",
   "execution_count": 0,
   "metadata": {
    "application/vnd.databricks.v1+cell": {
     "title": "",
     "showTitle": false,
     "inputWidgets": {},
     "nuid": "c3a598f1-e490-4bae-9134-7d64abee14d0"
    }
   },
   "outputs": [
    {
     "data": {
      "text/html": [
       "<style scoped>\n  .ansiout {\n    display: block;\n    unicode-bidi: embed;\n    white-space: pre-wrap;\n    word-wrap: break-word;\n    word-break: break-all;\n    font-family: \"Source Code Pro\", \"Menlo\", monospace;;\n    font-size: 13px;\n    color: #555;\n    margin-left: 4px;\n    line-height: 19px;\n  }\n</style>"
      ]
     },
     "metadata": {
      "application/vnd.databricks.v1+output": {
       "type": "ipynbError",
       "data": "",
       "errorSummary": "",
       "arguments": {}
      }
     },
     "output_type": "execute_result"
    }
   ],
   "source": [
    ""
   ]
  }
 ],
 "metadata": {
  "application/vnd.databricks.v1+notebook": {
   "notebookName": "Movie Dataset Regression Models",
   "dashboards": [],
   "language": "python",
   "widgets": {},
   "notebookOrigID": 9.5474814912117E13
  }
 },
 "nbformat": 4,
 "nbformat_minor": 0
}

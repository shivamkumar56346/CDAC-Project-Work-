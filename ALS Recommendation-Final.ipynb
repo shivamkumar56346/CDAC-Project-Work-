{
 "cells": [
  {
   "cell_type": "code",
   "execution_count": 0,
   "metadata": {
    "application/vnd.databricks.v1+cell": {
     "title": "",
     "showTitle": false,
     "inputWidgets": {},
     "nuid": "4edd0d1a-2594-42bb-9a28-25b17cc818f2"
    }
   },
   "outputs": [
    {
     "data": {
      "text/html": [
       "<style scoped>\n  .ansiout {\n    display: block;\n    unicode-bidi: embed;\n    white-space: pre-wrap;\n    word-wrap: break-word;\n    word-break: break-all;\n    font-family: \"Source Code Pro\", \"Menlo\", monospace;;\n    font-size: 13px;\n    color: #555;\n    margin-left: 4px;\n    line-height: 19px;\n  }\n</style>\n<div class=\"ansiout\"></div>"
      ]
     },
     "metadata": {
      "application/vnd.databricks.v1+output": {
       "datasetInfos": [],
       "data": "<div class=\"ansiout\"></div>",
       "removedWidgets": [],
       "addedWidgets": {},
       "type": "html",
       "arguments": {}
      }
     },
     "output_type": "execute_result"
    }
   ],
   "source": [
    "from pyspark.sql import SparkSession,functions as func"
   ]
  },
  {
   "cell_type": "code",
   "execution_count": 0,
   "metadata": {
    "application/vnd.databricks.v1+cell": {
     "title": "",
     "showTitle": false,
     "inputWidgets": {},
     "nuid": "3cefc497-66a3-4bbb-958c-caeee287e498"
    }
   },
   "outputs": [
    {
     "data": {
      "text/html": [
       "<style scoped>\n  .ansiout {\n    display: block;\n    unicode-bidi: embed;\n    white-space: pre-wrap;\n    word-wrap: break-word;\n    word-break: break-all;\n    font-family: \"Source Code Pro\", \"Menlo\", monospace;;\n    font-size: 13px;\n    color: #555;\n    margin-left: 4px;\n    line-height: 19px;\n  }\n</style>\n<div class=\"ansiout\"></div>"
      ]
     },
     "metadata": {
      "application/vnd.databricks.v1+output": {
       "datasetInfos": [],
       "data": "<div class=\"ansiout\"></div>",
       "removedWidgets": [],
       "addedWidgets": {},
       "type": "html",
       "arguments": {}
      }
     },
     "output_type": "execute_result"
    }
   ],
   "source": [
    "spark=SparkSession.builder.appName(\"ALS Recommendation\").getOrCreate()"
   ]
  },
  {
   "cell_type": "code",
   "execution_count": 0,
   "metadata": {
    "application/vnd.databricks.v1+cell": {
     "title": "",
     "showTitle": false,
     "inputWidgets": {},
     "nuid": "e20d4e7c-504d-462d-8985-3df74418daa4"
    }
   },
   "outputs": [
    {
     "data": {
      "text/html": [
       "<style scoped>\n  .ansiout {\n    display: block;\n    unicode-bidi: embed;\n    white-space: pre-wrap;\n    word-wrap: break-word;\n    word-break: break-all;\n    font-family: \"Source Code Pro\", \"Menlo\", monospace;;\n    font-size: 13px;\n    color: #555;\n    margin-left: 4px;\n    line-height: 19px;\n  }\n</style>\n<div class=\"ansiout\"></div>"
      ]
     },
     "metadata": {
      "application/vnd.databricks.v1+output": {
       "datasetInfos": [],
       "data": "<div class=\"ansiout\"></div>",
       "removedWidgets": [],
       "addedWidgets": {},
       "type": "html",
       "arguments": {}
      }
     },
     "output_type": "execute_result"
    }
   ],
   "source": [
    "from pyspark.sql.types import StructType,StructField,IntegerType,LongType,StringType,FloatType,DoubleType"
   ]
  },
  {
   "cell_type": "code",
   "execution_count": 0,
   "metadata": {
    "application/vnd.databricks.v1+cell": {
     "title": "",
     "showTitle": false,
     "inputWidgets": {},
     "nuid": "cb08a3d4-5b51-452a-bbb6-7fffc786925d"
    }
   },
   "outputs": [
    {
     "data": {
      "text/html": [
       "<style scoped>\n  .ansiout {\n    display: block;\n    unicode-bidi: embed;\n    white-space: pre-wrap;\n    word-wrap: break-word;\n    word-break: break-all;\n    font-family: \"Source Code Pro\", \"Menlo\", monospace;;\n    font-size: 13px;\n    color: #555;\n    margin-left: 4px;\n    line-height: 19px;\n  }\n</style>\n<div class=\"ansiout\"></div>"
      ]
     },
     "metadata": {
      "application/vnd.databricks.v1+output": {
       "datasetInfos": [],
       "data": "<div class=\"ansiout\"></div>",
       "removedWidgets": [],
       "addedWidgets": {},
       "type": "html",
       "arguments": {}
      }
     },
     "output_type": "execute_result"
    }
   ],
   "source": [
    "schema1=StructType([StructField(\"user_id\",IntegerType(),True),StructField(\"movie_id\",IntegerType(),True),StructField(\"rating\",IntegerType(),True),StructField(\"timestamp\",LongType(),True)])"
   ]
  },
  {
   "cell_type": "code",
   "execution_count": 0,
   "metadata": {
    "application/vnd.databricks.v1+cell": {
     "title": "",
     "showTitle": false,
     "inputWidgets": {},
     "nuid": "6351a517-342a-42aa-a0ba-19616c5f6dde"
    }
   },
   "outputs": [
    {
     "data": {
      "text/html": [
       "<style scoped>\n  .ansiout {\n    display: block;\n    unicode-bidi: embed;\n    white-space: pre-wrap;\n    word-wrap: break-word;\n    word-break: break-all;\n    font-family: \"Source Code Pro\", \"Menlo\", monospace;;\n    font-size: 13px;\n    color: #555;\n    margin-left: 4px;\n    line-height: 19px;\n  }\n</style>\n<div class=\"ansiout\">+-------+--------+------+---------+\nuser_id|movie_id|rating|timestamp|\n+-------+--------+------+---------+\n    196|     242|     3|881250949|\n    186|     302|     3|891717742|\n     22|     377|     1|878887116|\n    244|      51|     2|880606923|\n    166|     346|     1|886397596|\n+-------+--------+------+---------+\nonly showing top 5 rows\n\n</div>"
      ]
     },
     "metadata": {
      "application/vnd.databricks.v1+output": {
       "datasetInfos": [],
       "data": "<div class=\"ansiout\">+-------+--------+------+---------+\n|user_id|movie_id|rating|timestamp|\n+-------+--------+------+---------+\n|    196|     242|     3|881250949|\n|    186|     302|     3|891717742|\n|     22|     377|     1|878887116|\n|    244|      51|     2|880606923|\n|    166|     346|     1|886397596|\n+-------+--------+------+---------+\nonly showing top 5 rows\n\n</div>",
       "removedWidgets": [],
       "addedWidgets": {},
       "type": "html",
       "arguments": {}
      }
     },
     "output_type": "execute_result"
    }
   ],
   "source": [
    "df=spark.read.option(\"sep\",\"\\t\").schema(schema1).csv(\"dbfs:/FileStore/tables/u.data\")\n",
    "df.show(5)"
   ]
  },
  {
   "cell_type": "code",
   "execution_count": 0,
   "metadata": {
    "application/vnd.databricks.v1+cell": {
     "title": "",
     "showTitle": false,
     "inputWidgets": {},
     "nuid": "9198fc11-1b61-4e6e-9a84-285ea38713b4"
    }
   },
   "outputs": [
    {
     "data": {
      "text/html": [
       "<style scoped>\n  .ansiout {\n    display: block;\n    unicode-bidi: embed;\n    white-space: pre-wrap;\n    word-wrap: break-word;\n    word-break: break-all;\n    font-family: \"Source Code Pro\", \"Menlo\", monospace;;\n    font-size: 13px;\n    color: #555;\n    margin-left: 4px;\n    line-height: 19px;\n  }\n</style>\n<div class=\"ansiout\"></div>"
      ]
     },
     "metadata": {
      "application/vnd.databricks.v1+output": {
       "datasetInfos": [],
       "data": "<div class=\"ansiout\"></div>",
       "removedWidgets": [],
       "addedWidgets": {},
       "type": "html",
       "arguments": {}
      }
     },
     "output_type": "execute_result"
    }
   ],
   "source": [
    "schema1=StructType([StructField(\"movieId\",IntegerType(),True),StructField(\"title\",StringType(),True),StructField(\"genres\",StringType(),True)])"
   ]
  },
  {
   "cell_type": "code",
   "execution_count": 0,
   "metadata": {
    "application/vnd.databricks.v1+cell": {
     "title": "",
     "showTitle": false,
     "inputWidgets": {},
     "nuid": "4fcd3a7b-9f1c-4574-b0b8-debd491697e0"
    }
   },
   "outputs": [
    {
     "data": {
      "text/html": [
       "<style scoped>\n  .ansiout {\n    display: block;\n    unicode-bidi: embed;\n    white-space: pre-wrap;\n    word-wrap: break-word;\n    word-break: break-all;\n    font-family: \"Source Code Pro\", \"Menlo\", monospace;;\n    font-size: 13px;\n    color: #555;\n    margin-left: 4px;\n    line-height: 19px;\n  }\n</style>\n<div class=\"ansiout\">+-------+--------------------+--------------------+\nmovieId|               title|              genres|\n+-------+--------------------+--------------------+\n      1|    Toy Story (1995)|Adventure|Animati...|\n      2|      Jumanji (1995)|Adventure|Childre...|\n      3|Grumpier Old Men ...|      Comedy|Romance|\n      4|Waiting to Exhale...|Comedy|Drama|Romance|\n      5|Father of the Bri...|              Comedy|\n+-------+--------------------+--------------------+\nonly showing top 5 rows\n\n</div>"
      ]
     },
     "metadata": {
      "application/vnd.databricks.v1+output": {
       "datasetInfos": [],
       "data": "<div class=\"ansiout\">+-------+--------------------+--------------------+\n|movieId|               title|              genres|\n+-------+--------------------+--------------------+\n|      1|    Toy Story (1995)|Adventure|Animati...|\n|      2|      Jumanji (1995)|Adventure|Childre...|\n|      3|Grumpier Old Men ...|      Comedy|Romance|\n|      4|Waiting to Exhale...|Comedy|Drama|Romance|\n|      5|Father of the Bri...|              Comedy|\n+-------+--------------------+--------------------+\nonly showing top 5 rows\n\n</div>",
       "removedWidgets": [],
       "addedWidgets": {},
       "type": "html",
       "arguments": {}
      }
     },
     "output_type": "execute_result"
    }
   ],
   "source": [
    "movies=spark.read.schema(schema1).option(\"header\",\"true\").csv(\"dbfs:/FileStore/tables/movies.csv\")\n",
    "movies.show(5)"
   ]
  },
  {
   "cell_type": "code",
   "execution_count": 0,
   "metadata": {
    "application/vnd.databricks.v1+cell": {
     "title": "",
     "showTitle": false,
     "inputWidgets": {},
     "nuid": "fe0ca00b-4a0d-4868-bd64-098bebb5d2e8"
    }
   },
   "outputs": [
    {
     "data": {
      "text/html": [
       "<style scoped>\n  .ansiout {\n    display: block;\n    unicode-bidi: embed;\n    white-space: pre-wrap;\n    word-wrap: break-word;\n    word-break: break-all;\n    font-family: \"Source Code Pro\", \"Menlo\", monospace;;\n    font-size: 13px;\n    color: #555;\n    margin-left: 4px;\n    line-height: 19px;\n  }\n</style>\n<div class=\"ansiout\">+-------+--------+------+---------+----------------+--------------------+\nuser_id|movie_id|rating|timestamp|           title|              genres|\n+-------+--------+------+---------+----------------+--------------------+\n    593|       1|     3|875659150|Toy Story (1995)|Adventure|Animati...|\n    800|       1|     4|887646283|Toy Story (1995)|Adventure|Animati...|\n    786|       1|     4|882841828|Toy Story (1995)|Adventure|Animati...|\n    747|       1|     5|888639138|Toy Story (1995)|Adventure|Animati...|\n    895|       1|     4|879437950|Toy Story (1995)|Adventure|Animati...|\n+-------+--------+------+---------+----------------+--------------------+\nonly showing top 5 rows\n\n</div>"
      ]
     },
     "metadata": {
      "application/vnd.databricks.v1+output": {
       "datasetInfos": [],
       "data": "<div class=\"ansiout\">+-------+--------+------+---------+----------------+--------------------+\n|user_id|movie_id|rating|timestamp|           title|              genres|\n+-------+--------+------+---------+----------------+--------------------+\n|    593|       1|     3|875659150|Toy Story (1995)|Adventure|Animati...|\n|    800|       1|     4|887646283|Toy Story (1995)|Adventure|Animati...|\n|    786|       1|     4|882841828|Toy Story (1995)|Adventure|Animati...|\n|    747|       1|     5|888639138|Toy Story (1995)|Adventure|Animati...|\n|    895|       1|     4|879437950|Toy Story (1995)|Adventure|Animati...|\n+-------+--------+------+---------+----------------+--------------------+\nonly showing top 5 rows\n\n</div>",
       "removedWidgets": [],
       "addedWidgets": {},
       "type": "html",
       "arguments": {}
      }
     },
     "output_type": "execute_result"
    }
   ],
   "source": [
    "movies.createOrReplaceTempView(\"movie\")\n",
    "df.createOrReplaceTempView(\"rating\")\n",
    "spark.sql(\"select r.*,m.title,m.genres from rating r inner join movie m on r.movie_id==m.movieId\").show(5)"
   ]
  },
  {
   "cell_type": "code",
   "execution_count": 0,
   "metadata": {
    "application/vnd.databricks.v1+cell": {
     "title": "",
     "showTitle": false,
     "inputWidgets": {},
     "nuid": "a9dc27f2-fa14-4608-81e1-a0fe159c870f"
    }
   },
   "outputs": [
    {
     "data": {
      "text/html": [
       "<style scoped>\n  .ansiout {\n    display: block;\n    unicode-bidi: embed;\n    white-space: pre-wrap;\n    word-wrap: break-word;\n    word-break: break-all;\n    font-family: \"Source Code Pro\", \"Menlo\", monospace;;\n    font-size: 13px;\n    color: #555;\n    margin-left: 4px;\n    line-height: 19px;\n  }\n</style>\n<div class=\"ansiout\">+-------+--------+------+\nuser_id|movie_id|rating|\n+-------+--------+------+\n    196|     242|     3|\n    186|     302|     3|\n     22|     377|     1|\n    244|      51|     2|\n    166|     346|     1|\n+-------+--------+------+\nonly showing top 5 rows\n\n</div>"
      ]
     },
     "metadata": {
      "application/vnd.databricks.v1+output": {
       "datasetInfos": [],
       "data": "<div class=\"ansiout\">+-------+--------+------+\n|user_id|movie_id|rating|\n+-------+--------+------+\n|    196|     242|     3|\n|    186|     302|     3|\n|     22|     377|     1|\n|    244|      51|     2|\n|    166|     346|     1|\n+-------+--------+------+\nonly showing top 5 rows\n\n</div>",
       "removedWidgets": [],
       "addedWidgets": {},
       "type": "html",
       "arguments": {}
      }
     },
     "output_type": "execute_result"
    }
   ],
   "source": [
    "new_df=df.select(\"user_id\",\"movie_id\",\"rating\")\n",
    "new_df.show(5)"
   ]
  },
  {
   "cell_type": "code",
   "execution_count": 0,
   "metadata": {
    "application/vnd.databricks.v1+cell": {
     "title": "",
     "showTitle": false,
     "inputWidgets": {},
     "nuid": "0712581b-88ac-4970-b45d-b8860f714058"
    }
   },
   "outputs": [
    {
     "data": {
      "text/html": [
       "<style scoped>\n  .ansiout {\n    display: block;\n    unicode-bidi: embed;\n    white-space: pre-wrap;\n    word-wrap: break-word;\n    word-break: break-all;\n    font-family: \"Source Code Pro\", \"Menlo\", monospace;;\n    font-size: 13px;\n    color: #555;\n    margin-left: 4px;\n    line-height: 19px;\n  }\n</style>\n<div class=\"ansiout\"></div>"
      ]
     },
     "metadata": {
      "application/vnd.databricks.v1+output": {
       "datasetInfos": [],
       "data": "<div class=\"ansiout\"></div>",
       "removedWidgets": [],
       "addedWidgets": {},
       "type": "html",
       "arguments": {}
      }
     },
     "output_type": "execute_result"
    }
   ],
   "source": [
    "from pyspark.ml.recommendation import ALS\n",
    "from pyspark.ml.evaluation import RegressionEvaluator"
   ]
  },
  {
   "cell_type": "code",
   "execution_count": 0,
   "metadata": {
    "application/vnd.databricks.v1+cell": {
     "title": "",
     "showTitle": false,
     "inputWidgets": {},
     "nuid": "bfdc86dd-ad91-4578-aab8-e3c1c89082fb"
    }
   },
   "outputs": [
    {
     "data": {
      "text/html": [
       "<style scoped>\n  .ansiout {\n    display: block;\n    unicode-bidi: embed;\n    white-space: pre-wrap;\n    word-wrap: break-word;\n    word-break: break-all;\n    font-family: \"Source Code Pro\", \"Menlo\", monospace;;\n    font-size: 13px;\n    color: #555;\n    margin-left: 4px;\n    line-height: 19px;\n  }\n</style>\n<div class=\"ansiout\"></div>"
      ]
     },
     "metadata": {
      "application/vnd.databricks.v1+output": {
       "datasetInfos": [],
       "data": "<div class=\"ansiout\"></div>",
       "removedWidgets": [],
       "addedWidgets": {},
       "type": "html",
       "arguments": {}
      }
     },
     "output_type": "execute_result"
    }
   ],
   "source": [
    "train_data,test_data=new_df.randomSplit([0.7,0.3],seed=1234)"
   ]
  },
  {
   "cell_type": "code",
   "execution_count": 0,
   "metadata": {
    "application/vnd.databricks.v1+cell": {
     "title": "",
     "showTitle": false,
     "inputWidgets": {},
     "nuid": "5578df25-86c1-4ea7-99b4-75955336d999"
    }
   },
   "outputs": [
    {
     "data": {
      "text/html": [
       "<style scoped>\n  .ansiout {\n    display: block;\n    unicode-bidi: embed;\n    white-space: pre-wrap;\n    word-wrap: break-word;\n    word-break: break-all;\n    font-family: \"Source Code Pro\", \"Menlo\", monospace;;\n    font-size: 13px;\n    color: #555;\n    margin-left: 4px;\n    line-height: 19px;\n  }\n</style>\n<div class=\"ansiout\"></div>"
      ]
     },
     "metadata": {
      "application/vnd.databricks.v1+output": {
       "datasetInfos": [],
       "data": "<div class=\"ansiout\"></div>",
       "removedWidgets": [],
       "addedWidgets": {},
       "type": "html",
       "arguments": {}
      }
     },
     "output_type": "execute_result"
    }
   ],
   "source": [
    "als=ALS(userCol=\"user_id\",itemCol=\"movie_id\",ratingCol=\"rating\",nonnegative=True,coldStartStrategy=\"drop\").setMaxIter(5).setRegParam(0.01)"
   ]
  },
  {
   "cell_type": "code",
   "execution_count": 0,
   "metadata": {
    "application/vnd.databricks.v1+cell": {
     "title": "",
     "showTitle": false,
     "inputWidgets": {},
     "nuid": "1c559666-1007-4013-830c-ed5430773e91"
    }
   },
   "outputs": [
    {
     "data": {
      "text/html": [
       "<style scoped>\n  .ansiout {\n    display: block;\n    unicode-bidi: embed;\n    white-space: pre-wrap;\n    word-wrap: break-word;\n    word-break: break-all;\n    font-family: \"Source Code Pro\", \"Menlo\", monospace;;\n    font-size: 13px;\n    color: #555;\n    margin-left: 4px;\n    line-height: 19px;\n  }\n</style>\n<div class=\"ansiout\"></div>"
      ]
     },
     "metadata": {
      "application/vnd.databricks.v1+output": {
       "datasetInfos": [],
       "data": "<div class=\"ansiout\"></div>",
       "removedWidgets": [],
       "addedWidgets": {},
       "type": "html",
       "arguments": {}
      }
     },
     "output_type": "execute_result"
    }
   ],
   "source": [
    "model=als.fit(train_data)"
   ]
  },
  {
   "cell_type": "code",
   "execution_count": 0,
   "metadata": {
    "application/vnd.databricks.v1+cell": {
     "title": "",
     "showTitle": false,
     "inputWidgets": {},
     "nuid": "080775e0-1c86-4768-bfbe-9f3695ab8505"
    }
   },
   "outputs": [
    {
     "data": {
      "text/html": [
       "<style scoped>\n  .ansiout {\n    display: block;\n    unicode-bidi: embed;\n    white-space: pre-wrap;\n    word-wrap: break-word;\n    word-break: break-all;\n    font-family: \"Source Code Pro\", \"Menlo\", monospace;;\n    font-size: 13px;\n    color: #555;\n    margin-left: 4px;\n    line-height: 19px;\n  }\n</style>\n<div class=\"ansiout\">+-------+--------+------+----------+\nuser_id|movie_id|rating|prediction|\n+-------+--------+------+----------+\n    148|      70|     5| 3.3717582|\n    148|      71|     5|  4.428236|\n    148|      89|     5| 4.0484786|\n    148|     114|     5|  6.087761|\n    148|     116|     5| 3.2340446|\n    148|     127|     1| 3.4954617|\n    148|     133|     5|  2.760665|\n    148|     135|     5| 4.0656614|\n    148|     168|     5|  5.714344|\n    148|     169|     5| 5.2635846|\n+-------+--------+------+----------+\nonly showing top 10 rows\n\n</div>"
      ]
     },
     "metadata": {
      "application/vnd.databricks.v1+output": {
       "datasetInfos": [],
       "data": "<div class=\"ansiout\">+-------+--------+------+----------+\n|user_id|movie_id|rating|prediction|\n+-------+--------+------+----------+\n|    148|      70|     5| 3.3717582|\n|    148|      71|     5|  4.428236|\n|    148|      89|     5| 4.0484786|\n|    148|     114|     5|  6.087761|\n|    148|     116|     5| 3.2340446|\n|    148|     127|     1| 3.4954617|\n|    148|     133|     5|  2.760665|\n|    148|     135|     5| 4.0656614|\n|    148|     168|     5|  5.714344|\n|    148|     169|     5| 5.2635846|\n+-------+--------+------+----------+\nonly showing top 10 rows\n\n</div>",
       "removedWidgets": [],
       "addedWidgets": {},
       "type": "html",
       "arguments": {}
      }
     },
     "output_type": "execute_result"
    }
   ],
   "source": [
    "test_predictions=model.transform(test_data)\n",
    "test_predictions.show(10)"
   ]
  },
  {
   "cell_type": "code",
   "execution_count": 0,
   "metadata": {
    "application/vnd.databricks.v1+cell": {
     "title": "",
     "showTitle": false,
     "inputWidgets": {},
     "nuid": "8298b4f6-374c-4f2f-8b55-5137f7be957a"
    }
   },
   "outputs": [
    {
     "data": {
      "text/html": [
       "<style scoped>\n  .ansiout {\n    display: block;\n    unicode-bidi: embed;\n    white-space: pre-wrap;\n    word-wrap: break-word;\n    word-break: break-all;\n    font-family: \"Source Code Pro\", \"Menlo\", monospace;;\n    font-size: 13px;\n    color: #555;\n    margin-left: 4px;\n    line-height: 19px;\n  }\n</style>\n<div class=\"ansiout\"></div>"
      ]
     },
     "metadata": {
      "application/vnd.databricks.v1+output": {
       "datasetInfos": [],
       "data": "<div class=\"ansiout\"></div>",
       "removedWidgets": [],
       "addedWidgets": {},
       "type": "html",
       "arguments": {}
      }
     },
     "output_type": "execute_result"
    }
   ],
   "source": [
    "evaluator=RegressionEvaluator(labelCol=\"rating\",predictionCol=\"prediction\",metricName=\"rmse\")"
   ]
  },
  {
   "cell_type": "code",
   "execution_count": 0,
   "metadata": {
    "application/vnd.databricks.v1+cell": {
     "title": "",
     "showTitle": false,
     "inputWidgets": {},
     "nuid": "365f5501-c965-49e9-b60f-b9f3446f142d"
    }
   },
   "outputs": [
    {
     "data": {
      "text/html": [
       "<style scoped>\n  .ansiout {\n    display: block;\n    unicode-bidi: embed;\n    white-space: pre-wrap;\n    word-wrap: break-word;\n    word-break: break-all;\n    font-family: \"Source Code Pro\", \"Menlo\", monospace;;\n    font-size: 13px;\n    color: #555;\n    margin-left: 4px;\n    line-height: 19px;\n  }\n</style>\n<div class=\"ansiout\">1.0327622309754132\n</div>"
      ]
     },
     "metadata": {
      "application/vnd.databricks.v1+output": {
       "datasetInfos": [],
       "data": "<div class=\"ansiout\">1.0327622309754132\n</div>",
       "removedWidgets": [],
       "addedWidgets": {},
       "type": "html",
       "arguments": {}
      }
     },
     "output_type": "execute_result"
    }
   ],
   "source": [
    "RMSE=evaluator.evaluate(test_predictions)\n",
    "print(RMSE)"
   ]
  },
  {
   "cell_type": "code",
   "execution_count": 0,
   "metadata": {
    "application/vnd.databricks.v1+cell": {
     "title": "",
     "showTitle": false,
     "inputWidgets": {},
     "nuid": "c9e594b4-8339-497b-8fd9-3f51d051c85c"
    }
   },
   "outputs": [
    {
     "data": {
      "text/html": [
       "<style scoped>\n  .ansiout {\n    display: block;\n    unicode-bidi: embed;\n    white-space: pre-wrap;\n    word-wrap: break-word;\n    word-break: break-all;\n    font-family: \"Source Code Pro\", \"Menlo\", monospace;;\n    font-size: 13px;\n    color: #555;\n    margin-left: 4px;\n    line-height: 19px;\n  }\n</style>\n<div class=\"ansiout\">+-------+--------------------+\nuser_id|     recommendations|\n+-------+--------------------+\n      1|[[1643, 5.76429],...|\n      3|[[1643, 6.7678995...|\n      6|[[1643, 7.1557565...|\n     12|[[1512, 9.139532]...|\n     13|[[1463, 6.34708],...|\n     16|[[1192, 8.608451]...|\n     20|[[146, 11.883984]...|\n     22|[[1192, 9.977172]...|\n     26|[[1192, 5.6740723...|\n     27|[[1643, 7.432513]...|\n+-------+--------------------+\n\n</div>"
      ]
     },
     "metadata": {
      "application/vnd.databricks.v1+output": {
       "datasetInfos": [],
       "data": "<div class=\"ansiout\">+-------+--------------------+\n|user_id|     recommendations|\n+-------+--------------------+\n|      1|[[1643, 5.76429],...|\n|      3|[[1643, 6.7678995...|\n|      6|[[1643, 7.1557565...|\n|     12|[[1512, 9.139532]...|\n|     13|[[1463, 6.34708],...|\n|     16|[[1192, 8.608451]...|\n|     20|[[146, 11.883984]...|\n|     22|[[1192, 9.977172]...|\n|     26|[[1192, 5.6740723...|\n|     27|[[1643, 7.432513]...|\n+-------+--------------------+\n\n</div>",
       "removedWidgets": [],
       "addedWidgets": {},
       "type": "html",
       "arguments": {}
      }
     },
     "output_type": "execute_result"
    }
   ],
   "source": [
    "# Generate top 10 movie recommendations for each user.\n",
    "nrecommendations=model.recommendForAllUsers(10)\n",
    "nrecommendations.limit(10).show()"
   ]
  },
  {
   "cell_type": "code",
   "execution_count": 0,
   "metadata": {
    "application/vnd.databricks.v1+cell": {
     "title": "",
     "showTitle": false,
     "inputWidgets": {},
     "nuid": "574d84d9-0612-4dd3-a20c-db61927bf352"
    }
   },
   "outputs": [
    {
     "data": {
      "text/html": [
       "<style scoped>\n  .ansiout {\n    display: block;\n    unicode-bidi: embed;\n    white-space: pre-wrap;\n    word-wrap: break-word;\n    word-break: break-all;\n    font-family: \"Source Code Pro\", \"Menlo\", monospace;;\n    font-size: 13px;\n    color: #555;\n    margin-left: 4px;\n    line-height: 19px;\n  }\n</style>\n<div class=\"ansiout\">+-------+--------+---------+\nuser_id|movie_id|   rating|\n+-------+--------+---------+\n      1|    1643|  5.76429|\n      1|    1449|5.7395797|\n      1|     745| 5.634434|\n      1|    1463|5.4635696|\n      1|    1558|5.3780684|\n      1|    1192|5.3707514|\n      1|    1169|  5.27847|\n      1|     390|5.1752806|\n      1|    1126| 5.133106|\n      1|     953|5.1252027|\n+-------+--------+---------+\n\n</div>"
      ]
     },
     "metadata": {
      "application/vnd.databricks.v1+output": {
       "datasetInfos": [],
       "data": "<div class=\"ansiout\">+-------+--------+---------+\n|user_id|movie_id|   rating|\n+-------+--------+---------+\n|      1|    1643|  5.76429|\n|      1|    1449|5.7395797|\n|      1|     745| 5.634434|\n|      1|    1463|5.4635696|\n|      1|    1558|5.3780684|\n|      1|    1192|5.3707514|\n|      1|    1169|  5.27847|\n|      1|     390|5.1752806|\n|      1|    1126| 5.133106|\n|      1|     953|5.1252027|\n+-------+--------+---------+\n\n</div>",
       "removedWidgets": [],
       "addedWidgets": {},
       "type": "html",
       "arguments": {}
      }
     },
     "output_type": "execute_result"
    }
   ],
   "source": [
    "# Generate top 10 movie recommendations for each user after exploding recommendations column.\n",
    "nrecommendations=nrecommendations.withColumn(\"rec_exp\",func.explode(\"recommendations\")).\\\n",
    "                 select('user_id',func.col(\"rec_exp.movie_id\"),func.col(\"rec_exp.rating\"))\n",
    "nrecommendations.limit(10).show()"
   ]
  },
  {
   "cell_type": "code",
   "execution_count": 0,
   "metadata": {
    "application/vnd.databricks.v1+cell": {
     "title": "",
     "showTitle": false,
     "inputWidgets": {},
     "nuid": "67c2a6db-7663-490e-85ac-80282e97a54a"
    }
   },
   "outputs": [
    {
     "data": {
      "text/html": [
       "<style scoped>\n  .ansiout {\n    display: block;\n    unicode-bidi: embed;\n    white-space: pre-wrap;\n    word-wrap: break-word;\n    word-break: break-all;\n    font-family: \"Source Code Pro\", \"Menlo\", monospace;;\n    font-size: 13px;\n    color: #555;\n    margin-left: 4px;\n    line-height: 19px;\n  }\n</style>\n<div class=\"ansiout\"></div>"
      ]
     },
     "metadata": {
      "application/vnd.databricks.v1+output": {
       "datasetInfos": [],
       "data": "<div class=\"ansiout\"></div>",
       "removedWidgets": [],
       "addedWidgets": {},
       "type": "html",
       "arguments": {}
      }
     },
     "output_type": "execute_result"
    }
   ],
   "source": [
    "nrecommendations.createOrReplaceTempView(\"recommend\")"
   ]
  },
  {
   "cell_type": "code",
   "execution_count": 0,
   "metadata": {
    "application/vnd.databricks.v1+cell": {
     "title": "",
     "showTitle": false,
     "inputWidgets": {},
     "nuid": "0de9fa5e-c416-4fd2-8e5f-9d0661553551"
    }
   },
   "outputs": [
    {
     "data": {
      "text/html": [
       "<style scoped>\n  .ansiout {\n    display: block;\n    unicode-bidi: embed;\n    white-space: pre-wrap;\n    word-wrap: break-word;\n    word-break: break-all;\n    font-family: \"Source Code Pro\", \"Menlo\", monospace;;\n    font-size: 13px;\n    color: #555;\n    margin-left: 4px;\n    line-height: 19px;\n  }\n</style>\n<div class=\"ansiout\">+-------+--------+---------+--------------------+--------------------+\nuser_id|movie_id|   rating|               title|              genres|\n+-------+--------+---------+--------------------+--------------------+\n      1|    1643|  5.76429|Mrs. Brown (a.k.a...|       Drama|Romance|\n      1|    1449|5.7395797|Waiting for Guffm...|              Comedy|\n      1|     745| 5.634434|Wallace &amp; Gromit:...|Animation|Childre...|\n      1|    1463|5.4635696|That Old Feeling ...|      Comedy|Romance|\n      1|    1558|5.3780684|Sudden Manhattan ...|              Comedy|\n      1|    1192|5.3707514|Paris Is Burning ...|         Documentary|\n      1|    1169|  5.27847|American Dream (1...|         Documentary|\n      1|     390|5.1752806|Faster Pussycat! ...|  Action|Crime|Drama|\n      1|    1126| 5.133106|Drop Dead Fred (1...|      Comedy|Fantasy|\n      1|     953|5.1252027|It&#39;s a Wonderful ...|Children|Drama|Fa...|\n+-------+--------+---------+--------------------+--------------------+\nonly showing top 10 rows\n\n</div>"
      ]
     },
     "metadata": {
      "application/vnd.databricks.v1+output": {
       "datasetInfos": [],
       "data": "<div class=\"ansiout\">+-------+--------+---------+--------------------+--------------------+\n|user_id|movie_id|   rating|               title|              genres|\n+-------+--------+---------+--------------------+--------------------+\n|      1|    1643|  5.76429|Mrs. Brown (a.k.a...|       Drama|Romance|\n|      1|    1449|5.7395797|Waiting for Guffm...|              Comedy|\n|      1|     745| 5.634434|Wallace &amp; Gromit:...|Animation|Childre...|\n|      1|    1463|5.4635696|That Old Feeling ...|      Comedy|Romance|\n|      1|    1558|5.3780684|Sudden Manhattan ...|              Comedy|\n|      1|    1192|5.3707514|Paris Is Burning ...|         Documentary|\n|      1|    1169|  5.27847|American Dream (1...|         Documentary|\n|      1|     390|5.1752806|Faster Pussycat! ...|  Action|Crime|Drama|\n|      1|    1126| 5.133106|Drop Dead Fred (1...|      Comedy|Fantasy|\n|      1|     953|5.1252027|It&#39;s a Wonderful ...|Children|Drama|Fa...|\n+-------+--------+---------+--------------------+--------------------+\nonly showing top 10 rows\n\n</div>",
       "removedWidgets": [],
       "addedWidgets": {},
       "type": "html",
       "arguments": {}
      }
     },
     "output_type": "execute_result"
    }
   ],
   "source": [
    "# Generate top 10 movie recommendations for each user along with title & genres.\n",
    "spark.sql(\"select re.*,m.title,m.genres from recommend re inner join movie m on re.movie_id==m.movieId\").show(10)"
   ]
  },
  {
   "cell_type": "code",
   "execution_count": 0,
   "metadata": {
    "application/vnd.databricks.v1+cell": {
     "title": "",
     "showTitle": false,
     "inputWidgets": {},
     "nuid": "c58b21cb-ad8d-4c31-9229-5c613d315295"
    }
   },
   "outputs": [
    {
     "data": {
      "text/html": [
       "<style scoped>\n  .ansiout {\n    display: block;\n    unicode-bidi: embed;\n    white-space: pre-wrap;\n    word-wrap: break-word;\n    word-break: break-all;\n    font-family: \"Source Code Pro\", \"Menlo\", monospace;;\n    font-size: 13px;\n    color: #555;\n    margin-left: 4px;\n    line-height: 19px;\n  }\n</style>\n<div class=\"ansiout\">+-------+--------+---------+--------------------+--------------------+\nuser_id|movie_id|   rating|               title|              genres|\n+-------+--------+---------+--------------------+--------------------+\n     31|    1077| 7.982669|      Sleeper (1973)|       Comedy|Sci-Fi|\n     31|     865|7.9143124|  Small Faces (1996)|               Drama|\n     31|     793|7.6695533|My Life and Times...|               Drama|\n     31|    1240|7.3168077|Terminator, The (...|Action|Sci-Fi|Thr...|\n     31|     592|6.9683056|       Batman (1989)|Action|Crime|Thri...|\n     31|    1036|6.9081516|     Die Hard (1988)|Action|Crime|Thri...|\n     31|     867|6.8474717|      Carpool (1996)|        Comedy|Crime|\n     31|    1456|6.7370105|    Pest, The (1997)|              Comedy|\n     31|    1154|6.7094603|        T-Men (1947)|           Film-Noir|\n+-------+--------+---------+--------------------+--------------------+\n\n</div>"
      ]
     },
     "metadata": {
      "application/vnd.databricks.v1+output": {
       "datasetInfos": [],
       "data": "<div class=\"ansiout\">+-------+--------+---------+--------------------+--------------------+\n|user_id|movie_id|   rating|               title|              genres|\n+-------+--------+---------+--------------------+--------------------+\n|     31|    1077| 7.982669|      Sleeper (1973)|       Comedy|Sci-Fi|\n|     31|     865|7.9143124|  Small Faces (1996)|               Drama|\n|     31|     793|7.6695533|My Life and Times...|               Drama|\n|     31|    1240|7.3168077|Terminator, The (...|Action|Sci-Fi|Thr...|\n|     31|     592|6.9683056|       Batman (1989)|Action|Crime|Thri...|\n|     31|    1036|6.9081516|     Die Hard (1988)|Action|Crime|Thri...|\n|     31|     867|6.8474717|      Carpool (1996)|        Comedy|Crime|\n|     31|    1456|6.7370105|    Pest, The (1997)|              Comedy|\n|     31|    1154|6.7094603|        T-Men (1947)|           Film-Noir|\n+-------+--------+---------+--------------------+--------------------+\n\n</div>",
       "removedWidgets": [],
       "addedWidgets": {},
       "type": "html",
       "arguments": {}
      }
     },
     "output_type": "execute_result"
    }
   ],
   "source": [
    "# Generate top 10 movie recommendations for user_id 31 along with title & genres.\n",
    "recommend_df=spark.sql(\"select re.*,m.title,m.genres from recommend re inner join movie m on re.movie_id==m.movieId\")\n",
    "recommend_df.filter(recommend_df.user_id==31).sort('rating',ascending=False).limit(10).show()"
   ]
  },
  {
   "cell_type": "code",
   "execution_count": 0,
   "metadata": {
    "application/vnd.databricks.v1+cell": {
     "title": "",
     "showTitle": false,
     "inputWidgets": {},
     "nuid": "38b0ad35-9330-4eae-84cb-e9a1b3d8a360"
    }
   },
   "outputs": [
    {
     "data": {
      "text/html": [
       "<style scoped>\n  .ansiout {\n    display: block;\n    unicode-bidi: embed;\n    white-space: pre-wrap;\n    word-wrap: break-word;\n    word-break: break-all;\n    font-family: \"Source Code Pro\", \"Menlo\", monospace;;\n    font-size: 13px;\n    color: #555;\n    margin-left: 4px;\n    line-height: 19px;\n  }\n</style>\n<div class=\"ansiout\">+--------+--------------------+\nmovie_id|     recommendations|\n+--------+--------------------+\n      12|[[261, 6.3384395]...|\n      22|[[174, 6.2012086]...|\n      26|[[811, 6.140478],...|\n      27|[[471, 8.411355],...|\n      28|[[732, 5.7535906]...|\n      31|[[810, 5.621173],...|\n      34|[[202, 13.173415]...|\n      44|[[335, 6.2385893]...|\n      47|[[153, 10.746742]...|\n      53|[[78, 9.722074], ...|\n+--------+--------------------+\n\n</div>"
      ]
     },
     "metadata": {
      "application/vnd.databricks.v1+output": {
       "datasetInfos": [],
       "data": "<div class=\"ansiout\">+--------+--------------------+\n|movie_id|     recommendations|\n+--------+--------------------+\n|      12|[[261, 6.3384395]...|\n|      22|[[174, 6.2012086]...|\n|      26|[[811, 6.140478],...|\n|      27|[[471, 8.411355],...|\n|      28|[[732, 5.7535906]...|\n|      31|[[810, 5.621173],...|\n|      34|[[202, 13.173415]...|\n|      44|[[335, 6.2385893]...|\n|      47|[[153, 10.746742]...|\n|      53|[[78, 9.722074], ...|\n+--------+--------------------+\n\n</div>",
       "removedWidgets": [],
       "addedWidgets": {},
       "type": "html",
       "arguments": {}
      }
     },
     "output_type": "execute_result"
    }
   ],
   "source": [
    "# Generate top 10 user recommendations for each movie.\n",
    "movieRecs=model.recommendForAllItems(10)\n",
    "movieRecs.limit(10).show()"
   ]
  },
  {
   "cell_type": "code",
   "execution_count": 0,
   "metadata": {
    "application/vnd.databricks.v1+cell": {
     "title": "",
     "showTitle": false,
     "inputWidgets": {},
     "nuid": "63f1318e-f1b8-49da-8162-1d2dcd3d216e"
    }
   },
   "outputs": [
    {
     "data": {
      "text/html": [
       "<style scoped>\n  .ansiout {\n    display: block;\n    unicode-bidi: embed;\n    white-space: pre-wrap;\n    word-wrap: break-word;\n    word-break: break-all;\n    font-family: \"Source Code Pro\", \"Menlo\", monospace;;\n    font-size: 13px;\n    color: #555;\n    margin-left: 4px;\n    line-height: 19px;\n  }\n</style>\n<div class=\"ansiout\">+--------+-------+---------+\nmovie_id|user_id|   rating|\n+--------+-------+---------+\n      12|    261|6.3384395|\n      12|    353|6.1613407|\n      12|    355|5.9877567|\n      12|    697| 5.768664|\n      12|      4| 5.749005|\n      12|    240| 5.696423|\n      12|    811|5.6919355|\n      12|    550| 5.585383|\n      12|    799|5.5616455|\n      12|    332| 5.552833|\n+--------+-------+---------+\n\n</div>"
      ]
     },
     "metadata": {
      "application/vnd.databricks.v1+output": {
       "datasetInfos": [],
       "data": "<div class=\"ansiout\">+--------+-------+---------+\n|movie_id|user_id|   rating|\n+--------+-------+---------+\n|      12|    261|6.3384395|\n|      12|    353|6.1613407|\n|      12|    355|5.9877567|\n|      12|    697| 5.768664|\n|      12|      4| 5.749005|\n|      12|    240| 5.696423|\n|      12|    811|5.6919355|\n|      12|    550| 5.585383|\n|      12|    799|5.5616455|\n|      12|    332| 5.552833|\n+--------+-------+---------+\n\n</div>",
       "removedWidgets": [],
       "addedWidgets": {},
       "type": "html",
       "arguments": {}
      }
     },
     "output_type": "execute_result"
    }
   ],
   "source": [
    "# Generate top 10 user recommendations for each movie after exploding recommendations column.\n",
    "movieRecs=movieRecs.withColumn(\"rec_exp\",func.explode(\"recommendations\")).\\\n",
    "                 select('movie_id',func.col(\"rec_exp.user_id\"),func.col(\"rec_exp.rating\"))\n",
    "movieRecs.limit(10).show()"
   ]
  },
  {
   "cell_type": "code",
   "execution_count": 0,
   "metadata": {
    "application/vnd.databricks.v1+cell": {
     "title": "",
     "showTitle": false,
     "inputWidgets": {},
     "nuid": "66769f31-9d8c-411e-ab4a-20cf4c254cbe"
    }
   },
   "outputs": [
    {
     "data": {
      "text/html": [
       "<style scoped>\n  .ansiout {\n    display: block;\n    unicode-bidi: embed;\n    white-space: pre-wrap;\n    word-wrap: break-word;\n    word-break: break-all;\n    font-family: \"Source Code Pro\", \"Menlo\", monospace;;\n    font-size: 13px;\n    color: #555;\n    margin-left: 4px;\n    line-height: 19px;\n  }\n</style>\n<div class=\"ansiout\">+--------+-------+---------+--------------------+-------------+\nmovie_id|user_id|   rating|               title|       genres|\n+--------+-------+---------+--------------------+-------------+\n      12|    261|6.3384395|Dracula: Dead and...|Comedy|Horror|\n      12|    353|6.1613407|Dracula: Dead and...|Comedy|Horror|\n      12|    355|5.9877567|Dracula: Dead and...|Comedy|Horror|\n      12|    697| 5.768664|Dracula: Dead and...|Comedy|Horror|\n      12|      4| 5.749005|Dracula: Dead and...|Comedy|Horror|\n      12|    240| 5.696423|Dracula: Dead and...|Comedy|Horror|\n      12|    811|5.6919355|Dracula: Dead and...|Comedy|Horror|\n      12|    550| 5.585383|Dracula: Dead and...|Comedy|Horror|\n      12|    799|5.5616455|Dracula: Dead and...|Comedy|Horror|\n      12|    332| 5.552833|Dracula: Dead and...|Comedy|Horror|\n+--------+-------+---------+--------------------+-------------+\nonly showing top 10 rows\n\n</div>"
      ]
     },
     "metadata": {
      "application/vnd.databricks.v1+output": {
       "datasetInfos": [],
       "data": "<div class=\"ansiout\">+--------+-------+---------+--------------------+-------------+\n|movie_id|user_id|   rating|               title|       genres|\n+--------+-------+---------+--------------------+-------------+\n|      12|    261|6.3384395|Dracula: Dead and...|Comedy|Horror|\n|      12|    353|6.1613407|Dracula: Dead and...|Comedy|Horror|\n|      12|    355|5.9877567|Dracula: Dead and...|Comedy|Horror|\n|      12|    697| 5.768664|Dracula: Dead and...|Comedy|Horror|\n|      12|      4| 5.749005|Dracula: Dead and...|Comedy|Horror|\n|      12|    240| 5.696423|Dracula: Dead and...|Comedy|Horror|\n|      12|    811|5.6919355|Dracula: Dead and...|Comedy|Horror|\n|      12|    550| 5.585383|Dracula: Dead and...|Comedy|Horror|\n|      12|    799|5.5616455|Dracula: Dead and...|Comedy|Horror|\n|      12|    332| 5.552833|Dracula: Dead and...|Comedy|Horror|\n+--------+-------+---------+--------------------+-------------+\nonly showing top 10 rows\n\n</div>",
       "removedWidgets": [],
       "addedWidgets": {},
       "type": "html",
       "arguments": {}
      }
     },
     "output_type": "execute_result"
    }
   ],
   "source": [
    "# Generate top 10 user recommendations for each movie along with title & genres.\n",
    "movieRecs.createOrReplaceTempView(\"movieRec\")\n",
    "spark.sql(\"select mr.*,m.title,m.genres from movieRec mr inner join movie m on mr.movie_id=m.movieId\").show(10)"
   ]
  },
  {
   "cell_type": "code",
   "execution_count": 0,
   "metadata": {
    "application/vnd.databricks.v1+cell": {
     "title": "",
     "showTitle": false,
     "inputWidgets": {},
     "nuid": "a4610e86-6486-49a4-b5f4-849de469a9b3"
    }
   },
   "outputs": [
    {
     "data": {
      "text/html": [
       "<style scoped>\n  .ansiout {\n    display: block;\n    unicode-bidi: embed;\n    white-space: pre-wrap;\n    word-wrap: break-word;\n    word-break: break-all;\n    font-family: \"Source Code Pro\", \"Menlo\", monospace;;\n    font-size: 13px;\n    color: #555;\n    margin-left: 4px;\n    line-height: 19px;\n  }\n</style>\n<div class=\"ansiout\">+--------+-------+---------+--------------------+------+\nmovie_id|user_id|   rating|               title|genres|\n+--------+-------+---------+--------------------+------+\n      31|    810| 5.621173|Dangerous Minds (...| Drama|\n      31|    443| 5.509704|Dangerous Minds (...| Drama|\n      31|    939| 5.462859|Dangerous Minds (...| Drama|\n      31|    850| 5.438737|Dangerous Minds (...| Drama|\n      31|    808| 5.427509|Dangerous Minds (...| Drama|\n      31|      4| 5.217102|Dangerous Minds (...| Drama|\n      31|    351| 5.191621|Dangerous Minds (...| Drama|\n      31|    403|5.1765795|Dangerous Minds (...| Drama|\n      31|    357| 5.151716|Dangerous Minds (...| Drama|\n      31|    317|5.0986795|Dangerous Minds (...| Drama|\n+--------+-------+---------+--------------------+------+\n\n</div>"
      ]
     },
     "metadata": {
      "application/vnd.databricks.v1+output": {
       "datasetInfos": [],
       "data": "<div class=\"ansiout\">+--------+-------+---------+--------------------+------+\n|movie_id|user_id|   rating|               title|genres|\n+--------+-------+---------+--------------------+------+\n|      31|    810| 5.621173|Dangerous Minds (...| Drama|\n|      31|    443| 5.509704|Dangerous Minds (...| Drama|\n|      31|    939| 5.462859|Dangerous Minds (...| Drama|\n|      31|    850| 5.438737|Dangerous Minds (...| Drama|\n|      31|    808| 5.427509|Dangerous Minds (...| Drama|\n|      31|      4| 5.217102|Dangerous Minds (...| Drama|\n|      31|    351| 5.191621|Dangerous Minds (...| Drama|\n|      31|    403|5.1765795|Dangerous Minds (...| Drama|\n|      31|    357| 5.151716|Dangerous Minds (...| Drama|\n|      31|    317|5.0986795|Dangerous Minds (...| Drama|\n+--------+-------+---------+--------------------+------+\n\n</div>",
       "removedWidgets": [],
       "addedWidgets": {},
       "type": "html",
       "arguments": {}
      }
     },
     "output_type": "execute_result"
    }
   ],
   "source": [
    "# Generate top 10 user recommendations for each movie along with title & genres.\n",
    "movieRec_df=spark.sql(\"select mr.*,m.title,m.genres from movieRec mr inner join movie m on mr.movie_id=m.movieId\")\n",
    "movieRec_df.filter(movieRec_df.movie_id==31).sort('rating',ascending=False).limit(10).show()"
   ]
  },
  {
   "cell_type": "code",
   "execution_count": 0,
   "metadata": {
    "application/vnd.databricks.v1+cell": {
     "title": "",
     "showTitle": false,
     "inputWidgets": {},
     "nuid": "d376922e-5d77-4f5a-a5a6-87ea7eed41e7"
    }
   },
   "outputs": [
    {
     "data": {
      "text/html": [
       "<style scoped>\n  .ansiout {\n    display: block;\n    unicode-bidi: embed;\n    white-space: pre-wrap;\n    word-wrap: break-word;\n    word-break: break-all;\n    font-family: \"Source Code Pro\", \"Menlo\", monospace;;\n    font-size: 13px;\n    color: #555;\n    margin-left: 4px;\n    line-height: 19px;\n  }\n</style>\n<div class=\"ansiout\">+-------+--------------------+\nuser_id|     recommendations|\n+-------+--------------------+\n     22|[[1192, 9.977172]...|\n    196|[[1598, 9.443933]...|\n    186|[[909, 7.487275],...|\n+-------+--------------------+\n\n</div>"
      ]
     },
     "metadata": {
      "application/vnd.databricks.v1+output": {
       "datasetInfos": [],
       "data": "<div class=\"ansiout\">+-------+--------------------+\n|user_id|     recommendations|\n+-------+--------------------+\n|     22|[[1192, 9.977172]...|\n|    196|[[1598, 9.443933]...|\n|    186|[[909, 7.487275],...|\n+-------+--------------------+\n\n</div>",
       "removedWidgets": [],
       "addedWidgets": {},
       "type": "html",
       "arguments": {}
      }
     },
     "output_type": "execute_result"
    }
   ],
   "source": [
    "# Generate top 10 movie recommendations for a specified set of users\n",
    "users=new_df.select(als.getUserCol()).distinct().limit(3)\n",
    "userSubsetRecs=model.recommendForUserSubset(users,10)\n",
    "userSubsetRecs.show()"
   ]
  },
  {
   "cell_type": "code",
   "execution_count": 0,
   "metadata": {
    "application/vnd.databricks.v1+cell": {
     "title": "",
     "showTitle": false,
     "inputWidgets": {},
     "nuid": "45dcf7c1-aeb4-4f2b-a659-e60b5063c99f"
    }
   },
   "outputs": [
    {
     "data": {
      "text/html": [
       "<style scoped>\n  .ansiout {\n    display: block;\n    unicode-bidi: embed;\n    white-space: pre-wrap;\n    word-wrap: break-word;\n    word-break: break-all;\n    font-family: \"Source Code Pro\", \"Menlo\", monospace;;\n    font-size: 13px;\n    color: #555;\n    margin-left: 4px;\n    line-height: 19px;\n  }\n</style>\n<div class=\"ansiout\">+-------+--------+---------+\nuser_id|movie_id|   rating|\n+-------+--------+---------+\n     22|    1192| 9.977172|\n     22|     695|6.4481316|\n     22|     915|6.2445583|\n     22|     113| 6.127125|\n     22|    1184|5.9937634|\n     22|    1598|5.9208765|\n     22|     344| 5.892812|\n     22|    1262| 5.795911|\n     22|    1282|5.7803855|\n     22|     854|5.6933117|\n    196|    1598| 9.443933|\n    196|     634| 8.646293|\n    196|     695|  8.57574|\n    196|    1069| 8.439869|\n    196|    1174|8.1518135|\n    196|    1512| 8.105495|\n    196|     650|7.7720456|\n    196|     536| 7.749665|\n    196|    1114|7.5785065|\n    196|    1172| 7.543298|\n+-------+--------+---------+\nonly showing top 20 rows\n\n</div>"
      ]
     },
     "metadata": {
      "application/vnd.databricks.v1+output": {
       "datasetInfos": [],
       "data": "<div class=\"ansiout\">+-------+--------+---------+\n|user_id|movie_id|   rating|\n+-------+--------+---------+\n|     22|    1192| 9.977172|\n|     22|     695|6.4481316|\n|     22|     915|6.2445583|\n|     22|     113| 6.127125|\n|     22|    1184|5.9937634|\n|     22|    1598|5.9208765|\n|     22|     344| 5.892812|\n|     22|    1262| 5.795911|\n|     22|    1282|5.7803855|\n|     22|     854|5.6933117|\n|    196|    1598| 9.443933|\n|    196|     634| 8.646293|\n|    196|     695|  8.57574|\n|    196|    1069| 8.439869|\n|    196|    1174|8.1518135|\n|    196|    1512| 8.105495|\n|    196|     650|7.7720456|\n|    196|     536| 7.749665|\n|    196|    1114|7.5785065|\n|    196|    1172| 7.543298|\n+-------+--------+---------+\nonly showing top 20 rows\n\n</div>",
       "removedWidgets": [],
       "addedWidgets": {},
       "type": "html",
       "arguments": {}
      }
     },
     "output_type": "execute_result"
    }
   ],
   "source": [
    "# Generate top 10 movie recommendations for a specified set of users after exploding recommendations column.\n",
    "userSubsetRecs=userSubsetRecs.withColumn(\"rec_exp\",func.explode(\"recommendations\")).\\\n",
    "                 select('user_id',func.col(\"rec_exp.movie_id\"),func.col(\"rec_exp.rating\"))\n",
    "userSubsetRecs.show()"
   ]
  },
  {
   "cell_type": "code",
   "execution_count": 0,
   "metadata": {
    "application/vnd.databricks.v1+cell": {
     "title": "",
     "showTitle": false,
     "inputWidgets": {},
     "nuid": "fcb20aaf-d906-4dc7-b306-071bdc916796"
    }
   },
   "outputs": [
    {
     "data": {
      "text/html": [
       "<style scoped>\n  .ansiout {\n    display: block;\n    unicode-bidi: embed;\n    white-space: pre-wrap;\n    word-wrap: break-word;\n    word-break: break-all;\n    font-family: \"Source Code Pro\", \"Menlo\", monospace;;\n    font-size: 13px;\n    color: #555;\n    margin-left: 4px;\n    line-height: 19px;\n  }\n</style>\n<div class=\"ansiout\">+-------+--------+---------+--------------------+--------------------+\nuser_id|movie_id|   rating|               title|              genres|\n+-------+--------+---------+--------------------+--------------------+\n     22|    1192| 9.977172|Paris Is Burning ...|         Documentary|\n     22|     695|6.4481316|   True Crime (1996)|    Mystery|Thriller|\n     22|     915|6.2445583|      Sabrina (1954)|      Comedy|Romance|\n     22|     113| 6.127125|Before and After ...|       Drama|Mystery|\n     22|    1184|5.9937634| Mediterraneo (1991)|        Comedy|Drama|\n     22|    1598|5.9208765|Desperate Measure...|Crime|Drama|Thriller|\n     22|     344| 5.892812|Ace Ventura: Pet ...|              Comedy|\n     22|    1262| 5.795911|Great Escape, The...|Action|Adventure|...|\n     22|    1282|5.7803855|     Fantasia (1940)|Animation|Childre...|\n     22|     854|5.6933117|Ballad of Narayam...|               Drama|\n+-------+--------+---------+--------------------+--------------------+\nonly showing top 10 rows\n\n</div>"
      ]
     },
     "metadata": {
      "application/vnd.databricks.v1+output": {
       "datasetInfos": [],
       "data": "<div class=\"ansiout\">+-------+--------+---------+--------------------+--------------------+\n|user_id|movie_id|   rating|               title|              genres|\n+-------+--------+---------+--------------------+--------------------+\n|     22|    1192| 9.977172|Paris Is Burning ...|         Documentary|\n|     22|     695|6.4481316|   True Crime (1996)|    Mystery|Thriller|\n|     22|     915|6.2445583|      Sabrina (1954)|      Comedy|Romance|\n|     22|     113| 6.127125|Before and After ...|       Drama|Mystery|\n|     22|    1184|5.9937634| Mediterraneo (1991)|        Comedy|Drama|\n|     22|    1598|5.9208765|Desperate Measure...|Crime|Drama|Thriller|\n|     22|     344| 5.892812|Ace Ventura: Pet ...|              Comedy|\n|     22|    1262| 5.795911|Great Escape, The...|Action|Adventure|...|\n|     22|    1282|5.7803855|     Fantasia (1940)|Animation|Childre...|\n|     22|     854|5.6933117|Ballad of Narayam...|               Drama|\n+-------+--------+---------+--------------------+--------------------+\nonly showing top 10 rows\n\n</div>",
       "removedWidgets": [],
       "addedWidgets": {},
       "type": "html",
       "arguments": {}
      }
     },
     "output_type": "execute_result"
    }
   ],
   "source": [
    "# Generate top 10 movie recommendations for a specified set of users along with title & genres.\n",
    "userSubsetRecs.createOrReplaceTempView(\"Usersubset\")\n",
    "spark.sql(\"select u.*,m.title,m.genres from Usersubset u inner join movie m on u.movie_id=m.movieId\").show(10)"
   ]
  },
  {
   "cell_type": "code",
   "execution_count": 0,
   "metadata": {
    "application/vnd.databricks.v1+cell": {
     "title": "",
     "showTitle": false,
     "inputWidgets": {},
     "nuid": "1579dd67-3260-4380-a535-6d25b0413a02"
    }
   },
   "outputs": [
    {
     "data": {
      "text/html": [
       "<style scoped>\n  .ansiout {\n    display: block;\n    unicode-bidi: embed;\n    white-space: pre-wrap;\n    word-wrap: break-word;\n    word-break: break-all;\n    font-family: \"Source Code Pro\", \"Menlo\", monospace;;\n    font-size: 13px;\n    color: #555;\n    margin-left: 4px;\n    line-height: 19px;\n  }\n</style>\n<div class=\"ansiout\">+--------+--------------------+\nmovie_id|     recommendations|\n+--------+--------------------+\n     242|[[174, 6.303267],...|\n     302|[[261, 6.1863346]...|\n     377|[[166, 8.941542],...|\n+--------+--------------------+\n\n</div>"
      ]
     },
     "metadata": {
      "application/vnd.databricks.v1+output": {
       "datasetInfos": [],
       "data": "<div class=\"ansiout\">+--------+--------------------+\n|movie_id|     recommendations|\n+--------+--------------------+\n|     242|[[174, 6.303267],...|\n|     302|[[261, 6.1863346]...|\n|     377|[[166, 8.941542],...|\n+--------+--------------------+\n\n</div>",
       "removedWidgets": [],
       "addedWidgets": {},
       "type": "html",
       "arguments": {}
      }
     },
     "output_type": "execute_result"
    }
   ],
   "source": [
    "# Generate top 10 user recommendations for a specified set of movies.\n",
    "movies=new_df.select(als.getItemCol()).distinct().limit(3)\n",
    "movieSubSetRecs=model.recommendForItemSubset(movies,10)\n",
    "movieSubSetRecs.show()"
   ]
  },
  {
   "cell_type": "code",
   "execution_count": 0,
   "metadata": {
    "application/vnd.databricks.v1+cell": {
     "title": "",
     "showTitle": false,
     "inputWidgets": {},
     "nuid": "cb044d6a-c802-4807-85f4-eaf4e976d09f"
    }
   },
   "outputs": [
    {
     "data": {
      "text/html": [
       "<style scoped>\n  .ansiout {\n    display: block;\n    unicode-bidi: embed;\n    white-space: pre-wrap;\n    word-wrap: break-word;\n    word-break: break-all;\n    font-family: \"Source Code Pro\", \"Menlo\", monospace;;\n    font-size: 13px;\n    color: #555;\n    margin-left: 4px;\n    line-height: 19px;\n  }\n</style>\n<div class=\"ansiout\">+--------+-------+---------+\nmovie_id|user_id|   rating|\n+--------+-------+---------+\n     242|    174| 6.303267|\n     242|    220|6.1601334|\n     242|     78| 5.984634|\n     242|     71| 5.982554|\n     242|    146| 5.888129|\n     242|    462| 5.881028|\n     242|    261|5.8485723|\n     242|    820| 5.748246|\n     242|    335|5.6423545|\n     242|    353|5.6399474|\n     302|    261|6.1863346|\n     302|    434|6.1821203|\n     302|    550| 6.085868|\n     302|    137|5.9188523|\n     302|    355| 5.882231|\n     302|    324|5.7805114|\n     302|    811|5.7574706|\n     302|    217|  5.73351|\n     302|      4|5.7012696|\n     302|    153|5.6396966|\n+--------+-------+---------+\nonly showing top 20 rows\n\n</div>"
      ]
     },
     "metadata": {
      "application/vnd.databricks.v1+output": {
       "datasetInfos": [],
       "data": "<div class=\"ansiout\">+--------+-------+---------+\n|movie_id|user_id|   rating|\n+--------+-------+---------+\n|     242|    174| 6.303267|\n|     242|    220|6.1601334|\n|     242|     78| 5.984634|\n|     242|     71| 5.982554|\n|     242|    146| 5.888129|\n|     242|    462| 5.881028|\n|     242|    261|5.8485723|\n|     242|    820| 5.748246|\n|     242|    335|5.6423545|\n|     242|    353|5.6399474|\n|     302|    261|6.1863346|\n|     302|    434|6.1821203|\n|     302|    550| 6.085868|\n|     302|    137|5.9188523|\n|     302|    355| 5.882231|\n|     302|    324|5.7805114|\n|     302|    811|5.7574706|\n|     302|    217|  5.73351|\n|     302|      4|5.7012696|\n|     302|    153|5.6396966|\n+--------+-------+---------+\nonly showing top 20 rows\n\n</div>",
       "removedWidgets": [],
       "addedWidgets": {},
       "type": "html",
       "arguments": {}
      }
     },
     "output_type": "execute_result"
    }
   ],
   "source": [
    "# Generate top 10 user recommendations for a specified set of movies after exploding recommendations column.\n",
    "movieSubSetRecs=movieSubSetRecs.withColumn(\"rec_exp\",func.explode(\"recommendations\")).\\\n",
    "                 select('movie_id',func.col(\"rec_exp.user_id\"),func.col(\"rec_exp.rating\"))\n",
    "movieSubSetRecs.show()"
   ]
  },
  {
   "cell_type": "code",
   "execution_count": 0,
   "metadata": {
    "application/vnd.databricks.v1+cell": {
     "title": "",
     "showTitle": false,
     "inputWidgets": {},
     "nuid": "ca05c6c1-152a-47e4-9bdd-080c6a12b4a0"
    }
   },
   "outputs": [
    {
     "data": {
      "text/html": [
       "<style scoped>\n  .ansiout {\n    display: block;\n    unicode-bidi: embed;\n    white-space: pre-wrap;\n    word-wrap: break-word;\n    word-break: break-all;\n    font-family: \"Source Code Pro\", \"Menlo\", monospace;;\n    font-size: 13px;\n    color: #555;\n    margin-left: 4px;\n    line-height: 19px;\n  }\n</style>\n<div class=\"ansiout\">+--------+-------+---------+--------------------+-------------+\nmovie_id|user_id|   rating|               title|       genres|\n+--------+-------+---------+--------------------+-------------+\n     242|    174| 6.303267|Farinelli: il cas...|Drama|Musical|\n     242|    220|6.1601334|Farinelli: il cas...|Drama|Musical|\n     242|     78| 5.984634|Farinelli: il cas...|Drama|Musical|\n     242|     71| 5.982554|Farinelli: il cas...|Drama|Musical|\n     242|    146| 5.888129|Farinelli: il cas...|Drama|Musical|\n     242|    462| 5.881028|Farinelli: il cas...|Drama|Musical|\n     242|    261|5.8485723|Farinelli: il cas...|Drama|Musical|\n     242|    820| 5.748246|Farinelli: il cas...|Drama|Musical|\n     242|    335|5.6423545|Farinelli: il cas...|Drama|Musical|\n     242|    353|5.6399474|Farinelli: il cas...|Drama|Musical|\n+--------+-------+---------+--------------------+-------------+\nonly showing top 10 rows\n\n</div>"
      ]
     },
     "metadata": {
      "application/vnd.databricks.v1+output": {
       "datasetInfos": [],
       "data": "<div class=\"ansiout\">+--------+-------+---------+--------------------+-------------+\n|movie_id|user_id|   rating|               title|       genres|\n+--------+-------+---------+--------------------+-------------+\n|     242|    174| 6.303267|Farinelli: il cas...|Drama|Musical|\n|     242|    220|6.1601334|Farinelli: il cas...|Drama|Musical|\n|     242|     78| 5.984634|Farinelli: il cas...|Drama|Musical|\n|     242|     71| 5.982554|Farinelli: il cas...|Drama|Musical|\n|     242|    146| 5.888129|Farinelli: il cas...|Drama|Musical|\n|     242|    462| 5.881028|Farinelli: il cas...|Drama|Musical|\n|     242|    261|5.8485723|Farinelli: il cas...|Drama|Musical|\n|     242|    820| 5.748246|Farinelli: il cas...|Drama|Musical|\n|     242|    335|5.6423545|Farinelli: il cas...|Drama|Musical|\n|     242|    353|5.6399474|Farinelli: il cas...|Drama|Musical|\n+--------+-------+---------+--------------------+-------------+\nonly showing top 10 rows\n\n</div>",
       "removedWidgets": [],
       "addedWidgets": {},
       "type": "html",
       "arguments": {}
      }
     },
     "output_type": "execute_result"
    }
   ],
   "source": [
    "# Generate top 10 user recommendations for a specified set of movies along with title & genres.\n",
    "movieSubSetRecs.createOrReplaceTempView(\"movieSubset\")\n",
    "spark.sql(\"select s.*,m.title,m.genres from movieSubset s inner join movie m on s.movie_id=m.movieId\").show(10)"
   ]
  },
  {
   "cell_type": "code",
   "execution_count": 0,
   "metadata": {
    "application/vnd.databricks.v1+cell": {
     "title": "",
     "showTitle": false,
     "inputWidgets": {},
     "nuid": "c9d59b30-ba6f-4e2d-a1fa-6d56e8d73a66"
    }
   },
   "outputs": [
    {
     "data": {
      "text/html": [
       "<style scoped>\n  .ansiout {\n    display: block;\n    unicode-bidi: embed;\n    white-space: pre-wrap;\n    word-wrap: break-word;\n    word-break: break-all;\n    font-family: \"Source Code Pro\", \"Menlo\", monospace;;\n    font-size: 13px;\n    color: #555;\n    margin-left: 4px;\n    line-height: 19px;\n  }\n</style>\n<div class=\"ansiout\"></div>"
      ]
     },
     "metadata": {
      "application/vnd.databricks.v1+output": {
       "datasetInfos": [],
       "data": "<div class=\"ansiout\"></div>",
       "removedWidgets": [],
       "addedWidgets": {},
       "type": "html",
       "arguments": {}
      }
     },
     "output_type": "execute_result"
    }
   ],
   "source": [
    "user_id=148\n",
    "user_schema=StructType([StructField(\"user_id\",IntegerType(),True)])\n",
    "users=spark.createDataFrame([[user_id,]],user_schema)"
   ]
  },
  {
   "cell_type": "code",
   "execution_count": 0,
   "metadata": {
    "application/vnd.databricks.v1+cell": {
     "title": "",
     "showTitle": false,
     "inputWidgets": {},
     "nuid": "d62e2010-a88d-47c7-9d01-85a660c972bc"
    }
   },
   "outputs": [
    {
     "data": {
      "text/html": [
       "<style scoped>\n  .ansiout {\n    display: block;\n    unicode-bidi: embed;\n    white-space: pre-wrap;\n    word-wrap: break-word;\n    word-break: break-all;\n    font-family: \"Source Code Pro\", \"Menlo\", monospace;;\n    font-size: 13px;\n    color: #555;\n    margin-left: 4px;\n    line-height: 19px;\n  }\n</style>\n<div class=\"ansiout\">+-------+--------------------+\nuser_id|     recommendations|\n+-------+--------------------+\n    148|[[1512, 11.486127...|\n+-------+--------------------+\n\n</div>"
      ]
     },
     "metadata": {
      "application/vnd.databricks.v1+output": {
       "datasetInfos": [],
       "data": "<div class=\"ansiout\">+-------+--------------------+\n|user_id|     recommendations|\n+-------+--------------------+\n|    148|[[1512, 11.486127...|\n+-------+--------------------+\n\n</div>",
       "removedWidgets": [],
       "addedWidgets": {},
       "type": "html",
       "arguments": {}
      }
     },
     "output_type": "execute_result"
    }
   ],
   "source": [
    "recommendations=model.recommendForUserSubset(users,10)\n",
    "recommendations.show()"
   ]
  },
  {
   "cell_type": "code",
   "execution_count": 0,
   "metadata": {
    "application/vnd.databricks.v1+cell": {
     "title": "",
     "showTitle": false,
     "inputWidgets": {},
     "nuid": "6d35c807-38b7-42b7-89c4-9145f0daee81"
    }
   },
   "outputs": [
    {
     "data": {
      "text/html": [
       "<style scoped>\n  .table-result-container {\n    max-height: 300px;\n    overflow: auto;\n  }\n  table, th, td {\n    border: 1px solid black;\n    border-collapse: collapse;\n  }\n  th, td {\n    padding: 5px;\n  }\n  th {\n    text-align: left;\n  }\n</style><div class='table-result-container'><table class='table-result'><thead style='background-color: white'><tr><th>user_id</th><th>recommendations</th></tr></thead><tbody><tr><td>148</td><td>List(List(1512, 11.486127), List(634, 10.046826), List(650, 9.226193), List(1598, 8.983273), List(1114, 8.9826565), List(1069, 8.96747), List(1036, 8.640676), List(536, 8.638755), List(835, 8.557542), List(1615, 8.47964))</td></tr></tbody></table></div>"
      ]
     },
     "metadata": {
      "application/vnd.databricks.v1+output": {
       "overflow": false,
       "datasetInfos": [],
       "data": [
        [
         148.0,
         [
          [
           1512.0,
           11.486127
          ],
          [
           634.0,
           10.046826
          ],
          [
           650.0,
           9.226193
          ],
          [
           1598.0,
           8.983273
          ],
          [
           1114.0,
           8.9826565
          ],
          [
           1069.0,
           8.96747
          ],
          [
           1036.0,
           8.640676
          ],
          [
           536.0,
           8.638755
          ],
          [
           835.0,
           8.557542
          ],
          [
           1615.0,
           8.47964
          ]
         ]
        ]
       ],
       "plotOptions": {
        "displayType": "table",
        "customPlotOptions": {},
        "pivotColumns": null,
        "pivotAggregation": null,
        "xColumns": null,
        "yColumns": null
       },
       "columnCustomDisplayInfos": {},
       "aggType": "",
       "isJsonSchema": true,
       "removedWidgets": [],
       "aggSchema": [],
       "schema": [
        {
         "name": "user_id",
         "type": "\"integer\"",
         "metadata": "{}"
        },
        {
         "name": "recommendations",
         "type": "{\"type\":\"array\",\"elementType\":{\"type\":\"struct\",\"fields\":[{\"name\":\"movie_id\",\"type\":\"integer\",\"nullable\":true,\"metadata\":{}},{\"name\":\"rating\",\"type\":\"float\",\"nullable\":true,\"metadata\":{}}]},\"containsNull\":true}",
         "metadata": "{}"
        }
       ],
       "aggError": "",
       "aggData": [],
       "addedWidgets": {},
       "dbfsResultPath": null,
       "type": "table",
       "aggOverflow": false,
       "aggSeriesLimitReached": false,
       "arguments": {}
      }
     },
     "output_type": "execute_result"
    }
   ],
   "source": [
    "display(recommendations)"
   ]
  },
  {
   "cell_type": "code",
   "execution_count": 0,
   "metadata": {
    "application/vnd.databricks.v1+cell": {
     "title": "",
     "showTitle": false,
     "inputWidgets": {},
     "nuid": "909ac958-fdca-465a-bc4e-bf3762024d8c"
    }
   },
   "outputs": [
    {
     "data": {
      "text/html": [
       "<style scoped>\n  .ansiout {\n    display: block;\n    unicode-bidi: embed;\n    white-space: pre-wrap;\n    word-wrap: break-word;\n    word-break: break-all;\n    font-family: \"Source Code Pro\", \"Menlo\", monospace;;\n    font-size: 13px;\n    color: #555;\n    margin-left: 4px;\n    line-height: 19px;\n  }\n</style>\n<div class=\"ansiout\">Requirement already satisfied: mlflow in /databricks/conda/envs/databricks-ml/lib/python3.7/site-packages (1.12.1)\r\nRequirement already satisfied: click&gt;=7.0 in /databricks/conda/envs/databricks-ml/lib/python3.7/site-packages (from mlflow) (7.0)\r\nRequirement already satisfied: querystring-parser in /databricks/conda/envs/databricks-ml/lib/python3.7/site-packages (from mlflow) (1.2.4)\r\nRequirement already satisfied: databricks-cli&gt;=0.8.7 in /databricks/conda/envs/databricks-ml/lib/python3.7/site-packages (from mlflow) (0.14.0)\r\nRequirement already satisfied: gitpython&gt;=2.1.0 in /databricks/conda/envs/databricks-ml/lib/python3.7/site-packages (from mlflow) (3.1.0)\r\nCollecting alembic&lt;=1.4.1\r\n  Downloading alembic-1.4.1.tar.gz (1.1 MB)\r\n▎                               | 10 kB 11.5 MB/s eta 0:00:01\r     |▋                               | 20 kB 12.1 MB/s eta 0:00:01\r     |█                               | 30 kB 14.0 MB/s eta 0:00:01\r     |█▏                              | 40 kB 9.2 MB/s eta 0:00:01\r     |█▌                              | 51 kB 8.4 MB/s eta 0:00:01\r     |█▉                              | 61 kB 5.9 MB/s eta 0:00:01\r     |██▏                             | 71 kB 6.2 MB/s eta 0:00:01\r     |██▍                             | 81 kB 6.0 MB/s eta 0:00:01\r     |██▊                             | 92 kB 6.0 MB/s eta 0:00:01\r     |███                             | 102 kB 6.3 MB/s eta 0:00:01\r     |███▎                            | 112 kB 6.3 MB/s eta 0:00:01\r     |███▋                            | 122 kB 6.3 MB/s eta 0:00:01\r     |████                            | 133 kB 6.3 MB/s eta 0:00:01\r     |████▎                           | 143 kB 6.3 MB/s eta 0:00:01\r     |████▌                           | 153 kB 6.3 MB/s eta 0:00:01\r     |████▉                           | 163 kB 6.3 MB/s eta 0:00:01\r     |█████▏                          | 174 kB 6.3 MB/s eta 0:00:01\r     |█████▍                          | 184 kB 6.3 MB/s eta 0:00:01\r     |█████▊                          | 194 kB 6.3 MB/s eta 0:00:01\r     |██████                          | 204 kB 6.3 MB/s eta 0:00:01\r     |██████▍                         | 215 kB 6.3 MB/s eta 0:00:01\r     |██████▋                         | 225 kB 6.3 MB/s eta 0:00:01\r     |███████                         | 235 kB 6.3 MB/s eta 0:00:01\r     |███████▎                        | 245 kB 6.3 MB/s eta 0:00:01\r     |███████▌                        | 256 kB 6.3 MB/s eta 0:00:01\r     |███████▉                        | 266 kB 6.3 MB/s eta 0:00:01\r     |████████▏                       | 276 kB 6.3 MB/s eta 0:00:01\r     |████████▌                       | 286 kB 6.3 MB/s eta 0:00:01\r     |████████▊                       | 296 kB 6.3 MB/s eta 0:00:01\r     |█████████                       | 307 kB 6.3 MB/s eta 0:00:01\r     |█████████▍                      | 317 kB 6.3 MB/s eta 0:00:01\r     |█████████▋                      | 327 kB 6.3 MB/s eta 0:00:01\r     |██████████                      | 337 kB 6.3 MB/s eta 0:00:01\r     |██████████▎                     | 348 kB 6.3 MB/s eta 0:00:01\r     |██████████▋                     | 358 kB 6.3 MB/s eta 0:00:01\r     |██████████▉                     | 368 kB 6.3 MB/s eta 0:00:01\r     |███████████▏                    | 378 kB 6.3 MB/s eta 0:00:01\r     |███████████▌                    | 389 kB 6.3 MB/s eta 0:00:01\r     |███████████▉                    | 399 kB 6.3 MB/s eta 0:00:01\r     |████████████                    | 409 kB 6.3 MB/s eta 0:00:01\r     |████████████▍                   | 419 kB 6.3 MB/s eta 0:00:01\r     |████████████▊                   | 430 kB 6.3 MB/s eta 0:00:01\r     |█████████████                   | 440 kB 6.3 MB/s eta 0:00:01\r     |█████████████▎                  | 450 kB 6.3 MB/s eta 0:00:01\r     |█████████████▋                  | 460 kB 6.3 MB/s eta 0:00:01\r     |██████████████                  | 471 kB 6.3 MB/s eta 0:00:01\r     |██████████████▏                 | 481 kB 6.3 MB/s eta 0:00:01\r     |██████████████▌                 | 491 kB 6.3 MB/s eta 0:00:01\r     |██████████████▉                 | 501 kB 6.3 MB/s eta 0:00:01\r     |███████████████                 | 512 kB 6.3 MB/s eta 0:00:01\r     |███████████████▍                | 522 kB 6.3 MB/s eta 0:00:01\r     |███████████████▊                | 532 kB 6.3 MB/s eta 0:00:01\r     |████████████████                | 542 kB 6.3 MB/s eta 0:00:01\r     |████████████████▎               | 552 kB 6.3 MB/s eta 0:00:01\r     |████████████████▋               | 563 kB 6.3 MB/s eta 0:00:01\r     |█████████████████               | 573 kB 6.3 MB/s eta 0:00:01\r     |█████████████████▏              | 583 kB 6.3 MB/s eta 0:00:01\r     |█████████████████▌              | 593 kB 6.3 MB/s eta 0:00:01\r     |█████████████████▉              | 604 kB 6.3 MB/s eta 0:00:01\r     |██████████████████▏             | 614 kB 6.3 MB/s eta 0:00:01\r     |██████████████████▍             | 624 kB 6.3 MB/s eta 0:00:01\r     |██████████████████▊             | 634 kB 6.3 MB/s eta 0:00:01\r     |███████████████████             | 645 kB 6.3 MB/s eta 0:00:01\r     |███████████████████▎            | 655 kB 6.3 MB/s eta 0:00:01\r     |███████████████████▋            | 665 kB 6.3 MB/s eta 0:00:01\r     |████████████████████            | 675 kB 6.3 MB/s eta 0:00:01\r     |████████████████████▎           | 686 kB 6.3 MB/s eta 0:00:01\r     |████████████████████▌           | 696 kB 6.3 MB/s eta 0:00:01\r     |████████████████████▉           | 706 kB 6.3 MB/s eta 0:00:01\r     |█████████████████████▏          | 716 kB 6.3 MB/s eta 0:00:01\r     |█████████████████████▌          | 727 kB 6.3 MB/s eta 0:00:01\r     |█████████████████████▊          | 737 kB 6.3 MB/s eta 0:00:01\r     |██████████████████████          | 747 kB 6.3 MB/s eta 0:00:01\r     |██████████████████████▍         | 757 kB 6.3 MB/s eta 0:00:01\r     |██████████████████████▋         | 768 kB 6.3 MB/s eta 0:00:01\r     |███████████████████████         | 778 kB 6.3 MB/s eta 0:00:01\r     |███████████████████████▎        | 788 kB 6.3 MB/s eta 0:00:01\r     |███████████████████████▋        | 798 kB 6.3 MB/s eta 0:00:01\r     |███████████████████████▉        | 808 kB 6.3 MB/s eta 0:00:01\r     |████████████████████████▏       | 819 kB 6.3 MB/s eta 0:00:01\r     |████████████████████████▌       | 829 kB 6.3 MB/s eta 0:00:01\r     |████████████████████████▊       | 839 kB 6.3 MB/s eta 0:00:01\r     |█████████████████████████       | 849 kB 6.3 MB/s eta 0:00:01\r     |█████████████████████████▍      | 860 kB 6.3 MB/s eta 0:00:01\r     |█████████████████████████▊      | 870 kB 6.3 MB/s eta 0:00:01\r     |██████████████████████████      | 880 kB 6.3 MB/s eta 0:00:01\r     |██████████████████████████▎     | 890 kB 6.3 MB/s eta 0:00:01\r     |██████████████████████████▋     | 901 kB 6.3 MB/s eta 0:00:01\r     |██████████████████████████▉     | 911 kB 6.3 MB/s eta 0:00:01\r     |███████████████████████████▏    | 921 kB 6.3 MB/s eta 0:00:01\r     |███████████████████████████▌    | 931 kB 6.3 MB/s eta 0:00:01\r     |███████████████████████████▉    | 942 kB 6.3 MB/s eta 0:00:01\r     |████████████████████████████    | 952 kB 6.3 MB/s eta 0:00:01\r     |████████████████████████████▍   | 962 kB 6.3 MB/s eta 0:00:01\r     |████████████████████████████▊   | 972 kB 6.3 MB/s eta 0:00:01\r     |█████████████████████████████   | 983 kB 6.3 MB/s eta 0:00:01\r     |█████████████████████████████▎  | 993 kB 6.3 MB/s eta 0:00:01\r     |█████████████████████████████▋  | 1.0 MB 6.3 MB/s eta 0:00:01\r     |██████████████████████████████  | 1.0 MB 6.3 MB/s eta 0:00:01\r     |██████████████████████████████▏ | 1.0 MB 6.3 MB/s eta 0:00:01\r     |██████████████████████████████▌ | 1.0 MB 6.3 MB/s eta 0:00:01\r     |██████████████████████████████▉ | 1.0 MB 6.3 MB/s eta 0:00:01\r     |███████████████████████████████▏| 1.1 MB 6.3 MB/s eta 0:00:01\r     |███████████████████████████████▍| 1.1 MB 6.3 MB/s eta 0:00:01\r     |███████████████████████████████▊| 1.1 MB 6.3 MB/s eta 0:00:01\r     |████████████████████████████████| 1.1 MB 6.3 MB/s \r\nCollecting prometheus-flask-exporter\r\n  Downloading prometheus_flask_exporter-0.18.1.tar.gz (21 kB)\r\nRequirement already satisfied: numpy in /databricks/conda/envs/databricks-ml/lib/python3.7/site-packages (from mlflow) (1.18.1)\r\nRequirement already satisfied: requests&gt;=2.17.3 in /databricks/conda/envs/databricks-ml/lib/python3.7/site-packages (from mlflow) (2.22.0)\r\nRequirement already satisfied: entrypoints in /databricks/conda/envs/databricks-ml/lib/python3.7/site-packages (from mlflow) (0.3)\r\nCollecting sqlalchemy\r\n  Downloading SQLAlchemy-1.3.23-cp37-cp37m-manylinux2010_x86_64.whl (1.3 MB)\r\n▎                               | 10 kB 23.3 MB/s eta 0:00:01\r     |▌                               | 20 kB 27.9 MB/s eta 0:00:01\r     |▊                               | 30 kB 30.5 MB/s eta 0:00:01\r     |█                               | 40 kB 33.8 MB/s eta 0:00:01\r     |█▎                              | 51 kB 18.2 MB/s eta 0:00:01\r     |█▌                              | 61 kB 20.2 MB/s eta 0:00:01\r     |█▉                              | 71 kB 18.8 MB/s eta 0:00:01\r     |██                              | 81 kB 20.2 MB/s eta 0:00:01\r     |██▎                             | 92 kB 19.6 MB/s eta 0:00:01\r     |██▋                             | 102 kB 15.9 MB/s eta 0:00:01\r     |██▉                             | 112 kB 15.9 MB/s eta 0:00:01\r     |███                             | 122 kB 15.9 MB/s eta 0:00:01\r     |███▍                            | 133 kB 15.9 MB/s eta 0:00:01\r     |███▋                            | 143 kB 15.9 MB/s eta 0:00:01\r     |███▉                            | 153 kB 15.9 MB/s eta 0:00:01\r     |████▏                           | 163 kB 15.9 MB/s eta 0:00:01\r     |████▍                           | 174 kB 15.9 MB/s eta 0:00:01\r     |████▋                           | 184 kB 15.9 MB/s eta 0:00:01\r     |█████                           | 194 kB 15.9 MB/s eta 0:00:01\r     |█████▏                          | 204 kB 15.9 MB/s eta 0:00:01\r     |█████▍                          | 215 kB 15.9 MB/s eta 0:00:01\r     |█████▊                          | 225 kB 15.9 MB/s eta 0:00:01\r     |██████                          | 235 kB 15.9 MB/s eta 0:00:01\r     |██████▏                         | 245 kB 15.9 MB/s eta 0:00:01\r     |██████▌                         | 256 kB 15.9 MB/s eta 0:00:01\r     |██████▊                         | 266 kB 15.9 MB/s eta 0:00:01\r     |███████                         | 276 kB 15.9 MB/s eta 0:00:01\r     |███████▎                        | 286 kB 15.9 MB/s eta 0:00:01\r     |███████▌                        | 296 kB 15.9 MB/s eta 0:00:01\r     |███████▊                        | 307 kB 15.9 MB/s eta 0:00:01\r     |████████                        | 317 kB 15.9 MB/s eta 0:00:01\r     |████████▎                       | 327 kB 15.9 MB/s eta 0:00:01\r     |████████▌                       | 337 kB 15.9 MB/s eta 0:00:01\r     |████████▉                       | 348 kB 15.9 MB/s eta 0:00:01\r     |█████████                       | 358 kB 15.9 MB/s eta 0:00:01\r     |█████████▎                      | 368 kB 15.9 MB/s eta 0:00:01\r     |█████████▋                      | 378 kB 15.9 MB/s eta 0:00:01\r     |█████████▉                      | 389 kB 15.9 MB/s eta 0:00:01\r     |██████████                      | 399 kB 15.9 MB/s eta 0:00:01\r     |██████████▍                     | 409 kB 15.9 MB/s eta 0:00:01\r     |██████████▋                     | 419 kB 15.9 MB/s eta 0:00:01\r     |██████████▉                     | 430 kB 15.9 MB/s eta 0:00:01\r     |███████████▏                    | 440 kB 15.9 MB/s eta 0:00:01\r     |███████████▍                    | 450 kB 15.9 MB/s eta 0:00:01\r     |███████████▋                    | 460 kB 15.9 MB/s eta 0:00:01\r     |████████████                    | 471 kB 15.9 MB/s eta 0:00:01\r     |████████████▏                   | 481 kB 15.9 MB/s eta 0:00:01\r     |████████████▍                   | 491 kB 15.9 MB/s eta 0:00:01\r     |████████████▊                   | 501 kB 15.9 MB/s eta 0:00:01\r     |█████████████                   | 512 kB 15.9 MB/s eta 0:00:01\r     |█████████████▏                  | 522 kB 15.9 MB/s eta 0:00:01\r     |█████████████▌                  | 532 kB 15.9 MB/s eta 0:00:01\r     |█████████████▊                  | 542 kB 15.9 MB/s eta 0:00:01\r     |██████████████                  | 552 kB 15.9 MB/s eta 0:00:01\r     |██████████████▎                 | 563 kB 15.9 MB/s eta 0:00:01\r     |██████████████▌                 | 573 kB 15.9 MB/s eta 0:00:01\r     |██████████████▊                 | 583 kB 15.9 MB/s eta 0:00:01\r     |███████████████                 | 593 kB 15.9 MB/s eta 0:00:01\r     |███████████████▎                | 604 kB 15.9 MB/s eta 0:00:01\r     |███████████████▌                | 614 kB 15.9 MB/s eta 0:00:01\r     |███████████████▉                | 624 kB 15.9 MB/s eta 0:00:01\r     |████████████████                | 634 kB 15.9 MB/s eta 0:00:01\r     |████████████████▎               | 645 kB 15.9 MB/s eta 0:00:01\r     |████████████████▋               | 655 kB 15.9 MB/s eta 0:00:01\r     |████████████████▉               | 665 kB 15.9 MB/s eta 0:00:01\r     |█████████████████               | 675 kB 15.9 MB/s eta 0:00:01\r     |█████████████████▍              | 686 kB 15.9 MB/s eta 0:00:01\r     |█████████████████▋              | 696 kB 15.9 MB/s eta 0:00:01\r     |█████████████████▉              | 706 kB 15.9 MB/s eta 0:00:01\r     |██████████████████▏             | 716 kB 15.9 MB/s eta 0:00:01\r     |██████████████████▍             | 727 kB 15.9 MB/s eta 0:00:01\r     |██████████████████▋             | 737 kB 15.9 MB/s eta 0:00:01\r     |███████████████████             | 747 kB 15.9 MB/s eta 0:00:01\r     |███████████████████▏            | 757 kB 15.9 MB/s eta 0:00:01\r     |███████████████████▍            | 768 kB 15.9 MB/s eta 0:00:01\r     |███████████████████▋            | 778 kB 15.9 MB/s eta 0:00:01\r     |████████████████████            | 788 kB 15.9 MB/s eta 0:00:01\r     |████████████████████▏           | 798 kB 15.9 MB/s eta 0:00:01\r     |████████████████████▍           | 808 kB 15.9 MB/s eta 0:00:01\r     |████████████████████▊           | 819 kB 15.9 MB/s eta 0:00:01\r     |█████████████████████           | 829 kB 15.9 MB/s eta 0:00:01\r     |█████████████████████▏          | 839 kB 15.9 MB/s eta 0:00:01\r     |█████████████████████▌          | 849 kB 15.9 MB/s eta 0:00:01\r     |█████████████████████▊          | 860 kB 15.9 MB/s eta 0:00:01\r     |██████████████████████          | 870 kB 15.9 MB/s eta 0:00:01\r     |██████████████████████▎         | 880 kB 15.9 MB/s eta 0:00:01\r     |██████████████████████▌         | 890 kB 15.9 MB/s eta 0:00:01\r     |██████████████████████▊         | 901 kB 15.9 MB/s eta 0:00:01\r     |███████████████████████         | 911 kB 15.9 MB/s eta 0:00:01\r     |███████████████████████▎        | 921 kB 15.9 MB/s eta 0:00:01\r     |███████████████████████▌        | 931 kB 15.9 MB/s eta 0:00:01\r     |███████████████████████▉        | 942 kB 15.9 MB/s eta 0:00:01\r     |████████████████████████        | 952 kB 15.9 MB/s eta 0:00:01\r     |████████████████████████▎       | 962 kB 15.9 MB/s eta 0:00:01\r     |████████████████████████▋       | 972 kB 15.9 MB/s eta 0:00:01\r     |████████████████████████▉       | 983 kB 15.9 MB/s eta 0:00:01\r     |█████████████████████████       | 993 kB 15.9 MB/s eta 0:00:01\r     |█████████████████████████▍      | 1.0 MB 15.9 MB/s eta 0:00:01\r     |█████████████████████████▋      | 1.0 MB 15.9 MB/s eta 0:00:01\r     |█████████████████████████▉      | 1.0 MB 15.9 MB/s eta 0:00:01\r     |██████████████████████████▏     | 1.0 MB 15.9 MB/s eta 0:00:01\r     |██████████████████████████▍     | 1.0 MB 15.9 MB/s eta 0:00:01\r     |██████████████████████████▋     | 1.1 MB 15.9 MB/s eta 0:00:01\r     |███████████████████████████     | 1.1 MB 15.9 MB/s eta 0:00:01\r     |███████████████████████████▏    | 1.1 MB 15.9 MB/s eta 0:00:01\r     |███████████████████████████▍    | 1.1 MB 15.9 MB/s eta 0:00:01\r     |███████████████████████████▊    | 1.1 MB 15.9 MB/s eta 0:00:01\r     |████████████████████████████    | 1.1 MB 15.9 MB/s eta 0:00:01\r     |████████████████████████████▏   | 1.1 MB 15.9 MB/s eta 0:00:01\r     |████████████████████████████▌   | 1.1 MB 15.9 MB/s eta 0:00:01\r     |████████████████████████████▊   | 1.1 MB 15.9 MB/s eta 0:00:01\r     |█████████████████████████████   | 1.1 MB 15.9 MB/s eta 0:00:01\r     |█████████████████████████████▎  | 1.2 MB 15.9 MB/s eta 0:00:01\r     |█████████████████████████████▌  | 1.2 MB 15.9 MB/s eta 0:00:01\r     |█████████████████████████████▊  | 1.2 MB 15.9 MB/s eta 0:00:01\r     |██████████████████████████████  | 1.2 MB 15.9 MB/s eta 0:00:01\r     |██████████████████████████████▎ | 1.2 MB 15.9 MB/s eta 0:00:01\r     |██████████████████████████████▌ | 1.2 MB 15.9 MB/s eta 0:00:01\r     |██████████████████████████████▉ | 1.2 MB 15.9 MB/s eta 0:00:01\r     |███████████████████████████████ | 1.2 MB 15.9 MB/s eta 0:00:01\r     |███████████████████████████████▎| 1.2 MB 15.9 MB/s eta 0:00:01\r     |███████████████████████████████▋| 1.2 MB 15.9 MB/s eta 0:00:01\r     |███████████████████████████████▉| 1.3 MB 15.9 MB/s eta 0:00:01\r     |████████████████████████████████| 1.3 MB 15.9 MB/s \r\nRequirement already satisfied: cloudpickle in /databricks/conda/envs/databricks-ml/lib/python3.7/site-packages (from mlflow) (1.4.1)\r\nRequirement already satisfied: python-dateutil in /databricks/conda/envs/databricks-ml/lib/python3.7/site-packages (from mlflow) (2.8.1)\r\nRequirement already satisfied: pyyaml in /databricks/conda/envs/databricks-ml/lib/python3.7/site-packages (from mlflow) (5.3.1)\r\nRequirement already satisfied: Flask in /databricks/conda/envs/databricks-ml/lib/python3.7/site-packages (from mlflow) (1.1.1)\r\nRequirement already satisfied: protobuf&gt;=3.6.0 in /databricks/conda/envs/databricks-ml/lib/python3.7/site-packages (from mlflow) (3.11.4)\r\nRequirement already satisfied: sqlparse&gt;=0.3.1 in /databricks/conda/envs/databricks-ml/lib/python3.7/site-packages (from mlflow) (0.4.1)\r\nRequirement already satisfied: docker&gt;=4.0.0 in /databricks/conda/envs/databricks-ml/lib/python3.7/site-packages (from mlflow) (4.4.0)\r\nRequirement already satisfied: pandas in /databricks/conda/envs/databricks-ml/lib/python3.7/site-packages (from mlflow) (1.0.1)\r\nRequirement already satisfied: six&gt;=1.10.0 in /databricks/conda/envs/databricks-ml/lib/python3.7/site-packages (from mlflow) (1.14.0)\r\nRequirement already satisfied: azure-storage-blob in /databricks/conda/envs/databricks-ml/lib/python3.7/site-packages (from mlflow) (12.6.0)\r\nRequirement already satisfied: gunicorn; platform_system != &#34;Windows&#34; in /databricks/conda/envs/databricks-ml/lib/python3.7/site-packages (from mlflow) (20.0.4)\r\nRequirement already satisfied: tabulate&gt;=0.7.7 in /databricks/conda/envs/databricks-ml/lib/python3.7/site-packages (from databricks-cli&gt;=0.8.7-&gt;mlflow) (0.8.3)\r\nRequirement already satisfied: gitdb&lt;5,&gt;=4.0.1 in /databricks/conda/envs/databricks-ml/lib/python3.7/site-packages (from gitpython&gt;=2.1.0-&gt;mlflow) (4.0.5)\r\nRequirement already satisfied: Mako in /databricks/conda/envs/databricks-ml/lib/python3.7/site-packages (from alembic&lt;=1.4.1-&gt;mlflow) (1.1.2)\r\nRequirement already satisfied: python-editor&gt;=0.3 in /databricks/conda/envs/databricks-ml/lib/python3.7/site-packages (from alembic&lt;=1.4.1-&gt;mlflow) (1.0.4)\r\nCollecting prometheus_client\r\n  Downloading prometheus_client-0.9.0-py2.py3-none-any.whl (53 kB)\r\n██████                          | 10 kB 26.7 MB/s eta 0:00:01\r     |████████████▏                   | 20 kB 28.8 MB/s eta 0:00:01\r     |██████████████████▎             | 30 kB 33.9 MB/s eta 0:00:01\r     |████████████████████████▍       | 40 kB 37.1 MB/s eta 0:00:01\r     |██████████████████████████████▍ | 51 kB 38.8 MB/s eta 0:00:01\r     |████████████████████████████████| 53 kB 3.8 MB/s \r\nRequirement already satisfied: urllib3!=1.25.0,!=1.25.1,&lt;1.26,&gt;=1.21.1 in /databricks/conda/envs/databricks-ml/lib/python3.7/site-packages (from requests&gt;=2.17.3-&gt;mlflow) (1.25.8)\r\nRequirement already satisfied: idna&lt;2.9,&gt;=2.5 in /databricks/conda/envs/databricks-ml/lib/python3.7/site-packages (from requests&gt;=2.17.3-&gt;mlflow) (2.8)\r\nRequirement already satisfied: chardet&lt;3.1.0,&gt;=3.0.2 in /databricks/conda/envs/databricks-ml/lib/python3.7/site-packages (from requests&gt;=2.17.3-&gt;mlflow) (3.0.4)\r\nRequirement already satisfied: certifi&gt;=2017.4.17 in /databricks/conda/envs/databricks-ml/lib/python3.7/site-packages (from requests&gt;=2.17.3-&gt;mlflow) (2020.11.8)\r\nRequirement already satisfied: itsdangerous&gt;=0.24 in /databricks/conda/envs/databricks-ml/lib/python3.7/site-packages (from Flask-&gt;mlflow) (1.1.0)\r\nRequirement already satisfied: Jinja2&gt;=2.10.1 in /databricks/conda/envs/databricks-ml/lib/python3.7/site-packages (from Flask-&gt;mlflow) (2.11.1)\r\nRequirement already satisfied: Werkzeug&gt;=0.15 in /databricks/conda/envs/databricks-ml/lib/python3.7/site-packages (from Flask-&gt;mlflow) (1.0.0)\r\nRequirement already satisfied: setuptools in /databricks/conda/envs/databricks-ml/lib/python3.7/site-packages (from protobuf&gt;=3.6.0-&gt;mlflow) (45.2.0.post20200210)\r\nRequirement already satisfied: websocket-client&gt;=0.32.0 in /databricks/conda/envs/databricks-ml/lib/python3.7/site-packages (from docker&gt;=4.0.0-&gt;mlflow) (0.56.0)\r\nRequirement already satisfied: pytz&gt;=2017.2 in /databricks/conda/envs/databricks-ml/lib/python3.7/site-packages (from pandas-&gt;mlflow) (2019.3)\r\nRequirement already satisfied: msrest&gt;=0.6.10 in /databricks/conda/envs/databricks-ml/lib/python3.7/site-packages (from azure-storage-blob-&gt;mlflow) (0.6.19)\r\nRequirement already satisfied: azure-core&lt;2.0.0,&gt;=1.9.0 in /databricks/conda/envs/databricks-ml/lib/python3.7/site-packages (from azure-storage-blob-&gt;mlflow) (1.9.0)\r\nRequirement already satisfied: cryptography&gt;=2.1.4 in /databricks/conda/envs/databricks-ml/lib/python3.7/site-packages (from azure-storage-blob-&gt;mlflow) (2.8)\r\nRequirement already satisfied: smmap&lt;4,&gt;=3.0.1 in /databricks/conda/envs/databricks-ml/lib/python3.7/site-packages (from gitdb&lt;5,&gt;=4.0.1-&gt;gitpython&gt;=2.1.0-&gt;mlflow) (3.0.4)\r\nRequirement already satisfied: MarkupSafe&gt;=0.9.2 in /databricks/conda/envs/databricks-ml/lib/python3.7/site-packages (from Mako-&gt;alembic&lt;=1.4.1-&gt;mlflow) (1.1.1)\r\nRequirement already satisfied: isodate&gt;=0.6.0 in /databricks/conda/envs/databricks-ml/lib/python3.7/site-packages (from msrest&gt;=0.6.10-&gt;azure-storage-blob-&gt;mlflow) (0.6.0)\r\nRequirement already satisfied: requests-oauthlib&gt;=0.5.0 in /databricks/conda/envs/databricks-ml/lib/python3.7/site-packages (from msrest&gt;=0.6.10-&gt;azure-storage-blob-&gt;mlflow) (1.3.0)\r\nRequirement already satisfied: cffi!=1.11.3,&gt;=1.8 in /databricks/conda/envs/databricks-ml/lib/python3.7/site-packages (from cryptography&gt;=2.1.4-&gt;azure-storage-blob-&gt;mlflow) (1.14.0)\r\nRequirement already satisfied: oauthlib&gt;=3.0.0 in /databricks/conda/envs/databricks-ml/lib/python3.7/site-packages (from requests-oauthlib&gt;=0.5.0-&gt;msrest&gt;=0.6.10-&gt;azure-storage-blob-&gt;mlflow) (3.1.0)\r\nRequirement already satisfied: pycparser in /databricks/conda/envs/databricks-ml/lib/python3.7/site-packages (from cffi!=1.11.3,&gt;=1.8-&gt;cryptography&gt;=2.1.4-&gt;azure-storage-blob-&gt;mlflow) (2.19)\r\nBuilding wheels for collected packages: alembic, prometheus-flask-exporter\r\n  Building wheel for alembic (setup.py) ... -\b \b\\\b \b|\b \bdone\r\n  Created wheel for alembic: filename=alembic-1.4.1-py2.py3-none-any.whl size=158154 sha256=b059a3fa3175aa7c9465533bf6e3a55685e9a203d8ae3cf4c43e7d5818769da7\r\n  Stored in directory: /home/root/.cache/pip/wheels/be/5d/0a/9e13f53f4f5dfb67cd8d245bb7cdffe12f135846f491a283e3\r\n  Building wheel for prometheus-flask-exporter (setup.py) ... -\b \b\\\b \bdone\r\n  Created wheel for prometheus-flask-exporter: filename=prometheus_flask_exporter-0.18.1-py3-none-any.whl size=17157 sha256=5cccbf5c7f224a34a667a31e9c79f21c8b71f13dddb69d7730594707d4bd681a\r\n  Stored in directory: /home/root/.cache/pip/wheels/c4/b6/b5/e76659f3b2a3a226565e27f0a7eb7a3ac93c3f4d68acfbe617\r\nSuccessfully built alembic prometheus-flask-exporter\r\nInstalling collected packages: sqlalchemy, alembic, prometheus-client, prometheus-flask-exporter\r\nSuccessfully installed alembic-1.4.1 prometheus-client-0.9.0 prometheus-flask-exporter-0.18.1 sqlalchemy-1.3.23\r\n</div>"
      ]
     },
     "metadata": {
      "application/vnd.databricks.v1+output": {
       "datasetInfos": [],
       "data": "<div class=\"ansiout\">Requirement already satisfied: mlflow in /databricks/conda/envs/databricks-ml/lib/python3.7/site-packages (1.12.1)\r\nRequirement already satisfied: click&gt;=7.0 in /databricks/conda/envs/databricks-ml/lib/python3.7/site-packages (from mlflow) (7.0)\r\nRequirement already satisfied: querystring-parser in /databricks/conda/envs/databricks-ml/lib/python3.7/site-packages (from mlflow) (1.2.4)\r\nRequirement already satisfied: databricks-cli&gt;=0.8.7 in /databricks/conda/envs/databricks-ml/lib/python3.7/site-packages (from mlflow) (0.14.0)\r\nRequirement already satisfied: gitpython&gt;=2.1.0 in /databricks/conda/envs/databricks-ml/lib/python3.7/site-packages (from mlflow) (3.1.0)\r\nCollecting alembic&lt;=1.4.1\r\n  Downloading alembic-1.4.1.tar.gz (1.1 MB)\r\n\r     |▎                               | 10 kB 11.5 MB/s eta 0:00:01\r     |▋                               | 20 kB 12.1 MB/s eta 0:00:01\r     |█                               | 30 kB 14.0 MB/s eta 0:00:01\r     |█▏                              | 40 kB 9.2 MB/s eta 0:00:01\r     |█▌                              | 51 kB 8.4 MB/s eta 0:00:01\r     |█▉                              | 61 kB 5.9 MB/s eta 0:00:01\r     |██▏                             | 71 kB 6.2 MB/s eta 0:00:01\r     |██▍                             | 81 kB 6.0 MB/s eta 0:00:01\r     |██▊                             | 92 kB 6.0 MB/s eta 0:00:01\r     |███                             | 102 kB 6.3 MB/s eta 0:00:01\r     |███▎                            | 112 kB 6.3 MB/s eta 0:00:01\r     |███▋                            | 122 kB 6.3 MB/s eta 0:00:01\r     |████                            | 133 kB 6.3 MB/s eta 0:00:01\r     |████▎                           | 143 kB 6.3 MB/s eta 0:00:01\r     |████▌                           | 153 kB 6.3 MB/s eta 0:00:01\r     |████▉                           | 163 kB 6.3 MB/s eta 0:00:01\r     |█████▏                          | 174 kB 6.3 MB/s eta 0:00:01\r     |█████▍                          | 184 kB 6.3 MB/s eta 0:00:01\r     |█████▊                          | 194 kB 6.3 MB/s eta 0:00:01\r     |██████                          | 204 kB 6.3 MB/s eta 0:00:01\r     |██████▍                         | 215 kB 6.3 MB/s eta 0:00:01\r     |██████▋                         | 225 kB 6.3 MB/s eta 0:00:01\r     |███████                         | 235 kB 6.3 MB/s eta 0:00:01\r     |███████▎                        | 245 kB 6.3 MB/s eta 0:00:01\r     |███████▌                        | 256 kB 6.3 MB/s eta 0:00:01\r     |███████▉                        | 266 kB 6.3 MB/s eta 0:00:01\r     |████████▏                       | 276 kB 6.3 MB/s eta 0:00:01\r     |████████▌                       | 286 kB 6.3 MB/s eta 0:00:01\r     |████████▊                       | 296 kB 6.3 MB/s eta 0:00:01\r     |█████████                       | 307 kB 6.3 MB/s eta 0:00:01\r     |█████████▍                      | 317 kB 6.3 MB/s eta 0:00:01\r     |█████████▋                      | 327 kB 6.3 MB/s eta 0:00:01\r     |██████████                      | 337 kB 6.3 MB/s eta 0:00:01\r     |██████████▎                     | 348 kB 6.3 MB/s eta 0:00:01\r     |██████████▋                     | 358 kB 6.3 MB/s eta 0:00:01\r     |██████████▉                     | 368 kB 6.3 MB/s eta 0:00:01\r     |███████████▏                    | 378 kB 6.3 MB/s eta 0:00:01\r     |███████████▌                    | 389 kB 6.3 MB/s eta 0:00:01\r     |███████████▉                    | 399 kB 6.3 MB/s eta 0:00:01\r     |████████████                    | 409 kB 6.3 MB/s eta 0:00:01\r     |████████████▍                   | 419 kB 6.3 MB/s eta 0:00:01\r     |████████████▊                   | 430 kB 6.3 MB/s eta 0:00:01\r     |█████████████                   | 440 kB 6.3 MB/s eta 0:00:01\r     |█████████████▎                  | 450 kB 6.3 MB/s eta 0:00:01\r     |█████████████▋                  | 460 kB 6.3 MB/s eta 0:00:01\r     |██████████████                  | 471 kB 6.3 MB/s eta 0:00:01\r     |██████████████▏                 | 481 kB 6.3 MB/s eta 0:00:01\r     |██████████████▌                 | 491 kB 6.3 MB/s eta 0:00:01\r     |██████████████▉                 | 501 kB 6.3 MB/s eta 0:00:01\r     |███████████████                 | 512 kB 6.3 MB/s eta 0:00:01\r     |███████████████▍                | 522 kB 6.3 MB/s eta 0:00:01\r     |███████████████▊                | 532 kB 6.3 MB/s eta 0:00:01\r     |████████████████                | 542 kB 6.3 MB/s eta 0:00:01\r     |████████████████▎               | 552 kB 6.3 MB/s eta 0:00:01\r     |████████████████▋               | 563 kB 6.3 MB/s eta 0:00:01\r     |█████████████████               | 573 kB 6.3 MB/s eta 0:00:01\r     |█████████████████▏              | 583 kB 6.3 MB/s eta 0:00:01\r     |█████████████████▌              | 593 kB 6.3 MB/s eta 0:00:01\r     |█████████████████▉              | 604 kB 6.3 MB/s eta 0:00:01\r     |██████████████████▏             | 614 kB 6.3 MB/s eta 0:00:01\r     |██████████████████▍             | 624 kB 6.3 MB/s eta 0:00:01\r     |██████████████████▊             | 634 kB 6.3 MB/s eta 0:00:01\r     |███████████████████             | 645 kB 6.3 MB/s eta 0:00:01\r     |███████████████████▎            | 655 kB 6.3 MB/s eta 0:00:01\r     |███████████████████▋            | 665 kB 6.3 MB/s eta 0:00:01\r     |████████████████████            | 675 kB 6.3 MB/s eta 0:00:01\r     |████████████████████▎           | 686 kB 6.3 MB/s eta 0:00:01\r     |████████████████████▌           | 696 kB 6.3 MB/s eta 0:00:01\r     |████████████████████▉           | 706 kB 6.3 MB/s eta 0:00:01\r     |█████████████████████▏          | 716 kB 6.3 MB/s eta 0:00:01\r     |█████████████████████▌          | 727 kB 6.3 MB/s eta 0:00:01\r     |█████████████████████▊          | 737 kB 6.3 MB/s eta 0:00:01\r     |██████████████████████          | 747 kB 6.3 MB/s eta 0:00:01\r     |██████████████████████▍         | 757 kB 6.3 MB/s eta 0:00:01\r     |██████████████████████▋         | 768 kB 6.3 MB/s eta 0:00:01\r     |███████████████████████         | 778 kB 6.3 MB/s eta 0:00:01\r     |███████████████████████▎        | 788 kB 6.3 MB/s eta 0:00:01\r     |███████████████████████▋        | 798 kB 6.3 MB/s eta 0:00:01\r     |███████████████████████▉        | 808 kB 6.3 MB/s eta 0:00:01\r     |████████████████████████▏       | 819 kB 6.3 MB/s eta 0:00:01\r     |████████████████████████▌       | 829 kB 6.3 MB/s eta 0:00:01\r     |████████████████████████▊       | 839 kB 6.3 MB/s eta 0:00:01\r     |█████████████████████████       | 849 kB 6.3 MB/s eta 0:00:01\r     |█████████████████████████▍      | 860 kB 6.3 MB/s eta 0:00:01\r     |█████████████████████████▊      | 870 kB 6.3 MB/s eta 0:00:01\r     |██████████████████████████      | 880 kB 6.3 MB/s eta 0:00:01\r     |██████████████████████████▎     | 890 kB 6.3 MB/s eta 0:00:01\r     |██████████████████████████▋     | 901 kB 6.3 MB/s eta 0:00:01\r     |██████████████████████████▉     | 911 kB 6.3 MB/s eta 0:00:01\r     |███████████████████████████▏    | 921 kB 6.3 MB/s eta 0:00:01\r     |███████████████████████████▌    | 931 kB 6.3 MB/s eta 0:00:01\r     |███████████████████████████▉    | 942 kB 6.3 MB/s eta 0:00:01\r     |████████████████████████████    | 952 kB 6.3 MB/s eta 0:00:01\r     |████████████████████████████▍   | 962 kB 6.3 MB/s eta 0:00:01\r     |████████████████████████████▊   | 972 kB 6.3 MB/s eta 0:00:01\r     |█████████████████████████████   | 983 kB 6.3 MB/s eta 0:00:01\r     |█████████████████████████████▎  | 993 kB 6.3 MB/s eta 0:00:01\r     |█████████████████████████████▋  | 1.0 MB 6.3 MB/s eta 0:00:01\r     |██████████████████████████████  | 1.0 MB 6.3 MB/s eta 0:00:01\r     |██████████████████████████████▏ | 1.0 MB 6.3 MB/s eta 0:00:01\r     |██████████████████████████████▌ | 1.0 MB 6.3 MB/s eta 0:00:01\r     |██████████████████████████████▉ | 1.0 MB 6.3 MB/s eta 0:00:01\r     |███████████████████████████████▏| 1.1 MB 6.3 MB/s eta 0:00:01\r     |███████████████████████████████▍| 1.1 MB 6.3 MB/s eta 0:00:01\r     |███████████████████████████████▊| 1.1 MB 6.3 MB/s eta 0:00:01\r     |████████████████████████████████| 1.1 MB 6.3 MB/s \r\nCollecting prometheus-flask-exporter\r\n  Downloading prometheus_flask_exporter-0.18.1.tar.gz (21 kB)\r\nRequirement already satisfied: numpy in /databricks/conda/envs/databricks-ml/lib/python3.7/site-packages (from mlflow) (1.18.1)\r\nRequirement already satisfied: requests&gt;=2.17.3 in /databricks/conda/envs/databricks-ml/lib/python3.7/site-packages (from mlflow) (2.22.0)\r\nRequirement already satisfied: entrypoints in /databricks/conda/envs/databricks-ml/lib/python3.7/site-packages (from mlflow) (0.3)\r\nCollecting sqlalchemy\r\n  Downloading SQLAlchemy-1.3.23-cp37-cp37m-manylinux2010_x86_64.whl (1.3 MB)\r\n\r     |▎                               | 10 kB 23.3 MB/s eta 0:00:01\r     |▌                               | 20 kB 27.9 MB/s eta 0:00:01\r     |▊                               | 30 kB 30.5 MB/s eta 0:00:01\r     |█                               | 40 kB 33.8 MB/s eta 0:00:01\r     |█▎                              | 51 kB 18.2 MB/s eta 0:00:01\r     |█▌                              | 61 kB 20.2 MB/s eta 0:00:01\r     |█▉                              | 71 kB 18.8 MB/s eta 0:00:01\r     |██                              | 81 kB 20.2 MB/s eta 0:00:01\r     |██▎                             | 92 kB 19.6 MB/s eta 0:00:01\r     |██▋                             | 102 kB 15.9 MB/s eta 0:00:01\r     |██▉                             | 112 kB 15.9 MB/s eta 0:00:01\r     |███                             | 122 kB 15.9 MB/s eta 0:00:01\r     |███▍                            | 133 kB 15.9 MB/s eta 0:00:01\r     |███▋                            | 143 kB 15.9 MB/s eta 0:00:01\r     |███▉                            | 153 kB 15.9 MB/s eta 0:00:01\r     |████▏                           | 163 kB 15.9 MB/s eta 0:00:01\r     |████▍                           | 174 kB 15.9 MB/s eta 0:00:01\r     |████▋                           | 184 kB 15.9 MB/s eta 0:00:01\r     |█████                           | 194 kB 15.9 MB/s eta 0:00:01\r     |█████▏                          | 204 kB 15.9 MB/s eta 0:00:01\r     |█████▍                          | 215 kB 15.9 MB/s eta 0:00:01\r     |█████▊                          | 225 kB 15.9 MB/s eta 0:00:01\r     |██████                          | 235 kB 15.9 MB/s eta 0:00:01\r     |██████▏                         | 245 kB 15.9 MB/s eta 0:00:01\r     |██████▌                         | 256 kB 15.9 MB/s eta 0:00:01\r     |██████▊                         | 266 kB 15.9 MB/s eta 0:00:01\r     |███████                         | 276 kB 15.9 MB/s eta 0:00:01\r     |███████▎                        | 286 kB 15.9 MB/s eta 0:00:01\r     |███████▌                        | 296 kB 15.9 MB/s eta 0:00:01\r     |███████▊                        | 307 kB 15.9 MB/s eta 0:00:01\r     |████████                        | 317 kB 15.9 MB/s eta 0:00:01\r     |████████▎                       | 327 kB 15.9 MB/s eta 0:00:01\r     |████████▌                       | 337 kB 15.9 MB/s eta 0:00:01\r     |████████▉                       | 348 kB 15.9 MB/s eta 0:00:01\r     |█████████                       | 358 kB 15.9 MB/s eta 0:00:01\r     |█████████▎                      | 368 kB 15.9 MB/s eta 0:00:01\r     |█████████▋                      | 378 kB 15.9 MB/s eta 0:00:01\r     |█████████▉                      | 389 kB 15.9 MB/s eta 0:00:01\r     |██████████                      | 399 kB 15.9 MB/s eta 0:00:01\r     |██████████▍                     | 409 kB 15.9 MB/s eta 0:00:01\r     |██████████▋                     | 419 kB 15.9 MB/s eta 0:00:01\r     |██████████▉                     | 430 kB 15.9 MB/s eta 0:00:01\r     |███████████▏                    | 440 kB 15.9 MB/s eta 0:00:01\r     |███████████▍                    | 450 kB 15.9 MB/s eta 0:00:01\r     |███████████▋                    | 460 kB 15.9 MB/s eta 0:00:01\r     |████████████                    | 471 kB 15.9 MB/s eta 0:00:01\r     |████████████▏                   | 481 kB 15.9 MB/s eta 0:00:01\r     |████████████▍                   | 491 kB 15.9 MB/s eta 0:00:01\r     |████████████▊                   | 501 kB 15.9 MB/s eta 0:00:01\r     |█████████████                   | 512 kB 15.9 MB/s eta 0:00:01\r     |█████████████▏                  | 522 kB 15.9 MB/s eta 0:00:01\r     |█████████████▌                  | 532 kB 15.9 MB/s eta 0:00:01\r     |█████████████▊                  | 542 kB 15.9 MB/s eta 0:00:01\r     |██████████████                  | 552 kB 15.9 MB/s eta 0:00:01\r     |██████████████▎                 | 563 kB 15.9 MB/s eta 0:00:01\r     |██████████████▌                 | 573 kB 15.9 MB/s eta 0:00:01\r     |██████████████▊                 | 583 kB 15.9 MB/s eta 0:00:01\r     |███████████████                 | 593 kB 15.9 MB/s eta 0:00:01\r     |███████████████▎                | 604 kB 15.9 MB/s eta 0:00:01\r     |███████████████▌                | 614 kB 15.9 MB/s eta 0:00:01\r     |███████████████▉                | 624 kB 15.9 MB/s eta 0:00:01\r     |████████████████                | 634 kB 15.9 MB/s eta 0:00:01\r     |████████████████▎               | 645 kB 15.9 MB/s eta 0:00:01\r     |████████████████▋               | 655 kB 15.9 MB/s eta 0:00:01\r     |████████████████▉               | 665 kB 15.9 MB/s eta 0:00:01\r     |█████████████████               | 675 kB 15.9 MB/s eta 0:00:01\r     |█████████████████▍              | 686 kB 15.9 MB/s eta 0:00:01\r     |█████████████████▋              | 696 kB 15.9 MB/s eta 0:00:01\r     |█████████████████▉              | 706 kB 15.9 MB/s eta 0:00:01\r     |██████████████████▏             | 716 kB 15.9 MB/s eta 0:00:01\r     |██████████████████▍             | 727 kB 15.9 MB/s eta 0:00:01\r     |██████████████████▋             | 737 kB 15.9 MB/s eta 0:00:01\r     |███████████████████             | 747 kB 15.9 MB/s eta 0:00:01\r     |███████████████████▏            | 757 kB 15.9 MB/s eta 0:00:01\r     |███████████████████▍            | 768 kB 15.9 MB/s eta 0:00:01\r     |███████████████████▋            | 778 kB 15.9 MB/s eta 0:00:01\r     |████████████████████            | 788 kB 15.9 MB/s eta 0:00:01\r     |████████████████████▏           | 798 kB 15.9 MB/s eta 0:00:01\r     |████████████████████▍           | 808 kB 15.9 MB/s eta 0:00:01\r     |████████████████████▊           | 819 kB 15.9 MB/s eta 0:00:01\r     |█████████████████████           | 829 kB 15.9 MB/s eta 0:00:01\r     |█████████████████████▏          | 839 kB 15.9 MB/s eta 0:00:01\r     |█████████████████████▌          | 849 kB 15.9 MB/s eta 0:00:01\r     |█████████████████████▊          | 860 kB 15.9 MB/s eta 0:00:01\r     |██████████████████████          | 870 kB 15.9 MB/s eta 0:00:01\r     |██████████████████████▎         | 880 kB 15.9 MB/s eta 0:00:01\r     |██████████████████████▌         | 890 kB 15.9 MB/s eta 0:00:01\r     |██████████████████████▊         | 901 kB 15.9 MB/s eta 0:00:01\r     |███████████████████████         | 911 kB 15.9 MB/s eta 0:00:01\r     |███████████████████████▎        | 921 kB 15.9 MB/s eta 0:00:01\r     |███████████████████████▌        | 931 kB 15.9 MB/s eta 0:00:01\r     |███████████████████████▉        | 942 kB 15.9 MB/s eta 0:00:01\r     |████████████████████████        | 952 kB 15.9 MB/s eta 0:00:01\r     |████████████████████████▎       | 962 kB 15.9 MB/s eta 0:00:01\r     |████████████████████████▋       | 972 kB 15.9 MB/s eta 0:00:01\r     |████████████████████████▉       | 983 kB 15.9 MB/s eta 0:00:01\r     |█████████████████████████       | 993 kB 15.9 MB/s eta 0:00:01\r     |█████████████████████████▍      | 1.0 MB 15.9 MB/s eta 0:00:01\r     |█████████████████████████▋      | 1.0 MB 15.9 MB/s eta 0:00:01\r     |█████████████████████████▉      | 1.0 MB 15.9 MB/s eta 0:00:01\r     |██████████████████████████▏     | 1.0 MB 15.9 MB/s eta 0:00:01\r     |██████████████████████████▍     | 1.0 MB 15.9 MB/s eta 0:00:01\r     |██████████████████████████▋     | 1.1 MB 15.9 MB/s eta 0:00:01\r     |███████████████████████████     | 1.1 MB 15.9 MB/s eta 0:00:01\r     |███████████████████████████▏    | 1.1 MB 15.9 MB/s eta 0:00:01\r     |███████████████████████████▍    | 1.1 MB 15.9 MB/s eta 0:00:01\r     |███████████████████████████▊    | 1.1 MB 15.9 MB/s eta 0:00:01\r     |████████████████████████████    | 1.1 MB 15.9 MB/s eta 0:00:01\r     |████████████████████████████▏   | 1.1 MB 15.9 MB/s eta 0:00:01\r     |████████████████████████████▌   | 1.1 MB 15.9 MB/s eta 0:00:01\r     |████████████████████████████▊   | 1.1 MB 15.9 MB/s eta 0:00:01\r     |█████████████████████████████   | 1.1 MB 15.9 MB/s eta 0:00:01\r     |█████████████████████████████▎  | 1.2 MB 15.9 MB/s eta 0:00:01\r     |█████████████████████████████▌  | 1.2 MB 15.9 MB/s eta 0:00:01\r     |█████████████████████████████▊  | 1.2 MB 15.9 MB/s eta 0:00:01\r     |██████████████████████████████  | 1.2 MB 15.9 MB/s eta 0:00:01\r     |██████████████████████████████▎ | 1.2 MB 15.9 MB/s eta 0:00:01\r     |██████████████████████████████▌ | 1.2 MB 15.9 MB/s eta 0:00:01\r     |██████████████████████████████▉ | 1.2 MB 15.9 MB/s eta 0:00:01\r     |███████████████████████████████ | 1.2 MB 15.9 MB/s eta 0:00:01\r     |███████████████████████████████▎| 1.2 MB 15.9 MB/s eta 0:00:01\r     |███████████████████████████████▋| 1.2 MB 15.9 MB/s eta 0:00:01\r     |███████████████████████████████▉| 1.3 MB 15.9 MB/s eta 0:00:01\r     |████████████████████████████████| 1.3 MB 15.9 MB/s \r\nRequirement already satisfied: cloudpickle in /databricks/conda/envs/databricks-ml/lib/python3.7/site-packages (from mlflow) (1.4.1)\r\nRequirement already satisfied: python-dateutil in /databricks/conda/envs/databricks-ml/lib/python3.7/site-packages (from mlflow) (2.8.1)\r\nRequirement already satisfied: pyyaml in /databricks/conda/envs/databricks-ml/lib/python3.7/site-packages (from mlflow) (5.3.1)\r\nRequirement already satisfied: Flask in /databricks/conda/envs/databricks-ml/lib/python3.7/site-packages (from mlflow) (1.1.1)\r\nRequirement already satisfied: protobuf&gt;=3.6.0 in /databricks/conda/envs/databricks-ml/lib/python3.7/site-packages (from mlflow) (3.11.4)\r\nRequirement already satisfied: sqlparse&gt;=0.3.1 in /databricks/conda/envs/databricks-ml/lib/python3.7/site-packages (from mlflow) (0.4.1)\r\nRequirement already satisfied: docker&gt;=4.0.0 in /databricks/conda/envs/databricks-ml/lib/python3.7/site-packages (from mlflow) (4.4.0)\r\nRequirement already satisfied: pandas in /databricks/conda/envs/databricks-ml/lib/python3.7/site-packages (from mlflow) (1.0.1)\r\nRequirement already satisfied: six&gt;=1.10.0 in /databricks/conda/envs/databricks-ml/lib/python3.7/site-packages (from mlflow) (1.14.0)\r\nRequirement already satisfied: azure-storage-blob in /databricks/conda/envs/databricks-ml/lib/python3.7/site-packages (from mlflow) (12.6.0)\r\nRequirement already satisfied: gunicorn; platform_system != &#34;Windows&#34; in /databricks/conda/envs/databricks-ml/lib/python3.7/site-packages (from mlflow) (20.0.4)\r\nRequirement already satisfied: tabulate&gt;=0.7.7 in /databricks/conda/envs/databricks-ml/lib/python3.7/site-packages (from databricks-cli&gt;=0.8.7-&gt;mlflow) (0.8.3)\r\nRequirement already satisfied: gitdb&lt;5,&gt;=4.0.1 in /databricks/conda/envs/databricks-ml/lib/python3.7/site-packages (from gitpython&gt;=2.1.0-&gt;mlflow) (4.0.5)\r\nRequirement already satisfied: Mako in /databricks/conda/envs/databricks-ml/lib/python3.7/site-packages (from alembic&lt;=1.4.1-&gt;mlflow) (1.1.2)\r\nRequirement already satisfied: python-editor&gt;=0.3 in /databricks/conda/envs/databricks-ml/lib/python3.7/site-packages (from alembic&lt;=1.4.1-&gt;mlflow) (1.0.4)\r\nCollecting prometheus_client\r\n  Downloading prometheus_client-0.9.0-py2.py3-none-any.whl (53 kB)\r\n\r     |██████                          | 10 kB 26.7 MB/s eta 0:00:01\r     |████████████▏                   | 20 kB 28.8 MB/s eta 0:00:01\r     |██████████████████▎             | 30 kB 33.9 MB/s eta 0:00:01\r     |████████████████████████▍       | 40 kB 37.1 MB/s eta 0:00:01\r     |██████████████████████████████▍ | 51 kB 38.8 MB/s eta 0:00:01\r     |████████████████████████████████| 53 kB 3.8 MB/s \r\nRequirement already satisfied: urllib3!=1.25.0,!=1.25.1,&lt;1.26,&gt;=1.21.1 in /databricks/conda/envs/databricks-ml/lib/python3.7/site-packages (from requests&gt;=2.17.3-&gt;mlflow) (1.25.8)\r\nRequirement already satisfied: idna&lt;2.9,&gt;=2.5 in /databricks/conda/envs/databricks-ml/lib/python3.7/site-packages (from requests&gt;=2.17.3-&gt;mlflow) (2.8)\r\nRequirement already satisfied: chardet&lt;3.1.0,&gt;=3.0.2 in /databricks/conda/envs/databricks-ml/lib/python3.7/site-packages (from requests&gt;=2.17.3-&gt;mlflow) (3.0.4)\r\nRequirement already satisfied: certifi&gt;=2017.4.17 in /databricks/conda/envs/databricks-ml/lib/python3.7/site-packages (from requests&gt;=2.17.3-&gt;mlflow) (2020.11.8)\r\nRequirement already satisfied: itsdangerous&gt;=0.24 in /databricks/conda/envs/databricks-ml/lib/python3.7/site-packages (from Flask-&gt;mlflow) (1.1.0)\r\nRequirement already satisfied: Jinja2&gt;=2.10.1 in /databricks/conda/envs/databricks-ml/lib/python3.7/site-packages (from Flask-&gt;mlflow) (2.11.1)\r\nRequirement already satisfied: Werkzeug&gt;=0.15 in /databricks/conda/envs/databricks-ml/lib/python3.7/site-packages (from Flask-&gt;mlflow) (1.0.0)\r\nRequirement already satisfied: setuptools in /databricks/conda/envs/databricks-ml/lib/python3.7/site-packages (from protobuf&gt;=3.6.0-&gt;mlflow) (45.2.0.post20200210)\r\nRequirement already satisfied: websocket-client&gt;=0.32.0 in /databricks/conda/envs/databricks-ml/lib/python3.7/site-packages (from docker&gt;=4.0.0-&gt;mlflow) (0.56.0)\r\nRequirement already satisfied: pytz&gt;=2017.2 in /databricks/conda/envs/databricks-ml/lib/python3.7/site-packages (from pandas-&gt;mlflow) (2019.3)\r\nRequirement already satisfied: msrest&gt;=0.6.10 in /databricks/conda/envs/databricks-ml/lib/python3.7/site-packages (from azure-storage-blob-&gt;mlflow) (0.6.19)\r\nRequirement already satisfied: azure-core&lt;2.0.0,&gt;=1.9.0 in /databricks/conda/envs/databricks-ml/lib/python3.7/site-packages (from azure-storage-blob-&gt;mlflow) (1.9.0)\r\nRequirement already satisfied: cryptography&gt;=2.1.4 in /databricks/conda/envs/databricks-ml/lib/python3.7/site-packages (from azure-storage-blob-&gt;mlflow) (2.8)\r\nRequirement already satisfied: smmap&lt;4,&gt;=3.0.1 in /databricks/conda/envs/databricks-ml/lib/python3.7/site-packages (from gitdb&lt;5,&gt;=4.0.1-&gt;gitpython&gt;=2.1.0-&gt;mlflow) (3.0.4)\r\nRequirement already satisfied: MarkupSafe&gt;=0.9.2 in /databricks/conda/envs/databricks-ml/lib/python3.7/site-packages (from Mako-&gt;alembic&lt;=1.4.1-&gt;mlflow) (1.1.1)\r\nRequirement already satisfied: isodate&gt;=0.6.0 in /databricks/conda/envs/databricks-ml/lib/python3.7/site-packages (from msrest&gt;=0.6.10-&gt;azure-storage-blob-&gt;mlflow) (0.6.0)\r\nRequirement already satisfied: requests-oauthlib&gt;=0.5.0 in /databricks/conda/envs/databricks-ml/lib/python3.7/site-packages (from msrest&gt;=0.6.10-&gt;azure-storage-blob-&gt;mlflow) (1.3.0)\r\nRequirement already satisfied: cffi!=1.11.3,&gt;=1.8 in /databricks/conda/envs/databricks-ml/lib/python3.7/site-packages (from cryptography&gt;=2.1.4-&gt;azure-storage-blob-&gt;mlflow) (1.14.0)\r\nRequirement already satisfied: oauthlib&gt;=3.0.0 in /databricks/conda/envs/databricks-ml/lib/python3.7/site-packages (from requests-oauthlib&gt;=0.5.0-&gt;msrest&gt;=0.6.10-&gt;azure-storage-blob-&gt;mlflow) (3.1.0)\r\nRequirement already satisfied: pycparser in /databricks/conda/envs/databricks-ml/lib/python3.7/site-packages (from cffi!=1.11.3,&gt;=1.8-&gt;cryptography&gt;=2.1.4-&gt;azure-storage-blob-&gt;mlflow) (2.19)\r\nBuilding wheels for collected packages: alembic, prometheus-flask-exporter\r\n  Building wheel for alembic (setup.py) ... -\b \b\\\b \b|\b \bdone\r\n  Created wheel for alembic: filename=alembic-1.4.1-py2.py3-none-any.whl size=158154 sha256=b059a3fa3175aa7c9465533bf6e3a55685e9a203d8ae3cf4c43e7d5818769da7\r\n  Stored in directory: /home/root/.cache/pip/wheels/be/5d/0a/9e13f53f4f5dfb67cd8d245bb7cdffe12f135846f491a283e3\r\n  Building wheel for prometheus-flask-exporter (setup.py) ... -\b \b\\\b \bdone\r\n  Created wheel for prometheus-flask-exporter: filename=prometheus_flask_exporter-0.18.1-py3-none-any.whl size=17157 sha256=5cccbf5c7f224a34a667a31e9c79f21c8b71f13dddb69d7730594707d4bd681a\r\n  Stored in directory: /home/root/.cache/pip/wheels/c4/b6/b5/e76659f3b2a3a226565e27f0a7eb7a3ac93c3f4d68acfbe617\r\nSuccessfully built alembic prometheus-flask-exporter\r\nInstalling collected packages: sqlalchemy, alembic, prometheus-client, prometheus-flask-exporter\r\nSuccessfully installed alembic-1.4.1 prometheus-client-0.9.0 prometheus-flask-exporter-0.18.1 sqlalchemy-1.3.23\r\n</div>",
       "removedWidgets": [],
       "addedWidgets": {},
       "type": "html",
       "arguments": {}
      }
     },
     "output_type": "execute_result"
    }
   ],
   "source": [
    "!pip install mlflow"
   ]
  },
  {
   "cell_type": "code",
   "execution_count": 0,
   "metadata": {
    "application/vnd.databricks.v1+cell": {
     "title": "",
     "showTitle": false,
     "inputWidgets": {},
     "nuid": "8f1d6013-56ad-4c67-9c06-af483c616ac2"
    }
   },
   "outputs": [
    {
     "data": {
      "text/html": [
       "<style scoped>\n  .ansiout {\n    display: block;\n    unicode-bidi: embed;\n    white-space: pre-wrap;\n    word-wrap: break-word;\n    word-break: break-all;\n    font-family: \"Source Code Pro\", \"Menlo\", monospace;;\n    font-size: 13px;\n    color: #555;\n    margin-left: 4px;\n    line-height: 19px;\n  }\n</style>\n<div class=\"ansiout\">&lt;class &#39;pyspark.ml.recommendation.ALS&#39;&gt;\n+-------+--------+------+----------+\nuser_id|movie_id|rating|prediction|\n+-------+--------+------+----------+\n    148|      70|     5| 3.3717582|\n    148|      71|     5|  4.428236|\n    148|      89|     5| 4.0484786|\n    148|     114|     5|  6.087761|\n    148|     116|     5| 3.2340446|\n+-------+--------+------+----------+\nonly showing top 5 rows\n\nNone\n1.0327622309754132\n</div>"
      ]
     },
     "metadata": {
      "application/vnd.databricks.v1+output": {
       "datasetInfos": [],
       "data": "<div class=\"ansiout\">&lt;class &#39;pyspark.ml.recommendation.ALS&#39;&gt;\n+-------+--------+------+----------+\n|user_id|movie_id|rating|prediction|\n+-------+--------+------+----------+\n|    148|      70|     5| 3.3717582|\n|    148|      71|     5|  4.428236|\n|    148|      89|     5| 4.0484786|\n|    148|     114|     5|  6.087761|\n|    148|     116|     5| 3.2340446|\n+-------+--------+------+----------+\nonly showing top 5 rows\n\nNone\n1.0327622309754132\n</div>",
       "removedWidgets": [],
       "addedWidgets": {},
       "type": "html",
       "arguments": {}
      }
     },
     "output_type": "execute_result"
    }
   ],
   "source": [
    "import mlflow\n",
    "with mlflow.start_run():\n",
    "  als=ALS(userCol=\"user_id\",itemCol=\"movie_id\",ratingCol=\"rating\",nonnegative=True,implicitPrefs=False,coldStartStrategy=\"drop\",maxIter=5,regParam=0.01)\n",
    "  print(type(als))\n",
    "  model=als.fit(train_data)\n",
    "  test_predictions=model.transform(test_data)\n",
    "  print(test_predictions.show(5))\n",
    "  evaluator=RegressionEvaluator(labelCol=\"rating\",predictionCol=\"prediction\",metricName=\"rmse\")\n",
    "  RMSE=evaluator.evaluate(test_predictions)\n",
    "  print(RMSE)"
   ]
  },
  {
   "cell_type": "code",
   "execution_count": 0,
   "metadata": {
    "application/vnd.databricks.v1+cell": {
     "title": "",
     "showTitle": false,
     "inputWidgets": {},
     "nuid": "170ded43-0010-451d-90ef-26a7e496c53a"
    }
   },
   "outputs": [
    {
     "data": {
      "text/html": [
       "<style scoped>\n  .ansiout {\n    display: block;\n    unicode-bidi: embed;\n    white-space: pre-wrap;\n    word-wrap: break-word;\n    word-break: break-all;\n    font-family: \"Source Code Pro\", \"Menlo\", monospace;;\n    font-size: 13px;\n    color: #555;\n    margin-left: 4px;\n    line-height: 19px;\n  }\n</style>\n<div class=\"ansiout\"></div>"
      ]
     },
     "metadata": {
      "application/vnd.databricks.v1+output": {
       "datasetInfos": [],
       "data": "<div class=\"ansiout\"></div>",
       "removedWidgets": [],
       "addedWidgets": {},
       "type": "html",
       "arguments": {}
      }
     },
     "output_type": "execute_result"
    }
   ],
   "source": [
    "from pyspark.ml.recommendation import ALS\n",
    "from pyspark.ml.tuning import ParamGridBuilder,CrossValidator\n",
    "from pyspark.ml.evaluation import RegressionEvaluator\n",
    "import mlflow"
   ]
  },
  {
   "cell_type": "code",
   "execution_count": 0,
   "metadata": {
    "application/vnd.databricks.v1+cell": {
     "title": "",
     "showTitle": false,
     "inputWidgets": {},
     "nuid": "29aae5af-fedc-4ca4-a08c-38761402e0be"
    }
   },
   "outputs": [
    {
     "data": {
      "text/html": [
       "<style scoped>\n  .ansiout {\n    display: block;\n    unicode-bidi: embed;\n    white-space: pre-wrap;\n    word-wrap: break-word;\n    word-break: break-all;\n    font-family: \"Source Code Pro\", \"Menlo\", monospace;;\n    font-size: 13px;\n    color: #555;\n    margin-left: 4px;\n    line-height: 19px;\n  }\n</style>\n<div class=\"ansiout\">&lt;class &#39;pyspark.ml.recommendation.ALS&#39;&gt;\n1\nCrossValidator_edfcf156115b\nMLlib will automatically track trials in MLflow. After your tuning fit() call has completed, view the MLflow UI to see logged runs.\n&lt;class &#39;pyspark.ml.recommendation.ALSModel&#39;&gt;\nRank: 10\nMaxIter: 5\nRegParam: 0.01\n+-------+--------+------+----------+\nuser_id|movie_id|rating|prediction|\n+-------+--------+------+----------+\n    148|      70|     5| 3.3717582|\n    148|      71|     5|  4.428236|\n    148|      89|     5| 4.0484786|\n    148|     114|     5|  6.087761|\n    148|     116|     5| 3.2340446|\n+-------+--------+------+----------+\nonly showing top 5 rows\n\nNone\n1.0327622309754132\n</div>"
      ]
     },
     "metadata": {
      "application/vnd.databricks.v1+output": {
       "datasetInfos": [],
       "data": "<div class=\"ansiout\">&lt;class &#39;pyspark.ml.recommendation.ALS&#39;&gt;\n1\nCrossValidator_edfcf156115b\nMLlib will automatically track trials in MLflow. After your tuning fit() call has completed, view the MLflow UI to see logged runs.\n&lt;class &#39;pyspark.ml.recommendation.ALSModel&#39;&gt;\nRank: 10\nMaxIter: 5\nRegParam: 0.01\n+-------+--------+------+----------+\n|user_id|movie_id|rating|prediction|\n+-------+--------+------+----------+\n|    148|      70|     5| 3.3717582|\n|    148|      71|     5|  4.428236|\n|    148|      89|     5| 4.0484786|\n|    148|     114|     5|  6.087761|\n|    148|     116|     5| 3.2340446|\n+-------+--------+------+----------+\nonly showing top 5 rows\n\nNone\n1.0327622309754132\n</div>",
       "removedWidgets": [],
       "addedWidgets": {},
       "type": "html",
       "arguments": {}
      }
     },
     "output_type": "execute_result"
    }
   ],
   "source": [
    "with mlflow.start_run():\n",
    "  als=ALS(userCol=\"user_id\",itemCol=\"movie_id\",ratingCol=\"rating\",nonnegative=True,implicitPrefs=False,coldStartStrategy=\"drop\")\n",
    "  print(type(als))\n",
    "  param_grid=ParamGridBuilder().addGrid(als.rank,[10]).addGrid(als.regParam,[.01]).addGrid(als.maxIter,[5]).build()\n",
    "  print(len(param_grid))\n",
    "  evaluator=RegressionEvaluator(labelCol=\"rating\",predictionCol=\"prediction\",metricName=\"rmse\")\n",
    "  cv=CrossValidator(estimator=als,estimatorParamMaps=param_grid,evaluator=evaluator,numFolds=3)\n",
    "  print(cv)\n",
    "  model=cv.fit(train_data)\n",
    "  best_model=model.bestModel\n",
    "  print(type(best_model))\n",
    "  print(\"Rank:\", best_model._java_obj.parent().getRank())\n",
    "  print(\"MaxIter:\", best_model._java_obj.parent().getMaxIter())\n",
    "  print(\"RegParam:\", best_model._java_obj.parent().getRegParam())\n",
    "  test_predictions = best_model.transform(test_data)\n",
    "  print(test_predictions.show(5))\n",
    "  RMSE = evaluator.evaluate(test_predictions)\n",
    "  print(str(RMSE))"
   ]
  },
  {
   "cell_type": "code",
   "execution_count": 0,
   "metadata": {
    "application/vnd.databricks.v1+cell": {
     "title": "",
     "showTitle": false,
     "inputWidgets": {},
     "nuid": "8ddfab76-1f87-4705-840a-669e3f3dfb76"
    }
   },
   "outputs": [
    {
     "data": {
      "text/html": [
       "<style scoped>\n  .ansiout {\n    display: block;\n    unicode-bidi: embed;\n    white-space: pre-wrap;\n    word-wrap: break-word;\n    word-break: break-all;\n    font-family: \"Source Code Pro\", \"Menlo\", monospace;;\n    font-size: 13px;\n    color: #555;\n    margin-left: 4px;\n    line-height: 19px;\n  }\n</style>\n<div class=\"ansiout\">/databricks/spark/python/pyspark/sql/context.py:120: DeprecationWarning: Deprecated in 3.0.0. Use SparkSession.builder.getOrCreate() instead.\n  DeprecationWarning)\n+-------+--------------------+\nuser_id|     recommendations|\n+-------+--------------------+\n      1|[[1643, 5.76429],...|\n      3|[[1643, 6.7678995...|\n      6|[[1643, 7.1557565...|\n     12|[[1512, 9.139532]...|\n     13|[[1463, 6.34708],...|\n     16|[[1192, 8.608451]...|\n     20|[[146, 11.883984]...|\n     22|[[1192, 9.977172]...|\n     26|[[1192, 5.6740723...|\n     27|[[1643, 7.432513]...|\n+-------+--------------------+\n\n</div>"
      ]
     },
     "metadata": {
      "application/vnd.databricks.v1+output": {
       "datasetInfos": [],
       "data": "<div class=\"ansiout\">/databricks/spark/python/pyspark/sql/context.py:120: DeprecationWarning: Deprecated in 3.0.0. Use SparkSession.builder.getOrCreate() instead.\n  DeprecationWarning)\n+-------+--------------------+\n|user_id|     recommendations|\n+-------+--------------------+\n|      1|[[1643, 5.76429],...|\n|      3|[[1643, 6.7678995...|\n|      6|[[1643, 7.1557565...|\n|     12|[[1512, 9.139532]...|\n|     13|[[1463, 6.34708],...|\n|     16|[[1192, 8.608451]...|\n|     20|[[146, 11.883984]...|\n|     22|[[1192, 9.977172]...|\n|     26|[[1192, 5.6740723...|\n|     27|[[1643, 7.432513]...|\n+-------+--------------------+\n\n</div>",
       "removedWidgets": [],
       "addedWidgets": {},
       "type": "html",
       "arguments": {}
      }
     },
     "output_type": "execute_result"
    }
   ],
   "source": [
    "# Generate top 10 movie recommendations for each user.\n",
    "nrecommendations1=best_model.recommendForAllUsers(10)\n",
    "nrecommendations1.limit(10).show()"
   ]
  },
  {
   "cell_type": "code",
   "execution_count": 0,
   "metadata": {
    "application/vnd.databricks.v1+cell": {
     "title": "",
     "showTitle": false,
     "inputWidgets": {},
     "nuid": "2e040108-847d-4f4a-886b-615ebd3b2905"
    }
   },
   "outputs": [
    {
     "data": {
      "text/html": [
       "<style scoped>\n  .ansiout {\n    display: block;\n    unicode-bidi: embed;\n    white-space: pre-wrap;\n    word-wrap: break-word;\n    word-break: break-all;\n    font-family: \"Source Code Pro\", \"Menlo\", monospace;;\n    font-size: 13px;\n    color: #555;\n    margin-left: 4px;\n    line-height: 19px;\n  }\n</style>\n<div class=\"ansiout\">+-------+--------+---------+\nuser_id|movie_id|   rating|\n+-------+--------+---------+\n      1|    1643|  5.76429|\n      1|    1449|5.7395797|\n      1|     745| 5.634434|\n      1|    1463|5.4635696|\n      1|    1558|5.3780684|\n      1|    1192|5.3707514|\n      1|    1169|  5.27847|\n      1|     390|5.1752806|\n      1|    1126| 5.133106|\n      1|     953|5.1252027|\n+-------+--------+---------+\n\n</div>"
      ]
     },
     "metadata": {
      "application/vnd.databricks.v1+output": {
       "datasetInfos": [],
       "data": "<div class=\"ansiout\">+-------+--------+---------+\n|user_id|movie_id|   rating|\n+-------+--------+---------+\n|      1|    1643|  5.76429|\n|      1|    1449|5.7395797|\n|      1|     745| 5.634434|\n|      1|    1463|5.4635696|\n|      1|    1558|5.3780684|\n|      1|    1192|5.3707514|\n|      1|    1169|  5.27847|\n|      1|     390|5.1752806|\n|      1|    1126| 5.133106|\n|      1|     953|5.1252027|\n+-------+--------+---------+\n\n</div>",
       "removedWidgets": [],
       "addedWidgets": {},
       "type": "html",
       "arguments": {}
      }
     },
     "output_type": "execute_result"
    }
   ],
   "source": [
    "# Generate top 10 movie recommendations for each user after exploding recommendations column.\n",
    "nrecommendations1=nrecommendations1.withColumn(\"rec_exp\",func.explode(\"recommendations\")).\\\n",
    "                 select('user_id',func.col(\"rec_exp.movie_id\"),func.col(\"rec_exp.rating\"))\n",
    "nrecommendations1.limit(10).show()"
   ]
  },
  {
   "cell_type": "code",
   "execution_count": 0,
   "metadata": {
    "application/vnd.databricks.v1+cell": {
     "title": "",
     "showTitle": false,
     "inputWidgets": {},
     "nuid": "84dcd726-0c4e-4bce-99a7-87b537855c35"
    }
   },
   "outputs": [
    {
     "data": {
      "text/html": [
       "<style scoped>\n  .ansiout {\n    display: block;\n    unicode-bidi: embed;\n    white-space: pre-wrap;\n    word-wrap: break-word;\n    word-break: break-all;\n    font-family: \"Source Code Pro\", \"Menlo\", monospace;;\n    font-size: 13px;\n    color: #555;\n    margin-left: 4px;\n    line-height: 19px;\n  }\n</style>\n<div class=\"ansiout\"></div>"
      ]
     },
     "metadata": {
      "application/vnd.databricks.v1+output": {
       "datasetInfos": [],
       "data": "<div class=\"ansiout\"></div>",
       "removedWidgets": [],
       "addedWidgets": {},
       "type": "html",
       "arguments": {}
      }
     },
     "output_type": "execute_result"
    }
   ],
   "source": [
    "nrecommendations1.createOrReplaceTempView(\"recommends\")"
   ]
  },
  {
   "cell_type": "code",
   "execution_count": 0,
   "metadata": {
    "application/vnd.databricks.v1+cell": {
     "title": "",
     "showTitle": false,
     "inputWidgets": {},
     "nuid": "55691f8a-4e1d-4c62-a092-5721f0119bd3"
    }
   },
   "outputs": [
    {
     "data": {
      "text/html": [
       "<style scoped>\n  .ansiout {\n    display: block;\n    unicode-bidi: embed;\n    white-space: pre-wrap;\n    word-wrap: break-word;\n    word-break: break-all;\n    font-family: \"Source Code Pro\", \"Menlo\", monospace;;\n    font-size: 13px;\n    color: #555;\n    margin-left: 4px;\n    line-height: 19px;\n  }\n</style>\n<div class=\"ansiout\">+-------+--------+---------+--------------------+--------------------+\nuser_id|movie_id|   rating|               title|              genres|\n+-------+--------+---------+--------------------+--------------------+\n      1|    1643|  5.76429|Mrs. Brown (a.k.a...|       Drama|Romance|\n      1|    1449|5.7395797|Waiting for Guffm...|              Comedy|\n      1|     745| 5.634434|Wallace &amp; Gromit:...|Animation|Childre...|\n      1|    1463|5.4635696|That Old Feeling ...|      Comedy|Romance|\n      1|    1558|5.3780684|Sudden Manhattan ...|              Comedy|\n      1|    1192|5.3707514|Paris Is Burning ...|         Documentary|\n      1|    1169|  5.27847|American Dream (1...|         Documentary|\n      1|     390|5.1752806|Faster Pussycat! ...|  Action|Crime|Drama|\n      1|    1126| 5.133106|Drop Dead Fred (1...|      Comedy|Fantasy|\n      1|     953|5.1252027|It&#39;s a Wonderful ...|Children|Drama|Fa...|\n+-------+--------+---------+--------------------+--------------------+\nonly showing top 10 rows\n\n</div>"
      ]
     },
     "metadata": {
      "application/vnd.databricks.v1+output": {
       "datasetInfos": [],
       "data": "<div class=\"ansiout\">+-------+--------+---------+--------------------+--------------------+\n|user_id|movie_id|   rating|               title|              genres|\n+-------+--------+---------+--------------------+--------------------+\n|      1|    1643|  5.76429|Mrs. Brown (a.k.a...|       Drama|Romance|\n|      1|    1449|5.7395797|Waiting for Guffm...|              Comedy|\n|      1|     745| 5.634434|Wallace &amp; Gromit:...|Animation|Childre...|\n|      1|    1463|5.4635696|That Old Feeling ...|      Comedy|Romance|\n|      1|    1558|5.3780684|Sudden Manhattan ...|              Comedy|\n|      1|    1192|5.3707514|Paris Is Burning ...|         Documentary|\n|      1|    1169|  5.27847|American Dream (1...|         Documentary|\n|      1|     390|5.1752806|Faster Pussycat! ...|  Action|Crime|Drama|\n|      1|    1126| 5.133106|Drop Dead Fred (1...|      Comedy|Fantasy|\n|      1|     953|5.1252027|It&#39;s a Wonderful ...|Children|Drama|Fa...|\n+-------+--------+---------+--------------------+--------------------+\nonly showing top 10 rows\n\n</div>",
       "removedWidgets": [],
       "addedWidgets": {},
       "type": "html",
       "arguments": {}
      }
     },
     "output_type": "execute_result"
    }
   ],
   "source": [
    "# Generate top 10 movie recommendations for each user along with title & genres.\n",
    "spark.sql(\"select re.*,m.title,m.genres from recommends re inner join movie m on re.movie_id==m.movieId\").show(10)"
   ]
  },
  {
   "cell_type": "code",
   "execution_count": 0,
   "metadata": {
    "application/vnd.databricks.v1+cell": {
     "title": "",
     "showTitle": false,
     "inputWidgets": {},
     "nuid": "f3252607-2d77-4fc6-b60d-79582daebb48"
    }
   },
   "outputs": [
    {
     "data": {
      "text/html": [
       "<style scoped>\n  .ansiout {\n    display: block;\n    unicode-bidi: embed;\n    white-space: pre-wrap;\n    word-wrap: break-word;\n    word-break: break-all;\n    font-family: \"Source Code Pro\", \"Menlo\", monospace;;\n    font-size: 13px;\n    color: #555;\n    margin-left: 4px;\n    line-height: 19px;\n  }\n</style>\n<div class=\"ansiout\">+-------+--------+---------+--------------------+--------------------+\nuser_id|movie_id|   rating|               title|              genres|\n+-------+--------+---------+--------------------+--------------------+\n     31|    1077| 7.982669|      Sleeper (1973)|       Comedy|Sci-Fi|\n     31|     865|7.9143124|  Small Faces (1996)|               Drama|\n     31|     793|7.6695533|My Life and Times...|               Drama|\n     31|    1240|7.3168077|Terminator, The (...|Action|Sci-Fi|Thr...|\n     31|     592|6.9683056|       Batman (1989)|Action|Crime|Thri...|\n     31|    1036|6.9081516|     Die Hard (1988)|Action|Crime|Thri...|\n     31|     867|6.8474717|      Carpool (1996)|        Comedy|Crime|\n     31|    1456|6.7370105|    Pest, The (1997)|              Comedy|\n     31|    1154|6.7094603|        T-Men (1947)|           Film-Noir|\n+-------+--------+---------+--------------------+--------------------+\n\n</div>"
      ]
     },
     "metadata": {
      "application/vnd.databricks.v1+output": {
       "datasetInfos": [],
       "data": "<div class=\"ansiout\">+-------+--------+---------+--------------------+--------------------+\n|user_id|movie_id|   rating|               title|              genres|\n+-------+--------+---------+--------------------+--------------------+\n|     31|    1077| 7.982669|      Sleeper (1973)|       Comedy|Sci-Fi|\n|     31|     865|7.9143124|  Small Faces (1996)|               Drama|\n|     31|     793|7.6695533|My Life and Times...|               Drama|\n|     31|    1240|7.3168077|Terminator, The (...|Action|Sci-Fi|Thr...|\n|     31|     592|6.9683056|       Batman (1989)|Action|Crime|Thri...|\n|     31|    1036|6.9081516|     Die Hard (1988)|Action|Crime|Thri...|\n|     31|     867|6.8474717|      Carpool (1996)|        Comedy|Crime|\n|     31|    1456|6.7370105|    Pest, The (1997)|              Comedy|\n|     31|    1154|6.7094603|        T-Men (1947)|           Film-Noir|\n+-------+--------+---------+--------------------+--------------------+\n\n</div>",
       "removedWidgets": [],
       "addedWidgets": {},
       "type": "html",
       "arguments": {}
      }
     },
     "output_type": "execute_result"
    }
   ],
   "source": [
    "# Generate top 10 movie recommendations for user_id 31 along with title & genres.\n",
    "recommends_df=spark.sql(\"select re.*,m.title,m.genres from recommends re inner join movie m on re.movie_id==m.movieId\")\n",
    "recommends_df.filter(recommends_df.user_id==31).sort('rating',ascending=False).limit(10).show()"
   ]
  },
  {
   "cell_type": "code",
   "execution_count": 0,
   "metadata": {
    "application/vnd.databricks.v1+cell": {
     "title": "",
     "showTitle": false,
     "inputWidgets": {},
     "nuid": "a2730ced-5b50-4ecb-9912-e68196cb4fd7"
    }
   },
   "outputs": [
    {
     "data": {
      "text/html": [
       "<style scoped>\n  .ansiout {\n    display: block;\n    unicode-bidi: embed;\n    white-space: pre-wrap;\n    word-wrap: break-word;\n    word-break: break-all;\n    font-family: \"Source Code Pro\", \"Menlo\", monospace;;\n    font-size: 13px;\n    color: #555;\n    margin-left: 4px;\n    line-height: 19px;\n  }\n</style>\n<div class=\"ansiout\">+--------+--------------------+\nmovie_id|     recommendations|\n+--------+--------------------+\n      12|[[261, 6.3384395]...|\n      22|[[174, 6.2012086]...|\n      26|[[811, 6.140478],...|\n      27|[[471, 8.411355],...|\n      28|[[732, 5.7535906]...|\n      31|[[810, 5.621173],...|\n      34|[[202, 13.173415]...|\n      44|[[335, 6.2385893]...|\n      47|[[153, 10.746742]...|\n      53|[[78, 9.722074], ...|\n+--------+--------------------+\n\n</div>"
      ]
     },
     "metadata": {
      "application/vnd.databricks.v1+output": {
       "datasetInfos": [],
       "data": "<div class=\"ansiout\">+--------+--------------------+\n|movie_id|     recommendations|\n+--------+--------------------+\n|      12|[[261, 6.3384395]...|\n|      22|[[174, 6.2012086]...|\n|      26|[[811, 6.140478],...|\n|      27|[[471, 8.411355],...|\n|      28|[[732, 5.7535906]...|\n|      31|[[810, 5.621173],...|\n|      34|[[202, 13.173415]...|\n|      44|[[335, 6.2385893]...|\n|      47|[[153, 10.746742]...|\n|      53|[[78, 9.722074], ...|\n+--------+--------------------+\n\n</div>",
       "removedWidgets": [],
       "addedWidgets": {},
       "type": "html",
       "arguments": {}
      }
     },
     "output_type": "execute_result"
    }
   ],
   "source": [
    "# Generate top 10 user recommendations for each movie.\n",
    "movieRecs1=best_model.recommendForAllItems(10)\n",
    "movieRecs1.limit(10).show()"
   ]
  },
  {
   "cell_type": "code",
   "execution_count": 0,
   "metadata": {
    "application/vnd.databricks.v1+cell": {
     "title": "",
     "showTitle": false,
     "inputWidgets": {},
     "nuid": "c5d69b0c-8086-4104-8646-480a43ff7f3a"
    }
   },
   "outputs": [
    {
     "data": {
      "text/html": [
       "<style scoped>\n  .ansiout {\n    display: block;\n    unicode-bidi: embed;\n    white-space: pre-wrap;\n    word-wrap: break-word;\n    word-break: break-all;\n    font-family: \"Source Code Pro\", \"Menlo\", monospace;;\n    font-size: 13px;\n    color: #555;\n    margin-left: 4px;\n    line-height: 19px;\n  }\n</style>\n<div class=\"ansiout\">+--------+-------+---------+\nmovie_id|user_id|   rating|\n+--------+-------+---------+\n      12|    261|6.3384395|\n      12|    353|6.1613407|\n      12|    355|5.9877567|\n      12|    697| 5.768664|\n      12|      4| 5.749005|\n      12|    240| 5.696423|\n      12|    811|5.6919355|\n      12|    550| 5.585383|\n      12|    799|5.5616455|\n      12|    332| 5.552833|\n+--------+-------+---------+\n\n</div>"
      ]
     },
     "metadata": {
      "application/vnd.databricks.v1+output": {
       "datasetInfos": [],
       "data": "<div class=\"ansiout\">+--------+-------+---------+\n|movie_id|user_id|   rating|\n+--------+-------+---------+\n|      12|    261|6.3384395|\n|      12|    353|6.1613407|\n|      12|    355|5.9877567|\n|      12|    697| 5.768664|\n|      12|      4| 5.749005|\n|      12|    240| 5.696423|\n|      12|    811|5.6919355|\n|      12|    550| 5.585383|\n|      12|    799|5.5616455|\n|      12|    332| 5.552833|\n+--------+-------+---------+\n\n</div>",
       "removedWidgets": [],
       "addedWidgets": {},
       "type": "html",
       "arguments": {}
      }
     },
     "output_type": "execute_result"
    }
   ],
   "source": [
    "# Generate top 10 user recommendations for each movie after exploding recommendations column.\n",
    "movieRecs1=movieRecs1.withColumn(\"rec_exp\",func.explode(\"recommendations\")).\\\n",
    "                 select('movie_id',func.col(\"rec_exp.user_id\"),func.col(\"rec_exp.rating\"))\n",
    "movieRecs1.limit(10).show()"
   ]
  },
  {
   "cell_type": "code",
   "execution_count": 0,
   "metadata": {
    "application/vnd.databricks.v1+cell": {
     "title": "",
     "showTitle": false,
     "inputWidgets": {},
     "nuid": "92d7c6aa-892e-41ba-9692-3f9269fc2b7c"
    }
   },
   "outputs": [
    {
     "data": {
      "text/html": [
       "<style scoped>\n  .ansiout {\n    display: block;\n    unicode-bidi: embed;\n    white-space: pre-wrap;\n    word-wrap: break-word;\n    word-break: break-all;\n    font-family: \"Source Code Pro\", \"Menlo\", monospace;;\n    font-size: 13px;\n    color: #555;\n    margin-left: 4px;\n    line-height: 19px;\n  }\n</style>\n<div class=\"ansiout\">+--------+-------+---------+--------------------+-------------+\nmovie_id|user_id|   rating|               title|       genres|\n+--------+-------+---------+--------------------+-------------+\n      12|    261|6.3384395|Dracula: Dead and...|Comedy|Horror|\n      12|    353|6.1613407|Dracula: Dead and...|Comedy|Horror|\n      12|    355|5.9877567|Dracula: Dead and...|Comedy|Horror|\n      12|    697| 5.768664|Dracula: Dead and...|Comedy|Horror|\n      12|      4| 5.749005|Dracula: Dead and...|Comedy|Horror|\n      12|    240| 5.696423|Dracula: Dead and...|Comedy|Horror|\n      12|    811|5.6919355|Dracula: Dead and...|Comedy|Horror|\n      12|    550| 5.585383|Dracula: Dead and...|Comedy|Horror|\n      12|    799|5.5616455|Dracula: Dead and...|Comedy|Horror|\n      12|    332| 5.552833|Dracula: Dead and...|Comedy|Horror|\n+--------+-------+---------+--------------------+-------------+\nonly showing top 10 rows\n\n</div>"
      ]
     },
     "metadata": {
      "application/vnd.databricks.v1+output": {
       "datasetInfos": [],
       "data": "<div class=\"ansiout\">+--------+-------+---------+--------------------+-------------+\n|movie_id|user_id|   rating|               title|       genres|\n+--------+-------+---------+--------------------+-------------+\n|      12|    261|6.3384395|Dracula: Dead and...|Comedy|Horror|\n|      12|    353|6.1613407|Dracula: Dead and...|Comedy|Horror|\n|      12|    355|5.9877567|Dracula: Dead and...|Comedy|Horror|\n|      12|    697| 5.768664|Dracula: Dead and...|Comedy|Horror|\n|      12|      4| 5.749005|Dracula: Dead and...|Comedy|Horror|\n|      12|    240| 5.696423|Dracula: Dead and...|Comedy|Horror|\n|      12|    811|5.6919355|Dracula: Dead and...|Comedy|Horror|\n|      12|    550| 5.585383|Dracula: Dead and...|Comedy|Horror|\n|      12|    799|5.5616455|Dracula: Dead and...|Comedy|Horror|\n|      12|    332| 5.552833|Dracula: Dead and...|Comedy|Horror|\n+--------+-------+---------+--------------------+-------------+\nonly showing top 10 rows\n\n</div>",
       "removedWidgets": [],
       "addedWidgets": {},
       "type": "html",
       "arguments": {}
      }
     },
     "output_type": "execute_result"
    }
   ],
   "source": [
    "# Generate top 10 user recommendations for each movie along with title & genres.\n",
    "movieRecs1.createOrReplaceTempView(\"movieRecs\")\n",
    "spark.sql(\"select mr.*,m.title,m.genres from movieRecs mr inner join movie m on mr.movie_id=m.movieId\").show(10)"
   ]
  },
  {
   "cell_type": "code",
   "execution_count": 0,
   "metadata": {
    "application/vnd.databricks.v1+cell": {
     "title": "",
     "showTitle": false,
     "inputWidgets": {},
     "nuid": "42616d66-ca3b-4880-9cf6-851efbcba125"
    }
   },
   "outputs": [
    {
     "data": {
      "text/html": [
       "<style scoped>\n  .ansiout {\n    display: block;\n    unicode-bidi: embed;\n    white-space: pre-wrap;\n    word-wrap: break-word;\n    word-break: break-all;\n    font-family: \"Source Code Pro\", \"Menlo\", monospace;;\n    font-size: 13px;\n    color: #555;\n    margin-left: 4px;\n    line-height: 19px;\n  }\n</style>\n<div class=\"ansiout\">+--------+-------+---------+--------------------+-------------+\nmovie_id|user_id|   rating|               title|       genres|\n+--------+-------+---------+--------------------+-------------+\n      12|    261|6.3384395|Dracula: Dead and...|Comedy|Horror|\n      12|    353|6.1613407|Dracula: Dead and...|Comedy|Horror|\n      12|    355|5.9877567|Dracula: Dead and...|Comedy|Horror|\n      12|    697| 5.768664|Dracula: Dead and...|Comedy|Horror|\n      12|      4| 5.749005|Dracula: Dead and...|Comedy|Horror|\n      12|    240| 5.696423|Dracula: Dead and...|Comedy|Horror|\n      12|    811|5.6919355|Dracula: Dead and...|Comedy|Horror|\n      12|    550| 5.585383|Dracula: Dead and...|Comedy|Horror|\n      12|    799|5.5616455|Dracula: Dead and...|Comedy|Horror|\n      12|    332| 5.552833|Dracula: Dead and...|Comedy|Horror|\n+--------+-------+---------+--------------------+-------------+\n\n</div>"
      ]
     },
     "metadata": {
      "application/vnd.databricks.v1+output": {
       "datasetInfos": [],
       "data": "<div class=\"ansiout\">+--------+-------+---------+--------------------+-------------+\n|movie_id|user_id|   rating|               title|       genres|\n+--------+-------+---------+--------------------+-------------+\n|      12|    261|6.3384395|Dracula: Dead and...|Comedy|Horror|\n|      12|    353|6.1613407|Dracula: Dead and...|Comedy|Horror|\n|      12|    355|5.9877567|Dracula: Dead and...|Comedy|Horror|\n|      12|    697| 5.768664|Dracula: Dead and...|Comedy|Horror|\n|      12|      4| 5.749005|Dracula: Dead and...|Comedy|Horror|\n|      12|    240| 5.696423|Dracula: Dead and...|Comedy|Horror|\n|      12|    811|5.6919355|Dracula: Dead and...|Comedy|Horror|\n|      12|    550| 5.585383|Dracula: Dead and...|Comedy|Horror|\n|      12|    799|5.5616455|Dracula: Dead and...|Comedy|Horror|\n|      12|    332| 5.552833|Dracula: Dead and...|Comedy|Horror|\n+--------+-------+---------+--------------------+-------------+\n\n</div>",
       "removedWidgets": [],
       "addedWidgets": {},
       "type": "html",
       "arguments": {}
      }
     },
     "output_type": "execute_result"
    }
   ],
   "source": [
    "# Generate top 10 user recommendations for each movie along with title & genres.\n",
    "movieRecs_df=spark.sql(\"select mr.*,m.title,m.genres from movieRecs mr inner join movie m on mr.movie_id=m.movieId\")\n",
    "movieRecs_df.filter(movieRecs_df.movie_id==12).sort('rating',ascending=False).limit(10).show()"
   ]
  },
  {
   "cell_type": "code",
   "execution_count": 0,
   "metadata": {
    "application/vnd.databricks.v1+cell": {
     "title": "",
     "showTitle": false,
     "inputWidgets": {},
     "nuid": "19ce8210-ff0f-469a-9da4-6e35376bd818"
    }
   },
   "outputs": [
    {
     "data": {
      "text/html": [
       "<style scoped>\n  .ansiout {\n    display: block;\n    unicode-bidi: embed;\n    white-space: pre-wrap;\n    word-wrap: break-word;\n    word-break: break-all;\n    font-family: \"Source Code Pro\", \"Menlo\", monospace;;\n    font-size: 13px;\n    color: #555;\n    margin-left: 4px;\n    line-height: 19px;\n  }\n</style>"
      ]
     },
     "metadata": {
      "application/vnd.databricks.v1+output": {
       "type": "ipynbError",
       "data": "",
       "errorSummary": "",
       "arguments": {}
      }
     },
     "output_type": "execute_result"
    }
   ],
   "source": [
    ""
   ]
  }
 ],
 "metadata": {
  "application/vnd.databricks.v1+notebook": {
   "notebookName": "ALS Recommendation-Final",
   "dashboards": [],
   "language": "python",
   "widgets": {},
   "notebookOrigID": 2.140737725590974E15
  }
 },
 "nbformat": 4,
 "nbformat_minor": 0
}

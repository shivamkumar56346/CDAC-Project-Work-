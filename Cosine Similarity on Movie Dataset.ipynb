{
 "cells": [
  {
   "cell_type": "code",
   "execution_count": 0,
   "metadata": {
    "application/vnd.databricks.v1+cell": {
     "title": "",
     "showTitle": false,
     "inputWidgets": {},
     "nuid": "19935d84-fccb-4523-b145-e23c0c529e29"
    }
   },
   "outputs": [
    {
     "data": {
      "text/html": [
       "<style scoped>\n  .ansiout {\n    display: block;\n    unicode-bidi: embed;\n    white-space: pre-wrap;\n    word-wrap: break-word;\n    word-break: break-all;\n    font-family: \"Source Code Pro\", \"Menlo\", monospace;;\n    font-size: 13px;\n    color: #555;\n    margin-left: 4px;\n    line-height: 19px;\n  }\n</style>\n<div class=\"ansiout\"></div>"
      ]
     },
     "metadata": {
      "application/vnd.databricks.v1+output": {
       "datasetInfos": [],
       "data": "<div class=\"ansiout\"></div>",
       "removedWidgets": [],
       "addedWidgets": {},
       "type": "html",
       "arguments": {}
      }
     },
     "output_type": "execute_result"
    }
   ],
   "source": [
    "from pyspark.sql import SparkSession,functions as func"
   ]
  },
  {
   "cell_type": "code",
   "execution_count": 0,
   "metadata": {
    "application/vnd.databricks.v1+cell": {
     "title": "",
     "showTitle": false,
     "inputWidgets": {},
     "nuid": "db488316-32f0-48c0-b712-518396701195"
    }
   },
   "outputs": [
    {
     "data": {
      "text/html": [
       "<style scoped>\n  .ansiout {\n    display: block;\n    unicode-bidi: embed;\n    white-space: pre-wrap;\n    word-wrap: break-word;\n    word-break: break-all;\n    font-family: \"Source Code Pro\", \"Menlo\", monospace;;\n    font-size: 13px;\n    color: #555;\n    margin-left: 4px;\n    line-height: 19px;\n  }\n</style>\n<div class=\"ansiout\"></div>"
      ]
     },
     "metadata": {
      "application/vnd.databricks.v1+output": {
       "datasetInfos": [],
       "data": "<div class=\"ansiout\"></div>",
       "removedWidgets": [],
       "addedWidgets": {},
       "type": "html",
       "arguments": {}
      }
     },
     "output_type": "execute_result"
    }
   ],
   "source": [
    "from pyspark.sql.types import StructType,StructField,StringType,FloatType,LongType,IntegerType,DoubleType"
   ]
  },
  {
   "cell_type": "code",
   "execution_count": 0,
   "metadata": {
    "application/vnd.databricks.v1+cell": {
     "title": "",
     "showTitle": false,
     "inputWidgets": {},
     "nuid": "9a93349d-9570-4f3b-811b-3286ab781766"
    }
   },
   "outputs": [
    {
     "data": {
      "text/html": [
       "<style scoped>\n  .ansiout {\n    display: block;\n    unicode-bidi: embed;\n    white-space: pre-wrap;\n    word-wrap: break-word;\n    word-break: break-all;\n    font-family: \"Source Code Pro\", \"Menlo\", monospace;;\n    font-size: 13px;\n    color: #555;\n    margin-left: 4px;\n    line-height: 19px;\n  }\n</style>\n<div class=\"ansiout\"></div>"
      ]
     },
     "metadata": {
      "application/vnd.databricks.v1+output": {
       "datasetInfos": [],
       "data": "<div class=\"ansiout\"></div>",
       "removedWidgets": [],
       "addedWidgets": {},
       "type": "html",
       "arguments": {}
      }
     },
     "output_type": "execute_result"
    }
   ],
   "source": [
    "spark=SparkSession.builder.appName(\"Cosine Similarity\").getOrCreate()"
   ]
  },
  {
   "cell_type": "code",
   "execution_count": 0,
   "metadata": {
    "application/vnd.databricks.v1+cell": {
     "title": "",
     "showTitle": false,
     "inputWidgets": {},
     "nuid": "85cba2bd-f8f5-491b-b53f-8cbc0cd2c0e0"
    }
   },
   "outputs": [
    {
     "data": {
      "text/html": [
       "<style scoped>\n  .ansiout {\n    display: block;\n    unicode-bidi: embed;\n    white-space: pre-wrap;\n    word-wrap: break-word;\n    word-break: break-all;\n    font-family: \"Source Code Pro\", \"Menlo\", monospace;;\n    font-size: 13px;\n    color: #555;\n    margin-left: 4px;\n    line-height: 19px;\n  }\n</style>\n<div class=\"ansiout\"></div>"
      ]
     },
     "metadata": {
      "application/vnd.databricks.v1+output": {
       "datasetInfos": [],
       "data": "<div class=\"ansiout\"></div>",
       "removedWidgets": [],
       "addedWidgets": {},
       "type": "html",
       "arguments": {}
      }
     },
     "output_type": "execute_result"
    }
   ],
   "source": [
    "schema1=StructType([StructField(\"movieId\",IntegerType(),True),StructField(\"title\",StringType(),True),StructField(\"genres\",StringType(),True)])"
   ]
  },
  {
   "cell_type": "code",
   "execution_count": 0,
   "metadata": {
    "application/vnd.databricks.v1+cell": {
     "title": "",
     "showTitle": false,
     "inputWidgets": {},
     "nuid": "8dfdabe8-5edf-4518-9bc6-5743adc305ed"
    }
   },
   "outputs": [
    {
     "data": {
      "text/html": [
       "<style scoped>\n  .ansiout {\n    display: block;\n    unicode-bidi: embed;\n    white-space: pre-wrap;\n    word-wrap: break-word;\n    word-break: break-all;\n    font-family: \"Source Code Pro\", \"Menlo\", monospace;;\n    font-size: 13px;\n    color: #555;\n    margin-left: 4px;\n    line-height: 19px;\n  }\n</style>\n<div class=\"ansiout\">+-------+--------------------+--------------------+\nmovieId|               title|              genres|\n+-------+--------------------+--------------------+\n      1|    Toy Story (1995)|Adventure|Animati...|\n      2|      Jumanji (1995)|Adventure|Childre...|\n      3|Grumpier Old Men ...|      Comedy|Romance|\n      4|Waiting to Exhale...|Comedy|Drama|Romance|\n      5|Father of the Bri...|              Comedy|\n+-------+--------------------+--------------------+\nonly showing top 5 rows\n\n</div>"
      ]
     },
     "metadata": {
      "application/vnd.databricks.v1+output": {
       "datasetInfos": [],
       "data": "<div class=\"ansiout\">+-------+--------------------+--------------------+\n|movieId|               title|              genres|\n+-------+--------------------+--------------------+\n|      1|    Toy Story (1995)|Adventure|Animati...|\n|      2|      Jumanji (1995)|Adventure|Childre...|\n|      3|Grumpier Old Men ...|      Comedy|Romance|\n|      4|Waiting to Exhale...|Comedy|Drama|Romance|\n|      5|Father of the Bri...|              Comedy|\n+-------+--------------------+--------------------+\nonly showing top 5 rows\n\n</div>",
       "removedWidgets": [],
       "addedWidgets": {},
       "type": "html",
       "arguments": {}
      }
     },
     "output_type": "execute_result"
    }
   ],
   "source": [
    "movies=spark.read.schema(schema1).option(\"header\",\"true\").csv(\"dbfs:/FileStore/tables/movies.csv\")\n",
    "movies.show(5)"
   ]
  },
  {
   "cell_type": "code",
   "execution_count": 0,
   "metadata": {
    "application/vnd.databricks.v1+cell": {
     "title": "",
     "showTitle": false,
     "inputWidgets": {},
     "nuid": "dc360275-ab17-4855-a2ae-42669efce78c"
    }
   },
   "outputs": [
    {
     "data": {
      "text/html": [
       "<style scoped>\n  .ansiout {\n    display: block;\n    unicode-bidi: embed;\n    white-space: pre-wrap;\n    word-wrap: break-word;\n    word-break: break-all;\n    font-family: \"Source Code Pro\", \"Menlo\", monospace;;\n    font-size: 13px;\n    color: #555;\n    margin-left: 4px;\n    line-height: 19px;\n  }\n</style>\n<div class=\"ansiout\">root\n-- movieId: integer (nullable = true)\n-- title: string (nullable = true)\n-- genres: string (nullable = true)\n\n</div>"
      ]
     },
     "metadata": {
      "application/vnd.databricks.v1+output": {
       "datasetInfos": [],
       "data": "<div class=\"ansiout\">root\n |-- movieId: integer (nullable = true)\n |-- title: string (nullable = true)\n |-- genres: string (nullable = true)\n\n</div>",
       "removedWidgets": [],
       "addedWidgets": {},
       "type": "html",
       "arguments": {}
      }
     },
     "output_type": "execute_result"
    }
   ],
   "source": [
    "movies.printSchema()"
   ]
  },
  {
   "cell_type": "code",
   "execution_count": 0,
   "metadata": {
    "application/vnd.databricks.v1+cell": {
     "title": "",
     "showTitle": false,
     "inputWidgets": {},
     "nuid": "a4cb78c1-c8b4-4e63-8aca-504ec0c03eb8"
    }
   },
   "outputs": [
    {
     "data": {
      "text/html": [
       "<style scoped>\n  .ansiout {\n    display: block;\n    unicode-bidi: embed;\n    white-space: pre-wrap;\n    word-wrap: break-word;\n    word-break: break-all;\n    font-family: \"Source Code Pro\", \"Menlo\", monospace;;\n    font-size: 13px;\n    color: #555;\n    margin-left: 4px;\n    line-height: 19px;\n  }\n</style>\n<div class=\"ansiout\"></div>"
      ]
     },
     "metadata": {
      "application/vnd.databricks.v1+output": {
       "datasetInfos": [],
       "data": "<div class=\"ansiout\"></div>",
       "removedWidgets": [],
       "addedWidgets": {},
       "type": "html",
       "arguments": {}
      }
     },
     "output_type": "execute_result"
    }
   ],
   "source": [
    "schema2=StructType([StructField(\"userId\",IntegerType(),True),StructField(\"movieId\",IntegerType(),True),StructField(\"rating\",DoubleType(),True),StructField(\"timestamp\",StringType(),True)])"
   ]
  },
  {
   "cell_type": "code",
   "execution_count": 0,
   "metadata": {
    "application/vnd.databricks.v1+cell": {
     "title": "",
     "showTitle": false,
     "inputWidgets": {},
     "nuid": "4dcde039-3a58-48e5-8b57-d09915261eed"
    }
   },
   "outputs": [
    {
     "data": {
      "text/html": [
       "<style scoped>\n  .ansiout {\n    display: block;\n    unicode-bidi: embed;\n    white-space: pre-wrap;\n    word-wrap: break-word;\n    word-break: break-all;\n    font-family: \"Source Code Pro\", \"Menlo\", monospace;;\n    font-size: 13px;\n    color: #555;\n    margin-left: 4px;\n    line-height: 19px;\n  }\n</style>\n<div class=\"ansiout\">+------+-------+------+----------+\nuserId|movieId|rating| timestamp|\n+------+-------+------+----------+\n     1|    296|   5.0|1147880044|\n     1|    306|   3.5|1147868817|\n     1|    307|   5.0|1147868828|\n     1|    665|   5.0|1147878820|\n     1|    899|   3.5|1147868510|\n+------+-------+------+----------+\nonly showing top 5 rows\n\n</div>"
      ]
     },
     "metadata": {
      "application/vnd.databricks.v1+output": {
       "datasetInfos": [],
       "data": "<div class=\"ansiout\">+------+-------+------+----------+\n|userId|movieId|rating| timestamp|\n+------+-------+------+----------+\n|     1|    296|   5.0|1147880044|\n|     1|    306|   3.5|1147868817|\n|     1|    307|   5.0|1147868828|\n|     1|    665|   5.0|1147878820|\n|     1|    899|   3.5|1147868510|\n+------+-------+------+----------+\nonly showing top 5 rows\n\n</div>",
       "removedWidgets": [],
       "addedWidgets": {},
       "type": "html",
       "arguments": {}
      }
     },
     "output_type": "execute_result"
    }
   ],
   "source": [
    "ratings=spark.read.schema(schema2).option(\"header\",\"true\").csv(\"dbfs:/FileStore/tables/ratings.csv\")\n",
    "ratings.show(5)"
   ]
  },
  {
   "cell_type": "code",
   "execution_count": 0,
   "metadata": {
    "application/vnd.databricks.v1+cell": {
     "title": "",
     "showTitle": false,
     "inputWidgets": {},
     "nuid": "5224600e-b1c6-4238-90f4-d0fc889a27d4"
    }
   },
   "outputs": [
    {
     "data": {
      "text/html": [
       "<style scoped>\n  .ansiout {\n    display: block;\n    unicode-bidi: embed;\n    white-space: pre-wrap;\n    word-wrap: break-word;\n    word-break: break-all;\n    font-family: \"Source Code Pro\", \"Menlo\", monospace;;\n    font-size: 13px;\n    color: #555;\n    margin-left: 4px;\n    line-height: 19px;\n  }\n</style>\n<div class=\"ansiout\">root\n-- userId: integer (nullable = true)\n-- movieId: integer (nullable = true)\n-- rating: double (nullable = true)\n-- timestamp: string (nullable = true)\n\n</div>"
      ]
     },
     "metadata": {
      "application/vnd.databricks.v1+output": {
       "datasetInfos": [],
       "data": "<div class=\"ansiout\">root\n |-- userId: integer (nullable = true)\n |-- movieId: integer (nullable = true)\n |-- rating: double (nullable = true)\n |-- timestamp: string (nullable = true)\n\n</div>",
       "removedWidgets": [],
       "addedWidgets": {},
       "type": "html",
       "arguments": {}
      }
     },
     "output_type": "execute_result"
    }
   ],
   "source": [
    "ratings.printSchema()"
   ]
  },
  {
   "cell_type": "code",
   "execution_count": 0,
   "metadata": {
    "application/vnd.databricks.v1+cell": {
     "title": "",
     "showTitle": false,
     "inputWidgets": {},
     "nuid": "177a163e-bd7a-499f-9d04-df50daa852c4"
    }
   },
   "outputs": [
    {
     "data": {
      "text/html": [
       "<style scoped>\n  .ansiout {\n    display: block;\n    unicode-bidi: embed;\n    white-space: pre-wrap;\n    word-wrap: break-word;\n    word-break: break-all;\n    font-family: \"Source Code Pro\", \"Menlo\", monospace;;\n    font-size: 13px;\n    color: #555;\n    margin-left: 4px;\n    line-height: 19px;\n  }\n</style>\n<div class=\"ansiout\">+------+-------+------+\nuserId|movieId|rating|\n+------+-------+------+\n     1|    296|   5.0|\n     1|    306|   3.5|\n     1|    307|   5.0|\n     1|    665|   5.0|\n     1|    899|   3.5|\n+------+-------+------+\nonly showing top 5 rows\n\n</div>"
      ]
     },
     "metadata": {
      "application/vnd.databricks.v1+output": {
       "datasetInfos": [],
       "data": "<div class=\"ansiout\">+------+-------+------+\n|userId|movieId|rating|\n+------+-------+------+\n|     1|    296|   5.0|\n|     1|    306|   3.5|\n|     1|    307|   5.0|\n|     1|    665|   5.0|\n|     1|    899|   3.5|\n+------+-------+------+\nonly showing top 5 rows\n\n</div>",
       "removedWidgets": [],
       "addedWidgets": {},
       "type": "html",
       "arguments": {}
      }
     },
     "output_type": "execute_result"
    }
   ],
   "source": [
    "rating=ratings.select(\"userId\",\"movieId\",\"rating\")\n",
    "rating.show(5)"
   ]
  },
  {
   "cell_type": "code",
   "execution_count": 0,
   "metadata": {
    "application/vnd.databricks.v1+cell": {
     "title": "",
     "showTitle": false,
     "inputWidgets": {},
     "nuid": "70447240-c2e4-4509-841b-e5bd3ae97973"
    }
   },
   "outputs": [
    {
     "data": {
      "text/html": [
       "<style scoped>\n  .ansiout {\n    display: block;\n    unicode-bidi: embed;\n    white-space: pre-wrap;\n    word-wrap: break-word;\n    word-break: break-all;\n    font-family: \"Source Code Pro\", \"Menlo\", monospace;;\n    font-size: 13px;\n    color: #555;\n    margin-left: 4px;\n    line-height: 19px;\n  }\n</style>\n<div class=\"ansiout\"></div>"
      ]
     },
     "metadata": {
      "application/vnd.databricks.v1+output": {
       "datasetInfos": [],
       "data": "<div class=\"ansiout\"></div>",
       "removedWidgets": [],
       "addedWidgets": {},
       "type": "html",
       "arguments": {}
      }
     },
     "output_type": "execute_result"
    }
   ],
   "source": [
    "moviePairs=rating.alias(\"ratings1\").join(rating.alias(\"ratings2\"),\\\n",
    "           (func.col(\"ratings1.userId\")==func.col(\"ratings2.userId\")) & (func.col(\"ratings1.movieId\")<func.col(\"ratings2.movieId\"))) \\\n",
    "           .select(func.col(\"ratings1.movieId\").alias(\"movie1\"), \\\n",
    "           func.col(\"ratings2.movieId\").alias(\"movie2\"), \\\n",
    "           func.col(\"ratings1.rating\").alias(\"rating1\"), \\\n",
    "           func.col(\"ratings2.rating\").alias(\"rating2\"))"
   ]
  },
  {
   "cell_type": "code",
   "execution_count": 0,
   "metadata": {
    "application/vnd.databricks.v1+cell": {
     "title": "",
     "showTitle": false,
     "inputWidgets": {},
     "nuid": "ddbfa248-b260-43cd-9bd5-7ec14662b34b"
    }
   },
   "outputs": [
    {
     "data": {
      "text/html": [
       "<style scoped>\n  .ansiout {\n    display: block;\n    unicode-bidi: embed;\n    white-space: pre-wrap;\n    word-wrap: break-word;\n    word-break: break-all;\n    font-family: \"Source Code Pro\", \"Menlo\", monospace;;\n    font-size: 13px;\n    color: #555;\n    margin-left: 4px;\n    line-height: 19px;\n  }\n</style>\n<div class=\"ansiout\">+------+------+-------+-------+\nmovie1|movie2|rating1|rating2|\n+------+------+-------+-------+\n    10|    11|    3.5|    3.5|\n    10|    17|    3.5|    2.5|\n    10|    32|    3.5|    2.0|\n    10|    34|    3.5|    3.5|\n    10|    36|    3.5|    2.5|\n    10|    39|    3.5|    2.0|\n    10|    47|    3.5|    3.0|\n    10|    50|    3.5|    3.0|\n    10|    95|    3.5|    2.0|\n    10|   110|    3.5|    1.5|\n+------+------+-------+-------+\nonly showing top 10 rows\n\n</div>"
      ]
     },
     "metadata": {
      "application/vnd.databricks.v1+output": {
       "datasetInfos": [],
       "data": "<div class=\"ansiout\">+------+------+-------+-------+\n|movie1|movie2|rating1|rating2|\n+------+------+-------+-------+\n|    10|    11|    3.5|    3.5|\n|    10|    17|    3.5|    2.5|\n|    10|    32|    3.5|    2.0|\n|    10|    34|    3.5|    3.5|\n|    10|    36|    3.5|    2.5|\n|    10|    39|    3.5|    2.0|\n|    10|    47|    3.5|    3.0|\n|    10|    50|    3.5|    3.0|\n|    10|    95|    3.5|    2.0|\n|    10|   110|    3.5|    1.5|\n+------+------+-------+-------+\nonly showing top 10 rows\n\n</div>",
       "removedWidgets": [],
       "addedWidgets": {},
       "type": "html",
       "arguments": {}
      }
     },
     "output_type": "execute_result"
    }
   ],
   "source": [
    "moviePairs.show(10)"
   ]
  },
  {
   "cell_type": "code",
   "execution_count": 0,
   "metadata": {
    "application/vnd.databricks.v1+cell": {
     "title": "",
     "showTitle": false,
     "inputWidgets": {},
     "nuid": "8bbe28fe-ec98-4705-a026-8ccbb114b0a4"
    }
   },
   "outputs": [
    {
     "data": {
      "text/html": [
       "<style scoped>\n  .ansiout {\n    display: block;\n    unicode-bidi: embed;\n    white-space: pre-wrap;\n    word-wrap: break-word;\n    word-break: break-all;\n    font-family: \"Source Code Pro\", \"Menlo\", monospace;;\n    font-size: 13px;\n    color: #555;\n    margin-left: 4px;\n    line-height: 19px;\n  }\n</style>\n<div class=\"ansiout\"></div>"
      ]
     },
     "metadata": {
      "application/vnd.databricks.v1+output": {
       "datasetInfos": [],
       "data": "<div class=\"ansiout\"></div>",
       "removedWidgets": [],
       "addedWidgets": {},
       "type": "html",
       "arguments": {}
      }
     },
     "output_type": "execute_result"
    }
   ],
   "source": [
    "def computeCosineSimilarity(spark,df):\n",
    "  pairScores=df.withColumn(\"xx\",func.col(\"rating1\")*func.col(\"rating1\")) \\\n",
    "             .withColumn(\"yy\",func.col(\"rating2\")*func.col(\"rating2\")) \\\n",
    "             .withColumn(\"xy\",func.col(\"rating1\")*func.col(\"rating2\"))\n",
    "  \n",
    "  calculateSimilarity=pairScores.groupBy(\"movie1\",\"movie2\").agg(func.sum(func.col(\"xy\")).alias(\"numerator\"), \\\n",
    "                      (func.sqrt(func.sum(func.col(\"xx\"))) * func.sqrt(func.sum(func.col(\"yy\")))).alias(\"denominator\"), \\\n",
    "                      func.count(func.col(\"xy\")).alias(\"numPairs\"))\n",
    "  \n",
    "  result=calculateSimilarity.withColumn(\"score\",func.when(func.col(\"denominator\")!=0,func.col(\"numerator\")/func.col(\"denominator\")).otherwise(0)) \\\n",
    "        .select(\"movie1\",\"movie2\",\"score\",\"numPairs\")\n",
    "  return result"
   ]
  },
  {
   "cell_type": "code",
   "execution_count": 0,
   "metadata": {
    "application/vnd.databricks.v1+cell": {
     "title": "",
     "showTitle": false,
     "inputWidgets": {},
     "nuid": "ccaf21a8-64a6-4644-a5ff-83291b970f42"
    }
   },
   "outputs": [
    {
     "data": {
      "text/html": [
       "<style scoped>\n  .ansiout {\n    display: block;\n    unicode-bidi: embed;\n    white-space: pre-wrap;\n    word-wrap: break-word;\n    word-break: break-all;\n    font-family: \"Source Code Pro\", \"Menlo\", monospace;;\n    font-size: 13px;\n    color: #555;\n    margin-left: 4px;\n    line-height: 19px;\n  }\n</style>\n<div class=\"ansiout\"></div>"
      ]
     },
     "metadata": {
      "application/vnd.databricks.v1+output": {
       "datasetInfos": [],
       "data": "<div class=\"ansiout\"></div>",
       "removedWidgets": [],
       "addedWidgets": {},
       "type": "html",
       "arguments": {}
      }
     },
     "output_type": "execute_result"
    }
   ],
   "source": [
    "moviePairsSimilarity=computeCosineSimilarity(spark,moviePairs).cache()"
   ]
  },
  {
   "cell_type": "code",
   "execution_count": 0,
   "metadata": {
    "application/vnd.databricks.v1+cell": {
     "title": "",
     "showTitle": false,
     "inputWidgets": {},
     "nuid": "fb8b8c5a-61a4-486a-a2be-2f223256af0a"
    }
   },
   "outputs": [
    {
     "data": {
      "text/html": [
       "<style scoped>\n  .ansiout {\n    display: block;\n    unicode-bidi: embed;\n    white-space: pre-wrap;\n    word-wrap: break-word;\n    word-break: break-all;\n    font-family: \"Source Code Pro\", \"Menlo\", monospace;;\n    font-size: 13px;\n    color: #555;\n    margin-left: 4px;\n    line-height: 19px;\n  }\n</style>\n<div class=\"ansiout\">+------+------+------------------+--------+\nmovie1|movie2|             score|numPairs|\n+------+------+------------------+--------+\n   260|   912|0.9659099058784798|     740|\n   541|  1196|0.9718928890210474|    1125|\n   608|  1250|0.9600904313964878|     362|\n   608|  3000|0.9647834127783648|     266|\n   904|  1172|0.9722384468685841|     156|\n   908|   919|0.9727964028869734|     341|\n   912|134130| 0.962212592585605|     113|\n   919|   926|0.9645907678951438|     109|\n   926|  1217|0.9734740856019662|      38|\n   926|  2502| 0.974770715647386|      40|\n+------+------+------------------+--------+\nonly showing top 10 rows\n\n</div>"
      ]
     },
     "metadata": {
      "application/vnd.databricks.v1+output": {
       "datasetInfos": [],
       "data": "<div class=\"ansiout\">+------+------+------------------+--------+\n|movie1|movie2|             score|numPairs|\n+------+------+------------------+--------+\n|   260|   912|0.9659099058784798|     740|\n|   541|  1196|0.9718928890210474|    1125|\n|   608|  1250|0.9600904313964878|     362|\n|   608|  3000|0.9647834127783648|     266|\n|   904|  1172|0.9722384468685841|     156|\n|   908|   919|0.9727964028869734|     341|\n|   912|134130| 0.962212592585605|     113|\n|   919|   926|0.9645907678951438|     109|\n|   926|  1217|0.9734740856019662|      38|\n|   926|  2502| 0.974770715647386|      40|\n+------+------+------------------+--------+\nonly showing top 10 rows\n\n</div>",
       "removedWidgets": [],
       "addedWidgets": {},
       "type": "html",
       "arguments": {}
      }
     },
     "output_type": "execute_result"
    }
   ],
   "source": [
    "moviePairsSimilarity.show(10)"
   ]
  },
  {
   "cell_type": "code",
   "execution_count": 0,
   "metadata": {
    "application/vnd.databricks.v1+cell": {
     "title": "",
     "showTitle": false,
     "inputWidgets": {},
     "nuid": "d865956e-27a5-4a04-9cce-c1648eee2362"
    }
   },
   "outputs": [
    {
     "data": {
      "text/html": [
       "<style scoped>\n  .ansiout {\n    display: block;\n    unicode-bidi: embed;\n    white-space: pre-wrap;\n    word-wrap: break-word;\n    word-break: break-all;\n    font-family: \"Source Code Pro\", \"Menlo\", monospace;;\n    font-size: 13px;\n    color: #555;\n    margin-left: 4px;\n    line-height: 19px;\n  }\n</style>\n<div class=\"ansiout\"></div>"
      ]
     },
     "metadata": {
      "application/vnd.databricks.v1+output": {
       "datasetInfos": [],
       "data": "<div class=\"ansiout\"></div>",
       "removedWidgets": [],
       "addedWidgets": {},
       "type": "html",
       "arguments": {}
      }
     },
     "output_type": "execute_result"
    }
   ],
   "source": [
    "scoreThreshold=0.95\n",
    "coOccurrenceThreshold=50.0\n",
    "movie_id=926"
   ]
  },
  {
   "cell_type": "code",
   "execution_count": 0,
   "metadata": {
    "application/vnd.databricks.v1+cell": {
     "title": "",
     "showTitle": false,
     "inputWidgets": {},
     "nuid": "d6e815d1-e6ba-4ae6-af09-6ea89c0a949b"
    }
   },
   "outputs": [
    {
     "data": {
      "text/html": [
       "<style scoped>\n  .ansiout {\n    display: block;\n    unicode-bidi: embed;\n    white-space: pre-wrap;\n    word-wrap: break-word;\n    word-break: break-all;\n    font-family: \"Source Code Pro\", \"Menlo\", monospace;;\n    font-size: 13px;\n    color: #555;\n    margin-left: 4px;\n    line-height: 19px;\n  }\n</style>\n<div class=\"ansiout\"></div>"
      ]
     },
     "metadata": {
      "application/vnd.databricks.v1+output": {
       "datasetInfos": [],
       "data": "<div class=\"ansiout\"></div>",
       "removedWidgets": [],
       "addedWidgets": {},
       "type": "html",
       "arguments": {}
      }
     },
     "output_type": "execute_result"
    }
   ],
   "source": [
    "filtered_results=moviePairsSimilarity.filter(((func.col(\"movie1\")==movie_id) | (func.col(\"movie2\")==movie_id)) & \\\n",
    "                 (func.col(\"score\") > scoreThreshold) & (func.col(\"numPairs\")>coOccurrenceThreshold))"
   ]
  },
  {
   "cell_type": "code",
   "execution_count": 0,
   "metadata": {
    "application/vnd.databricks.v1+cell": {
     "title": "",
     "showTitle": false,
     "inputWidgets": {},
     "nuid": "1d97fdcf-1418-4b2f-ae8e-809bb0d12da7"
    }
   },
   "outputs": [
    {
     "data": {
      "text/html": [
       "<style scoped>\n  .ansiout {\n    display: block;\n    unicode-bidi: embed;\n    white-space: pre-wrap;\n    word-wrap: break-word;\n    word-break: break-all;\n    font-family: \"Source Code Pro\", \"Menlo\", monospace;;\n    font-size: 13px;\n    color: #555;\n    margin-left: 4px;\n    line-height: 19px;\n  }\n</style>\n<div class=\"ansiout\">+------+------+------------------+--------+\nmovie1|movie2|             score|numPairs|\n+------+------+------------------+--------+\n   919|   926|0.9645907678951438|     109|\n   926|   953|0.9668525580831191|      84|\n    25|   926|0.9549608445715286|      54|\n   926|  1674|0.9790753442948046|      52|\n   926|  1961|0.9576583113415748|      76|\n   926|  1172|0.9678841611555097|      62|\n   926|  1086|0.9878582153074223|      58|\n   926|  1199|0.9701664875702418|      65|\n   926|  4963|0.9660358597193633|      55|\n   926|  1228|0.9826296270863719|      76|\n+------+------+------------------+--------+\nonly showing top 10 rows\n\n</div>"
      ]
     },
     "metadata": {
      "application/vnd.databricks.v1+output": {
       "datasetInfos": [],
       "data": "<div class=\"ansiout\">+------+------+------------------+--------+\n|movie1|movie2|             score|numPairs|\n+------+------+------------------+--------+\n|   919|   926|0.9645907678951438|     109|\n|   926|   953|0.9668525580831191|      84|\n|    25|   926|0.9549608445715286|      54|\n|   926|  1674|0.9790753442948046|      52|\n|   926|  1961|0.9576583113415748|      76|\n|   926|  1172|0.9678841611555097|      62|\n|   926|  1086|0.9878582153074223|      58|\n|   926|  1199|0.9701664875702418|      65|\n|   926|  4963|0.9660358597193633|      55|\n|   926|  1228|0.9826296270863719|      76|\n+------+------+------------------+--------+\nonly showing top 10 rows\n\n</div>",
       "removedWidgets": [],
       "addedWidgets": {},
       "type": "html",
       "arguments": {}
      }
     },
     "output_type": "execute_result"
    }
   ],
   "source": [
    "filtered_results.show(10)"
   ]
  },
  {
   "cell_type": "code",
   "execution_count": 0,
   "metadata": {
    "application/vnd.databricks.v1+cell": {
     "title": "",
     "showTitle": false,
     "inputWidgets": {},
     "nuid": "63926930-17f7-489e-a2b1-3b133ef5e844"
    }
   },
   "outputs": [
    {
     "data": {
      "text/html": [
       "<style scoped>\n  .ansiout {\n    display: block;\n    unicode-bidi: embed;\n    white-space: pre-wrap;\n    word-wrap: break-word;\n    word-break: break-all;\n    font-family: \"Source Code Pro\", \"Menlo\", monospace;;\n    font-size: 13px;\n    color: #555;\n    margin-left: 4px;\n    line-height: 19px;\n  }\n</style>\n<div class=\"ansiout\">+------+------+------------------+--------+\nmovie1|movie2|             score|numPairs|\n+------+------+------------------+--------+\n   926|  1086|0.9878582153074223|      58|\n   926|  3435|0.9871131974455927|      72|\n   926|   930|0.9869985957471461|      63|\n   909|   926|0.9859670875572815|      73|\n   926|  1252| 0.983866287235212|     103|\n   926|  1945| 0.983629262293348|      69|\n   926|  1212|0.9835718382378524|      79|\n   913|   926|0.9829377093793944|      96|\n   926|  1228|0.9826296270863719|      76|\n   905|   926|0.9821645551642226|      63|\n+------+------+------------------+--------+\nonly showing top 10 rows\n\n</div>"
      ]
     },
     "metadata": {
      "application/vnd.databricks.v1+output": {
       "datasetInfos": [],
       "data": "<div class=\"ansiout\">+------+------+------------------+--------+\n|movie1|movie2|             score|numPairs|\n+------+------+------------------+--------+\n|   926|  1086|0.9878582153074223|      58|\n|   926|  3435|0.9871131974455927|      72|\n|   926|   930|0.9869985957471461|      63|\n|   909|   926|0.9859670875572815|      73|\n|   926|  1252| 0.983866287235212|     103|\n|   926|  1945| 0.983629262293348|      69|\n|   926|  1212|0.9835718382378524|      79|\n|   913|   926|0.9829377093793944|      96|\n|   926|  1228|0.9826296270863719|      76|\n|   905|   926|0.9821645551642226|      63|\n+------+------+------------------+--------+\nonly showing top 10 rows\n\n</div>",
       "removedWidgets": [],
       "addedWidgets": {},
       "type": "html",
       "arguments": {}
      }
     },
     "output_type": "execute_result"
    }
   ],
   "source": [
    "filtered_results.sort(\"score\",ascending=False).show(10)"
   ]
  },
  {
   "cell_type": "code",
   "execution_count": 0,
   "metadata": {
    "application/vnd.databricks.v1+cell": {
     "title": "",
     "showTitle": false,
     "inputWidgets": {},
     "nuid": "0e2247ed-614c-45d1-81c5-869761b9132b"
    }
   },
   "outputs": [
    {
     "data": {
      "text/html": [
       "<style scoped>\n  .ansiout {\n    display: block;\n    unicode-bidi: embed;\n    white-space: pre-wrap;\n    word-wrap: break-word;\n    word-break: break-all;\n    font-family: \"Source Code Pro\", \"Menlo\", monospace;;\n    font-size: 13px;\n    color: #555;\n    margin-left: 4px;\n    line-height: 19px;\n  }\n</style>\n<div class=\"ansiout\"></div>"
      ]
     },
     "metadata": {
      "application/vnd.databricks.v1+output": {
       "datasetInfos": [],
       "data": "<div class=\"ansiout\"></div>",
       "removedWidgets": [],
       "addedWidgets": {},
       "type": "html",
       "arguments": {}
      }
     },
     "output_type": "execute_result"
    }
   ],
   "source": [
    "result=filtered_results.sort(func.col(\"score\").desc()).take(10)"
   ]
  },
  {
   "cell_type": "code",
   "execution_count": 0,
   "metadata": {
    "application/vnd.databricks.v1+cell": {
     "title": "",
     "showTitle": false,
     "inputWidgets": {},
     "nuid": "6a3f14e5-806f-48ef-bbe5-8e0cb342e1a5"
    }
   },
   "outputs": [
    {
     "data": {
      "text/html": [
       "<style scoped>\n  .ansiout {\n    display: block;\n    unicode-bidi: embed;\n    white-space: pre-wrap;\n    word-wrap: break-word;\n    word-break: break-all;\n    font-family: \"Source Code Pro\", \"Menlo\", monospace;;\n    font-size: 13px;\n    color: #555;\n    margin-left: 4px;\n    line-height: 19px;\n  }\n</style>\n<div class=\"ansiout\"></div>"
      ]
     },
     "metadata": {
      "application/vnd.databricks.v1+output": {
       "datasetInfos": [],
       "data": "<div class=\"ansiout\"></div>",
       "removedWidgets": [],
       "addedWidgets": {},
       "type": "html",
       "arguments": {}
      }
     },
     "output_type": "execute_result"
    }
   ],
   "source": [
    "def getMovieName(movieNames,movie_id):\n",
    "    result = movieNames.filter(func.col(\"movieId\") == movie_id).select(\"title\").collect()[0]\n",
    "    return result[0]"
   ]
  },
  {
   "cell_type": "code",
   "execution_count": 0,
   "metadata": {
    "application/vnd.databricks.v1+cell": {
     "title": "",
     "showTitle": false,
     "inputWidgets": {},
     "nuid": "a669e8d5-b55a-41b7-af32-e2c77f28ca74"
    }
   },
   "outputs": [
    {
     "data": {
      "text/html": [
       "<style scoped>\n  .ansiout {\n    display: block;\n    unicode-bidi: embed;\n    white-space: pre-wrap;\n    word-wrap: break-word;\n    word-break: break-all;\n    font-family: \"Source Code Pro\", \"Menlo\", monospace;;\n    font-size: 13px;\n    color: #555;\n    margin-left: 4px;\n    line-height: 19px;\n  }\n</style>\n<div class=\"ansiout\">Top 10 similar movies for All About Eve (1950)\nDial M for Murder (1954)\tscore: 0.9878582153074223\tstrength: 58\nDouble Indemnity (1944)\tscore: 0.9871131974455927\tstrength: 72\nNotorious (1946)\tscore: 0.9869985957471461\tstrength: 63\nApartment, The (1960)\tscore: 0.9859670875572815\tstrength: 73\nChinatown (1974)\tscore: 0.983866287235212\tstrength: 103\nOn the Waterfront (1954)\tscore: 0.983629262293348\tstrength: 69\nThird Man, The (1949)\tscore: 0.9835718382378524\tstrength: 79\nMaltese Falcon, The (1941)\tscore: 0.9829377093793944\tstrength: 96\nRaging Bull (1980)\tscore: 0.9826296270863719\tstrength: 76\nIt Happened One Night (1934)\tscore: 0.9821645551642226\tstrength: 63\n</div>"
      ]
     },
     "metadata": {
      "application/vnd.databricks.v1+output": {
       "datasetInfos": [],
       "data": "<div class=\"ansiout\">Top 10 similar movies for All About Eve (1950)\nDial M for Murder (1954)\tscore: 0.9878582153074223\tstrength: 58\nDouble Indemnity (1944)\tscore: 0.9871131974455927\tstrength: 72\nNotorious (1946)\tscore: 0.9869985957471461\tstrength: 63\nApartment, The (1960)\tscore: 0.9859670875572815\tstrength: 73\nChinatown (1974)\tscore: 0.983866287235212\tstrength: 103\nOn the Waterfront (1954)\tscore: 0.983629262293348\tstrength: 69\nThird Man, The (1949)\tscore: 0.9835718382378524\tstrength: 79\nMaltese Falcon, The (1941)\tscore: 0.9829377093793944\tstrength: 96\nRaging Bull (1980)\tscore: 0.9826296270863719\tstrength: 76\nIt Happened One Night (1934)\tscore: 0.9821645551642226\tstrength: 63\n</div>",
       "removedWidgets": [],
       "addedWidgets": {},
       "type": "html",
       "arguments": {}
      }
     },
     "output_type": "execute_result"
    }
   ],
   "source": [
    "print (\"Top 10 similar movies for \" + getMovieName(movies,movie_id))\n",
    "for r in result:\n",
    "  similarMovieID = r.movie1\n",
    "  if(similarMovieID == movie_id):\n",
    "    similarMovieID = r.movie2\n",
    "  print(getMovieName(movies,similarMovieID) + \"\\tscore: \" + str(r.score) + \"\\tstrength: \" + str(r.numPairs))"
   ]
  },
  {
   "cell_type": "code",
   "execution_count": 0,
   "metadata": {
    "application/vnd.databricks.v1+cell": {
     "title": "",
     "showTitle": false,
     "inputWidgets": {},
     "nuid": "d487479a-60fa-43fa-92db-ceeb1f1cc46f"
    }
   },
   "outputs": [
    {
     "data": {
      "text/html": [
       "<style scoped>\n  .ansiout {\n    display: block;\n    unicode-bidi: embed;\n    white-space: pre-wrap;\n    word-wrap: break-word;\n    word-break: break-all;\n    font-family: \"Source Code Pro\", \"Menlo\", monospace;;\n    font-size: 13px;\n    color: #555;\n    margin-left: 4px;\n    line-height: 19px;\n  }\n</style>"
      ]
     },
     "metadata": {
      "application/vnd.databricks.v1+output": {
       "type": "ipynbError",
       "data": "",
       "errorSummary": "",
       "arguments": {}
      }
     },
     "output_type": "execute_result"
    }
   ],
   "source": [
    ""
   ]
  }
 ],
 "metadata": {
  "application/vnd.databricks.v1+notebook": {
   "notebookName": "Cosine Similarity on Movie Dataset",
   "dashboards": [],
   "language": "python",
   "widgets": {},
   "notebookOrigID": 1.211015171358073E15
  }
 },
 "nbformat": 4,
 "nbformat_minor": 0
}

{
 "cells": [
  {
   "cell_type": "code",
   "execution_count": 0,
   "metadata": {
    "application/vnd.databricks.v1+cell": {
     "title": "",
     "showTitle": false,
     "inputWidgets": {},
     "nuid": "3fc83c24-770a-4a41-bb74-d045fdf9ff9e"
    }
   },
   "outputs": [
    {
     "data": {
      "text/html": [
       "<style scoped>\n  .ansiout {\n    display: block;\n    unicode-bidi: embed;\n    white-space: pre-wrap;\n    word-wrap: break-word;\n    word-break: break-all;\n    font-family: \"Source Code Pro\", \"Menlo\", monospace;;\n    font-size: 13px;\n    color: #555;\n    margin-left: 4px;\n    line-height: 19px;\n  }\n</style>\n<div class=\"ansiout\"></div>"
      ]
     },
     "metadata": {
      "application/vnd.databricks.v1+output": {
       "datasetInfos": [],
       "data": "<div class=\"ansiout\"></div>",
       "removedWidgets": [],
       "addedWidgets": {},
       "type": "html",
       "arguments": {}
      }
     },
     "output_type": "execute_result"
    }
   ],
   "source": [
    "from pyspark import SparkConf,SparkContext"
   ]
  },
  {
   "cell_type": "code",
   "execution_count": 0,
   "metadata": {
    "application/vnd.databricks.v1+cell": {
     "title": "",
     "showTitle": false,
     "inputWidgets": {},
     "nuid": "9e135600-9151-41d1-ac46-3939cd2dd723"
    }
   },
   "outputs": [
    {
     "data": {
      "text/html": [
       "<style scoped>\n  .ansiout {\n    display: block;\n    unicode-bidi: embed;\n    white-space: pre-wrap;\n    word-wrap: break-word;\n    word-break: break-all;\n    font-family: \"Source Code Pro\", \"Menlo\", monospace;;\n    font-size: 13px;\n    color: #555;\n    margin-left: 4px;\n    line-height: 19px;\n  }\n</style>\n<div class=\"ansiout\"></div>"
      ]
     },
     "metadata": {
      "application/vnd.databricks.v1+output": {
       "datasetInfos": [],
       "data": "<div class=\"ansiout\"></div>",
       "removedWidgets": [],
       "addedWidgets": {},
       "type": "html",
       "arguments": {}
      }
     },
     "output_type": "execute_result"
    }
   ],
   "source": [
    "#conf = SparkConf().setMaster(\"local[*]\").setAppName(\"RatingsHistogram\")\n",
    "#sc=SparkConf(conf=conf)"
   ]
  },
  {
   "cell_type": "code",
   "execution_count": 0,
   "metadata": {
    "application/vnd.databricks.v1+cell": {
     "title": "",
     "showTitle": false,
     "inputWidgets": {},
     "nuid": "1e6388e1-b741-461c-ab02-7b5058be0ec9"
    }
   },
   "outputs": [
    {
     "data": {
      "text/html": [
       "<style scoped>\n  .ansiout {\n    display: block;\n    unicode-bidi: embed;\n    white-space: pre-wrap;\n    word-wrap: break-word;\n    word-break: break-all;\n    font-family: \"Source Code Pro\", \"Menlo\", monospace;;\n    font-size: 13px;\n    color: #555;\n    margin-left: 4px;\n    line-height: 19px;\n  }\n</style>\n<div class=\"ansiout\">Out[2]: [&#39;196\\t242\\t3\\t881250949&#39;,\n &#39;186\\t302\\t3\\t891717742&#39;,\n &#39;22\\t377\\t1\\t878887116&#39;,\n &#39;244\\t51\\t2\\t880606923&#39;,\n &#39;166\\t346\\t1\\t886397596&#39;]</div>"
      ]
     },
     "metadata": {
      "application/vnd.databricks.v1+output": {
       "datasetInfos": [],
       "data": "<div class=\"ansiout\">Out[2]: [&#39;196\\t242\\t3\\t881250949&#39;,\n &#39;186\\t302\\t3\\t891717742&#39;,\n &#39;22\\t377\\t1\\t878887116&#39;,\n &#39;244\\t51\\t2\\t880606923&#39;,\n &#39;166\\t346\\t1\\t886397596&#39;]</div>",
       "removedWidgets": [],
       "addedWidgets": {},
       "type": "html",
       "arguments": {}
      }
     },
     "output_type": "execute_result"
    }
   ],
   "source": [
    "lines=sc.textFile(\"dbfs:/FileStore/tables/u.data\")\n",
    "lines.take(5)"
   ]
  },
  {
   "cell_type": "code",
   "execution_count": 0,
   "metadata": {
    "application/vnd.databricks.v1+cell": {
     "title": "",
     "showTitle": false,
     "inputWidgets": {},
     "nuid": "a7193aa3-a112-4123-98ac-8c6958adb701"
    }
   },
   "outputs": [
    {
     "data": {
      "text/html": [
       "<style scoped>\n  .ansiout {\n    display: block;\n    unicode-bidi: embed;\n    white-space: pre-wrap;\n    word-wrap: break-word;\n    word-break: break-all;\n    font-family: \"Source Code Pro\", \"Menlo\", monospace;;\n    font-size: 13px;\n    color: #555;\n    margin-left: 4px;\n    line-height: 19px;\n  }\n</style>\n<div class=\"ansiout\">Out[3]: [&#39;3&#39;, &#39;3&#39;, &#39;1&#39;, &#39;2&#39;, &#39;1&#39;]</div>"
      ]
     },
     "metadata": {
      "application/vnd.databricks.v1+output": {
       "datasetInfos": [],
       "data": "<div class=\"ansiout\">Out[3]: [&#39;3&#39;, &#39;3&#39;, &#39;1&#39;, &#39;2&#39;, &#39;1&#39;]</div>",
       "removedWidgets": [],
       "addedWidgets": {},
       "type": "html",
       "arguments": {}
      }
     },
     "output_type": "execute_result"
    }
   ],
   "source": [
    "ratings=lines.map(lambda x:x.split()[2])\n",
    "ratings.take(5)"
   ]
  },
  {
   "cell_type": "code",
   "execution_count": 0,
   "metadata": {
    "application/vnd.databricks.v1+cell": {
     "title": "",
     "showTitle": false,
     "inputWidgets": {},
     "nuid": "f21368a8-b388-4bf5-bde4-85f1e3f8fc2b"
    }
   },
   "outputs": [
    {
     "data": {
      "text/html": [
       "<style scoped>\n  .ansiout {\n    display: block;\n    unicode-bidi: embed;\n    white-space: pre-wrap;\n    word-wrap: break-word;\n    word-break: break-all;\n    font-family: \"Source Code Pro\", \"Menlo\", monospace;;\n    font-size: 13px;\n    color: #555;\n    margin-left: 4px;\n    line-height: 19px;\n  }\n</style>\n<div class=\"ansiout\">defaultdict(&lt;class &#39;int&#39;&gt;, {&#39;3&#39;: 27145, &#39;1&#39;: 6110, &#39;2&#39;: 11370, &#39;4&#39;: 34174, &#39;5&#39;: 21201})\n</div>"
      ]
     },
     "metadata": {
      "application/vnd.databricks.v1+output": {
       "datasetInfos": [],
       "data": "<div class=\"ansiout\">defaultdict(&lt;class &#39;int&#39;&gt;, {&#39;3&#39;: 27145, &#39;1&#39;: 6110, &#39;2&#39;: 11370, &#39;4&#39;: 34174, &#39;5&#39;: 21201})\n</div>",
       "removedWidgets": [],
       "addedWidgets": {},
       "type": "html",
       "arguments": {}
      }
     },
     "output_type": "execute_result"
    }
   ],
   "source": [
    "result=ratings.countByValue()\n",
    "print(result)"
   ]
  },
  {
   "cell_type": "code",
   "execution_count": 0,
   "metadata": {
    "application/vnd.databricks.v1+cell": {
     "title": "",
     "showTitle": false,
     "inputWidgets": {},
     "nuid": "5b028d67-214a-4baf-9a76-fdf66314824d"
    }
   },
   "outputs": [
    {
     "data": {
      "text/html": [
       "<style scoped>\n  .ansiout {\n    display: block;\n    unicode-bidi: embed;\n    white-space: pre-wrap;\n    word-wrap: break-word;\n    word-break: break-all;\n    font-family: \"Source Code Pro\", \"Menlo\", monospace;;\n    font-size: 13px;\n    color: #555;\n    margin-left: 4px;\n    line-height: 19px;\n  }\n</style>\n<div class=\"ansiout\"></div>"
      ]
     },
     "metadata": {
      "application/vnd.databricks.v1+output": {
       "datasetInfos": [],
       "data": "<div class=\"ansiout\"></div>",
       "removedWidgets": [],
       "addedWidgets": {},
       "type": "html",
       "arguments": {}
      }
     },
     "output_type": "execute_result"
    }
   ],
   "source": [
    "import collections"
   ]
  },
  {
   "cell_type": "code",
   "execution_count": 0,
   "metadata": {
    "application/vnd.databricks.v1+cell": {
     "title": "",
     "showTitle": false,
     "inputWidgets": {},
     "nuid": "6520e13c-cc42-4101-8fac-7e9d1186b042"
    }
   },
   "outputs": [
    {
     "data": {
      "text/html": [
       "<style scoped>\n  .ansiout {\n    display: block;\n    unicode-bidi: embed;\n    white-space: pre-wrap;\n    word-wrap: break-word;\n    word-break: break-all;\n    font-family: \"Source Code Pro\", \"Menlo\", monospace;;\n    font-size: 13px;\n    color: #555;\n    margin-left: 4px;\n    line-height: 19px;\n  }\n</style>"
      ]
     },
     "metadata": {
      "application/vnd.databricks.v1+output": {
       "type": "ipynbError",
       "data": "",
       "errorSummary": "",
       "arguments": {}
      }
     },
     "output_type": "execute_result"
    }
   ],
   "source": [
    "# Movie Ratings Counter "
   ]
  },
  {
   "cell_type": "code",
   "execution_count": 0,
   "metadata": {
    "application/vnd.databricks.v1+cell": {
     "title": "",
     "showTitle": false,
     "inputWidgets": {},
     "nuid": "4fc7edd5-7a4c-4260-ae01-b2314ae78449"
    }
   },
   "outputs": [
    {
     "data": {
      "text/html": [
       "<style scoped>\n  .ansiout {\n    display: block;\n    unicode-bidi: embed;\n    white-space: pre-wrap;\n    word-wrap: break-word;\n    word-break: break-all;\n    font-family: \"Source Code Pro\", \"Menlo\", monospace;;\n    font-size: 13px;\n    color: #555;\n    margin-left: 4px;\n    line-height: 19px;\n  }\n</style>\n<div class=\"ansiout\">1 6110\n2 11370\n3 27145\n4 34174\n5 21201\n</div>"
      ]
     },
     "metadata": {
      "application/vnd.databricks.v1+output": {
       "datasetInfos": [],
       "data": "<div class=\"ansiout\">1 6110\n2 11370\n3 27145\n4 34174\n5 21201\n</div>",
       "removedWidgets": [],
       "addedWidgets": {},
       "type": "html",
       "arguments": {}
      }
     },
     "output_type": "execute_result"
    }
   ],
   "source": [
    "sortedResults = collections.OrderedDict(sorted(result.items()))\n",
    "for key, value in sortedResults.items():\n",
    "    print(\"%s %i\" % (key, value))"
   ]
  },
  {
   "cell_type": "code",
   "execution_count": 0,
   "metadata": {
    "application/vnd.databricks.v1+cell": {
     "title": "",
     "showTitle": false,
     "inputWidgets": {},
     "nuid": "622df843-105e-4958-ae53-d237f8f5d483"
    }
   },
   "outputs": [
    {
     "data": {
      "text/html": [
       "<style scoped>\n  .ansiout {\n    display: block;\n    unicode-bidi: embed;\n    white-space: pre-wrap;\n    word-wrap: break-word;\n    word-break: break-all;\n    font-family: \"Source Code Pro\", \"Menlo\", monospace;;\n    font-size: 13px;\n    color: #555;\n    margin-left: 4px;\n    line-height: 19px;\n  }\n</style>\n<div class=\"ansiout\"></div>"
      ]
     },
     "metadata": {
      "application/vnd.databricks.v1+output": {
       "datasetInfos": [],
       "data": "<div class=\"ansiout\"></div>",
       "removedWidgets": [],
       "addedWidgets": {},
       "type": "html",
       "arguments": {}
      }
     },
     "output_type": "execute_result"
    }
   ],
   "source": [
    "from pyspark.sql import SparkSession,functions as func\n",
    "from pyspark.sql.types import StructType,StructField,LongType,IntegerType,StringType,FloatType,IntegerType"
   ]
  },
  {
   "cell_type": "code",
   "execution_count": 0,
   "metadata": {
    "application/vnd.databricks.v1+cell": {
     "title": "",
     "showTitle": false,
     "inputWidgets": {},
     "nuid": "cbd6153e-9c70-40e2-886f-a9d410426c68"
    }
   },
   "outputs": [
    {
     "data": {
      "text/html": [
       "<style scoped>\n  .ansiout {\n    display: block;\n    unicode-bidi: embed;\n    white-space: pre-wrap;\n    word-wrap: break-word;\n    word-break: break-all;\n    font-family: \"Source Code Pro\", \"Menlo\", monospace;;\n    font-size: 13px;\n    color: #555;\n    margin-left: 4px;\n    line-height: 19px;\n  }\n</style>\n<div class=\"ansiout\"></div>"
      ]
     },
     "metadata": {
      "application/vnd.databricks.v1+output": {
       "datasetInfos": [],
       "data": "<div class=\"ansiout\"></div>",
       "removedWidgets": [],
       "addedWidgets": {},
       "type": "html",
       "arguments": {}
      }
     },
     "output_type": "execute_result"
    }
   ],
   "source": [
    "spark=SparkSession.builder.appName(\"PopularMovie\").getOrCreate()"
   ]
  },
  {
   "cell_type": "code",
   "execution_count": 0,
   "metadata": {
    "application/vnd.databricks.v1+cell": {
     "title": "",
     "showTitle": false,
     "inputWidgets": {},
     "nuid": "a2bb5126-66f0-453d-ae7c-bd40c6712167"
    }
   },
   "outputs": [
    {
     "data": {
      "text/html": [
       "<style scoped>\n  .ansiout {\n    display: block;\n    unicode-bidi: embed;\n    white-space: pre-wrap;\n    word-wrap: break-word;\n    word-break: break-all;\n    font-family: \"Source Code Pro\", \"Menlo\", monospace;;\n    font-size: 13px;\n    color: #555;\n    margin-left: 4px;\n    line-height: 19px;\n  }\n</style>\n<div class=\"ansiout\"></div>"
      ]
     },
     "metadata": {
      "application/vnd.databricks.v1+output": {
       "datasetInfos": [],
       "data": "<div class=\"ansiout\"></div>",
       "removedWidgets": [],
       "addedWidgets": {},
       "type": "html",
       "arguments": {}
      }
     },
     "output_type": "execute_result"
    }
   ],
   "source": [
    "schema=StructType([StructField(\"user_id\",IntegerType(),True),StructField(\"movie_id\",IntegerType(),True),StructField(\"rating\",IntegerType(),True),StructField(\"timestamp\",LongType(),True)])"
   ]
  },
  {
   "cell_type": "code",
   "execution_count": 0,
   "metadata": {
    "application/vnd.databricks.v1+cell": {
     "title": "",
     "showTitle": false,
     "inputWidgets": {},
     "nuid": "c840f7cf-659e-44ee-99dc-7a66ca9821b4"
    }
   },
   "outputs": [
    {
     "data": {
      "text/html": [
       "<style scoped>\n  .ansiout {\n    display: block;\n    unicode-bidi: embed;\n    white-space: pre-wrap;\n    word-wrap: break-word;\n    word-break: break-all;\n    font-family: \"Source Code Pro\", \"Menlo\", monospace;;\n    font-size: 13px;\n    color: #555;\n    margin-left: 4px;\n    line-height: 19px;\n  }\n</style>\n<div class=\"ansiout\">+-------+--------+------+---------+\nuser_id|movie_id|rating|timestamp|\n+-------+--------+------+---------+\n    196|     242|     3|881250949|\n    186|     302|     3|891717742|\n     22|     377|     1|878887116|\n    244|      51|     2|880606923|\n    166|     346|     1|886397596|\n+-------+--------+------+---------+\nonly showing top 5 rows\n\n</div>"
      ]
     },
     "metadata": {
      "application/vnd.databricks.v1+output": {
       "datasetInfos": [],
       "data": "<div class=\"ansiout\">+-------+--------+------+---------+\n|user_id|movie_id|rating|timestamp|\n+-------+--------+------+---------+\n|    196|     242|     3|881250949|\n|    186|     302|     3|891717742|\n|     22|     377|     1|878887116|\n|    244|      51|     2|880606923|\n|    166|     346|     1|886397596|\n+-------+--------+------+---------+\nonly showing top 5 rows\n\n</div>",
       "removedWidgets": [],
       "addedWidgets": {},
       "type": "html",
       "arguments": {}
      }
     },
     "output_type": "execute_result"
    }
   ],
   "source": [
    "new_df=spark.read.option(\"sep\",\"\\t\").schema(schema).csv(\"dbfs:/FileStore/tables/u.data\")\n",
    "new_df.show(5)"
   ]
  },
  {
   "cell_type": "code",
   "execution_count": 0,
   "metadata": {
    "application/vnd.databricks.v1+cell": {
     "title": "",
     "showTitle": false,
     "inputWidgets": {},
     "nuid": "a72017e9-64b4-4dc9-8f9c-c9bf09f0b03c"
    }
   },
   "outputs": [
    {
     "data": {
      "text/html": [
       "<style scoped>\n  .ansiout {\n    display: block;\n    unicode-bidi: embed;\n    white-space: pre-wrap;\n    word-wrap: break-word;\n    word-break: break-all;\n    font-family: \"Source Code Pro\", \"Menlo\", monospace;;\n    font-size: 13px;\n    color: #555;\n    margin-left: 4px;\n    line-height: 19px;\n  }\n</style>\n<div class=\"ansiout\"></div>"
      ]
     },
     "metadata": {
      "application/vnd.databricks.v1+output": {
       "datasetInfos": [],
       "data": "<div class=\"ansiout\"></div>",
       "removedWidgets": [],
       "addedWidgets": {},
       "type": "html",
       "arguments": {}
      }
     },
     "output_type": "execute_result"
    }
   ],
   "source": [
    "from pyspark.sql.functions import col"
   ]
  },
  {
   "cell_type": "code",
   "execution_count": 0,
   "metadata": {
    "application/vnd.databricks.v1+cell": {
     "title": "",
     "showTitle": false,
     "inputWidgets": {},
     "nuid": "9daa4019-17f4-4ce9-85d0-319868265c8b"
    }
   },
   "outputs": [
    {
     "data": {
      "text/html": [
       "<style scoped>\n  .ansiout {\n    display: block;\n    unicode-bidi: embed;\n    white-space: pre-wrap;\n    word-wrap: break-word;\n    word-break: break-all;\n    font-family: \"Source Code Pro\", \"Menlo\", monospace;;\n    font-size: 13px;\n    color: #555;\n    margin-left: 4px;\n    line-height: 19px;\n  }\n</style>\n<div class=\"ansiout\">+--------+------+--------+------+\nmovie_id|rating|movie_id|rating|\n+--------+------+--------+------+\n     242|     3|     110|     1|\n     242|     3|     269|     3|\n     242|     3|     845|     4|\n     242|     3|    1022|     4|\n     242|     3|     173|     2|\n     242|     3|     762|     3|\n     242|     3|      13|     2|\n     242|     3|     153|     5|\n     242|     3|     411|     4|\n     242|     3|    1007|     4|\n+--------+------+--------+------+\nonly showing top 10 rows\n\n</div>"
      ]
     },
     "metadata": {
      "application/vnd.databricks.v1+output": {
       "datasetInfos": [],
       "data": "<div class=\"ansiout\">+--------+------+--------+------+\n|movie_id|rating|movie_id|rating|\n+--------+------+--------+------+\n|     242|     3|     110|     1|\n|     242|     3|     269|     3|\n|     242|     3|     845|     4|\n|     242|     3|    1022|     4|\n|     242|     3|     173|     2|\n|     242|     3|     762|     3|\n|     242|     3|      13|     2|\n|     242|     3|     153|     5|\n|     242|     3|     411|     4|\n|     242|     3|    1007|     4|\n+--------+------+--------+------+\nonly showing top 10 rows\n\n</div>",
       "removedWidgets": [],
       "addedWidgets": {},
       "type": "html",
       "arguments": {}
      }
     },
     "output_type": "execute_result"
    }
   ],
   "source": [
    "moviePairs=new_df.alias(\"new_1\").join(new_df.alias(\"new_2\"),col(\"new_1.user_id\")==col(\"new_2.user_id\"),\"inner\") \\\n",
    "           .select(col(\"new_1.movie_id\"),col(\"new_1.rating\"),col(\"new_2.movie_id\"),col(\"new_2.rating\"))\n",
    "moviePairs.show(10)"
   ]
  },
  {
   "cell_type": "code",
   "execution_count": 0,
   "metadata": {
    "application/vnd.databricks.v1+cell": {
     "title": "",
     "showTitle": false,
     "inputWidgets": {},
     "nuid": "4284bce6-d040-4432-b1a1-8f1d809117b3"
    }
   },
   "outputs": [
    {
     "data": {
      "text/html": [
       "<style scoped>\n  .ansiout {\n    display: block;\n    unicode-bidi: embed;\n    white-space: pre-wrap;\n    word-wrap: break-word;\n    word-break: break-all;\n    font-family: \"Source Code Pro\", \"Menlo\", monospace;;\n    font-size: 13px;\n    color: #555;\n    margin-left: 4px;\n    line-height: 19px;\n  }\n</style>\n<div class=\"ansiout\">+-------+--------+------+---------+\nuser_id|movie_id|rating|timestamp|\n+-------+--------+------+---------+\n    196|     242|     3|881250949|\n    186|     302|     3|891717742|\n     22|     377|     1|878887116|\n    244|      51|     2|880606923|\n    166|     346|     1|886397596|\n+-------+--------+------+---------+\n\n</div>"
      ]
     },
     "metadata": {
      "application/vnd.databricks.v1+output": {
       "datasetInfos": [],
       "data": "<div class=\"ansiout\">+-------+--------+------+---------+\n|user_id|movie_id|rating|timestamp|\n+-------+--------+------+---------+\n|    196|     242|     3|881250949|\n|    186|     302|     3|891717742|\n|     22|     377|     1|878887116|\n|    244|      51|     2|880606923|\n|    166|     346|     1|886397596|\n+-------+--------+------+---------+\n\n</div>",
       "removedWidgets": [],
       "addedWidgets": {},
       "type": "html",
       "arguments": {}
      }
     },
     "output_type": "execute_result"
    }
   ],
   "source": [
    "new_df.createOrReplaceTempView(\"user\")\n",
    "spark.sql(\"select * from user limit 5\").show()"
   ]
  },
  {
   "cell_type": "code",
   "execution_count": 0,
   "metadata": {
    "application/vnd.databricks.v1+cell": {
     "title": "",
     "showTitle": false,
     "inputWidgets": {},
     "nuid": "c49c1d40-1586-450d-bf10-7e148aec8716"
    }
   },
   "outputs": [
    {
     "data": {
      "text/html": [
       "<style scoped>\n  .ansiout {\n    display: block;\n    unicode-bidi: embed;\n    white-space: pre-wrap;\n    word-wrap: break-word;\n    word-break: break-all;\n    font-family: \"Source Code Pro\", \"Menlo\", monospace;;\n    font-size: 13px;\n    color: #555;\n    margin-left: 4px;\n    line-height: 19px;\n  }\n</style>\n<div class=\"ansiout\">+--------+-----+\nmovie_id|count|\n+--------+-----+\n      50|  583|\n     258|  509|\n     100|  508|\n     181|  507|\n     294|  485|\n     286|  481|\n     288|  478|\n       1|  452|\n     300|  431|\n     121|  429|\n+--------+-----+\nonly showing top 10 rows\n\n</div>"
      ]
     },
     "metadata": {
      "application/vnd.databricks.v1+output": {
       "datasetInfos": [],
       "data": "<div class=\"ansiout\">+--------+-----+\n|movie_id|count|\n+--------+-----+\n|      50|  583|\n|     258|  509|\n|     100|  508|\n|     181|  507|\n|     294|  485|\n|     286|  481|\n|     288|  478|\n|       1|  452|\n|     300|  431|\n|     121|  429|\n+--------+-----+\nonly showing top 10 rows\n\n</div>",
       "removedWidgets": [],
       "addedWidgets": {},
       "type": "html",
       "arguments": {}
      }
     },
     "output_type": "execute_result"
    }
   ],
   "source": [
    "new_df.groupBy(\"movie_id\").count().sort(\"count\",ascending=False).show(10)"
   ]
  },
  {
   "cell_type": "code",
   "execution_count": 0,
   "metadata": {
    "application/vnd.databricks.v1+cell": {
     "title": "",
     "showTitle": false,
     "inputWidgets": {},
     "nuid": "30188439-3ff1-4696-b506-c88e5b8326ea"
    }
   },
   "outputs": [
    {
     "data": {
      "text/html": [
       "<style scoped>\n  .table-result-container {\n    max-height: 300px;\n    overflow: auto;\n  }\n  table, th, td {\n    border: 1px solid black;\n    border-collapse: collapse;\n  }\n  th, td {\n    padding: 5px;\n  }\n  th {\n    text-align: left;\n  }\n</style><div class='table-result-container'><table class='table-result'><thead style='background-color: white'><tr><th>movie_id</th><th>count</th></tr></thead><tbody><tr><td>50</td><td>583</td></tr><tr><td>258</td><td>509</td></tr><tr><td>100</td><td>508</td></tr><tr><td>181</td><td>507</td></tr><tr><td>294</td><td>485</td></tr><tr><td>286</td><td>481</td></tr><tr><td>288</td><td>478</td></tr><tr><td>1</td><td>452</td></tr><tr><td>300</td><td>431</td></tr><tr><td>121</td><td>429</td></tr><tr><td>174</td><td>420</td></tr><tr><td>127</td><td>413</td></tr><tr><td>56</td><td>394</td></tr><tr><td>7</td><td>392</td></tr><tr><td>98</td><td>390</td></tr><tr><td>237</td><td>384</td></tr><tr><td>117</td><td>378</td></tr><tr><td>172</td><td>367</td></tr><tr><td>222</td><td>365</td></tr><tr><td>204</td><td>350</td></tr><tr><td>313</td><td>350</td></tr><tr><td>405</td><td>344</td></tr><tr><td>79</td><td>336</td></tr><tr><td>210</td><td>331</td></tr><tr><td>151</td><td>326</td></tr><tr><td>173</td><td>324</td></tr><tr><td>69</td><td>321</td></tr><tr><td>748</td><td>316</td></tr><tr><td>168</td><td>316</td></tr><tr><td>269</td><td>315</td></tr><tr><td>257</td><td>303</td></tr><tr><td>195</td><td>301</td></tr><tr><td>423</td><td>300</td></tr><tr><td>9</td><td>299</td></tr><tr><td>318</td><td>298</td></tr><tr><td>276</td><td>298</td></tr><tr><td>302</td><td>297</td></tr><tr><td>22</td><td>297</td></tr><tr><td>328</td><td>295</td></tr><tr><td>96</td><td>295</td></tr><tr><td>118</td><td>293</td></tr><tr><td>15</td><td>293</td></tr><tr><td>25</td><td>293</td></tr><tr><td>183</td><td>291</td></tr><tr><td>216</td><td>290</td></tr><tr><td>176</td><td>284</td></tr><tr><td>64</td><td>283</td></tr><tr><td>234</td><td>280</td></tr><tr><td>202</td><td>280</td></tr><tr><td>28</td><td>276</td></tr><tr><td>191</td><td>276</td></tr><tr><td>89</td><td>275</td></tr><tr><td>111</td><td>272</td></tr><tr><td>275</td><td>268</td></tr><tr><td>12</td><td>267</td></tr><tr><td>742</td><td>267</td></tr><tr><td>357</td><td>264</td></tr><tr><td>82</td><td>261</td></tr><tr><td>289</td><td>259</td></tr><tr><td>135</td><td>259</td></tr><tr><td>238</td><td>256</td></tr><tr><td>97</td><td>256</td></tr><tr><td>268</td><td>255</td></tr><tr><td>546</td><td>254</td></tr><tr><td>333</td><td>251</td></tr><tr><td>196</td><td>251</td></tr><tr><td>70</td><td>251</td></tr><tr><td>186</td><td>251</td></tr><tr><td>475</td><td>250</td></tr><tr><td>153</td><td>247</td></tr><tr><td>132</td><td>246</td></tr><tr><td>228</td><td>244</td></tr><tr><td>125</td><td>244</td></tr><tr><td>144</td><td>243</td></tr><tr><td>483</td><td>243</td></tr><tr><td>194</td><td>241</td></tr><tr><td>323</td><td>240</td></tr><tr><td>245</td><td>240</td></tr><tr><td>197</td><td>239</td></tr><tr><td>185</td><td>239</td></tr><tr><td>11</td><td>236</td></tr><tr><td>282</td><td>232</td></tr><tr><td>496</td><td>231</td></tr><tr><td>301</td><td>230</td></tr><tr><td>568</td><td>230</td></tr><tr><td>265</td><td>227</td></tr><tr><td>655</td><td>227</td></tr><tr><td>182</td><td>226</td></tr><tr><td>273</td><td>223</td></tr><tr><td>143</td><td>222</td></tr><tr><td>471</td><td>221</td></tr><tr><td>179</td><td>221</td></tr><tr><td>180</td><td>221</td></tr><tr><td>71</td><td>220</td></tr><tr><td>161</td><td>220</td></tr><tr><td>8</td><td>219</td></tr><tr><td>678</td><td>219</td></tr><tr><td>427</td><td>219</td></tr><tr><td>95</td><td>219</td></tr><tr><td>322</td><td>218</td></tr><tr><td>235</td><td>217</td></tr><tr><td>435</td><td>216</td></tr><tr><td>508</td><td>215</td></tr><tr><td>88</td><td>213</td></tr><tr><td>215</td><td>212</td></tr><tr><td>271</td><td>211</td></tr><tr><td>603</td><td>209</td></tr><tr><td>4</td><td>209</td></tr><tr><td>187</td><td>209</td></tr><tr><td>385</td><td>208</td></tr><tr><td>175</td><td>208</td></tr><tr><td>200</td><td>206</td></tr><tr><td>597</td><td>206</td></tr><tr><td>211</td><td>206</td></tr><tr><td>588</td><td>202</td></tr><tr><td>515</td><td>201</td></tr><tr><td>403</td><td>201</td></tr><tr><td>208</td><td>200</td></tr><tr><td>230</td><td>199</td></tr><tr><td>272</td><td>198</td></tr><tr><td>134</td><td>198</td></tr><tr><td>250</td><td>197</td></tr><tr><td>527</td><td>195</td></tr><tr><td>474</td><td>194</td></tr><tr><td>298</td><td>194</td></tr><tr><td>284</td><td>193</td></tr><tr><td>393</td><td>192</td></tr><tr><td>209</td><td>191</td></tr><tr><td>274</td><td>190</td></tr><tr><td>340</td><td>189</td></tr><tr><td>307</td><td>188</td></tr><tr><td>124</td><td>187</td></tr><tr><td>147</td><td>185</td></tr><tr><td>13</td><td>184</td></tr><tr><td>14</td><td>183</td></tr><tr><td>23</td><td>182</td></tr><tr><td>203</td><td>182</td></tr><tr><td>732</td><td>180</td></tr><tr><td>514</td><td>180</td></tr><tr><td>751</td><td>180</td></tr><tr><td>480</td><td>179</td></tr><tr><td>566</td><td>179</td></tr><tr><td>479</td><td>179</td></tr><tr><td>419</td><td>178</td></tr><tr><td>591</td><td>178</td></tr><tr><td>283</td><td>177</td></tr><tr><td>83</td><td>176</td></tr><tr><td>845</td><td>176</td></tr><tr><td>326</td><td>175</td></tr><tr><td>58</td><td>175</td></tr><tr><td>327</td><td>175</td></tr><tr><td>432</td><td>174</td></tr><tr><td>154</td><td>174</td></tr><tr><td>24</td><td>174</td></tr><tr><td>511</td><td>173</td></tr><tr><td>255</td><td>172</td></tr><tr><td>99</td><td>172</td></tr><tr><td>433</td><td>171</td></tr><tr><td>137</td><td>171</td></tr><tr><td>133</td><td>171</td></tr><tr><td>651</td><td>171</td></tr><tr><td>218</td><td>171</td></tr><tr><td>229</td><td>171</td></tr><tr><td>367</td><td>170</td></tr><tr><td>402</td><td>170</td></tr><tr><td>188</td><td>170</td></tr><tr><td>451</td><td>170</td></tr><tr><td>321</td><td>169</td></tr><tr><td>684</td><td>169</td></tr><tr><td>628</td><td>169</td></tr><tr><td>319</td><td>168</td></tr><tr><td>582</td><td>168</td></tr><tr><td>226</td><td>166</td></tr><tr><td>199</td><td>165</td></tr><tr><td>739</td><td>164</td></tr><tr><td>692</td><td>164</td></tr><tr><td>523</td><td>164</td></tr><tr><td>411</td><td>163</td></tr><tr><td>410</td><td>162</td></tr><tr><td>259</td><td>162</td></tr><tr><td>443</td><td>162</td></tr><tr><td>66</td><td>162</td></tr><tr><td>285</td><td>162</td></tr><tr><td>227</td><td>161</td></tr><tr><td>476</td><td>160</td></tr><tr><td>248</td><td>160</td></tr><tr><td>315</td><td>160</td></tr><tr><td>472</td><td>158</td></tr><tr><td>252</td><td>158</td></tr><tr><td>685</td><td>157</td></tr><tr><td>150</td><td>157</td></tr><tr><td>193</td><td>157</td></tr><tr><td>240</td><td>156</td></tr><tr><td>690</td><td>155</td></tr><tr><td>31</td><td>154</td></tr><tr><td>660</td><td>153</td></tr><tr><td>431</td><td>153</td></tr><tr><td>498</td><td>152</td></tr><tr><td>550</td><td>151</td></tr><tr><td>164</td><td>151</td></tr><tr><td>77</td><td>151</td></tr><tr><td>86</td><td>150</td></tr><tr><td>239</td><td>150</td></tr><tr><td>304</td><td>149</td></tr><tr><td>55</td><td>149</td></tr><tr><td>763</td><td>149</td></tr><tr><td>1028</td><td>148</td></tr><tr><td>42</td><td>148</td></tr><tr><td>462</td><td>148</td></tr><tr><td>156</td><td>148</td></tr><tr><td>293</td><td>147</td></tr><tr><td>654</td><td>147</td></tr><tr><td>281</td><td>146</td></tr><tr><td>310</td><td>145</td></tr><tr><td>455</td><td>145</td></tr><tr><td>332</td><td>143</td></tr><tr><td>91</td><td>143</td></tr><tr><td>358</td><td>143</td></tr><tr><td>231</td><td>142</td></tr><tr><td>484</td><td>138</td></tr><tr><td>87</td><td>138</td></tr><tr><td>735</td><td>137</td></tr><tr><td>177</td><td>137</td></tr><tr><td>94</td><td>137</td></tr><tr><td>705</td><td>137</td></tr><tr><td>559</td><td>137</td></tr><tr><td>347</td><td>137</td></tr><tr><td>1016</td><td>137</td></tr><tr><td>205</td><td>136</td></tr><tr><td>270</td><td>136</td></tr><tr><td>223</td><td>136</td></tr><tr><td>879</td><td>136</td></tr><tr><td>1047</td><td>134</td></tr><tr><td>213</td><td>134</td></tr><tr><td>303</td><td>134</td></tr><tr><td>68</td><td>134</td></tr><tr><td>47</td><td>133</td></tr><tr><td>243</td><td>132</td></tr><tr><td>2</td><td>131</td></tr><tr><td>657</td><td>131</td></tr><tr><td>249</td><td>130</td></tr><tr><td>109</td><td>130</td></tr><tr><td>72</td><td>129</td></tr><tr><td>129</td><td>129</td></tr><tr><td>418</td><td>129</td></tr><tr><td>531</td><td>129</td></tr><tr><td>325</td><td>128</td></tr><tr><td>148</td><td>128</td></tr><tr><td>482</td><td>128</td></tr><tr><td>241</td><td>128</td></tr><tr><td>73</td><td>128</td></tr><tr><td>53</td><td>128</td></tr><tr><td>756</td><td>128</td></tr><tr><td>62</td><td>127</td></tr><tr><td>291</td><td>127</td></tr><tr><td>260</td><td>127</td></tr><tr><td>198</td><td>127</td></tr><tr><td>596</td><td>127</td></tr><tr><td>157</td><td>127</td></tr><tr><td>346</td><td>126</td></tr><tr><td>473</td><td>126</td></tr><tr><td>178</td><td>125</td></tr><tr><td>116</td><td>125</td></tr><tr><td>324</td><td>125</td></tr><tr><td>485</td><td>125</td></tr><tr><td>343</td><td>124</td></tr><tr><td>520</td><td>124</td></tr><tr><td>750</td><td>124</td></tr><tr><td>526</td><td>124</td></tr><tr><td>246</td><td>124</td></tr><tr><td>190</td><td>124</td></tr><tr><td>233</td><td>124</td></tr><tr><td>501</td><td>123</td></tr><tr><td>504</td><td>122</td></tr><tr><td>510</td><td>121</td></tr><tr><td>528</td><td>121</td></tr><tr><td>170</td><td>121</td></tr><tr><td>509</td><td>121</td></tr><tr><td>447</td><td>121</td></tr><tr><td>428</td><td>121</td></tr><tr><td>217</td><td>120</td></tr><tr><td>521</td><td>120</td></tr><tr><td>38</td><td>120</td></tr><tr><td>866</td><td>119</td></tr><tr><td>746</td><td>119</td></tr><tr><td>631</td><td>119</td></tr><tr><td>169</td><td>118</td></tr><tr><td>449</td><td>117</td></tr><tr><td>48</td><td>117</td></tr><tr><td>242</td><td>117</td></tr><tr><td>663</td><td>116</td></tr><tr><td>380</td><td>116</td></tr><tr><td>184</td><td>116</td></tr><tr><td>192</td><td>116</td></tr><tr><td>762</td><td>115</td></tr><tr><td>65</td><td>115</td></tr><tr><td>659</td><td>115</td></tr><tr><td>123</td><td>115</td></tr><tr><td>214</td><td>114</td></tr><tr><td>292</td><td>114</td></tr><tr><td>29</td><td>114</td></tr><tr><td>331</td><td>113</td></tr><tr><td>316</td><td>112</td></tr><tr><td>93</td><td>112</td></tr><tr><td>408</td><td>112</td></tr><tr><td>815</td><td>112</td></tr><tr><td>219</td><td>111</td></tr><tr><td>382</td><td>111</td></tr><tr><td>81</td><td>110</td></tr><tr><td>225</td><td>109</td></tr><tr><td>470</td><td>108</td></tr><tr><td>679</td><td>107</td></tr><tr><td>122</td><td>106</td></tr><tr><td>162</td><td>106</td></tr><tr><td>421</td><td>106</td></tr><tr><td>895</td><td>106</td></tr><tr><td>136</td><td>105</td></tr><tr><td>709</td><td>104</td></tr><tr><td>54</td><td>104</td></tr><tr><td>478</td><td>104</td></tr><tr><td>92</td><td>104</td></tr><tr><td>928</td><td>104</td></tr><tr><td>67</td><td>103</td></tr><tr><td>554</td><td>102</td></tr><tr><td>317</td><td>102</td></tr><tr><td>699</td><td>102</td></tr><tr><td>747</td><td>102</td></tr><tr><td>264</td><td>101</td></tr><tr><td>378</td><td>101</td></tr><tr><td>926</td><td>101</td></tr><tr><td>404</td><td>101</td></tr><tr><td>708</td><td>101</td></tr><tr><td>232</td><td>101</td></tr><tr><td>159</td><td>101</td></tr><tr><td>381</td><td>100</td></tr><tr><td>665</td><td>100</td></tr><tr><td>682</td><td>100</td></tr><tr><td>1012</td><td>100</td></tr><tr><td>436</td><td>99</td></tr><tr><td>507</td><td>98</td></tr><tr><td>1014</td><td>98</td></tr><tr><td>155</td><td>98</td></tr><tr><td>429</td><td>97</td></tr><tr><td>126</td><td>97</td></tr><tr><td>356</td><td>97</td></tr><tr><td>33</td><td>97</td></tr><tr><td>290</td><td>96</td></tr><tr><td>755</td><td>96</td></tr><tr><td>306</td><td>96</td></tr><tr><td>919</td><td>96</td></tr><tr><td>477</td><td>95</td></tr><tr><td>90</td><td>95</td></tr><tr><td>131</td><td>95</td></tr><tr><td>576</td><td>93</td></tr><tr><td>1011</td><td>93</td></tr><tr><td>820</td><td>93</td></tr><tr><td>529</td><td>93</td></tr><tr><td>430</td><td>93</td></tr><tr><td>412</td><td>93</td></tr><tr><td>212</td><td>92</td></tr><tr><td>17</td><td>92</td></tr><tr><td>744</td><td>92</td></tr><tr><td>163</td><td>92</td></tr><tr><td>549</td><td>92</td></tr><tr><td>578</td><td>92</td></tr><tr><td>636</td><td>91</td></tr><tr><td>52</td><td>91</td></tr><tr><td>517</td><td>91</td></tr><tr><td>693</td><td>91</td></tr><tr><td>338</td><td>91</td></tr><tr><td>831</td><td>91</td></tr><tr><td>506</td><td>90</td></tr><tr><td>652</td><td>90</td></tr><tr><td>1039</td><td>90</td></tr><tr><td>458</td><td>90</td></tr><tr><td>3</td><td>90</td></tr><tr><td>10</td><td>89</td></tr><tr><td>642</td><td>89</td></tr><tr><td>518</td><td>89</td></tr><tr><td>399</td><td>89</td></tr><tr><td>201</td><td>89</td></tr><tr><td>661</td><td>88</td></tr><tr><td>715</td><td>87</td></tr><tr><td>386</td><td>87</td></tr><tr><td>689</td><td>87</td></tr><tr><td>39</td><td>87</td></tr><tr><td>305</td><td>87</td></tr><tr><td>720</td><td>86</td></tr><tr><td>673</td><td>86</td></tr><tr><td>864</td><td>86</td></tr><tr><td>5</td><td>86</td></tr><tr><td>988</td><td>86</td></tr><tr><td>792</td><td>86</td></tr><tr><td>465</td><td>85</td></tr><tr><td>280</td><td>85</td></tr><tr><td>448</td><td>85</td></tr><tr><td>425</td><td>85</td></tr><tr><td>924</td><td>85</td></tr><tr><td>21</td><td>84</td></tr><tr><td>781</td><td>84</td></tr><tr><td>825</td><td>83</td></tr><tr><td>59</td><td>83</td></tr><tr><td>63</td><td>82</td></tr><tr><td>625</td><td>82</td></tr><tr><td>662</td><td>82</td></tr><tr><td>640</td><td>82</td></tr><tr><td>717</td><td>82</td></tr><tr><td>152</td><td>82</td></tr><tr><td>823</td><td>82</td></tr><tr><td>51</td><td>81</td></tr><tr><td>32</td><td>81</td></tr><tr><td>420</td><td>81</td></tr><tr><td>873</td><td>81</td></tr><tr><td>49</td><td>81</td></tr><tr><td>604</td><td>81</td></tr><tr><td>729</td><td>81</td></tr><tr><td>45</td><td>80</td></tr><tr><td>519</td><td>80</td></tr><tr><td>312</td><td>80</td></tr><tr><td>826</td><td>80</td></tr><tr><td>930</td><td>80</td></tr><tr><td>530</td><td>80</td></tr><tr><td>44</td><td>79</td></tr><tr><td>658</td><td>79</td></tr><tr><td>696</td><td>79</td></tr><tr><td>710</td><td>79</td></tr><tr><td>584</td><td>79</td></tr><tr><td>736</td><td>78</td></tr><tr><td>287</td><td>78</td></tr><tr><td>295</td><td>77</td></tr><tr><td>629</td><td>77</td></tr><tr><td>1074</td><td>77</td></tr><tr><td>676</td><td>77</td></tr><tr><td>401</td><td>76</td></tr><tr><td>724</td><td>76</td></tr><tr><td>778</td><td>76</td></tr><tr><td>311</td><td>75</td></tr><tr><td>627</td><td>75</td></tr><tr><td>969</td><td>75</td></tr><tr><td>871</td><td>75</td></tr><tr><td>461</td><td>74</td></tr><tr><td>221</td><td>74</td></tr><tr><td>1101</td><td>74</td></tr><tr><td>105</td><td>74</td></tr><tr><td>417</td><td>73</td></tr><tr><td>26</td><td>73</td></tr><tr><td>101</td><td>73</td></tr><tr><td>525</td><td>73</td></tr><tr><td>299</td><td>73</td></tr><tr><td>1048</td><td>73</td></tr><tr><td>713</td><td>72</td></tr><tr><td>141</td><td>72</td></tr><tr><td>354</td><td>72</td></tr><tr><td>650</td><td>72</td></tr><tr><td>513</td><td>72</td></tr><tr><td>20</td><td>72</td></tr><tr><td>277</td><td>71</td></tr><tr><td>949</td><td>71</td></tr><tr><td>463</td><td>71</td></tr><tr><td>106</td><td>71</td></tr><tr><td>544</td><td>71</td></tr><tr><td>409</td><td>70</td></tr><tr><td>558</td><td>70</td></tr><tr><td>707</td><td>70</td></tr><tr><td>647</td><td>70</td></tr><tr><td>19</td><td>69</td></tr><tr><td>160</td><td>69</td></tr><tr><td>780</td><td>69</td></tr><tr><td>687</td><td>69</td></tr><tr><td>384</td><td>69</td></tr><tr><td>633</td><td>69</td></tr><tr><td>1035</td><td>68</td></tr><tr><td>505</td><td>68</td></tr><tr><td>487</td><td>68</td></tr><tr><td>497</td><td>68</td></tr><tr><td>80</td><td>68</td></tr><tr><td>934</td><td>68</td></tr><tr><td>392</td><td>68</td></tr><tr><td>167</td><td>67</td></tr><tr><td>114</td><td>67</td></tr><tr><td>569</td><td>67</td></tr><tr><td>371</td><td>67</td></tr><tr><td>469</td><td>67</td></tr><tr><td>648</td><td>67</td></tr><tr><td>434</td><td>67</td></tr><tr><td>491</td><td>67</td></tr><tr><td>120</td><td>67</td></tr><tr><td>607</td><td>66</td></tr><tr><td>262</td><td>66</td></tr><tr><td>207</td><td>66</td></tr><tr><td>220</td><td>66</td></tr><tr><td>452</td><td>66</td></tr><tr><td>993</td><td>66</td></tr><tr><td>606</td><td>66</td></tr><tr><td>189</td><td>66</td></tr><tr><td>1073</td><td>66</td></tr><tr><td>855</td><td>66</td></tr><tr><td>790</td><td>66</td></tr><tr><td>538</td><td>66</td></tr><tr><td>128</td><td>65</td></tr><tr><td>145</td><td>65</td></tr><tr><td>387</td><td>65</td></tr><tr><td>488</td><td>65</td></tr><tr><td>345</td><td>65</td></tr><tr><td>672</td><td>65</td></tr><tr><td>108</td><td>65</td></tr><tr><td>171</td><td>65</td></tr><tr><td>616</td><td>64</td></tr><tr><td>468</td><td>64</td></tr><tr><td>595</td><td>64</td></tr><tr><td>165</td><td>64</td></tr><tr><td>1009</td><td>64</td></tr><tr><td>60</td><td>64</td></tr><tr><td>619</td><td>64</td></tr><tr><td>416</td><td>64</td></tr><tr><td>959</td><td>64</td></tr><tr><td>334</td><td>64</td></tr><tr><td>486</td><td>64</td></tr><tr><td>887</td><td>64</td></tr><tr><td>553</td><td>63</td></tr><tr><td>450</td><td>63</td></tr><tr><td>740</td><td>63</td></tr><tr><td>481</td><td>63</td></tr><tr><td>727</td><td>63</td></tr><tr><td>516</td><td>63</td></tr><tr><td>1041</td><td>62</td></tr><tr><td>414</td><td>62</td></tr><tr><td>254</td><td>62</td></tr><tr><td>499</td><td>62</td></tr><tr><td>140</td><td>61</td></tr><tr><td>946</td><td>61</td></tr><tr><td>158</td><td>60</td></tr><tr><td>939</td><td>60</td></tr><tr><td>278</td><td>60</td></tr><tr><td>493</td><td>60</td></tr><tr><td>609</td><td>60</td></tr><tr><td>61</td><td>59</td></tr><tr><td>880</td><td>59</td></tr><tr><td>495</td><td>59</td></tr><tr><td>581</td><td>59</td></tr><tr><td>561</td><td>59</td></tr><tr><td>615</td><td>59</td></tr><tr><td>492</td><td>59</td></tr><tr><td>1119</td><td>59</td></tr><tr><td>391</td><td>59</td></tr><tr><td>737</td><td>59</td></tr><tr><td>85</td><td>58</td></tr><tr><td>898</td><td>58</td></tr><tr><td>632</td><td>58</td></tr><tr><td>923</td><td>58</td></tr><tr><td>716</td><td>58</td></tr><tr><td>722</td><td>58</td></tr><tr><td>166</td><td>58</td></tr><tr><td>741</td><td>58</td></tr><tr><td>512</td><td>57</td></tr><tr><td>931</td><td>57</td></tr><tr><td>770</td><td>57</td></tr><tr><td>502</td><td>57</td></tr><tr><td>754</td><td>57</td></tr><tr><td>142</td><td>57</td></tr><tr><td>27</td><td>57</td></tr><tr><td>40</td><td>57</td></tr><tr><td>827</td><td>57</td></tr><tr><td>395</td><td>56</td></tr><tr><td>494</td><td>56</td></tr><tr><td>813</td><td>56</td></tr><tr><td>847</td><td>55</td></tr><tr><td>369</td><td>55</td></tr><tr><td>413</td><td>55</td></tr><tr><td>344</td><td>55</td></tr><tr><td>102</td><td>54</td></tr><tr><td>396</td><td>54</td></tr><tr><td>76</td><td>54</td></tr><tr><td>535</td><td>54</td></tr><tr><td>675</td><td>54</td></tr><tr><td>721</td><td>54</td></tr><tr><td>702</td><td>53</td></tr><tr><td>849</td><td>53</td></tr><tr><td>875</td><td>53</td></tr><tr><td>441</td><td>53</td></tr><tr><td>886</td><td>53</td></tr><tr><td>1065</td><td>53</td></tr><tr><td>892</td><td>53</td></tr><tr><td>840</td><td>53</td></tr><tr><td>342</td><td>52</td></tr><tr><td>466</td><td>52</td></tr><tr><td>489</td><td>52</td></tr><tr><td>877</td><td>52</td></tr><tr><td>768</td><td>52</td></tr><tr><td>542</td><td>51</td></tr><tr><td>614</td><td>51</td></tr><tr><td>712</td><td>51</td></tr><tr><td>749</td><td>51</td></tr><tr><td>806</td><td>50</td></tr><tr><td>602</td><td>50</td></tr><tr><td>686</td><td>50</td></tr><tr><td>1017</td><td>50</td></tr><tr><td>206</td><td>50</td></tr><tr><td>649</td><td>50</td></tr><tr><td>570</td><td>50</td></tr><tr><td>297</td><td>50</td></tr><tr><td>490</td><td>50</td></tr><tr><td>139</td><td>50</td></tr><tr><td>772</td><td>49</td></tr><tr><td>541</td><td>49</td></tr><tr><td>406</td><td>49</td></tr><tr><td>977</td><td>49</td></tr><tr><td>955</td><td>49</td></tr><tr><td>833</td><td>49</td></tr><tr><td>824</td><td>49</td></tr><tr><td>683</td><td>49</td></tr><tr><td>948</td><td>48</td></tr><tr><td>244</td><td>48</td></tr><tr><td>562</td><td>48</td></tr><tr><td>467</td><td>48</td></tr><tr><td>674</td><td>48</td></tr><tr><td>841</td><td>48</td></tr><tr><td>1228</td><td>48</td></tr><tr><td>456</td><td>48</td></tr><tr><td>365</td><td>48</td></tr><tr><td>339</td><td>47</td></tr><tr><td>366</td><td>47</td></tr><tr><td>789</td><td>47</td></tr><tr><td>1118</td><td>47</td></tr><tr><td>876</td><td>47</td></tr><tr><td>1007</td><td>47</td></tr><tr><td>363</td><td>47</td></tr><tr><td>1046</td><td>46</td></tr><tr><td>671</td><td>46</td></tr><tr><td>444</td><td>46</td></tr><tr><td>760</td><td>46</td></tr><tr><td>664</td><td>46</td></tr><tr><td>956</td><td>46</td></tr><tr><td>794</td><td>46</td></tr><tr><td>524</td><td>46</td></tr><tr><td>921</td><td>46</td></tr><tr><td>251</td><td>46</td></tr><tr><td>941</td><td>46</td></tr><tr><td>1135</td><td>46</td></tr><tr><td>728</td><td>45</td></tr><tr><td>329</td><td>45</td></tr><tr><td>952</td><td>45</td></tr><tr><td>810</td><td>45</td></tr><tr><td>236</td><td>45</td></tr><tr><td>1079</td><td>45</td></tr><tr><td>552</td><td>45</td></tr><tr><td>1197</td><td>45</td></tr><tr><td>942</td><td>45</td></tr><tr><td>881</td><td>45</td></tr><tr><td>694</td><td>44</td></tr><tr><td>1025</td><td>44</td></tr><tr><td>846</td><td>44</td></tr><tr><td>688</td><td>44</td></tr><tr><td>1010</td><td>44</td></tr><tr><td>1142</td><td>44</td></tr><tr><td>975</td><td>44</td></tr><tr><td>984</td><td>44</td></tr><tr><td>761</td><td>44</td></tr><tr><td>1188</td><td>44</td></tr><tr><td>575</td><td>44</td></tr><tr><td>1067</td><td>44</td></tr><tr><td>896</td><td>44</td></tr><tr><td>539</td><td>44</td></tr><tr><td>638</td><td>44</td></tr><tr><td>656</td><td>44</td></tr><tr><td>224</td><td>44</td></tr><tr><td>1050</td><td>43</td></tr><tr><td>890</td><td>43</td></tr><tr><td>261</td><td>43</td></tr><tr><td>589</td><td>43</td></tr><tr><td>944</td><td>43</td></tr><tr><td>379</td><td>43</td></tr><tr><td>809</td><td>43</td></tr><tr><td>620</td><td>43</td></tr><tr><td>336</td><td>43</td></tr><tr><td>407</td><td>43</td></tr><tr><td>1091</td><td>43</td></tr><tr><td>540</td><td>43</td></tr><tr><td>1098</td><td>42</td></tr><tr><td>769</td><td>42</td></tr><tr><td>872</td><td>42</td></tr><tr><td>107</td><td>42</td></tr><tr><td>902</td><td>42</td></tr><tr><td>900</td><td>42</td></tr><tr><td>844</td><td>42</td></tr><tr><td>610</td><td>41</td></tr><tr><td>771</td><td>41</td></tr><tr><td>355</td><td>41</td></tr><tr><td>1051</td><td>41</td></tr><tr><td>1110</td><td>41</td></tr><tr><td>547</td><td>41</td></tr><tr><td>330</td><td>41</td></tr><tr><td>577</td><td>41</td></tr><tr><td>1063</td><td>41</td></tr><tr><td>963</td><td>41</td></tr><tr><td>350</td><td>41</td></tr><tr><td>819</td><td>40</td></tr><tr><td>945</td><td>40</td></tr><tr><td>697</td><td>40</td></tr><tr><td>943</td><td>40</td></tr><tr><td>639</td><td>40</td></tr><tr><td>611</td><td>40</td></tr><tr><td>57</td><td>40</td></tr><tr><td>932</td><td>40</td></tr><tr><td>802</td><td>40</td></tr><tr><td>43</td><td>40</td></tr><tr><td>1044</td><td>40</td></tr><tr><td>929</td><td>40</td></tr><tr><td>503</td><td>39</td></tr><tr><td>1060</td><td>39</td></tr><tr><td>743</td><td>39</td></tr><tr><td>585</td><td>39</td></tr><tr><td>373</td><td>39</td></tr><tr><td>16</td><td>39</td></tr><tr><td>623</td><td>39</td></tr><tr><td>951</td><td>39</td></tr><tr><td>1221</td><td>39</td></tr><tr><td>785</td><td>39</td></tr><tr><td>1217</td><td>39</td></tr><tr><td>622</td><td>39</td></tr><tr><td>874</td><td>39</td></tr><tr><td>752</td><td>39</td></tr><tr><td>370</td><td>39</td></tr><tr><td>731</td><td>39</td></tr><tr><td>1210</td><td>38</td></tr><tr><td>1089</td><td>38</td></tr><tr><td>1021</td><td>38</td></tr><tr><td>646</td><td>38</td></tr><tr><td>1013</td><td>38</td></tr><tr><td>637</td><td>38</td></tr><tr><td>1134</td><td>38</td></tr><tr><td>937</td><td>37</td></tr><tr><td>1090</td><td>37</td></tr><tr><td>583</td><td>37</td></tr><tr><td>30</td><td>37</td></tr><tr><td>364</td><td>37</td></tr><tr><td>1008</td><td>37</td></tr><tr><td>783</td><td>37</td></tr><tr><td>41</td><td>37</td></tr><tr><td>670</td><td>36</td></tr><tr><td>856</td><td>36</td></tr><tr><td>796</td><td>36</td></tr><tr><td>1244</td><td>36</td></tr><tr><td>1020</td><td>35</td></tr><tr><td>567</td><td>35</td></tr><tr><td>522</td><td>35</td></tr><tr><td>979</td><td>35</td></tr><tr><td>1059</td><td>35</td></tr><tr><td>644</td><td>35</td></tr><tr><td>266</td><td>35</td></tr><tr><td>961</td><td>34</td></tr><tr><td>829</td><td>34</td></tr><tr><td>723</td><td>34</td></tr><tr><td>922</td><td>34</td></tr><tr><td>680</td><td>34</td></tr><tr><td>372</td><td>34</td></tr><tr><td>653</td><td>34</td></tr><tr><td>612</td><td>34</td></tr><tr><td>586</td><td>34</td></tr><tr><td>882</td><td>34</td></tr><tr><td>971</td><td>34</td></tr><tr><td>925</td><td>34</td></tr><tr><td>78</td><td>33</td></tr><tr><td>1267</td><td>33</td></tr><tr><td>641</td><td>33</td></tr><tr><td>990</td><td>33</td></tr><tr><td>1139</td><td>33</td></tr><tr><td>573</td><td>33</td></tr><tr><td>878</td><td>33</td></tr><tr><td>936</td><td>32</td></tr><tr><td>1132</td><td>32</td></tr><tr><td>1022</td><td>32</td></tr><tr><td>426</td><td>32</td></tr><tr><td>774</td><td>32</td></tr><tr><td>1126</td><td>32</td></tr><tr><td>1033</td><td>32</td></tr><tr><td>1018</td><td>32</td></tr><tr><td>989</td><td>32</td></tr><tr><td>1226</td><td>32</td></tr><tr><td>580</td><td>32</td></tr><tr><td>940</td><td>32</td></tr><tr><td>765</td><td>32</td></tr><tr><td>974</td><td>32</td></tr><tr><td>738</td><td>31</td></tr><tr><td>995</td><td>31</td></tr><tr><td>500</td><td>31</td></tr><tr><td>797</td><td>31</td></tr><tr><td>1194</td><td>31</td></tr><tr><td>779</td><td>31</td></tr><tr><td>383</td><td>31</td></tr><tr><td>1019</td><td>31</td></tr><tr><td>630</td><td>31</td></tr><tr><td>349</td><td>31</td></tr><tr><td>110</td><td>31</td></tr><tr><td>368</td><td>31</td></tr><tr><td>1023</td><td>31</td></tr><tr><td>605</td><td>31</td></tr><tr><td>808</td><td>31</td></tr><tr><td>843</td><td>30</td></tr><tr><td>537</td><td>30</td></tr><tr><td>1215</td><td>30</td></tr><tr><td>608</td><td>30</td></tr><tr><td>308</td><td>30</td></tr><tr><td>950</td><td>30</td></tr><tr><td>1220</td><td>30</td></tr><tr><td>1133</td><td>30</td></tr><tr><td>563</td><td>29</td></tr><tr><td>719</td><td>29</td></tr><tr><td>1115</td><td>29</td></tr><tr><td>764</td><td>29</td></tr><tr><td>1095</td><td>29</td></tr><tr><td>1136</td><td>29</td></tr><tr><td>572</td><td>29</td></tr><tr><td>1061</td><td>29</td></tr><tr><td>1137</td><td>29</td></tr><tr><td>362</td><td>28</td></tr><tr><td>460</td><td>28</td></tr><tr><td>1042</td><td>28</td></tr><tr><td>388</td><td>28</td></tr><tr><td>1152</td><td>28</td></tr><tr><td>571</td><td>28</td></tr><tr><td>972</td><td>28</td></tr><tr><td>1411</td><td>28</td></tr><tr><td>1129</td><td>28</td></tr><tr><td>279</td><td>28</td></tr><tr><td>1109</td><td>28</td></tr><tr><td>309</td><td>28</td></tr><tr><td>1170</td><td>27</td></tr><tr><td>1034</td><td>27</td></tr><tr><td>389</td><td>27</td></tr><tr><td>348</td><td>27</td></tr><tr><td>645</td><td>27</td></tr><tr><td>1070</td><td>27</td></tr><tr><td>734</td><td>27</td></tr><tr><td>613</td><td>27</td></tr><tr><td>464</td><td>27</td></tr><tr><td>457</td><td>27</td></tr><tr><td>905</td><td>27</td></tr><tr><td>681</td><td>27</td></tr><tr><td>564</td><td>27</td></tr><tr><td>842</td><td>27</td></tr><tr><td>978</td><td>27</td></tr><tr><td>46</td><td>27</td></tr><tr><td>805</td><td>27</td></tr><tr><td>1160</td><td>26</td></tr><tr><td>1240</td><td>26</td></tr><tr><td>253</td><td>26</td></tr><tr><td>775</td><td>26</td></tr><tr><td>1284</td><td>26</td></tr><tr><td>6</td><td>26</td></tr><tr><td>398</td><td>26</td></tr><tr><td>800</td><td>26</td></tr><tr><td>1149</td><td>26</td></tr><tr><td>836</td><td>26</td></tr><tr><td>1218</td><td>26</td></tr><tr><td>352</td><td>26</td></tr><tr><td>422</td><td>26</td></tr><tr><td>966</td><td>26</td></tr><tr><td>1052</td><td>25</td></tr><tr><td>960</td><td>25</td></tr><tr><td>938</td><td>25</td></tr><tr><td>1049</td><td>25</td></tr><tr><td>1045</td><td>25</td></tr><tr><td>1157</td><td>25</td></tr><tr><td>818</td><td>25</td></tr><tr><td>1040</td><td>25</td></tr><tr><td>834</td><td>25</td></tr><tr><td>1222</td><td>25</td></tr><tr><td>1163</td><td>25</td></tr><tr><td>837</td><td>25</td></tr><tr><td>991</td><td>25</td></tr><tr><td>415</td><td>25</td></tr><tr><td>459</td><td>24</td></tr><tr><td>730</td><td>24</td></tr><tr><td>1036</td><td>24</td></tr><tr><td>376</td><td>24</td></tr><tr><td>869</td><td>24</td></tr><tr><td>704</td><td>24</td></tr><tr><td>753</td><td>24</td></tr><tr><td>551</td><td>24</td></tr><tr><td>863</td><td>24</td></tr><tr><td>634</td><td>24</td></tr><tr><td>1053</td><td>24</td></tr><tr><td>1037</td><td>24</td></tr><tr><td>1093</td><td>23</td></tr><tr><td>986</td><td>23</td></tr><tr><td>1315</td><td>23</td></tr><tr><td>130</td><td>23</td></tr><tr><td>1006</td><td>23</td></tr><tr><td>635</td><td>23</td></tr><tr><td>375</td><td>23</td></tr><tr><td>149</td><td>23</td></tr><tr><td>962</td><td>23</td></tr><tr><td>1199</td><td>23</td></tr><tr><td>1054</td><td>23</td></tr><tr><td>1258</td><td>23</td></tr><tr><td>1231</td><td>22</td></tr><tr><td>1057</td><td>22</td></tr><tr><td>445</td><td>22</td></tr><tr><td>1005</td><td>22</td></tr><tr><td>624</td><td>22</td></tr><tr><td>532</td><td>22</td></tr><tr><td>832</td><td>22</td></tr><tr><td>1176</td><td>22</td></tr><tr><td>565</td><td>22</td></tr><tr><td>1078</td><td>22</td></tr><tr><td>1168</td><td>22</td></tr><tr><td>985</td><td>22</td></tr><tr><td>560</td><td>22</td></tr><tr><td>980</td><td>22</td></tr><tr><td>821</td><td>22</td></tr><tr><td>953</td><td>22</td></tr><tr><td>1113</td><td>22</td></tr><tr><td>543</td><td>21</td></tr><tr><td>1147</td><td>21</td></tr><tr><td>816</td><td>21</td></tr><tr><td>795</td><td>21</td></tr><tr><td>1203</td><td>21</td></tr><tr><td>1121</td><td>21</td></tr><tr><td>335</td><td>21</td></tr><tr><td>865</td><td>21</td></tr><tr><td>965</td><td>21</td></tr><tr><td>906</td><td>21</td></tr><tr><td>1084</td><td>21</td></tr><tr><td>933</td><td>21</td></tr><tr><td>1086</td><td>21</td></tr><tr><td>758</td><td>21</td></tr><tr><td>1030</td><td>20</td></tr><tr><td>904</td><td>20</td></tr><tr><td>908</td><td>20</td></tr><tr><td>112</td><td>20</td></tr><tr><td>982</td><td>20</td></tr><tr><td>1208</td><td>20</td></tr><tr><td>320</td><td>20</td></tr><tr><td>1219</td><td>20</td></tr><tr><td>601</td><td>20</td></tr><tr><td>1296</td><td>20</td></tr><tr><td>351</td><td>20</td></tr><tr><td>1407</td><td>20</td></tr><tr><td>1183</td><td>19</td></tr><tr><td>1206</td><td>19</td></tr><tr><td>1444</td><td>19</td></tr><tr><td>1248</td><td>19</td></tr><tr><td>1245</td><td>19</td></tr><tr><td>263</td><td>19</td></tr><tr><td>703</td><td>19</td></tr><tr><td>894</td><td>19</td></tr><tr><td>579</td><td>19</td></tr><tr><td>1103</td><td>19</td></tr><tr><td>1153</td><td>19</td></tr><tr><td>1178</td><td>19</td></tr><tr><td>1277</td><td>19</td></tr><tr><td>424</td><td>19</td></tr><tr><td>1265</td><td>19</td></tr><tr><td>1283</td><td>19</td></tr><tr><td>138</td><td>19</td></tr><tr><td>1117</td><td>19</td></tr><tr><td>1069</td><td>18</td></tr><tr><td>1478</td><td>18</td></tr><tr><td>84</td><td>18</td></tr><tr><td>359</td><td>18</td></tr><tr><td>590</td><td>18</td></tr><tr><td>1230</td><td>18</td></tr><tr><td>812</td><td>18</td></tr><tr><td>1097</td><td>18</td></tr><tr><td>1105</td><td>18</td></tr><tr><td>811</td><td>18</td></tr><tr><td>862</td><td>18</td></tr><tr><td>400</td><td>18</td></tr><tr><td>968</td><td>18</td></tr><tr><td>1239</td><td>18</td></tr><tr><td>1204</td><td>18</td></tr><tr><td>1107</td><td>18</td></tr><tr><td>337</td><td>18</td></tr><tr><td>916</td><td>18</td></tr><tr><td>1303</td><td>18</td></tr><tr><td>903</td><td>18</td></tr><tr><td>1401</td><td>18</td></tr><tr><td>1185</td><td>18</td></tr><tr><td>617</td><td>18</td></tr><tr><td>618</td><td>18</td></tr><tr><td>1038</td><td>17</td></tr><tr><td>1140</td><td>17</td></tr><tr><td>1120</td><td>17</td></tr><tr><td>773</td><td>17</td></tr><tr><td>1001</td><td>17</td></tr><tr><td>557</td><td>17</td></tr><tr><td>1286</td><td>17</td></tr><tr><td>1207</td><td>17</td></tr><tr><td>947</td><td>17</td></tr><tr><td>1232</td><td>17</td></tr><tr><td>1280</td><td>16</td></tr><tr><td>860</td><td>16</td></tr><tr><td>725</td><td>16</td></tr><tr><td>1311</td><td>16</td></tr><tr><td>998</td><td>16</td></tr><tr><td>1032</td><td>16</td></tr><tr><td>854</td><td>16</td></tr><tr><td>453</td><td>16</td></tr><tr><td>1066</td><td>16</td></tr></tbody></table>Showing the first 1000 rows.</div>"
      ]
     },
     "metadata": {
      "application/vnd.databricks.v1+output": {
       "overflow": true,
       "datasetInfos": [],
       "data": [
        [
         50.0,
         583.0
        ],
        [
         258.0,
         509.0
        ],
        [
         100.0,
         508.0
        ],
        [
         181.0,
         507.0
        ],
        [
         294.0,
         485.0
        ],
        [
         286.0,
         481.0
        ],
        [
         288.0,
         478.0
        ],
        [
         1.0,
         452.0
        ],
        [
         300.0,
         431.0
        ],
        [
         121.0,
         429.0
        ],
        [
         174.0,
         420.0
        ],
        [
         127.0,
         413.0
        ],
        [
         56.0,
         394.0
        ],
        [
         7.0,
         392.0
        ],
        [
         98.0,
         390.0
        ],
        [
         237.0,
         384.0
        ],
        [
         117.0,
         378.0
        ],
        [
         172.0,
         367.0
        ],
        [
         222.0,
         365.0
        ],
        [
         204.0,
         350.0
        ],
        [
         313.0,
         350.0
        ],
        [
         405.0,
         344.0
        ],
        [
         79.0,
         336.0
        ],
        [
         210.0,
         331.0
        ],
        [
         151.0,
         326.0
        ],
        [
         173.0,
         324.0
        ],
        [
         69.0,
         321.0
        ],
        [
         748.0,
         316.0
        ],
        [
         168.0,
         316.0
        ],
        [
         269.0,
         315.0
        ],
        [
         257.0,
         303.0
        ],
        [
         195.0,
         301.0
        ],
        [
         423.0,
         300.0
        ],
        [
         9.0,
         299.0
        ],
        [
         318.0,
         298.0
        ],
        [
         276.0,
         298.0
        ],
        [
         302.0,
         297.0
        ],
        [
         22.0,
         297.0
        ],
        [
         328.0,
         295.0
        ],
        [
         96.0,
         295.0
        ],
        [
         118.0,
         293.0
        ],
        [
         15.0,
         293.0
        ],
        [
         25.0,
         293.0
        ],
        [
         183.0,
         291.0
        ],
        [
         216.0,
         290.0
        ],
        [
         176.0,
         284.0
        ],
        [
         64.0,
         283.0
        ],
        [
         234.0,
         280.0
        ],
        [
         202.0,
         280.0
        ],
        [
         28.0,
         276.0
        ],
        [
         191.0,
         276.0
        ],
        [
         89.0,
         275.0
        ],
        [
         111.0,
         272.0
        ],
        [
         275.0,
         268.0
        ],
        [
         12.0,
         267.0
        ],
        [
         742.0,
         267.0
        ],
        [
         357.0,
         264.0
        ],
        [
         82.0,
         261.0
        ],
        [
         289.0,
         259.0
        ],
        [
         135.0,
         259.0
        ],
        [
         238.0,
         256.0
        ],
        [
         97.0,
         256.0
        ],
        [
         268.0,
         255.0
        ],
        [
         546.0,
         254.0
        ],
        [
         333.0,
         251.0
        ],
        [
         196.0,
         251.0
        ],
        [
         70.0,
         251.0
        ],
        [
         186.0,
         251.0
        ],
        [
         475.0,
         250.0
        ],
        [
         153.0,
         247.0
        ],
        [
         132.0,
         246.0
        ],
        [
         228.0,
         244.0
        ],
        [
         125.0,
         244.0
        ],
        [
         144.0,
         243.0
        ],
        [
         483.0,
         243.0
        ],
        [
         194.0,
         241.0
        ],
        [
         323.0,
         240.0
        ],
        [
         245.0,
         240.0
        ],
        [
         197.0,
         239.0
        ],
        [
         185.0,
         239.0
        ],
        [
         11.0,
         236.0
        ],
        [
         282.0,
         232.0
        ],
        [
         496.0,
         231.0
        ],
        [
         301.0,
         230.0
        ],
        [
         568.0,
         230.0
        ],
        [
         265.0,
         227.0
        ],
        [
         655.0,
         227.0
        ],
        [
         182.0,
         226.0
        ],
        [
         273.0,
         223.0
        ],
        [
         143.0,
         222.0
        ],
        [
         471.0,
         221.0
        ],
        [
         179.0,
         221.0
        ],
        [
         180.0,
         221.0
        ],
        [
         71.0,
         220.0
        ],
        [
         161.0,
         220.0
        ],
        [
         8.0,
         219.0
        ],
        [
         678.0,
         219.0
        ],
        [
         427.0,
         219.0
        ],
        [
         95.0,
         219.0
        ],
        [
         322.0,
         218.0
        ],
        [
         235.0,
         217.0
        ],
        [
         435.0,
         216.0
        ],
        [
         508.0,
         215.0
        ],
        [
         88.0,
         213.0
        ],
        [
         215.0,
         212.0
        ],
        [
         271.0,
         211.0
        ],
        [
         603.0,
         209.0
        ],
        [
         4.0,
         209.0
        ],
        [
         187.0,
         209.0
        ],
        [
         385.0,
         208.0
        ],
        [
         175.0,
         208.0
        ],
        [
         200.0,
         206.0
        ],
        [
         597.0,
         206.0
        ],
        [
         211.0,
         206.0
        ],
        [
         588.0,
         202.0
        ],
        [
         515.0,
         201.0
        ],
        [
         403.0,
         201.0
        ],
        [
         208.0,
         200.0
        ],
        [
         230.0,
         199.0
        ],
        [
         272.0,
         198.0
        ],
        [
         134.0,
         198.0
        ],
        [
         250.0,
         197.0
        ],
        [
         527.0,
         195.0
        ],
        [
         474.0,
         194.0
        ],
        [
         298.0,
         194.0
        ],
        [
         284.0,
         193.0
        ],
        [
         393.0,
         192.0
        ],
        [
         209.0,
         191.0
        ],
        [
         274.0,
         190.0
        ],
        [
         340.0,
         189.0
        ],
        [
         307.0,
         188.0
        ],
        [
         124.0,
         187.0
        ],
        [
         147.0,
         185.0
        ],
        [
         13.0,
         184.0
        ],
        [
         14.0,
         183.0
        ],
        [
         23.0,
         182.0
        ],
        [
         203.0,
         182.0
        ],
        [
         732.0,
         180.0
        ],
        [
         514.0,
         180.0
        ],
        [
         751.0,
         180.0
        ],
        [
         480.0,
         179.0
        ],
        [
         566.0,
         179.0
        ],
        [
         479.0,
         179.0
        ],
        [
         419.0,
         178.0
        ],
        [
         591.0,
         178.0
        ],
        [
         283.0,
         177.0
        ],
        [
         83.0,
         176.0
        ],
        [
         845.0,
         176.0
        ],
        [
         326.0,
         175.0
        ],
        [
         58.0,
         175.0
        ],
        [
         327.0,
         175.0
        ],
        [
         432.0,
         174.0
        ],
        [
         154.0,
         174.0
        ],
        [
         24.0,
         174.0
        ],
        [
         511.0,
         173.0
        ],
        [
         255.0,
         172.0
        ],
        [
         99.0,
         172.0
        ],
        [
         433.0,
         171.0
        ],
        [
         137.0,
         171.0
        ],
        [
         133.0,
         171.0
        ],
        [
         651.0,
         171.0
        ],
        [
         218.0,
         171.0
        ],
        [
         229.0,
         171.0
        ],
        [
         367.0,
         170.0
        ],
        [
         402.0,
         170.0
        ],
        [
         188.0,
         170.0
        ],
        [
         451.0,
         170.0
        ],
        [
         321.0,
         169.0
        ],
        [
         684.0,
         169.0
        ],
        [
         628.0,
         169.0
        ],
        [
         319.0,
         168.0
        ],
        [
         582.0,
         168.0
        ],
        [
         226.0,
         166.0
        ],
        [
         199.0,
         165.0
        ],
        [
         739.0,
         164.0
        ],
        [
         692.0,
         164.0
        ],
        [
         523.0,
         164.0
        ],
        [
         411.0,
         163.0
        ],
        [
         410.0,
         162.0
        ],
        [
         259.0,
         162.0
        ],
        [
         443.0,
         162.0
        ],
        [
         66.0,
         162.0
        ],
        [
         285.0,
         162.0
        ],
        [
         227.0,
         161.0
        ],
        [
         476.0,
         160.0
        ],
        [
         248.0,
         160.0
        ],
        [
         315.0,
         160.0
        ],
        [
         472.0,
         158.0
        ],
        [
         252.0,
         158.0
        ],
        [
         685.0,
         157.0
        ],
        [
         150.0,
         157.0
        ],
        [
         193.0,
         157.0
        ],
        [
         240.0,
         156.0
        ],
        [
         690.0,
         155.0
        ],
        [
         31.0,
         154.0
        ],
        [
         660.0,
         153.0
        ],
        [
         431.0,
         153.0
        ],
        [
         498.0,
         152.0
        ],
        [
         550.0,
         151.0
        ],
        [
         164.0,
         151.0
        ],
        [
         77.0,
         151.0
        ],
        [
         86.0,
         150.0
        ],
        [
         239.0,
         150.0
        ],
        [
         304.0,
         149.0
        ],
        [
         55.0,
         149.0
        ],
        [
         763.0,
         149.0
        ],
        [
         1028.0,
         148.0
        ],
        [
         42.0,
         148.0
        ],
        [
         462.0,
         148.0
        ],
        [
         156.0,
         148.0
        ],
        [
         293.0,
         147.0
        ],
        [
         654.0,
         147.0
        ],
        [
         281.0,
         146.0
        ],
        [
         310.0,
         145.0
        ],
        [
         455.0,
         145.0
        ],
        [
         332.0,
         143.0
        ],
        [
         91.0,
         143.0
        ],
        [
         358.0,
         143.0
        ],
        [
         231.0,
         142.0
        ],
        [
         484.0,
         138.0
        ],
        [
         87.0,
         138.0
        ],
        [
         735.0,
         137.0
        ],
        [
         177.0,
         137.0
        ],
        [
         94.0,
         137.0
        ],
        [
         705.0,
         137.0
        ],
        [
         559.0,
         137.0
        ],
        [
         347.0,
         137.0
        ],
        [
         1016.0,
         137.0
        ],
        [
         205.0,
         136.0
        ],
        [
         270.0,
         136.0
        ],
        [
         223.0,
         136.0
        ],
        [
         879.0,
         136.0
        ],
        [
         1047.0,
         134.0
        ],
        [
         213.0,
         134.0
        ],
        [
         303.0,
         134.0
        ],
        [
         68.0,
         134.0
        ],
        [
         47.0,
         133.0
        ],
        [
         243.0,
         132.0
        ],
        [
         2.0,
         131.0
        ],
        [
         657.0,
         131.0
        ],
        [
         249.0,
         130.0
        ],
        [
         109.0,
         130.0
        ],
        [
         72.0,
         129.0
        ],
        [
         129.0,
         129.0
        ],
        [
         418.0,
         129.0
        ],
        [
         531.0,
         129.0
        ],
        [
         325.0,
         128.0
        ],
        [
         148.0,
         128.0
        ],
        [
         482.0,
         128.0
        ],
        [
         241.0,
         128.0
        ],
        [
         73.0,
         128.0
        ],
        [
         53.0,
         128.0
        ],
        [
         756.0,
         128.0
        ],
        [
         62.0,
         127.0
        ],
        [
         291.0,
         127.0
        ],
        [
         260.0,
         127.0
        ],
        [
         198.0,
         127.0
        ],
        [
         596.0,
         127.0
        ],
        [
         157.0,
         127.0
        ],
        [
         346.0,
         126.0
        ],
        [
         473.0,
         126.0
        ],
        [
         178.0,
         125.0
        ],
        [
         116.0,
         125.0
        ],
        [
         324.0,
         125.0
        ],
        [
         485.0,
         125.0
        ],
        [
         343.0,
         124.0
        ],
        [
         520.0,
         124.0
        ],
        [
         750.0,
         124.0
        ],
        [
         526.0,
         124.0
        ],
        [
         246.0,
         124.0
        ],
        [
         190.0,
         124.0
        ],
        [
         233.0,
         124.0
        ],
        [
         501.0,
         123.0
        ],
        [
         504.0,
         122.0
        ],
        [
         510.0,
         121.0
        ],
        [
         528.0,
         121.0
        ],
        [
         170.0,
         121.0
        ],
        [
         509.0,
         121.0
        ],
        [
         447.0,
         121.0
        ],
        [
         428.0,
         121.0
        ],
        [
         217.0,
         120.0
        ],
        [
         521.0,
         120.0
        ],
        [
         38.0,
         120.0
        ],
        [
         866.0,
         119.0
        ],
        [
         746.0,
         119.0
        ],
        [
         631.0,
         119.0
        ],
        [
         169.0,
         118.0
        ],
        [
         449.0,
         117.0
        ],
        [
         48.0,
         117.0
        ],
        [
         242.0,
         117.0
        ],
        [
         663.0,
         116.0
        ],
        [
         380.0,
         116.0
        ],
        [
         184.0,
         116.0
        ],
        [
         192.0,
         116.0
        ],
        [
         762.0,
         115.0
        ],
        [
         65.0,
         115.0
        ],
        [
         659.0,
         115.0
        ],
        [
         123.0,
         115.0
        ],
        [
         214.0,
         114.0
        ],
        [
         292.0,
         114.0
        ],
        [
         29.0,
         114.0
        ],
        [
         331.0,
         113.0
        ],
        [
         316.0,
         112.0
        ],
        [
         93.0,
         112.0
        ],
        [
         408.0,
         112.0
        ],
        [
         815.0,
         112.0
        ],
        [
         219.0,
         111.0
        ],
        [
         382.0,
         111.0
        ],
        [
         81.0,
         110.0
        ],
        [
         225.0,
         109.0
        ],
        [
         470.0,
         108.0
        ],
        [
         679.0,
         107.0
        ],
        [
         122.0,
         106.0
        ],
        [
         162.0,
         106.0
        ],
        [
         421.0,
         106.0
        ],
        [
         895.0,
         106.0
        ],
        [
         136.0,
         105.0
        ],
        [
         709.0,
         104.0
        ],
        [
         54.0,
         104.0
        ],
        [
         478.0,
         104.0
        ],
        [
         92.0,
         104.0
        ],
        [
         928.0,
         104.0
        ],
        [
         67.0,
         103.0
        ],
        [
         554.0,
         102.0
        ],
        [
         317.0,
         102.0
        ],
        [
         699.0,
         102.0
        ],
        [
         747.0,
         102.0
        ],
        [
         264.0,
         101.0
        ],
        [
         378.0,
         101.0
        ],
        [
         926.0,
         101.0
        ],
        [
         404.0,
         101.0
        ],
        [
         708.0,
         101.0
        ],
        [
         232.0,
         101.0
        ],
        [
         159.0,
         101.0
        ],
        [
         381.0,
         100.0
        ],
        [
         665.0,
         100.0
        ],
        [
         682.0,
         100.0
        ],
        [
         1012.0,
         100.0
        ],
        [
         436.0,
         99.0
        ],
        [
         507.0,
         98.0
        ],
        [
         1014.0,
         98.0
        ],
        [
         155.0,
         98.0
        ],
        [
         429.0,
         97.0
        ],
        [
         126.0,
         97.0
        ],
        [
         356.0,
         97.0
        ],
        [
         33.0,
         97.0
        ],
        [
         290.0,
         96.0
        ],
        [
         755.0,
         96.0
        ],
        [
         306.0,
         96.0
        ],
        [
         919.0,
         96.0
        ],
        [
         477.0,
         95.0
        ],
        [
         90.0,
         95.0
        ],
        [
         131.0,
         95.0
        ],
        [
         576.0,
         93.0
        ],
        [
         1011.0,
         93.0
        ],
        [
         820.0,
         93.0
        ],
        [
         529.0,
         93.0
        ],
        [
         430.0,
         93.0
        ],
        [
         412.0,
         93.0
        ],
        [
         212.0,
         92.0
        ],
        [
         17.0,
         92.0
        ],
        [
         744.0,
         92.0
        ],
        [
         163.0,
         92.0
        ],
        [
         549.0,
         92.0
        ],
        [
         578.0,
         92.0
        ],
        [
         636.0,
         91.0
        ],
        [
         52.0,
         91.0
        ],
        [
         517.0,
         91.0
        ],
        [
         693.0,
         91.0
        ],
        [
         338.0,
         91.0
        ],
        [
         831.0,
         91.0
        ],
        [
         506.0,
         90.0
        ],
        [
         652.0,
         90.0
        ],
        [
         1039.0,
         90.0
        ],
        [
         458.0,
         90.0
        ],
        [
         3.0,
         90.0
        ],
        [
         10.0,
         89.0
        ],
        [
         642.0,
         89.0
        ],
        [
         518.0,
         89.0
        ],
        [
         399.0,
         89.0
        ],
        [
         201.0,
         89.0
        ],
        [
         661.0,
         88.0
        ],
        [
         715.0,
         87.0
        ],
        [
         386.0,
         87.0
        ],
        [
         689.0,
         87.0
        ],
        [
         39.0,
         87.0
        ],
        [
         305.0,
         87.0
        ],
        [
         720.0,
         86.0
        ],
        [
         673.0,
         86.0
        ],
        [
         864.0,
         86.0
        ],
        [
         5.0,
         86.0
        ],
        [
         988.0,
         86.0
        ],
        [
         792.0,
         86.0
        ],
        [
         465.0,
         85.0
        ],
        [
         280.0,
         85.0
        ],
        [
         448.0,
         85.0
        ],
        [
         425.0,
         85.0
        ],
        [
         924.0,
         85.0
        ],
        [
         21.0,
         84.0
        ],
        [
         781.0,
         84.0
        ],
        [
         825.0,
         83.0
        ],
        [
         59.0,
         83.0
        ],
        [
         63.0,
         82.0
        ],
        [
         625.0,
         82.0
        ],
        [
         662.0,
         82.0
        ],
        [
         640.0,
         82.0
        ],
        [
         717.0,
         82.0
        ],
        [
         152.0,
         82.0
        ],
        [
         823.0,
         82.0
        ],
        [
         51.0,
         81.0
        ],
        [
         32.0,
         81.0
        ],
        [
         420.0,
         81.0
        ],
        [
         873.0,
         81.0
        ],
        [
         49.0,
         81.0
        ],
        [
         604.0,
         81.0
        ],
        [
         729.0,
         81.0
        ],
        [
         45.0,
         80.0
        ],
        [
         519.0,
         80.0
        ],
        [
         312.0,
         80.0
        ],
        [
         826.0,
         80.0
        ],
        [
         930.0,
         80.0
        ],
        [
         530.0,
         80.0
        ],
        [
         44.0,
         79.0
        ],
        [
         658.0,
         79.0
        ],
        [
         696.0,
         79.0
        ],
        [
         710.0,
         79.0
        ],
        [
         584.0,
         79.0
        ],
        [
         736.0,
         78.0
        ],
        [
         287.0,
         78.0
        ],
        [
         295.0,
         77.0
        ],
        [
         629.0,
         77.0
        ],
        [
         1074.0,
         77.0
        ],
        [
         676.0,
         77.0
        ],
        [
         401.0,
         76.0
        ],
        [
         724.0,
         76.0
        ],
        [
         778.0,
         76.0
        ],
        [
         311.0,
         75.0
        ],
        [
         627.0,
         75.0
        ],
        [
         969.0,
         75.0
        ],
        [
         871.0,
         75.0
        ],
        [
         461.0,
         74.0
        ],
        [
         221.0,
         74.0
        ],
        [
         1101.0,
         74.0
        ],
        [
         105.0,
         74.0
        ],
        [
         417.0,
         73.0
        ],
        [
         26.0,
         73.0
        ],
        [
         101.0,
         73.0
        ],
        [
         525.0,
         73.0
        ],
        [
         299.0,
         73.0
        ],
        [
         1048.0,
         73.0
        ],
        [
         713.0,
         72.0
        ],
        [
         141.0,
         72.0
        ],
        [
         354.0,
         72.0
        ],
        [
         650.0,
         72.0
        ],
        [
         513.0,
         72.0
        ],
        [
         20.0,
         72.0
        ],
        [
         277.0,
         71.0
        ],
        [
         949.0,
         71.0
        ],
        [
         463.0,
         71.0
        ],
        [
         106.0,
         71.0
        ],
        [
         544.0,
         71.0
        ],
        [
         409.0,
         70.0
        ],
        [
         558.0,
         70.0
        ],
        [
         707.0,
         70.0
        ],
        [
         647.0,
         70.0
        ],
        [
         19.0,
         69.0
        ],
        [
         160.0,
         69.0
        ],
        [
         780.0,
         69.0
        ],
        [
         687.0,
         69.0
        ],
        [
         384.0,
         69.0
        ],
        [
         633.0,
         69.0
        ],
        [
         1035.0,
         68.0
        ],
        [
         505.0,
         68.0
        ],
        [
         487.0,
         68.0
        ],
        [
         497.0,
         68.0
        ],
        [
         80.0,
         68.0
        ],
        [
         934.0,
         68.0
        ],
        [
         392.0,
         68.0
        ],
        [
         167.0,
         67.0
        ],
        [
         114.0,
         67.0
        ],
        [
         569.0,
         67.0
        ],
        [
         371.0,
         67.0
        ],
        [
         469.0,
         67.0
        ],
        [
         648.0,
         67.0
        ],
        [
         434.0,
         67.0
        ],
        [
         491.0,
         67.0
        ],
        [
         120.0,
         67.0
        ],
        [
         607.0,
         66.0
        ],
        [
         262.0,
         66.0
        ],
        [
         207.0,
         66.0
        ],
        [
         220.0,
         66.0
        ],
        [
         452.0,
         66.0
        ],
        [
         993.0,
         66.0
        ],
        [
         606.0,
         66.0
        ],
        [
         189.0,
         66.0
        ],
        [
         1073.0,
         66.0
        ],
        [
         855.0,
         66.0
        ],
        [
         790.0,
         66.0
        ],
        [
         538.0,
         66.0
        ],
        [
         128.0,
         65.0
        ],
        [
         145.0,
         65.0
        ],
        [
         387.0,
         65.0
        ],
        [
         488.0,
         65.0
        ],
        [
         345.0,
         65.0
        ],
        [
         672.0,
         65.0
        ],
        [
         108.0,
         65.0
        ],
        [
         171.0,
         65.0
        ],
        [
         616.0,
         64.0
        ],
        [
         468.0,
         64.0
        ],
        [
         595.0,
         64.0
        ],
        [
         165.0,
         64.0
        ],
        [
         1009.0,
         64.0
        ],
        [
         60.0,
         64.0
        ],
        [
         619.0,
         64.0
        ],
        [
         416.0,
         64.0
        ],
        [
         959.0,
         64.0
        ],
        [
         334.0,
         64.0
        ],
        [
         486.0,
         64.0
        ],
        [
         887.0,
         64.0
        ],
        [
         553.0,
         63.0
        ],
        [
         450.0,
         63.0
        ],
        [
         740.0,
         63.0
        ],
        [
         481.0,
         63.0
        ],
        [
         727.0,
         63.0
        ],
        [
         516.0,
         63.0
        ],
        [
         1041.0,
         62.0
        ],
        [
         414.0,
         62.0
        ],
        [
         254.0,
         62.0
        ],
        [
         499.0,
         62.0
        ],
        [
         140.0,
         61.0
        ],
        [
         946.0,
         61.0
        ],
        [
         158.0,
         60.0
        ],
        [
         939.0,
         60.0
        ],
        [
         278.0,
         60.0
        ],
        [
         493.0,
         60.0
        ],
        [
         609.0,
         60.0
        ],
        [
         61.0,
         59.0
        ],
        [
         880.0,
         59.0
        ],
        [
         495.0,
         59.0
        ],
        [
         581.0,
         59.0
        ],
        [
         561.0,
         59.0
        ],
        [
         615.0,
         59.0
        ],
        [
         492.0,
         59.0
        ],
        [
         1119.0,
         59.0
        ],
        [
         391.0,
         59.0
        ],
        [
         737.0,
         59.0
        ],
        [
         85.0,
         58.0
        ],
        [
         898.0,
         58.0
        ],
        [
         632.0,
         58.0
        ],
        [
         923.0,
         58.0
        ],
        [
         716.0,
         58.0
        ],
        [
         722.0,
         58.0
        ],
        [
         166.0,
         58.0
        ],
        [
         741.0,
         58.0
        ],
        [
         512.0,
         57.0
        ],
        [
         931.0,
         57.0
        ],
        [
         770.0,
         57.0
        ],
        [
         502.0,
         57.0
        ],
        [
         754.0,
         57.0
        ],
        [
         142.0,
         57.0
        ],
        [
         27.0,
         57.0
        ],
        [
         40.0,
         57.0
        ],
        [
         827.0,
         57.0
        ],
        [
         395.0,
         56.0
        ],
        [
         494.0,
         56.0
        ],
        [
         813.0,
         56.0
        ],
        [
         847.0,
         55.0
        ],
        [
         369.0,
         55.0
        ],
        [
         413.0,
         55.0
        ],
        [
         344.0,
         55.0
        ],
        [
         102.0,
         54.0
        ],
        [
         396.0,
         54.0
        ],
        [
         76.0,
         54.0
        ],
        [
         535.0,
         54.0
        ],
        [
         675.0,
         54.0
        ],
        [
         721.0,
         54.0
        ],
        [
         702.0,
         53.0
        ],
        [
         849.0,
         53.0
        ],
        [
         875.0,
         53.0
        ],
        [
         441.0,
         53.0
        ],
        [
         886.0,
         53.0
        ],
        [
         1065.0,
         53.0
        ],
        [
         892.0,
         53.0
        ],
        [
         840.0,
         53.0
        ],
        [
         342.0,
         52.0
        ],
        [
         466.0,
         52.0
        ],
        [
         489.0,
         52.0
        ],
        [
         877.0,
         52.0
        ],
        [
         768.0,
         52.0
        ],
        [
         542.0,
         51.0
        ],
        [
         614.0,
         51.0
        ],
        [
         712.0,
         51.0
        ],
        [
         749.0,
         51.0
        ],
        [
         806.0,
         50.0
        ],
        [
         602.0,
         50.0
        ],
        [
         686.0,
         50.0
        ],
        [
         1017.0,
         50.0
        ],
        [
         206.0,
         50.0
        ],
        [
         649.0,
         50.0
        ],
        [
         570.0,
         50.0
        ],
        [
         297.0,
         50.0
        ],
        [
         490.0,
         50.0
        ],
        [
         139.0,
         50.0
        ],
        [
         772.0,
         49.0
        ],
        [
         541.0,
         49.0
        ],
        [
         406.0,
         49.0
        ],
        [
         977.0,
         49.0
        ],
        [
         955.0,
         49.0
        ],
        [
         833.0,
         49.0
        ],
        [
         824.0,
         49.0
        ],
        [
         683.0,
         49.0
        ],
        [
         948.0,
         48.0
        ],
        [
         244.0,
         48.0
        ],
        [
         562.0,
         48.0
        ],
        [
         467.0,
         48.0
        ],
        [
         674.0,
         48.0
        ],
        [
         841.0,
         48.0
        ],
        [
         1228.0,
         48.0
        ],
        [
         456.0,
         48.0
        ],
        [
         365.0,
         48.0
        ],
        [
         339.0,
         47.0
        ],
        [
         366.0,
         47.0
        ],
        [
         789.0,
         47.0
        ],
        [
         1118.0,
         47.0
        ],
        [
         876.0,
         47.0
        ],
        [
         1007.0,
         47.0
        ],
        [
         363.0,
         47.0
        ],
        [
         1046.0,
         46.0
        ],
        [
         671.0,
         46.0
        ],
        [
         444.0,
         46.0
        ],
        [
         760.0,
         46.0
        ],
        [
         664.0,
         46.0
        ],
        [
         956.0,
         46.0
        ],
        [
         794.0,
         46.0
        ],
        [
         524.0,
         46.0
        ],
        [
         921.0,
         46.0
        ],
        [
         251.0,
         46.0
        ],
        [
         941.0,
         46.0
        ],
        [
         1135.0,
         46.0
        ],
        [
         728.0,
         45.0
        ],
        [
         329.0,
         45.0
        ],
        [
         952.0,
         45.0
        ],
        [
         810.0,
         45.0
        ],
        [
         236.0,
         45.0
        ],
        [
         1079.0,
         45.0
        ],
        [
         552.0,
         45.0
        ],
        [
         1197.0,
         45.0
        ],
        [
         942.0,
         45.0
        ],
        [
         881.0,
         45.0
        ],
        [
         694.0,
         44.0
        ],
        [
         1025.0,
         44.0
        ],
        [
         846.0,
         44.0
        ],
        [
         688.0,
         44.0
        ],
        [
         1010.0,
         44.0
        ],
        [
         1142.0,
         44.0
        ],
        [
         975.0,
         44.0
        ],
        [
         984.0,
         44.0
        ],
        [
         761.0,
         44.0
        ],
        [
         1188.0,
         44.0
        ],
        [
         575.0,
         44.0
        ],
        [
         1067.0,
         44.0
        ],
        [
         896.0,
         44.0
        ],
        [
         539.0,
         44.0
        ],
        [
         638.0,
         44.0
        ],
        [
         656.0,
         44.0
        ],
        [
         224.0,
         44.0
        ],
        [
         1050.0,
         43.0
        ],
        [
         890.0,
         43.0
        ],
        [
         261.0,
         43.0
        ],
        [
         589.0,
         43.0
        ],
        [
         944.0,
         43.0
        ],
        [
         379.0,
         43.0
        ],
        [
         809.0,
         43.0
        ],
        [
         620.0,
         43.0
        ],
        [
         336.0,
         43.0
        ],
        [
         407.0,
         43.0
        ],
        [
         1091.0,
         43.0
        ],
        [
         540.0,
         43.0
        ],
        [
         1098.0,
         42.0
        ],
        [
         769.0,
         42.0
        ],
        [
         872.0,
         42.0
        ],
        [
         107.0,
         42.0
        ],
        [
         902.0,
         42.0
        ],
        [
         900.0,
         42.0
        ],
        [
         844.0,
         42.0
        ],
        [
         610.0,
         41.0
        ],
        [
         771.0,
         41.0
        ],
        [
         355.0,
         41.0
        ],
        [
         1051.0,
         41.0
        ],
        [
         1110.0,
         41.0
        ],
        [
         547.0,
         41.0
        ],
        [
         330.0,
         41.0
        ],
        [
         577.0,
         41.0
        ],
        [
         1063.0,
         41.0
        ],
        [
         963.0,
         41.0
        ],
        [
         350.0,
         41.0
        ],
        [
         819.0,
         40.0
        ],
        [
         945.0,
         40.0
        ],
        [
         697.0,
         40.0
        ],
        [
         943.0,
         40.0
        ],
        [
         639.0,
         40.0
        ],
        [
         611.0,
         40.0
        ],
        [
         57.0,
         40.0
        ],
        [
         932.0,
         40.0
        ],
        [
         802.0,
         40.0
        ],
        [
         43.0,
         40.0
        ],
        [
         1044.0,
         40.0
        ],
        [
         929.0,
         40.0
        ],
        [
         503.0,
         39.0
        ],
        [
         1060.0,
         39.0
        ],
        [
         743.0,
         39.0
        ],
        [
         585.0,
         39.0
        ],
        [
         373.0,
         39.0
        ],
        [
         16.0,
         39.0
        ],
        [
         623.0,
         39.0
        ],
        [
         951.0,
         39.0
        ],
        [
         1221.0,
         39.0
        ],
        [
         785.0,
         39.0
        ],
        [
         1217.0,
         39.0
        ],
        [
         622.0,
         39.0
        ],
        [
         874.0,
         39.0
        ],
        [
         752.0,
         39.0
        ],
        [
         370.0,
         39.0
        ],
        [
         731.0,
         39.0
        ],
        [
         1210.0,
         38.0
        ],
        [
         1089.0,
         38.0
        ],
        [
         1021.0,
         38.0
        ],
        [
         646.0,
         38.0
        ],
        [
         1013.0,
         38.0
        ],
        [
         637.0,
         38.0
        ],
        [
         1134.0,
         38.0
        ],
        [
         937.0,
         37.0
        ],
        [
         1090.0,
         37.0
        ],
        [
         583.0,
         37.0
        ],
        [
         30.0,
         37.0
        ],
        [
         364.0,
         37.0
        ],
        [
         1008.0,
         37.0
        ],
        [
         783.0,
         37.0
        ],
        [
         41.0,
         37.0
        ],
        [
         670.0,
         36.0
        ],
        [
         856.0,
         36.0
        ],
        [
         796.0,
         36.0
        ],
        [
         1244.0,
         36.0
        ],
        [
         1020.0,
         35.0
        ],
        [
         567.0,
         35.0
        ],
        [
         522.0,
         35.0
        ],
        [
         979.0,
         35.0
        ],
        [
         1059.0,
         35.0
        ],
        [
         644.0,
         35.0
        ],
        [
         266.0,
         35.0
        ],
        [
         961.0,
         34.0
        ],
        [
         829.0,
         34.0
        ],
        [
         723.0,
         34.0
        ],
        [
         922.0,
         34.0
        ],
        [
         680.0,
         34.0
        ],
        [
         372.0,
         34.0
        ],
        [
         653.0,
         34.0
        ],
        [
         612.0,
         34.0
        ],
        [
         586.0,
         34.0
        ],
        [
         882.0,
         34.0
        ],
        [
         971.0,
         34.0
        ],
        [
         925.0,
         34.0
        ],
        [
         78.0,
         33.0
        ],
        [
         1267.0,
         33.0
        ],
        [
         641.0,
         33.0
        ],
        [
         990.0,
         33.0
        ],
        [
         1139.0,
         33.0
        ],
        [
         573.0,
         33.0
        ],
        [
         878.0,
         33.0
        ],
        [
         936.0,
         32.0
        ],
        [
         1132.0,
         32.0
        ],
        [
         1022.0,
         32.0
        ],
        [
         426.0,
         32.0
        ],
        [
         774.0,
         32.0
        ],
        [
         1126.0,
         32.0
        ],
        [
         1033.0,
         32.0
        ],
        [
         1018.0,
         32.0
        ],
        [
         989.0,
         32.0
        ],
        [
         1226.0,
         32.0
        ],
        [
         580.0,
         32.0
        ],
        [
         940.0,
         32.0
        ],
        [
         765.0,
         32.0
        ],
        [
         974.0,
         32.0
        ],
        [
         738.0,
         31.0
        ],
        [
         995.0,
         31.0
        ],
        [
         500.0,
         31.0
        ],
        [
         797.0,
         31.0
        ],
        [
         1194.0,
         31.0
        ],
        [
         779.0,
         31.0
        ],
        [
         383.0,
         31.0
        ],
        [
         1019.0,
         31.0
        ],
        [
         630.0,
         31.0
        ],
        [
         349.0,
         31.0
        ],
        [
         110.0,
         31.0
        ],
        [
         368.0,
         31.0
        ],
        [
         1023.0,
         31.0
        ],
        [
         605.0,
         31.0
        ],
        [
         808.0,
         31.0
        ],
        [
         843.0,
         30.0
        ],
        [
         537.0,
         30.0
        ],
        [
         1215.0,
         30.0
        ],
        [
         608.0,
         30.0
        ],
        [
         308.0,
         30.0
        ],
        [
         950.0,
         30.0
        ],
        [
         1220.0,
         30.0
        ],
        [
         1133.0,
         30.0
        ],
        [
         563.0,
         29.0
        ],
        [
         719.0,
         29.0
        ],
        [
         1115.0,
         29.0
        ],
        [
         764.0,
         29.0
        ],
        [
         1095.0,
         29.0
        ],
        [
         1136.0,
         29.0
        ],
        [
         572.0,
         29.0
        ],
        [
         1061.0,
         29.0
        ],
        [
         1137.0,
         29.0
        ],
        [
         362.0,
         28.0
        ],
        [
         460.0,
         28.0
        ],
        [
         1042.0,
         28.0
        ],
        [
         388.0,
         28.0
        ],
        [
         1152.0,
         28.0
        ],
        [
         571.0,
         28.0
        ],
        [
         972.0,
         28.0
        ],
        [
         1411.0,
         28.0
        ],
        [
         1129.0,
         28.0
        ],
        [
         279.0,
         28.0
        ],
        [
         1109.0,
         28.0
        ],
        [
         309.0,
         28.0
        ],
        [
         1170.0,
         27.0
        ],
        [
         1034.0,
         27.0
        ],
        [
         389.0,
         27.0
        ],
        [
         348.0,
         27.0
        ],
        [
         645.0,
         27.0
        ],
        [
         1070.0,
         27.0
        ],
        [
         734.0,
         27.0
        ],
        [
         613.0,
         27.0
        ],
        [
         464.0,
         27.0
        ],
        [
         457.0,
         27.0
        ],
        [
         905.0,
         27.0
        ],
        [
         681.0,
         27.0
        ],
        [
         564.0,
         27.0
        ],
        [
         842.0,
         27.0
        ],
        [
         978.0,
         27.0
        ],
        [
         46.0,
         27.0
        ],
        [
         805.0,
         27.0
        ],
        [
         1160.0,
         26.0
        ],
        [
         1240.0,
         26.0
        ],
        [
         253.0,
         26.0
        ],
        [
         775.0,
         26.0
        ],
        [
         1284.0,
         26.0
        ],
        [
         6.0,
         26.0
        ],
        [
         398.0,
         26.0
        ],
        [
         800.0,
         26.0
        ],
        [
         1149.0,
         26.0
        ],
        [
         836.0,
         26.0
        ],
        [
         1218.0,
         26.0
        ],
        [
         352.0,
         26.0
        ],
        [
         422.0,
         26.0
        ],
        [
         966.0,
         26.0
        ],
        [
         1052.0,
         25.0
        ],
        [
         960.0,
         25.0
        ],
        [
         938.0,
         25.0
        ],
        [
         1049.0,
         25.0
        ],
        [
         1045.0,
         25.0
        ],
        [
         1157.0,
         25.0
        ],
        [
         818.0,
         25.0
        ],
        [
         1040.0,
         25.0
        ],
        [
         834.0,
         25.0
        ],
        [
         1222.0,
         25.0
        ],
        [
         1163.0,
         25.0
        ],
        [
         837.0,
         25.0
        ],
        [
         991.0,
         25.0
        ],
        [
         415.0,
         25.0
        ],
        [
         459.0,
         24.0
        ],
        [
         730.0,
         24.0
        ],
        [
         1036.0,
         24.0
        ],
        [
         376.0,
         24.0
        ],
        [
         869.0,
         24.0
        ],
        [
         704.0,
         24.0
        ],
        [
         753.0,
         24.0
        ],
        [
         551.0,
         24.0
        ],
        [
         863.0,
         24.0
        ],
        [
         634.0,
         24.0
        ],
        [
         1053.0,
         24.0
        ],
        [
         1037.0,
         24.0
        ],
        [
         1093.0,
         23.0
        ],
        [
         986.0,
         23.0
        ],
        [
         1315.0,
         23.0
        ],
        [
         130.0,
         23.0
        ],
        [
         1006.0,
         23.0
        ],
        [
         635.0,
         23.0
        ],
        [
         375.0,
         23.0
        ],
        [
         149.0,
         23.0
        ],
        [
         962.0,
         23.0
        ],
        [
         1199.0,
         23.0
        ],
        [
         1054.0,
         23.0
        ],
        [
         1258.0,
         23.0
        ],
        [
         1231.0,
         22.0
        ],
        [
         1057.0,
         22.0
        ],
        [
         445.0,
         22.0
        ],
        [
         1005.0,
         22.0
        ],
        [
         624.0,
         22.0
        ],
        [
         532.0,
         22.0
        ],
        [
         832.0,
         22.0
        ],
        [
         1176.0,
         22.0
        ],
        [
         565.0,
         22.0
        ],
        [
         1078.0,
         22.0
        ],
        [
         1168.0,
         22.0
        ],
        [
         985.0,
         22.0
        ],
        [
         560.0,
         22.0
        ],
        [
         980.0,
         22.0
        ],
        [
         821.0,
         22.0
        ],
        [
         953.0,
         22.0
        ],
        [
         1113.0,
         22.0
        ],
        [
         543.0,
         21.0
        ],
        [
         1147.0,
         21.0
        ],
        [
         816.0,
         21.0
        ],
        [
         795.0,
         21.0
        ],
        [
         1203.0,
         21.0
        ],
        [
         1121.0,
         21.0
        ],
        [
         335.0,
         21.0
        ],
        [
         865.0,
         21.0
        ],
        [
         965.0,
         21.0
        ],
        [
         906.0,
         21.0
        ],
        [
         1084.0,
         21.0
        ],
        [
         933.0,
         21.0
        ],
        [
         1086.0,
         21.0
        ],
        [
         758.0,
         21.0
        ],
        [
         1030.0,
         20.0
        ],
        [
         904.0,
         20.0
        ],
        [
         908.0,
         20.0
        ],
        [
         112.0,
         20.0
        ],
        [
         982.0,
         20.0
        ],
        [
         1208.0,
         20.0
        ],
        [
         320.0,
         20.0
        ],
        [
         1219.0,
         20.0
        ],
        [
         601.0,
         20.0
        ],
        [
         1296.0,
         20.0
        ],
        [
         351.0,
         20.0
        ],
        [
         1407.0,
         20.0
        ],
        [
         1183.0,
         19.0
        ],
        [
         1206.0,
         19.0
        ],
        [
         1444.0,
         19.0
        ],
        [
         1248.0,
         19.0
        ],
        [
         1245.0,
         19.0
        ],
        [
         263.0,
         19.0
        ],
        [
         703.0,
         19.0
        ],
        [
         894.0,
         19.0
        ],
        [
         579.0,
         19.0
        ],
        [
         1103.0,
         19.0
        ],
        [
         1153.0,
         19.0
        ],
        [
         1178.0,
         19.0
        ],
        [
         1277.0,
         19.0
        ],
        [
         424.0,
         19.0
        ],
        [
         1265.0,
         19.0
        ],
        [
         1283.0,
         19.0
        ],
        [
         138.0,
         19.0
        ],
        [
         1117.0,
         19.0
        ],
        [
         1069.0,
         18.0
        ],
        [
         1478.0,
         18.0
        ],
        [
         84.0,
         18.0
        ],
        [
         359.0,
         18.0
        ],
        [
         590.0,
         18.0
        ],
        [
         1230.0,
         18.0
        ],
        [
         812.0,
         18.0
        ],
        [
         1097.0,
         18.0
        ],
        [
         1105.0,
         18.0
        ],
        [
         811.0,
         18.0
        ],
        [
         862.0,
         18.0
        ],
        [
         400.0,
         18.0
        ],
        [
         968.0,
         18.0
        ],
        [
         1239.0,
         18.0
        ],
        [
         1204.0,
         18.0
        ],
        [
         1107.0,
         18.0
        ],
        [
         337.0,
         18.0
        ],
        [
         916.0,
         18.0
        ],
        [
         1303.0,
         18.0
        ],
        [
         903.0,
         18.0
        ],
        [
         1401.0,
         18.0
        ],
        [
         1185.0,
         18.0
        ],
        [
         617.0,
         18.0
        ],
        [
         618.0,
         18.0
        ],
        [
         1038.0,
         17.0
        ],
        [
         1140.0,
         17.0
        ],
        [
         1120.0,
         17.0
        ],
        [
         773.0,
         17.0
        ],
        [
         1001.0,
         17.0
        ],
        [
         557.0,
         17.0
        ],
        [
         1286.0,
         17.0
        ],
        [
         1207.0,
         17.0
        ],
        [
         947.0,
         17.0
        ],
        [
         1232.0,
         17.0
        ],
        [
         1280.0,
         16.0
        ],
        [
         860.0,
         16.0
        ],
        [
         725.0,
         16.0
        ],
        [
         1311.0,
         16.0
        ],
        [
         998.0,
         16.0
        ],
        [
         1032.0,
         16.0
        ],
        [
         854.0,
         16.0
        ],
        [
         453.0,
         16.0
        ],
        [
         1066.0,
         16.0
        ]
       ],
       "plotOptions": {
        "displayType": "plotlyBar",
        "customPlotOptions": {
         "pieChart": [
          {
           "key": "donut",
           "value": false
          }
         ],
         "barChart": [
          {
           "key": "grouped",
           "value": true
          },
          {
           "key": "stacked",
           "value": false
          },
          {
           "key": "100_stacked",
           "value": false
          }
         ],
         "mgLine": [
          {
           "key": "param",
           "value": "{\"top\":20,\"bottom\":50,\"area\":false,\"missing_is_hidden\":true,\"legend_target\":\".dummy\",\"animate_on_load\":false,\"transition_on_update\":false,\"legend\":[\"count\"],\"x_label\":\"movie_id\",\"colors\":[\"#1f77b4\"]}"
          }
         ],
         "histogram": [
          {
           "key": "bins",
           "value": "20"
          }
         ],
         "areaChart": [
          {
           "key": "grouped",
           "value": true
          },
          {
           "key": "stacked",
           "value": false
          },
          {
           "key": "100_stacked",
           "value": false
          }
         ],
         "plotlyBar": [
          {
           "key": "grouped",
           "value": true
          },
          {
           "key": "stacked",
           "value": false
          },
          {
           "key": "100_stacked",
           "value": false
          }
         ],
         "boxPlot": [],
         "lineChart": [],
         "scatterPlot": [
          {
           "key": "loess",
           "value": false
          },
          {
           "key": "bandwidth",
           "value": 0.3
          }
         ],
         "plotlyLine": [
          {
           "key": "yRange",
           "value": ""
          },
          {
           "key": "showPoints",
           "value": false
          },
          {
           "key": "logScale",
           "value": false
          }
         ]
        },
        "pivotColumns": [],
        "pivotAggregation": "sum",
        "xColumns": [
         "movie_id",
         "count"
        ],
        "yColumns": [
         "count"
        ]
       },
       "columnCustomDisplayInfos": {},
       "aggType": "scalar",
       "isJsonSchema": true,
       "removedWidgets": [],
       "aggSchema": [
        {
         "name": "movie_id",
         "type": "\"integer\"",
         "metadata": "{\"aggRole\":\"groupBy\",\"aggFunc\":null}"
        },
        {
         "name": "count",
         "type": "\"long\"",
         "metadata": "{\"aggRole\":\"groupBy\",\"aggFunc\":\"sum\"}"
        },
        {
         "name": "count",
         "type": "\"long\"",
         "metadata": "{\"aggRole\":\"agg\",\"aggFunc\":\"sum\"}"
        }
       ],
       "schema": [
        {
         "name": "movie_id",
         "type": "\"integer\"",
         "metadata": "{}"
        },
        {
         "name": "count",
         "type": "\"long\"",
         "metadata": "{}"
        }
       ],
       "aggError": "",
       "aggData": [
        [
         50.0,
         583.0,
         583.0
        ],
        [
         258.0,
         509.0,
         509.0
        ],
        [
         100.0,
         508.0,
         508.0
        ],
        [
         181.0,
         507.0,
         507.0
        ],
        [
         294.0,
         485.0,
         485.0
        ],
        [
         286.0,
         481.0,
         481.0
        ],
        [
         288.0,
         478.0,
         478.0
        ],
        [
         1.0,
         452.0,
         452.0
        ],
        [
         300.0,
         431.0,
         431.0
        ],
        [
         121.0,
         429.0,
         429.0
        ],
        [
         174.0,
         420.0,
         420.0
        ],
        [
         127.0,
         413.0,
         413.0
        ],
        [
         56.0,
         394.0,
         394.0
        ],
        [
         7.0,
         392.0,
         392.0
        ],
        [
         98.0,
         390.0,
         390.0
        ],
        [
         237.0,
         384.0,
         384.0
        ],
        [
         117.0,
         378.0,
         378.0
        ],
        [
         172.0,
         367.0,
         367.0
        ],
        [
         222.0,
         365.0,
         365.0
        ],
        [
         204.0,
         350.0,
         350.0
        ],
        [
         313.0,
         350.0,
         350.0
        ],
        [
         405.0,
         344.0,
         344.0
        ],
        [
         79.0,
         336.0,
         336.0
        ],
        [
         210.0,
         331.0,
         331.0
        ],
        [
         151.0,
         326.0,
         326.0
        ],
        [
         173.0,
         324.0,
         324.0
        ],
        [
         69.0,
         321.0,
         321.0
        ],
        [
         168.0,
         316.0,
         316.0
        ],
        [
         748.0,
         316.0,
         316.0
        ],
        [
         269.0,
         315.0,
         315.0
        ],
        [
         257.0,
         303.0,
         303.0
        ],
        [
         195.0,
         301.0,
         301.0
        ],
        [
         423.0,
         300.0,
         300.0
        ],
        [
         9.0,
         299.0,
         299.0
        ],
        [
         276.0,
         298.0,
         298.0
        ],
        [
         318.0,
         298.0,
         298.0
        ],
        [
         22.0,
         297.0,
         297.0
        ],
        [
         302.0,
         297.0,
         297.0
        ],
        [
         96.0,
         295.0,
         295.0
        ],
        [
         328.0,
         295.0,
         295.0
        ],
        [
         15.0,
         293.0,
         293.0
        ],
        [
         25.0,
         293.0,
         293.0
        ],
        [
         118.0,
         293.0,
         293.0
        ],
        [
         183.0,
         291.0,
         291.0
        ],
        [
         216.0,
         290.0,
         290.0
        ],
        [
         176.0,
         284.0,
         284.0
        ],
        [
         64.0,
         283.0,
         283.0
        ],
        [
         202.0,
         280.0,
         280.0
        ],
        [
         234.0,
         280.0,
         280.0
        ],
        [
         28.0,
         276.0,
         276.0
        ],
        [
         191.0,
         276.0,
         276.0
        ],
        [
         89.0,
         275.0,
         275.0
        ],
        [
         111.0,
         272.0,
         272.0
        ],
        [
         275.0,
         268.0,
         268.0
        ],
        [
         12.0,
         267.0,
         267.0
        ],
        [
         742.0,
         267.0,
         267.0
        ],
        [
         357.0,
         264.0,
         264.0
        ],
        [
         82.0,
         261.0,
         261.0
        ],
        [
         135.0,
         259.0,
         259.0
        ],
        [
         289.0,
         259.0,
         259.0
        ],
        [
         97.0,
         256.0,
         256.0
        ],
        [
         238.0,
         256.0,
         256.0
        ],
        [
         268.0,
         255.0,
         255.0
        ],
        [
         546.0,
         254.0,
         254.0
        ],
        [
         70.0,
         251.0,
         251.0
        ],
        [
         186.0,
         251.0,
         251.0
        ],
        [
         196.0,
         251.0,
         251.0
        ],
        [
         333.0,
         251.0,
         251.0
        ],
        [
         475.0,
         250.0,
         250.0
        ],
        [
         153.0,
         247.0,
         247.0
        ],
        [
         132.0,
         246.0,
         246.0
        ],
        [
         125.0,
         244.0,
         244.0
        ],
        [
         228.0,
         244.0,
         244.0
        ],
        [
         144.0,
         243.0,
         243.0
        ],
        [
         483.0,
         243.0,
         243.0
        ],
        [
         194.0,
         241.0,
         241.0
        ],
        [
         245.0,
         240.0,
         240.0
        ],
        [
         323.0,
         240.0,
         240.0
        ],
        [
         185.0,
         239.0,
         239.0
        ],
        [
         197.0,
         239.0,
         239.0
        ],
        [
         11.0,
         236.0,
         236.0
        ],
        [
         282.0,
         232.0,
         232.0
        ],
        [
         496.0,
         231.0,
         231.0
        ],
        [
         301.0,
         230.0,
         230.0
        ],
        [
         568.0,
         230.0,
         230.0
        ],
        [
         265.0,
         227.0,
         227.0
        ],
        [
         655.0,
         227.0,
         227.0
        ],
        [
         182.0,
         226.0,
         226.0
        ],
        [
         273.0,
         223.0,
         223.0
        ],
        [
         143.0,
         222.0,
         222.0
        ],
        [
         179.0,
         221.0,
         221.0
        ],
        [
         180.0,
         221.0,
         221.0
        ],
        [
         471.0,
         221.0,
         221.0
        ],
        [
         71.0,
         220.0,
         220.0
        ],
        [
         161.0,
         220.0,
         220.0
        ],
        [
         8.0,
         219.0,
         219.0
        ],
        [
         95.0,
         219.0,
         219.0
        ],
        [
         427.0,
         219.0,
         219.0
        ],
        [
         678.0,
         219.0,
         219.0
        ],
        [
         322.0,
         218.0,
         218.0
        ],
        [
         235.0,
         217.0,
         217.0
        ],
        [
         435.0,
         216.0,
         216.0
        ],
        [
         508.0,
         215.0,
         215.0
        ],
        [
         88.0,
         213.0,
         213.0
        ],
        [
         215.0,
         212.0,
         212.0
        ],
        [
         271.0,
         211.0,
         211.0
        ],
        [
         4.0,
         209.0,
         209.0
        ],
        [
         187.0,
         209.0,
         209.0
        ],
        [
         603.0,
         209.0,
         209.0
        ],
        [
         175.0,
         208.0,
         208.0
        ],
        [
         385.0,
         208.0,
         208.0
        ],
        [
         200.0,
         206.0,
         206.0
        ],
        [
         211.0,
         206.0,
         206.0
        ],
        [
         597.0,
         206.0,
         206.0
        ],
        [
         588.0,
         202.0,
         202.0
        ],
        [
         403.0,
         201.0,
         201.0
        ],
        [
         515.0,
         201.0,
         201.0
        ],
        [
         208.0,
         200.0,
         200.0
        ],
        [
         230.0,
         199.0,
         199.0
        ],
        [
         134.0,
         198.0,
         198.0
        ],
        [
         272.0,
         198.0,
         198.0
        ],
        [
         250.0,
         197.0,
         197.0
        ],
        [
         527.0,
         195.0,
         195.0
        ],
        [
         298.0,
         194.0,
         194.0
        ],
        [
         474.0,
         194.0,
         194.0
        ],
        [
         284.0,
         193.0,
         193.0
        ],
        [
         393.0,
         192.0,
         192.0
        ],
        [
         209.0,
         191.0,
         191.0
        ],
        [
         274.0,
         190.0,
         190.0
        ],
        [
         340.0,
         189.0,
         189.0
        ],
        [
         307.0,
         188.0,
         188.0
        ],
        [
         124.0,
         187.0,
         187.0
        ],
        [
         147.0,
         185.0,
         185.0
        ],
        [
         13.0,
         184.0,
         184.0
        ],
        [
         14.0,
         183.0,
         183.0
        ],
        [
         23.0,
         182.0,
         182.0
        ],
        [
         203.0,
         182.0,
         182.0
        ],
        [
         514.0,
         180.0,
         180.0
        ],
        [
         732.0,
         180.0,
         180.0
        ],
        [
         751.0,
         180.0,
         180.0
        ],
        [
         479.0,
         179.0,
         179.0
        ],
        [
         480.0,
         179.0,
         179.0
        ],
        [
         566.0,
         179.0,
         179.0
        ],
        [
         419.0,
         178.0,
         178.0
        ],
        [
         591.0,
         178.0,
         178.0
        ],
        [
         283.0,
         177.0,
         177.0
        ],
        [
         83.0,
         176.0,
         176.0
        ],
        [
         845.0,
         176.0,
         176.0
        ],
        [
         58.0,
         175.0,
         175.0
        ],
        [
         326.0,
         175.0,
         175.0
        ],
        [
         327.0,
         175.0,
         175.0
        ],
        [
         24.0,
         174.0,
         174.0
        ],
        [
         154.0,
         174.0,
         174.0
        ],
        [
         432.0,
         174.0,
         174.0
        ],
        [
         511.0,
         173.0,
         173.0
        ],
        [
         99.0,
         172.0,
         172.0
        ],
        [
         255.0,
         172.0,
         172.0
        ],
        [
         133.0,
         171.0,
         171.0
        ],
        [
         137.0,
         171.0,
         171.0
        ],
        [
         218.0,
         171.0,
         171.0
        ],
        [
         229.0,
         171.0,
         171.0
        ],
        [
         433.0,
         171.0,
         171.0
        ],
        [
         651.0,
         171.0,
         171.0
        ],
        [
         188.0,
         170.0,
         170.0
        ],
        [
         367.0,
         170.0,
         170.0
        ],
        [
         402.0,
         170.0,
         170.0
        ],
        [
         451.0,
         170.0,
         170.0
        ],
        [
         321.0,
         169.0,
         169.0
        ],
        [
         628.0,
         169.0,
         169.0
        ],
        [
         684.0,
         169.0,
         169.0
        ],
        [
         319.0,
         168.0,
         168.0
        ],
        [
         582.0,
         168.0,
         168.0
        ],
        [
         226.0,
         166.0,
         166.0
        ],
        [
         199.0,
         165.0,
         165.0
        ],
        [
         523.0,
         164.0,
         164.0
        ],
        [
         692.0,
         164.0,
         164.0
        ],
        [
         739.0,
         164.0,
         164.0
        ],
        [
         411.0,
         163.0,
         163.0
        ],
        [
         66.0,
         162.0,
         162.0
        ],
        [
         259.0,
         162.0,
         162.0
        ],
        [
         285.0,
         162.0,
         162.0
        ],
        [
         410.0,
         162.0,
         162.0
        ],
        [
         443.0,
         162.0,
         162.0
        ],
        [
         227.0,
         161.0,
         161.0
        ],
        [
         248.0,
         160.0,
         160.0
        ],
        [
         315.0,
         160.0,
         160.0
        ],
        [
         476.0,
         160.0,
         160.0
        ],
        [
         252.0,
         158.0,
         158.0
        ],
        [
         472.0,
         158.0,
         158.0
        ],
        [
         150.0,
         157.0,
         157.0
        ],
        [
         193.0,
         157.0,
         157.0
        ],
        [
         685.0,
         157.0,
         157.0
        ],
        [
         240.0,
         156.0,
         156.0
        ],
        [
         690.0,
         155.0,
         155.0
        ],
        [
         31.0,
         154.0,
         154.0
        ],
        [
         431.0,
         153.0,
         153.0
        ],
        [
         660.0,
         153.0,
         153.0
        ],
        [
         498.0,
         152.0,
         152.0
        ],
        [
         77.0,
         151.0,
         151.0
        ],
        [
         164.0,
         151.0,
         151.0
        ],
        [
         550.0,
         151.0,
         151.0
        ],
        [
         86.0,
         150.0,
         150.0
        ],
        [
         239.0,
         150.0,
         150.0
        ],
        [
         55.0,
         149.0,
         149.0
        ],
        [
         304.0,
         149.0,
         149.0
        ],
        [
         763.0,
         149.0,
         149.0
        ],
        [
         42.0,
         148.0,
         148.0
        ],
        [
         156.0,
         148.0,
         148.0
        ],
        [
         462.0,
         148.0,
         148.0
        ],
        [
         1028.0,
         148.0,
         148.0
        ],
        [
         293.0,
         147.0,
         147.0
        ],
        [
         654.0,
         147.0,
         147.0
        ],
        [
         281.0,
         146.0,
         146.0
        ],
        [
         310.0,
         145.0,
         145.0
        ],
        [
         455.0,
         145.0,
         145.0
        ],
        [
         91.0,
         143.0,
         143.0
        ],
        [
         332.0,
         143.0,
         143.0
        ],
        [
         358.0,
         143.0,
         143.0
        ],
        [
         231.0,
         142.0,
         142.0
        ],
        [
         87.0,
         138.0,
         138.0
        ],
        [
         484.0,
         138.0,
         138.0
        ],
        [
         94.0,
         137.0,
         137.0
        ],
        [
         177.0,
         137.0,
         137.0
        ],
        [
         347.0,
         137.0,
         137.0
        ],
        [
         559.0,
         137.0,
         137.0
        ],
        [
         705.0,
         137.0,
         137.0
        ],
        [
         735.0,
         137.0,
         137.0
        ],
        [
         1016.0,
         137.0,
         137.0
        ],
        [
         205.0,
         136.0,
         136.0
        ],
        [
         223.0,
         136.0,
         136.0
        ],
        [
         270.0,
         136.0,
         136.0
        ],
        [
         879.0,
         136.0,
         136.0
        ],
        [
         68.0,
         134.0,
         134.0
        ],
        [
         213.0,
         134.0,
         134.0
        ],
        [
         303.0,
         134.0,
         134.0
        ],
        [
         1047.0,
         134.0,
         134.0
        ],
        [
         47.0,
         133.0,
         133.0
        ],
        [
         243.0,
         132.0,
         132.0
        ],
        [
         2.0,
         131.0,
         131.0
        ],
        [
         657.0,
         131.0,
         131.0
        ],
        [
         109.0,
         130.0,
         130.0
        ],
        [
         249.0,
         130.0,
         130.0
        ],
        [
         72.0,
         129.0,
         129.0
        ],
        [
         129.0,
         129.0,
         129.0
        ],
        [
         418.0,
         129.0,
         129.0
        ],
        [
         531.0,
         129.0,
         129.0
        ],
        [
         53.0,
         128.0,
         128.0
        ],
        [
         73.0,
         128.0,
         128.0
        ],
        [
         148.0,
         128.0,
         128.0
        ],
        [
         241.0,
         128.0,
         128.0
        ],
        [
         325.0,
         128.0,
         128.0
        ],
        [
         482.0,
         128.0,
         128.0
        ],
        [
         756.0,
         128.0,
         128.0
        ],
        [
         62.0,
         127.0,
         127.0
        ],
        [
         157.0,
         127.0,
         127.0
        ],
        [
         198.0,
         127.0,
         127.0
        ],
        [
         260.0,
         127.0,
         127.0
        ],
        [
         291.0,
         127.0,
         127.0
        ],
        [
         596.0,
         127.0,
         127.0
        ],
        [
         346.0,
         126.0,
         126.0
        ],
        [
         473.0,
         126.0,
         126.0
        ],
        [
         116.0,
         125.0,
         125.0
        ],
        [
         178.0,
         125.0,
         125.0
        ],
        [
         324.0,
         125.0,
         125.0
        ],
        [
         485.0,
         125.0,
         125.0
        ],
        [
         190.0,
         124.0,
         124.0
        ],
        [
         233.0,
         124.0,
         124.0
        ],
        [
         246.0,
         124.0,
         124.0
        ],
        [
         343.0,
         124.0,
         124.0
        ],
        [
         520.0,
         124.0,
         124.0
        ],
        [
         526.0,
         124.0,
         124.0
        ],
        [
         750.0,
         124.0,
         124.0
        ],
        [
         501.0,
         123.0,
         123.0
        ],
        [
         504.0,
         122.0,
         122.0
        ],
        [
         170.0,
         121.0,
         121.0
        ],
        [
         428.0,
         121.0,
         121.0
        ],
        [
         447.0,
         121.0,
         121.0
        ],
        [
         509.0,
         121.0,
         121.0
        ],
        [
         510.0,
         121.0,
         121.0
        ],
        [
         528.0,
         121.0,
         121.0
        ],
        [
         38.0,
         120.0,
         120.0
        ],
        [
         217.0,
         120.0,
         120.0
        ],
        [
         521.0,
         120.0,
         120.0
        ],
        [
         631.0,
         119.0,
         119.0
        ],
        [
         746.0,
         119.0,
         119.0
        ],
        [
         866.0,
         119.0,
         119.0
        ],
        [
         169.0,
         118.0,
         118.0
        ],
        [
         48.0,
         117.0,
         117.0
        ],
        [
         242.0,
         117.0,
         117.0
        ],
        [
         449.0,
         117.0,
         117.0
        ],
        [
         184.0,
         116.0,
         116.0
        ],
        [
         192.0,
         116.0,
         116.0
        ],
        [
         380.0,
         116.0,
         116.0
        ],
        [
         663.0,
         116.0,
         116.0
        ],
        [
         65.0,
         115.0,
         115.0
        ],
        [
         123.0,
         115.0,
         115.0
        ],
        [
         659.0,
         115.0,
         115.0
        ],
        [
         762.0,
         115.0,
         115.0
        ],
        [
         29.0,
         114.0,
         114.0
        ],
        [
         214.0,
         114.0,
         114.0
        ],
        [
         292.0,
         114.0,
         114.0
        ],
        [
         331.0,
         113.0,
         113.0
        ],
        [
         93.0,
         112.0,
         112.0
        ],
        [
         316.0,
         112.0,
         112.0
        ],
        [
         408.0,
         112.0,
         112.0
        ],
        [
         815.0,
         112.0,
         112.0
        ],
        [
         219.0,
         111.0,
         111.0
        ],
        [
         382.0,
         111.0,
         111.0
        ],
        [
         81.0,
         110.0,
         110.0
        ],
        [
         225.0,
         109.0,
         109.0
        ],
        [
         470.0,
         108.0,
         108.0
        ],
        [
         679.0,
         107.0,
         107.0
        ],
        [
         122.0,
         106.0,
         106.0
        ],
        [
         162.0,
         106.0,
         106.0
        ],
        [
         421.0,
         106.0,
         106.0
        ],
        [
         895.0,
         106.0,
         106.0
        ],
        [
         136.0,
         105.0,
         105.0
        ],
        [
         54.0,
         104.0,
         104.0
        ],
        [
         92.0,
         104.0,
         104.0
        ],
        [
         478.0,
         104.0,
         104.0
        ],
        [
         709.0,
         104.0,
         104.0
        ],
        [
         928.0,
         104.0,
         104.0
        ],
        [
         67.0,
         103.0,
         103.0
        ],
        [
         317.0,
         102.0,
         102.0
        ],
        [
         554.0,
         102.0,
         102.0
        ],
        [
         699.0,
         102.0,
         102.0
        ],
        [
         747.0,
         102.0,
         102.0
        ],
        [
         159.0,
         101.0,
         101.0
        ],
        [
         232.0,
         101.0,
         101.0
        ],
        [
         264.0,
         101.0,
         101.0
        ],
        [
         378.0,
         101.0,
         101.0
        ],
        [
         404.0,
         101.0,
         101.0
        ],
        [
         708.0,
         101.0,
         101.0
        ],
        [
         926.0,
         101.0,
         101.0
        ],
        [
         381.0,
         100.0,
         100.0
        ],
        [
         665.0,
         100.0,
         100.0
        ],
        [
         682.0,
         100.0,
         100.0
        ],
        [
         1012.0,
         100.0,
         100.0
        ],
        [
         436.0,
         99.0,
         99.0
        ],
        [
         155.0,
         98.0,
         98.0
        ],
        [
         507.0,
         98.0,
         98.0
        ],
        [
         1014.0,
         98.0,
         98.0
        ],
        [
         33.0,
         97.0,
         97.0
        ],
        [
         126.0,
         97.0,
         97.0
        ],
        [
         356.0,
         97.0,
         97.0
        ],
        [
         429.0,
         97.0,
         97.0
        ],
        [
         290.0,
         96.0,
         96.0
        ],
        [
         306.0,
         96.0,
         96.0
        ],
        [
         755.0,
         96.0,
         96.0
        ],
        [
         919.0,
         96.0,
         96.0
        ],
        [
         90.0,
         95.0,
         95.0
        ],
        [
         131.0,
         95.0,
         95.0
        ],
        [
         477.0,
         95.0,
         95.0
        ],
        [
         412.0,
         93.0,
         93.0
        ],
        [
         430.0,
         93.0,
         93.0
        ],
        [
         529.0,
         93.0,
         93.0
        ],
        [
         576.0,
         93.0,
         93.0
        ],
        [
         820.0,
         93.0,
         93.0
        ],
        [
         1011.0,
         93.0,
         93.0
        ],
        [
         17.0,
         92.0,
         92.0
        ],
        [
         163.0,
         92.0,
         92.0
        ],
        [
         212.0,
         92.0,
         92.0
        ],
        [
         549.0,
         92.0,
         92.0
        ],
        [
         578.0,
         92.0,
         92.0
        ],
        [
         744.0,
         92.0,
         92.0
        ],
        [
         52.0,
         91.0,
         91.0
        ],
        [
         338.0,
         91.0,
         91.0
        ],
        [
         517.0,
         91.0,
         91.0
        ],
        [
         636.0,
         91.0,
         91.0
        ],
        [
         693.0,
         91.0,
         91.0
        ],
        [
         831.0,
         91.0,
         91.0
        ],
        [
         3.0,
         90.0,
         90.0
        ],
        [
         458.0,
         90.0,
         90.0
        ],
        [
         506.0,
         90.0,
         90.0
        ],
        [
         652.0,
         90.0,
         90.0
        ],
        [
         1039.0,
         90.0,
         90.0
        ],
        [
         10.0,
         89.0,
         89.0
        ],
        [
         201.0,
         89.0,
         89.0
        ],
        [
         399.0,
         89.0,
         89.0
        ],
        [
         518.0,
         89.0,
         89.0
        ],
        [
         642.0,
         89.0,
         89.0
        ],
        [
         661.0,
         88.0,
         88.0
        ],
        [
         39.0,
         87.0,
         87.0
        ],
        [
         305.0,
         87.0,
         87.0
        ],
        [
         386.0,
         87.0,
         87.0
        ],
        [
         689.0,
         87.0,
         87.0
        ],
        [
         715.0,
         87.0,
         87.0
        ],
        [
         5.0,
         86.0,
         86.0
        ],
        [
         673.0,
         86.0,
         86.0
        ],
        [
         720.0,
         86.0,
         86.0
        ],
        [
         792.0,
         86.0,
         86.0
        ],
        [
         864.0,
         86.0,
         86.0
        ],
        [
         988.0,
         86.0,
         86.0
        ],
        [
         280.0,
         85.0,
         85.0
        ],
        [
         425.0,
         85.0,
         85.0
        ],
        [
         448.0,
         85.0,
         85.0
        ],
        [
         465.0,
         85.0,
         85.0
        ],
        [
         924.0,
         85.0,
         85.0
        ],
        [
         21.0,
         84.0,
         84.0
        ],
        [
         781.0,
         84.0,
         84.0
        ],
        [
         59.0,
         83.0,
         83.0
        ],
        [
         825.0,
         83.0,
         83.0
        ],
        [
         63.0,
         82.0,
         82.0
        ],
        [
         152.0,
         82.0,
         82.0
        ],
        [
         625.0,
         82.0,
         82.0
        ],
        [
         640.0,
         82.0,
         82.0
        ],
        [
         662.0,
         82.0,
         82.0
        ],
        [
         717.0,
         82.0,
         82.0
        ],
        [
         823.0,
         82.0,
         82.0
        ],
        [
         32.0,
         81.0,
         81.0
        ],
        [
         49.0,
         81.0,
         81.0
        ],
        [
         51.0,
         81.0,
         81.0
        ],
        [
         420.0,
         81.0,
         81.0
        ],
        [
         604.0,
         81.0,
         81.0
        ],
        [
         729.0,
         81.0,
         81.0
        ],
        [
         873.0,
         81.0,
         81.0
        ],
        [
         45.0,
         80.0,
         80.0
        ],
        [
         312.0,
         80.0,
         80.0
        ],
        [
         519.0,
         80.0,
         80.0
        ],
        [
         530.0,
         80.0,
         80.0
        ],
        [
         826.0,
         80.0,
         80.0
        ],
        [
         930.0,
         80.0,
         80.0
        ],
        [
         44.0,
         79.0,
         79.0
        ],
        [
         584.0,
         79.0,
         79.0
        ],
        [
         658.0,
         79.0,
         79.0
        ],
        [
         696.0,
         79.0,
         79.0
        ],
        [
         710.0,
         79.0,
         79.0
        ],
        [
         287.0,
         78.0,
         78.0
        ],
        [
         736.0,
         78.0,
         78.0
        ],
        [
         295.0,
         77.0,
         77.0
        ],
        [
         629.0,
         77.0,
         77.0
        ],
        [
         676.0,
         77.0,
         77.0
        ],
        [
         1074.0,
         77.0,
         77.0
        ],
        [
         401.0,
         76.0,
         76.0
        ],
        [
         724.0,
         76.0,
         76.0
        ],
        [
         778.0,
         76.0,
         76.0
        ],
        [
         311.0,
         75.0,
         75.0
        ],
        [
         627.0,
         75.0,
         75.0
        ],
        [
         871.0,
         75.0,
         75.0
        ],
        [
         969.0,
         75.0,
         75.0
        ],
        [
         105.0,
         74.0,
         74.0
        ],
        [
         221.0,
         74.0,
         74.0
        ],
        [
         461.0,
         74.0,
         74.0
        ],
        [
         1101.0,
         74.0,
         74.0
        ],
        [
         26.0,
         73.0,
         73.0
        ],
        [
         101.0,
         73.0,
         73.0
        ],
        [
         299.0,
         73.0,
         73.0
        ],
        [
         417.0,
         73.0,
         73.0
        ],
        [
         525.0,
         73.0,
         73.0
        ],
        [
         1048.0,
         73.0,
         73.0
        ],
        [
         20.0,
         72.0,
         72.0
        ],
        [
         141.0,
         72.0,
         72.0
        ],
        [
         354.0,
         72.0,
         72.0
        ],
        [
         513.0,
         72.0,
         72.0
        ],
        [
         650.0,
         72.0,
         72.0
        ],
        [
         713.0,
         72.0,
         72.0
        ],
        [
         106.0,
         71.0,
         71.0
        ],
        [
         277.0,
         71.0,
         71.0
        ],
        [
         463.0,
         71.0,
         71.0
        ],
        [
         544.0,
         71.0,
         71.0
        ],
        [
         949.0,
         71.0,
         71.0
        ],
        [
         409.0,
         70.0,
         70.0
        ],
        [
         558.0,
         70.0,
         70.0
        ],
        [
         647.0,
         70.0,
         70.0
        ],
        [
         707.0,
         70.0,
         70.0
        ],
        [
         19.0,
         69.0,
         69.0
        ],
        [
         160.0,
         69.0,
         69.0
        ],
        [
         384.0,
         69.0,
         69.0
        ],
        [
         633.0,
         69.0,
         69.0
        ],
        [
         687.0,
         69.0,
         69.0
        ],
        [
         780.0,
         69.0,
         69.0
        ],
        [
         80.0,
         68.0,
         68.0
        ],
        [
         392.0,
         68.0,
         68.0
        ],
        [
         487.0,
         68.0,
         68.0
        ],
        [
         497.0,
         68.0,
         68.0
        ],
        [
         505.0,
         68.0,
         68.0
        ],
        [
         934.0,
         68.0,
         68.0
        ],
        [
         1035.0,
         68.0,
         68.0
        ],
        [
         114.0,
         67.0,
         67.0
        ],
        [
         120.0,
         67.0,
         67.0
        ],
        [
         167.0,
         67.0,
         67.0
        ],
        [
         371.0,
         67.0,
         67.0
        ],
        [
         434.0,
         67.0,
         67.0
        ],
        [
         469.0,
         67.0,
         67.0
        ],
        [
         491.0,
         67.0,
         67.0
        ],
        [
         569.0,
         67.0,
         67.0
        ],
        [
         648.0,
         67.0,
         67.0
        ],
        [
         189.0,
         66.0,
         66.0
        ],
        [
         207.0,
         66.0,
         66.0
        ],
        [
         220.0,
         66.0,
         66.0
        ],
        [
         262.0,
         66.0,
         66.0
        ],
        [
         452.0,
         66.0,
         66.0
        ],
        [
         538.0,
         66.0,
         66.0
        ],
        [
         606.0,
         66.0,
         66.0
        ],
        [
         607.0,
         66.0,
         66.0
        ],
        [
         790.0,
         66.0,
         66.0
        ],
        [
         855.0,
         66.0,
         66.0
        ],
        [
         993.0,
         66.0,
         66.0
        ],
        [
         1073.0,
         66.0,
         66.0
        ],
        [
         108.0,
         65.0,
         65.0
        ],
        [
         128.0,
         65.0,
         65.0
        ],
        [
         145.0,
         65.0,
         65.0
        ],
        [
         171.0,
         65.0,
         65.0
        ],
        [
         345.0,
         65.0,
         65.0
        ],
        [
         387.0,
         65.0,
         65.0
        ],
        [
         488.0,
         65.0,
         65.0
        ],
        [
         672.0,
         65.0,
         65.0
        ],
        [
         60.0,
         64.0,
         64.0
        ],
        [
         165.0,
         64.0,
         64.0
        ],
        [
         334.0,
         64.0,
         64.0
        ],
        [
         416.0,
         64.0,
         64.0
        ],
        [
         468.0,
         64.0,
         64.0
        ],
        [
         486.0,
         64.0,
         64.0
        ],
        [
         595.0,
         64.0,
         64.0
        ],
        [
         616.0,
         64.0,
         64.0
        ],
        [
         619.0,
         64.0,
         64.0
        ],
        [
         887.0,
         64.0,
         64.0
        ],
        [
         959.0,
         64.0,
         64.0
        ],
        [
         1009.0,
         64.0,
         64.0
        ],
        [
         450.0,
         63.0,
         63.0
        ],
        [
         481.0,
         63.0,
         63.0
        ],
        [
         516.0,
         63.0,
         63.0
        ],
        [
         553.0,
         63.0,
         63.0
        ],
        [
         727.0,
         63.0,
         63.0
        ],
        [
         740.0,
         63.0,
         63.0
        ],
        [
         254.0,
         62.0,
         62.0
        ],
        [
         414.0,
         62.0,
         62.0
        ],
        [
         499.0,
         62.0,
         62.0
        ],
        [
         1041.0,
         62.0,
         62.0
        ],
        [
         140.0,
         61.0,
         61.0
        ],
        [
         946.0,
         61.0,
         61.0
        ],
        [
         158.0,
         60.0,
         60.0
        ],
        [
         278.0,
         60.0,
         60.0
        ],
        [
         493.0,
         60.0,
         60.0
        ],
        [
         609.0,
         60.0,
         60.0
        ],
        [
         939.0,
         60.0,
         60.0
        ],
        [
         61.0,
         59.0,
         59.0
        ],
        [
         391.0,
         59.0,
         59.0
        ],
        [
         492.0,
         59.0,
         59.0
        ],
        [
         495.0,
         59.0,
         59.0
        ],
        [
         561.0,
         59.0,
         59.0
        ],
        [
         581.0,
         59.0,
         59.0
        ],
        [
         615.0,
         59.0,
         59.0
        ],
        [
         737.0,
         59.0,
         59.0
        ],
        [
         880.0,
         59.0,
         59.0
        ],
        [
         1119.0,
         59.0,
         59.0
        ],
        [
         85.0,
         58.0,
         58.0
        ],
        [
         166.0,
         58.0,
         58.0
        ],
        [
         632.0,
         58.0,
         58.0
        ],
        [
         716.0,
         58.0,
         58.0
        ],
        [
         722.0,
         58.0,
         58.0
        ],
        [
         741.0,
         58.0,
         58.0
        ],
        [
         898.0,
         58.0,
         58.0
        ],
        [
         923.0,
         58.0,
         58.0
        ],
        [
         27.0,
         57.0,
         57.0
        ],
        [
         40.0,
         57.0,
         57.0
        ],
        [
         142.0,
         57.0,
         57.0
        ],
        [
         502.0,
         57.0,
         57.0
        ],
        [
         512.0,
         57.0,
         57.0
        ],
        [
         754.0,
         57.0,
         57.0
        ],
        [
         770.0,
         57.0,
         57.0
        ],
        [
         827.0,
         57.0,
         57.0
        ],
        [
         931.0,
         57.0,
         57.0
        ],
        [
         395.0,
         56.0,
         56.0
        ],
        [
         494.0,
         56.0,
         56.0
        ],
        [
         813.0,
         56.0,
         56.0
        ],
        [
         344.0,
         55.0,
         55.0
        ],
        [
         369.0,
         55.0,
         55.0
        ],
        [
         413.0,
         55.0,
         55.0
        ],
        [
         847.0,
         55.0,
         55.0
        ],
        [
         76.0,
         54.0,
         54.0
        ],
        [
         102.0,
         54.0,
         54.0
        ],
        [
         396.0,
         54.0,
         54.0
        ],
        [
         535.0,
         54.0,
         54.0
        ],
        [
         675.0,
         54.0,
         54.0
        ],
        [
         721.0,
         54.0,
         54.0
        ],
        [
         441.0,
         53.0,
         53.0
        ],
        [
         702.0,
         53.0,
         53.0
        ],
        [
         840.0,
         53.0,
         53.0
        ],
        [
         849.0,
         53.0,
         53.0
        ],
        [
         875.0,
         53.0,
         53.0
        ],
        [
         886.0,
         53.0,
         53.0
        ],
        [
         892.0,
         53.0,
         53.0
        ],
        [
         1065.0,
         53.0,
         53.0
        ],
        [
         342.0,
         52.0,
         52.0
        ],
        [
         466.0,
         52.0,
         52.0
        ],
        [
         489.0,
         52.0,
         52.0
        ],
        [
         768.0,
         52.0,
         52.0
        ],
        [
         877.0,
         52.0,
         52.0
        ],
        [
         542.0,
         51.0,
         51.0
        ],
        [
         614.0,
         51.0,
         51.0
        ],
        [
         712.0,
         51.0,
         51.0
        ],
        [
         749.0,
         51.0,
         51.0
        ],
        [
         139.0,
         50.0,
         50.0
        ],
        [
         206.0,
         50.0,
         50.0
        ],
        [
         297.0,
         50.0,
         50.0
        ],
        [
         490.0,
         50.0,
         50.0
        ],
        [
         570.0,
         50.0,
         50.0
        ],
        [
         602.0,
         50.0,
         50.0
        ],
        [
         649.0,
         50.0,
         50.0
        ],
        [
         686.0,
         50.0,
         50.0
        ],
        [
         806.0,
         50.0,
         50.0
        ],
        [
         1017.0,
         50.0,
         50.0
        ],
        [
         406.0,
         49.0,
         49.0
        ],
        [
         541.0,
         49.0,
         49.0
        ],
        [
         683.0,
         49.0,
         49.0
        ],
        [
         772.0,
         49.0,
         49.0
        ],
        [
         824.0,
         49.0,
         49.0
        ],
        [
         833.0,
         49.0,
         49.0
        ],
        [
         955.0,
         49.0,
         49.0
        ],
        [
         977.0,
         49.0,
         49.0
        ],
        [
         244.0,
         48.0,
         48.0
        ],
        [
         365.0,
         48.0,
         48.0
        ],
        [
         456.0,
         48.0,
         48.0
        ],
        [
         467.0,
         48.0,
         48.0
        ],
        [
         562.0,
         48.0,
         48.0
        ],
        [
         674.0,
         48.0,
         48.0
        ],
        [
         841.0,
         48.0,
         48.0
        ],
        [
         948.0,
         48.0,
         48.0
        ],
        [
         1228.0,
         48.0,
         48.0
        ],
        [
         339.0,
         47.0,
         47.0
        ],
        [
         363.0,
         47.0,
         47.0
        ],
        [
         366.0,
         47.0,
         47.0
        ],
        [
         789.0,
         47.0,
         47.0
        ],
        [
         876.0,
         47.0,
         47.0
        ],
        [
         1007.0,
         47.0,
         47.0
        ],
        [
         1118.0,
         47.0,
         47.0
        ],
        [
         251.0,
         46.0,
         46.0
        ],
        [
         444.0,
         46.0,
         46.0
        ],
        [
         524.0,
         46.0,
         46.0
        ],
        [
         664.0,
         46.0,
         46.0
        ],
        [
         671.0,
         46.0,
         46.0
        ],
        [
         760.0,
         46.0,
         46.0
        ],
        [
         794.0,
         46.0,
         46.0
        ],
        [
         921.0,
         46.0,
         46.0
        ],
        [
         941.0,
         46.0,
         46.0
        ],
        [
         956.0,
         46.0,
         46.0
        ],
        [
         1046.0,
         46.0,
         46.0
        ],
        [
         1135.0,
         46.0,
         46.0
        ],
        [
         236.0,
         45.0,
         45.0
        ],
        [
         329.0,
         45.0,
         45.0
        ],
        [
         552.0,
         45.0,
         45.0
        ],
        [
         728.0,
         45.0,
         45.0
        ],
        [
         810.0,
         45.0,
         45.0
        ],
        [
         881.0,
         45.0,
         45.0
        ],
        [
         942.0,
         45.0,
         45.0
        ],
        [
         952.0,
         45.0,
         45.0
        ],
        [
         1079.0,
         45.0,
         45.0
        ],
        [
         1197.0,
         45.0,
         45.0
        ],
        [
         224.0,
         44.0,
         44.0
        ],
        [
         539.0,
         44.0,
         44.0
        ],
        [
         575.0,
         44.0,
         44.0
        ],
        [
         638.0,
         44.0,
         44.0
        ],
        [
         656.0,
         44.0,
         44.0
        ],
        [
         688.0,
         44.0,
         44.0
        ],
        [
         694.0,
         44.0,
         44.0
        ],
        [
         761.0,
         44.0,
         44.0
        ],
        [
         846.0,
         44.0,
         44.0
        ],
        [
         896.0,
         44.0,
         44.0
        ],
        [
         975.0,
         44.0,
         44.0
        ],
        [
         984.0,
         44.0,
         44.0
        ],
        [
         1010.0,
         44.0,
         44.0
        ],
        [
         1025.0,
         44.0,
         44.0
        ],
        [
         1067.0,
         44.0,
         44.0
        ],
        [
         1142.0,
         44.0,
         44.0
        ],
        [
         1188.0,
         44.0,
         44.0
        ],
        [
         261.0,
         43.0,
         43.0
        ],
        [
         336.0,
         43.0,
         43.0
        ],
        [
         379.0,
         43.0,
         43.0
        ],
        [
         407.0,
         43.0,
         43.0
        ],
        [
         540.0,
         43.0,
         43.0
        ],
        [
         589.0,
         43.0,
         43.0
        ],
        [
         620.0,
         43.0,
         43.0
        ],
        [
         809.0,
         43.0,
         43.0
        ],
        [
         890.0,
         43.0,
         43.0
        ],
        [
         944.0,
         43.0,
         43.0
        ],
        [
         1050.0,
         43.0,
         43.0
        ],
        [
         1091.0,
         43.0,
         43.0
        ],
        [
         107.0,
         42.0,
         42.0
        ],
        [
         769.0,
         42.0,
         42.0
        ],
        [
         844.0,
         42.0,
         42.0
        ],
        [
         872.0,
         42.0,
         42.0
        ],
        [
         900.0,
         42.0,
         42.0
        ],
        [
         902.0,
         42.0,
         42.0
        ],
        [
         1098.0,
         42.0,
         42.0
        ],
        [
         330.0,
         41.0,
         41.0
        ],
        [
         350.0,
         41.0,
         41.0
        ],
        [
         355.0,
         41.0,
         41.0
        ],
        [
         547.0,
         41.0,
         41.0
        ],
        [
         577.0,
         41.0,
         41.0
        ],
        [
         610.0,
         41.0,
         41.0
        ],
        [
         771.0,
         41.0,
         41.0
        ],
        [
         963.0,
         41.0,
         41.0
        ],
        [
         1051.0,
         41.0,
         41.0
        ],
        [
         1063.0,
         41.0,
         41.0
        ],
        [
         1110.0,
         41.0,
         41.0
        ],
        [
         43.0,
         40.0,
         40.0
        ],
        [
         57.0,
         40.0,
         40.0
        ],
        [
         611.0,
         40.0,
         40.0
        ],
        [
         639.0,
         40.0,
         40.0
        ],
        [
         697.0,
         40.0,
         40.0
        ],
        [
         802.0,
         40.0,
         40.0
        ],
        [
         819.0,
         40.0,
         40.0
        ],
        [
         929.0,
         40.0,
         40.0
        ],
        [
         932.0,
         40.0,
         40.0
        ],
        [
         943.0,
         40.0,
         40.0
        ],
        [
         945.0,
         40.0,
         40.0
        ],
        [
         1044.0,
         40.0,
         40.0
        ],
        [
         16.0,
         39.0,
         39.0
        ],
        [
         370.0,
         39.0,
         39.0
        ],
        [
         373.0,
         39.0,
         39.0
        ],
        [
         503.0,
         39.0,
         39.0
        ],
        [
         585.0,
         39.0,
         39.0
        ],
        [
         622.0,
         39.0,
         39.0
        ],
        [
         623.0,
         39.0,
         39.0
        ],
        [
         731.0,
         39.0,
         39.0
        ],
        [
         743.0,
         39.0,
         39.0
        ],
        [
         752.0,
         39.0,
         39.0
        ],
        [
         785.0,
         39.0,
         39.0
        ],
        [
         874.0,
         39.0,
         39.0
        ],
        [
         951.0,
         39.0,
         39.0
        ],
        [
         1060.0,
         39.0,
         39.0
        ],
        [
         1217.0,
         39.0,
         39.0
        ],
        [
         1221.0,
         39.0,
         39.0
        ],
        [
         637.0,
         38.0,
         38.0
        ],
        [
         646.0,
         38.0,
         38.0
        ],
        [
         1013.0,
         38.0,
         38.0
        ],
        [
         1021.0,
         38.0,
         38.0
        ],
        [
         1089.0,
         38.0,
         38.0
        ],
        [
         1134.0,
         38.0,
         38.0
        ],
        [
         1210.0,
         38.0,
         38.0
        ],
        [
         30.0,
         37.0,
         37.0
        ],
        [
         41.0,
         37.0,
         37.0
        ],
        [
         364.0,
         37.0,
         37.0
        ],
        [
         583.0,
         37.0,
         37.0
        ],
        [
         783.0,
         37.0,
         37.0
        ],
        [
         937.0,
         37.0,
         37.0
        ],
        [
         1008.0,
         37.0,
         37.0
        ],
        [
         1090.0,
         37.0,
         37.0
        ],
        [
         670.0,
         36.0,
         36.0
        ],
        [
         796.0,
         36.0,
         36.0
        ],
        [
         856.0,
         36.0,
         36.0
        ],
        [
         1244.0,
         36.0,
         36.0
        ],
        [
         266.0,
         35.0,
         35.0
        ],
        [
         522.0,
         35.0,
         35.0
        ],
        [
         567.0,
         35.0,
         35.0
        ],
        [
         644.0,
         35.0,
         35.0
        ],
        [
         979.0,
         35.0,
         35.0
        ],
        [
         1020.0,
         35.0,
         35.0
        ],
        [
         1059.0,
         35.0,
         35.0
        ],
        [
         372.0,
         34.0,
         34.0
        ],
        [
         586.0,
         34.0,
         34.0
        ],
        [
         612.0,
         34.0,
         34.0
        ],
        [
         653.0,
         34.0,
         34.0
        ],
        [
         680.0,
         34.0,
         34.0
        ],
        [
         723.0,
         34.0,
         34.0
        ],
        [
         829.0,
         34.0,
         34.0
        ],
        [
         882.0,
         34.0,
         34.0
        ],
        [
         922.0,
         34.0,
         34.0
        ],
        [
         925.0,
         34.0,
         34.0
        ],
        [
         961.0,
         34.0,
         34.0
        ],
        [
         971.0,
         34.0,
         34.0
        ],
        [
         78.0,
         33.0,
         33.0
        ],
        [
         573.0,
         33.0,
         33.0
        ],
        [
         641.0,
         33.0,
         33.0
        ],
        [
         878.0,
         33.0,
         33.0
        ],
        [
         990.0,
         33.0,
         33.0
        ],
        [
         1139.0,
         33.0,
         33.0
        ],
        [
         1267.0,
         33.0,
         33.0
        ],
        [
         426.0,
         32.0,
         32.0
        ],
        [
         580.0,
         32.0,
         32.0
        ],
        [
         765.0,
         32.0,
         32.0
        ],
        [
         774.0,
         32.0,
         32.0
        ],
        [
         936.0,
         32.0,
         32.0
        ],
        [
         940.0,
         32.0,
         32.0
        ],
        [
         974.0,
         32.0,
         32.0
        ],
        [
         989.0,
         32.0,
         32.0
        ],
        [
         1018.0,
         32.0,
         32.0
        ],
        [
         1022.0,
         32.0,
         32.0
        ],
        [
         1033.0,
         32.0,
         32.0
        ],
        [
         1126.0,
         32.0,
         32.0
        ],
        [
         1132.0,
         32.0,
         32.0
        ],
        [
         1226.0,
         32.0,
         32.0
        ],
        [
         110.0,
         31.0,
         31.0
        ],
        [
         349.0,
         31.0,
         31.0
        ],
        [
         368.0,
         31.0,
         31.0
        ],
        [
         383.0,
         31.0,
         31.0
        ],
        [
         500.0,
         31.0,
         31.0
        ],
        [
         605.0,
         31.0,
         31.0
        ],
        [
         630.0,
         31.0,
         31.0
        ],
        [
         738.0,
         31.0,
         31.0
        ],
        [
         779.0,
         31.0,
         31.0
        ],
        [
         797.0,
         31.0,
         31.0
        ],
        [
         808.0,
         31.0,
         31.0
        ],
        [
         995.0,
         31.0,
         31.0
        ],
        [
         1019.0,
         31.0,
         31.0
        ],
        [
         1023.0,
         31.0,
         31.0
        ],
        [
         1194.0,
         31.0,
         31.0
        ],
        [
         308.0,
         30.0,
         30.0
        ],
        [
         537.0,
         30.0,
         30.0
        ],
        [
         608.0,
         30.0,
         30.0
        ],
        [
         843.0,
         30.0,
         30.0
        ],
        [
         950.0,
         30.0,
         30.0
        ],
        [
         1133.0,
         30.0,
         30.0
        ],
        [
         1215.0,
         30.0,
         30.0
        ],
        [
         1220.0,
         30.0,
         30.0
        ],
        [
         563.0,
         29.0,
         29.0
        ],
        [
         572.0,
         29.0,
         29.0
        ],
        [
         719.0,
         29.0,
         29.0
        ],
        [
         764.0,
         29.0,
         29.0
        ],
        [
         1061.0,
         29.0,
         29.0
        ],
        [
         1095.0,
         29.0,
         29.0
        ],
        [
         1115.0,
         29.0,
         29.0
        ],
        [
         1136.0,
         29.0,
         29.0
        ],
        [
         1137.0,
         29.0,
         29.0
        ],
        [
         279.0,
         28.0,
         28.0
        ],
        [
         309.0,
         28.0,
         28.0
        ],
        [
         362.0,
         28.0,
         28.0
        ],
        [
         388.0,
         28.0,
         28.0
        ],
        [
         460.0,
         28.0,
         28.0
        ],
        [
         571.0,
         28.0,
         28.0
        ],
        [
         972.0,
         28.0,
         28.0
        ],
        [
         1042.0,
         28.0,
         28.0
        ],
        [
         1109.0,
         28.0,
         28.0
        ],
        [
         1129.0,
         28.0,
         28.0
        ],
        [
         1152.0,
         28.0,
         28.0
        ],
        [
         1411.0,
         28.0,
         28.0
        ],
        [
         46.0,
         27.0,
         27.0
        ],
        [
         348.0,
         27.0,
         27.0
        ],
        [
         389.0,
         27.0,
         27.0
        ],
        [
         457.0,
         27.0,
         27.0
        ],
        [
         464.0,
         27.0,
         27.0
        ],
        [
         564.0,
         27.0,
         27.0
        ],
        [
         613.0,
         27.0,
         27.0
        ],
        [
         645.0,
         27.0,
         27.0
        ],
        [
         681.0,
         27.0,
         27.0
        ],
        [
         734.0,
         27.0,
         27.0
        ],
        [
         805.0,
         27.0,
         27.0
        ],
        [
         842.0,
         27.0,
         27.0
        ],
        [
         905.0,
         27.0,
         27.0
        ],
        [
         978.0,
         27.0,
         27.0
        ],
        [
         1034.0,
         27.0,
         27.0
        ],
        [
         1070.0,
         27.0,
         27.0
        ],
        [
         1170.0,
         27.0,
         27.0
        ],
        [
         6.0,
         26.0,
         26.0
        ],
        [
         253.0,
         26.0,
         26.0
        ],
        [
         352.0,
         26.0,
         26.0
        ],
        [
         398.0,
         26.0,
         26.0
        ],
        [
         422.0,
         26.0,
         26.0
        ],
        [
         775.0,
         26.0,
         26.0
        ],
        [
         800.0,
         26.0,
         26.0
        ],
        [
         836.0,
         26.0,
         26.0
        ],
        [
         966.0,
         26.0,
         26.0
        ],
        [
         1149.0,
         26.0,
         26.0
        ],
        [
         1160.0,
         26.0,
         26.0
        ],
        [
         1218.0,
         26.0,
         26.0
        ],
        [
         1240.0,
         26.0,
         26.0
        ],
        [
         1284.0,
         26.0,
         26.0
        ],
        [
         415.0,
         25.0,
         25.0
        ],
        [
         818.0,
         25.0,
         25.0
        ],
        [
         834.0,
         25.0,
         25.0
        ],
        [
         837.0,
         25.0,
         25.0
        ],
        [
         938.0,
         25.0,
         25.0
        ],
        [
         960.0,
         25.0,
         25.0
        ],
        [
         991.0,
         25.0,
         25.0
        ],
        [
         1040.0,
         25.0,
         25.0
        ],
        [
         1045.0,
         25.0,
         25.0
        ],
        [
         1049.0,
         25.0,
         25.0
        ],
        [
         1052.0,
         25.0,
         25.0
        ],
        [
         1157.0,
         25.0,
         25.0
        ],
        [
         1163.0,
         25.0,
         25.0
        ],
        [
         1222.0,
         25.0,
         25.0
        ],
        [
         376.0,
         24.0,
         24.0
        ],
        [
         459.0,
         24.0,
         24.0
        ],
        [
         551.0,
         24.0,
         24.0
        ],
        [
         634.0,
         24.0,
         24.0
        ],
        [
         704.0,
         24.0,
         24.0
        ],
        [
         730.0,
         24.0,
         24.0
        ],
        [
         753.0,
         24.0,
         24.0
        ],
        [
         863.0,
         24.0,
         24.0
        ],
        [
         869.0,
         24.0,
         24.0
        ],
        [
         1036.0,
         24.0,
         24.0
        ],
        [
         1037.0,
         24.0,
         24.0
        ],
        [
         1053.0,
         24.0,
         24.0
        ],
        [
         130.0,
         23.0,
         23.0
        ],
        [
         149.0,
         23.0,
         23.0
        ],
        [
         375.0,
         23.0,
         23.0
        ],
        [
         635.0,
         23.0,
         23.0
        ],
        [
         962.0,
         23.0,
         23.0
        ],
        [
         986.0,
         23.0,
         23.0
        ],
        [
         1006.0,
         23.0,
         23.0
        ],
        [
         1054.0,
         23.0,
         23.0
        ],
        [
         1093.0,
         23.0,
         23.0
        ],
        [
         1199.0,
         23.0,
         23.0
        ],
        [
         1258.0,
         23.0,
         23.0
        ],
        [
         1315.0,
         23.0,
         23.0
        ],
        [
         445.0,
         22.0,
         22.0
        ],
        [
         532.0,
         22.0,
         22.0
        ],
        [
         560.0,
         22.0,
         22.0
        ],
        [
         565.0,
         22.0,
         22.0
        ],
        [
         624.0,
         22.0,
         22.0
        ],
        [
         821.0,
         22.0,
         22.0
        ],
        [
         832.0,
         22.0,
         22.0
        ],
        [
         953.0,
         22.0,
         22.0
        ],
        [
         980.0,
         22.0,
         22.0
        ],
        [
         985.0,
         22.0,
         22.0
        ],
        [
         1005.0,
         22.0,
         22.0
        ],
        [
         1057.0,
         22.0,
         22.0
        ],
        [
         1078.0,
         22.0,
         22.0
        ],
        [
         1113.0,
         22.0,
         22.0
        ],
        [
         1168.0,
         22.0,
         22.0
        ],
        [
         1176.0,
         22.0,
         22.0
        ],
        [
         1231.0,
         22.0,
         22.0
        ],
        [
         335.0,
         21.0,
         21.0
        ],
        [
         543.0,
         21.0,
         21.0
        ],
        [
         758.0,
         21.0,
         21.0
        ],
        [
         795.0,
         21.0,
         21.0
        ],
        [
         816.0,
         21.0,
         21.0
        ],
        [
         865.0,
         21.0,
         21.0
        ],
        [
         906.0,
         21.0,
         21.0
        ],
        [
         933.0,
         21.0,
         21.0
        ],
        [
         965.0,
         21.0,
         21.0
        ],
        [
         1084.0,
         21.0,
         21.0
        ],
        [
         1086.0,
         21.0,
         21.0
        ],
        [
         1121.0,
         21.0,
         21.0
        ],
        [
         1147.0,
         21.0,
         21.0
        ],
        [
         1203.0,
         21.0,
         21.0
        ],
        [
         112.0,
         20.0,
         20.0
        ],
        [
         320.0,
         20.0,
         20.0
        ],
        [
         351.0,
         20.0,
         20.0
        ],
        [
         601.0,
         20.0,
         20.0
        ],
        [
         904.0,
         20.0,
         20.0
        ],
        [
         908.0,
         20.0,
         20.0
        ],
        [
         982.0,
         20.0,
         20.0
        ],
        [
         1030.0,
         20.0,
         20.0
        ],
        [
         1208.0,
         20.0,
         20.0
        ],
        [
         1219.0,
         20.0,
         20.0
        ],
        [
         1296.0,
         20.0,
         20.0
        ],
        [
         1407.0,
         20.0,
         20.0
        ],
        [
         138.0,
         19.0,
         19.0
        ],
        [
         263.0,
         19.0,
         19.0
        ],
        [
         424.0,
         19.0,
         19.0
        ],
        [
         579.0,
         19.0,
         19.0
        ],
        [
         703.0,
         19.0,
         19.0
        ],
        [
         894.0,
         19.0,
         19.0
        ],
        [
         1103.0,
         19.0,
         19.0
        ],
        [
         1117.0,
         19.0,
         19.0
        ],
        [
         1153.0,
         19.0,
         19.0
        ],
        [
         1178.0,
         19.0,
         19.0
        ],
        [
         1183.0,
         19.0,
         19.0
        ],
        [
         1206.0,
         19.0,
         19.0
        ],
        [
         1245.0,
         19.0,
         19.0
        ],
        [
         1248.0,
         19.0,
         19.0
        ],
        [
         1265.0,
         19.0,
         19.0
        ],
        [
         1277.0,
         19.0,
         19.0
        ],
        [
         1283.0,
         19.0,
         19.0
        ],
        [
         1444.0,
         19.0,
         19.0
        ],
        [
         84.0,
         18.0,
         18.0
        ],
        [
         337.0,
         18.0,
         18.0
        ],
        [
         359.0,
         18.0,
         18.0
        ],
        [
         400.0,
         18.0,
         18.0
        ],
        [
         590.0,
         18.0,
         18.0
        ],
        [
         617.0,
         18.0,
         18.0
        ],
        [
         618.0,
         18.0,
         18.0
        ],
        [
         811.0,
         18.0,
         18.0
        ],
        [
         812.0,
         18.0,
         18.0
        ],
        [
         862.0,
         18.0,
         18.0
        ],
        [
         903.0,
         18.0,
         18.0
        ],
        [
         916.0,
         18.0,
         18.0
        ],
        [
         968.0,
         18.0,
         18.0
        ],
        [
         1069.0,
         18.0,
         18.0
        ],
        [
         1097.0,
         18.0,
         18.0
        ],
        [
         1105.0,
         18.0,
         18.0
        ],
        [
         1107.0,
         18.0,
         18.0
        ],
        [
         1185.0,
         18.0,
         18.0
        ],
        [
         1204.0,
         18.0,
         18.0
        ],
        [
         1230.0,
         18.0,
         18.0
        ],
        [
         1239.0,
         18.0,
         18.0
        ],
        [
         1303.0,
         18.0,
         18.0
        ],
        [
         1401.0,
         18.0,
         18.0
        ],
        [
         1478.0,
         18.0,
         18.0
        ],
        [
         557.0,
         17.0,
         17.0
        ],
        [
         773.0,
         17.0,
         17.0
        ],
        [
         947.0,
         17.0,
         17.0
        ],
        [
         1001.0,
         17.0,
         17.0
        ],
        [
         1038.0,
         17.0,
         17.0
        ],
        [
         1120.0,
         17.0,
         17.0
        ],
        [
         1140.0,
         17.0,
         17.0
        ],
        [
         1207.0,
         17.0,
         17.0
        ],
        [
         1232.0,
         17.0,
         17.0
        ],
        [
         1286.0,
         17.0,
         17.0
        ],
        [
         256.0,
         16.0,
         16.0
        ],
        [
         453.0,
         16.0,
         16.0
        ],
        [
         454.0,
         16.0,
         16.0
        ],
        [
         691.0,
         16.0,
         16.0
        ],
        [
         718.0,
         16.0,
         16.0
        ],
        [
         725.0,
         16.0,
         16.0
        ],
        [
         745.0,
         16.0,
         16.0
        ],
        [
         801.0,
         16.0,
         16.0
        ],
        [
         854.0,
         16.0,
         16.0
        ]
       ],
       "addedWidgets": {},
       "dbfsResultPath": null,
       "type": "table",
       "aggOverflow": true,
       "aggSeriesLimitReached": false,
       "arguments": {}
      }
     },
     "output_type": "execute_result"
    }
   ],
   "source": [
    "popular_df=new_df.groupBy(\"movie_id\").count().sort(\"count\",ascending=False)\n",
    "display(popular_df)"
   ]
  },
  {
   "cell_type": "code",
   "execution_count": 0,
   "metadata": {
    "application/vnd.databricks.v1+cell": {
     "title": "",
     "showTitle": false,
     "inputWidgets": {},
     "nuid": "e2c0edf1-4a72-49bc-b001-9167a8601544"
    }
   },
   "outputs": [
    {
     "data": {
      "text/html": [
       "<style scoped>\n  .ansiout {\n    display: block;\n    unicode-bidi: embed;\n    white-space: pre-wrap;\n    word-wrap: break-word;\n    word-break: break-all;\n    font-family: \"Source Code Pro\", \"Menlo\", monospace;;\n    font-size: 13px;\n    color: #555;\n    margin-left: 4px;\n    line-height: 19px;\n  }\n</style>\n<div class=\"ansiout\">+--------+-----+\nmovie_id|count|\n+--------+-----+\n      50|  583|\n     258|  509|\n     100|  508|\n     181|  507|\n     294|  485|\n     286|  481|\n     288|  478|\n       1|  452|\n     300|  431|\n     121|  429|\n+--------+-----+\nonly showing top 10 rows\n\n</div>"
      ]
     },
     "metadata": {
      "application/vnd.databricks.v1+output": {
       "datasetInfos": [],
       "data": "<div class=\"ansiout\">+--------+-----+\n|movie_id|count|\n+--------+-----+\n|      50|  583|\n|     258|  509|\n|     100|  508|\n|     181|  507|\n|     294|  485|\n|     286|  481|\n|     288|  478|\n|       1|  452|\n|     300|  431|\n|     121|  429|\n+--------+-----+\nonly showing top 10 rows\n\n</div>",
       "removedWidgets": [],
       "addedWidgets": {},
       "type": "html",
       "arguments": {}
      }
     },
     "output_type": "execute_result"
    }
   ],
   "source": [
    "new_df.groupBy(\"movie_id\").count().orderBy(func.desc(\"count\")).show(10)"
   ]
  },
  {
   "cell_type": "code",
   "execution_count": 0,
   "metadata": {
    "application/vnd.databricks.v1+cell": {
     "title": "",
     "showTitle": false,
     "inputWidgets": {},
     "nuid": "42a74e14-189b-459e-8fa8-54f0b48cfcf5"
    }
   },
   "outputs": [
    {
     "data": {
      "text/html": [
       "<style scoped>\n  .ansiout {\n    display: block;\n    unicode-bidi: embed;\n    white-space: pre-wrap;\n    word-wrap: break-word;\n    word-break: break-all;\n    font-family: \"Source Code Pro\", \"Menlo\", monospace;;\n    font-size: 13px;\n    color: #555;\n    margin-left: 4px;\n    line-height: 19px;\n  }\n</style>\n<div class=\"ansiout\">+------+-----+\nrating|count|\n+------+-----+\n     1| 6110|\n     3|27145|\n     5|21201|\n     4|34174|\n     2|11370|\n+------+-----+\n\n</div>"
      ]
     },
     "metadata": {
      "application/vnd.databricks.v1+output": {
       "datasetInfos": [],
       "data": "<div class=\"ansiout\">+------+-----+\n|rating|count|\n+------+-----+\n|     1| 6110|\n|     3|27145|\n|     5|21201|\n|     4|34174|\n|     2|11370|\n+------+-----+\n\n</div>",
       "removedWidgets": [],
       "addedWidgets": {},
       "type": "html",
       "arguments": {}
      }
     },
     "output_type": "execute_result"
    }
   ],
   "source": [
    "new_df.groupBy(\"rating\").count().show()"
   ]
  },
  {
   "cell_type": "code",
   "execution_count": 0,
   "metadata": {
    "application/vnd.databricks.v1+cell": {
     "title": "",
     "showTitle": false,
     "inputWidgets": {},
     "nuid": "056737b7-6ee9-4294-979f-f2b0689ab806"
    }
   },
   "outputs": [
    {
     "data": {
      "text/html": [
       "<style scoped>\n  .table-result-container {\n    max-height: 300px;\n    overflow: auto;\n  }\n  table, th, td {\n    border: 1px solid black;\n    border-collapse: collapse;\n  }\n  th, td {\n    padding: 5px;\n  }\n  th {\n    text-align: left;\n  }\n</style><div class='table-result-container'><table class='table-result'><thead style='background-color: white'><tr><th>rating</th><th>count</th></tr></thead><tbody><tr><td>1</td><td>6110</td></tr><tr><td>3</td><td>27145</td></tr><tr><td>5</td><td>21201</td></tr><tr><td>4</td><td>34174</td></tr><tr><td>2</td><td>11370</td></tr></tbody></table></div>"
      ]
     },
     "metadata": {
      "application/vnd.databricks.v1+output": {
       "overflow": false,
       "datasetInfos": [],
       "data": [
        [
         1.0,
         6110.0
        ],
        [
         3.0,
         27145.0
        ],
        [
         5.0,
         21201.0
        ],
        [
         4.0,
         34174.0
        ],
        [
         2.0,
         11370.0
        ]
       ],
       "plotOptions": {
        "displayType": "pieChart",
        "customPlotOptions": {
         "plotlyBar": [
          {
           "key": "grouped",
           "value": true
          },
          {
           "key": "stacked",
           "value": false
          },
          {
           "key": "100_stacked",
           "value": false
          }
         ],
         "pieChart": [
          {
           "key": "donut",
           "value": true
          }
         ]
        },
        "pivotColumns": [],
        "pivotAggregation": "sum",
        "xColumns": [
         "rating"
        ],
        "yColumns": [
         "count"
        ]
       },
       "columnCustomDisplayInfos": {},
       "aggType": "",
       "isJsonSchema": true,
       "removedWidgets": [],
       "aggSchema": [],
       "schema": [
        {
         "name": "rating",
         "type": "\"integer\"",
         "metadata": "{}"
        },
        {
         "name": "count",
         "type": "\"long\"",
         "metadata": "{}"
        }
       ],
       "aggError": "",
       "aggData": [],
       "addedWidgets": {},
       "dbfsResultPath": null,
       "type": "table",
       "aggOverflow": false,
       "aggSeriesLimitReached": false,
       "arguments": {}
      }
     },
     "output_type": "execute_result"
    }
   ],
   "source": [
    "rating_df=new_df.groupBy(\"rating\").count()\n",
    "display(rating_df)"
   ]
  },
  {
   "cell_type": "code",
   "execution_count": 0,
   "metadata": {
    "application/vnd.databricks.v1+cell": {
     "title": "",
     "showTitle": false,
     "inputWidgets": {},
     "nuid": "f967dbe6-8343-484f-b523-b37dfed57405"
    }
   },
   "outputs": [
    {
     "data": {
      "text/html": [
       "<style scoped>\n  .table-result-container {\n    max-height: 300px;\n    overflow: auto;\n  }\n  table, th, td {\n    border: 1px solid black;\n    border-collapse: collapse;\n  }\n  th, td {\n    padding: 5px;\n  }\n  th {\n    text-align: left;\n  }\n</style><div class='table-result-container'><table class='table-result'><thead style='background-color: white'><tr><th>rating</th><th>count</th></tr></thead><tbody><tr><td>1</td><td>6110</td></tr><tr><td>3</td><td>27145</td></tr><tr><td>5</td><td>21201</td></tr><tr><td>4</td><td>34174</td></tr><tr><td>2</td><td>11370</td></tr></tbody></table></div>"
      ]
     },
     "metadata": {
      "application/vnd.databricks.v1+output": {
       "overflow": false,
       "datasetInfos": [],
       "data": [
        [
         1.0,
         6110.0
        ],
        [
         3.0,
         27145.0
        ],
        [
         5.0,
         21201.0
        ],
        [
         4.0,
         34174.0
        ],
        [
         2.0,
         11370.0
        ]
       ],
       "plotOptions": {
        "displayType": "pieChart",
        "customPlotOptions": {
         "pieChart": [
          {
           "key": "donut",
           "value": false
          }
         ]
        },
        "pivotColumns": [],
        "pivotAggregation": "sum",
        "xColumns": [
         "rating"
        ],
        "yColumns": [
         "count"
        ]
       },
       "columnCustomDisplayInfos": {},
       "aggType": "",
       "isJsonSchema": true,
       "removedWidgets": [],
       "aggSchema": [],
       "schema": [
        {
         "name": "rating",
         "type": "\"integer\"",
         "metadata": "{}"
        },
        {
         "name": "count",
         "type": "\"long\"",
         "metadata": "{}"
        }
       ],
       "aggError": "",
       "aggData": [],
       "addedWidgets": {},
       "dbfsResultPath": null,
       "type": "table",
       "aggOverflow": false,
       "aggSeriesLimitReached": false,
       "arguments": {}
      }
     },
     "output_type": "execute_result"
    }
   ],
   "source": [
    "display(rating_df)"
   ]
  },
  {
   "cell_type": "code",
   "execution_count": 0,
   "metadata": {
    "application/vnd.databricks.v1+cell": {
     "title": "",
     "showTitle": false,
     "inputWidgets": {},
     "nuid": "dd67260f-6cd3-4c7d-be09-e9397e55eb6b"
    }
   },
   "outputs": [
    {
     "data": {
      "text/html": [
       "<style scoped>\n  .table-result-container {\n    max-height: 300px;\n    overflow: auto;\n  }\n  table, th, td {\n    border: 1px solid black;\n    border-collapse: collapse;\n  }\n  th, td {\n    padding: 5px;\n  }\n  th {\n    text-align: left;\n  }\n</style><div class='table-result-container'><table class='table-result'><thead style='background-color: white'><tr><th>rating</th><th>count</th></tr></thead><tbody><tr><td>1</td><td>6110</td></tr><tr><td>3</td><td>27145</td></tr><tr><td>5</td><td>21201</td></tr><tr><td>4</td><td>34174</td></tr><tr><td>2</td><td>11370</td></tr></tbody></table></div>"
      ]
     },
     "metadata": {
      "application/vnd.databricks.v1+output": {
       "overflow": false,
       "datasetInfos": [],
       "data": [
        [
         1.0,
         6110.0
        ],
        [
         3.0,
         27145.0
        ],
        [
         5.0,
         21201.0
        ],
        [
         4.0,
         34174.0
        ],
        [
         2.0,
         11370.0
        ]
       ],
       "plotOptions": {
        "displayType": "plotlyBar",
        "customPlotOptions": {
         "plotlyBar": [
          {
           "key": "grouped",
           "value": true
          },
          {
           "key": "stacked",
           "value": false
          },
          {
           "key": "100_stacked",
           "value": false
          }
         ]
        },
        "pivotColumns": [],
        "pivotAggregation": "sum",
        "xColumns": [
         "rating",
         "count"
        ],
        "yColumns": [
         "count"
        ]
       },
       "columnCustomDisplayInfos": {},
       "aggType": "",
       "isJsonSchema": true,
       "removedWidgets": [],
       "aggSchema": [],
       "schema": [
        {
         "name": "rating",
         "type": "\"integer\"",
         "metadata": "{}"
        },
        {
         "name": "count",
         "type": "\"long\"",
         "metadata": "{}"
        }
       ],
       "aggError": "",
       "aggData": [],
       "addedWidgets": {},
       "dbfsResultPath": null,
       "type": "table",
       "aggOverflow": false,
       "aggSeriesLimitReached": false,
       "arguments": {}
      }
     },
     "output_type": "execute_result"
    }
   ],
   "source": [
    "display(rating_df)"
   ]
  },
  {
   "cell_type": "code",
   "execution_count": 0,
   "metadata": {
    "application/vnd.databricks.v1+cell": {
     "title": "",
     "showTitle": false,
     "inputWidgets": {},
     "nuid": "84681efe-3905-4436-aa9c-e43ab9b49978"
    }
   },
   "outputs": [
    {
     "data": {
      "text/html": [
       "<style scoped>\n  .ansiout {\n    display: block;\n    unicode-bidi: embed;\n    white-space: pre-wrap;\n    word-wrap: break-word;\n    word-break: break-all;\n    font-family: \"Source Code Pro\", \"Menlo\", monospace;;\n    font-size: 13px;\n    color: #555;\n    margin-left: 4px;\n    line-height: 19px;\n  }\n</style>\n<div class=\"ansiout\"></div>"
      ]
     },
     "metadata": {
      "application/vnd.databricks.v1+output": {
       "datasetInfos": [],
       "data": "<div class=\"ansiout\"></div>",
       "removedWidgets": [],
       "addedWidgets": {},
       "type": "html",
       "arguments": {}
      }
     },
     "output_type": "execute_result"
    }
   ],
   "source": [
    "new_schema=StructType([StructField(\"movie_id\",IntegerType(),True),StructField(\"movie_names\",StringType(),True)])"
   ]
  },
  {
   "cell_type": "code",
   "execution_count": 0,
   "metadata": {
    "application/vnd.databricks.v1+cell": {
     "title": "",
     "showTitle": false,
     "inputWidgets": {},
     "nuid": "89685343-93c2-4e53-8709-523d71a8be1e"
    }
   },
   "outputs": [
    {
     "data": {
      "text/html": [
       "<style scoped>\n  .ansiout {\n    display: block;\n    unicode-bidi: embed;\n    white-space: pre-wrap;\n    word-wrap: break-word;\n    word-break: break-all;\n    font-family: \"Source Code Pro\", \"Menlo\", monospace;;\n    font-size: 13px;\n    color: #555;\n    margin-left: 4px;\n    line-height: 19px;\n  }\n</style>\n<div class=\"ansiout\">+--------+-----------------+\nmovie_id|      movie_names|\n+--------+-----------------+\n       1| Toy Story (1995)|\n       2| GoldenEye (1995)|\n       3|Four Rooms (1995)|\n       4|Get Shorty (1995)|\n       5|   Copycat (1995)|\n+--------+-----------------+\nonly showing top 5 rows\n\n</div>"
      ]
     },
     "metadata": {
      "application/vnd.databricks.v1+output": {
       "datasetInfos": [],
       "data": "<div class=\"ansiout\">+--------+-----------------+\n|movie_id|      movie_names|\n+--------+-----------------+\n|       1| Toy Story (1995)|\n|       2| GoldenEye (1995)|\n|       3|Four Rooms (1995)|\n|       4|Get Shorty (1995)|\n|       5|   Copycat (1995)|\n+--------+-----------------+\nonly showing top 5 rows\n\n</div>",
       "removedWidgets": [],
       "addedWidgets": {},
       "type": "html",
       "arguments": {}
      }
     },
     "output_type": "execute_result"
    }
   ],
   "source": [
    "df2=spark.read.schema(new_schema).option(\"sep\",\"|\").csv(\"dbfs:/FileStore/tables/u.item\")\n",
    "df2.show(5)"
   ]
  },
  {
   "cell_type": "code",
   "execution_count": 0,
   "metadata": {
    "application/vnd.databricks.v1+cell": {
     "title": "",
     "showTitle": false,
     "inputWidgets": {},
     "nuid": "11b34c26-2fe0-43dc-b3be-bb6cd20230eb"
    }
   },
   "outputs": [
    {
     "data": {
      "text/html": [
       "<style scoped>\n  .ansiout {\n    display: block;\n    unicode-bidi: embed;\n    white-space: pre-wrap;\n    word-wrap: break-word;\n    word-break: break-all;\n    font-family: \"Source Code Pro\", \"Menlo\", monospace;;\n    font-size: 13px;\n    color: #555;\n    margin-left: 4px;\n    line-height: 19px;\n  }\n</style>\n<div class=\"ansiout\">+--------+-----------------+\nmovie_id|      movie_names|\n+--------+-----------------+\n       1| Toy Story (1995)|\n       2| GoldenEye (1995)|\n       3|Four Rooms (1995)|\n       4|Get Shorty (1995)|\n       5|   Copycat (1995)|\n+--------+-----------------+\n\n</div>"
      ]
     },
     "metadata": {
      "application/vnd.databricks.v1+output": {
       "datasetInfos": [],
       "data": "<div class=\"ansiout\">+--------+-----------------+\n|movie_id|      movie_names|\n+--------+-----------------+\n|       1| Toy Story (1995)|\n|       2| GoldenEye (1995)|\n|       3|Four Rooms (1995)|\n|       4|Get Shorty (1995)|\n|       5|   Copycat (1995)|\n+--------+-----------------+\n\n</div>",
       "removedWidgets": [],
       "addedWidgets": {},
       "type": "html",
       "arguments": {}
      }
     },
     "output_type": "execute_result"
    }
   ],
   "source": [
    "df2.createOrReplaceTempView(\"movie\")\n",
    "spark.sql(\"select * from movie limit 5\").show()"
   ]
  },
  {
   "cell_type": "code",
   "execution_count": 0,
   "metadata": {
    "application/vnd.databricks.v1+cell": {
     "title": "",
     "showTitle": false,
     "inputWidgets": {},
     "nuid": "71f81a41-c6fc-4441-85d2-7b203b8c8e25"
    }
   },
   "outputs": [
    {
     "data": {
      "text/html": [
       "<style scoped>\n  .ansiout {\n    display: block;\n    unicode-bidi: embed;\n    white-space: pre-wrap;\n    word-wrap: break-word;\n    word-break: break-all;\n    font-family: \"Source Code Pro\", \"Menlo\", monospace;;\n    font-size: 13px;\n    color: #555;\n    margin-left: 4px;\n    line-height: 19px;\n  }\n</style>\n<div class=\"ansiout\">+-------+--------+------+---------+--------+--------------------+\nuser_id|movie_id|rating|timestamp|movie_id|         movie_names|\n+-------+--------+------+---------+--------+--------------------+\n    196|     242|     3|881250949|     242|        Kolya (1996)|\n    186|     302|     3|891717742|     302|L.A. Confidential...|\n     22|     377|     1|878887116|     377| Heavyweights (1994)|\n    244|      51|     2|880606923|      51|Legends of the Fa...|\n    166|     346|     1|886397596|     346| Jackie Brown (1997)|\n    298|     474|     4|884182806|     474|Dr. Strangelove o...|\n    115|     265|     2|881171488|     265|Hunt for Red Octo...|\n    253|     465|     5|891628467|     465|Jungle Book, The ...|\n    305|     451|     3|886324817|     451|       Grease (1978)|\n      6|      86|     3|883603013|      86|Remains of the Da...|\n+-------+--------+------+---------+--------+--------------------+\nonly showing top 10 rows\n\n</div>"
      ]
     },
     "metadata": {
      "application/vnd.databricks.v1+output": {
       "datasetInfos": [],
       "data": "<div class=\"ansiout\">+-------+--------+------+---------+--------+--------------------+\n|user_id|movie_id|rating|timestamp|movie_id|         movie_names|\n+-------+--------+------+---------+--------+--------------------+\n|    196|     242|     3|881250949|     242|        Kolya (1996)|\n|    186|     302|     3|891717742|     302|L.A. Confidential...|\n|     22|     377|     1|878887116|     377| Heavyweights (1994)|\n|    244|      51|     2|880606923|      51|Legends of the Fa...|\n|    166|     346|     1|886397596|     346| Jackie Brown (1997)|\n|    298|     474|     4|884182806|     474|Dr. Strangelove o...|\n|    115|     265|     2|881171488|     265|Hunt for Red Octo...|\n|    253|     465|     5|891628467|     465|Jungle Book, The ...|\n|    305|     451|     3|886324817|     451|       Grease (1978)|\n|      6|      86|     3|883603013|      86|Remains of the Da...|\n+-------+--------+------+---------+--------+--------------------+\nonly showing top 10 rows\n\n</div>",
       "removedWidgets": [],
       "addedWidgets": {},
       "type": "html",
       "arguments": {}
      }
     },
     "output_type": "execute_result"
    }
   ],
   "source": [
    "new_df.join(df2,new_df.movie_id==df2.movie_id,\"inner\").show(10)"
   ]
  },
  {
   "cell_type": "code",
   "execution_count": 0,
   "metadata": {
    "application/vnd.databricks.v1+cell": {
     "title": "",
     "showTitle": false,
     "inputWidgets": {},
     "nuid": "85a6e43c-ebb8-4c66-8f99-3d22c6d8ed48"
    }
   },
   "outputs": [
    {
     "data": {
      "text/html": [
       "<style scoped>\n  .ansiout {\n    display: block;\n    unicode-bidi: embed;\n    white-space: pre-wrap;\n    word-wrap: break-word;\n    word-break: break-all;\n    font-family: \"Source Code Pro\", \"Menlo\", monospace;;\n    font-size: 13px;\n    color: #555;\n    margin-left: 4px;\n    line-height: 19px;\n  }\n</style>\n<div class=\"ansiout\">+-------+--------+------+---------+--------------------+\nuser_id|movie_id|rating|timestamp|         movie_names|\n+-------+--------+------+---------+--------------------+\n    196|     242|     3|881250949|        Kolya (1996)|\n    186|     302|     3|891717742|L.A. Confidential...|\n     22|     377|     1|878887116| Heavyweights (1994)|\n    244|      51|     2|880606923|Legends of the Fa...|\n    166|     346|     1|886397596| Jackie Brown (1997)|\n    298|     474|     4|884182806|Dr. Strangelove o...|\n    115|     265|     2|881171488|Hunt for Red Octo...|\n    253|     465|     5|891628467|Jungle Book, The ...|\n    305|     451|     3|886324817|       Grease (1978)|\n      6|      86|     3|883603013|Remains of the Da...|\n+-------+--------+------+---------+--------------------+\nonly showing top 10 rows\n\n</div>"
      ]
     },
     "metadata": {
      "application/vnd.databricks.v1+output": {
       "datasetInfos": [],
       "data": "<div class=\"ansiout\">+-------+--------+------+---------+--------------------+\n|user_id|movie_id|rating|timestamp|         movie_names|\n+-------+--------+------+---------+--------------------+\n|    196|     242|     3|881250949|        Kolya (1996)|\n|    186|     302|     3|891717742|L.A. Confidential...|\n|     22|     377|     1|878887116| Heavyweights (1994)|\n|    244|      51|     2|880606923|Legends of the Fa...|\n|    166|     346|     1|886397596| Jackie Brown (1997)|\n|    298|     474|     4|884182806|Dr. Strangelove o...|\n|    115|     265|     2|881171488|Hunt for Red Octo...|\n|    253|     465|     5|891628467|Jungle Book, The ...|\n|    305|     451|     3|886324817|       Grease (1978)|\n|      6|      86|     3|883603013|Remains of the Da...|\n+-------+--------+------+---------+--------------------+\nonly showing top 10 rows\n\n</div>",
       "removedWidgets": [],
       "addedWidgets": {},
       "type": "html",
       "arguments": {}
      }
     },
     "output_type": "execute_result"
    }
   ],
   "source": [
    "spark.sql(\"select u.*,m.movie_names from user u inner join movie m on u.movie_id==m.movie_id\").show(10)"
   ]
  },
  {
   "cell_type": "code",
   "execution_count": 0,
   "metadata": {
    "application/vnd.databricks.v1+cell": {
     "title": "",
     "showTitle": false,
     "inputWidgets": {},
     "nuid": "d375da92-b39f-497a-b992-4182793d8e4a"
    }
   },
   "outputs": [
    {
     "data": {
      "text/html": [
       "<style scoped>\n  .ansiout {\n    display: block;\n    unicode-bidi: embed;\n    white-space: pre-wrap;\n    word-wrap: break-word;\n    word-break: break-all;\n    font-family: \"Source Code Pro\", \"Menlo\", monospace;;\n    font-size: 13px;\n    color: #555;\n    margin-left: 4px;\n    line-height: 19px;\n  }\n</style>\n<div class=\"ansiout\">+-------+--------+--------------------+------+---------+\nuser_id|movie_id|         movie_names|rating|timestamp|\n+-------+--------+--------------------+------+---------+\n    196|     242|        Kolya (1996)|     3|881250949|\n    186|     302|L.A. Confidential...|     3|891717742|\n     22|     377| Heavyweights (1994)|     1|878887116|\n    244|      51|Legends of the Fa...|     2|880606923|\n    166|     346| Jackie Brown (1997)|     1|886397596|\n    298|     474|Dr. Strangelove o...|     4|884182806|\n    115|     265|Hunt for Red Octo...|     2|881171488|\n    253|     465|Jungle Book, The ...|     5|891628467|\n    305|     451|       Grease (1978)|     3|886324817|\n      6|      86|Remains of the Da...|     3|883603013|\n+-------+--------+--------------------+------+---------+\nonly showing top 10 rows\n\n</div>"
      ]
     },
     "metadata": {
      "application/vnd.databricks.v1+output": {
       "datasetInfos": [],
       "data": "<div class=\"ansiout\">+-------+--------+--------------------+------+---------+\n|user_id|movie_id|         movie_names|rating|timestamp|\n+-------+--------+--------------------+------+---------+\n|    196|     242|        Kolya (1996)|     3|881250949|\n|    186|     302|L.A. Confidential...|     3|891717742|\n|     22|     377| Heavyweights (1994)|     1|878887116|\n|    244|      51|Legends of the Fa...|     2|880606923|\n|    166|     346| Jackie Brown (1997)|     1|886397596|\n|    298|     474|Dr. Strangelove o...|     4|884182806|\n|    115|     265|Hunt for Red Octo...|     2|881171488|\n|    253|     465|Jungle Book, The ...|     5|891628467|\n|    305|     451|       Grease (1978)|     3|886324817|\n|      6|      86|Remains of the Da...|     3|883603013|\n+-------+--------+--------------------+------+---------+\nonly showing top 10 rows\n\n</div>",
       "removedWidgets": [],
       "addedWidgets": {},
       "type": "html",
       "arguments": {}
      }
     },
     "output_type": "execute_result"
    }
   ],
   "source": [
    "final_df=spark.sql(\"select u.user_id,u.movie_id,m.movie_names,u.rating,u.timestamp from user u inner join movie m on u.movie_id==m.movie_id\")\n",
    "final_df.show(10)"
   ]
  },
  {
   "cell_type": "code",
   "execution_count": 0,
   "metadata": {
    "application/vnd.databricks.v1+cell": {
     "title": "",
     "showTitle": false,
     "inputWidgets": {},
     "nuid": "ab076a69-af84-4b6c-bf74-e3c9381cfd21"
    }
   },
   "outputs": [
    {
     "data": {
      "text/html": [
       "<style scoped>\n  .table-result-container {\n    max-height: 300px;\n    overflow: auto;\n  }\n  table, th, td {\n    border: 1px solid black;\n    border-collapse: collapse;\n  }\n  th, td {\n    padding: 5px;\n  }\n  th {\n    text-align: left;\n  }\n</style><div class='table-result-container'><table class='table-result'><thead style='background-color: white'><tr><th>user_id</th><th>movie_id</th><th>movie_names</th><th>rating</th><th>timestamp</th></tr></thead><tbody><tr><td>196</td><td>242</td><td>Kolya (1996)</td><td>3</td><td>881250949</td></tr><tr><td>186</td><td>302</td><td>L.A. Confidential (1997)</td><td>3</td><td>891717742</td></tr><tr><td>22</td><td>377</td><td>Heavyweights (1994)</td><td>1</td><td>878887116</td></tr><tr><td>244</td><td>51</td><td>Legends of the Fall (1994)</td><td>2</td><td>880606923</td></tr><tr><td>166</td><td>346</td><td>Jackie Brown (1997)</td><td>1</td><td>886397596</td></tr><tr><td>298</td><td>474</td><td>Dr. Strangelove or: How I Learned to Stop Worrying and Love the Bomb (1963)</td><td>4</td><td>884182806</td></tr><tr><td>115</td><td>265</td><td>Hunt for Red October, The (1990)</td><td>2</td><td>881171488</td></tr><tr><td>253</td><td>465</td><td>Jungle Book, The (1994)</td><td>5</td><td>891628467</td></tr><tr><td>305</td><td>451</td><td>Grease (1978)</td><td>3</td><td>886324817</td></tr><tr><td>6</td><td>86</td><td>Remains of the Day, The (1993)</td><td>3</td><td>883603013</td></tr><tr><td>62</td><td>257</td><td>Men in Black (1997)</td><td>2</td><td>879372434</td></tr><tr><td>286</td><td>1014</td><td>Romy and Michele's High School Reunion (1997)</td><td>5</td><td>879781125</td></tr><tr><td>200</td><td>222</td><td>Star Trek: First Contact (1996)</td><td>5</td><td>876042340</td></tr><tr><td>210</td><td>40</td><td>To Wong Foo, Thanks for Everything! Julie Newmar (1995)</td><td>3</td><td>891035994</td></tr><tr><td>224</td><td>29</td><td>Batman Forever (1995)</td><td>3</td><td>888104457</td></tr><tr><td>303</td><td>785</td><td>Only You (1994)</td><td>3</td><td>879485318</td></tr><tr><td>122</td><td>387</td><td>Age of Innocence, The (1993)</td><td>5</td><td>879270459</td></tr><tr><td>194</td><td>274</td><td>Sabrina (1995)</td><td>2</td><td>879539794</td></tr><tr><td>291</td><td>1042</td><td>Just Cause (1995)</td><td>4</td><td>874834944</td></tr><tr><td>234</td><td>1184</td><td>Endless Summer 2, The (1994)</td><td>2</td><td>892079237</td></tr><tr><td>119</td><td>392</td><td>Man Without a Face, The (1993)</td><td>4</td><td>886176814</td></tr><tr><td>167</td><td>486</td><td>Sabrina (1954)</td><td>4</td><td>892738452</td></tr><tr><td>299</td><td>144</td><td>Die Hard (1988)</td><td>4</td><td>877881320</td></tr><tr><td>291</td><td>118</td><td>Twister (1996)</td><td>2</td><td>874833878</td></tr><tr><td>308</td><td>1</td><td>Toy Story (1995)</td><td>4</td><td>887736532</td></tr><tr><td>95</td><td>546</td><td>Broken Arrow (1996)</td><td>2</td><td>879196566</td></tr><tr><td>38</td><td>95</td><td>Aladdin (1992)</td><td>5</td><td>892430094</td></tr><tr><td>102</td><td>768</td><td>Casper (1995)</td><td>2</td><td>883748450</td></tr><tr><td>63</td><td>277</td><td>Restoration (1995)</td><td>4</td><td>875747401</td></tr><tr><td>160</td><td>234</td><td>Jaws (1975)</td><td>5</td><td>876861185</td></tr><tr><td>50</td><td>246</td><td>Chasing Amy (1997)</td><td>3</td><td>877052329</td></tr><tr><td>301</td><td>98</td><td>Silence of the Lambs, The (1991)</td><td>4</td><td>882075827</td></tr><tr><td>225</td><td>193</td><td>Right Stuff, The (1983)</td><td>4</td><td>879539727</td></tr><tr><td>290</td><td>88</td><td>Sleepless in Seattle (1993)</td><td>4</td><td>880731963</td></tr><tr><td>97</td><td>194</td><td>Sting, The (1973)</td><td>3</td><td>884238860</td></tr><tr><td>157</td><td>274</td><td>Sabrina (1995)</td><td>4</td><td>886890835</td></tr><tr><td>181</td><td>1081</td><td>Curdled (1996)</td><td>1</td><td>878962623</td></tr><tr><td>278</td><td>603</td><td>Rear Window (1954)</td><td>5</td><td>891295330</td></tr><tr><td>276</td><td>796</td><td>Speechless (1994)</td><td>1</td><td>874791932</td></tr><tr><td>7</td><td>32</td><td>Crumb (1994)</td><td>4</td><td>891350932</td></tr><tr><td>10</td><td>16</td><td>French Twist (Gazon maudit) (1995)</td><td>4</td><td>877888877</td></tr><tr><td>284</td><td>304</td><td>Fly Away Home (1996)</td><td>4</td><td>885329322</td></tr><tr><td>201</td><td>979</td><td>Trigger Effect, The (1996)</td><td>2</td><td>884114233</td></tr><tr><td>276</td><td>564</td><td>Tales from the Hood (1995)</td><td>3</td><td>874791805</td></tr><tr><td>287</td><td>327</td><td>Cop Land (1997)</td><td>5</td><td>875333916</td></tr><tr><td>246</td><td>201</td><td>Evil Dead II (1987)</td><td>5</td><td>884921594</td></tr><tr><td>242</td><td>1137</td><td>Beautiful Thing (1996)</td><td>5</td><td>879741196</td></tr><tr><td>249</td><td>241</td><td>Last of the Mohicans, The (1992)</td><td>5</td><td>879641194</td></tr><tr><td>99</td><td>4</td><td>Get Shorty (1995)</td><td>5</td><td>886519097</td></tr><tr><td>178</td><td>332</td><td>Kiss the Girls (1997)</td><td>3</td><td>882823437</td></tr><tr><td>251</td><td>100</td><td>Fargo (1996)</td><td>4</td><td>886271884</td></tr><tr><td>81</td><td>432</td><td>Fantasia (1940)</td><td>2</td><td>876535131</td></tr><tr><td>260</td><td>322</td><td>Murder at 1600 (1997)</td><td>4</td><td>890618898</td></tr><tr><td>25</td><td>181</td><td>Return of the Jedi (1983)</td><td>5</td><td>885853415</td></tr><tr><td>59</td><td>196</td><td>Dead Poets Society (1989)</td><td>5</td><td>888205088</td></tr><tr><td>72</td><td>679</td><td>Conan the Barbarian (1981)</td><td>2</td><td>880037164</td></tr><tr><td>87</td><td>384</td><td>Naked Gun 33 1/3: The Final Insult (1994)</td><td>4</td><td>879877127</td></tr><tr><td>290</td><td>143</td><td>Sound of Music, The (1965)</td><td>5</td><td>880474293</td></tr><tr><td>42</td><td>423</td><td>E.T. the Extra-Terrestrial (1982)</td><td>5</td><td>881107687</td></tr><tr><td>292</td><td>515</td><td>Boot, Das (1981)</td><td>4</td><td>881103977</td></tr><tr><td>115</td><td>20</td><td>Angels and Insects (1995)</td><td>3</td><td>881171009</td></tr><tr><td>20</td><td>288</td><td>Scream (1996)</td><td>1</td><td>879667584</td></tr><tr><td>201</td><td>219</td><td>Nightmare on Elm Street, A (1984)</td><td>4</td><td>884112673</td></tr><tr><td>13</td><td>526</td><td>Ben-Hur (1959)</td><td>3</td><td>882141053</td></tr><tr><td>246</td><td>919</td><td>City of Lost Children, The (1995)</td><td>4</td><td>884920949</td></tr><tr><td>138</td><td>26</td><td>Brothers McMullen, The (1995)</td><td>5</td><td>879024232</td></tr><tr><td>167</td><td>232</td><td>Young Guns (1988)</td><td>1</td><td>892738341</td></tr><tr><td>60</td><td>427</td><td>To Kill a Mockingbird (1962)</td><td>5</td><td>883326620</td></tr><tr><td>57</td><td>304</td><td>Fly Away Home (1996)</td><td>5</td><td>883698581</td></tr><tr><td>223</td><td>274</td><td>Sabrina (1995)</td><td>4</td><td>891550094</td></tr><tr><td>189</td><td>512</td><td>Wings of Desire (1987)</td><td>4</td><td>893277702</td></tr><tr><td>243</td><td>15</td><td>Mr. Holland's Opus (1995)</td><td>3</td><td>879987440</td></tr><tr><td>92</td><td>1049</td><td>House Arrest (1996)</td><td>1</td><td>890251826</td></tr><tr><td>246</td><td>416</td><td>Old Yeller (1957)</td><td>3</td><td>884923047</td></tr><tr><td>194</td><td>165</td><td>Jean de Florette (1986)</td><td>4</td><td>879546723</td></tr><tr><td>241</td><td>690</td><td>Seven Years in Tibet (1997)</td><td>2</td><td>887249482</td></tr><tr><td>178</td><td>248</td><td>Grosse Pointe Blank (1997)</td><td>4</td><td>882823954</td></tr><tr><td>254</td><td>1444</td><td>That Darn Cat! (1965)</td><td>3</td><td>886475558</td></tr><tr><td>293</td><td>5</td><td>Copycat (1995)</td><td>3</td><td>888906576</td></tr><tr><td>127</td><td>229</td><td>Star Trek III: The Search for Spock (1984)</td><td>5</td><td>884364867</td></tr><tr><td>225</td><td>237</td><td>Jerry Maguire (1996)</td><td>5</td><td>879539643</td></tr><tr><td>299</td><td>229</td><td>Star Trek III: The Search for Spock (1984)</td><td>3</td><td>878192429</td></tr><tr><td>225</td><td>480</td><td>North by Northwest (1959)</td><td>5</td><td>879540748</td></tr><tr><td>276</td><td>54</td><td>Outbreak (1995)</td><td>3</td><td>874791025</td></tr><tr><td>291</td><td>144</td><td>Die Hard (1988)</td><td>5</td><td>874835091</td></tr><tr><td>222</td><td>366</td><td>Dangerous Minds (1995)</td><td>4</td><td>878183381</td></tr><tr><td>267</td><td>518</td><td>Miller's Crossing (1990)</td><td>5</td><td>878971773</td></tr><tr><td>42</td><td>403</td><td>Batman (1989)</td><td>3</td><td>881108684</td></tr><tr><td>11</td><td>111</td><td>Truth About Cats & Dogs, The (1996)</td><td>4</td><td>891903862</td></tr><tr><td>95</td><td>625</td><td>Sword in the Stone, The (1963)</td><td>4</td><td>888954412</td></tr><tr><td>8</td><td>338</td><td>Bean (1997)</td><td>4</td><td>879361873</td></tr><tr><td>162</td><td>25</td><td>Birdcage, The (1996)</td><td>4</td><td>877635573</td></tr><tr><td>87</td><td>1016</td><td>Con Air (1997)</td><td>4</td><td>879876194</td></tr><tr><td>279</td><td>154</td><td>Monty Python's Life of Brian (1979)</td><td>5</td><td>875296291</td></tr><tr><td>145</td><td>275</td><td>Sense and Sensibility (1995)</td><td>2</td><td>885557505</td></tr><tr><td>119</td><td>1153</td><td>Backbeat (1993)</td><td>5</td><td>874781198</td></tr><tr><td>62</td><td>498</td><td>African Queen, The (1951)</td><td>4</td><td>879373848</td></tr><tr><td>62</td><td>382</td><td>Adventures of Priscilla, Queen of the Desert, The (1994)</td><td>3</td><td>879375537</td></tr><tr><td>28</td><td>209</td><td>This Is Spinal Tap (1984)</td><td>4</td><td>881961214</td></tr><tr><td>135</td><td>23</td><td>Taxi Driver (1976)</td><td>4</td><td>879857765</td></tr><tr><td>32</td><td>294</td><td>Liar Liar (1997)</td><td>3</td><td>883709863</td></tr><tr><td>90</td><td>382</td><td>Adventures of Priscilla, Queen of the Desert, The (1994)</td><td>5</td><td>891383835</td></tr><tr><td>286</td><td>208</td><td>Young Frankenstein (1974)</td><td>4</td><td>877531942</td></tr><tr><td>293</td><td>685</td><td>Executive Decision (1996)</td><td>3</td><td>888905170</td></tr><tr><td>216</td><td>144</td><td>Die Hard (1988)</td><td>4</td><td>880234639</td></tr><tr><td>166</td><td>328</td><td>Conspiracy Theory (1997)</td><td>5</td><td>886397722</td></tr><tr><td>250</td><td>496</td><td>It's a Wonderful Life (1946)</td><td>4</td><td>878090499</td></tr><tr><td>271</td><td>132</td><td>Wizard of Oz, The (1939)</td><td>5</td><td>885848672</td></tr><tr><td>160</td><td>174</td><td>Raiders of the Lost Ark (1981)</td><td>5</td><td>876860807</td></tr><tr><td>265</td><td>118</td><td>Twister (1996)</td><td>4</td><td>875320714</td></tr><tr><td>198</td><td>498</td><td>African Queen, The (1951)</td><td>3</td><td>884207492</td></tr><tr><td>42</td><td>96</td><td>Terminator 2: Judgment Day (1991)</td><td>5</td><td>881107178</td></tr><tr><td>168</td><td>151</td><td>Willy Wonka and the Chocolate Factory (1971)</td><td>5</td><td>884288058</td></tr><tr><td>110</td><td>307</td><td>Devil's Advocate, The (1997)</td><td>4</td><td>886987260</td></tr><tr><td>58</td><td>144</td><td>Die Hard (1988)</td><td>4</td><td>884304936</td></tr><tr><td>90</td><td>648</td><td>Quiet Man, The (1952)</td><td>4</td><td>891384754</td></tr><tr><td>271</td><td>346</td><td>Jackie Brown (1997)</td><td>4</td><td>885844430</td></tr><tr><td>62</td><td>21</td><td>Muppet Treasure Island (1996)</td><td>3</td><td>879373460</td></tr><tr><td>279</td><td>832</td><td>Bogus (1996)</td><td>3</td><td>881375854</td></tr><tr><td>237</td><td>514</td><td>Annie Hall (1977)</td><td>4</td><td>879376641</td></tr><tr><td>94</td><td>789</td><td>Swimming with Sharks (1995)</td><td>4</td><td>891720887</td></tr><tr><td>128</td><td>485</td><td>My Fair Lady (1964)</td><td>3</td><td>879966895</td></tr><tr><td>298</td><td>317</td><td>In the Name of the Father (1993)</td><td>4</td><td>884182806</td></tr><tr><td>44</td><td>195</td><td>Terminator, The (1984)</td><td>5</td><td>878347874</td></tr><tr><td>264</td><td>200</td><td>Shining, The (1980)</td><td>5</td><td>886122352</td></tr><tr><td>194</td><td>385</td><td>True Lies (1994)</td><td>2</td><td>879524643</td></tr><tr><td>72</td><td>195</td><td>Terminator, The (1984)</td><td>5</td><td>880037702</td></tr><tr><td>222</td><td>750</td><td>Amistad (1997)</td><td>5</td><td>883815120</td></tr><tr><td>250</td><td>264</td><td>Mimic (1997)</td><td>3</td><td>878089182</td></tr><tr><td>41</td><td>265</td><td>Hunt for Red October, The (1990)</td><td>3</td><td>890687042</td></tr><tr><td>224</td><td>245</td><td>Devil's Own, The (1997)</td><td>3</td><td>888082216</td></tr><tr><td>82</td><td>135</td><td>2001: A Space Odyssey (1968)</td><td>3</td><td>878769629</td></tr><tr><td>262</td><td>1147</td><td>My Family (1995)</td><td>4</td><td>879791710</td></tr><tr><td>293</td><td>471</td><td>Courage Under Fire (1996)</td><td>3</td><td>888904884</td></tr><tr><td>216</td><td>658</td><td>Pump Up the Volume (1990)</td><td>3</td><td>880245029</td></tr><tr><td>250</td><td>140</td><td>Homeward Bound: The Incredible Journey (1993)</td><td>3</td><td>878092059</td></tr><tr><td>59</td><td>23</td><td>Taxi Driver (1976)</td><td>5</td><td>888205300</td></tr><tr><td>286</td><td>379</td><td>Tales From the Crypt Presents: Demon Knight (1995)</td><td>5</td><td>877533771</td></tr><tr><td>244</td><td>815</td><td>One Fine Day (1996)</td><td>4</td><td>880605185</td></tr><tr><td>7</td><td>479</td><td>Vertigo (1958)</td><td>4</td><td>891352010</td></tr><tr><td>174</td><td>368</td><td>Bio-Dome (1996)</td><td>1</td><td>886434402</td></tr><tr><td>87</td><td>274</td><td>Sabrina (1995)</td><td>4</td><td>879876734</td></tr><tr><td>194</td><td>1211</td><td>Blue Sky (1994)</td><td>2</td><td>879551380</td></tr><tr><td>82</td><td>1134</td><td>Get on the Bus (1996)</td><td>2</td><td>884714402</td></tr><tr><td>13</td><td>836</td><td>Ninotchka (1939)</td><td>2</td><td>882139746</td></tr><tr><td>13</td><td>272</td><td>Good Will Hunting (1997)</td><td>4</td><td>884538403</td></tr><tr><td>244</td><td>756</td><td>Father of the Bride Part II (1995)</td><td>2</td><td>880605157</td></tr><tr><td>305</td><td>427</td><td>To Kill a Mockingbird (1962)</td><td>5</td><td>886323090</td></tr><tr><td>95</td><td>787</td><td>Roommates (1995)</td><td>2</td><td>888954930</td></tr><tr><td>43</td><td>14</td><td>Postino, Il (1994)</td><td>2</td><td>883955745</td></tr><tr><td>299</td><td>955</td><td>Before Sunrise (1995)</td><td>4</td><td>889502823</td></tr><tr><td>57</td><td>419</td><td>Mary Poppins (1964)</td><td>3</td><td>883698454</td></tr><tr><td>84</td><td>405</td><td>Mission: Impossible (1996)</td><td>3</td><td>883452363</td></tr><tr><td>269</td><td>504</td><td>Bonnie and Clyde (1967)</td><td>4</td><td>891449922</td></tr><tr><td>299</td><td>111</td><td>Truth About Cats & Dogs, The (1996)</td><td>3</td><td>877878184</td></tr><tr><td>194</td><td>466</td><td>Red Rock West (1992)</td><td>4</td><td>879525876</td></tr><tr><td>160</td><td>135</td><td>2001: A Space Odyssey (1968)</td><td>4</td><td>876860807</td></tr><tr><td>99</td><td>268</td><td>Chasing Amy (1997)</td><td>3</td><td>885678247</td></tr><tr><td>10</td><td>486</td><td>Sabrina (1954)</td><td>4</td><td>877886846</td></tr><tr><td>259</td><td>117</td><td>Rock, The (1996)</td><td>4</td><td>874724988</td></tr><tr><td>85</td><td>427</td><td>To Kill a Mockingbird (1962)</td><td>3</td><td>879456350</td></tr><tr><td>303</td><td>919</td><td>City of Lost Children, The (1995)</td><td>4</td><td>879467295</td></tr><tr><td>213</td><td>273</td><td>Heat (1995)</td><td>5</td><td>878870987</td></tr><tr><td>121</td><td>514</td><td>Annie Hall (1977)</td><td>3</td><td>891387947</td></tr><tr><td>90</td><td>98</td><td>Silence of the Lambs, The (1991)</td><td>5</td><td>891383204</td></tr><tr><td>49</td><td>559</td><td>Interview with the Vampire (1994)</td><td>2</td><td>888067405</td></tr><tr><td>42</td><td>794</td><td>It Could Happen to You (1994)</td><td>3</td><td>881108425</td></tr><tr><td>155</td><td>323</td><td>Dante's Peak (1997)</td><td>2</td><td>879371261</td></tr><tr><td>68</td><td>117</td><td>Rock, The (1996)</td><td>4</td><td>876973939</td></tr><tr><td>172</td><td>177</td><td>Good, The Bad and The Ugly, The (1966)</td><td>4</td><td>875537965</td></tr><tr><td>19</td><td>4</td><td>Get Shorty (1995)</td><td>4</td><td>885412840</td></tr><tr><td>268</td><td>231</td><td>Batman Returns (1992)</td><td>4</td><td>875744136</td></tr><tr><td>5</td><td>2</td><td>GoldenEye (1995)</td><td>3</td><td>875636053</td></tr><tr><td>305</td><td>117</td><td>Rock, The (1996)</td><td>2</td><td>886324028</td></tr><tr><td>44</td><td>294</td><td>Liar Liar (1997)</td><td>4</td><td>883612356</td></tr><tr><td>43</td><td>137</td><td>Big Night (1996)</td><td>4</td><td>875975656</td></tr><tr><td>279</td><td>1336</td><td>Kazaam (1996)</td><td>1</td><td>875298353</td></tr><tr><td>80</td><td>466</td><td>Red Rock West (1992)</td><td>5</td><td>887401701</td></tr><tr><td>254</td><td>164</td><td>Abyss, The (1989)</td><td>4</td><td>886472768</td></tr><tr><td>298</td><td>281</td><td>River Wild, The (1994)</td><td>3</td><td>884183336</td></tr><tr><td>279</td><td>1240</td><td>Ghost in the Shell (Kokaku kidotai) (1995)</td><td>1</td><td>892174404</td></tr><tr><td>66</td><td>298</td><td>Face/Off (1997)</td><td>4</td><td>883601324</td></tr><tr><td>18</td><td>443</td><td>Birds, The (1963)</td><td>3</td><td>880130193</td></tr><tr><td>268</td><td>1035</td><td>Cool Runnings (1993)</td><td>2</td><td>875542174</td></tr><tr><td>99</td><td>79</td><td>Fugitive, The (1993)</td><td>4</td><td>885680138</td></tr><tr><td>13</td><td>98</td><td>Silence of the Lambs, The (1991)</td><td>4</td><td>881515011</td></tr><tr><td>26</td><td>258</td><td>Contact (1997)</td><td>3</td><td>891347949</td></tr><tr><td>7</td><td>455</td><td>Jackie Chan's First Strike (1996)</td><td>4</td><td>891353086</td></tr><tr><td>222</td><td>755</td><td>Jumanji (1995)</td><td>4</td><td>878183481</td></tr><tr><td>200</td><td>673</td><td>Cape Fear (1962)</td><td>5</td><td>884128554</td></tr><tr><td>119</td><td>328</td><td>Conspiracy Theory (1997)</td><td>4</td><td>876923913</td></tr><tr><td>213</td><td>172</td><td>Empire Strikes Back, The (1980)</td><td>5</td><td>878955442</td></tr><tr><td>276</td><td>322</td><td>Murder at 1600 (1997)</td><td>3</td><td>874786392</td></tr><tr><td>94</td><td>1217</td><td>Assassins (1995)</td><td>3</td><td>891723086</td></tr><tr><td>130</td><td>379</td><td>Tales From the Crypt Presents: Demon Knight (1995)</td><td>4</td><td>875801662</td></tr><tr><td>38</td><td>328</td><td>Conspiracy Theory (1997)</td><td>4</td><td>892428688</td></tr><tr><td>160</td><td>719</td><td>Canadian Bacon (1994)</td><td>3</td><td>876857977</td></tr><tr><td>293</td><td>1267</td><td>Clockers (1995)</td><td>3</td><td>888906966</td></tr><tr><td>26</td><td>930</td><td>Chain Reaction (1996)</td><td>2</td><td>891385985</td></tr><tr><td>130</td><td>216</td><td>When Harry Met Sally... (1989)</td><td>4</td><td>875216545</td></tr><tr><td>92</td><td>1079</td><td>Joe's Apartment (1996)</td><td>3</td><td>886443455</td></tr><tr><td>256</td><td>452</td><td>Jaws 2 (1978)</td><td>4</td><td>882164999</td></tr><tr><td>1</td><td>61</td><td>Three Colors: White (1994)</td><td>4</td><td>878542420</td></tr><tr><td>72</td><td>48</td><td>Hoop Dreams (1994)</td><td>4</td><td>880036718</td></tr><tr><td>56</td><td>755</td><td>Jumanji (1995)</td><td>3</td><td>892910207</td></tr><tr><td>13</td><td>360</td><td>Wonderland (1997)</td><td>4</td><td>882140926</td></tr><tr><td>15</td><td>405</td><td>Mission: Impossible (1996)</td><td>2</td><td>879455957</td></tr><tr><td>92</td><td>77</td><td>Firm, The (1993)</td><td>3</td><td>875654637</td></tr><tr><td>207</td><td>476</td><td>First Wives Club, The (1996)</td><td>2</td><td>884386343</td></tr><tr><td>292</td><td>174</td><td>Raiders of the Lost Ark (1981)</td><td>5</td><td>881105481</td></tr><tr><td>232</td><td>483</td><td>Casablanca (1942)</td><td>5</td><td>888549622</td></tr><tr><td>251</td><td>748</td><td>Saint, The (1997)</td><td>2</td><td>886272175</td></tr><tr><td>224</td><td>26</td><td>Brothers McMullen, The (1995)</td><td>3</td><td>888104153</td></tr><tr><td>181</td><td>220</td><td>Mirror Has Two Faces, The (1996)</td><td>4</td><td>878962392</td></tr><tr><td>259</td><td>255</td><td>My Best Friend's Wedding (1997)</td><td>4</td><td>874724710</td></tr><tr><td>305</td><td>471</td><td>Courage Under Fire (1996)</td><td>4</td><td>886323648</td></tr><tr><td>52</td><td>280</td><td>Up Close and Personal (1996)</td><td>3</td><td>882922806</td></tr><tr><td>161</td><td>202</td><td>Groundhog Day (1993)</td><td>5</td><td>891170769</td></tr><tr><td>148</td><td>408</td><td>Close Shave, A (1995)</td><td>5</td><td>877399018</td></tr><tr><td>125</td><td>235</td><td>Mars Attacks! (1996)</td><td>2</td><td>892838559</td></tr><tr><td>97</td><td>228</td><td>Star Trek: The Wrath of Khan (1982)</td><td>5</td><td>884238860</td></tr><tr><td>58</td><td>1098</td><td>Flirting With Disaster (1996)</td><td>4</td><td>884304936</td></tr><tr><td>83</td><td>234</td><td>Jaws (1975)</td><td>4</td><td>887665548</td></tr><tr><td>90</td><td>347</td><td>Wag the Dog (1997)</td><td>4</td><td>891383319</td></tr><tr><td>272</td><td>178</td><td>12 Angry Men (1957)</td><td>5</td><td>879455113</td></tr><tr><td>194</td><td>181</td><td>Return of the Jedi (1983)</td><td>3</td><td>879521396</td></tr><tr><td>125</td><td>478</td><td>Philadelphia Story, The (1940)</td><td>4</td><td>879454628</td></tr><tr><td>110</td><td>688</td><td>Leave It to Beaver (1997)</td><td>1</td><td>886987605</td></tr><tr><td>299</td><td>14</td><td>Postino, Il (1994)</td><td>4</td><td>877877775</td></tr><tr><td>151</td><td>10</td><td>Richard III (1995)</td><td>5</td><td>879524921</td></tr><tr><td>269</td><td>127</td><td>Godfather, The (1972)</td><td>4</td><td>891446165</td></tr><tr><td>6</td><td>14</td><td>Postino, Il (1994)</td><td>5</td><td>883599249</td></tr><tr><td>54</td><td>106</td><td>Diabolique (1996)</td><td>3</td><td>880937882</td></tr><tr><td>303</td><td>69</td><td>Forrest Gump (1994)</td><td>5</td><td>879467542</td></tr><tr><td>16</td><td>944</td><td>Renaissance Man (1994)</td><td>1</td><td>877727122</td></tr><tr><td>301</td><td>790</td><td>Tommy Boy (1995)</td><td>4</td><td>882078621</td></tr><tr><td>276</td><td>1091</td><td>Pete's Dragon (1977)</td><td>3</td><td>874793035</td></tr><tr><td>305</td><td>214</td><td>Pink Floyd - The Wall (1982)</td><td>2</td><td>886323068</td></tr><tr><td>194</td><td>1028</td><td>Grumpier Old Men (1995)</td><td>2</td><td>879541148</td></tr><tr><td>91</td><td>323</td><td>Dante's Peak (1997)</td><td>2</td><td>891438397</td></tr><tr><td>87</td><td>554</td><td>Waterworld (1995)</td><td>4</td><td>879875940</td></tr><tr><td>294</td><td>109</td><td>Mystery Science Theater 3000: The Movie (1996)</td><td>4</td><td>877819599</td></tr><tr><td>286</td><td>171</td><td>Delicatessen (1991)</td><td>4</td><td>877531791</td></tr><tr><td>200</td><td>318</td><td>Schindler's List (1993)</td><td>5</td><td>884128458</td></tr><tr><td>229</td><td>328</td><td>Conspiracy Theory (1997)</td><td>1</td><td>891632142</td></tr><tr><td>178</td><td>568</td><td>Speed (1994)</td><td>4</td><td>882826555</td></tr><tr><td>303</td><td>842</td><td>Pollyanna (1960)</td><td>2</td><td>879484804</td></tr><tr><td>62</td><td>65</td><td>What's Eating Gilbert Grape (1993)</td><td>4</td><td>879374686</td></tr><tr><td>207</td><td>591</td><td>Primal Fear (1996)</td><td>3</td><td>876018608</td></tr><tr><td>92</td><td>172</td><td>Empire Strikes Back, The (1980)</td><td>4</td><td>875653271</td></tr><tr><td>301</td><td>401</td><td>Brady Bunch Movie, The (1995)</td><td>4</td><td>882078040</td></tr><tr><td>36</td><td>339</td><td>Mad City (1997)</td><td>5</td><td>882157581</td></tr><tr><td>70</td><td>746</td><td>Real Genius (1985)</td><td>3</td><td>884150257</td></tr><tr><td>63</td><td>242</td><td>Kolya (1996)</td><td>3</td><td>875747190</td></tr><tr><td>28</td><td>201</td><td>Evil Dead II (1987)</td><td>3</td><td>881961671</td></tr><tr><td>279</td><td>68</td><td>Crow, The (1994)</td><td>4</td><td>875307407</td></tr><tr><td>250</td><td>7</td><td>Twelve Monkeys (1995)</td><td>4</td><td>878089716</td></tr><tr><td>14</td><td>98</td><td>Silence of the Lambs, The (1991)</td><td>3</td><td>890881335</td></tr><tr><td>299</td><td>1018</td><td>Tie Me Up! Tie Me Down! (1990)</td><td>3</td><td>889502324</td></tr><tr><td>194</td><td>54</td><td>Outbreak (1995)</td><td>3</td><td>879525876</td></tr><tr><td>303</td><td>815</td><td>One Fine Day (1996)</td><td>3</td><td>879485532</td></tr><tr><td>119</td><td>237</td><td>Jerry Maguire (1996)</td><td>5</td><td>874775038</td></tr><tr><td>295</td><td>218</td><td>Cape Fear (1991)</td><td>5</td><td>879966498</td></tr><tr><td>268</td><td>930</td><td>Chain Reaction (1996)</td><td>2</td><td>875742942</td></tr><tr><td>268</td><td>2</td><td>GoldenEye (1995)</td><td>2</td><td>875744173</td></tr><tr><td>66</td><td>258</td><td>Contact (1997)</td><td>4</td><td>883601089</td></tr><tr><td>233</td><td>202</td><td>Groundhog Day (1993)</td><td>5</td><td>879394264</td></tr><tr><td>83</td><td>623</td><td>Angels in the Outfield (1994)</td><td>4</td><td>880308578</td></tr><tr><td>214</td><td>334</td><td>U Turn (1997)</td><td>3</td><td>891542540</td></tr><tr><td>192</td><td>476</td><td>First Wives Club, The (1996)</td><td>2</td><td>881368243</td></tr><tr><td>100</td><td>344</td><td>Apostle, The (1997)</td><td>4</td><td>891374868</td></tr><tr><td>268</td><td>145</td><td>Lawnmower Man, The (1992)</td><td>1</td><td>875744501</td></tr><tr><td>301</td><td>56</td><td>Pulp Fiction (1994)</td><td>4</td><td>882076587</td></tr><tr><td>307</td><td>89</td><td>Blade Runner (1982)</td><td>5</td><td>879283786</td></tr><tr><td>234</td><td>141</td><td>20,000 Leagues Under the Sea (1954)</td><td>3</td><td>892334609</td></tr><tr><td>83</td><td>576</td><td>Cliffhanger (1993)</td><td>4</td><td>880308755</td></tr><tr><td>181</td><td>264</td><td>Mimic (1997)</td><td>2</td><td>878961624</td></tr><tr><td>297</td><td>133</td><td>Gone with the Wind (1939)</td><td>4</td><td>875240090</td></tr><tr><td>38</td><td>153</td><td>Fish Called Wanda, A (1988)</td><td>5</td><td>892430369</td></tr><tr><td>7</td><td>382</td><td>Adventures of Priscilla, Queen of the Desert, The (1994)</td><td>4</td><td>891352093</td></tr><tr><td>264</td><td>813</td><td>Celluloid Closet, The (1995)</td><td>4</td><td>886122952</td></tr><tr><td>181</td><td>872</td><td>Love Jones (1997)</td><td>1</td><td>878961814</td></tr><tr><td>201</td><td>146</td><td>Unhook the Stars (1996)</td><td>1</td><td>884140579</td></tr><tr><td>85</td><td>507</td><td>Streetcar Named Desire, A (1951)</td><td>4</td><td>879456199</td></tr><tr><td>269</td><td>367</td><td>Clueless (1995)</td><td>3</td><td>891450023</td></tr><tr><td>59</td><td>468</td><td>Rudy (1993)</td><td>3</td><td>888205855</td></tr><tr><td>286</td><td>143</td><td>Sound of Music, The (1965)</td><td>4</td><td>889651549</td></tr><tr><td>193</td><td>96</td><td>Terminator 2: Judgment Day (1991)</td><td>1</td><td>889124507</td></tr><tr><td>113</td><td>595</td><td>Fan, The (1996)</td><td>5</td><td>875936424</td></tr><tr><td>292</td><td>11</td><td>Seven (Se7en) (1995)</td><td>5</td><td>881104093</td></tr><tr><td>130</td><td>1014</td><td>Romy and Michele's High School Reunion (1997)</td><td>3</td><td>876250718</td></tr><tr><td>275</td><td>98</td><td>Silence of the Lambs, The (1991)</td><td>4</td><td>875155140</td></tr><tr><td>189</td><td>520</td><td>Great Escape, The (1963)</td><td>5</td><td>893265380</td></tr><tr><td>219</td><td>82</td><td>Jurassic Park (1993)</td><td>1</td><td>889452455</td></tr><tr><td>218</td><td>209</td><td>This Is Spinal Tap (1984)</td><td>5</td><td>877488546</td></tr><tr><td>123</td><td>427</td><td>To Kill a Mockingbird (1962)</td><td>3</td><td>879873020</td></tr><tr><td>119</td><td>222</td><td>Star Trek: First Contact (1996)</td><td>5</td><td>874775311</td></tr><tr><td>158</td><td>177</td><td>Good, The Bad and The Ugly, The (1966)</td><td>4</td><td>880134407</td></tr><tr><td>222</td><td>118</td><td>Twister (1996)</td><td>4</td><td>877563802</td></tr><tr><td>302</td><td>322</td><td>Murder at 1600 (1997)</td><td>2</td><td>879436875</td></tr><tr><td>279</td><td>501</td><td>Dumbo (1941)</td><td>3</td><td>875308843</td></tr><tr><td>301</td><td>79</td><td>Fugitive, The (1993)</td><td>5</td><td>882076403</td></tr><tr><td>181</td><td>3</td><td>Four Rooms (1995)</td><td>2</td><td>878963441</td></tr><tr><td>201</td><td>695</td><td>Kicking and Screaming (1995)</td><td>1</td><td>884140115</td></tr><tr><td>13</td><td>198</td><td>Nikita (La Femme Nikita) (1990)</td><td>3</td><td>881515193</td></tr><tr><td>1</td><td>189</td><td>Grand Day Out, A (1992)</td><td>3</td><td>888732928</td></tr><tr><td>145</td><td>237</td><td>Jerry Maguire (1996)</td><td>5</td><td>875270570</td></tr><tr><td>23</td><td>385</td><td>True Lies (1994)</td><td>4</td><td>874786462</td></tr><tr><td>201</td><td>767</td><td>Addiction, The (1995)</td><td>4</td><td>884114505</td></tr><tr><td>296</td><td>705</td><td>Singin' in the Rain (1952)</td><td>5</td><td>884197193</td></tr><tr><td>42</td><td>546</td><td>Broken Arrow (1996)</td><td>3</td><td>881105817</td></tr><tr><td>33</td><td>872</td><td>Love Jones (1997)</td><td>3</td><td>891964230</td></tr><tr><td>301</td><td>554</td><td>Waterworld (1995)</td><td>3</td><td>882078830</td></tr><tr><td>16</td><td>64</td><td>Shawshank Redemption, The (1994)</td><td>5</td><td>877720297</td></tr><tr><td>95</td><td>135</td><td>2001: A Space Odyssey (1968)</td><td>3</td><td>879197562</td></tr><tr><td>154</td><td>357</td><td>One Flew Over the Cuckoo's Nest (1975)</td><td>4</td><td>879138713</td></tr><tr><td>77</td><td>484</td><td>Maltese Falcon, The (1941)</td><td>5</td><td>884733766</td></tr><tr><td>296</td><td>508</td><td>People vs. Larry Flynt, The (1996)</td><td>5</td><td>884196584</td></tr><tr><td>302</td><td>303</td><td>Ulee's Gold (1997)</td><td>2</td><td>879436785</td></tr><tr><td>244</td><td>673</td><td>Cape Fear (1962)</td><td>3</td><td>880606667</td></tr><tr><td>222</td><td>77</td><td>Firm, The (1993)</td><td>4</td><td>878183616</td></tr><tr><td>13</td><td>215</td><td>Field of Dreams (1989)</td><td>5</td><td>882140588</td></tr><tr><td>16</td><td>705</td><td>Singin' in the Rain (1952)</td><td>5</td><td>877722736</td></tr><tr><td>270</td><td>452</td><td>Jaws 2 (1978)</td><td>4</td><td>876956264</td></tr><tr><td>145</td><td>15</td><td>Mr. Holland's Opus (1995)</td><td>2</td><td>875270655</td></tr><tr><td>187</td><td>64</td><td>Shawshank Redemption, The (1994)</td><td>5</td><td>879465631</td></tr><tr><td>200</td><td>304</td><td>Fly Away Home (1996)</td><td>5</td><td>876041644</td></tr><tr><td>170</td><td>749</td><td>MatchMaker, The (1997)</td><td>5</td><td>887646170</td></tr><tr><td>101</td><td>829</td><td>Fled (1996)</td><td>3</td><td>877136138</td></tr><tr><td>184</td><td>218</td><td>Cape Fear (1991)</td><td>3</td><td>889909840</td></tr><tr><td>128</td><td>204</td><td>Back to the Future (1985)</td><td>4</td><td>879967478</td></tr><tr><td>181</td><td>1295</td><td>Kicked in the Head (1997)</td><td>1</td><td>878961781</td></tr><tr><td>184</td><td>153</td><td>Fish Called Wanda, A (1988)</td><td>3</td><td>889911285</td></tr><tr><td>1</td><td>33</td><td>Desperado (1995)</td><td>4</td><td>878542699</td></tr><tr><td>1</td><td>160</td><td>Glengarry Glen Ross (1992)</td><td>4</td><td>875072547</td></tr><tr><td>184</td><td>321</td><td>Mother (1996)</td><td>5</td><td>889906967</td></tr><tr><td>54</td><td>595</td><td>Fan, The (1996)</td><td>3</td><td>880937813</td></tr><tr><td>94</td><td>343</td><td>Alien: Resurrection (1997)</td><td>4</td><td>891725009</td></tr><tr><td>128</td><td>508</td><td>People vs. Larry Flynt, The (1996)</td><td>4</td><td>879967767</td></tr><tr><td>23</td><td>323</td><td>Dante's Peak (1997)</td><td>2</td><td>874784266</td></tr><tr><td>301</td><td>227</td><td>Star Trek VI: The Undiscovered Country (1991)</td><td>3</td><td>882077222</td></tr><tr><td>301</td><td>191</td><td>Amadeus (1984)</td><td>3</td><td>882075672</td></tr><tr><td>112</td><td>903</td><td>Afterglow (1997)</td><td>1</td><td>892440172</td></tr><tr><td>82</td><td>183</td><td>Alien (1979)</td><td>3</td><td>878769848</td></tr><tr><td>222</td><td>724</td><td>Circle of Friends (1995)</td><td>3</td><td>878181976</td></tr><tr><td>218</td><td>430</td><td>Duck Soup (1933)</td><td>3</td><td>877488316</td></tr><tr><td>308</td><td>1197</td><td>Family Thing, A (1996)</td><td>4</td><td>887739521</td></tr><tr><td>303</td><td>134</td><td>Citizen Kane (1941)</td><td>5</td><td>879467959</td></tr><tr><td>133</td><td>751</td><td>Tomorrow Never Dies (1997)</td><td>3</td><td>890588547</td></tr><tr><td>215</td><td>212</td><td>Unbearable Lightness of Being, The (1988)</td><td>2</td><td>891435680</td></tr><tr><td>69</td><td>256</td><td>When the Cats Away (Chacun cherche son chat) (1996)</td><td>5</td><td>882126156</td></tr><tr><td>254</td><td>662</td><td>Somewhere in Time (1980)</td><td>4</td><td>887347350</td></tr><tr><td>276</td><td>2</td><td>GoldenEye (1995)</td><td>4</td><td>874792436</td></tr><tr><td>104</td><td>984</td><td>Shadow Conspiracy (1997)</td><td>1</td><td>888442575</td></tr><tr><td>63</td><td>1067</td><td>Bottle Rocket (1996)</td><td>3</td><td>875747514</td></tr><tr><td>267</td><td>410</td><td>Kingpin (1996)</td><td>4</td><td>878970785</td></tr><tr><td>13</td><td>56</td><td>Pulp Fiction (1994)</td><td>5</td><td>881515011</td></tr><tr><td>240</td><td>879</td><td>Peacemaker, The (1997)</td><td>3</td><td>885775745</td></tr><tr><td>286</td><td>237</td><td>Jerry Maguire (1996)</td><td>2</td><td>875806800</td></tr><tr><td>294</td><td>271</td><td>Starship Troopers (1997)</td><td>5</td><td>889241426</td></tr><tr><td>90</td><td>1086</td><td>It's My Party (1995)</td><td>4</td><td>891384424</td></tr><tr><td>18</td><td>26</td><td>Brothers McMullen, The (1995)</td><td>4</td><td>880129731</td></tr><tr><td>92</td><td>229</td><td>Star Trek III: The Search for Spock (1984)</td><td>3</td><td>875656201</td></tr><tr><td>308</td><td>649</td><td>Once Upon a Time in America (1984)</td><td>4</td><td>887739292</td></tr><tr><td>144</td><td>89</td><td>Blade Runner (1982)</td><td>3</td><td>888105691</td></tr><tr><td>191</td><td>302</td><td>L.A. Confidential (1997)</td><td>4</td><td>891560253</td></tr><tr><td>59</td><td>951</td><td>Indian in the Cupboard, The (1995)</td><td>3</td><td>888206409</td></tr><tr><td>200</td><td>96</td><td>Terminator 2: Judgment Day (1991)</td><td>5</td><td>884129409</td></tr><tr><td>16</td><td>197</td><td>Graduate, The (1967)</td><td>5</td><td>877726146</td></tr><tr><td>61</td><td>678</td><td>Volcano (1997)</td><td>3</td><td>892302309</td></tr><tr><td>271</td><td>199</td><td>Bridge on the River Kwai, The (1957)</td><td>4</td><td>885848448</td></tr><tr><td>271</td><td>709</td><td>Strictly Ballroom (1992)</td><td>3</td><td>885849325</td></tr><tr><td>142</td><td>169</td><td>Wrong Trousers, The (1993)</td><td>5</td><td>888640356</td></tr><tr><td>275</td><td>597</td><td>Eraser (1996)</td><td>3</td><td>876197678</td></tr><tr><td>222</td><td>151</td><td>Willy Wonka and the Chocolate Factory (1971)</td><td>3</td><td>878182109</td></tr><tr><td>87</td><td>40</td><td>To Wong Foo, Thanks for Everything! Julie Newmar (1995)</td><td>3</td><td>879876917</td></tr><tr><td>207</td><td>258</td><td>Contact (1997)</td><td>4</td><td>877879172</td></tr><tr><td>272</td><td>1393</td><td>Stag (1997)</td><td>2</td><td>879454663</td></tr><tr><td>177</td><td>333</td><td>Game, The (1997)</td><td>4</td><td>880130397</td></tr><tr><td>207</td><td>1115</td><td>Twelfth Night (1996)</td><td>2</td><td>879664906</td></tr><tr><td>299</td><td>577</td><td>Coneheads (1993)</td><td>3</td><td>889503806</td></tr><tr><td>271</td><td>378</td><td>Miracle on 34th Street (1994)</td><td>4</td><td>885849447</td></tr><tr><td>305</td><td>425</td><td>Bob Roberts (1992)</td><td>4</td><td>886324486</td></tr><tr><td>49</td><td>959</td><td>Dazed and Confused (1993)</td><td>2</td><td>888068912</td></tr><tr><td>94</td><td>1224</td><td>Scout, The (1994)</td><td>3</td><td>891722802</td></tr><tr><td>130</td><td>1017</td><td>Trees Lounge (1996)</td><td>3</td><td>874953895</td></tr><tr><td>10</td><td>175</td><td>Brazil (1985)</td><td>3</td><td>877888677</td></tr><tr><td>203</td><td>321</td><td>Mother (1996)</td><td>3</td><td>880433418</td></tr><tr><td>191</td><td>286</td><td>English Patient, The (1996)</td><td>4</td><td>891560842</td></tr><tr><td>43</td><td>323</td><td>Dante's Peak (1997)</td><td>3</td><td>875975110</td></tr><tr><td>21</td><td>558</td><td>Heavenly Creatures (1994)</td><td>5</td><td>874951695</td></tr><tr><td>197</td><td>96</td><td>Terminator 2: Judgment Day (1991)</td><td>5</td><td>891409839</td></tr><tr><td>13</td><td>344</td><td>Apostle, The (1997)</td><td>2</td><td>888073635</td></tr><tr><td>194</td><td>66</td><td>While You Were Sleeping (1995)</td><td>3</td><td>879527264</td></tr><tr><td>234</td><td>206</td><td>Akira (1988)</td><td>4</td><td>892334543</td></tr><tr><td>308</td><td>402</td><td>Ghost (1990)</td><td>4</td><td>887740700</td></tr><tr><td>308</td><td>640</td><td>Cook the Thief His Wife & Her Lover, The (1989)</td><td>4</td><td>887737036</td></tr><tr><td>269</td><td>522</td><td>Down by Law (1986)</td><td>5</td><td>891447773</td></tr><tr><td>94</td><td>265</td><td>Hunt for Red October, The (1990)</td><td>4</td><td>891721889</td></tr><tr><td>268</td><td>62</td><td>Stargate (1994)</td><td>3</td><td>875310824</td></tr><tr><td>272</td><td>12</td><td>Usual Suspects, The (1995)</td><td>5</td><td>879455254</td></tr><tr><td>121</td><td>291</td><td>Absolute Power (1997)</td><td>3</td><td>891390477</td></tr><tr><td>296</td><td>20</td><td>Angels and Insects (1995)</td><td>5</td><td>884196921</td></tr><tr><td>134</td><td>286</td><td>English Patient, The (1996)</td><td>3</td><td>891732334</td></tr><tr><td>180</td><td>462</td><td>Like Water For Chocolate (Como agua para chocolate) (1992)</td><td>5</td><td>877544218</td></tr><tr><td>234</td><td>612</td><td>Lost Horizon (1937)</td><td>3</td><td>892079140</td></tr><tr><td>104</td><td>117</td><td>Rock, The (1996)</td><td>2</td><td>888465972</td></tr><tr><td>38</td><td>758</td><td>Lawnmower Man 2: Beyond Cyberspace (1996)</td><td>1</td><td>892434626</td></tr><tr><td>269</td><td>845</td><td>That Thing You Do! (1996)</td><td>1</td><td>891456255</td></tr><tr><td>7</td><td>163</td><td>Return of the Pink Panther, The (1974)</td><td>4</td><td>891353444</td></tr><tr><td>234</td><td>1451</td><td>Foreign Correspondent (1940)</td><td>3</td><td>892078343</td></tr><tr><td>275</td><td>405</td><td>Mission: Impossible (1996)</td><td>2</td><td>876197645</td></tr><tr><td>52</td><td>250</td><td>Fifth Element, The (1997)</td><td>3</td><td>882922661</td></tr><tr><td>102</td><td>823</td><td>Mulholland Falls (1996)</td><td>3</td><td>888801465</td></tr><tr><td>13</td><td>186</td><td>Blues Brothers, The (1980)</td><td>4</td><td>890704999</td></tr><tr><td>178</td><td>731</td><td>Corrina, Corrina (1994)</td><td>4</td><td>882827532</td></tr><tr><td>236</td><td>71</td><td>Lion King, The (1994)</td><td>3</td><td>890116671</td></tr><tr><td>256</td><td>781</td><td>French Kiss (1995)</td><td>5</td><td>882165296</td></tr><tr><td>263</td><td>176</td><td>Aliens (1986)</td><td>5</td><td>891299752</td></tr><tr><td>244</td><td>186</td><td>Blues Brothers, The (1980)</td><td>3</td><td>880605697</td></tr><tr><td>279</td><td>1181</td><td>Low Down Dirty Shame, A (1994)</td><td>4</td><td>875314001</td></tr><tr><td>43</td><td>815</td><td>One Fine Day (1996)</td><td>4</td><td>883956189</td></tr><tr><td>83</td><td>78</td><td>Free Willy (1993)</td><td>2</td><td>880309089</td></tr><tr><td>151</td><td>197</td><td>Graduate, The (1967)</td><td>5</td><td>879528710</td></tr><tr><td>254</td><td>436</td><td>American Werewolf in London, An (1981)</td><td>2</td><td>886474216</td></tr><tr><td>109</td><td>631</td><td>Crying Game, The (1992)</td><td>3</td><td>880579371</td></tr><tr><td>297</td><td>716</td><td>Home for the Holidays (1995)</td><td>3</td><td>875239422</td></tr><tr><td>249</td><td>188</td><td>Full Metal Jacket (1987)</td><td>4</td><td>879641067</td></tr><tr><td>144</td><td>699</td><td>Little Women (1994)</td><td>4</td><td>888106106</td></tr><tr><td>301</td><td>604</td><td>It Happened One Night (1934)</td><td>4</td><td>882075994</td></tr><tr><td>64</td><td>392</td><td>Man Without a Face, The (1993)</td><td>3</td><td>889737542</td></tr><tr><td>92</td><td>501</td><td>Dumbo (1941)</td><td>2</td><td>875653665</td></tr><tr><td>222</td><td>97</td><td>Dances with Wolves (1990)</td><td>4</td><td>878181739</td></tr><tr><td>268</td><td>436</td><td>American Werewolf in London, An (1981)</td><td>3</td><td>875310745</td></tr><tr><td>293</td><td>135</td><td>2001: A Space Odyssey (1968)</td><td>5</td><td>888905550</td></tr><tr><td>213</td><td>173</td><td>Princess Bride, The (1987)</td><td>5</td><td>878955442</td></tr><tr><td>160</td><td>460</td><td>Crossing Guard, The (1995)</td><td>2</td><td>876861185</td></tr><tr><td>13</td><td>498</td><td>African Queen, The (1951)</td><td>4</td><td>882139901</td></tr><tr><td>59</td><td>715</td><td>To Die For (1995)</td><td>5</td><td>888205921</td></tr><tr><td>5</td><td>17</td><td>From Dusk Till Dawn (1996)</td><td>4</td><td>875636198</td></tr><tr><td>125</td><td>163</td><td>Return of the Pink Panther, The (1974)</td><td>5</td><td>879454956</td></tr><tr><td>174</td><td>315</td><td>Apt Pupil (1998)</td><td>5</td><td>886432749</td></tr><tr><td>114</td><td>505</td><td>Dial M for Murder (1954)</td><td>3</td><td>881260203</td></tr><tr><td>213</td><td>515</td><td>Boot, Das (1981)</td><td>4</td><td>878870518</td></tr><tr><td>23</td><td>196</td><td>Dead Poets Society (1989)</td><td>2</td><td>874786926</td></tr><tr><td>128</td><td>15</td><td>Mr. Holland's Opus (1995)</td><td>4</td><td>879968827</td></tr><tr><td>239</td><td>56</td><td>Pulp Fiction (1994)</td><td>4</td><td>889179478</td></tr><tr><td>181</td><td>279</td><td>Once Upon a Time... When We Were Colored (1995)</td><td>1</td><td>878962955</td></tr><tr><td>291</td><td>80</td><td>Hot Shots! Part Deux (1993)</td><td>4</td><td>875086354</td></tr><tr><td>250</td><td>238</td><td>Raising Arizona (1987)</td><td>4</td><td>878089963</td></tr><tr><td>201</td><td>649</td><td>Once Upon a Time in America (1984)</td><td>3</td><td>884114275</td></tr><tr><td>60</td><td>60</td><td>Three Colors: Blue (1993)</td><td>5</td><td>883327734</td></tr><tr><td>181</td><td>325</td><td>Crash (1996)</td><td>2</td><td>878961814</td></tr><tr><td>119</td><td>407</td><td>Spy Hard (1996)</td><td>3</td><td>887038665</td></tr><tr><td>287</td><td>1</td><td>Toy Story (1995)</td><td>5</td><td>875334088</td></tr><tr><td>216</td><td>228</td><td>Star Trek: The Wrath of Khan (1982)</td><td>3</td><td>880245642</td></tr><tr><td>216</td><td>531</td><td>Shine (1996)</td><td>4</td><td>880233810</td></tr><tr><td>203</td><td>471</td><td>Courage Under Fire (1996)</td><td>4</td><td>880434463</td></tr><tr><td>92</td><td>587</td><td>Hour of the Pig, The (1993)</td><td>3</td><td>875660408</td></tr><tr><td>13</td><td>892</td><td>Flubber (1997)</td><td>3</td><td>882774224</td></tr><tr><td>213</td><td>176</td><td>Aliens (1986)</td><td>4</td><td>878956338</td></tr><tr><td>286</td><td>288</td><td>Scream (1996)</td><td>5</td><td>875806672</td></tr><tr><td>117</td><td>1047</td><td>Multiplicity (1996)</td><td>2</td><td>881009697</td></tr><tr><td>99</td><td>111</td><td>Truth About Cats & Dogs, The (1996)</td><td>1</td><td>885678886</td></tr><tr><td>11</td><td>558</td><td>Heavenly Creatures (1994)</td><td>3</td><td>891904214</td></tr><tr><td>65</td><td>47</td><td>Ed Wood (1994)</td><td>2</td><td>879216672</td></tr><tr><td>295</td><td>194</td><td>Sting, The (1973)</td><td>4</td><td>879517412</td></tr><tr><td>269</td><td>217</td><td>Bram Stoker's Dracula (1992)</td><td>2</td><td>891451610</td></tr><tr><td>85</td><td>259</td><td>George of the Jungle (1997)</td><td>2</td><td>881705026</td></tr><tr><td>250</td><td>596</td><td>Hunchback of Notre Dame, The (1996)</td><td>5</td><td>878089921</td></tr><tr><td>137</td><td>144</td><td>Die Hard (1988)</td><td>5</td><td>881433689</td></tr><tr><td>201</td><td>960</td><td>Naked (1993)</td><td>2</td><td>884112077</td></tr><tr><td>257</td><td>137</td><td>Big Night (1996)</td><td>4</td><td>882049932</td></tr><tr><td>111</td><td>328</td><td>Conspiracy Theory (1997)</td><td>4</td><td>891679939</td></tr><tr><td>91</td><td>480</td><td>North by Northwest (1959)</td><td>4</td><td>891438875</td></tr><tr><td>215</td><td>211</td><td>M*A*S*H (1970)</td><td>4</td><td>891436202</td></tr><tr><td>181</td><td>938</td><td>Smile Like Yours, A (1997)</td><td>1</td><td>878961586</td></tr><tr><td>189</td><td>1060</td><td>Adventures of Pinocchio, The (1996)</td><td>5</td><td>893264301</td></tr><tr><td>1</td><td>20</td><td>Angels and Insects (1995)</td><td>4</td><td>887431883</td></tr><tr><td>303</td><td>404</td><td>Pinocchio (1940)</td><td>4</td><td>879468375</td></tr><tr><td>299</td><td>305</td><td>Ice Storm, The (1997)</td><td>3</td><td>879737314</td></tr><tr><td>187</td><td>210</td><td>Indiana Jones and the Last Crusade (1989)</td><td>4</td><td>879465242</td></tr><tr><td>222</td><td>278</td><td>Bed of Roses (1996)</td><td>2</td><td>877563913</td></tr><tr><td>214</td><td>568</td><td>Speed (1994)</td><td>4</td><td>892668197</td></tr><tr><td>293</td><td>770</td><td>Devil in a Blue Dress (1995)</td><td>3</td><td>888906655</td></tr><tr><td>285</td><td>191</td><td>Amadeus (1984)</td><td>4</td><td>890595859</td></tr><tr><td>303</td><td>252</td><td>Lost World: Jurassic Park, The (1997)</td><td>3</td><td>879544791</td></tr><tr><td>96</td><td>156</td><td>Reservoir Dogs (1992)</td><td>4</td><td>884402860</td></tr><tr><td>72</td><td>1110</td><td>Tank Girl (1995)</td><td>3</td><td>880037334</td></tr><tr><td>115</td><td>1067</td><td>Bottle Rocket (1996)</td><td>4</td><td>881171009</td></tr><tr><td>7</td><td>430</td><td>Duck Soup (1933)</td><td>3</td><td>891352178</td></tr><tr><td>116</td><td>350</td><td>Fallen (1998)</td><td>3</td><td>886977926</td></tr><tr><td>73</td><td>480</td><td>North by Northwest (1959)</td><td>4</td><td>888625753</td></tr><tr><td>269</td><td>246</td><td>Chasing Amy (1997)</td><td>5</td><td>891457067</td></tr><tr><td>263</td><td>419</td><td>Mary Poppins (1964)</td><td>5</td><td>891299514</td></tr><tr><td>70</td><td>431</td><td>Highlander (1986)</td><td>3</td><td>884150257</td></tr><tr><td>221</td><td>475</td><td>Trainspotting (1996)</td><td>4</td><td>875244204</td></tr><tr><td>72</td><td>182</td><td>GoodFellas (1990)</td><td>5</td><td>880036515</td></tr><tr><td>25</td><td>357</td><td>One Flew Over the Cuckoo's Nest (1975)</td><td>4</td><td>885852757</td></tr><tr><td>290</td><td>50</td><td>Star Wars (1977)</td><td>5</td><td>880473582</td></tr><tr><td>189</td><td>526</td><td>Ben-Hur (1959)</td><td>4</td><td>893266205</td></tr><tr><td>299</td><td>303</td><td>Ulee's Gold (1997)</td><td>3</td><td>877618584</td></tr><tr><td>264</td><td>294</td><td>Liar Liar (1997)</td><td>3</td><td>886121516</td></tr><tr><td>200</td><td>365</td><td>Powder (1995)</td><td>5</td><td>884129962</td></tr><tr><td>187</td><td>135</td><td>2001: A Space Odyssey (1968)</td><td>4</td><td>879465653</td></tr><tr><td>184</td><td>187</td><td>Godfather: Part II, The (1974)</td><td>4</td><td>889909024</td></tr><tr><td>63</td><td>289</td><td>Evita (1996)</td><td>2</td><td>875746985</td></tr><tr><td>13</td><td>229</td><td>Star Trek III: The Search for Spock (1984)</td><td>4</td><td>882397650</td></tr><tr><td>298</td><td>486</td><td>Sabrina (1954)</td><td>3</td><td>884183063</td></tr><tr><td>235</td><td>185</td><td>Psycho (1960)</td><td>4</td><td>889655435</td></tr><tr><td>62</td><td>712</td><td>Tin Men (1987)</td><td>4</td><td>879376178</td></tr><tr><td>246</td><td>94</td><td>Home Alone (1990)</td><td>2</td><td>884923505</td></tr><tr><td>54</td><td>742</td><td>Ransom (1996)</td><td>5</td><td>880934806</td></tr><tr><td>63</td><td>762</td><td>Beautiful Girls (1996)</td><td>3</td><td>875747688</td></tr><tr><td>11</td><td>732</td><td>Dave (1993)</td><td>3</td><td>891904596</td></tr><tr><td>92</td><td>168</td><td>Monty Python and the Holy Grail (1974)</td><td>4</td><td>875653723</td></tr><tr><td>8</td><td>550</td><td>Die Hard: With a Vengeance (1995)</td><td>3</td><td>879362356</td></tr><tr><td>307</td><td>174</td><td>Raiders of the Lost Ark (1981)</td><td>4</td><td>879283480</td></tr><tr><td>303</td><td>200</td><td>Shining, The (1980)</td><td>4</td><td>879468459</td></tr><tr><td>256</td><td>849</td><td>Days of Thunder (1990)</td><td>2</td><td>882164603</td></tr><tr><td>72</td><td>54</td><td>Outbreak (1995)</td><td>3</td><td>880036854</td></tr><tr><td>164</td><td>406</td><td>Thinner (1996)</td><td>2</td><td>889402389</td></tr><tr><td>117</td><td>150</td><td>Swingers (1996)</td><td>4</td><td>880125101</td></tr><tr><td>224</td><td>77</td><td>Firm, The (1993)</td><td>4</td><td>888103872</td></tr><tr><td>193</td><td>869</td><td>Fools Rush In (1997)</td><td>3</td><td>889127811</td></tr><tr><td>94</td><td>184</td><td>Army of Darkness (1993)</td><td>2</td><td>891720862</td></tr><tr><td>281</td><td>338</td><td>Bean (1997)</td><td>2</td><td>881200457</td></tr><tr><td>130</td><td>109</td><td>Mystery Science Theater 3000: The Movie (1996)</td><td>3</td><td>874953794</td></tr><tr><td>128</td><td>371</td><td>Bridges of Madison County, The (1995)</td><td>1</td><td>879966954</td></tr><tr><td>94</td><td>720</td><td>First Knight (1995)</td><td>1</td><td>891723593</td></tr><tr><td>182</td><td>845</td><td>That Thing You Do! (1996)</td><td>3</td><td>885613067</td></tr><tr><td>129</td><td>873</td><td>Picture Perfect (1997)</td><td>1</td><td>883245452</td></tr><tr><td>254</td><td>229</td><td>Star Trek III: The Search for Spock (1984)</td><td>4</td><td>886474580</td></tr><tr><td>64</td><td>381</td><td>Muriel's Wedding (1994)</td><td>4</td><td>879365491</td></tr><tr><td>151</td><td>176</td><td>Aliens (1986)</td><td>2</td><td>879524293</td></tr><tr><td>45</td><td>25</td><td>Birdcage, The (1996)</td><td>4</td><td>881014015</td></tr><tr><td>193</td><td>879</td><td>Peacemaker, The (1997)</td><td>3</td><td>889123257</td></tr><tr><td>276</td><td>922</td><td>Dead Man (1995)</td><td>4</td><td>889174849</td></tr><tr><td>276</td><td>57</td><td>Priest (1994)</td><td>3</td><td>874787526</td></tr><tr><td>234</td><td>187</td><td>Godfather: Part II, The (1974)</td><td>4</td><td>892079140</td></tr><tr><td>181</td><td>306</td><td>Mrs. Brown (Her Majesty, Mrs. Brown) (1997)</td><td>1</td><td>878962006</td></tr><tr><td>21</td><td>370</td><td>Mary Reilly (1996)</td><td>1</td><td>874951293</td></tr><tr><td>293</td><td>249</td><td>Austin Powers: International Man of Mystery (1997)</td><td>3</td><td>888905229</td></tr><tr><td>264</td><td>721</td><td>Mallrats (1995)</td><td>5</td><td>886123656</td></tr><tr><td>10</td><td>611</td><td>Laura (1944)</td><td>5</td><td>877886722</td></tr><tr><td>197</td><td>346</td><td>Jackie Brown (1997)</td><td>3</td><td>891409070</td></tr><tr><td>276</td><td>142</td><td>Bedknobs and Broomsticks (1971)</td><td>3</td><td>874792945</td></tr><tr><td>308</td><td>427</td><td>To Kill a Mockingbird (1962)</td><td>4</td><td>887736584</td></tr><tr><td>221</td><td>943</td><td>Killing Zoe (1994)</td><td>4</td><td>875246759</td></tr><tr><td>131</td><td>126</td><td>Spitfire Grill, The (1996)</td><td>4</td><td>883681514</td></tr><tr><td>268</td><td>824</td><td>Great White Hype, The (1996)</td><td>2</td><td>876518557</td></tr><tr><td>109</td><td>8</td><td>Babe (1995)</td><td>3</td><td>880572642</td></tr><tr><td>198</td><td>58</td><td>Quiz Show (1994)</td><td>3</td><td>884208173</td></tr><tr><td>230</td><td>680</td><td>Kull the Conqueror (1997)</td><td>4</td><td>880484286</td></tr><tr><td>181</td><td>741</td><td>Last Supper, The (1995)</td><td>1</td><td>878962918</td></tr><tr><td>192</td><td>1061</td><td>Evening Star, The (1996)</td><td>4</td><td>881368891</td></tr><tr><td>234</td><td>448</td><td>Omen, The (1976)</td><td>3</td><td>892335501</td></tr><tr><td>90</td><td>900</td><td>Kundun (1997)</td><td>4</td><td>891382309</td></tr><tr><td>193</td><td>941</td><td>With Honors (1994)</td><td>4</td><td>889124890</td></tr><tr><td>128</td><td>603</td><td>Rear Window (1954)</td><td>5</td><td>879966839</td></tr><tr><td>126</td><td>905</td><td>Great Expectations (1998)</td><td>2</td><td>887855283</td></tr><tr><td>244</td><td>265</td><td>Hunt for Red October, The (1990)</td><td>4</td><td>880606634</td></tr><tr><td>90</td><td>289</td><td>Evita (1996)</td><td>3</td><td>891382310</td></tr><tr><td>157</td><td>25</td><td>Birdcage, The (1996)</td><td>3</td><td>886890787</td></tr><tr><td>305</td><td>71</td><td>Lion King, The (1994)</td><td>3</td><td>886323684</td></tr><tr><td>119</td><td>382</td><td>Adventures of Priscilla, Queen of the Desert, The (1994)</td><td>5</td><td>874781742</td></tr><tr><td>21</td><td>222</td><td>Star Trek: First Contact (1996)</td><td>2</td><td>874951382</td></tr><tr><td>231</td><td>181</td><td>Return of the Jedi (1983)</td><td>4</td><td>888605273</td></tr><tr><td>280</td><td>508</td><td>People vs. Larry Flynt, The (1996)</td><td>3</td><td>891700453</td></tr><tr><td>288</td><td>132</td><td>Wizard of Oz, The (1939)</td><td>3</td><td>886374129</td></tr><tr><td>279</td><td>1497</td><td>Line King: Al Hirschfeld, The (1996)</td><td>2</td><td>890780576</td></tr><tr><td>301</td><td>33</td><td>Desperado (1995)</td><td>4</td><td>882078228</td></tr><tr><td>72</td><td>699</td><td>Little Women (1994)</td><td>3</td><td>880036783</td></tr><tr><td>90</td><td>259</td><td>George of the Jungle (1997)</td><td>2</td><td>891382392</td></tr><tr><td>308</td><td>55</td><td>Professional, The (1994)</td><td>3</td><td>887738760</td></tr><tr><td>59</td><td>742</td><td>Ransom (1996)</td><td>3</td><td>888203053</td></tr><tr><td>94</td><td>744</td><td>Michael Collins (1996)</td><td>4</td><td>891721462</td></tr><tr><td>130</td><td>642</td><td>Grifters, The (1990)</td><td>4</td><td>875216933</td></tr><tr><td>26</td><td>1015</td><td>Shiloh (1997)</td><td>3</td><td>891352136</td></tr><tr><td>56</td><td>121</td><td>Independence Day (ID4) (1996)</td><td>5</td><td>892679480</td></tr><tr><td>82</td><td>508</td><td>People vs. Larry Flynt, The (1996)</td><td>2</td><td>884714249</td></tr><tr><td>62</td><td>12</td><td>Usual Suspects, The (1995)</td><td>4</td><td>879373613</td></tr><tr><td>276</td><td>40</td><td>To Wong Foo, Thanks for Everything! Julie Newmar (1995)</td><td>3</td><td>874791871</td></tr><tr><td>181</td><td>1015</td><td>Shiloh (1997)</td><td>1</td><td>878963121</td></tr><tr><td>152</td><td>301</td><td>In & Out (1997)</td><td>3</td><td>880147407</td></tr><tr><td>178</td><td>845</td><td>That Thing You Do! (1996)</td><td>4</td><td>882824291</td></tr><tr><td>217</td><td>597</td><td>Eraser (1996)</td><td>4</td><td>889070087</td></tr><tr><td>79</td><td>303</td><td>Ulee's Gold (1997)</td><td>4</td><td>891271203</td></tr><tr><td>138</td><td>484</td><td>Maltese Falcon, The (1941)</td><td>4</td><td>879024127</td></tr><tr><td>308</td><td>81</td><td>Hudsucker Proxy, The (1994)</td><td>5</td><td>887737293</td></tr><tr><td>75</td><td>284</td><td>Tin Cup (1996)</td><td>2</td><td>884050393</td></tr><tr><td>269</td><td>198</td><td>Nikita (La Femme Nikita) (1990)</td><td>4</td><td>891447062</td></tr><tr><td>307</td><td>94</td><td>Home Alone (1990)</td><td>3</td><td>877122695</td></tr><tr><td>222</td><td>781</td><td>French Kiss (1995)</td><td>3</td><td>881059677</td></tr><tr><td>121</td><td>740</td><td>Jane Eyre (1996)</td><td>3</td><td>891390544</td></tr><tr><td>269</td><td>22</td><td>Braveheart (1995)</td><td>1</td><td>891448072</td></tr><tr><td>13</td><td>864</td><td>My Fellow Americans (1996)</td><td>4</td><td>882141924</td></tr><tr><td>230</td><td>742</td><td>Ransom (1996)</td><td>5</td><td>880485043</td></tr><tr><td>269</td><td>507</td><td>Streetcar Named Desire, A (1951)</td><td>4</td><td>891448800</td></tr><tr><td>239</td><td>1099</td><td>Red Firecracker, Green Firecracker (1994)</td><td>5</td><td>889179253</td></tr><tr><td>245</td><td>1028</td><td>Grumpier Old Men (1995)</td><td>5</td><td>888513447</td></tr><tr><td>56</td><td>546</td><td>Broken Arrow (1996)</td><td>3</td><td>892679460</td></tr><tr><td>295</td><td>961</td><td>Orlando (1993)</td><td>5</td><td>879519556</td></tr><tr><td>271</td><td>1028</td><td>Grumpier Old Men (1995)</td><td>2</td><td>885848102</td></tr><tr><td>222</td><td>812</td><td>Andre (1994)</td><td>2</td><td>881059117</td></tr><tr><td>69</td><td>240</td><td>Beavis and Butt-head Do America (1996)</td><td>3</td><td>882126156</td></tr><tr><td>10</td><td>7</td><td>Twelve Monkeys (1995)</td><td>4</td><td>877892210</td></tr><tr><td>22</td><td>376</td><td>Houseguest (1994)</td><td>3</td><td>878887112</td></tr><tr><td>294</td><td>931</td><td>Island of Dr. Moreau, The (1996)</td><td>3</td><td>889242857</td></tr><tr><td>82</td><td>717</td><td>Juror, The (1996)</td><td>1</td><td>884714492</td></tr><tr><td>279</td><td>399</td><td>Three Musketeers, The (1993)</td><td>4</td><td>875313859</td></tr><tr><td>269</td><td>234</td><td>Jaws (1975)</td><td>1</td><td>891449406</td></tr><tr><td>6</td><td>98</td><td>Silence of the Lambs, The (1991)</td><td>5</td><td>883600680</td></tr><tr><td>243</td><td>1039</td><td>Hamlet (1996)</td><td>4</td><td>879988184</td></tr><tr><td>298</td><td>181</td><td>Return of the Jedi (1983)</td><td>4</td><td>884125629</td></tr><tr><td>282</td><td>325</td><td>Crash (1996)</td><td>1</td><td>881703044</td></tr><tr><td>78</td><td>323</td><td>Dante's Peak (1997)</td><td>1</td><td>879633567</td></tr><tr><td>118</td><td>200</td><td>Shining, The (1980)</td><td>5</td><td>875384647</td></tr><tr><td>283</td><td>1114</td><td>Faithful (1996)</td><td>5</td><td>879297545</td></tr><tr><td>171</td><td>292</td><td>Rosewood (1997)</td><td>4</td><td>891034835</td></tr><tr><td>70</td><td>217</td><td>Bram Stoker's Dracula (1992)</td><td>4</td><td>884151119</td></tr><tr><td>10</td><td>100</td><td>Fargo (1996)</td><td>5</td><td>877891747</td></tr><tr><td>245</td><td>181</td><td>Return of the Jedi (1983)</td><td>4</td><td>888513664</td></tr><tr><td>107</td><td>333</td><td>Game, The (1997)</td><td>3</td><td>891264267</td></tr><tr><td>246</td><td>561</td><td>Mary Shelley's Frankenstein (1994)</td><td>1</td><td>884923445</td></tr><tr><td>13</td><td>901</td><td>Mr. Magoo (1997)</td><td>1</td><td>883670672</td></tr><tr><td>276</td><td>70</td><td>Four Weddings and a Funeral (1994)</td><td>4</td><td>874790826</td></tr><tr><td>244</td><td>17</td><td>From Dusk Till Dawn (1996)</td><td>2</td><td>880607205</td></tr><tr><td>189</td><td>56</td><td>Pulp Fiction (1994)</td><td>5</td><td>893265263</td></tr><tr><td>226</td><td>242</td><td>Kolya (1996)</td><td>5</td><td>883888671</td></tr><tr><td>62</td><td>1016</td><td>Con Air (1997)</td><td>4</td><td>879373008</td></tr><tr><td>276</td><td>417</td><td>Parent Trap, The (1961)</td><td>4</td><td>874792907</td></tr><tr><td>214</td><td>478</td><td>Philadelphia Story, The (1940)</td><td>4</td><td>891544052</td></tr><tr><td>306</td><td>235</td><td>Mars Attacks! (1996)</td><td>4</td><td>876504354</td></tr><tr><td>222</td><td>26</td><td>Brothers McMullen, The (1995)</td><td>3</td><td>878183043</td></tr><tr><td>280</td><td>631</td><td>Crying Game, The (1992)</td><td>5</td><td>891700751</td></tr><tr><td>60</td><td>430</td><td>Duck Soup (1933)</td><td>5</td><td>883326122</td></tr><tr><td>56</td><td>71</td><td>Lion King, The (1994)</td><td>4</td><td>892683275</td></tr><tr><td>42</td><td>274</td><td>Sabrina (1995)</td><td>5</td><td>881105817</td></tr><tr><td>1</td><td>202</td><td>Groundhog Day (1993)</td><td>5</td><td>875072442</td></tr><tr><td>13</td><td>809</td><td>Rising Sun (1993)</td><td>4</td><td>882397582</td></tr><tr><td>173</td><td>289</td><td>Evita (1996)</td><td>4</td><td>877556988</td></tr><tr><td>15</td><td>749</td><td>MatchMaker, The (1997)</td><td>1</td><td>879455311</td></tr><tr><td>185</td><td>23</td><td>Taxi Driver (1976)</td><td>4</td><td>883524249</td></tr><tr><td>280</td><td>540</td><td>Money Train (1995)</td><td>3</td><td>891702304</td></tr><tr><td>244</td><td>381</td><td>Muriel's Wedding (1994)</td><td>4</td><td>880604077</td></tr><tr><td>150</td><td>293</td><td>Donnie Brasco (1997)</td><td>4</td><td>878746946</td></tr><tr><td>7</td><td>497</td><td>Bringing Up Baby (1938)</td><td>4</td><td>891352134</td></tr><tr><td>178</td><td>317</td><td>In the Name of the Father (1993)</td><td>4</td><td>882826915</td></tr><tr><td>178</td><td>742</td><td>Ransom (1996)</td><td>3</td><td>882823833</td></tr><tr><td>95</td><td>1217</td><td>Assassins (1995)</td><td>3</td><td>880572658</td></tr><tr><td>234</td><td>1462</td><td>Thieves (Voleurs, Les) (1996)</td><td>3</td><td>892333865</td></tr><tr><td>97</td><td>222</td><td>Star Trek: First Contact (1996)</td><td>5</td><td>884238887</td></tr><tr><td>109</td><td>127</td><td>Godfather, The (1972)</td><td>2</td><td>880563471</td></tr><tr><td>117</td><td>268</td><td>Chasing Amy (1997)</td><td>5</td><td>880124306</td></tr><tr><td>269</td><td>705</td><td>Singin' in the Rain (1952)</td><td>2</td><td>891448850</td></tr><tr><td>130</td><td>1246</td><td>Bushwhacked (1995)</td><td>3</td><td>876252497</td></tr><tr><td>264</td><td>655</td><td>Stand by Me (1986)</td><td>4</td><td>886123530</td></tr><tr><td>207</td><td>13</td><td>Mighty Aphrodite (1995)</td><td>3</td><td>875506839</td></tr><tr><td>42</td><td>588</td><td>Beauty and the Beast (1991)</td><td>5</td><td>881108147</td></tr><tr><td>246</td><td>409</td><td>Jack (1996)</td><td>2</td><td>884923372</td></tr><tr><td>87</td><td>367</td><td>Clueless (1995)</td><td>4</td><td>879876702</td></tr><tr><td>101</td><td>304</td><td>Fly Away Home (1996)</td><td>3</td><td>877135677</td></tr><tr><td>256</td><td>127</td><td>Godfather, The (1972)</td><td>4</td><td>882164406</td></tr><tr><td>92</td><td>794</td><td>It Could Happen to You (1994)</td><td>3</td><td>875654798</td></tr><tr><td>181</td><td>762</td><td>Beautiful Girls (1996)</td><td>2</td><td>878963418</td></tr><tr><td>213</td><td>235</td><td>Mars Attacks! (1996)</td><td>1</td><td>878955115</td></tr><tr><td>92</td><td>739</td><td>Pretty Woman (1990)</td><td>2</td><td>876175582</td></tr><tr><td>292</td><td>661</td><td>High Noon (1952)</td><td>5</td><td>881105561</td></tr><tr><td>246</td><td>665</td><td>Alien 3 (1992)</td><td>4</td><td>884922831</td></tr><tr><td>274</td><td>845</td><td>That Thing You Do! (1996)</td><td>5</td><td>878945579</td></tr><tr><td>188</td><td>692</td><td>American President, The (1995)</td><td>5</td><td>875072583</td></tr><tr><td>18</td><td>86</td><td>Remains of the Day, The (1993)</td><td>4</td><td>880129731</td></tr><tr><td>5</td><td>439</td><td>Amityville: A New Generation (1993)</td><td>1</td><td>878844423</td></tr><tr><td>236</td><td>632</td><td>Sophie's Choice (1982)</td><td>3</td><td>890116254</td></tr><tr><td>193</td><td>407</td><td>Spy Hard (1996)</td><td>4</td><td>889127921</td></tr><tr><td>144</td><td>709</td><td>Strictly Ballroom (1992)</td><td>4</td><td>888105940</td></tr><tr><td>90</td><td>1198</td><td>Purple Noon (1960)</td><td>5</td><td>891383866</td></tr><tr><td>48</td><td>609</td><td>Father of the Bride (1950)</td><td>4</td><td>879434819</td></tr><tr><td>5</td><td>225</td><td>101 Dalmatians (1996)</td><td>2</td><td>875635723</td></tr><tr><td>22</td><td>128</td><td>Supercop (1992)</td><td>5</td><td>878887983</td></tr><tr><td>311</td><td>432</td><td>Fantasia (1940)</td><td>4</td><td>884365485</td></tr><tr><td>8</td><td>22</td><td>Braveheart (1995)</td><td>5</td><td>879362183</td></tr><tr><td>276</td><td>188</td><td>Full Metal Jacket (1987)</td><td>4</td><td>874792547</td></tr><tr><td>222</td><td>173</td><td>Princess Bride, The (1987)</td><td>5</td><td>878183043</td></tr><tr><td>72</td><td>866</td><td>Michael (1996)</td><td>4</td><td>880035887</td></tr><tr><td>299</td><td>134</td><td>Citizen Kane (1941)</td><td>4</td><td>878192311</td></tr><tr><td>1</td><td>171</td><td>Delicatessen (1991)</td><td>5</td><td>889751711</td></tr><tr><td>308</td><td>295</td><td>Breakdown (1997)</td><td>3</td><td>887741461</td></tr><tr><td>165</td><td>216</td><td>When Harry Met Sally... (1989)</td><td>4</td><td>879525778</td></tr><tr><td>222</td><td>49</td><td>I.Q. (1994)</td><td>3</td><td>878183512</td></tr><tr><td>181</td><td>121</td><td>Independence Day (ID4) (1996)</td><td>4</td><td>878962623</td></tr><tr><td>200</td><td>11</td><td>Seven (Se7en) (1995)</td><td>5</td><td>884129542</td></tr><tr><td>234</td><td>626</td><td>So Dear to My Heart (1949)</td><td>4</td><td>892336358</td></tr><tr><td>244</td><td>707</td><td>Enchanted April (1991)</td><td>4</td><td>880606243</td></tr><tr><td>90</td><td>25</td><td>Birdcage, The (1996)</td><td>5</td><td>891384789</td></tr><tr><td>208</td><td>216</td><td>When Harry Met Sally... (1989)</td><td>5</td><td>883108324</td></tr><tr><td>263</td><td>96</td><td>Terminator 2: Judgment Day (1991)</td><td>4</td><td>891298336</td></tr><tr><td>134</td><td>323</td><td>Dante's Peak (1997)</td><td>4</td><td>891732335</td></tr><tr><td>279</td><td>586</td><td>Terminal Velocity (1994)</td><td>4</td><td>892864663</td></tr><tr><td>2</td><td>292</td><td>Rosewood (1997)</td><td>4</td><td>888550774</td></tr><tr><td>288</td><td>593</td><td>Stalingrad (1993)</td><td>2</td><td>886892127</td></tr><tr><td>49</td><td>302</td><td>L.A. Confidential (1997)</td><td>4</td><td>888065432</td></tr><tr><td>286</td><td>153</td><td>Fish Called Wanda, A (1988)</td><td>5</td><td>877531406</td></tr><tr><td>205</td><td>304</td><td>Fly Away Home (1996)</td><td>3</td><td>888284313</td></tr><tr><td>22</td><td>80</td><td>Hot Shots! Part Deux (1993)</td><td>4</td><td>878887227</td></tr><tr><td>234</td><td>318</td><td>Schindler's List (1993)</td><td>4</td><td>892078890</td></tr><tr><td>223</td><td>328</td><td>Conspiracy Theory (1997)</td><td>3</td><td>891548959</td></tr><tr><td>15</td><td>25</td><td>Birdcage, The (1996)</td><td>3</td><td>879456204</td></tr><tr><td>268</td><td>147</td><td>Long Kiss Goodnight, The (1996)</td><td>4</td><td>876514002</td></tr><tr><td>94</td><td>1220</td><td>Higher Learning (1995)</td><td>3</td><td>891722678</td></tr><tr><td>274</td><td>405</td><td>Mission: Impossible (1996)</td><td>4</td><td>878945840</td></tr><tr><td>7</td><td>492</td><td>East of Eden (1955)</td><td>5</td><td>891352010</td></tr><tr><td>268</td><td>217</td><td>Bram Stoker's Dracula (1992)</td><td>2</td><td>875744501</td></tr><tr><td>16</td><td>55</td><td>Professional, The (1994)</td><td>5</td><td>877717956</td></tr><tr><td>164</td><td>620</td><td>Chamber, The (1996)</td><td>3</td><td>889402298</td></tr><tr><td>290</td><td>161</td><td>Top Gun (1986)</td><td>4</td><td>880474293</td></tr><tr><td>92</td><td>515</td><td>Boot, Das (1981)</td><td>4</td><td>875640800</td></tr><tr><td>239</td><td>1070</td><td>Living in Oblivion (1995)</td><td>5</td><td>889179032</td></tr><tr><td>56</td><td>449</td><td>Star Trek: The Motion Picture (1979)</td><td>5</td><td>892679308</td></tr><tr><td>248</td><td>234</td><td>Jaws (1975)</td><td>4</td><td>884534968</td></tr><tr><td>234</td><td>10</td><td>Richard III (1995)</td><td>3</td><td>891227851</td></tr><tr><td>280</td><td>1049</td><td>House Arrest (1996)</td><td>2</td><td>891702486</td></tr><tr><td>308</td><td>187</td><td>Godfather: Part II, The (1974)</td><td>5</td><td>887738760</td></tr><tr><td>276</td><td>64</td><td>Shawshank Redemption, The (1994)</td><td>5</td><td>874787441</td></tr><tr><td>192</td><td>948</td><td>Booty Call (1997)</td><td>3</td><td>881368302</td></tr><tr><td>122</td><td>509</td><td>My Left Foot (1989)</td><td>4</td><td>879270511</td></tr><tr><td>85</td><td>588</td><td>Beauty and the Beast (1991)</td><td>3</td><td>880838306</td></tr><tr><td>262</td><td>931</td><td>Island of Dr. Moreau, The (1996)</td><td>2</td><td>879790874</td></tr><tr><td>201</td><td>272</td><td>Good Will Hunting (1997)</td><td>3</td><td>886013700</td></tr><tr><td>181</td><td>870</td><td>Touch (1997)</td><td>2</td><td>878962623</td></tr><tr><td>295</td><td>739</td><td>Pretty Woman (1990)</td><td>4</td><td>879518319</td></tr><tr><td>263</td><td>568</td><td>Speed (1994)</td><td>4</td><td>891299387</td></tr><tr><td>295</td><td>39</td><td>Strange Days (1995)</td><td>4</td><td>879518279</td></tr><tr><td>201</td><td>1100</td><td>What Happened Was... (1994)</td><td>4</td><td>884112800</td></tr><tr><td>93</td><td>820</td><td>Space Jam (1996)</td><td>3</td><td>888705966</td></tr><tr><td>159</td><td>1028</td><td>Grumpier Old Men (1995)</td><td>5</td><td>880557539</td></tr><tr><td>158</td><td>665</td><td>Alien 3 (1992)</td><td>2</td><td>880134532</td></tr><tr><td>293</td><td>423</td><td>E.T. the Extra-Terrestrial (1982)</td><td>3</td><td>888906070</td></tr><tr><td>82</td><td>597</td><td>Eraser (1996)</td><td>3</td><td>878768882</td></tr><tr><td>276</td><td>181</td><td>Return of the Jedi (1983)</td><td>5</td><td>874786488</td></tr><tr><td>13</td><td>823</td><td>Mulholland Falls (1996)</td><td>5</td><td>882397833</td></tr><tr><td>217</td><td>2</td><td>GoldenEye (1995)</td><td>3</td><td>889069782</td></tr><tr><td>83</td><td>660</td><td>Fried Green Tomatoes (1991)</td><td>4</td><td>880308256</td></tr><tr><td>189</td><td>20</td><td>Angels and Insects (1995)</td><td>5</td><td>893264466</td></tr><tr><td>222</td><td>796</td><td>Speechless (1994)</td><td>4</td><td>878183684</td></tr><tr><td>146</td><td>1022</td><td>Fast, Cheap & Out of Control (1997)</td><td>5</td><td>891458193</td></tr><tr><td>267</td><td>121</td><td>Independence Day (ID4) (1996)</td><td>3</td><td>878970681</td></tr><tr><td>126</td><td>294</td><td>Liar Liar (1997)</td><td>3</td><td>887855087</td></tr><tr><td>181</td><td>1060</td><td>Adventures of Pinocchio, The (1996)</td><td>1</td><td>878962675</td></tr><tr><td>125</td><td>80</td><td>Hot Shots! Part Deux (1993)</td><td>4</td><td>892838865</td></tr><tr><td>43</td><td>120</td><td>Striptease (1996)</td><td>4</td><td>884029430</td></tr><tr><td>13</td><td>780</td><td>Dumb & Dumber (1994)</td><td>1</td><td>882142057</td></tr><tr><td>253</td><td>259</td><td>George of the Jungle (1997)</td><td>2</td><td>891628883</td></tr><tr><td>42</td><td>44</td><td>Dolores Claiborne (1994)</td><td>3</td><td>881108548</td></tr><tr><td>77</td><td>518</td><td>Miller's Crossing (1990)</td><td>4</td><td>884753202</td></tr><tr><td>291</td><td>686</td><td>Perfect World, A (1993)</td><td>5</td><td>874835165</td></tr><tr><td>268</td><td>21</td><td>Muppet Treasure Island (1996)</td><td>3</td><td>875742822</td></tr><tr><td>262</td><td>28</td><td>Apollo 13 (1995)</td><td>3</td><td>879792220</td></tr><tr><td>234</td><td>81</td><td>Hudsucker Proxy, The (1994)</td><td>3</td><td>892334680</td></tr><tr><td>29</td><td>245</td><td>Devil's Own, The (1997)</td><td>3</td><td>882820803</td></tr><tr><td>236</td><td>57</td><td>Priest (1994)</td><td>5</td><td>890116575</td></tr><tr><td>158</td><td>729</td><td>Nell (1994)</td><td>3</td><td>880133116</td></tr><tr><td>156</td><td>661</td><td>High Noon (1952)</td><td>4</td><td>888185947</td></tr><tr><td>232</td><td>52</td><td>Madness of King George, The (1994)</td><td>5</td><td>888550130</td></tr><tr><td>168</td><td>866</td><td>Michael (1996)</td><td>5</td><td>884287927</td></tr><tr><td>37</td><td>288</td><td>Scream (1996)</td><td>4</td><td>880915258</td></tr><tr><td>141</td><td>245</td><td>Devil's Own, The (1997)</td><td>3</td><td>884584426</td></tr><tr><td>235</td><td>230</td><td>Star Trek IV: The Voyage Home (1986)</td><td>4</td><td>889655162</td></tr><tr><td>102</td><td>70</td><td>Four Weddings and a Funeral (1994)</td><td>3</td><td>888803537</td></tr><tr><td>77</td><td>172</td><td>Empire Strikes Back, The (1980)</td><td>3</td><td>884752562</td></tr><tr><td>90</td><td>506</td><td>Rebel Without a Cause (1955)</td><td>5</td><td>891383319</td></tr><tr><td>186</td><td>566</td><td>Clear and Present Danger (1994)</td><td>5</td><td>879023663</td></tr><tr><td>44</td><td>660</td><td>Fried Green Tomatoes (1991)</td><td>5</td><td>878347915</td></tr><tr><td>118</td><td>774</td><td>Prophecy, The (1995)</td><td>5</td><td>875385198</td></tr><tr><td>7</td><td>661</td><td>High Noon (1952)</td><td>5</td><td>891351624</td></tr><tr><td>49</td><td>1003</td><td>That Darn Cat! (1997)</td><td>2</td><td>888068651</td></tr><tr><td>62</td><td>68</td><td>Crow, The (1994)</td><td>1</td><td>879374969</td></tr><tr><td>42</td><td>1028</td><td>Grumpier Old Men (1995)</td><td>4</td><td>881106072</td></tr><tr><td>178</td><td>433</td><td>Heathers (1989)</td><td>4</td><td>882827834</td></tr><tr><td>85</td><td>51</td><td>Legends of the Fall (1994)</td><td>2</td><td>879454782</td></tr><tr><td>77</td><td>474</td><td>Dr. Strangelove or: How I Learned to Stop Worrying and Love the Bomb (1963)</td><td>5</td><td>884732407</td></tr><tr><td>58</td><td>1099</td><td>Red Firecracker, Green Firecracker (1994)</td><td>2</td><td>892243079</td></tr><tr><td>56</td><td>1047</td><td>Multiplicity (1996)</td><td>4</td><td>892911290</td></tr><tr><td>197</td><td>688</td><td>Leave It to Beaver (1997)</td><td>1</td><td>891409564</td></tr><tr><td>286</td><td>99</td><td>Snow White and the Seven Dwarfs (1937)</td><td>4</td><td>878141681</td></tr><tr><td>90</td><td>258</td><td>Contact (1997)</td><td>3</td><td>891382121</td></tr><tr><td>181</td><td>1288</td><td>Denise Calls Up (1995)</td><td>1</td><td>878962349</td></tr><tr><td>295</td><td>190</td><td>Henry V (1989)</td><td>4</td><td>879517062</td></tr><tr><td>224</td><td>69</td><td>Forrest Gump (1994)</td><td>4</td><td>888082495</td></tr><tr><td>272</td><td>317</td><td>In the Name of the Father (1993)</td><td>4</td><td>879454977</td></tr><tr><td>221</td><td>1010</td><td>Basquiat (1996)</td><td>3</td><td>875246662</td></tr><tr><td>66</td><td>877</td><td>Excess Baggage (1997)</td><td>1</td><td>883601089</td></tr><tr><td>207</td><td>318</td><td>Schindler's List (1993)</td><td>5</td><td>877124871</td></tr><tr><td>234</td><td>487</td><td>Roman Holiday (1953)</td><td>3</td><td>892079237</td></tr><tr><td>7</td><td>648</td><td>Quiet Man, The (1952)</td><td>5</td><td>891351653</td></tr><tr><td>87</td><td>82</td><td>Jurassic Park (1993)</td><td>5</td><td>879875774</td></tr><tr><td>195</td><td>1052</td><td>Dracula: Dead and Loving It (1995)</td><td>1</td><td>877835102</td></tr><tr><td>44</td><td>449</td><td>Star Trek: The Motion Picture (1979)</td><td>5</td><td>883613334</td></tr><tr><td>306</td><td>287</td><td>Marvin's Room (1996)</td><td>4</td><td>876504442</td></tr><tr><td>194</td><td>172</td><td>Empire Strikes Back, The (1980)</td><td>3</td><td>879521474</td></tr><tr><td>94</td><td>62</td><td>Stargate (1994)</td><td>3</td><td>891722933</td></tr><tr><td>167</td><td>659</td><td>Arsenic and Old Lace (1944)</td><td>4</td><td>892738277</td></tr><tr><td>108</td><td>100</td><td>Fargo (1996)</td><td>4</td><td>879879720</td></tr><tr><td>230</td><td>304</td><td>Fly Away Home (1996)</td><td>5</td><td>880484286</td></tr><tr><td>181</td><td>927</td><td>Flower of My Secret, The (Flor de mi secreto, La) (1995)</td><td>1</td><td>878962675</td></tr><tr><td>54</td><td>302</td><td>L.A. Confidential (1997)</td><td>4</td><td>880928519</td></tr><tr><td>90</td><td>22</td><td>Braveheart (1995)</td><td>4</td><td>891384357</td></tr><tr><td>181</td><td>696</td><td>City Hall (1996)</td><td>2</td><td>878962997</td></tr><tr><td>286</td><td>357</td><td>One Flew Over the Cuckoo's Nest (1975)</td><td>4</td><td>877531537</td></tr><tr><td>14</td><td>269</td><td>Full Monty, The (1997)</td><td>4</td><td>892242403</td></tr><tr><td>311</td><td>179</td><td>Clockwork Orange, A (1971)</td><td>2</td><td>884365357</td></tr><tr><td>92</td><td>121</td><td>Independence Day (ID4) (1996)</td><td>5</td><td>875640679</td></tr><tr><td>21</td><td>440</td><td>Amityville II: The Possession (1982)</td><td>1</td><td>874951798</td></tr><tr><td>244</td><td>550</td><td>Die Hard: With a Vengeance (1995)</td><td>1</td><td>880602264</td></tr><tr><td>181</td><td>405</td><td>Mission: Impossible (1996)</td><td>4</td><td>878962919</td></tr><tr><td>65</td><td>806</td><td>Menace II Society (1993)</td><td>4</td><td>879216529</td></tr><tr><td>37</td><td>540</td><td>Money Train (1995)</td><td>2</td><td>880916070</td></tr><tr><td>44</td><td>443</td><td>Birds, The (1963)</td><td>5</td><td>878348289</td></tr><tr><td>244</td><td>183</td><td>Alien (1979)</td><td>4</td><td>880606043</td></tr><tr><td>1</td><td>265</td><td>Hunt for Red October, The (1990)</td><td>4</td><td>878542441</td></tr><tr><td>270</td><td>25</td><td>Birdcage, The (1996)</td><td>5</td><td>876954456</td></tr><tr><td>299</td><td>387</td><td>Age of Innocence, The (1993)</td><td>2</td><td>889502756</td></tr><tr><td>94</td><td>572</td><td>Blown Away (1994)</td><td>3</td><td>891723883</td></tr><tr><td>286</td><td>746</td><td>Real Genius (1985)</td><td>4</td><td>877533058</td></tr><tr><td>239</td><td>272</td><td>Good Will Hunting (1997)</td><td>5</td><td>889181247</td></tr><tr><td>216</td><td>55</td><td>Professional, The (1994)</td><td>5</td><td>880245145</td></tr><tr><td>254</td><td>121</td><td>Independence Day (ID4) (1996)</td><td>3</td><td>886472369</td></tr><tr><td>62</td><td>665</td><td>Alien 3 (1992)</td><td>2</td><td>879376483</td></tr><tr><td>178</td><td>385</td><td>True Lies (1994)</td><td>4</td><td>882826982</td></tr><tr><td>194</td><td>23</td><td>Taxi Driver (1976)</td><td>4</td><td>879522819</td></tr><tr><td>268</td><td>955</td><td>Before Sunrise (1995)</td><td>3</td><td>875745160</td></tr><tr><td>188</td><td>143</td><td>Sound of Music, The (1965)</td><td>5</td><td>875072674</td></tr><tr><td>276</td><td>294</td><td>Liar Liar (1997)</td><td>4</td><td>874786366</td></tr><tr><td>158</td><td>1098</td><td>Flirting With Disaster (1996)</td><td>4</td><td>880135069</td></tr><tr><td>207</td><td>845</td><td>That Thing You Do! (1996)</td><td>3</td><td>881681663</td></tr><tr><td>161</td><td>48</td><td>Hoop Dreams (1994)</td><td>1</td><td>891170745</td></tr><tr><td>305</td><td>654</td><td>Chinatown (1974)</td><td>4</td><td>886323937</td></tr><tr><td>47</td><td>324</td><td>Lost Highway (1997)</td><td>3</td><td>879439078</td></tr><tr><td>64</td><td>736</td><td>Shadowlands (1993)</td><td>4</td><td>889739212</td></tr><tr><td>191</td><td>751</td><td>Tomorrow Never Dies (1997)</td><td>3</td><td>891560753</td></tr><tr><td>7</td><td>378</td><td>Miracle on 34th Street (1994)</td><td>5</td><td>891353011</td></tr><tr><td>59</td><td>92</td><td>True Romance (1993)</td><td>5</td><td>888204997</td></tr><tr><td>69</td><td>268</td><td>Chasing Amy (1997)</td><td>5</td><td>882027109</td></tr><tr><td>10</td><td>461</td><td>Smoke (1995)</td><td>3</td><td>877888944</td></tr><tr><td>21</td><td>129</td><td>Bound (1996)</td><td>4</td><td>874951382</td></tr><tr><td>58</td><td>9</td><td>Dead Man Walking (1995)</td><td>4</td><td>884304328</td></tr><tr><td>194</td><td>152</td><td>Sleeper (1973)</td><td>3</td><td>879549996</td></tr><tr><td>7</td><td>200</td><td>Shining, The (1980)</td><td>5</td><td>891353543</td></tr><tr><td>113</td><td>126</td><td>Spitfire Grill, The (1996)</td><td>5</td><td>875076827</td></tr><tr><td>173</td><td>328</td><td>Conspiracy Theory (1997)</td><td>5</td><td>877557028</td></tr><tr><td>95</td><td>233</td><td>Under Siege (1992)</td><td>4</td><td>879196354</td></tr><tr><td>16</td><td>194</td><td>Sting, The (1973)</td><td>5</td><td>877720733</td></tr><tr><td>59</td><td>323</td><td>Dante's Peak (1997)</td><td>4</td><td>888206809</td></tr><tr><td>311</td><td>654</td><td>Chinatown (1974)</td><td>3</td><td>884365075</td></tr><tr><td>292</td><td>589</td><td>Wild Bunch, The (1969)</td><td>4</td><td>881105516</td></tr><tr><td>43</td><td>203</td><td>Unforgiven (1992)</td><td>4</td><td>883955224</td></tr><tr><td>79</td><td>50</td><td>Star Wars (1977)</td><td>4</td><td>891271545</td></tr><tr><td>235</td><td>70</td><td>Four Weddings and a Funeral (1994)</td><td>5</td><td>889655619</td></tr><tr><td>125</td><td>190</td><td>Henry V (1989)</td><td>5</td><td>892836309</td></tr><tr><td>284</td><td>322</td><td>Murder at 1600 (1997)</td><td>3</td><td>885329671</td></tr><tr><td>303</td><td>161</td><td>Top Gun (1986)</td><td>5</td><td>879468547</td></tr><tr><td>254</td><td>378</td><td>Miracle on 34th Street (1994)</td><td>3</td><td>886474396</td></tr><tr><td>255</td><td>1034</td><td>Quest, The (1996)</td><td>1</td><td>883217030</td></tr><tr><td>104</td><td>301</td><td>In & Out (1997)</td><td>2</td><td>888442275</td></tr><tr><td>90</td><td>923</td><td>Raise the Red Lantern (1991)</td><td>5</td><td>891383912</td></tr><tr><td>6</td><td>463</td><td>Secret of Roan Inish, The (1994)</td><td>4</td><td>883601713</td></tr><tr><td>279</td><td>122</td><td>Cable Guy, The (1996)</td><td>1</td><td>875297433</td></tr><tr><td>286</td><td>298</td><td>Face/Off (1997)</td><td>4</td><td>875807004</td></tr><tr><td>222</td><td>448</td><td>Omen, The (1976)</td><td>3</td><td>878183565</td></tr><tr><td>297</td><td>57</td><td>Priest (1994)</td><td>5</td><td>875239383</td></tr><tr><td>42</td><td>625</td><td>Sword in the Stone, The (1963)</td><td>3</td><td>881108873</td></tr><tr><td>130</td><td>1217</td><td>Assassins (1995)</td><td>4</td><td>875801778</td></tr><tr><td>254</td><td>357</td><td>One Flew Over the Cuckoo's Nest (1975)</td><td>3</td><td>886472466</td></tr><tr><td>109</td><td>475</td><td>Trainspotting (1996)</td><td>1</td><td>880563641</td></tr><tr><td>230</td><td>1444</td><td>That Darn Cat! (1965)</td><td>2</td><td>880485726</td></tr><tr><td>244</td><td>310</td><td>Rainmaker, The (1997)</td><td>3</td><td>880601905</td></tr><tr><td>6</td><td>301</td><td>In & Out (1997)</td><td>2</td><td>883600406</td></tr><tr><td>36</td><td>748</td><td>Saint, The (1997)</td><td>4</td><td>882157285</td></tr><tr><td>256</td><td>443</td><td>Birds, The (1963)</td><td>3</td><td>882164727</td></tr><tr><td>102</td><td>515</td><td>Boot, Das (1981)</td><td>1</td><td>888801316</td></tr><tr><td>104</td><td>285</td><td>Secrets & Lies (1996)</td><td>4</td><td>888465201</td></tr><tr><td>21</td><td>447</td><td>Carrie (1976)</td><td>5</td><td>874951695</td></tr><tr><td>111</td><td>301</td><td>In & Out (1997)</td><td>4</td><td>891680028</td></tr><tr><td>18</td><td>408</td><td>Close Shave, A (1995)</td><td>5</td><td>880129628</td></tr><tr><td>25</td><td>222</td><td>Star Trek: First Contact (1996)</td><td>4</td><td>885852817</td></tr><tr><td>110</td><td>944</td><td>Renaissance Man (1994)</td><td>3</td><td>886989501</td></tr><tr><td>270</td><td>98</td><td>Silence of the Lambs, The (1991)</td><td>5</td><td>876955868</td></tr><tr><td>68</td><td>237</td><td>Jerry Maguire (1996)</td><td>5</td><td>876974133</td></tr><tr><td>83</td><td>215</td><td>Field of Dreams (1989)</td><td>4</td><td>880307940</td></tr><tr><td>6</td><td>258</td><td>Contact (1997)</td><td>2</td><td>883268278</td></tr><tr><td>89</td><td>216</td><td>When Harry Met Sally... (1989)</td><td>5</td><td>879459859</td></tr><tr><td>128</td><td>317</td><td>In the Name of the Father (1993)</td><td>4</td><td>879968029</td></tr><tr><td>305</td><td>512</td><td>Wings of Desire (1987)</td><td>4</td><td>886323525</td></tr><tr><td>184</td><td>412</td><td>Very Brady Sequel, A (1996)</td><td>2</td><td>889912691</td></tr><tr><td>286</td><td>175</td><td>Brazil (1985)</td><td>5</td><td>877532470</td></tr><tr><td>279</td><td>1428</td><td>SubUrbia (1997)</td><td>3</td><td>888465209</td></tr><tr><td>256</td><td>86</td><td>Remains of the Day, The (1993)</td><td>5</td><td>882165103</td></tr><tr><td>221</td><td>48</td><td>Hoop Dreams (1994)</td><td>5</td><td>875245462</td></tr><tr><td>140</td><td>332</td><td>Kiss the Girls (1997)</td><td>3</td><td>879013617</td></tr><tr><td>190</td><td>977</td><td>Substitute, The (1996)</td><td>2</td><td>891042938</td></tr><tr><td>11</td><td>227</td><td>Star Trek VI: The Undiscovered Country (1991)</td><td>3</td><td>891905896</td></tr><tr><td>201</td><td>203</td><td>Unforgiven (1992)</td><td>5</td><td>884114471</td></tr><tr><td>150</td><td>181</td><td>Return of the Jedi (1983)</td><td>5</td><td>878746685</td></tr><tr><td>126</td><td>245</td><td>Devil's Own, The (1997)</td><td>3</td><td>887854726</td></tr><tr><td>20</td><td>208</td><td>Young Frankenstein (1974)</td><td>2</td><td>879669401</td></tr><tr><td>144</td><td>742</td><td>Ransom (1996)</td><td>4</td><td>888104122</td></tr><tr><td>181</td><td>930</td><td>Chain Reaction (1996)</td><td>1</td><td>878963275</td></tr><tr><td>109</td><td>566</td><td>Clear and Present Danger (1994)</td><td>4</td><td>880578814</td></tr><tr><td>85</td><td>1065</td><td>Koyaanisqatsi (1983)</td><td>3</td><td>879455021</td></tr><tr><td>213</td><td>133</td><td>Gone with the Wind (1939)</td><td>3</td><td>878955973</td></tr><tr><td>222</td><td>379</td><td>Tales From the Crypt Presents: Demon Knight (1995)</td><td>1</td><td>878184290</td></tr><tr><td>223</td><td>11</td><td>Seven (Se7en) (1995)</td><td>3</td><td>891550649</td></tr><tr><td>215</td><td>421</td><td>William Shakespeare's Romeo and Juliet (1996)</td><td>4</td><td>891435704</td></tr><tr><td>218</td><td>208</td><td>Young Frankenstein (1974)</td><td>3</td><td>877488366</td></tr><tr><td>174</td><td>937</td><td>Thousand Acres, A (1997)</td><td>5</td><td>886432989</td></tr><tr><td>275</td><td>186</td><td>Blues Brothers, The (1980)</td><td>3</td><td>880314383</td></tr><tr><td>68</td><td>742</td><td>Ransom (1996)</td><td>1</td><td>876974198</td></tr><tr><td>268</td><td>583</td><td>Romeo Is Bleeding (1993)</td><td>4</td><td>876513830</td></tr><tr><td>160</td><td>462</td><td>Like Water For Chocolate (Como agua para chocolate) (1992)</td><td>4</td><td>876858346</td></tr><tr><td>195</td><td>273</td><td>Heat (1995)</td><td>4</td><td>878019342</td></tr><tr><td>224</td><td>178</td><td>12 Angry Men (1957)</td><td>4</td><td>888082468</td></tr><tr><td>5</td><td>110</td><td>Operation Dumbo Drop (1995)</td><td>1</td><td>875636493</td></tr><tr><td>99</td><td>1016</td><td>Con Air (1997)</td><td>5</td><td>885678724</td></tr><tr><td>2</td><td>251</td><td>Shall We Dance? (1996)</td><td>5</td><td>888552084</td></tr><tr><td>292</td><td>9</td><td>Dead Man Walking (1995)</td><td>4</td><td>881104148</td></tr><tr><td>72</td><td>568</td><td>Speed (1994)</td><td>4</td><td>880037203</td></tr><tr><td>85</td><td>228</td><td>Star Trek: The Wrath of Khan (1982)</td><td>3</td><td>882813248</td></tr><tr><td>83</td><td>281</td><td>River Wild, The (1994)</td><td>5</td><td>880307072</td></tr><tr><td>92</td><td>831</td><td>Escape from L.A. (1996)</td><td>2</td><td>886443708</td></tr><tr><td>7</td><td>543</td><td>Mis�rables, Les (1995)</td><td>3</td><td>891351772</td></tr><tr><td>87</td><td>401</td><td>Brady Bunch Movie, The (1995)</td><td>2</td><td>879876813</td></tr><tr><td>287</td><td>926</td><td>Down Periscope (1996)</td><td>4</td><td>875334340</td></tr><tr><td>1</td><td>155</td><td>Dirty Dancing (1987)</td><td>2</td><td>878542201</td></tr><tr><td>234</td><td>632</td><td>Sophie's Choice (1982)</td><td>2</td><td>892079538</td></tr><tr><td>222</td><td>53</td><td>Natural Born Killers (1994)</td><td>5</td><td>878184113</td></tr><tr><td>24</td><td>64</td><td>Shawshank Redemption, The (1994)</td><td>5</td><td>875322758</td></tr><tr><td>7</td><td>554</td><td>Waterworld (1995)</td><td>3</td><td>891354639</td></tr><tr><td>82</td><td>56</td><td>Pulp Fiction (1994)</td><td>3</td><td>878769410</td></tr><tr><td>161</td><td>318</td><td>Schindler's List (1993)</td><td>3</td><td>891170824</td></tr><tr><td>196</td><td>393</td><td>Mrs. Doubtfire (1993)</td><td>4</td><td>881251863</td></tr><tr><td>56</td><td>91</td><td>Nightmare Before Christmas, The (1993)</td><td>4</td><td>892683275</td></tr><tr><td>82</td><td>477</td><td>Matilda (1996)</td><td>3</td><td>876311344</td></tr><tr><td>7</td><td>472</td><td>Dragonheart (1996)</td><td>2</td><td>891353357</td></tr><tr><td>256</td><td>761</td><td>Nick of Time (1995)</td><td>4</td><td>882164644</td></tr><tr><td>226</td><td>56</td><td>Pulp Fiction (1994)</td><td>4</td><td>883889102</td></tr><tr><td>279</td><td>741</td><td>Last Supper, The (1995)</td><td>5</td><td>875296891</td></tr><tr><td>308</td><td>1286</td><td>Shall We Dance? (1937)</td><td>3</td><td>887738151</td></tr><tr><td>16</td><td>8</td><td>Babe (1995)</td><td>5</td><td>877722736</td></tr><tr><td>180</td><td>202</td><td>Groundhog Day (1993)</td><td>3</td><td>877128388</td></tr><tr><td>203</td><td>93</td><td>Welcome to the Dollhouse (1995)</td><td>4</td><td>880434940</td></tr><tr><td>145</td><td>56</td><td>Pulp Fiction (1994)</td><td>5</td><td>875271896</td></tr><tr><td>288</td><td>305</td><td>Ice Storm, The (1997)</td><td>4</td><td>886372527</td></tr><tr><td>84</td><td>742</td><td>Ransom (1996)</td><td>3</td><td>883450643</td></tr><tr><td>44</td><td>644</td><td>Thin Blue Line, The (1988)</td><td>3</td><td>878347818</td></tr><tr><td>17</td><td>13</td><td>Mighty Aphrodite (1995)</td><td>3</td><td>885272654</td></tr><tr><td>313</td><td>117</td><td>Rock, The (1996)</td><td>4</td><td>891015319</td></tr><tr><td>148</td><td>1</td><td>Toy Story (1995)</td><td>4</td><td>877019411</td></tr><tr><td>197</td><td>347</td><td>Wag the Dog (1997)</td><td>4</td><td>891409070</td></tr><tr><td>21</td><td>164</td><td>Abyss, The (1989)</td><td>5</td><td>874951695</td></tr><tr><td>279</td><td>982</td><td>Maximum Risk (1996)</td><td>3</td><td>875298314</td></tr><tr><td>239</td><td>491</td><td>Adventures of Robin Hood, The (1938)</td><td>5</td><td>889181015</td></tr><tr><td>185</td><td>287</td><td>Marvin's Room (1996)</td><td>5</td><td>883526288</td></tr><tr><td>297</td><td>89</td><td>Blade Runner (1982)</td><td>4</td><td>875239125</td></tr><tr><td>303</td><td>68</td><td>Crow, The (1994)</td><td>4</td><td>879467361</td></tr><tr><td>186</td><td>250</td><td>Fifth Element, The (1997)</td><td>1</td><td>879023607</td></tr><tr><td>73</td><td>206</td><td>Akira (1988)</td><td>3</td><td>888625754</td></tr><tr><td>104</td><td>756</td><td>Father of the Bride Part II (1995)</td><td>2</td><td>888465739</td></tr><tr><td>94</td><td>216</td><td>When Harry Met Sally... (1989)</td><td>3</td><td>885870665</td></tr><tr><td>239</td><td>194</td><td>Sting, The (1973)</td><td>5</td><td>889178833</td></tr><tr><td>197</td><td>511</td><td>Lawrence of Arabia (1962)</td><td>5</td><td>891409839</td></tr><tr><td>280</td><td>1</td><td>Toy Story (1995)</td><td>4</td><td>891700426</td></tr><tr><td>1</td><td>117</td><td>Rock, The (1996)</td><td>3</td><td>874965739</td></tr><tr><td>224</td><td>583</td><td>Romeo Is Bleeding (1993)</td><td>1</td><td>888103729</td></tr><tr><td>303</td><td>397</td><td>Striking Distance (1993)</td><td>1</td><td>879543831</td></tr><tr><td>60</td><td>162</td><td>On Golden Pond (1981)</td><td>4</td><td>883327734</td></tr><tr><td>198</td><td>258</td><td>Contact (1997)</td><td>4</td><td>884204501</td></tr><tr><td>239</td><td>513</td><td>Third Man, The (1949)</td><td>5</td><td>889178887</td></tr><tr><td>6</td><td>69</td><td>Forrest Gump (1994)</td><td>3</td><td>883601277</td></tr><tr><td>233</td><td>375</td><td>Showgirls (1995)</td><td>4</td><td>876374419</td></tr><tr><td>85</td><td>642</td><td>Grifters, The (1990)</td><td>4</td><td>882995615</td></tr><tr><td>110</td><td>38</td><td>Net, The (1995)</td><td>3</td><td>886988574</td></tr><tr><td>184</td><td>522</td><td>Down by Law (1986)</td><td>3</td><td>889908462</td></tr><tr><td>99</td><td>873</td><td>Picture Perfect (1997)</td><td>1</td><td>885678436</td></tr><tr><td>13</td><td>418</td><td>Cinderella (1950)</td><td>2</td><td>882398763</td></tr><tr><td>201</td><td>518</td><td>Miller's Crossing (1990)</td><td>4</td><td>884112201</td></tr><tr><td>13</td><td>858</td><td>Amityville: Dollhouse (1996)</td><td>1</td><td>882397068</td></tr><tr><td>214</td><td>131</td><td>Breakfast at Tiffany's (1961)</td><td>3</td><td>891544465</td></tr><tr><td>296</td><td>228</td><td>Star Trek: The Wrath of Khan (1982)</td><td>4</td><td>884197264</td></tr><tr><td>222</td><td>87</td><td>Searching for Bobby Fischer (1993)</td><td>3</td><td>878182589</td></tr><tr><td>279</td><td>725</td><td>Exit to Eden (1994)</td><td>4</td><td>875314144</td></tr><tr><td>217</td><td>182</td><td>GoodFellas (1990)</td><td>2</td><td>889070109</td></tr><tr><td>85</td><td>433</td><td>Heathers (1989)</td><td>3</td><td>879828720</td></tr><tr><td>239</td><td>234</td><td>Jaws (1975)</td><td>3</td><td>889178762</td></tr><tr><td>13</td><td>72</td><td>Mask, The (1994)</td><td>4</td><td>882141727</td></tr><tr><td>194</td><td>77</td><td>Firm, The (1993)</td><td>3</td><td>879527421</td></tr><tr><td>208</td><td>663</td><td>Being There (1979)</td><td>5</td><td>883108476</td></tr><tr><td>109</td><td>178</td><td>12 Angry Men (1957)</td><td>3</td><td>880572950</td></tr><tr><td>230</td><td>172</td><td>Empire Strikes Back, The (1980)</td><td>4</td><td>880484523</td></tr><tr><td>59</td><td>485</td><td>My Fair Lady (1964)</td><td>2</td><td>888204466</td></tr></tbody></table>Showing the first 1000 rows.</div>"
      ]
     },
     "metadata": {
      "application/vnd.databricks.v1+output": {
       "overflow": true,
       "datasetInfos": [],
       "data": [
        [
         196.0,
         242.0,
         "Kolya (1996)",
         3.0,
         8.81250949E8
        ],
        [
         186.0,
         302.0,
         "L.A. Confidential (1997)",
         3.0,
         8.91717742E8
        ],
        [
         22.0,
         377.0,
         "Heavyweights (1994)",
         1.0,
         8.78887116E8
        ],
        [
         244.0,
         51.0,
         "Legends of the Fall (1994)",
         2.0,
         8.80606923E8
        ],
        [
         166.0,
         346.0,
         "Jackie Brown (1997)",
         1.0,
         8.86397596E8
        ],
        [
         298.0,
         474.0,
         "Dr. Strangelove or: How I Learned to Stop Worrying and Love the Bomb (1963)",
         4.0,
         8.84182806E8
        ],
        [
         115.0,
         265.0,
         "Hunt for Red October, The (1990)",
         2.0,
         8.81171488E8
        ],
        [
         253.0,
         465.0,
         "Jungle Book, The (1994)",
         5.0,
         8.91628467E8
        ],
        [
         305.0,
         451.0,
         "Grease (1978)",
         3.0,
         8.86324817E8
        ],
        [
         6.0,
         86.0,
         "Remains of the Day, The (1993)",
         3.0,
         8.83603013E8
        ],
        [
         62.0,
         257.0,
         "Men in Black (1997)",
         2.0,
         8.79372434E8
        ],
        [
         286.0,
         1014.0,
         "Romy and Michele's High School Reunion (1997)",
         5.0,
         8.79781125E8
        ],
        [
         200.0,
         222.0,
         "Star Trek: First Contact (1996)",
         5.0,
         8.7604234E8
        ],
        [
         210.0,
         40.0,
         "To Wong Foo, Thanks for Everything! Julie Newmar (1995)",
         3.0,
         8.91035994E8
        ],
        [
         224.0,
         29.0,
         "Batman Forever (1995)",
         3.0,
         8.88104457E8
        ],
        [
         303.0,
         785.0,
         "Only You (1994)",
         3.0,
         8.79485318E8
        ],
        [
         122.0,
         387.0,
         "Age of Innocence, The (1993)",
         5.0,
         8.79270459E8
        ],
        [
         194.0,
         274.0,
         "Sabrina (1995)",
         2.0,
         8.79539794E8
        ],
        [
         291.0,
         1042.0,
         "Just Cause (1995)",
         4.0,
         8.74834944E8
        ],
        [
         234.0,
         1184.0,
         "Endless Summer 2, The (1994)",
         2.0,
         8.92079237E8
        ],
        [
         119.0,
         392.0,
         "Man Without a Face, The (1993)",
         4.0,
         8.86176814E8
        ],
        [
         167.0,
         486.0,
         "Sabrina (1954)",
         4.0,
         8.92738452E8
        ],
        [
         299.0,
         144.0,
         "Die Hard (1988)",
         4.0,
         8.7788132E8
        ],
        [
         291.0,
         118.0,
         "Twister (1996)",
         2.0,
         8.74833878E8
        ],
        [
         308.0,
         1.0,
         "Toy Story (1995)",
         4.0,
         8.87736532E8
        ],
        [
         95.0,
         546.0,
         "Broken Arrow (1996)",
         2.0,
         8.79196566E8
        ],
        [
         38.0,
         95.0,
         "Aladdin (1992)",
         5.0,
         8.92430094E8
        ],
        [
         102.0,
         768.0,
         "Casper (1995)",
         2.0,
         8.8374845E8
        ],
        [
         63.0,
         277.0,
         "Restoration (1995)",
         4.0,
         8.75747401E8
        ],
        [
         160.0,
         234.0,
         "Jaws (1975)",
         5.0,
         8.76861185E8
        ],
        [
         50.0,
         246.0,
         "Chasing Amy (1997)",
         3.0,
         8.77052329E8
        ],
        [
         301.0,
         98.0,
         "Silence of the Lambs, The (1991)",
         4.0,
         8.82075827E8
        ],
        [
         225.0,
         193.0,
         "Right Stuff, The (1983)",
         4.0,
         8.79539727E8
        ],
        [
         290.0,
         88.0,
         "Sleepless in Seattle (1993)",
         4.0,
         8.80731963E8
        ],
        [
         97.0,
         194.0,
         "Sting, The (1973)",
         3.0,
         8.8423886E8
        ],
        [
         157.0,
         274.0,
         "Sabrina (1995)",
         4.0,
         8.86890835E8
        ],
        [
         181.0,
         1081.0,
         "Curdled (1996)",
         1.0,
         8.78962623E8
        ],
        [
         278.0,
         603.0,
         "Rear Window (1954)",
         5.0,
         8.9129533E8
        ],
        [
         276.0,
         796.0,
         "Speechless (1994)",
         1.0,
         8.74791932E8
        ],
        [
         7.0,
         32.0,
         "Crumb (1994)",
         4.0,
         8.91350932E8
        ],
        [
         10.0,
         16.0,
         "French Twist (Gazon maudit) (1995)",
         4.0,
         8.77888877E8
        ],
        [
         284.0,
         304.0,
         "Fly Away Home (1996)",
         4.0,
         8.85329322E8
        ],
        [
         201.0,
         979.0,
         "Trigger Effect, The (1996)",
         2.0,
         8.84114233E8
        ],
        [
         276.0,
         564.0,
         "Tales from the Hood (1995)",
         3.0,
         8.74791805E8
        ],
        [
         287.0,
         327.0,
         "Cop Land (1997)",
         5.0,
         8.75333916E8
        ],
        [
         246.0,
         201.0,
         "Evil Dead II (1987)",
         5.0,
         8.84921594E8
        ],
        [
         242.0,
         1137.0,
         "Beautiful Thing (1996)",
         5.0,
         8.79741196E8
        ],
        [
         249.0,
         241.0,
         "Last of the Mohicans, The (1992)",
         5.0,
         8.79641194E8
        ],
        [
         99.0,
         4.0,
         "Get Shorty (1995)",
         5.0,
         8.86519097E8
        ],
        [
         178.0,
         332.0,
         "Kiss the Girls (1997)",
         3.0,
         8.82823437E8
        ],
        [
         251.0,
         100.0,
         "Fargo (1996)",
         4.0,
         8.86271884E8
        ],
        [
         81.0,
         432.0,
         "Fantasia (1940)",
         2.0,
         8.76535131E8
        ],
        [
         260.0,
         322.0,
         "Murder at 1600 (1997)",
         4.0,
         8.90618898E8
        ],
        [
         25.0,
         181.0,
         "Return of the Jedi (1983)",
         5.0,
         8.85853415E8
        ],
        [
         59.0,
         196.0,
         "Dead Poets Society (1989)",
         5.0,
         8.88205088E8
        ],
        [
         72.0,
         679.0,
         "Conan the Barbarian (1981)",
         2.0,
         8.80037164E8
        ],
        [
         87.0,
         384.0,
         "Naked Gun 33 1/3: The Final Insult (1994)",
         4.0,
         8.79877127E8
        ],
        [
         290.0,
         143.0,
         "Sound of Music, The (1965)",
         5.0,
         8.80474293E8
        ],
        [
         42.0,
         423.0,
         "E.T. the Extra-Terrestrial (1982)",
         5.0,
         8.81107687E8
        ],
        [
         292.0,
         515.0,
         "Boot, Das (1981)",
         4.0,
         8.81103977E8
        ],
        [
         115.0,
         20.0,
         "Angels and Insects (1995)",
         3.0,
         8.81171009E8
        ],
        [
         20.0,
         288.0,
         "Scream (1996)",
         1.0,
         8.79667584E8
        ],
        [
         201.0,
         219.0,
         "Nightmare on Elm Street, A (1984)",
         4.0,
         8.84112673E8
        ],
        [
         13.0,
         526.0,
         "Ben-Hur (1959)",
         3.0,
         8.82141053E8
        ],
        [
         246.0,
         919.0,
         "City of Lost Children, The (1995)",
         4.0,
         8.84920949E8
        ],
        [
         138.0,
         26.0,
         "Brothers McMullen, The (1995)",
         5.0,
         8.79024232E8
        ],
        [
         167.0,
         232.0,
         "Young Guns (1988)",
         1.0,
         8.92738341E8
        ],
        [
         60.0,
         427.0,
         "To Kill a Mockingbird (1962)",
         5.0,
         8.8332662E8
        ],
        [
         57.0,
         304.0,
         "Fly Away Home (1996)",
         5.0,
         8.83698581E8
        ],
        [
         223.0,
         274.0,
         "Sabrina (1995)",
         4.0,
         8.91550094E8
        ],
        [
         189.0,
         512.0,
         "Wings of Desire (1987)",
         4.0,
         8.93277702E8
        ],
        [
         243.0,
         15.0,
         "Mr. Holland's Opus (1995)",
         3.0,
         8.7998744E8
        ],
        [
         92.0,
         1049.0,
         "House Arrest (1996)",
         1.0,
         8.90251826E8
        ],
        [
         246.0,
         416.0,
         "Old Yeller (1957)",
         3.0,
         8.84923047E8
        ],
        [
         194.0,
         165.0,
         "Jean de Florette (1986)",
         4.0,
         8.79546723E8
        ],
        [
         241.0,
         690.0,
         "Seven Years in Tibet (1997)",
         2.0,
         8.87249482E8
        ],
        [
         178.0,
         248.0,
         "Grosse Pointe Blank (1997)",
         4.0,
         8.82823954E8
        ],
        [
         254.0,
         1444.0,
         "That Darn Cat! (1965)",
         3.0,
         8.86475558E8
        ],
        [
         293.0,
         5.0,
         "Copycat (1995)",
         3.0,
         8.88906576E8
        ],
        [
         127.0,
         229.0,
         "Star Trek III: The Search for Spock (1984)",
         5.0,
         8.84364867E8
        ],
        [
         225.0,
         237.0,
         "Jerry Maguire (1996)",
         5.0,
         8.79539643E8
        ],
        [
         299.0,
         229.0,
         "Star Trek III: The Search for Spock (1984)",
         3.0,
         8.78192429E8
        ],
        [
         225.0,
         480.0,
         "North by Northwest (1959)",
         5.0,
         8.79540748E8
        ],
        [
         276.0,
         54.0,
         "Outbreak (1995)",
         3.0,
         8.74791025E8
        ],
        [
         291.0,
         144.0,
         "Die Hard (1988)",
         5.0,
         8.74835091E8
        ],
        [
         222.0,
         366.0,
         "Dangerous Minds (1995)",
         4.0,
         8.78183381E8
        ],
        [
         267.0,
         518.0,
         "Miller's Crossing (1990)",
         5.0,
         8.78971773E8
        ],
        [
         42.0,
         403.0,
         "Batman (1989)",
         3.0,
         8.81108684E8
        ],
        [
         11.0,
         111.0,
         "Truth About Cats & Dogs, The (1996)",
         4.0,
         8.91903862E8
        ],
        [
         95.0,
         625.0,
         "Sword in the Stone, The (1963)",
         4.0,
         8.88954412E8
        ],
        [
         8.0,
         338.0,
         "Bean (1997)",
         4.0,
         8.79361873E8
        ],
        [
         162.0,
         25.0,
         "Birdcage, The (1996)",
         4.0,
         8.77635573E8
        ],
        [
         87.0,
         1016.0,
         "Con Air (1997)",
         4.0,
         8.79876194E8
        ],
        [
         279.0,
         154.0,
         "Monty Python's Life of Brian (1979)",
         5.0,
         8.75296291E8
        ],
        [
         145.0,
         275.0,
         "Sense and Sensibility (1995)",
         2.0,
         8.85557505E8
        ],
        [
         119.0,
         1153.0,
         "Backbeat (1993)",
         5.0,
         8.74781198E8
        ],
        [
         62.0,
         498.0,
         "African Queen, The (1951)",
         4.0,
         8.79373848E8
        ],
        [
         62.0,
         382.0,
         "Adventures of Priscilla, Queen of the Desert, The (1994)",
         3.0,
         8.79375537E8
        ],
        [
         28.0,
         209.0,
         "This Is Spinal Tap (1984)",
         4.0,
         8.81961214E8
        ],
        [
         135.0,
         23.0,
         "Taxi Driver (1976)",
         4.0,
         8.79857765E8
        ],
        [
         32.0,
         294.0,
         "Liar Liar (1997)",
         3.0,
         8.83709863E8
        ],
        [
         90.0,
         382.0,
         "Adventures of Priscilla, Queen of the Desert, The (1994)",
         5.0,
         8.91383835E8
        ],
        [
         286.0,
         208.0,
         "Young Frankenstein (1974)",
         4.0,
         8.77531942E8
        ],
        [
         293.0,
         685.0,
         "Executive Decision (1996)",
         3.0,
         8.8890517E8
        ],
        [
         216.0,
         144.0,
         "Die Hard (1988)",
         4.0,
         8.80234639E8
        ],
        [
         166.0,
         328.0,
         "Conspiracy Theory (1997)",
         5.0,
         8.86397722E8
        ],
        [
         250.0,
         496.0,
         "It's a Wonderful Life (1946)",
         4.0,
         8.78090499E8
        ],
        [
         271.0,
         132.0,
         "Wizard of Oz, The (1939)",
         5.0,
         8.85848672E8
        ],
        [
         160.0,
         174.0,
         "Raiders of the Lost Ark (1981)",
         5.0,
         8.76860807E8
        ],
        [
         265.0,
         118.0,
         "Twister (1996)",
         4.0,
         8.75320714E8
        ],
        [
         198.0,
         498.0,
         "African Queen, The (1951)",
         3.0,
         8.84207492E8
        ],
        [
         42.0,
         96.0,
         "Terminator 2: Judgment Day (1991)",
         5.0,
         8.81107178E8
        ],
        [
         168.0,
         151.0,
         "Willy Wonka and the Chocolate Factory (1971)",
         5.0,
         8.84288058E8
        ],
        [
         110.0,
         307.0,
         "Devil's Advocate, The (1997)",
         4.0,
         8.8698726E8
        ],
        [
         58.0,
         144.0,
         "Die Hard (1988)",
         4.0,
         8.84304936E8
        ],
        [
         90.0,
         648.0,
         "Quiet Man, The (1952)",
         4.0,
         8.91384754E8
        ],
        [
         271.0,
         346.0,
         "Jackie Brown (1997)",
         4.0,
         8.8584443E8
        ],
        [
         62.0,
         21.0,
         "Muppet Treasure Island (1996)",
         3.0,
         8.7937346E8
        ],
        [
         279.0,
         832.0,
         "Bogus (1996)",
         3.0,
         8.81375854E8
        ],
        [
         237.0,
         514.0,
         "Annie Hall (1977)",
         4.0,
         8.79376641E8
        ],
        [
         94.0,
         789.0,
         "Swimming with Sharks (1995)",
         4.0,
         8.91720887E8
        ],
        [
         128.0,
         485.0,
         "My Fair Lady (1964)",
         3.0,
         8.79966895E8
        ],
        [
         298.0,
         317.0,
         "In the Name of the Father (1993)",
         4.0,
         8.84182806E8
        ],
        [
         44.0,
         195.0,
         "Terminator, The (1984)",
         5.0,
         8.78347874E8
        ],
        [
         264.0,
         200.0,
         "Shining, The (1980)",
         5.0,
         8.86122352E8
        ],
        [
         194.0,
         385.0,
         "True Lies (1994)",
         2.0,
         8.79524643E8
        ],
        [
         72.0,
         195.0,
         "Terminator, The (1984)",
         5.0,
         8.80037702E8
        ],
        [
         222.0,
         750.0,
         "Amistad (1997)",
         5.0,
         8.8381512E8
        ],
        [
         250.0,
         264.0,
         "Mimic (1997)",
         3.0,
         8.78089182E8
        ],
        [
         41.0,
         265.0,
         "Hunt for Red October, The (1990)",
         3.0,
         8.90687042E8
        ],
        [
         224.0,
         245.0,
         "Devil's Own, The (1997)",
         3.0,
         8.88082216E8
        ],
        [
         82.0,
         135.0,
         "2001: A Space Odyssey (1968)",
         3.0,
         8.78769629E8
        ],
        [
         262.0,
         1147.0,
         "My Family (1995)",
         4.0,
         8.7979171E8
        ],
        [
         293.0,
         471.0,
         "Courage Under Fire (1996)",
         3.0,
         8.88904884E8
        ],
        [
         216.0,
         658.0,
         "Pump Up the Volume (1990)",
         3.0,
         8.80245029E8
        ],
        [
         250.0,
         140.0,
         "Homeward Bound: The Incredible Journey (1993)",
         3.0,
         8.78092059E8
        ],
        [
         59.0,
         23.0,
         "Taxi Driver (1976)",
         5.0,
         8.882053E8
        ],
        [
         286.0,
         379.0,
         "Tales From the Crypt Presents: Demon Knight (1995)",
         5.0,
         8.77533771E8
        ],
        [
         244.0,
         815.0,
         "One Fine Day (1996)",
         4.0,
         8.80605185E8
        ],
        [
         7.0,
         479.0,
         "Vertigo (1958)",
         4.0,
         8.9135201E8
        ],
        [
         174.0,
         368.0,
         "Bio-Dome (1996)",
         1.0,
         8.86434402E8
        ],
        [
         87.0,
         274.0,
         "Sabrina (1995)",
         4.0,
         8.79876734E8
        ],
        [
         194.0,
         1211.0,
         "Blue Sky (1994)",
         2.0,
         8.7955138E8
        ],
        [
         82.0,
         1134.0,
         "Get on the Bus (1996)",
         2.0,
         8.84714402E8
        ],
        [
         13.0,
         836.0,
         "Ninotchka (1939)",
         2.0,
         8.82139746E8
        ],
        [
         13.0,
         272.0,
         "Good Will Hunting (1997)",
         4.0,
         8.84538403E8
        ],
        [
         244.0,
         756.0,
         "Father of the Bride Part II (1995)",
         2.0,
         8.80605157E8
        ],
        [
         305.0,
         427.0,
         "To Kill a Mockingbird (1962)",
         5.0,
         8.8632309E8
        ],
        [
         95.0,
         787.0,
         "Roommates (1995)",
         2.0,
         8.8895493E8
        ],
        [
         43.0,
         14.0,
         "Postino, Il (1994)",
         2.0,
         8.83955745E8
        ],
        [
         299.0,
         955.0,
         "Before Sunrise (1995)",
         4.0,
         8.89502823E8
        ],
        [
         57.0,
         419.0,
         "Mary Poppins (1964)",
         3.0,
         8.83698454E8
        ],
        [
         84.0,
         405.0,
         "Mission: Impossible (1996)",
         3.0,
         8.83452363E8
        ],
        [
         269.0,
         504.0,
         "Bonnie and Clyde (1967)",
         4.0,
         8.91449922E8
        ],
        [
         299.0,
         111.0,
         "Truth About Cats & Dogs, The (1996)",
         3.0,
         8.77878184E8
        ],
        [
         194.0,
         466.0,
         "Red Rock West (1992)",
         4.0,
         8.79525876E8
        ],
        [
         160.0,
         135.0,
         "2001: A Space Odyssey (1968)",
         4.0,
         8.76860807E8
        ],
        [
         99.0,
         268.0,
         "Chasing Amy (1997)",
         3.0,
         8.85678247E8
        ],
        [
         10.0,
         486.0,
         "Sabrina (1954)",
         4.0,
         8.77886846E8
        ],
        [
         259.0,
         117.0,
         "Rock, The (1996)",
         4.0,
         8.74724988E8
        ],
        [
         85.0,
         427.0,
         "To Kill a Mockingbird (1962)",
         3.0,
         8.7945635E8
        ],
        [
         303.0,
         919.0,
         "City of Lost Children, The (1995)",
         4.0,
         8.79467295E8
        ],
        [
         213.0,
         273.0,
         "Heat (1995)",
         5.0,
         8.78870987E8
        ],
        [
         121.0,
         514.0,
         "Annie Hall (1977)",
         3.0,
         8.91387947E8
        ],
        [
         90.0,
         98.0,
         "Silence of the Lambs, The (1991)",
         5.0,
         8.91383204E8
        ],
        [
         49.0,
         559.0,
         "Interview with the Vampire (1994)",
         2.0,
         8.88067405E8
        ],
        [
         42.0,
         794.0,
         "It Could Happen to You (1994)",
         3.0,
         8.81108425E8
        ],
        [
         155.0,
         323.0,
         "Dante's Peak (1997)",
         2.0,
         8.79371261E8
        ],
        [
         68.0,
         117.0,
         "Rock, The (1996)",
         4.0,
         8.76973939E8
        ],
        [
         172.0,
         177.0,
         "Good, The Bad and The Ugly, The (1966)",
         4.0,
         8.75537965E8
        ],
        [
         19.0,
         4.0,
         "Get Shorty (1995)",
         4.0,
         8.8541284E8
        ],
        [
         268.0,
         231.0,
         "Batman Returns (1992)",
         4.0,
         8.75744136E8
        ],
        [
         5.0,
         2.0,
         "GoldenEye (1995)",
         3.0,
         8.75636053E8
        ],
        [
         305.0,
         117.0,
         "Rock, The (1996)",
         2.0,
         8.86324028E8
        ],
        [
         44.0,
         294.0,
         "Liar Liar (1997)",
         4.0,
         8.83612356E8
        ],
        [
         43.0,
         137.0,
         "Big Night (1996)",
         4.0,
         8.75975656E8
        ],
        [
         279.0,
         1336.0,
         "Kazaam (1996)",
         1.0,
         8.75298353E8
        ],
        [
         80.0,
         466.0,
         "Red Rock West (1992)",
         5.0,
         8.87401701E8
        ],
        [
         254.0,
         164.0,
         "Abyss, The (1989)",
         4.0,
         8.86472768E8
        ],
        [
         298.0,
         281.0,
         "River Wild, The (1994)",
         3.0,
         8.84183336E8
        ],
        [
         279.0,
         1240.0,
         "Ghost in the Shell (Kokaku kidotai) (1995)",
         1.0,
         8.92174404E8
        ],
        [
         66.0,
         298.0,
         "Face/Off (1997)",
         4.0,
         8.83601324E8
        ],
        [
         18.0,
         443.0,
         "Birds, The (1963)",
         3.0,
         8.80130193E8
        ],
        [
         268.0,
         1035.0,
         "Cool Runnings (1993)",
         2.0,
         8.75542174E8
        ],
        [
         99.0,
         79.0,
         "Fugitive, The (1993)",
         4.0,
         8.85680138E8
        ],
        [
         13.0,
         98.0,
         "Silence of the Lambs, The (1991)",
         4.0,
         8.81515011E8
        ],
        [
         26.0,
         258.0,
         "Contact (1997)",
         3.0,
         8.91347949E8
        ],
        [
         7.0,
         455.0,
         "Jackie Chan's First Strike (1996)",
         4.0,
         8.91353086E8
        ],
        [
         222.0,
         755.0,
         "Jumanji (1995)",
         4.0,
         8.78183481E8
        ],
        [
         200.0,
         673.0,
         "Cape Fear (1962)",
         5.0,
         8.84128554E8
        ],
        [
         119.0,
         328.0,
         "Conspiracy Theory (1997)",
         4.0,
         8.76923913E8
        ],
        [
         213.0,
         172.0,
         "Empire Strikes Back, The (1980)",
         5.0,
         8.78955442E8
        ],
        [
         276.0,
         322.0,
         "Murder at 1600 (1997)",
         3.0,
         8.74786392E8
        ],
        [
         94.0,
         1217.0,
         "Assassins (1995)",
         3.0,
         8.91723086E8
        ],
        [
         130.0,
         379.0,
         "Tales From the Crypt Presents: Demon Knight (1995)",
         4.0,
         8.75801662E8
        ],
        [
         38.0,
         328.0,
         "Conspiracy Theory (1997)",
         4.0,
         8.92428688E8
        ],
        [
         160.0,
         719.0,
         "Canadian Bacon (1994)",
         3.0,
         8.76857977E8
        ],
        [
         293.0,
         1267.0,
         "Clockers (1995)",
         3.0,
         8.88906966E8
        ],
        [
         26.0,
         930.0,
         "Chain Reaction (1996)",
         2.0,
         8.91385985E8
        ],
        [
         130.0,
         216.0,
         "When Harry Met Sally... (1989)",
         4.0,
         8.75216545E8
        ],
        [
         92.0,
         1079.0,
         "Joe's Apartment (1996)",
         3.0,
         8.86443455E8
        ],
        [
         256.0,
         452.0,
         "Jaws 2 (1978)",
         4.0,
         8.82164999E8
        ],
        [
         1.0,
         61.0,
         "Three Colors: White (1994)",
         4.0,
         8.7854242E8
        ],
        [
         72.0,
         48.0,
         "Hoop Dreams (1994)",
         4.0,
         8.80036718E8
        ],
        [
         56.0,
         755.0,
         "Jumanji (1995)",
         3.0,
         8.92910207E8
        ],
        [
         13.0,
         360.0,
         "Wonderland (1997)",
         4.0,
         8.82140926E8
        ],
        [
         15.0,
         405.0,
         "Mission: Impossible (1996)",
         2.0,
         8.79455957E8
        ],
        [
         92.0,
         77.0,
         "Firm, The (1993)",
         3.0,
         8.75654637E8
        ],
        [
         207.0,
         476.0,
         "First Wives Club, The (1996)",
         2.0,
         8.84386343E8
        ],
        [
         292.0,
         174.0,
         "Raiders of the Lost Ark (1981)",
         5.0,
         8.81105481E8
        ],
        [
         232.0,
         483.0,
         "Casablanca (1942)",
         5.0,
         8.88549622E8
        ],
        [
         251.0,
         748.0,
         "Saint, The (1997)",
         2.0,
         8.86272175E8
        ],
        [
         224.0,
         26.0,
         "Brothers McMullen, The (1995)",
         3.0,
         8.88104153E8
        ],
        [
         181.0,
         220.0,
         "Mirror Has Two Faces, The (1996)",
         4.0,
         8.78962392E8
        ],
        [
         259.0,
         255.0,
         "My Best Friend's Wedding (1997)",
         4.0,
         8.7472471E8
        ],
        [
         305.0,
         471.0,
         "Courage Under Fire (1996)",
         4.0,
         8.86323648E8
        ],
        [
         52.0,
         280.0,
         "Up Close and Personal (1996)",
         3.0,
         8.82922806E8
        ],
        [
         161.0,
         202.0,
         "Groundhog Day (1993)",
         5.0,
         8.91170769E8
        ],
        [
         148.0,
         408.0,
         "Close Shave, A (1995)",
         5.0,
         8.77399018E8
        ],
        [
         125.0,
         235.0,
         "Mars Attacks! (1996)",
         2.0,
         8.92838559E8
        ],
        [
         97.0,
         228.0,
         "Star Trek: The Wrath of Khan (1982)",
         5.0,
         8.8423886E8
        ],
        [
         58.0,
         1098.0,
         "Flirting With Disaster (1996)",
         4.0,
         8.84304936E8
        ],
        [
         83.0,
         234.0,
         "Jaws (1975)",
         4.0,
         8.87665548E8
        ],
        [
         90.0,
         347.0,
         "Wag the Dog (1997)",
         4.0,
         8.91383319E8
        ],
        [
         272.0,
         178.0,
         "12 Angry Men (1957)",
         5.0,
         8.79455113E8
        ],
        [
         194.0,
         181.0,
         "Return of the Jedi (1983)",
         3.0,
         8.79521396E8
        ],
        [
         125.0,
         478.0,
         "Philadelphia Story, The (1940)",
         4.0,
         8.79454628E8
        ],
        [
         110.0,
         688.0,
         "Leave It to Beaver (1997)",
         1.0,
         8.86987605E8
        ],
        [
         299.0,
         14.0,
         "Postino, Il (1994)",
         4.0,
         8.77877775E8
        ],
        [
         151.0,
         10.0,
         "Richard III (1995)",
         5.0,
         8.79524921E8
        ],
        [
         269.0,
         127.0,
         "Godfather, The (1972)",
         4.0,
         8.91446165E8
        ],
        [
         6.0,
         14.0,
         "Postino, Il (1994)",
         5.0,
         8.83599249E8
        ],
        [
         54.0,
         106.0,
         "Diabolique (1996)",
         3.0,
         8.80937882E8
        ],
        [
         303.0,
         69.0,
         "Forrest Gump (1994)",
         5.0,
         8.79467542E8
        ],
        [
         16.0,
         944.0,
         "Renaissance Man (1994)",
         1.0,
         8.77727122E8
        ],
        [
         301.0,
         790.0,
         "Tommy Boy (1995)",
         4.0,
         8.82078621E8
        ],
        [
         276.0,
         1091.0,
         "Pete's Dragon (1977)",
         3.0,
         8.74793035E8
        ],
        [
         305.0,
         214.0,
         "Pink Floyd - The Wall (1982)",
         2.0,
         8.86323068E8
        ],
        [
         194.0,
         1028.0,
         "Grumpier Old Men (1995)",
         2.0,
         8.79541148E8
        ],
        [
         91.0,
         323.0,
         "Dante's Peak (1997)",
         2.0,
         8.91438397E8
        ],
        [
         87.0,
         554.0,
         "Waterworld (1995)",
         4.0,
         8.7987594E8
        ],
        [
         294.0,
         109.0,
         "Mystery Science Theater 3000: The Movie (1996)",
         4.0,
         8.77819599E8
        ],
        [
         286.0,
         171.0,
         "Delicatessen (1991)",
         4.0,
         8.77531791E8
        ],
        [
         200.0,
         318.0,
         "Schindler's List (1993)",
         5.0,
         8.84128458E8
        ],
        [
         229.0,
         328.0,
         "Conspiracy Theory (1997)",
         1.0,
         8.91632142E8
        ],
        [
         178.0,
         568.0,
         "Speed (1994)",
         4.0,
         8.82826555E8
        ],
        [
         303.0,
         842.0,
         "Pollyanna (1960)",
         2.0,
         8.79484804E8
        ],
        [
         62.0,
         65.0,
         "What's Eating Gilbert Grape (1993)",
         4.0,
         8.79374686E8
        ],
        [
         207.0,
         591.0,
         "Primal Fear (1996)",
         3.0,
         8.76018608E8
        ],
        [
         92.0,
         172.0,
         "Empire Strikes Back, The (1980)",
         4.0,
         8.75653271E8
        ],
        [
         301.0,
         401.0,
         "Brady Bunch Movie, The (1995)",
         4.0,
         8.8207804E8
        ],
        [
         36.0,
         339.0,
         "Mad City (1997)",
         5.0,
         8.82157581E8
        ],
        [
         70.0,
         746.0,
         "Real Genius (1985)",
         3.0,
         8.84150257E8
        ],
        [
         63.0,
         242.0,
         "Kolya (1996)",
         3.0,
         8.7574719E8
        ],
        [
         28.0,
         201.0,
         "Evil Dead II (1987)",
         3.0,
         8.81961671E8
        ],
        [
         279.0,
         68.0,
         "Crow, The (1994)",
         4.0,
         8.75307407E8
        ],
        [
         250.0,
         7.0,
         "Twelve Monkeys (1995)",
         4.0,
         8.78089716E8
        ],
        [
         14.0,
         98.0,
         "Silence of the Lambs, The (1991)",
         3.0,
         8.90881335E8
        ],
        [
         299.0,
         1018.0,
         "Tie Me Up! Tie Me Down! (1990)",
         3.0,
         8.89502324E8
        ],
        [
         194.0,
         54.0,
         "Outbreak (1995)",
         3.0,
         8.79525876E8
        ],
        [
         303.0,
         815.0,
         "One Fine Day (1996)",
         3.0,
         8.79485532E8
        ],
        [
         119.0,
         237.0,
         "Jerry Maguire (1996)",
         5.0,
         8.74775038E8
        ],
        [
         295.0,
         218.0,
         "Cape Fear (1991)",
         5.0,
         8.79966498E8
        ],
        [
         268.0,
         930.0,
         "Chain Reaction (1996)",
         2.0,
         8.75742942E8
        ],
        [
         268.0,
         2.0,
         "GoldenEye (1995)",
         2.0,
         8.75744173E8
        ],
        [
         66.0,
         258.0,
         "Contact (1997)",
         4.0,
         8.83601089E8
        ],
        [
         233.0,
         202.0,
         "Groundhog Day (1993)",
         5.0,
         8.79394264E8
        ],
        [
         83.0,
         623.0,
         "Angels in the Outfield (1994)",
         4.0,
         8.80308578E8
        ],
        [
         214.0,
         334.0,
         "U Turn (1997)",
         3.0,
         8.9154254E8
        ],
        [
         192.0,
         476.0,
         "First Wives Club, The (1996)",
         2.0,
         8.81368243E8
        ],
        [
         100.0,
         344.0,
         "Apostle, The (1997)",
         4.0,
         8.91374868E8
        ],
        [
         268.0,
         145.0,
         "Lawnmower Man, The (1992)",
         1.0,
         8.75744501E8
        ],
        [
         301.0,
         56.0,
         "Pulp Fiction (1994)",
         4.0,
         8.82076587E8
        ],
        [
         307.0,
         89.0,
         "Blade Runner (1982)",
         5.0,
         8.79283786E8
        ],
        [
         234.0,
         141.0,
         "20,000 Leagues Under the Sea (1954)",
         3.0,
         8.92334609E8
        ],
        [
         83.0,
         576.0,
         "Cliffhanger (1993)",
         4.0,
         8.80308755E8
        ],
        [
         181.0,
         264.0,
         "Mimic (1997)",
         2.0,
         8.78961624E8
        ],
        [
         297.0,
         133.0,
         "Gone with the Wind (1939)",
         4.0,
         8.7524009E8
        ],
        [
         38.0,
         153.0,
         "Fish Called Wanda, A (1988)",
         5.0,
         8.92430369E8
        ],
        [
         7.0,
         382.0,
         "Adventures of Priscilla, Queen of the Desert, The (1994)",
         4.0,
         8.91352093E8
        ],
        [
         264.0,
         813.0,
         "Celluloid Closet, The (1995)",
         4.0,
         8.86122952E8
        ],
        [
         181.0,
         872.0,
         "Love Jones (1997)",
         1.0,
         8.78961814E8
        ],
        [
         201.0,
         146.0,
         "Unhook the Stars (1996)",
         1.0,
         8.84140579E8
        ],
        [
         85.0,
         507.0,
         "Streetcar Named Desire, A (1951)",
         4.0,
         8.79456199E8
        ],
        [
         269.0,
         367.0,
         "Clueless (1995)",
         3.0,
         8.91450023E8
        ],
        [
         59.0,
         468.0,
         "Rudy (1993)",
         3.0,
         8.88205855E8
        ],
        [
         286.0,
         143.0,
         "Sound of Music, The (1965)",
         4.0,
         8.89651549E8
        ],
        [
         193.0,
         96.0,
         "Terminator 2: Judgment Day (1991)",
         1.0,
         8.89124507E8
        ],
        [
         113.0,
         595.0,
         "Fan, The (1996)",
         5.0,
         8.75936424E8
        ],
        [
         292.0,
         11.0,
         "Seven (Se7en) (1995)",
         5.0,
         8.81104093E8
        ],
        [
         130.0,
         1014.0,
         "Romy and Michele's High School Reunion (1997)",
         3.0,
         8.76250718E8
        ],
        [
         275.0,
         98.0,
         "Silence of the Lambs, The (1991)",
         4.0,
         8.7515514E8
        ],
        [
         189.0,
         520.0,
         "Great Escape, The (1963)",
         5.0,
         8.9326538E8
        ],
        [
         219.0,
         82.0,
         "Jurassic Park (1993)",
         1.0,
         8.89452455E8
        ],
        [
         218.0,
         209.0,
         "This Is Spinal Tap (1984)",
         5.0,
         8.77488546E8
        ],
        [
         123.0,
         427.0,
         "To Kill a Mockingbird (1962)",
         3.0,
         8.7987302E8
        ],
        [
         119.0,
         222.0,
         "Star Trek: First Contact (1996)",
         5.0,
         8.74775311E8
        ],
        [
         158.0,
         177.0,
         "Good, The Bad and The Ugly, The (1966)",
         4.0,
         8.80134407E8
        ],
        [
         222.0,
         118.0,
         "Twister (1996)",
         4.0,
         8.77563802E8
        ],
        [
         302.0,
         322.0,
         "Murder at 1600 (1997)",
         2.0,
         8.79436875E8
        ],
        [
         279.0,
         501.0,
         "Dumbo (1941)",
         3.0,
         8.75308843E8
        ],
        [
         301.0,
         79.0,
         "Fugitive, The (1993)",
         5.0,
         8.82076403E8
        ],
        [
         181.0,
         3.0,
         "Four Rooms (1995)",
         2.0,
         8.78963441E8
        ],
        [
         201.0,
         695.0,
         "Kicking and Screaming (1995)",
         1.0,
         8.84140115E8
        ],
        [
         13.0,
         198.0,
         "Nikita (La Femme Nikita) (1990)",
         3.0,
         8.81515193E8
        ],
        [
         1.0,
         189.0,
         "Grand Day Out, A (1992)",
         3.0,
         8.88732928E8
        ],
        [
         145.0,
         237.0,
         "Jerry Maguire (1996)",
         5.0,
         8.7527057E8
        ],
        [
         23.0,
         385.0,
         "True Lies (1994)",
         4.0,
         8.74786462E8
        ],
        [
         201.0,
         767.0,
         "Addiction, The (1995)",
         4.0,
         8.84114505E8
        ],
        [
         296.0,
         705.0,
         "Singin' in the Rain (1952)",
         5.0,
         8.84197193E8
        ],
        [
         42.0,
         546.0,
         "Broken Arrow (1996)",
         3.0,
         8.81105817E8
        ],
        [
         33.0,
         872.0,
         "Love Jones (1997)",
         3.0,
         8.9196423E8
        ],
        [
         301.0,
         554.0,
         "Waterworld (1995)",
         3.0,
         8.8207883E8
        ],
        [
         16.0,
         64.0,
         "Shawshank Redemption, The (1994)",
         5.0,
         8.77720297E8
        ],
        [
         95.0,
         135.0,
         "2001: A Space Odyssey (1968)",
         3.0,
         8.79197562E8
        ],
        [
         154.0,
         357.0,
         "One Flew Over the Cuckoo's Nest (1975)",
         4.0,
         8.79138713E8
        ],
        [
         77.0,
         484.0,
         "Maltese Falcon, The (1941)",
         5.0,
         8.84733766E8
        ],
        [
         296.0,
         508.0,
         "People vs. Larry Flynt, The (1996)",
         5.0,
         8.84196584E8
        ],
        [
         302.0,
         303.0,
         "Ulee's Gold (1997)",
         2.0,
         8.79436785E8
        ],
        [
         244.0,
         673.0,
         "Cape Fear (1962)",
         3.0,
         8.80606667E8
        ],
        [
         222.0,
         77.0,
         "Firm, The (1993)",
         4.0,
         8.78183616E8
        ],
        [
         13.0,
         215.0,
         "Field of Dreams (1989)",
         5.0,
         8.82140588E8
        ],
        [
         16.0,
         705.0,
         "Singin' in the Rain (1952)",
         5.0,
         8.77722736E8
        ],
        [
         270.0,
         452.0,
         "Jaws 2 (1978)",
         4.0,
         8.76956264E8
        ],
        [
         145.0,
         15.0,
         "Mr. Holland's Opus (1995)",
         2.0,
         8.75270655E8
        ],
        [
         187.0,
         64.0,
         "Shawshank Redemption, The (1994)",
         5.0,
         8.79465631E8
        ],
        [
         200.0,
         304.0,
         "Fly Away Home (1996)",
         5.0,
         8.76041644E8
        ],
        [
         170.0,
         749.0,
         "MatchMaker, The (1997)",
         5.0,
         8.8764617E8
        ],
        [
         101.0,
         829.0,
         "Fled (1996)",
         3.0,
         8.77136138E8
        ],
        [
         184.0,
         218.0,
         "Cape Fear (1991)",
         3.0,
         8.8990984E8
        ],
        [
         128.0,
         204.0,
         "Back to the Future (1985)",
         4.0,
         8.79967478E8
        ],
        [
         181.0,
         1295.0,
         "Kicked in the Head (1997)",
         1.0,
         8.78961781E8
        ],
        [
         184.0,
         153.0,
         "Fish Called Wanda, A (1988)",
         3.0,
         8.89911285E8
        ],
        [
         1.0,
         33.0,
         "Desperado (1995)",
         4.0,
         8.78542699E8
        ],
        [
         1.0,
         160.0,
         "Glengarry Glen Ross (1992)",
         4.0,
         8.75072547E8
        ],
        [
         184.0,
         321.0,
         "Mother (1996)",
         5.0,
         8.89906967E8
        ],
        [
         54.0,
         595.0,
         "Fan, The (1996)",
         3.0,
         8.80937813E8
        ],
        [
         94.0,
         343.0,
         "Alien: Resurrection (1997)",
         4.0,
         8.91725009E8
        ],
        [
         128.0,
         508.0,
         "People vs. Larry Flynt, The (1996)",
         4.0,
         8.79967767E8
        ],
        [
         23.0,
         323.0,
         "Dante's Peak (1997)",
         2.0,
         8.74784266E8
        ],
        [
         301.0,
         227.0,
         "Star Trek VI: The Undiscovered Country (1991)",
         3.0,
         8.82077222E8
        ],
        [
         301.0,
         191.0,
         "Amadeus (1984)",
         3.0,
         8.82075672E8
        ],
        [
         112.0,
         903.0,
         "Afterglow (1997)",
         1.0,
         8.92440172E8
        ],
        [
         82.0,
         183.0,
         "Alien (1979)",
         3.0,
         8.78769848E8
        ],
        [
         222.0,
         724.0,
         "Circle of Friends (1995)",
         3.0,
         8.78181976E8
        ],
        [
         218.0,
         430.0,
         "Duck Soup (1933)",
         3.0,
         8.77488316E8
        ],
        [
         308.0,
         1197.0,
         "Family Thing, A (1996)",
         4.0,
         8.87739521E8
        ],
        [
         303.0,
         134.0,
         "Citizen Kane (1941)",
         5.0,
         8.79467959E8
        ],
        [
         133.0,
         751.0,
         "Tomorrow Never Dies (1997)",
         3.0,
         8.90588547E8
        ],
        [
         215.0,
         212.0,
         "Unbearable Lightness of Being, The (1988)",
         2.0,
         8.9143568E8
        ],
        [
         69.0,
         256.0,
         "When the Cats Away (Chacun cherche son chat) (1996)",
         5.0,
         8.82126156E8
        ],
        [
         254.0,
         662.0,
         "Somewhere in Time (1980)",
         4.0,
         8.8734735E8
        ],
        [
         276.0,
         2.0,
         "GoldenEye (1995)",
         4.0,
         8.74792436E8
        ],
        [
         104.0,
         984.0,
         "Shadow Conspiracy (1997)",
         1.0,
         8.88442575E8
        ],
        [
         63.0,
         1067.0,
         "Bottle Rocket (1996)",
         3.0,
         8.75747514E8
        ],
        [
         267.0,
         410.0,
         "Kingpin (1996)",
         4.0,
         8.78970785E8
        ],
        [
         13.0,
         56.0,
         "Pulp Fiction (1994)",
         5.0,
         8.81515011E8
        ],
        [
         240.0,
         879.0,
         "Peacemaker, The (1997)",
         3.0,
         8.85775745E8
        ],
        [
         286.0,
         237.0,
         "Jerry Maguire (1996)",
         2.0,
         8.758068E8
        ],
        [
         294.0,
         271.0,
         "Starship Troopers (1997)",
         5.0,
         8.89241426E8
        ],
        [
         90.0,
         1086.0,
         "It's My Party (1995)",
         4.0,
         8.91384424E8
        ],
        [
         18.0,
         26.0,
         "Brothers McMullen, The (1995)",
         4.0,
         8.80129731E8
        ],
        [
         92.0,
         229.0,
         "Star Trek III: The Search for Spock (1984)",
         3.0,
         8.75656201E8
        ],
        [
         308.0,
         649.0,
         "Once Upon a Time in America (1984)",
         4.0,
         8.87739292E8
        ],
        [
         144.0,
         89.0,
         "Blade Runner (1982)",
         3.0,
         8.88105691E8
        ],
        [
         191.0,
         302.0,
         "L.A. Confidential (1997)",
         4.0,
         8.91560253E8
        ],
        [
         59.0,
         951.0,
         "Indian in the Cupboard, The (1995)",
         3.0,
         8.88206409E8
        ],
        [
         200.0,
         96.0,
         "Terminator 2: Judgment Day (1991)",
         5.0,
         8.84129409E8
        ],
        [
         16.0,
         197.0,
         "Graduate, The (1967)",
         5.0,
         8.77726146E8
        ],
        [
         61.0,
         678.0,
         "Volcano (1997)",
         3.0,
         8.92302309E8
        ],
        [
         271.0,
         199.0,
         "Bridge on the River Kwai, The (1957)",
         4.0,
         8.85848448E8
        ],
        [
         271.0,
         709.0,
         "Strictly Ballroom (1992)",
         3.0,
         8.85849325E8
        ],
        [
         142.0,
         169.0,
         "Wrong Trousers, The (1993)",
         5.0,
         8.88640356E8
        ],
        [
         275.0,
         597.0,
         "Eraser (1996)",
         3.0,
         8.76197678E8
        ],
        [
         222.0,
         151.0,
         "Willy Wonka and the Chocolate Factory (1971)",
         3.0,
         8.78182109E8
        ],
        [
         87.0,
         40.0,
         "To Wong Foo, Thanks for Everything! Julie Newmar (1995)",
         3.0,
         8.79876917E8
        ],
        [
         207.0,
         258.0,
         "Contact (1997)",
         4.0,
         8.77879172E8
        ],
        [
         272.0,
         1393.0,
         "Stag (1997)",
         2.0,
         8.79454663E8
        ],
        [
         177.0,
         333.0,
         "Game, The (1997)",
         4.0,
         8.80130397E8
        ],
        [
         207.0,
         1115.0,
         "Twelfth Night (1996)",
         2.0,
         8.79664906E8
        ],
        [
         299.0,
         577.0,
         "Coneheads (1993)",
         3.0,
         8.89503806E8
        ],
        [
         271.0,
         378.0,
         "Miracle on 34th Street (1994)",
         4.0,
         8.85849447E8
        ],
        [
         305.0,
         425.0,
         "Bob Roberts (1992)",
         4.0,
         8.86324486E8
        ],
        [
         49.0,
         959.0,
         "Dazed and Confused (1993)",
         2.0,
         8.88068912E8
        ],
        [
         94.0,
         1224.0,
         "Scout, The (1994)",
         3.0,
         8.91722802E8
        ],
        [
         130.0,
         1017.0,
         "Trees Lounge (1996)",
         3.0,
         8.74953895E8
        ],
        [
         10.0,
         175.0,
         "Brazil (1985)",
         3.0,
         8.77888677E8
        ],
        [
         203.0,
         321.0,
         "Mother (1996)",
         3.0,
         8.80433418E8
        ],
        [
         191.0,
         286.0,
         "English Patient, The (1996)",
         4.0,
         8.91560842E8
        ],
        [
         43.0,
         323.0,
         "Dante's Peak (1997)",
         3.0,
         8.7597511E8
        ],
        [
         21.0,
         558.0,
         "Heavenly Creatures (1994)",
         5.0,
         8.74951695E8
        ],
        [
         197.0,
         96.0,
         "Terminator 2: Judgment Day (1991)",
         5.0,
         8.91409839E8
        ],
        [
         13.0,
         344.0,
         "Apostle, The (1997)",
         2.0,
         8.88073635E8
        ],
        [
         194.0,
         66.0,
         "While You Were Sleeping (1995)",
         3.0,
         8.79527264E8
        ],
        [
         234.0,
         206.0,
         "Akira (1988)",
         4.0,
         8.92334543E8
        ],
        [
         308.0,
         402.0,
         "Ghost (1990)",
         4.0,
         8.877407E8
        ],
        [
         308.0,
         640.0,
         "Cook the Thief His Wife & Her Lover, The (1989)",
         4.0,
         8.87737036E8
        ],
        [
         269.0,
         522.0,
         "Down by Law (1986)",
         5.0,
         8.91447773E8
        ],
        [
         94.0,
         265.0,
         "Hunt for Red October, The (1990)",
         4.0,
         8.91721889E8
        ],
        [
         268.0,
         62.0,
         "Stargate (1994)",
         3.0,
         8.75310824E8
        ],
        [
         272.0,
         12.0,
         "Usual Suspects, The (1995)",
         5.0,
         8.79455254E8
        ],
        [
         121.0,
         291.0,
         "Absolute Power (1997)",
         3.0,
         8.91390477E8
        ],
        [
         296.0,
         20.0,
         "Angels and Insects (1995)",
         5.0,
         8.84196921E8
        ],
        [
         134.0,
         286.0,
         "English Patient, The (1996)",
         3.0,
         8.91732334E8
        ],
        [
         180.0,
         462.0,
         "Like Water For Chocolate (Como agua para chocolate) (1992)",
         5.0,
         8.77544218E8
        ],
        [
         234.0,
         612.0,
         "Lost Horizon (1937)",
         3.0,
         8.9207914E8
        ],
        [
         104.0,
         117.0,
         "Rock, The (1996)",
         2.0,
         8.88465972E8
        ],
        [
         38.0,
         758.0,
         "Lawnmower Man 2: Beyond Cyberspace (1996)",
         1.0,
         8.92434626E8
        ],
        [
         269.0,
         845.0,
         "That Thing You Do! (1996)",
         1.0,
         8.91456255E8
        ],
        [
         7.0,
         163.0,
         "Return of the Pink Panther, The (1974)",
         4.0,
         8.91353444E8
        ],
        [
         234.0,
         1451.0,
         "Foreign Correspondent (1940)",
         3.0,
         8.92078343E8
        ],
        [
         275.0,
         405.0,
         "Mission: Impossible (1996)",
         2.0,
         8.76197645E8
        ],
        [
         52.0,
         250.0,
         "Fifth Element, The (1997)",
         3.0,
         8.82922661E8
        ],
        [
         102.0,
         823.0,
         "Mulholland Falls (1996)",
         3.0,
         8.88801465E8
        ],
        [
         13.0,
         186.0,
         "Blues Brothers, The (1980)",
         4.0,
         8.90704999E8
        ],
        [
         178.0,
         731.0,
         "Corrina, Corrina (1994)",
         4.0,
         8.82827532E8
        ],
        [
         236.0,
         71.0,
         "Lion King, The (1994)",
         3.0,
         8.90116671E8
        ],
        [
         256.0,
         781.0,
         "French Kiss (1995)",
         5.0,
         8.82165296E8
        ],
        [
         263.0,
         176.0,
         "Aliens (1986)",
         5.0,
         8.91299752E8
        ],
        [
         244.0,
         186.0,
         "Blues Brothers, The (1980)",
         3.0,
         8.80605697E8
        ],
        [
         279.0,
         1181.0,
         "Low Down Dirty Shame, A (1994)",
         4.0,
         8.75314001E8
        ],
        [
         43.0,
         815.0,
         "One Fine Day (1996)",
         4.0,
         8.83956189E8
        ],
        [
         83.0,
         78.0,
         "Free Willy (1993)",
         2.0,
         8.80309089E8
        ],
        [
         151.0,
         197.0,
         "Graduate, The (1967)",
         5.0,
         8.7952871E8
        ],
        [
         254.0,
         436.0,
         "American Werewolf in London, An (1981)",
         2.0,
         8.86474216E8
        ],
        [
         109.0,
         631.0,
         "Crying Game, The (1992)",
         3.0,
         8.80579371E8
        ],
        [
         297.0,
         716.0,
         "Home for the Holidays (1995)",
         3.0,
         8.75239422E8
        ],
        [
         249.0,
         188.0,
         "Full Metal Jacket (1987)",
         4.0,
         8.79641067E8
        ],
        [
         144.0,
         699.0,
         "Little Women (1994)",
         4.0,
         8.88106106E8
        ],
        [
         301.0,
         604.0,
         "It Happened One Night (1934)",
         4.0,
         8.82075994E8
        ],
        [
         64.0,
         392.0,
         "Man Without a Face, The (1993)",
         3.0,
         8.89737542E8
        ],
        [
         92.0,
         501.0,
         "Dumbo (1941)",
         2.0,
         8.75653665E8
        ],
        [
         222.0,
         97.0,
         "Dances with Wolves (1990)",
         4.0,
         8.78181739E8
        ],
        [
         268.0,
         436.0,
         "American Werewolf in London, An (1981)",
         3.0,
         8.75310745E8
        ],
        [
         293.0,
         135.0,
         "2001: A Space Odyssey (1968)",
         5.0,
         8.8890555E8
        ],
        [
         213.0,
         173.0,
         "Princess Bride, The (1987)",
         5.0,
         8.78955442E8
        ],
        [
         160.0,
         460.0,
         "Crossing Guard, The (1995)",
         2.0,
         8.76861185E8
        ],
        [
         13.0,
         498.0,
         "African Queen, The (1951)",
         4.0,
         8.82139901E8
        ],
        [
         59.0,
         715.0,
         "To Die For (1995)",
         5.0,
         8.88205921E8
        ],
        [
         5.0,
         17.0,
         "From Dusk Till Dawn (1996)",
         4.0,
         8.75636198E8
        ],
        [
         125.0,
         163.0,
         "Return of the Pink Panther, The (1974)",
         5.0,
         8.79454956E8
        ],
        [
         174.0,
         315.0,
         "Apt Pupil (1998)",
         5.0,
         8.86432749E8
        ],
        [
         114.0,
         505.0,
         "Dial M for Murder (1954)",
         3.0,
         8.81260203E8
        ],
        [
         213.0,
         515.0,
         "Boot, Das (1981)",
         4.0,
         8.78870518E8
        ],
        [
         23.0,
         196.0,
         "Dead Poets Society (1989)",
         2.0,
         8.74786926E8
        ],
        [
         128.0,
         15.0,
         "Mr. Holland's Opus (1995)",
         4.0,
         8.79968827E8
        ],
        [
         239.0,
         56.0,
         "Pulp Fiction (1994)",
         4.0,
         8.89179478E8
        ],
        [
         181.0,
         279.0,
         "Once Upon a Time... When We Were Colored (1995)",
         1.0,
         8.78962955E8
        ],
        [
         291.0,
         80.0,
         "Hot Shots! Part Deux (1993)",
         4.0,
         8.75086354E8
        ],
        [
         250.0,
         238.0,
         "Raising Arizona (1987)",
         4.0,
         8.78089963E8
        ],
        [
         201.0,
         649.0,
         "Once Upon a Time in America (1984)",
         3.0,
         8.84114275E8
        ],
        [
         60.0,
         60.0,
         "Three Colors: Blue (1993)",
         5.0,
         8.83327734E8
        ],
        [
         181.0,
         325.0,
         "Crash (1996)",
         2.0,
         8.78961814E8
        ],
        [
         119.0,
         407.0,
         "Spy Hard (1996)",
         3.0,
         8.87038665E8
        ],
        [
         287.0,
         1.0,
         "Toy Story (1995)",
         5.0,
         8.75334088E8
        ],
        [
         216.0,
         228.0,
         "Star Trek: The Wrath of Khan (1982)",
         3.0,
         8.80245642E8
        ],
        [
         216.0,
         531.0,
         "Shine (1996)",
         4.0,
         8.8023381E8
        ],
        [
         203.0,
         471.0,
         "Courage Under Fire (1996)",
         4.0,
         8.80434463E8
        ],
        [
         92.0,
         587.0,
         "Hour of the Pig, The (1993)",
         3.0,
         8.75660408E8
        ],
        [
         13.0,
         892.0,
         "Flubber (1997)",
         3.0,
         8.82774224E8
        ],
        [
         213.0,
         176.0,
         "Aliens (1986)",
         4.0,
         8.78956338E8
        ],
        [
         286.0,
         288.0,
         "Scream (1996)",
         5.0,
         8.75806672E8
        ],
        [
         117.0,
         1047.0,
         "Multiplicity (1996)",
         2.0,
         8.81009697E8
        ],
        [
         99.0,
         111.0,
         "Truth About Cats & Dogs, The (1996)",
         1.0,
         8.85678886E8
        ],
        [
         11.0,
         558.0,
         "Heavenly Creatures (1994)",
         3.0,
         8.91904214E8
        ],
        [
         65.0,
         47.0,
         "Ed Wood (1994)",
         2.0,
         8.79216672E8
        ],
        [
         295.0,
         194.0,
         "Sting, The (1973)",
         4.0,
         8.79517412E8
        ],
        [
         269.0,
         217.0,
         "Bram Stoker's Dracula (1992)",
         2.0,
         8.9145161E8
        ],
        [
         85.0,
         259.0,
         "George of the Jungle (1997)",
         2.0,
         8.81705026E8
        ],
        [
         250.0,
         596.0,
         "Hunchback of Notre Dame, The (1996)",
         5.0,
         8.78089921E8
        ],
        [
         137.0,
         144.0,
         "Die Hard (1988)",
         5.0,
         8.81433689E8
        ],
        [
         201.0,
         960.0,
         "Naked (1993)",
         2.0,
         8.84112077E8
        ],
        [
         257.0,
         137.0,
         "Big Night (1996)",
         4.0,
         8.82049932E8
        ],
        [
         111.0,
         328.0,
         "Conspiracy Theory (1997)",
         4.0,
         8.91679939E8
        ],
        [
         91.0,
         480.0,
         "North by Northwest (1959)",
         4.0,
         8.91438875E8
        ],
        [
         215.0,
         211.0,
         "M*A*S*H (1970)",
         4.0,
         8.91436202E8
        ],
        [
         181.0,
         938.0,
         "Smile Like Yours, A (1997)",
         1.0,
         8.78961586E8
        ],
        [
         189.0,
         1060.0,
         "Adventures of Pinocchio, The (1996)",
         5.0,
         8.93264301E8
        ],
        [
         1.0,
         20.0,
         "Angels and Insects (1995)",
         4.0,
         8.87431883E8
        ],
        [
         303.0,
         404.0,
         "Pinocchio (1940)",
         4.0,
         8.79468375E8
        ],
        [
         299.0,
         305.0,
         "Ice Storm, The (1997)",
         3.0,
         8.79737314E8
        ],
        [
         187.0,
         210.0,
         "Indiana Jones and the Last Crusade (1989)",
         4.0,
         8.79465242E8
        ],
        [
         222.0,
         278.0,
         "Bed of Roses (1996)",
         2.0,
         8.77563913E8
        ],
        [
         214.0,
         568.0,
         "Speed (1994)",
         4.0,
         8.92668197E8
        ],
        [
         293.0,
         770.0,
         "Devil in a Blue Dress (1995)",
         3.0,
         8.88906655E8
        ],
        [
         285.0,
         191.0,
         "Amadeus (1984)",
         4.0,
         8.90595859E8
        ],
        [
         303.0,
         252.0,
         "Lost World: Jurassic Park, The (1997)",
         3.0,
         8.79544791E8
        ],
        [
         96.0,
         156.0,
         "Reservoir Dogs (1992)",
         4.0,
         8.8440286E8
        ],
        [
         72.0,
         1110.0,
         "Tank Girl (1995)",
         3.0,
         8.80037334E8
        ],
        [
         115.0,
         1067.0,
         "Bottle Rocket (1996)",
         4.0,
         8.81171009E8
        ],
        [
         7.0,
         430.0,
         "Duck Soup (1933)",
         3.0,
         8.91352178E8
        ],
        [
         116.0,
         350.0,
         "Fallen (1998)",
         3.0,
         8.86977926E8
        ],
        [
         73.0,
         480.0,
         "North by Northwest (1959)",
         4.0,
         8.88625753E8
        ],
        [
         269.0,
         246.0,
         "Chasing Amy (1997)",
         5.0,
         8.91457067E8
        ],
        [
         263.0,
         419.0,
         "Mary Poppins (1964)",
         5.0,
         8.91299514E8
        ],
        [
         70.0,
         431.0,
         "Highlander (1986)",
         3.0,
         8.84150257E8
        ],
        [
         221.0,
         475.0,
         "Trainspotting (1996)",
         4.0,
         8.75244204E8
        ],
        [
         72.0,
         182.0,
         "GoodFellas (1990)",
         5.0,
         8.80036515E8
        ],
        [
         25.0,
         357.0,
         "One Flew Over the Cuckoo's Nest (1975)",
         4.0,
         8.85852757E8
        ],
        [
         290.0,
         50.0,
         "Star Wars (1977)",
         5.0,
         8.80473582E8
        ],
        [
         189.0,
         526.0,
         "Ben-Hur (1959)",
         4.0,
         8.93266205E8
        ],
        [
         299.0,
         303.0,
         "Ulee's Gold (1997)",
         3.0,
         8.77618584E8
        ],
        [
         264.0,
         294.0,
         "Liar Liar (1997)",
         3.0,
         8.86121516E8
        ],
        [
         200.0,
         365.0,
         "Powder (1995)",
         5.0,
         8.84129962E8
        ],
        [
         187.0,
         135.0,
         "2001: A Space Odyssey (1968)",
         4.0,
         8.79465653E8
        ],
        [
         184.0,
         187.0,
         "Godfather: Part II, The (1974)",
         4.0,
         8.89909024E8
        ],
        [
         63.0,
         289.0,
         "Evita (1996)",
         2.0,
         8.75746985E8
        ],
        [
         13.0,
         229.0,
         "Star Trek III: The Search for Spock (1984)",
         4.0,
         8.8239765E8
        ],
        [
         298.0,
         486.0,
         "Sabrina (1954)",
         3.0,
         8.84183063E8
        ],
        [
         235.0,
         185.0,
         "Psycho (1960)",
         4.0,
         8.89655435E8
        ],
        [
         62.0,
         712.0,
         "Tin Men (1987)",
         4.0,
         8.79376178E8
        ],
        [
         246.0,
         94.0,
         "Home Alone (1990)",
         2.0,
         8.84923505E8
        ],
        [
         54.0,
         742.0,
         "Ransom (1996)",
         5.0,
         8.80934806E8
        ],
        [
         63.0,
         762.0,
         "Beautiful Girls (1996)",
         3.0,
         8.75747688E8
        ],
        [
         11.0,
         732.0,
         "Dave (1993)",
         3.0,
         8.91904596E8
        ],
        [
         92.0,
         168.0,
         "Monty Python and the Holy Grail (1974)",
         4.0,
         8.75653723E8
        ],
        [
         8.0,
         550.0,
         "Die Hard: With a Vengeance (1995)",
         3.0,
         8.79362356E8
        ],
        [
         307.0,
         174.0,
         "Raiders of the Lost Ark (1981)",
         4.0,
         8.7928348E8
        ],
        [
         303.0,
         200.0,
         "Shining, The (1980)",
         4.0,
         8.79468459E8
        ],
        [
         256.0,
         849.0,
         "Days of Thunder (1990)",
         2.0,
         8.82164603E8
        ],
        [
         72.0,
         54.0,
         "Outbreak (1995)",
         3.0,
         8.80036854E8
        ],
        [
         164.0,
         406.0,
         "Thinner (1996)",
         2.0,
         8.89402389E8
        ],
        [
         117.0,
         150.0,
         "Swingers (1996)",
         4.0,
         8.80125101E8
        ],
        [
         224.0,
         77.0,
         "Firm, The (1993)",
         4.0,
         8.88103872E8
        ],
        [
         193.0,
         869.0,
         "Fools Rush In (1997)",
         3.0,
         8.89127811E8
        ],
        [
         94.0,
         184.0,
         "Army of Darkness (1993)",
         2.0,
         8.91720862E8
        ],
        [
         281.0,
         338.0,
         "Bean (1997)",
         2.0,
         8.81200457E8
        ],
        [
         130.0,
         109.0,
         "Mystery Science Theater 3000: The Movie (1996)",
         3.0,
         8.74953794E8
        ],
        [
         128.0,
         371.0,
         "Bridges of Madison County, The (1995)",
         1.0,
         8.79966954E8
        ],
        [
         94.0,
         720.0,
         "First Knight (1995)",
         1.0,
         8.91723593E8
        ],
        [
         182.0,
         845.0,
         "That Thing You Do! (1996)",
         3.0,
         8.85613067E8
        ],
        [
         129.0,
         873.0,
         "Picture Perfect (1997)",
         1.0,
         8.83245452E8
        ],
        [
         254.0,
         229.0,
         "Star Trek III: The Search for Spock (1984)",
         4.0,
         8.8647458E8
        ],
        [
         64.0,
         381.0,
         "Muriel's Wedding (1994)",
         4.0,
         8.79365491E8
        ],
        [
         151.0,
         176.0,
         "Aliens (1986)",
         2.0,
         8.79524293E8
        ],
        [
         45.0,
         25.0,
         "Birdcage, The (1996)",
         4.0,
         8.81014015E8
        ],
        [
         193.0,
         879.0,
         "Peacemaker, The (1997)",
         3.0,
         8.89123257E8
        ],
        [
         276.0,
         922.0,
         "Dead Man (1995)",
         4.0,
         8.89174849E8
        ],
        [
         276.0,
         57.0,
         "Priest (1994)",
         3.0,
         8.74787526E8
        ],
        [
         234.0,
         187.0,
         "Godfather: Part II, The (1974)",
         4.0,
         8.9207914E8
        ],
        [
         181.0,
         306.0,
         "Mrs. Brown (Her Majesty, Mrs. Brown) (1997)",
         1.0,
         8.78962006E8
        ],
        [
         21.0,
         370.0,
         "Mary Reilly (1996)",
         1.0,
         8.74951293E8
        ],
        [
         293.0,
         249.0,
         "Austin Powers: International Man of Mystery (1997)",
         3.0,
         8.88905229E8
        ],
        [
         264.0,
         721.0,
         "Mallrats (1995)",
         5.0,
         8.86123656E8
        ],
        [
         10.0,
         611.0,
         "Laura (1944)",
         5.0,
         8.77886722E8
        ],
        [
         197.0,
         346.0,
         "Jackie Brown (1997)",
         3.0,
         8.9140907E8
        ],
        [
         276.0,
         142.0,
         "Bedknobs and Broomsticks (1971)",
         3.0,
         8.74792945E8
        ],
        [
         308.0,
         427.0,
         "To Kill a Mockingbird (1962)",
         4.0,
         8.87736584E8
        ],
        [
         221.0,
         943.0,
         "Killing Zoe (1994)",
         4.0,
         8.75246759E8
        ],
        [
         131.0,
         126.0,
         "Spitfire Grill, The (1996)",
         4.0,
         8.83681514E8
        ],
        [
         268.0,
         824.0,
         "Great White Hype, The (1996)",
         2.0,
         8.76518557E8
        ],
        [
         109.0,
         8.0,
         "Babe (1995)",
         3.0,
         8.80572642E8
        ],
        [
         198.0,
         58.0,
         "Quiz Show (1994)",
         3.0,
         8.84208173E8
        ],
        [
         230.0,
         680.0,
         "Kull the Conqueror (1997)",
         4.0,
         8.80484286E8
        ],
        [
         181.0,
         741.0,
         "Last Supper, The (1995)",
         1.0,
         8.78962918E8
        ],
        [
         192.0,
         1061.0,
         "Evening Star, The (1996)",
         4.0,
         8.81368891E8
        ],
        [
         234.0,
         448.0,
         "Omen, The (1976)",
         3.0,
         8.92335501E8
        ],
        [
         90.0,
         900.0,
         "Kundun (1997)",
         4.0,
         8.91382309E8
        ],
        [
         193.0,
         941.0,
         "With Honors (1994)",
         4.0,
         8.8912489E8
        ],
        [
         128.0,
         603.0,
         "Rear Window (1954)",
         5.0,
         8.79966839E8
        ],
        [
         126.0,
         905.0,
         "Great Expectations (1998)",
         2.0,
         8.87855283E8
        ],
        [
         244.0,
         265.0,
         "Hunt for Red October, The (1990)",
         4.0,
         8.80606634E8
        ],
        [
         90.0,
         289.0,
         "Evita (1996)",
         3.0,
         8.9138231E8
        ],
        [
         157.0,
         25.0,
         "Birdcage, The (1996)",
         3.0,
         8.86890787E8
        ],
        [
         305.0,
         71.0,
         "Lion King, The (1994)",
         3.0,
         8.86323684E8
        ],
        [
         119.0,
         382.0,
         "Adventures of Priscilla, Queen of the Desert, The (1994)",
         5.0,
         8.74781742E8
        ],
        [
         21.0,
         222.0,
         "Star Trek: First Contact (1996)",
         2.0,
         8.74951382E8
        ],
        [
         231.0,
         181.0,
         "Return of the Jedi (1983)",
         4.0,
         8.88605273E8
        ],
        [
         280.0,
         508.0,
         "People vs. Larry Flynt, The (1996)",
         3.0,
         8.91700453E8
        ],
        [
         288.0,
         132.0,
         "Wizard of Oz, The (1939)",
         3.0,
         8.86374129E8
        ],
        [
         279.0,
         1497.0,
         "Line King: Al Hirschfeld, The (1996)",
         2.0,
         8.90780576E8
        ],
        [
         301.0,
         33.0,
         "Desperado (1995)",
         4.0,
         8.82078228E8
        ],
        [
         72.0,
         699.0,
         "Little Women (1994)",
         3.0,
         8.80036783E8
        ],
        [
         90.0,
         259.0,
         "George of the Jungle (1997)",
         2.0,
         8.91382392E8
        ],
        [
         308.0,
         55.0,
         "Professional, The (1994)",
         3.0,
         8.8773876E8
        ],
        [
         59.0,
         742.0,
         "Ransom (1996)",
         3.0,
         8.88203053E8
        ],
        [
         94.0,
         744.0,
         "Michael Collins (1996)",
         4.0,
         8.91721462E8
        ],
        [
         130.0,
         642.0,
         "Grifters, The (1990)",
         4.0,
         8.75216933E8
        ],
        [
         26.0,
         1015.0,
         "Shiloh (1997)",
         3.0,
         8.91352136E8
        ],
        [
         56.0,
         121.0,
         "Independence Day (ID4) (1996)",
         5.0,
         8.9267948E8
        ],
        [
         82.0,
         508.0,
         "People vs. Larry Flynt, The (1996)",
         2.0,
         8.84714249E8
        ],
        [
         62.0,
         12.0,
         "Usual Suspects, The (1995)",
         4.0,
         8.79373613E8
        ],
        [
         276.0,
         40.0,
         "To Wong Foo, Thanks for Everything! Julie Newmar (1995)",
         3.0,
         8.74791871E8
        ],
        [
         181.0,
         1015.0,
         "Shiloh (1997)",
         1.0,
         8.78963121E8
        ],
        [
         152.0,
         301.0,
         "In & Out (1997)",
         3.0,
         8.80147407E8
        ],
        [
         178.0,
         845.0,
         "That Thing You Do! (1996)",
         4.0,
         8.82824291E8
        ],
        [
         217.0,
         597.0,
         "Eraser (1996)",
         4.0,
         8.89070087E8
        ],
        [
         79.0,
         303.0,
         "Ulee's Gold (1997)",
         4.0,
         8.91271203E8
        ],
        [
         138.0,
         484.0,
         "Maltese Falcon, The (1941)",
         4.0,
         8.79024127E8
        ],
        [
         308.0,
         81.0,
         "Hudsucker Proxy, The (1994)",
         5.0,
         8.87737293E8
        ],
        [
         75.0,
         284.0,
         "Tin Cup (1996)",
         2.0,
         8.84050393E8
        ],
        [
         269.0,
         198.0,
         "Nikita (La Femme Nikita) (1990)",
         4.0,
         8.91447062E8
        ],
        [
         307.0,
         94.0,
         "Home Alone (1990)",
         3.0,
         8.77122695E8
        ],
        [
         222.0,
         781.0,
         "French Kiss (1995)",
         3.0,
         8.81059677E8
        ],
        [
         121.0,
         740.0,
         "Jane Eyre (1996)",
         3.0,
         8.91390544E8
        ],
        [
         269.0,
         22.0,
         "Braveheart (1995)",
         1.0,
         8.91448072E8
        ],
        [
         13.0,
         864.0,
         "My Fellow Americans (1996)",
         4.0,
         8.82141924E8
        ],
        [
         230.0,
         742.0,
         "Ransom (1996)",
         5.0,
         8.80485043E8
        ],
        [
         269.0,
         507.0,
         "Streetcar Named Desire, A (1951)",
         4.0,
         8.914488E8
        ],
        [
         239.0,
         1099.0,
         "Red Firecracker, Green Firecracker (1994)",
         5.0,
         8.89179253E8
        ],
        [
         245.0,
         1028.0,
         "Grumpier Old Men (1995)",
         5.0,
         8.88513447E8
        ],
        [
         56.0,
         546.0,
         "Broken Arrow (1996)",
         3.0,
         8.9267946E8
        ],
        [
         295.0,
         961.0,
         "Orlando (1993)",
         5.0,
         8.79519556E8
        ],
        [
         271.0,
         1028.0,
         "Grumpier Old Men (1995)",
         2.0,
         8.85848102E8
        ],
        [
         222.0,
         812.0,
         "Andre (1994)",
         2.0,
         8.81059117E8
        ],
        [
         69.0,
         240.0,
         "Beavis and Butt-head Do America (1996)",
         3.0,
         8.82126156E8
        ],
        [
         10.0,
         7.0,
         "Twelve Monkeys (1995)",
         4.0,
         8.7789221E8
        ],
        [
         22.0,
         376.0,
         "Houseguest (1994)",
         3.0,
         8.78887112E8
        ],
        [
         294.0,
         931.0,
         "Island of Dr. Moreau, The (1996)",
         3.0,
         8.89242857E8
        ],
        [
         82.0,
         717.0,
         "Juror, The (1996)",
         1.0,
         8.84714492E8
        ],
        [
         279.0,
         399.0,
         "Three Musketeers, The (1993)",
         4.0,
         8.75313859E8
        ],
        [
         269.0,
         234.0,
         "Jaws (1975)",
         1.0,
         8.91449406E8
        ],
        [
         6.0,
         98.0,
         "Silence of the Lambs, The (1991)",
         5.0,
         8.8360068E8
        ],
        [
         243.0,
         1039.0,
         "Hamlet (1996)",
         4.0,
         8.79988184E8
        ],
        [
         298.0,
         181.0,
         "Return of the Jedi (1983)",
         4.0,
         8.84125629E8
        ],
        [
         282.0,
         325.0,
         "Crash (1996)",
         1.0,
         8.81703044E8
        ],
        [
         78.0,
         323.0,
         "Dante's Peak (1997)",
         1.0,
         8.79633567E8
        ],
        [
         118.0,
         200.0,
         "Shining, The (1980)",
         5.0,
         8.75384647E8
        ],
        [
         283.0,
         1114.0,
         "Faithful (1996)",
         5.0,
         8.79297545E8
        ],
        [
         171.0,
         292.0,
         "Rosewood (1997)",
         4.0,
         8.91034835E8
        ],
        [
         70.0,
         217.0,
         "Bram Stoker's Dracula (1992)",
         4.0,
         8.84151119E8
        ],
        [
         10.0,
         100.0,
         "Fargo (1996)",
         5.0,
         8.77891747E8
        ],
        [
         245.0,
         181.0,
         "Return of the Jedi (1983)",
         4.0,
         8.88513664E8
        ],
        [
         107.0,
         333.0,
         "Game, The (1997)",
         3.0,
         8.91264267E8
        ],
        [
         246.0,
         561.0,
         "Mary Shelley's Frankenstein (1994)",
         1.0,
         8.84923445E8
        ],
        [
         13.0,
         901.0,
         "Mr. Magoo (1997)",
         1.0,
         8.83670672E8
        ],
        [
         276.0,
         70.0,
         "Four Weddings and a Funeral (1994)",
         4.0,
         8.74790826E8
        ],
        [
         244.0,
         17.0,
         "From Dusk Till Dawn (1996)",
         2.0,
         8.80607205E8
        ],
        [
         189.0,
         56.0,
         "Pulp Fiction (1994)",
         5.0,
         8.93265263E8
        ],
        [
         226.0,
         242.0,
         "Kolya (1996)",
         5.0,
         8.83888671E8
        ],
        [
         62.0,
         1016.0,
         "Con Air (1997)",
         4.0,
         8.79373008E8
        ],
        [
         276.0,
         417.0,
         "Parent Trap, The (1961)",
         4.0,
         8.74792907E8
        ],
        [
         214.0,
         478.0,
         "Philadelphia Story, The (1940)",
         4.0,
         8.91544052E8
        ],
        [
         306.0,
         235.0,
         "Mars Attacks! (1996)",
         4.0,
         8.76504354E8
        ],
        [
         222.0,
         26.0,
         "Brothers McMullen, The (1995)",
         3.0,
         8.78183043E8
        ],
        [
         280.0,
         631.0,
         "Crying Game, The (1992)",
         5.0,
         8.91700751E8
        ],
        [
         60.0,
         430.0,
         "Duck Soup (1933)",
         5.0,
         8.83326122E8
        ],
        [
         56.0,
         71.0,
         "Lion King, The (1994)",
         4.0,
         8.92683275E8
        ],
        [
         42.0,
         274.0,
         "Sabrina (1995)",
         5.0,
         8.81105817E8
        ],
        [
         1.0,
         202.0,
         "Groundhog Day (1993)",
         5.0,
         8.75072442E8
        ],
        [
         13.0,
         809.0,
         "Rising Sun (1993)",
         4.0,
         8.82397582E8
        ],
        [
         173.0,
         289.0,
         "Evita (1996)",
         4.0,
         8.77556988E8
        ],
        [
         15.0,
         749.0,
         "MatchMaker, The (1997)",
         1.0,
         8.79455311E8
        ],
        [
         185.0,
         23.0,
         "Taxi Driver (1976)",
         4.0,
         8.83524249E8
        ],
        [
         280.0,
         540.0,
         "Money Train (1995)",
         3.0,
         8.91702304E8
        ],
        [
         244.0,
         381.0,
         "Muriel's Wedding (1994)",
         4.0,
         8.80604077E8
        ],
        [
         150.0,
         293.0,
         "Donnie Brasco (1997)",
         4.0,
         8.78746946E8
        ],
        [
         7.0,
         497.0,
         "Bringing Up Baby (1938)",
         4.0,
         8.91352134E8
        ],
        [
         178.0,
         317.0,
         "In the Name of the Father (1993)",
         4.0,
         8.82826915E8
        ],
        [
         178.0,
         742.0,
         "Ransom (1996)",
         3.0,
         8.82823833E8
        ],
        [
         95.0,
         1217.0,
         "Assassins (1995)",
         3.0,
         8.80572658E8
        ],
        [
         234.0,
         1462.0,
         "Thieves (Voleurs, Les) (1996)",
         3.0,
         8.92333865E8
        ],
        [
         97.0,
         222.0,
         "Star Trek: First Contact (1996)",
         5.0,
         8.84238887E8
        ],
        [
         109.0,
         127.0,
         "Godfather, The (1972)",
         2.0,
         8.80563471E8
        ],
        [
         117.0,
         268.0,
         "Chasing Amy (1997)",
         5.0,
         8.80124306E8
        ],
        [
         269.0,
         705.0,
         "Singin' in the Rain (1952)",
         2.0,
         8.9144885E8
        ],
        [
         130.0,
         1246.0,
         "Bushwhacked (1995)",
         3.0,
         8.76252497E8
        ],
        [
         264.0,
         655.0,
         "Stand by Me (1986)",
         4.0,
         8.8612353E8
        ],
        [
         207.0,
         13.0,
         "Mighty Aphrodite (1995)",
         3.0,
         8.75506839E8
        ],
        [
         42.0,
         588.0,
         "Beauty and the Beast (1991)",
         5.0,
         8.81108147E8
        ],
        [
         246.0,
         409.0,
         "Jack (1996)",
         2.0,
         8.84923372E8
        ],
        [
         87.0,
         367.0,
         "Clueless (1995)",
         4.0,
         8.79876702E8
        ],
        [
         101.0,
         304.0,
         "Fly Away Home (1996)",
         3.0,
         8.77135677E8
        ],
        [
         256.0,
         127.0,
         "Godfather, The (1972)",
         4.0,
         8.82164406E8
        ],
        [
         92.0,
         794.0,
         "It Could Happen to You (1994)",
         3.0,
         8.75654798E8
        ],
        [
         181.0,
         762.0,
         "Beautiful Girls (1996)",
         2.0,
         8.78963418E8
        ],
        [
         213.0,
         235.0,
         "Mars Attacks! (1996)",
         1.0,
         8.78955115E8
        ],
        [
         92.0,
         739.0,
         "Pretty Woman (1990)",
         2.0,
         8.76175582E8
        ],
        [
         292.0,
         661.0,
         "High Noon (1952)",
         5.0,
         8.81105561E8
        ],
        [
         246.0,
         665.0,
         "Alien 3 (1992)",
         4.0,
         8.84922831E8
        ],
        [
         274.0,
         845.0,
         "That Thing You Do! (1996)",
         5.0,
         8.78945579E8
        ],
        [
         188.0,
         692.0,
         "American President, The (1995)",
         5.0,
         8.75072583E8
        ],
        [
         18.0,
         86.0,
         "Remains of the Day, The (1993)",
         4.0,
         8.80129731E8
        ],
        [
         5.0,
         439.0,
         "Amityville: A New Generation (1993)",
         1.0,
         8.78844423E8
        ],
        [
         236.0,
         632.0,
         "Sophie's Choice (1982)",
         3.0,
         8.90116254E8
        ],
        [
         193.0,
         407.0,
         "Spy Hard (1996)",
         4.0,
         8.89127921E8
        ],
        [
         144.0,
         709.0,
         "Strictly Ballroom (1992)",
         4.0,
         8.8810594E8
        ],
        [
         90.0,
         1198.0,
         "Purple Noon (1960)",
         5.0,
         8.91383866E8
        ],
        [
         48.0,
         609.0,
         "Father of the Bride (1950)",
         4.0,
         8.79434819E8
        ],
        [
         5.0,
         225.0,
         "101 Dalmatians (1996)",
         2.0,
         8.75635723E8
        ],
        [
         22.0,
         128.0,
         "Supercop (1992)",
         5.0,
         8.78887983E8
        ],
        [
         311.0,
         432.0,
         "Fantasia (1940)",
         4.0,
         8.84365485E8
        ],
        [
         8.0,
         22.0,
         "Braveheart (1995)",
         5.0,
         8.79362183E8
        ],
        [
         276.0,
         188.0,
         "Full Metal Jacket (1987)",
         4.0,
         8.74792547E8
        ],
        [
         222.0,
         173.0,
         "Princess Bride, The (1987)",
         5.0,
         8.78183043E8
        ],
        [
         72.0,
         866.0,
         "Michael (1996)",
         4.0,
         8.80035887E8
        ],
        [
         299.0,
         134.0,
         "Citizen Kane (1941)",
         4.0,
         8.78192311E8
        ],
        [
         1.0,
         171.0,
         "Delicatessen (1991)",
         5.0,
         8.89751711E8
        ],
        [
         308.0,
         295.0,
         "Breakdown (1997)",
         3.0,
         8.87741461E8
        ],
        [
         165.0,
         216.0,
         "When Harry Met Sally... (1989)",
         4.0,
         8.79525778E8
        ],
        [
         222.0,
         49.0,
         "I.Q. (1994)",
         3.0,
         8.78183512E8
        ],
        [
         181.0,
         121.0,
         "Independence Day (ID4) (1996)",
         4.0,
         8.78962623E8
        ],
        [
         200.0,
         11.0,
         "Seven (Se7en) (1995)",
         5.0,
         8.84129542E8
        ],
        [
         234.0,
         626.0,
         "So Dear to My Heart (1949)",
         4.0,
         8.92336358E8
        ],
        [
         244.0,
         707.0,
         "Enchanted April (1991)",
         4.0,
         8.80606243E8
        ],
        [
         90.0,
         25.0,
         "Birdcage, The (1996)",
         5.0,
         8.91384789E8
        ],
        [
         208.0,
         216.0,
         "When Harry Met Sally... (1989)",
         5.0,
         8.83108324E8
        ],
        [
         263.0,
         96.0,
         "Terminator 2: Judgment Day (1991)",
         4.0,
         8.91298336E8
        ],
        [
         134.0,
         323.0,
         "Dante's Peak (1997)",
         4.0,
         8.91732335E8
        ],
        [
         279.0,
         586.0,
         "Terminal Velocity (1994)",
         4.0,
         8.92864663E8
        ],
        [
         2.0,
         292.0,
         "Rosewood (1997)",
         4.0,
         8.88550774E8
        ],
        [
         288.0,
         593.0,
         "Stalingrad (1993)",
         2.0,
         8.86892127E8
        ],
        [
         49.0,
         302.0,
         "L.A. Confidential (1997)",
         4.0,
         8.88065432E8
        ],
        [
         286.0,
         153.0,
         "Fish Called Wanda, A (1988)",
         5.0,
         8.77531406E8
        ],
        [
         205.0,
         304.0,
         "Fly Away Home (1996)",
         3.0,
         8.88284313E8
        ],
        [
         22.0,
         80.0,
         "Hot Shots! Part Deux (1993)",
         4.0,
         8.78887227E8
        ],
        [
         234.0,
         318.0,
         "Schindler's List (1993)",
         4.0,
         8.9207889E8
        ],
        [
         223.0,
         328.0,
         "Conspiracy Theory (1997)",
         3.0,
         8.91548959E8
        ],
        [
         15.0,
         25.0,
         "Birdcage, The (1996)",
         3.0,
         8.79456204E8
        ],
        [
         268.0,
         147.0,
         "Long Kiss Goodnight, The (1996)",
         4.0,
         8.76514002E8
        ],
        [
         94.0,
         1220.0,
         "Higher Learning (1995)",
         3.0,
         8.91722678E8
        ],
        [
         274.0,
         405.0,
         "Mission: Impossible (1996)",
         4.0,
         8.7894584E8
        ],
        [
         7.0,
         492.0,
         "East of Eden (1955)",
         5.0,
         8.9135201E8
        ],
        [
         268.0,
         217.0,
         "Bram Stoker's Dracula (1992)",
         2.0,
         8.75744501E8
        ],
        [
         16.0,
         55.0,
         "Professional, The (1994)",
         5.0,
         8.77717956E8
        ],
        [
         164.0,
         620.0,
         "Chamber, The (1996)",
         3.0,
         8.89402298E8
        ],
        [
         290.0,
         161.0,
         "Top Gun (1986)",
         4.0,
         8.80474293E8
        ],
        [
         92.0,
         515.0,
         "Boot, Das (1981)",
         4.0,
         8.756408E8
        ],
        [
         239.0,
         1070.0,
         "Living in Oblivion (1995)",
         5.0,
         8.89179032E8
        ],
        [
         56.0,
         449.0,
         "Star Trek: The Motion Picture (1979)",
         5.0,
         8.92679308E8
        ],
        [
         248.0,
         234.0,
         "Jaws (1975)",
         4.0,
         8.84534968E8
        ],
        [
         234.0,
         10.0,
         "Richard III (1995)",
         3.0,
         8.91227851E8
        ],
        [
         280.0,
         1049.0,
         "House Arrest (1996)",
         2.0,
         8.91702486E8
        ],
        [
         308.0,
         187.0,
         "Godfather: Part II, The (1974)",
         5.0,
         8.8773876E8
        ],
        [
         276.0,
         64.0,
         "Shawshank Redemption, The (1994)",
         5.0,
         8.74787441E8
        ],
        [
         192.0,
         948.0,
         "Booty Call (1997)",
         3.0,
         8.81368302E8
        ],
        [
         122.0,
         509.0,
         "My Left Foot (1989)",
         4.0,
         8.79270511E8
        ],
        [
         85.0,
         588.0,
         "Beauty and the Beast (1991)",
         3.0,
         8.80838306E8
        ],
        [
         262.0,
         931.0,
         "Island of Dr. Moreau, The (1996)",
         2.0,
         8.79790874E8
        ],
        [
         201.0,
         272.0,
         "Good Will Hunting (1997)",
         3.0,
         8.860137E8
        ],
        [
         181.0,
         870.0,
         "Touch (1997)",
         2.0,
         8.78962623E8
        ],
        [
         295.0,
         739.0,
         "Pretty Woman (1990)",
         4.0,
         8.79518319E8
        ],
        [
         263.0,
         568.0,
         "Speed (1994)",
         4.0,
         8.91299387E8
        ],
        [
         295.0,
         39.0,
         "Strange Days (1995)",
         4.0,
         8.79518279E8
        ],
        [
         201.0,
         1100.0,
         "What Happened Was... (1994)",
         4.0,
         8.841128E8
        ],
        [
         93.0,
         820.0,
         "Space Jam (1996)",
         3.0,
         8.88705966E8
        ],
        [
         159.0,
         1028.0,
         "Grumpier Old Men (1995)",
         5.0,
         8.80557539E8
        ],
        [
         158.0,
         665.0,
         "Alien 3 (1992)",
         2.0,
         8.80134532E8
        ],
        [
         293.0,
         423.0,
         "E.T. the Extra-Terrestrial (1982)",
         3.0,
         8.8890607E8
        ],
        [
         82.0,
         597.0,
         "Eraser (1996)",
         3.0,
         8.78768882E8
        ],
        [
         276.0,
         181.0,
         "Return of the Jedi (1983)",
         5.0,
         8.74786488E8
        ],
        [
         13.0,
         823.0,
         "Mulholland Falls (1996)",
         5.0,
         8.82397833E8
        ],
        [
         217.0,
         2.0,
         "GoldenEye (1995)",
         3.0,
         8.89069782E8
        ],
        [
         83.0,
         660.0,
         "Fried Green Tomatoes (1991)",
         4.0,
         8.80308256E8
        ],
        [
         189.0,
         20.0,
         "Angels and Insects (1995)",
         5.0,
         8.93264466E8
        ],
        [
         222.0,
         796.0,
         "Speechless (1994)",
         4.0,
         8.78183684E8
        ],
        [
         146.0,
         1022.0,
         "Fast, Cheap & Out of Control (1997)",
         5.0,
         8.91458193E8
        ],
        [
         267.0,
         121.0,
         "Independence Day (ID4) (1996)",
         3.0,
         8.78970681E8
        ],
        [
         126.0,
         294.0,
         "Liar Liar (1997)",
         3.0,
         8.87855087E8
        ],
        [
         181.0,
         1060.0,
         "Adventures of Pinocchio, The (1996)",
         1.0,
         8.78962675E8
        ],
        [
         125.0,
         80.0,
         "Hot Shots! Part Deux (1993)",
         4.0,
         8.92838865E8
        ],
        [
         43.0,
         120.0,
         "Striptease (1996)",
         4.0,
         8.8402943E8
        ],
        [
         13.0,
         780.0,
         "Dumb & Dumber (1994)",
         1.0,
         8.82142057E8
        ],
        [
         253.0,
         259.0,
         "George of the Jungle (1997)",
         2.0,
         8.91628883E8
        ],
        [
         42.0,
         44.0,
         "Dolores Claiborne (1994)",
         3.0,
         8.81108548E8
        ],
        [
         77.0,
         518.0,
         "Miller's Crossing (1990)",
         4.0,
         8.84753202E8
        ],
        [
         291.0,
         686.0,
         "Perfect World, A (1993)",
         5.0,
         8.74835165E8
        ],
        [
         268.0,
         21.0,
         "Muppet Treasure Island (1996)",
         3.0,
         8.75742822E8
        ],
        [
         262.0,
         28.0,
         "Apollo 13 (1995)",
         3.0,
         8.7979222E8
        ],
        [
         234.0,
         81.0,
         "Hudsucker Proxy, The (1994)",
         3.0,
         8.9233468E8
        ],
        [
         29.0,
         245.0,
         "Devil's Own, The (1997)",
         3.0,
         8.82820803E8
        ],
        [
         236.0,
         57.0,
         "Priest (1994)",
         5.0,
         8.90116575E8
        ],
        [
         158.0,
         729.0,
         "Nell (1994)",
         3.0,
         8.80133116E8
        ],
        [
         156.0,
         661.0,
         "High Noon (1952)",
         4.0,
         8.88185947E8
        ],
        [
         232.0,
         52.0,
         "Madness of King George, The (1994)",
         5.0,
         8.8855013E8
        ],
        [
         168.0,
         866.0,
         "Michael (1996)",
         5.0,
         8.84287927E8
        ],
        [
         37.0,
         288.0,
         "Scream (1996)",
         4.0,
         8.80915258E8
        ],
        [
         141.0,
         245.0,
         "Devil's Own, The (1997)",
         3.0,
         8.84584426E8
        ],
        [
         235.0,
         230.0,
         "Star Trek IV: The Voyage Home (1986)",
         4.0,
         8.89655162E8
        ],
        [
         102.0,
         70.0,
         "Four Weddings and a Funeral (1994)",
         3.0,
         8.88803537E8
        ],
        [
         77.0,
         172.0,
         "Empire Strikes Back, The (1980)",
         3.0,
         8.84752562E8
        ],
        [
         90.0,
         506.0,
         "Rebel Without a Cause (1955)",
         5.0,
         8.91383319E8
        ],
        [
         186.0,
         566.0,
         "Clear and Present Danger (1994)",
         5.0,
         8.79023663E8
        ],
        [
         44.0,
         660.0,
         "Fried Green Tomatoes (1991)",
         5.0,
         8.78347915E8
        ],
        [
         118.0,
         774.0,
         "Prophecy, The (1995)",
         5.0,
         8.75385198E8
        ],
        [
         7.0,
         661.0,
         "High Noon (1952)",
         5.0,
         8.91351624E8
        ],
        [
         49.0,
         1003.0,
         "That Darn Cat! (1997)",
         2.0,
         8.88068651E8
        ],
        [
         62.0,
         68.0,
         "Crow, The (1994)",
         1.0,
         8.79374969E8
        ],
        [
         42.0,
         1028.0,
         "Grumpier Old Men (1995)",
         4.0,
         8.81106072E8
        ],
        [
         178.0,
         433.0,
         "Heathers (1989)",
         4.0,
         8.82827834E8
        ],
        [
         85.0,
         51.0,
         "Legends of the Fall (1994)",
         2.0,
         8.79454782E8
        ],
        [
         77.0,
         474.0,
         "Dr. Strangelove or: How I Learned to Stop Worrying and Love the Bomb (1963)",
         5.0,
         8.84732407E8
        ],
        [
         58.0,
         1099.0,
         "Red Firecracker, Green Firecracker (1994)",
         2.0,
         8.92243079E8
        ],
        [
         56.0,
         1047.0,
         "Multiplicity (1996)",
         4.0,
         8.9291129E8
        ],
        [
         197.0,
         688.0,
         "Leave It to Beaver (1997)",
         1.0,
         8.91409564E8
        ],
        [
         286.0,
         99.0,
         "Snow White and the Seven Dwarfs (1937)",
         4.0,
         8.78141681E8
        ],
        [
         90.0,
         258.0,
         "Contact (1997)",
         3.0,
         8.91382121E8
        ],
        [
         181.0,
         1288.0,
         "Denise Calls Up (1995)",
         1.0,
         8.78962349E8
        ],
        [
         295.0,
         190.0,
         "Henry V (1989)",
         4.0,
         8.79517062E8
        ],
        [
         224.0,
         69.0,
         "Forrest Gump (1994)",
         4.0,
         8.88082495E8
        ],
        [
         272.0,
         317.0,
         "In the Name of the Father (1993)",
         4.0,
         8.79454977E8
        ],
        [
         221.0,
         1010.0,
         "Basquiat (1996)",
         3.0,
         8.75246662E8
        ],
        [
         66.0,
         877.0,
         "Excess Baggage (1997)",
         1.0,
         8.83601089E8
        ],
        [
         207.0,
         318.0,
         "Schindler's List (1993)",
         5.0,
         8.77124871E8
        ],
        [
         234.0,
         487.0,
         "Roman Holiday (1953)",
         3.0,
         8.92079237E8
        ],
        [
         7.0,
         648.0,
         "Quiet Man, The (1952)",
         5.0,
         8.91351653E8
        ],
        [
         87.0,
         82.0,
         "Jurassic Park (1993)",
         5.0,
         8.79875774E8
        ],
        [
         195.0,
         1052.0,
         "Dracula: Dead and Loving It (1995)",
         1.0,
         8.77835102E8
        ],
        [
         44.0,
         449.0,
         "Star Trek: The Motion Picture (1979)",
         5.0,
         8.83613334E8
        ],
        [
         306.0,
         287.0,
         "Marvin's Room (1996)",
         4.0,
         8.76504442E8
        ],
        [
         194.0,
         172.0,
         "Empire Strikes Back, The (1980)",
         3.0,
         8.79521474E8
        ],
        [
         94.0,
         62.0,
         "Stargate (1994)",
         3.0,
         8.91722933E8
        ],
        [
         167.0,
         659.0,
         "Arsenic and Old Lace (1944)",
         4.0,
         8.92738277E8
        ],
        [
         108.0,
         100.0,
         "Fargo (1996)",
         4.0,
         8.7987972E8
        ],
        [
         230.0,
         304.0,
         "Fly Away Home (1996)",
         5.0,
         8.80484286E8
        ],
        [
         181.0,
         927.0,
         "Flower of My Secret, The (Flor de mi secreto, La) (1995)",
         1.0,
         8.78962675E8
        ],
        [
         54.0,
         302.0,
         "L.A. Confidential (1997)",
         4.0,
         8.80928519E8
        ],
        [
         90.0,
         22.0,
         "Braveheart (1995)",
         4.0,
         8.91384357E8
        ],
        [
         181.0,
         696.0,
         "City Hall (1996)",
         2.0,
         8.78962997E8
        ],
        [
         286.0,
         357.0,
         "One Flew Over the Cuckoo's Nest (1975)",
         4.0,
         8.77531537E8
        ],
        [
         14.0,
         269.0,
         "Full Monty, The (1997)",
         4.0,
         8.92242403E8
        ],
        [
         311.0,
         179.0,
         "Clockwork Orange, A (1971)",
         2.0,
         8.84365357E8
        ],
        [
         92.0,
         121.0,
         "Independence Day (ID4) (1996)",
         5.0,
         8.75640679E8
        ],
        [
         21.0,
         440.0,
         "Amityville II: The Possession (1982)",
         1.0,
         8.74951798E8
        ],
        [
         244.0,
         550.0,
         "Die Hard: With a Vengeance (1995)",
         1.0,
         8.80602264E8
        ],
        [
         181.0,
         405.0,
         "Mission: Impossible (1996)",
         4.0,
         8.78962919E8
        ],
        [
         65.0,
         806.0,
         "Menace II Society (1993)",
         4.0,
         8.79216529E8
        ],
        [
         37.0,
         540.0,
         "Money Train (1995)",
         2.0,
         8.8091607E8
        ],
        [
         44.0,
         443.0,
         "Birds, The (1963)",
         5.0,
         8.78348289E8
        ],
        [
         244.0,
         183.0,
         "Alien (1979)",
         4.0,
         8.80606043E8
        ],
        [
         1.0,
         265.0,
         "Hunt for Red October, The (1990)",
         4.0,
         8.78542441E8
        ],
        [
         270.0,
         25.0,
         "Birdcage, The (1996)",
         5.0,
         8.76954456E8
        ],
        [
         299.0,
         387.0,
         "Age of Innocence, The (1993)",
         2.0,
         8.89502756E8
        ],
        [
         94.0,
         572.0,
         "Blown Away (1994)",
         3.0,
         8.91723883E8
        ],
        [
         286.0,
         746.0,
         "Real Genius (1985)",
         4.0,
         8.77533058E8
        ],
        [
         239.0,
         272.0,
         "Good Will Hunting (1997)",
         5.0,
         8.89181247E8
        ],
        [
         216.0,
         55.0,
         "Professional, The (1994)",
         5.0,
         8.80245145E8
        ],
        [
         254.0,
         121.0,
         "Independence Day (ID4) (1996)",
         3.0,
         8.86472369E8
        ],
        [
         62.0,
         665.0,
         "Alien 3 (1992)",
         2.0,
         8.79376483E8
        ],
        [
         178.0,
         385.0,
         "True Lies (1994)",
         4.0,
         8.82826982E8
        ],
        [
         194.0,
         23.0,
         "Taxi Driver (1976)",
         4.0,
         8.79522819E8
        ],
        [
         268.0,
         955.0,
         "Before Sunrise (1995)",
         3.0,
         8.7574516E8
        ],
        [
         188.0,
         143.0,
         "Sound of Music, The (1965)",
         5.0,
         8.75072674E8
        ],
        [
         276.0,
         294.0,
         "Liar Liar (1997)",
         4.0,
         8.74786366E8
        ],
        [
         158.0,
         1098.0,
         "Flirting With Disaster (1996)",
         4.0,
         8.80135069E8
        ],
        [
         207.0,
         845.0,
         "That Thing You Do! (1996)",
         3.0,
         8.81681663E8
        ],
        [
         161.0,
         48.0,
         "Hoop Dreams (1994)",
         1.0,
         8.91170745E8
        ],
        [
         305.0,
         654.0,
         "Chinatown (1974)",
         4.0,
         8.86323937E8
        ],
        [
         47.0,
         324.0,
         "Lost Highway (1997)",
         3.0,
         8.79439078E8
        ],
        [
         64.0,
         736.0,
         "Shadowlands (1993)",
         4.0,
         8.89739212E8
        ],
        [
         191.0,
         751.0,
         "Tomorrow Never Dies (1997)",
         3.0,
         8.91560753E8
        ],
        [
         7.0,
         378.0,
         "Miracle on 34th Street (1994)",
         5.0,
         8.91353011E8
        ],
        [
         59.0,
         92.0,
         "True Romance (1993)",
         5.0,
         8.88204997E8
        ],
        [
         69.0,
         268.0,
         "Chasing Amy (1997)",
         5.0,
         8.82027109E8
        ],
        [
         10.0,
         461.0,
         "Smoke (1995)",
         3.0,
         8.77888944E8
        ],
        [
         21.0,
         129.0,
         "Bound (1996)",
         4.0,
         8.74951382E8
        ],
        [
         58.0,
         9.0,
         "Dead Man Walking (1995)",
         4.0,
         8.84304328E8
        ],
        [
         194.0,
         152.0,
         "Sleeper (1973)",
         3.0,
         8.79549996E8
        ],
        [
         7.0,
         200.0,
         "Shining, The (1980)",
         5.0,
         8.91353543E8
        ],
        [
         113.0,
         126.0,
         "Spitfire Grill, The (1996)",
         5.0,
         8.75076827E8
        ],
        [
         173.0,
         328.0,
         "Conspiracy Theory (1997)",
         5.0,
         8.77557028E8
        ],
        [
         95.0,
         233.0,
         "Under Siege (1992)",
         4.0,
         8.79196354E8
        ],
        [
         16.0,
         194.0,
         "Sting, The (1973)",
         5.0,
         8.77720733E8
        ],
        [
         59.0,
         323.0,
         "Dante's Peak (1997)",
         4.0,
         8.88206809E8
        ],
        [
         311.0,
         654.0,
         "Chinatown (1974)",
         3.0,
         8.84365075E8
        ],
        [
         292.0,
         589.0,
         "Wild Bunch, The (1969)",
         4.0,
         8.81105516E8
        ],
        [
         43.0,
         203.0,
         "Unforgiven (1992)",
         4.0,
         8.83955224E8
        ],
        [
         79.0,
         50.0,
         "Star Wars (1977)",
         4.0,
         8.91271545E8
        ],
        [
         235.0,
         70.0,
         "Four Weddings and a Funeral (1994)",
         5.0,
         8.89655619E8
        ],
        [
         125.0,
         190.0,
         "Henry V (1989)",
         5.0,
         8.92836309E8
        ],
        [
         284.0,
         322.0,
         "Murder at 1600 (1997)",
         3.0,
         8.85329671E8
        ],
        [
         303.0,
         161.0,
         "Top Gun (1986)",
         5.0,
         8.79468547E8
        ],
        [
         254.0,
         378.0,
         "Miracle on 34th Street (1994)",
         3.0,
         8.86474396E8
        ],
        [
         255.0,
         1034.0,
         "Quest, The (1996)",
         1.0,
         8.8321703E8
        ],
        [
         104.0,
         301.0,
         "In & Out (1997)",
         2.0,
         8.88442275E8
        ],
        [
         90.0,
         923.0,
         "Raise the Red Lantern (1991)",
         5.0,
         8.91383912E8
        ],
        [
         6.0,
         463.0,
         "Secret of Roan Inish, The (1994)",
         4.0,
         8.83601713E8
        ],
        [
         279.0,
         122.0,
         "Cable Guy, The (1996)",
         1.0,
         8.75297433E8
        ],
        [
         286.0,
         298.0,
         "Face/Off (1997)",
         4.0,
         8.75807004E8
        ],
        [
         222.0,
         448.0,
         "Omen, The (1976)",
         3.0,
         8.78183565E8
        ],
        [
         297.0,
         57.0,
         "Priest (1994)",
         5.0,
         8.75239383E8
        ],
        [
         42.0,
         625.0,
         "Sword in the Stone, The (1963)",
         3.0,
         8.81108873E8
        ],
        [
         130.0,
         1217.0,
         "Assassins (1995)",
         4.0,
         8.75801778E8
        ],
        [
         254.0,
         357.0,
         "One Flew Over the Cuckoo's Nest (1975)",
         3.0,
         8.86472466E8
        ],
        [
         109.0,
         475.0,
         "Trainspotting (1996)",
         1.0,
         8.80563641E8
        ],
        [
         230.0,
         1444.0,
         "That Darn Cat! (1965)",
         2.0,
         8.80485726E8
        ],
        [
         244.0,
         310.0,
         "Rainmaker, The (1997)",
         3.0,
         8.80601905E8
        ],
        [
         6.0,
         301.0,
         "In & Out (1997)",
         2.0,
         8.83600406E8
        ],
        [
         36.0,
         748.0,
         "Saint, The (1997)",
         4.0,
         8.82157285E8
        ],
        [
         256.0,
         443.0,
         "Birds, The (1963)",
         3.0,
         8.82164727E8
        ],
        [
         102.0,
         515.0,
         "Boot, Das (1981)",
         1.0,
         8.88801316E8
        ],
        [
         104.0,
         285.0,
         "Secrets & Lies (1996)",
         4.0,
         8.88465201E8
        ],
        [
         21.0,
         447.0,
         "Carrie (1976)",
         5.0,
         8.74951695E8
        ],
        [
         111.0,
         301.0,
         "In & Out (1997)",
         4.0,
         8.91680028E8
        ],
        [
         18.0,
         408.0,
         "Close Shave, A (1995)",
         5.0,
         8.80129628E8
        ],
        [
         25.0,
         222.0,
         "Star Trek: First Contact (1996)",
         4.0,
         8.85852817E8
        ],
        [
         110.0,
         944.0,
         "Renaissance Man (1994)",
         3.0,
         8.86989501E8
        ],
        [
         270.0,
         98.0,
         "Silence of the Lambs, The (1991)",
         5.0,
         8.76955868E8
        ],
        [
         68.0,
         237.0,
         "Jerry Maguire (1996)",
         5.0,
         8.76974133E8
        ],
        [
         83.0,
         215.0,
         "Field of Dreams (1989)",
         4.0,
         8.8030794E8
        ],
        [
         6.0,
         258.0,
         "Contact (1997)",
         2.0,
         8.83268278E8
        ],
        [
         89.0,
         216.0,
         "When Harry Met Sally... (1989)",
         5.0,
         8.79459859E8
        ],
        [
         128.0,
         317.0,
         "In the Name of the Father (1993)",
         4.0,
         8.79968029E8
        ],
        [
         305.0,
         512.0,
         "Wings of Desire (1987)",
         4.0,
         8.86323525E8
        ],
        [
         184.0,
         412.0,
         "Very Brady Sequel, A (1996)",
         2.0,
         8.89912691E8
        ],
        [
         286.0,
         175.0,
         "Brazil (1985)",
         5.0,
         8.7753247E8
        ],
        [
         279.0,
         1428.0,
         "SubUrbia (1997)",
         3.0,
         8.88465209E8
        ],
        [
         256.0,
         86.0,
         "Remains of the Day, The (1993)",
         5.0,
         8.82165103E8
        ],
        [
         221.0,
         48.0,
         "Hoop Dreams (1994)",
         5.0,
         8.75245462E8
        ],
        [
         140.0,
         332.0,
         "Kiss the Girls (1997)",
         3.0,
         8.79013617E8
        ],
        [
         190.0,
         977.0,
         "Substitute, The (1996)",
         2.0,
         8.91042938E8
        ],
        [
         11.0,
         227.0,
         "Star Trek VI: The Undiscovered Country (1991)",
         3.0,
         8.91905896E8
        ],
        [
         201.0,
         203.0,
         "Unforgiven (1992)",
         5.0,
         8.84114471E8
        ],
        [
         150.0,
         181.0,
         "Return of the Jedi (1983)",
         5.0,
         8.78746685E8
        ],
        [
         126.0,
         245.0,
         "Devil's Own, The (1997)",
         3.0,
         8.87854726E8
        ],
        [
         20.0,
         208.0,
         "Young Frankenstein (1974)",
         2.0,
         8.79669401E8
        ],
        [
         144.0,
         742.0,
         "Ransom (1996)",
         4.0,
         8.88104122E8
        ],
        [
         181.0,
         930.0,
         "Chain Reaction (1996)",
         1.0,
         8.78963275E8
        ],
        [
         109.0,
         566.0,
         "Clear and Present Danger (1994)",
         4.0,
         8.80578814E8
        ],
        [
         85.0,
         1065.0,
         "Koyaanisqatsi (1983)",
         3.0,
         8.79455021E8
        ],
        [
         213.0,
         133.0,
         "Gone with the Wind (1939)",
         3.0,
         8.78955973E8
        ],
        [
         222.0,
         379.0,
         "Tales From the Crypt Presents: Demon Knight (1995)",
         1.0,
         8.7818429E8
        ],
        [
         223.0,
         11.0,
         "Seven (Se7en) (1995)",
         3.0,
         8.91550649E8
        ],
        [
         215.0,
         421.0,
         "William Shakespeare's Romeo and Juliet (1996)",
         4.0,
         8.91435704E8
        ],
        [
         218.0,
         208.0,
         "Young Frankenstein (1974)",
         3.0,
         8.77488366E8
        ],
        [
         174.0,
         937.0,
         "Thousand Acres, A (1997)",
         5.0,
         8.86432989E8
        ],
        [
         275.0,
         186.0,
         "Blues Brothers, The (1980)",
         3.0,
         8.80314383E8
        ],
        [
         68.0,
         742.0,
         "Ransom (1996)",
         1.0,
         8.76974198E8
        ],
        [
         268.0,
         583.0,
         "Romeo Is Bleeding (1993)",
         4.0,
         8.7651383E8
        ],
        [
         160.0,
         462.0,
         "Like Water For Chocolate (Como agua para chocolate) (1992)",
         4.0,
         8.76858346E8
        ],
        [
         195.0,
         273.0,
         "Heat (1995)",
         4.0,
         8.78019342E8
        ],
        [
         224.0,
         178.0,
         "12 Angry Men (1957)",
         4.0,
         8.88082468E8
        ],
        [
         5.0,
         110.0,
         "Operation Dumbo Drop (1995)",
         1.0,
         8.75636493E8
        ],
        [
         99.0,
         1016.0,
         "Con Air (1997)",
         5.0,
         8.85678724E8
        ],
        [
         2.0,
         251.0,
         "Shall We Dance? (1996)",
         5.0,
         8.88552084E8
        ],
        [
         292.0,
         9.0,
         "Dead Man Walking (1995)",
         4.0,
         8.81104148E8
        ],
        [
         72.0,
         568.0,
         "Speed (1994)",
         4.0,
         8.80037203E8
        ],
        [
         85.0,
         228.0,
         "Star Trek: The Wrath of Khan (1982)",
         3.0,
         8.82813248E8
        ],
        [
         83.0,
         281.0,
         "River Wild, The (1994)",
         5.0,
         8.80307072E8
        ],
        [
         92.0,
         831.0,
         "Escape from L.A. (1996)",
         2.0,
         8.86443708E8
        ],
        [
         7.0,
         543.0,
         "Mis�rables, Les (1995)",
         3.0,
         8.91351772E8
        ],
        [
         87.0,
         401.0,
         "Brady Bunch Movie, The (1995)",
         2.0,
         8.79876813E8
        ],
        [
         287.0,
         926.0,
         "Down Periscope (1996)",
         4.0,
         8.7533434E8
        ],
        [
         1.0,
         155.0,
         "Dirty Dancing (1987)",
         2.0,
         8.78542201E8
        ],
        [
         234.0,
         632.0,
         "Sophie's Choice (1982)",
         2.0,
         8.92079538E8
        ],
        [
         222.0,
         53.0,
         "Natural Born Killers (1994)",
         5.0,
         8.78184113E8
        ],
        [
         24.0,
         64.0,
         "Shawshank Redemption, The (1994)",
         5.0,
         8.75322758E8
        ],
        [
         7.0,
         554.0,
         "Waterworld (1995)",
         3.0,
         8.91354639E8
        ],
        [
         82.0,
         56.0,
         "Pulp Fiction (1994)",
         3.0,
         8.7876941E8
        ],
        [
         161.0,
         318.0,
         "Schindler's List (1993)",
         3.0,
         8.91170824E8
        ],
        [
         196.0,
         393.0,
         "Mrs. Doubtfire (1993)",
         4.0,
         8.81251863E8
        ],
        [
         56.0,
         91.0,
         "Nightmare Before Christmas, The (1993)",
         4.0,
         8.92683275E8
        ],
        [
         82.0,
         477.0,
         "Matilda (1996)",
         3.0,
         8.76311344E8
        ],
        [
         7.0,
         472.0,
         "Dragonheart (1996)",
         2.0,
         8.91353357E8
        ],
        [
         256.0,
         761.0,
         "Nick of Time (1995)",
         4.0,
         8.82164644E8
        ],
        [
         226.0,
         56.0,
         "Pulp Fiction (1994)",
         4.0,
         8.83889102E8
        ],
        [
         279.0,
         741.0,
         "Last Supper, The (1995)",
         5.0,
         8.75296891E8
        ],
        [
         308.0,
         1286.0,
         "Shall We Dance? (1937)",
         3.0,
         8.87738151E8
        ],
        [
         16.0,
         8.0,
         "Babe (1995)",
         5.0,
         8.77722736E8
        ],
        [
         180.0,
         202.0,
         "Groundhog Day (1993)",
         3.0,
         8.77128388E8
        ],
        [
         203.0,
         93.0,
         "Welcome to the Dollhouse (1995)",
         4.0,
         8.8043494E8
        ],
        [
         145.0,
         56.0,
         "Pulp Fiction (1994)",
         5.0,
         8.75271896E8
        ],
        [
         288.0,
         305.0,
         "Ice Storm, The (1997)",
         4.0,
         8.86372527E8
        ],
        [
         84.0,
         742.0,
         "Ransom (1996)",
         3.0,
         8.83450643E8
        ],
        [
         44.0,
         644.0,
         "Thin Blue Line, The (1988)",
         3.0,
         8.78347818E8
        ],
        [
         17.0,
         13.0,
         "Mighty Aphrodite (1995)",
         3.0,
         8.85272654E8
        ],
        [
         313.0,
         117.0,
         "Rock, The (1996)",
         4.0,
         8.91015319E8
        ],
        [
         148.0,
         1.0,
         "Toy Story (1995)",
         4.0,
         8.77019411E8
        ],
        [
         197.0,
         347.0,
         "Wag the Dog (1997)",
         4.0,
         8.9140907E8
        ],
        [
         21.0,
         164.0,
         "Abyss, The (1989)",
         5.0,
         8.74951695E8
        ],
        [
         279.0,
         982.0,
         "Maximum Risk (1996)",
         3.0,
         8.75298314E8
        ],
        [
         239.0,
         491.0,
         "Adventures of Robin Hood, The (1938)",
         5.0,
         8.89181015E8
        ],
        [
         185.0,
         287.0,
         "Marvin's Room (1996)",
         5.0,
         8.83526288E8
        ],
        [
         297.0,
         89.0,
         "Blade Runner (1982)",
         4.0,
         8.75239125E8
        ],
        [
         303.0,
         68.0,
         "Crow, The (1994)",
         4.0,
         8.79467361E8
        ],
        [
         186.0,
         250.0,
         "Fifth Element, The (1997)",
         1.0,
         8.79023607E8
        ],
        [
         73.0,
         206.0,
         "Akira (1988)",
         3.0,
         8.88625754E8
        ],
        [
         104.0,
         756.0,
         "Father of the Bride Part II (1995)",
         2.0,
         8.88465739E8
        ],
        [
         94.0,
         216.0,
         "When Harry Met Sally... (1989)",
         3.0,
         8.85870665E8
        ],
        [
         239.0,
         194.0,
         "Sting, The (1973)",
         5.0,
         8.89178833E8
        ],
        [
         197.0,
         511.0,
         "Lawrence of Arabia (1962)",
         5.0,
         8.91409839E8
        ],
        [
         280.0,
         1.0,
         "Toy Story (1995)",
         4.0,
         8.91700426E8
        ],
        [
         1.0,
         117.0,
         "Rock, The (1996)",
         3.0,
         8.74965739E8
        ],
        [
         224.0,
         583.0,
         "Romeo Is Bleeding (1993)",
         1.0,
         8.88103729E8
        ],
        [
         303.0,
         397.0,
         "Striking Distance (1993)",
         1.0,
         8.79543831E8
        ],
        [
         60.0,
         162.0,
         "On Golden Pond (1981)",
         4.0,
         8.83327734E8
        ],
        [
         198.0,
         258.0,
         "Contact (1997)",
         4.0,
         8.84204501E8
        ],
        [
         239.0,
         513.0,
         "Third Man, The (1949)",
         5.0,
         8.89178887E8
        ],
        [
         6.0,
         69.0,
         "Forrest Gump (1994)",
         3.0,
         8.83601277E8
        ],
        [
         233.0,
         375.0,
         "Showgirls (1995)",
         4.0,
         8.76374419E8
        ],
        [
         85.0,
         642.0,
         "Grifters, The (1990)",
         4.0,
         8.82995615E8
        ],
        [
         110.0,
         38.0,
         "Net, The (1995)",
         3.0,
         8.86988574E8
        ],
        [
         184.0,
         522.0,
         "Down by Law (1986)",
         3.0,
         8.89908462E8
        ],
        [
         99.0,
         873.0,
         "Picture Perfect (1997)",
         1.0,
         8.85678436E8
        ],
        [
         13.0,
         418.0,
         "Cinderella (1950)",
         2.0,
         8.82398763E8
        ],
        [
         201.0,
         518.0,
         "Miller's Crossing (1990)",
         4.0,
         8.84112201E8
        ],
        [
         13.0,
         858.0,
         "Amityville: Dollhouse (1996)",
         1.0,
         8.82397068E8
        ],
        [
         214.0,
         131.0,
         "Breakfast at Tiffany's (1961)",
         3.0,
         8.91544465E8
        ],
        [
         296.0,
         228.0,
         "Star Trek: The Wrath of Khan (1982)",
         4.0,
         8.84197264E8
        ],
        [
         222.0,
         87.0,
         "Searching for Bobby Fischer (1993)",
         3.0,
         8.78182589E8
        ],
        [
         279.0,
         725.0,
         "Exit to Eden (1994)",
         4.0,
         8.75314144E8
        ],
        [
         217.0,
         182.0,
         "GoodFellas (1990)",
         2.0,
         8.89070109E8
        ],
        [
         85.0,
         433.0,
         "Heathers (1989)",
         3.0,
         8.7982872E8
        ],
        [
         239.0,
         234.0,
         "Jaws (1975)",
         3.0,
         8.89178762E8
        ],
        [
         13.0,
         72.0,
         "Mask, The (1994)",
         4.0,
         8.82141727E8
        ],
        [
         194.0,
         77.0,
         "Firm, The (1993)",
         3.0,
         8.79527421E8
        ],
        [
         208.0,
         663.0,
         "Being There (1979)",
         5.0,
         8.83108476E8
        ],
        [
         109.0,
         178.0,
         "12 Angry Men (1957)",
         3.0,
         8.8057295E8
        ],
        [
         230.0,
         172.0,
         "Empire Strikes Back, The (1980)",
         4.0,
         8.80484523E8
        ],
        [
         59.0,
         485.0,
         "My Fair Lady (1964)",
         2.0,
         8.88204466E8
        ]
       ],
       "plotOptions": {
        "displayType": "table",
        "customPlotOptions": {},
        "pivotColumns": null,
        "pivotAggregation": null,
        "xColumns": null,
        "yColumns": null
       },
       "columnCustomDisplayInfos": {},
       "aggType": "",
       "isJsonSchema": true,
       "removedWidgets": [],
       "aggSchema": [],
       "schema": [
        {
         "name": "user_id",
         "type": "\"integer\"",
         "metadata": "{}"
        },
        {
         "name": "movie_id",
         "type": "\"integer\"",
         "metadata": "{}"
        },
        {
         "name": "movie_names",
         "type": "\"string\"",
         "metadata": "{}"
        },
        {
         "name": "rating",
         "type": "\"integer\"",
         "metadata": "{}"
        },
        {
         "name": "timestamp",
         "type": "\"long\"",
         "metadata": "{}"
        }
       ],
       "aggError": "",
       "aggData": [],
       "addedWidgets": {},
       "dbfsResultPath": null,
       "type": "table",
       "aggOverflow": false,
       "aggSeriesLimitReached": false,
       "arguments": {}
      }
     },
     "output_type": "execute_result"
    }
   ],
   "source": [
    "display(final_df)"
   ]
  },
  {
   "cell_type": "code",
   "execution_count": 0,
   "metadata": {
    "application/vnd.databricks.v1+cell": {
     "title": "",
     "showTitle": false,
     "inputWidgets": {},
     "nuid": "cae7e286-0356-4899-8494-5ef8e8fc290c"
    }
   },
   "outputs": [
    {
     "data": {
      "text/html": [
       "<style scoped>\n  .ansiout {\n    display: block;\n    unicode-bidi: embed;\n    white-space: pre-wrap;\n    word-wrap: break-word;\n    word-break: break-all;\n    font-family: \"Source Code Pro\", \"Menlo\", monospace;;\n    font-size: 13px;\n    color: #555;\n    margin-left: 4px;\n    line-height: 19px;\n  }\n</style>\n<div class=\"ansiout\">+--------+-----+\nmovie_id|count|\n+--------+-----+\n      50|  583|\n     258|  509|\n     100|  508|\n     181|  507|\n     294|  485|\n     286|  481|\n     288|  478|\n       1|  452|\n     300|  431|\n     121|  429|\n+--------+-----+\nonly showing top 10 rows\n\n</div>"
      ]
     },
     "metadata": {
      "application/vnd.databricks.v1+output": {
       "datasetInfos": [],
       "data": "<div class=\"ansiout\">+--------+-----+\n|movie_id|count|\n+--------+-----+\n|      50|  583|\n|     258|  509|\n|     100|  508|\n|     181|  507|\n|     294|  485|\n|     286|  481|\n|     288|  478|\n|       1|  452|\n|     300|  431|\n|     121|  429|\n+--------+-----+\nonly showing top 10 rows\n\n</div>",
       "removedWidgets": [],
       "addedWidgets": {},
       "type": "html",
       "arguments": {}
      }
     },
     "output_type": "execute_result"
    }
   ],
   "source": [
    "count_df=final_df.groupBy(\"movie_id\").count().orderBy(func.desc(\"count\"))\n",
    "count_df.show(10)"
   ]
  },
  {
   "cell_type": "code",
   "execution_count": 0,
   "metadata": {
    "application/vnd.databricks.v1+cell": {
     "title": "",
     "showTitle": false,
     "inputWidgets": {},
     "nuid": "29049a1c-5b1d-4d81-bca4-4a5b33ce46a9"
    }
   },
   "outputs": [
    {
     "data": {
      "text/html": [
       "<style scoped>\n  .ansiout {\n    display: block;\n    unicode-bidi: embed;\n    white-space: pre-wrap;\n    word-wrap: break-word;\n    word-break: break-all;\n    font-family: \"Source Code Pro\", \"Menlo\", monospace;;\n    font-size: 13px;\n    color: #555;\n    margin-left: 4px;\n    line-height: 19px;\n  }\n</style>\n<div class=\"ansiout\">+-------+-----+\nuser_id|count|\n+-------+-----+\n    405|  737|\n    655|  685|\n     13|  636|\n    450|  540|\n    276|  518|\n    416|  493|\n    537|  490|\n    303|  484|\n    234|  480|\n    393|  448|\n+-------+-----+\nonly showing top 10 rows\n\n</div>"
      ]
     },
     "metadata": {
      "application/vnd.databricks.v1+output": {
       "datasetInfos": [],
       "data": "<div class=\"ansiout\">+-------+-----+\n|user_id|count|\n+-------+-----+\n|    405|  737|\n|    655|  685|\n|     13|  636|\n|    450|  540|\n|    276|  518|\n|    416|  493|\n|    537|  490|\n|    303|  484|\n|    234|  480|\n|    393|  448|\n+-------+-----+\nonly showing top 10 rows\n\n</div>",
       "removedWidgets": [],
       "addedWidgets": {},
       "type": "html",
       "arguments": {}
      }
     },
     "output_type": "execute_result"
    }
   ],
   "source": [
    "ucount_df=final_df.groupBy(\"user_id\").count().orderBy(func.desc(\"count\"))\n",
    "ucount_df.show(10)"
   ]
  },
  {
   "cell_type": "code",
   "execution_count": 0,
   "metadata": {
    "application/vnd.databricks.v1+cell": {
     "title": "",
     "showTitle": false,
     "inputWidgets": {},
     "nuid": "dd89fa2d-dd6a-47d5-a8ba-73c5f6f7fd38"
    }
   },
   "outputs": [
    {
     "data": {
      "text/html": [
       "<style scoped>\n  .ansiout {\n    display: block;\n    unicode-bidi: embed;\n    white-space: pre-wrap;\n    word-wrap: break-word;\n    word-break: break-all;\n    font-family: \"Source Code Pro\", \"Menlo\", monospace;;\n    font-size: 13px;\n    color: #555;\n    margin-left: 4px;\n    line-height: 19px;\n  }\n</style>\n<div class=\"ansiout\"></div>"
      ]
     },
     "metadata": {
      "application/vnd.databricks.v1+output": {
       "datasetInfos": [],
       "data": "<div class=\"ansiout\"></div>",
       "removedWidgets": [],
       "addedWidgets": {},
       "type": "html",
       "arguments": {}
      }
     },
     "output_type": "execute_result"
    }
   ],
   "source": [
    "final_df.createOrReplaceTempView(\"finalmovie\")\n",
    "count_df.createOrReplaceTempView(\"moviecount\")\n",
    "ucount_df.createOrReplaceTempView(\"usercount\")"
   ]
  },
  {
   "cell_type": "code",
   "execution_count": 0,
   "metadata": {
    "application/vnd.databricks.v1+cell": {
     "title": "",
     "showTitle": false,
     "inputWidgets": {},
     "nuid": "6fec0ec1-db29-4981-bdd2-41343e3f6d4c"
    }
   },
   "outputs": [
    {
     "data": {
      "text/html": [
       "<style scoped>\n  .ansiout {\n    display: block;\n    unicode-bidi: embed;\n    white-space: pre-wrap;\n    word-wrap: break-word;\n    word-break: break-all;\n    font-family: \"Source Code Pro\", \"Menlo\", monospace;;\n    font-size: 13px;\n    color: #555;\n    margin-left: 4px;\n    line-height: 19px;\n  }\n</style>\n<div class=\"ansiout\">+-------+--------+-----+--------------------+------+---------+\nuser_id|movie_id|count|         movie_names|rating|timestamp|\n+-------+--------+-----+--------------------+------+---------+\n    250|     496|  231|It&#39;s a Wonderful ...|     4|878090499|\n    293|     471|  221|Courage Under Fir...|     3|888904884|\n    305|     471|  221|Courage Under Fir...|     4|886323648|\n    203|     471|  221|Courage Under Fir...|     4|880434463|\n      6|     463|   71|Secret of Roan In...|     4|883601713|\n    124|     496|  231|It&#39;s a Wonderful ...|     1|890286933|\n    186|     148|  128|Ghost and the Dar...|     4|891719774|\n    201|     148|  128|Ghost and the Dar...|     1|884140751|\n     23|     463|   71|Secret of Roan In...|     4|874785843|\n     94|     471|  221|Courage Under Fir...|     4|891721642|\n+-------+--------+-----+--------------------+------+---------+\nonly showing top 10 rows\n\n</div>"
      ]
     },
     "metadata": {
      "application/vnd.databricks.v1+output": {
       "datasetInfos": [],
       "data": "<div class=\"ansiout\">+-------+--------+-----+--------------------+------+---------+\n|user_id|movie_id|count|         movie_names|rating|timestamp|\n+-------+--------+-----+--------------------+------+---------+\n|    250|     496|  231|It&#39;s a Wonderful ...|     4|878090499|\n|    293|     471|  221|Courage Under Fir...|     3|888904884|\n|    305|     471|  221|Courage Under Fir...|     4|886323648|\n|    203|     471|  221|Courage Under Fir...|     4|880434463|\n|      6|     463|   71|Secret of Roan In...|     4|883601713|\n|    124|     496|  231|It&#39;s a Wonderful ...|     1|890286933|\n|    186|     148|  128|Ghost and the Dar...|     4|891719774|\n|    201|     148|  128|Ghost and the Dar...|     1|884140751|\n|     23|     463|   71|Secret of Roan In...|     4|874785843|\n|     94|     471|  221|Courage Under Fir...|     4|891721642|\n+-------+--------+-----+--------------------+------+---------+\nonly showing top 10 rows\n\n</div>",
       "removedWidgets": [],
       "addedWidgets": {},
       "type": "html",
       "arguments": {}
      }
     },
     "output_type": "execute_result"
    }
   ],
   "source": [
    "spark.sql(\"select f.user_id,f.movie_id,m.count,f.movie_names,f.rating,f.timestamp from finalmovie f inner join moviecount m on f.movie_id==m.movie_id\").show(10)"
   ]
  },
  {
   "cell_type": "code",
   "execution_count": 0,
   "metadata": {
    "application/vnd.databricks.v1+cell": {
     "title": "",
     "showTitle": false,
     "inputWidgets": {},
     "nuid": "f320ea46-0210-4644-9fd0-2cdb0e8eac0f"
    }
   },
   "outputs": [
    {
     "data": {
      "text/html": [
       "<style scoped>\n  .ansiout {\n    display: block;\n    unicode-bidi: embed;\n    white-space: pre-wrap;\n    word-wrap: break-word;\n    word-break: break-all;\n    font-family: \"Source Code Pro\", \"Menlo\", monospace;;\n    font-size: 13px;\n    color: #555;\n    margin-left: 4px;\n    line-height: 19px;\n  }\n</style>\n<div class=\"ansiout\">+-------+--------+-----+--------------------+------+---------+\nuser_id|movie_id|count|         movie_names|rating|timestamp|\n+-------+--------+-----+--------------------+------+---------+\n    250|     496|  231|It&#39;s a Wonderful ...|     4|878090499|\n    293|     471|  221|Courage Under Fir...|     3|888904884|\n    305|     471|  221|Courage Under Fir...|     4|886323648|\n    203|     471|  221|Courage Under Fir...|     4|880434463|\n      6|     463|   71|Secret of Roan In...|     4|883601713|\n+-------+--------+-----+--------------------+------+---------+\nonly showing top 5 rows\n\n</div>"
      ]
     },
     "metadata": {
      "application/vnd.databricks.v1+output": {
       "datasetInfos": [],
       "data": "<div class=\"ansiout\">+-------+--------+-----+--------------------+------+---------+\n|user_id|movie_id|count|         movie_names|rating|timestamp|\n+-------+--------+-----+--------------------+------+---------+\n|    250|     496|  231|It&#39;s a Wonderful ...|     4|878090499|\n|    293|     471|  221|Courage Under Fir...|     3|888904884|\n|    305|     471|  221|Courage Under Fir...|     4|886323648|\n|    203|     471|  221|Courage Under Fir...|     4|880434463|\n|      6|     463|   71|Secret of Roan In...|     4|883601713|\n+-------+--------+-----+--------------------+------+---------+\nonly showing top 5 rows\n\n</div>",
       "removedWidgets": [],
       "addedWidgets": {},
       "type": "html",
       "arguments": {}
      }
     },
     "output_type": "execute_result"
    }
   ],
   "source": [
    "df3=spark.sql(\"select f.user_id,f.movie_id,m.count,f.movie_names,f.rating,f.timestamp from finalmovie f inner join moviecount m on f.movie_id==m.movie_id\")\n",
    "df3.show(5)"
   ]
  },
  {
   "cell_type": "code",
   "execution_count": 0,
   "metadata": {
    "application/vnd.databricks.v1+cell": {
     "title": "",
     "showTitle": false,
     "inputWidgets": {},
     "nuid": "65fc67b8-6659-4690-a840-1e5deb9f2155"
    }
   },
   "outputs": [
    {
     "data": {
      "text/html": [
       "<style scoped>\n  .ansiout {\n    display: block;\n    unicode-bidi: embed;\n    white-space: pre-wrap;\n    word-wrap: break-word;\n    word-break: break-all;\n    font-family: \"Source Code Pro\", \"Menlo\", monospace;;\n    font-size: 13px;\n    color: #555;\n    margin-left: 4px;\n    line-height: 19px;\n  }\n</style>\n<div class=\"ansiout\">+-------+--------+-----------+--------------------+------+---------+\nuser_id|movie_id|movie_count|         movie_names|rating|timestamp|\n+-------+--------+-----------+--------------------+------+---------+\n    250|     496|        231|It&#39;s a Wonderful ...|     4|878090499|\n    293|     471|        221|Courage Under Fir...|     3|888904884|\n    305|     471|        221|Courage Under Fir...|     4|886323648|\n    203|     471|        221|Courage Under Fir...|     4|880434463|\n      6|     463|         71|Secret of Roan In...|     4|883601713|\n+-------+--------+-----------+--------------------+------+---------+\nonly showing top 5 rows\n\n</div>"
      ]
     },
     "metadata": {
      "application/vnd.databricks.v1+output": {
       "datasetInfos": [],
       "data": "<div class=\"ansiout\">+-------+--------+-----------+--------------------+------+---------+\n|user_id|movie_id|movie_count|         movie_names|rating|timestamp|\n+-------+--------+-----------+--------------------+------+---------+\n|    250|     496|        231|It&#39;s a Wonderful ...|     4|878090499|\n|    293|     471|        221|Courage Under Fir...|     3|888904884|\n|    305|     471|        221|Courage Under Fir...|     4|886323648|\n|    203|     471|        221|Courage Under Fir...|     4|880434463|\n|      6|     463|         71|Secret of Roan In...|     4|883601713|\n+-------+--------+-----------+--------------------+------+---------+\nonly showing top 5 rows\n\n</div>",
       "removedWidgets": [],
       "addedWidgets": {},
       "type": "html",
       "arguments": {}
      }
     },
     "output_type": "execute_result"
    }
   ],
   "source": [
    "df4=df3.withColumnRenamed('count','movie_count')\n",
    "df4.show(5)"
   ]
  },
  {
   "cell_type": "code",
   "execution_count": 0,
   "metadata": {
    "application/vnd.databricks.v1+cell": {
     "title": "",
     "showTitle": false,
     "inputWidgets": {},
     "nuid": "7c3cfe53-37a6-450c-89fb-51c200bdb24d"
    }
   },
   "outputs": [
    {
     "data": {
      "text/html": [
       "<style scoped>\n  .ansiout {\n    display: block;\n    unicode-bidi: embed;\n    white-space: pre-wrap;\n    word-wrap: break-word;\n    word-break: break-all;\n    font-family: \"Source Code Pro\", \"Menlo\", monospace;;\n    font-size: 13px;\n    color: #555;\n    margin-left: 4px;\n    line-height: 19px;\n  }\n</style>\n<div class=\"ansiout\"></div>"
      ]
     },
     "metadata": {
      "application/vnd.databricks.v1+output": {
       "datasetInfos": [],
       "data": "<div class=\"ansiout\"></div>",
       "removedWidgets": [],
       "addedWidgets": {},
       "type": "html",
       "arguments": {}
      }
     },
     "output_type": "execute_result"
    }
   ],
   "source": [
    "df4.createOrReplaceTempView(\"temp_table\")"
   ]
  },
  {
   "cell_type": "code",
   "execution_count": 0,
   "metadata": {
    "application/vnd.databricks.v1+cell": {
     "title": "",
     "showTitle": false,
     "inputWidgets": {},
     "nuid": "196e9bb7-a3b3-4a42-bb64-c5238c6fd4bf"
    }
   },
   "outputs": [
    {
     "data": {
      "text/html": [
       "<style scoped>\n  .ansiout {\n    display: block;\n    unicode-bidi: embed;\n    white-space: pre-wrap;\n    word-wrap: break-word;\n    word-break: break-all;\n    font-family: \"Source Code Pro\", \"Menlo\", monospace;;\n    font-size: 13px;\n    color: #555;\n    margin-left: 4px;\n    line-height: 19px;\n  }\n</style>\n<div class=\"ansiout\">+-------+-----+--------+-----------+--------------------+------+---------+\nuser_id|count|movie_id|movie_count|         movie_names|rating|timestamp|\n+-------+-----+--------+-----------+--------------------+------+---------+\n    250|  122|     496|        231|It&#39;s a Wonderful ...|     4|878090499|\n    293|  388|     471|        221|Courage Under Fir...|     3|888904884|\n    305|  222|     471|        221|Courage Under Fir...|     4|886323648|\n    203|   43|     471|        221|Courage Under Fir...|     4|880434463|\n      6|  211|     463|         71|Secret of Roan In...|     4|883601713|\n+-------+-----+--------+-----------+--------------------+------+---------+\nonly showing top 5 rows\n\n</div>"
      ]
     },
     "metadata": {
      "application/vnd.databricks.v1+output": {
       "datasetInfos": [],
       "data": "<div class=\"ansiout\">+-------+-----+--------+-----------+--------------------+------+---------+\n|user_id|count|movie_id|movie_count|         movie_names|rating|timestamp|\n+-------+-----+--------+-----------+--------------------+------+---------+\n|    250|  122|     496|        231|It&#39;s a Wonderful ...|     4|878090499|\n|    293|  388|     471|        221|Courage Under Fir...|     3|888904884|\n|    305|  222|     471|        221|Courage Under Fir...|     4|886323648|\n|    203|   43|     471|        221|Courage Under Fir...|     4|880434463|\n|      6|  211|     463|         71|Secret of Roan In...|     4|883601713|\n+-------+-----+--------+-----------+--------------------+------+---------+\nonly showing top 5 rows\n\n</div>",
       "removedWidgets": [],
       "addedWidgets": {},
       "type": "html",
       "arguments": {}
      }
     },
     "output_type": "execute_result"
    }
   ],
   "source": [
    "spark.sql(\"select d.user_id,c.count,d.movie_id,d.movie_count,d.movie_names,d.rating,d.timestamp from temp_table d inner join usercount c on d.user_id==c.user_id\").show(5)"
   ]
  },
  {
   "cell_type": "code",
   "execution_count": 0,
   "metadata": {
    "application/vnd.databricks.v1+cell": {
     "title": "",
     "showTitle": false,
     "inputWidgets": {},
     "nuid": "5525a221-5b2d-4f80-b71d-d649d6ad3ed7"
    }
   },
   "outputs": [
    {
     "data": {
      "text/html": [
       "<style scoped>\n  .ansiout {\n    display: block;\n    unicode-bidi: embed;\n    white-space: pre-wrap;\n    word-wrap: break-word;\n    word-break: break-all;\n    font-family: \"Source Code Pro\", \"Menlo\", monospace;;\n    font-size: 13px;\n    color: #555;\n    margin-left: 4px;\n    line-height: 19px;\n  }\n</style>\n<div class=\"ansiout\">+-------+-----+--------+-----------+--------------------+------+---------+\nuser_id|count|movie_id|movie_count|         movie_names|rating|timestamp|\n+-------+-----+--------+-----------+--------------------+------+---------+\n    496|  129|     496|        231|It&#39;s a Wonderful ...|     1|876066424|\n    148|   65|     496|        231|It&#39;s a Wonderful ...|     3|877015066|\n    833|  267|     540|         43|  Money Train (1995)|     1|875224687|\n    463|  133|     243|        132|Jungle2Jungle (1997)|     1|877384970|\n    496|  129|    1139|         33|      Hackers (1995)|     2|876073882|\n    833|  267|    1143|         15|   Hard Eight (1996)|     4|887158946|\n    833|  267|     451|        170|       Grease (1978)|     1|875134016|\n    463|  133|     137|        171|    Big Night (1996)|     2|877385237|\n    471|   31|     588|        202|Beauty and the Be...|     1|889827881|\n    148|   65|     588|        202|Beauty and the Be...|     4|877399018|\n+-------+-----+--------+-----------+--------------------+------+---------+\nonly showing top 10 rows\n\n</div>"
      ]
     },
     "metadata": {
      "application/vnd.databricks.v1+output": {
       "datasetInfos": [],
       "data": "<div class=\"ansiout\">+-------+-----+--------+-----------+--------------------+------+---------+\n|user_id|count|movie_id|movie_count|         movie_names|rating|timestamp|\n+-------+-----+--------+-----------+--------------------+------+---------+\n|    496|  129|     496|        231|It&#39;s a Wonderful ...|     1|876066424|\n|    148|   65|     496|        231|It&#39;s a Wonderful ...|     3|877015066|\n|    833|  267|     540|         43|  Money Train (1995)|     1|875224687|\n|    463|  133|     243|        132|Jungle2Jungle (1997)|     1|877384970|\n|    496|  129|    1139|         33|      Hackers (1995)|     2|876073882|\n|    833|  267|    1143|         15|   Hard Eight (1996)|     4|887158946|\n|    833|  267|     451|        170|       Grease (1978)|     1|875134016|\n|    463|  133|     137|        171|    Big Night (1996)|     2|877385237|\n|    471|   31|     588|        202|Beauty and the Be...|     1|889827881|\n|    148|   65|     588|        202|Beauty and the Be...|     4|877399018|\n+-------+-----+--------+-----------+--------------------+------+---------+\nonly showing top 10 rows\n\n</div>",
       "removedWidgets": [],
       "addedWidgets": {},
       "type": "html",
       "arguments": {}
      }
     },
     "output_type": "execute_result"
    }
   ],
   "source": [
    "df5=spark.sql(\"select d.user_id,c.count,d.movie_id,d.movie_count,d.movie_names,d.rating,d.timestamp from temp_table d inner join usercount c on d.user_id==c.user_id\")\n",
    "df5.show(10)"
   ]
  },
  {
   "cell_type": "code",
   "execution_count": 0,
   "metadata": {
    "application/vnd.databricks.v1+cell": {
     "title": "",
     "showTitle": false,
     "inputWidgets": {},
     "nuid": "2cbc15f9-8f22-491c-8547-76bcec5b9212"
    }
   },
   "outputs": [
    {
     "data": {
      "text/html": [
       "<style scoped>\n  .ansiout {\n    display: block;\n    unicode-bidi: embed;\n    white-space: pre-wrap;\n    word-wrap: break-word;\n    word-break: break-all;\n    font-family: \"Source Code Pro\", \"Menlo\", monospace;;\n    font-size: 13px;\n    color: #555;\n    margin-left: 4px;\n    line-height: 19px;\n  }\n</style>\n<div class=\"ansiout\">+-------+----------+--------+-----------+--------------------+------+---------+\nuser_id|user_count|movie_id|movie_count|         movie_names|rating|timestamp|\n+-------+----------+--------+-----------+--------------------+------+---------+\n    250|       122|     496|        231|It&#39;s a Wonderful ...|     4|878090499|\n    293|       388|     471|        221|Courage Under Fir...|     3|888904884|\n    305|       222|     471|        221|Courage Under Fir...|     4|886323648|\n    203|        43|     471|        221|Courage Under Fir...|     4|880434463|\n      6|       211|     463|         71|Secret of Roan In...|     4|883601713|\n    124|        24|     496|        231|It&#39;s a Wonderful ...|     1|890286933|\n    186|        92|     148|        128|Ghost and the Dar...|     4|891719774|\n    201|       386|     148|        128|Ghost and the Dar...|     1|884140751|\n     23|       151|     463|         71|Secret of Roan In...|     4|874785843|\n     94|       400|     471|        221|Courage Under Fir...|     4|891721642|\n+-------+----------+--------+-----------+--------------------+------+---------+\nonly showing top 10 rows\n\n</div>"
      ]
     },
     "metadata": {
      "application/vnd.databricks.v1+output": {
       "datasetInfos": [],
       "data": "<div class=\"ansiout\">+-------+----------+--------+-----------+--------------------+------+---------+\n|user_id|user_count|movie_id|movie_count|         movie_names|rating|timestamp|\n+-------+----------+--------+-----------+--------------------+------+---------+\n|    250|       122|     496|        231|It&#39;s a Wonderful ...|     4|878090499|\n|    293|       388|     471|        221|Courage Under Fir...|     3|888904884|\n|    305|       222|     471|        221|Courage Under Fir...|     4|886323648|\n|    203|        43|     471|        221|Courage Under Fir...|     4|880434463|\n|      6|       211|     463|         71|Secret of Roan In...|     4|883601713|\n|    124|        24|     496|        231|It&#39;s a Wonderful ...|     1|890286933|\n|    186|        92|     148|        128|Ghost and the Dar...|     4|891719774|\n|    201|       386|     148|        128|Ghost and the Dar...|     1|884140751|\n|     23|       151|     463|         71|Secret of Roan In...|     4|874785843|\n|     94|       400|     471|        221|Courage Under Fir...|     4|891721642|\n+-------+----------+--------+-----------+--------------------+------+---------+\nonly showing top 10 rows\n\n</div>",
       "removedWidgets": [],
       "addedWidgets": {},
       "type": "html",
       "arguments": {}
      }
     },
     "output_type": "execute_result"
    }
   ],
   "source": [
    "df5=df5.withColumnRenamed('count','user_count')\n",
    "df5.show(10)"
   ]
  },
  {
   "cell_type": "code",
   "execution_count": 0,
   "metadata": {
    "application/vnd.databricks.v1+cell": {
     "title": "",
     "showTitle": false,
     "inputWidgets": {},
     "nuid": "32befa38-2b4b-440a-93dd-01d268e986c6"
    }
   },
   "outputs": [
    {
     "data": {
      "text/html": [
       "<style scoped>\n  .table-result-container {\n    max-height: 300px;\n    overflow: auto;\n  }\n  table, th, td {\n    border: 1px solid black;\n    border-collapse: collapse;\n  }\n  th, td {\n    padding: 5px;\n  }\n  th {\n    text-align: left;\n  }\n</style><div class='table-result-container'><table class='table-result'><thead style='background-color: white'><tr><th>user_id</th><th>user_count</th><th>movie_id</th><th>movie_count</th><th>movie_names</th><th>rating</th><th>timestamp</th></tr></thead><tbody><tr><td>691</td><td>32</td><td>496</td><td>231</td><td>It's a Wonderful Life (1946)</td><td>5</td><td>875543025</td></tr><tr><td>654</td><td>147</td><td>496</td><td>231</td><td>It's a Wonderful Life (1946)</td><td>4</td><td>887864230</td></tr><tr><td>479</td><td>202</td><td>496</td><td>231</td><td>It's a Wonderful Life (1946)</td><td>3</td><td>879461084</td></tr><tr><td>890</td><td>119</td><td>496</td><td>231</td><td>It's a Wonderful Life (1946)</td><td>5</td><td>882916460</td></tr><tr><td>731</td><td>83</td><td>496</td><td>231</td><td>It's a Wonderful Life (1946)</td><td>5</td><td>886179040</td></tr><tr><td>665</td><td>142</td><td>496</td><td>231</td><td>It's a Wonderful Life (1946)</td><td>3</td><td>884294200</td></tr><tr><td>929</td><td>49</td><td>496</td><td>231</td><td>It's a Wonderful Life (1946)</td><td>3</td><td>879640256</td></tr><tr><td>426</td><td>101</td><td>496</td><td>231</td><td>It's a Wonderful Life (1946)</td><td>3</td><td>879442841</td></tr><tr><td>698</td><td>127</td><td>496</td><td>231</td><td>It's a Wonderful Life (1946)</td><td>3</td><td>886366690</td></tr><tr><td>807</td><td>204</td><td>496</td><td>231</td><td>It's a Wonderful Life (1946)</td><td>5</td><td>892528918</td></tr><tr><td>330</td><td>147</td><td>496</td><td>231</td><td>It's a Wonderful Life (1946)</td><td>5</td><td>876546172</td></tr><tr><td>850</td><td>51</td><td>496</td><td>231</td><td>It's a Wonderful Life (1946)</td><td>5</td><td>883195079</td></tr><tr><td>648</td><td>297</td><td>496</td><td>231</td><td>It's a Wonderful Life (1946)</td><td>4</td><td>884796822</td></tr><tr><td>846</td><td>405</td><td>496</td><td>231</td><td>It's a Wonderful Life (1946)</td><td>3</td><td>883947630</td></tr><tr><td>537</td><td>490</td><td>496</td><td>231</td><td>It's a Wonderful Life (1946)</td><td>4</td><td>886030831</td></tr><tr><td>932</td><td>241</td><td>496</td><td>231</td><td>It's a Wonderful Life (1946)</td><td>4</td><td>891250169</td></tr><tr><td>363</td><td>311</td><td>496</td><td>231</td><td>It's a Wonderful Life (1946)</td><td>4</td><td>891494563</td></tr><tr><td>907</td><td>147</td><td>496</td><td>231</td><td>It's a Wonderful Life (1946)</td><td>4</td><td>880159666</td></tr><tr><td>417</td><td>365</td><td>496</td><td>231</td><td>It's a Wonderful Life (1946)</td><td>3</td><td>879647040</td></tr><tr><td>908</td><td>74</td><td>496</td><td>231</td><td>It's a Wonderful Life (1946)</td><td>5</td><td>879722361</td></tr><tr><td>771</td><td>70</td><td>496</td><td>231</td><td>It's a Wonderful Life (1946)</td><td>5</td><td>880659606</td></tr><tr><td>883</td><td>268</td><td>496</td><td>231</td><td>It's a Wonderful Life (1946)</td><td>2</td><td>891755066</td></tr><tr><td>64</td><td>200</td><td>496</td><td>231</td><td>It's a Wonderful Life (1946)</td><td>5</td><td>889737567</td></tr><tr><td>344</td><td>190</td><td>496</td><td>231</td><td>It's a Wonderful Life (1946)</td><td>4</td><td>889814194</td></tr><tr><td>804</td><td>332</td><td>496</td><td>231</td><td>It's a Wonderful Life (1946)</td><td>5</td><td>879441973</td></tr><tr><td>897</td><td>185</td><td>496</td><td>231</td><td>It's a Wonderful Life (1946)</td><td>5</td><td>879994113</td></tr><tr><td>593</td><td>156</td><td>496</td><td>231</td><td>It's a Wonderful Life (1946)</td><td>5</td><td>875671198</td></tr><tr><td>785</td><td>27</td><td>496</td><td>231</td><td>It's a Wonderful Life (1946)</td><td>4</td><td>879438810</td></tr><tr><td>887</td><td>171</td><td>496</td><td>231</td><td>It's a Wonderful Life (1946)</td><td>4</td><td>881379685</td></tr><tr><td>371</td><td>51</td><td>496</td><td>231</td><td>It's a Wonderful Life (1946)</td><td>4</td><td>877487052</td></tr><tr><td>896</td><td>362</td><td>496</td><td>231</td><td>It's a Wonderful Life (1946)</td><td>4</td><td>887158029</td></tr><tr><td>664</td><td>166</td><td>496</td><td>231</td><td>It's a Wonderful Life (1946)</td><td>5</td><td>878090381</td></tr><tr><td>661</td><td>121</td><td>496</td><td>231</td><td>It's a Wonderful Life (1946)</td><td>5</td><td>876015530</td></tr><tr><td>870</td><td>269</td><td>496</td><td>231</td><td>It's a Wonderful Life (1946)</td><td>5</td><td>882801371</td></tr><tr><td>847</td><td>146</td><td>496</td><td>231</td><td>It's a Wonderful Life (1946)</td><td>4</td><td>878940954</td></tr><tr><td>521</td><td>150</td><td>496</td><td>231</td><td>It's a Wonderful Life (1946)</td><td>2</td><td>885253668</td></tr><tr><td>862</td><td>165</td><td>496</td><td>231</td><td>It's a Wonderful Life (1946)</td><td>5</td><td>879304902</td></tr><tr><td>868</td><td>208</td><td>496</td><td>231</td><td>It's a Wonderful Life (1946)</td><td>2</td><td>877107597</td></tr><tr><td>617</td><td>108</td><td>496</td><td>231</td><td>It's a Wonderful Life (1946)</td><td>1</td><td>883789080</td></tr><tr><td>924</td><td>82</td><td>496</td><td>231</td><td>It's a Wonderful Life (1946)</td><td>5</td><td>886327689</td></tr><tr><td>867</td><td>95</td><td>496</td><td>231</td><td>It's a Wonderful Life (1946)</td><td>5</td><td>880078574</td></tr><tr><td>6</td><td>211</td><td>496</td><td>231</td><td>It's a Wonderful Life (1946)</td><td>4</td><td>883601155</td></tr><tr><td>886</td><td>240</td><td>496</td><td>231</td><td>It's a Wonderful Life (1946)</td><td>4</td><td>876031952</td></tr><tr><td>566</td><td>149</td><td>496</td><td>231</td><td>It's a Wonderful Life (1946)</td><td>5</td><td>881649428</td></tr><tr><td>577</td><td>188</td><td>496</td><td>231</td><td>It's a Wonderful Life (1946)</td><td>5</td><td>880474455</td></tr><tr><td>848</td><td>150</td><td>496</td><td>231</td><td>It's a Wonderful Life (1946)</td><td>2</td><td>887037980</td></tr><tr><td>786</td><td>117</td><td>496</td><td>231</td><td>It's a Wonderful Life (1946)</td><td>5</td><td>882843312</td></tr><tr><td>942</td><td>79</td><td>496</td><td>231</td><td>It's a Wonderful Life (1946)</td><td>5</td><td>891283043</td></tr><tr><td>642</td><td>318</td><td>496</td><td>231</td><td>It's a Wonderful Life (1946)</td><td>4</td><td>885603516</td></tr><tr><td>496</td><td>129</td><td>496</td><td>231</td><td>It's a Wonderful Life (1946)</td><td>1</td><td>876066424</td></tr><tr><td>645</td><td>122</td><td>496</td><td>231</td><td>It's a Wonderful Life (1946)</td><td>3</td><td>892053686</td></tr><tr><td>875</td><td>89</td><td>496</td><td>231</td><td>It's a Wonderful Life (1946)</td><td>4</td><td>876465144</td></tr><tr><td>382</td><td>53</td><td>496</td><td>231</td><td>It's a Wonderful Life (1946)</td><td>3</td><td>875946945</td></tr><tr><td>647</td><td>58</td><td>496</td><td>231</td><td>It's a Wonderful Life (1946)</td><td>4</td><td>876534275</td></tr><tr><td>60</td><td>208</td><td>496</td><td>231</td><td>It's a Wonderful Life (1946)</td><td>4</td><td>883326682</td></tr><tr><td>653</td><td>283</td><td>496</td><td>231</td><td>It's a Wonderful Life (1946)</td><td>2</td><td>878866679</td></tr><tr><td>334</td><td>333</td><td>496</td><td>231</td><td>It's a Wonderful Life (1946)</td><td>3</td><td>891547040</td></tr><tr><td>734</td><td>64</td><td>496</td><td>231</td><td>It's a Wonderful Life (1946)</td><td>5</td><td>891025523</td></tr><tr><td>892</td><td>226</td><td>496</td><td>231</td><td>It's a Wonderful Life (1946)</td><td>5</td><td>886609435</td></tr><tr><td>561</td><td>357</td><td>496</td><td>231</td><td>It's a Wonderful Life (1946)</td><td>3</td><td>885807369</td></tr><tr><td>271</td><td>278</td><td>496</td><td>231</td><td>It's a Wonderful Life (1946)</td><td>5</td><td>885849140</td></tr><tr><td>343</td><td>237</td><td>496</td><td>231</td><td>It's a Wonderful Life (1946)</td><td>5</td><td>876404426</td></tr><tr><td>506</td><td>242</td><td>496</td><td>231</td><td>It's a Wonderful Life (1946)</td><td>5</td><td>874873615</td></tr><tr><td>154</td><td>51</td><td>496</td><td>231</td><td>It's a Wonderful Life (1946)</td><td>3</td><td>879138910</td></tr><tr><td>216</td><td>131</td><td>496</td><td>231</td><td>It's a Wonderful Life (1946)</td><td>5</td><td>880233635</td></tr><tr><td>503</td><td>160</td><td>496</td><td>231</td><td>It's a Wonderful Life (1946)</td><td>5</td><td>880472474</td></tr><tr><td>912</td><td>53</td><td>496</td><td>231</td><td>It's a Wonderful Life (1946)</td><td>4</td><td>875965939</td></tr><tr><td>194</td><td>305</td><td>496</td><td>231</td><td>It's a Wonderful Life (1946)</td><td>4</td><td>879520743</td></tr><tr><td>643</td><td>206</td><td>496</td><td>231</td><td>It's a Wonderful Life (1946)</td><td>4</td><td>891446688</td></tr><tr><td>864</td><td>294</td><td>496</td><td>231</td><td>It's a Wonderful Life (1946)</td><td>5</td><td>888887944</td></tr><tr><td>806</td><td>140</td><td>496</td><td>231</td><td>It's a Wonderful Life (1946)</td><td>5</td><td>882387798</td></tr><tr><td>498</td><td>149</td><td>496</td><td>231</td><td>It's a Wonderful Life (1946)</td><td>3</td><td>881957905</td></tr><tr><td>882</td><td>137</td><td>496</td><td>231</td><td>It's a Wonderful Life (1946)</td><td>5</td><td>879866320</td></tr><tr><td>254</td><td>159</td><td>496</td><td>231</td><td>It's a Wonderful Life (1946)</td><td>4</td><td>886471982</td></tr><tr><td>539</td><td>56</td><td>496</td><td>231</td><td>It's a Wonderful Life (1946)</td><td>3</td><td>879787985</td></tr><tr><td>899</td><td>135</td><td>496</td><td>231</td><td>It's a Wonderful Life (1946)</td><td>5</td><td>884121379</td></tr><tr><td>311</td><td>294</td><td>496</td><td>231</td><td>It's a Wonderful Life (1946)</td><td>5</td><td>884364593</td></tr><tr><td>928</td><td>32</td><td>496</td><td>231</td><td>It's a Wonderful Life (1946)</td><td>5</td><td>880936863</td></tr><tr><td>878</td><td>134</td><td>496</td><td>231</td><td>It's a Wonderful Life (1946)</td><td>5</td><td>880867387</td></tr><tr><td>911</td><td>98</td><td>496</td><td>231</td><td>It's a Wonderful Life (1946)</td><td>3</td><td>892838954</td></tr><tr><td>128</td><td>184</td><td>496</td><td>231</td><td>It's a Wonderful Life (1946)</td><td>5</td><td>879967225</td></tr><tr><td>435</td><td>379</td><td>496</td><td>231</td><td>It's a Wonderful Life (1946)</td><td>4</td><td>884131243</td></tr><tr><td>790</td><td>231</td><td>496</td><td>231</td><td>It's a Wonderful Life (1946)</td><td>3</td><td>885155172</td></tr><tr><td>758</td><td>357</td><td>496</td><td>231</td><td>It's a Wonderful Life (1946)</td><td>3</td><td>881976031</td></tr><tr><td>383</td><td>71</td><td>496</td><td>231</td><td>It's a Wonderful Life (1946)</td><td>5</td><td>891192888</td></tr><tr><td>630</td><td>108</td><td>496</td><td>231</td><td>It's a Wonderful Life (1946)</td><td>3</td><td>885667854</td></tr><tr><td>780</td><td>55</td><td>496</td><td>231</td><td>It's a Wonderful Life (1946)</td><td>4</td><td>891364027</td></tr><tr><td>711</td><td>221</td><td>496</td><td>231</td><td>It's a Wonderful Life (1946)</td><td>5</td><td>879993073</td></tr><tr><td>766</td><td>175</td><td>496</td><td>231</td><td>It's a Wonderful Life (1946)</td><td>5</td><td>891309767</td></tr><tr><td>640</td><td>109</td><td>496</td><td>231</td><td>It's a Wonderful Life (1946)</td><td>4</td><td>874777491</td></tr><tr><td>741</td><td>104</td><td>496</td><td>231</td><td>It's a Wonderful Life (1946)</td><td>5</td><td>891456718</td></tr><tr><td>710</td><td>86</td><td>496</td><td>231</td><td>It's a Wonderful Life (1946)</td><td>4</td><td>882063793</td></tr><tr><td>749</td><td>305</td><td>496</td><td>231</td><td>It's a Wonderful Life (1946)</td><td>5</td><td>878847673</td></tr><tr><td>836</td><td>50</td><td>496</td><td>231</td><td>It's a Wonderful Life (1946)</td><td>4</td><td>885754231</td></tr><tr><td>690</td><td>115</td><td>496</td><td>231</td><td>It's a Wonderful Life (1946)</td><td>4</td><td>881179222</td></tr><tr><td>535</td><td>218</td><td>496</td><td>231</td><td>It's a Wonderful Life (1946)</td><td>5</td><td>879618246</td></tr><tr><td>262</td><td>160</td><td>496</td><td>231</td><td>It's a Wonderful Life (1946)</td><td>4</td><td>879792402</td></tr><tr><td>840</td><td>197</td><td>496</td><td>231</td><td>It's a Wonderful Life (1946)</td><td>5</td><td>891204089</td></tr><tr><td>393</td><td>448</td><td>496</td><td>231</td><td>It's a Wonderful Life (1946)</td><td>5</td><td>887746119</td></tr><tr><td>694</td><td>157</td><td>496</td><td>231</td><td>It's a Wonderful Life (1946)</td><td>4</td><td>875727640</td></tr><tr><td>778</td><td>65</td><td>496</td><td>231</td><td>It's a Wonderful Life (1946)</td><td>1</td><td>891234406</td></tr><tr><td>815</td><td>183</td><td>496</td><td>231</td><td>It's a Wonderful Life (1946)</td><td>5</td><td>878694027</td></tr><tr><td>659</td><td>191</td><td>496</td><td>231</td><td>It's a Wonderful Life (1946)</td><td>5</td><td>891385258</td></tr><tr><td>354</td><td>233</td><td>496</td><td>231</td><td>It's a Wonderful Life (1946)</td><td>3</td><td>891217109</td></tr><tr><td>82</td><td>168</td><td>496</td><td>231</td><td>It's a Wonderful Life (1946)</td><td>4</td><td>878769992</td></tr><tr><td>532</td><td>274</td><td>496</td><td>231</td><td>It's a Wonderful Life (1946)</td><td>5</td><td>893119491</td></tr><tr><td>472</td><td>263</td><td>496</td><td>231</td><td>It's a Wonderful Life (1946)</td><td>4</td><td>875980823</td></tr><tr><td>527</td><td>137</td><td>496</td><td>231</td><td>It's a Wonderful Life (1946)</td><td>4</td><td>879456248</td></tr><tr><td>764</td><td>109</td><td>496</td><td>231</td><td>It's a Wonderful Life (1946)</td><td>5</td><td>876244991</td></tr><tr><td>97</td><td>63</td><td>496</td><td>231</td><td>It's a Wonderful Life (1946)</td><td>2</td><td>884238693</td></tr><tr><td>605</td><td>90</td><td>496</td><td>231</td><td>It's a Wonderful Life (1946)</td><td>5</td><td>879424600</td></tr><tr><td>20</td><td>48</td><td>496</td><td>231</td><td>It's a Wonderful Life (1946)</td><td>5</td><td>879669244</td></tr><tr><td>230</td><td>133</td><td>496</td><td>231</td><td>It's a Wonderful Life (1946)</td><td>5</td><td>880484501</td></tr><tr><td>452</td><td>206</td><td>496</td><td>231</td><td>It's a Wonderful Life (1946)</td><td>5</td><td>875261666</td></tr><tr><td>524</td><td>306</td><td>496</td><td>231</td><td>It's a Wonderful Life (1946)</td><td>2</td><td>884637314</td></tr><tr><td>184</td><td>251</td><td>496</td><td>231</td><td>It's a Wonderful Life (1946)</td><td>5</td><td>889908539</td></tr><tr><td>796</td><td>358</td><td>496</td><td>231</td><td>It's a Wonderful Life (1946)</td><td>5</td><td>892662223</td></tr><tr><td>214</td><td>128</td><td>496</td><td>231</td><td>It's a Wonderful Life (1946)</td><td>4</td><td>891544545</td></tr><tr><td>641</td><td>40</td><td>496</td><td>231</td><td>It's a Wonderful Life (1946)</td><td>2</td><td>879370337</td></tr><tr><td>738</td><td>148</td><td>496</td><td>231</td><td>It's a Wonderful Life (1946)</td><td>4</td><td>875351346</td></tr><tr><td>776</td><td>105</td><td>496</td><td>231</td><td>It's a Wonderful Life (1946)</td><td>3</td><td>891628708</td></tr><tr><td>342</td><td>201</td><td>496</td><td>231</td><td>It's a Wonderful Life (1946)</td><td>4</td><td>875319334</td></tr><tr><td>650</td><td>311</td><td>496</td><td>231</td><td>It's a Wonderful Life (1946)</td><td>4</td><td>891369707</td></tr><tr><td>747</td><td>293</td><td>496</td><td>231</td><td>It's a Wonderful Life (1946)</td><td>5</td><td>888640136</td></tr><tr><td>704</td><td>90</td><td>496</td><td>231</td><td>It's a Wonderful Life (1946)</td><td>5</td><td>891397712</td></tr><tr><td>748</td><td>108</td><td>496</td><td>231</td><td>It's a Wonderful Life (1946)</td><td>4</td><td>879454455</td></tr><tr><td>560</td><td>101</td><td>496</td><td>231</td><td>It's a Wonderful Life (1946)</td><td>3</td><td>879975752</td></tr><tr><td>666</td><td>245</td><td>496</td><td>231</td><td>It's a Wonderful Life (1946)</td><td>4</td><td>880139149</td></tr><tr><td>87</td><td>211</td><td>496</td><td>231</td><td>It's a Wonderful Life (1946)</td><td>5</td><td>879877709</td></tr><tr><td>660</td><td>224</td><td>496</td><td>231</td><td>It's a Wonderful Life (1946)</td><td>3</td><td>891199082</td></tr><tr><td>373</td><td>233</td><td>496</td><td>231</td><td>It's a Wonderful Life (1946)</td><td>5</td><td>877098643</td></tr><tr><td>716</td><td>269</td><td>496</td><td>231</td><td>It's a Wonderful Life (1946)</td><td>5</td><td>879795467</td></tr><tr><td>407</td><td>226</td><td>496</td><td>231</td><td>It's a Wonderful Life (1946)</td><td>5</td><td>875042425</td></tr><tr><td>453</td><td>156</td><td>496</td><td>231</td><td>It's a Wonderful Life (1946)</td><td>4</td><td>888203066</td></tr><tr><td>707</td><td>236</td><td>496</td><td>231</td><td>It's a Wonderful Life (1946)</td><td>3</td><td>886286433</td></tr><tr><td>622</td><td>228</td><td>496</td><td>231</td><td>It's a Wonderful Life (1946)</td><td>4</td><td>882592314</td></tr><tr><td>437</td><td>263</td><td>496</td><td>231</td><td>It's a Wonderful Life (1946)</td><td>4</td><td>880140662</td></tr><tr><td>429</td><td>414</td><td>496</td><td>231</td><td>It's a Wonderful Life (1946)</td><td>4</td><td>882384603</td></tr><tr><td>308</td><td>397</td><td>496</td><td>231</td><td>It's a Wonderful Life (1946)</td><td>3</td><td>887736532</td></tr><tr><td>269</td><td>323</td><td>496</td><td>231</td><td>It's a Wonderful Life (1946)</td><td>5</td><td>891455816</td></tr><tr><td>44</td><td>151</td><td>496</td><td>231</td><td>It's a Wonderful Life (1946)</td><td>4</td><td>878348885</td></tr><tr><td>90</td><td>300</td><td>496</td><td>231</td><td>It's a Wonderful Life (1946)</td><td>4</td><td>891385787</td></tr><tr><td>234</td><td>480</td><td>496</td><td>231</td><td>It's a Wonderful Life (1946)</td><td>4</td><td>892079190</td></tr><tr><td>57</td><td>106</td><td>496</td><td>231</td><td>It's a Wonderful Life (1946)</td><td>4</td><td>883698362</td></tr><tr><td>314</td><td>245</td><td>496</td><td>231</td><td>It's a Wonderful Life (1946)</td><td>4</td><td>877888060</td></tr><tr><td>505</td><td>112</td><td>496</td><td>231</td><td>It's a Wonderful Life (1946)</td><td>5</td><td>889333534</td></tr><tr><td>536</td><td>163</td><td>496</td><td>231</td><td>It's a Wonderful Life (1946)</td><td>5</td><td>882359455</td></tr><tr><td>398</td><td>172</td><td>496</td><td>231</td><td>It's a Wonderful Life (1946)</td><td>5</td><td>875721111</td></tr><tr><td>280</td><td>258</td><td>496</td><td>231</td><td>It's a Wonderful Life (1946)</td><td>5</td><td>891700321</td></tr><tr><td>586</td><td>166</td><td>496</td><td>231</td><td>It's a Wonderful Life (1946)</td><td>3</td><td>884059426</td></tr><tr><td>394</td><td>149</td><td>496</td><td>231</td><td>It's a Wonderful Life (1946)</td><td>5</td><td>880887206</td></tr><tr><td>161</td><td>58</td><td>496</td><td>231</td><td>It's a Wonderful Life (1946)</td><td>3</td><td>891171734</td></tr><tr><td>200</td><td>216</td><td>496</td><td>231</td><td>It's a Wonderful Life (1946)</td><td>5</td><td>884128904</td></tr><tr><td>488</td><td>154</td><td>496</td><td>231</td><td>It's a Wonderful Life (1946)</td><td>4</td><td>891294246</td></tr><tr><td>588</td><td>225</td><td>496</td><td>231</td><td>It's a Wonderful Life (1946)</td><td>3</td><td>890023879</td></tr><tr><td>387</td><td>304</td><td>496</td><td>231</td><td>It's a Wonderful Life (1946)</td><td>3</td><td>886480515</td></tr><tr><td>567</td><td>155</td><td>496</td><td>231</td><td>It's a Wonderful Life (1946)</td><td>5</td><td>882426184</td></tr><tr><td>618</td><td>216</td><td>496</td><td>231</td><td>It's a Wonderful Life (1946)</td><td>4</td><td>891307619</td></tr><tr><td>601</td><td>148</td><td>496</td><td>231</td><td>It's a Wonderful Life (1946)</td><td>4</td><td>876349302</td></tr><tr><td>495</td><td>213</td><td>496</td><td>231</td><td>It's a Wonderful Life (1946)</td><td>5</td><td>888632888</td></tr><tr><td>85</td><td>288</td><td>496</td><td>231</td><td>It's a Wonderful Life (1946)</td><td>4</td><td>879453781</td></tr><tr><td>571</td><td>20</td><td>496</td><td>231</td><td>It's a Wonderful Life (1946)</td><td>3</td><td>883354886</td></tr><tr><td>533</td><td>260</td><td>496</td><td>231</td><td>It's a Wonderful Life (1946)</td><td>5</td><td>879439061</td></tr><tr><td>148</td><td>65</td><td>496</td><td>231</td><td>It's a Wonderful Life (1946)</td><td>3</td><td>877015066</td></tr><tr><td>553</td><td>100</td><td>496</td><td>231</td><td>It's a Wonderful Life (1946)</td><td>3</td><td>879948460</td></tr><tr><td>235</td><td>94</td><td>496</td><td>231</td><td>It's a Wonderful Life (1946)</td><td>4</td><td>889655662</td></tr><tr><td>454</td><td>236</td><td>496</td><td>231</td><td>It's a Wonderful Life (1946)</td><td>4</td><td>881959991</td></tr><tr><td>542</td><td>135</td><td>496</td><td>231</td><td>It's a Wonderful Life (1946)</td><td>4</td><td>886532534</td></tr><tr><td>538</td><td>81</td><td>496</td><td>231</td><td>It's a Wonderful Life (1946)</td><td>5</td><td>877107491</td></tr><tr><td>346</td><td>193</td><td>496</td><td>231</td><td>It's a Wonderful Life (1946)</td><td>5</td><td>875260242</td></tr><tr><td>556</td><td>44</td><td>496</td><td>231</td><td>It's a Wonderful Life (1946)</td><td>5</td><td>882136252</td></tr><tr><td>409</td><td>203</td><td>496</td><td>231</td><td>It's a Wonderful Life (1946)</td><td>5</td><td>881107817</td></tr><tr><td>385</td><td>281</td><td>496</td><td>231</td><td>It's a Wonderful Life (1946)</td><td>2</td><td>879441538</td></tr><tr><td>474</td><td>327</td><td>496</td><td>231</td><td>It's a Wonderful Life (1946)</td><td>4</td><td>887923708</td></tr><tr><td>478</td><td>113</td><td>496</td><td>231</td><td>It's a Wonderful Life (1946)</td><td>5</td><td>889388862</td></tr><tr><td>48</td><td>66</td><td>496</td><td>231</td><td>It's a Wonderful Life (1946)</td><td>5</td><td>879434791</td></tr><tr><td>378</td><td>375</td><td>496</td><td>231</td><td>It's a Wonderful Life (1946)</td><td>3</td><td>880045935</td></tr><tr><td>290</td><td>150</td><td>496</td><td>231</td><td>It's a Wonderful Life (1946)</td><td>4</td><td>880474156</td></tr><tr><td>236</td><td>124</td><td>496</td><td>231</td><td>It's a Wonderful Life (1946)</td><td>3</td><td>890116499</td></tr><tr><td>399</td><td>319</td><td>496</td><td>231</td><td>It's a Wonderful Life (1946)</td><td>3</td><td>882349868</td></tr><tr><td>465</td><td>80</td><td>496</td><td>231</td><td>It's a Wonderful Life (1946)</td><td>3</td><td>883531246</td></tr><tr><td>215</td><td>93</td><td>496</td><td>231</td><td>It's a Wonderful Life (1946)</td><td>5</td><td>891435183</td></tr><tr><td>151</td><td>307</td><td>496</td><td>231</td><td>It's a Wonderful Life (1946)</td><td>4</td><td>879524974</td></tr><tr><td>313</td><td>262</td><td>496</td><td>231</td><td>It's a Wonderful Life (1946)</td><td>5</td><td>891014753</td></tr><tr><td>416</td><td>493</td><td>496</td><td>231</td><td>It's a Wonderful Life (1946)</td><td>5</td><td>893212572</td></tr><tr><td>43</td><td>221</td><td>496</td><td>231</td><td>It's a Wonderful Life (1946)</td><td>5</td><td>883955605</td></tr><tr><td>458</td><td>183</td><td>496</td><td>231</td><td>It's a Wonderful Life (1946)</td><td>3</td><td>886398289</td></tr><tr><td>58</td><td>154</td><td>496</td><td>231</td><td>It's a Wonderful Life (1946)</td><td>2</td><td>891611593</td></tr><tr><td>70</td><td>131</td><td>496</td><td>231</td><td>It's a Wonderful Life (1946)</td><td>4</td><td>884064545</td></tr><tr><td>263</td><td>123</td><td>496</td><td>231</td><td>It's a Wonderful Life (1946)</td><td>5</td><td>891298218</td></tr><tr><td>295</td><td>196</td><td>496</td><td>231</td><td>It's a Wonderful Life (1946)</td><td>5</td><td>879517682</td></tr><tr><td>16</td><td>140</td><td>496</td><td>231</td><td>It's a Wonderful Life (1946)</td><td>5</td><td>877721905</td></tr><tr><td>450</td><td>540</td><td>496</td><td>231</td><td>It's a Wonderful Life (1946)</td><td>5</td><td>882373532</td></tr><tr><td>7</td><td>403</td><td>496</td><td>231</td><td>It's a Wonderful Life (1946)</td><td>5</td><td>891351083</td></tr><tr><td>380</td><td>162</td><td>496</td><td>231</td><td>It's a Wonderful Life (1946)</td><td>4</td><td>885479537</td></tr><tr><td>95</td><td>278</td><td>496</td><td>231</td><td>It's a Wonderful Life (1946)</td><td>4</td><td>879198746</td></tr><tr><td>125</td><td>182</td><td>496</td><td>231</td><td>It's a Wonderful Life (1946)</td><td>5</td><td>879454419</td></tr><tr><td>94</td><td>400</td><td>496</td><td>231</td><td>It's a Wonderful Life (1946)</td><td>3</td><td>885873159</td></tr><tr><td>253</td><td>97</td><td>496</td><td>231</td><td>It's a Wonderful Life (1946)</td><td>5</td><td>891628278</td></tr><tr><td>115</td><td>92</td><td>496</td><td>231</td><td>It's a Wonderful Life (1946)</td><td>1</td><td>881171203</td></tr><tr><td>379</td><td>196</td><td>496</td><td>231</td><td>It's a Wonderful Life (1946)</td><td>5</td><td>892879481</td></tr><tr><td>42</td><td>183</td><td>496</td><td>231</td><td>It's a Wonderful Life (1946)</td><td>5</td><td>881107718</td></tr><tr><td>339</td><td>254</td><td>496</td><td>231</td><td>It's a Wonderful Life (1946)</td><td>5</td><td>891032320</td></tr><tr><td>360</td><td>102</td><td>496</td><td>231</td><td>It's a Wonderful Life (1946)</td><td>3</td><td>880356092</td></tr><tr><td>221</td><td>146</td><td>496</td><td>231</td><td>It's a Wonderful Life (1946)</td><td>3</td><td>875246146</td></tr><tr><td>406</td><td>342</td><td>496</td><td>231</td><td>It's a Wonderful Life (1946)</td><td>4</td><td>879445378</td></tr><tr><td>175</td><td>38</td><td>496</td><td>231</td><td>It's a Wonderful Life (1946)</td><td>5</td><td>877108098</td></tr><tr><td>389</td><td>271</td><td>496</td><td>231</td><td>It's a Wonderful Life (1946)</td><td>4</td><td>879991218</td></tr><tr><td>130</td><td>353</td><td>496</td><td>231</td><td>It's a Wonderful Life (1946)</td><td>5</td><td>875216593</td></tr><tr><td>275</td><td>95</td><td>496</td><td>231</td><td>It's a Wonderful Life (1946)</td><td>3</td><td>880314031</td></tr><tr><td>312</td><td>223</td><td>496</td><td>231</td><td>It's a Wonderful Life (1946)</td><td>5</td><td>891698664</td></tr><tr><td>51</td><td>23</td><td>496</td><td>231</td><td>It's a Wonderful Life (1946)</td><td>4</td><td>883498655</td></tr><tr><td>291</td><td>296</td><td>496</td><td>231</td><td>It's a Wonderful Life (1946)</td><td>5</td><td>875088191</td></tr><tr><td>114</td><td>48</td><td>496</td><td>231</td><td>It's a Wonderful Life (1946)</td><td>4</td><td>881259994</td></tr><tr><td>10</td><td>184</td><td>496</td><td>231</td><td>It's a Wonderful Life (1946)</td><td>5</td><td>877889005</td></tr><tr><td>299</td><td>280</td><td>496</td><td>231</td><td>It's a Wonderful Life (1946)</td><td>3</td><td>878192154</td></tr><tr><td>276</td><td>518</td><td>496</td><td>231</td><td>It's a Wonderful Life (1946)</td><td>4</td><td>882659476</td></tr><tr><td>298</td><td>127</td><td>496</td><td>231</td><td>It's a Wonderful Life (1946)</td><td>5</td><td>884127603</td></tr><tr><td>274</td><td>71</td><td>496</td><td>231</td><td>It's a Wonderful Life (1946)</td><td>5</td><td>878946473</td></tr><tr><td>189</td><td>187</td><td>496</td><td>231</td><td>It's a Wonderful Life (1946)</td><td>5</td><td>893265380</td></tr><tr><td>326</td><td>187</td><td>496</td><td>231</td><td>It's a Wonderful Life (1946)</td><td>5</td><td>879874825</td></tr><tr><td>75</td><td>79</td><td>496</td><td>231</td><td>It's a Wonderful Life (1946)</td><td>5</td><td>884051921</td></tr><tr><td>301</td><td>275</td><td>496</td><td>231</td><td>It's a Wonderful Life (1946)</td><td>5</td><td>882075743</td></tr><tr><td>195</td><td>96</td><td>496</td><td>231</td><td>It's a Wonderful Life (1946)</td><td>4</td><td>888737525</td></tr><tr><td>59</td><td>382</td><td>496</td><td>231</td><td>It's a Wonderful Life (1946)</td><td>4</td><td>888205144</td></tr><tr><td>293</td><td>388</td><td>496</td><td>231</td><td>It's a Wonderful Life (1946)</td><td>5</td><td>888905840</td></tr><tr><td>321</td><td>125</td><td>496</td><td>231</td><td>It's a Wonderful Life (1946)</td><td>4</td><td>879438607</td></tr><tr><td>138</td><td>51</td><td>496</td><td>231</td><td>It's a Wonderful Life (1946)</td><td>4</td><td>879024043</td></tr><tr><td>18</td><td>277</td><td>496</td><td>231</td><td>It's a Wonderful Life (1946)</td><td>5</td><td>880130470</td></tr><tr><td>124</td><td>24</td><td>496</td><td>231</td><td>It's a Wonderful Life (1946)</td><td>1</td><td>890286933</td></tr><tr><td>250</td><td>122</td><td>496</td><td>231</td><td>It's a Wonderful Life (1946)</td><td>4</td><td>878090499</td></tr><tr><td>939</td><td>49</td><td>471</td><td>221</td><td>Courage Under Fire (1996)</td><td>5</td><td>880261254</td></tr><tr><td>924</td><td>82</td><td>471</td><td>221</td><td>Courage Under Fire (1996)</td><td>4</td><td>884371635</td></tr><tr><td>201</td><td>386</td><td>471</td><td>221</td><td>Courage Under Fire (1996)</td><td>2</td><td>884140637</td></tr><tr><td>758</td><td>357</td><td>471</td><td>221</td><td>Courage Under Fire (1996)</td><td>3</td><td>881975472</td></tr><tr><td>865</td><td>66</td><td>471</td><td>221</td><td>Courage Under Fire (1996)</td><td>1</td><td>880143612</td></tr><tr><td>940</td><td>107</td><td>471</td><td>221</td><td>Courage Under Fire (1996)</td><td>4</td><td>885921628</td></tr><tr><td>705</td><td>114</td><td>471</td><td>221</td><td>Courage Under Fire (1996)</td><td>5</td><td>883427339</td></tr><tr><td>630</td><td>108</td><td>471</td><td>221</td><td>Courage Under Fire (1996)</td><td>4</td><td>885666955</td></tr><tr><td>548</td><td>155</td><td>471</td><td>221</td><td>Courage Under Fire (1996)</td><td>5</td><td>891415709</td></tr><tr><td>459</td><td>118</td><td>471</td><td>221</td><td>Courage Under Fire (1996)</td><td>3</td><td>879562659</td></tr><tr><td>524</td><td>306</td><td>471</td><td>221</td><td>Courage Under Fire (1996)</td><td>4</td><td>884322169</td></tr><tr><td>374</td><td>274</td><td>471</td><td>221</td><td>Courage Under Fire (1996)</td><td>4</td><td>880393056</td></tr><tr><td>119</td><td>181</td><td>471</td><td>221</td><td>Courage Under Fire (1996)</td><td>4</td><td>886177338</td></tr><tr><td>844</td><td>81</td><td>471</td><td>221</td><td>Courage Under Fire (1996)</td><td>3</td><td>877381736</td></tr><tr><td>887</td><td>171</td><td>471</td><td>221</td><td>Courage Under Fire (1996)</td><td>3</td><td>881377972</td></tr><tr><td>661</td><td>121</td><td>471</td><td>221</td><td>Courage Under Fire (1996)</td><td>4</td><td>876037167</td></tr><tr><td>360</td><td>102</td><td>471</td><td>221</td><td>Courage Under Fire (1996)</td><td>4</td><td>880355177</td></tr><tr><td>655</td><td>685</td><td>471</td><td>221</td><td>Courage Under Fire (1996)</td><td>3</td><td>887611594</td></tr><tr><td>665</td><td>142</td><td>471</td><td>221</td><td>Courage Under Fire (1996)</td><td>3</td><td>884292009</td></tr><tr><td>854</td><td>217</td><td>471</td><td>221</td><td>Courage Under Fire (1996)</td><td>2</td><td>882812928</td></tr><tr><td>26</td><td>107</td><td>471</td><td>221</td><td>Courage Under Fire (1996)</td><td>2</td><td>891371676</td></tr><tr><td>931</td><td>61</td><td>471</td><td>221</td><td>Courage Under Fire (1996)</td><td>3</td><td>891036506</td></tr><tr><td>927</td><td>120</td><td>471</td><td>221</td><td>Courage Under Fire (1996)</td><td>4</td><td>879193906</td></tr><tr><td>104</td><td>111</td><td>471</td><td>221</td><td>Courage Under Fire (1996)</td><td>3</td><td>888465290</td></tr><tr><td>328</td><td>283</td><td>471</td><td>221</td><td>Courage Under Fire (1996)</td><td>3</td><td>885048004</td></tr><tr><td>733</td><td>107</td><td>471</td><td>221</td><td>Courage Under Fire (1996)</td><td>3</td><td>879535814</td></tr><tr><td>905</td><td>40</td><td>471</td><td>221</td><td>Courage Under Fire (1996)</td><td>4</td><td>884983952</td></tr><tr><td>907</td><td>147</td><td>471</td><td>221</td><td>Courage Under Fire (1996)</td><td>5</td><td>880159059</td></tr><tr><td>537</td><td>490</td><td>471</td><td>221</td><td>Courage Under Fire (1996)</td><td>3</td><td>886030012</td></tr><tr><td>821</td><td>62</td><td>471</td><td>221</td><td>Courage Under Fire (1996)</td><td>4</td><td>874792752</td></tr><tr><td>576</td><td>36</td><td>471</td><td>221</td><td>Courage Under Fire (1996)</td><td>4</td><td>886986237</td></tr><tr><td>906</td><td>41</td><td>471</td><td>221</td><td>Courage Under Fire (1996)</td><td>3</td><td>879435415</td></tr><tr><td>728</td><td>26</td><td>471</td><td>221</td><td>Courage Under Fire (1996)</td><td>4</td><td>879443291</td></tr><tr><td>373</td><td>233</td><td>471</td><td>221</td><td>Courage Under Fire (1996)</td><td>3</td><td>877100458</td></tr><tr><td>653</td><td>283</td><td>471</td><td>221</td><td>Courage Under Fire (1996)</td><td>2</td><td>884405560</td></tr><tr><td>938</td><td>108</td><td>471</td><td>221</td><td>Courage Under Fire (1996)</td><td>3</td><td>891356413</td></tr><tr><td>479</td><td>202</td><td>471</td><td>221</td><td>Courage Under Fire (1996)</td><td>4</td><td>879460028</td></tr><tr><td>569</td><td>70</td><td>471</td><td>221</td><td>Courage Under Fire (1996)</td><td>3</td><td>879793466</td></tr><tr><td>65</td><td>80</td><td>471</td><td>221</td><td>Courage Under Fire (1996)</td><td>4</td><td>879217434</td></tr><tr><td>592</td><td>360</td><td>471</td><td>221</td><td>Courage Under Fire (1996)</td><td>4</td><td>882608234</td></tr><tr><td>540</td><td>63</td><td>471</td><td>221</td><td>Courage Under Fire (1996)</td><td>4</td><td>882157706</td></tr><tr><td>447</td><td>139</td><td>471</td><td>221</td><td>Courage Under Fire (1996)</td><td>4</td><td>878854340</td></tr><tr><td>699</td><td>149</td><td>471</td><td>221</td><td>Courage Under Fire (1996)</td><td>3</td><td>879147597</td></tr><tr><td>759</td><td>32</td><td>471</td><td>221</td><td>Courage Under Fire (1996)</td><td>4</td><td>881476969</td></tr><tr><td>889</td><td>326</td><td>471</td><td>221</td><td>Courage Under Fire (1996)</td><td>3</td><td>880176926</td></tr><tr><td>933</td><td>184</td><td>471</td><td>221</td><td>Courage Under Fire (1996)</td><td>3</td><td>874854611</td></tr><tr><td>484</td><td>139</td><td>471</td><td>221</td><td>Courage Under Fire (1996)</td><td>4</td><td>881449737</td></tr><tr><td>178</td><td>273</td><td>471</td><td>221</td><td>Courage Under Fire (1996)</td><td>4</td><td>882823930</td></tr><tr><td>896</td><td>362</td><td>471</td><td>221</td><td>Courage Under Fire (1996)</td><td>3</td><td>887159972</td></tr><tr><td>715</td><td>167</td><td>471</td><td>221</td><td>Courage Under Fire (1996)</td><td>4</td><td>875962202</td></tr><tr><td>727</td><td>322</td><td>471</td><td>221</td><td>Courage Under Fire (1996)</td><td>3</td><td>883709188</td></tr><tr><td>693</td><td>154</td><td>471</td><td>221</td><td>Courage Under Fire (1996)</td><td>3</td><td>875482653</td></tr><tr><td>535</td><td>218</td><td>471</td><td>221</td><td>Courage Under Fire (1996)</td><td>4</td><td>879618743</td></tr><tr><td>714</td><td>44</td><td>471</td><td>221</td><td>Courage Under Fire (1996)</td><td>4</td><td>892777903</td></tr><tr><td>922</td><td>127</td><td>471</td><td>221</td><td>Courage Under Fire (1996)</td><td>3</td><td>891453501</td></tr><tr><td>894</td><td>245</td><td>471</td><td>221</td><td>Courage Under Fire (1996)</td><td>4</td><td>880416314</td></tr><tr><td>658</td><td>71</td><td>471</td><td>221</td><td>Courage Under Fire (1996)</td><td>4</td><td>875145879</td></tr><tr><td>454</td><td>236</td><td>471</td><td>221</td><td>Courage Under Fire (1996)</td><td>3</td><td>881960445</td></tr><tr><td>919</td><td>217</td><td>471</td><td>221</td><td>Courage Under Fire (1996)</td><td>3</td><td>875289638</td></tr><tr><td>864</td><td>294</td><td>471</td><td>221</td><td>Courage Under Fire (1996)</td><td>5</td><td>888888862</td></tr><tr><td>870</td><td>269</td><td>471</td><td>221</td><td>Courage Under Fire (1996)</td><td>4</td><td>885071869</td></tr><tr><td>899</td><td>135</td><td>471</td><td>221</td><td>Courage Under Fire (1996)</td><td>4</td><td>884120007</td></tr><tr><td>943</td><td>168</td><td>471</td><td>221</td><td>Courage Under Fire (1996)</td><td>5</td><td>875502042</td></tr><tr><td>900</td><td>45</td><td>471</td><td>221</td><td>Courage Under Fire (1996)</td><td>2</td><td>877833259</td></tr><tr><td>649</td><td>24</td><td>471</td><td>221</td><td>Courage Under Fire (1996)</td><td>5</td><td>891440412</td></tr><tr><td>880</td><td>368</td><td>471</td><td>221</td><td>Courage Under Fire (1996)</td><td>4</td><td>880167114</td></tr><tr><td>474</td><td>327</td><td>471</td><td>221</td><td>Courage Under Fire (1996)</td><td>3</td><td>887915307</td></tr><tr><td>757</td><td>166</td><td>471</td><td>221</td><td>Courage Under Fire (1996)</td><td>4</td><td>888444738</td></tr><tr><td>893</td><td>59</td><td>471</td><td>221</td><td>Courage Under Fire (1996)</td><td>4</td><td>874828897</td></tr><tr><td>921</td><td>110</td><td>471</td><td>221</td><td>Courage Under Fire (1996)</td><td>2</td><td>879379821</td></tr><tr><td>332</td><td>183</td><td>471</td><td>221</td><td>Courage Under Fire (1996)</td><td>4</td><td>887938351</td></tr><tr><td>722</td><td>42</td><td>471</td><td>221</td><td>Courage Under Fire (1996)</td><td>4</td><td>891281020</td></tr><tr><td>768</td><td>64</td><td>471</td><td>221</td><td>Courage Under Fire (1996)</td><td>3</td><td>880135875</td></tr><tr><td>935</td><td>39</td><td>471</td><td>221</td><td>Courage Under Fire (1996)</td><td>4</td><td>884472352</td></tr><tr><td>917</td><td>35</td><td>471</td><td>221</td><td>Courage Under Fire (1996)</td><td>4</td><td>882911099</td></tr><tr><td>891</td><td>47</td><td>471</td><td>221</td><td>Courage Under Fire (1996)</td><td>5</td><td>891639941</td></tr><tr><td>130</td><td>353</td><td>471</td><td>221</td><td>Courage Under Fire (1996)</td><td>2</td><td>874953928</td></tr><tr><td>605</td><td>90</td><td>471</td><td>221</td><td>Courage Under Fire (1996)</td><td>3</td><td>879365748</td></tr><tr><td>682</td><td>399</td><td>471</td><td>221</td><td>Courage Under Fire (1996)</td><td>3</td><td>888517537</td></tr><tr><td>882</td><td>137</td><td>471</td><td>221</td><td>Courage Under Fire (1996)</td><td>4</td><td>879861562</td></tr><tr><td>788</td><td>249</td><td>471</td><td>221</td><td>Courage Under Fire (1996)</td><td>3</td><td>880869862</td></tr><tr><td>706</td><td>29</td><td>471</td><td>221</td><td>Courage Under Fire (1996)</td><td>4</td><td>880997172</td></tr><tr><td>401</td><td>153</td><td>471</td><td>221</td><td>Courage Under Fire (1996)</td><td>4</td><td>891032495</td></tr><tr><td>761</td><td>66</td><td>471</td><td>221</td><td>Courage Under Fire (1996)</td><td>3</td><td>876190336</td></tr><tr><td>627</td><td>181</td><td>471</td><td>221</td><td>Courage Under Fire (1996)</td><td>3</td><td>879530463</td></tr><tr><td>676</td><td>77</td><td>471</td><td>221</td><td>Courage Under Fire (1996)</td><td>3</td><td>892686273</td></tr><tr><td>505</td><td>112</td><td>471</td><td>221</td><td>Courage Under Fire (1996)</td><td>4</td><td>889333392</td></tr><tr><td>468</td><td>143</td><td>471</td><td>221</td><td>Courage Under Fire (1996)</td><td>3</td><td>875279269</td></tr><tr><td>593</td><td>156</td><td>471</td><td>221</td><td>Courage Under Fire (1996)</td><td>3</td><td>875659826</td></tr><tr><td>308</td><td>397</td><td>471</td><td>221</td><td>Courage Under Fire (1996)</td><td>3</td><td>887739382</td></tr><tr><td>792</td><td>47</td><td>471</td><td>221</td><td>Courage Under Fire (1996)</td><td>4</td><td>877910822</td></tr><tr><td>721</td><td>168</td><td>471</td><td>221</td><td>Courage Under Fire (1996)</td><td>5</td><td>877138200</td></tr><tr><td>815</td><td>183</td><td>471</td><td>221</td><td>Courage Under Fire (1996)</td><td>2</td><td>878692149</td></tr><tr><td>823</td><td>185</td><td>471</td><td>221</td><td>Courage Under Fire (1996)</td><td>3</td><td>878438608</td></tr><tr><td>618</td><td>216</td><td>471</td><td>221</td><td>Courage Under Fire (1996)</td><td>3</td><td>891309041</td></tr><tr><td>832</td><td>25</td><td>471</td><td>221</td><td>Courage Under Fire (1996)</td><td>4</td><td>888260089</td></tr><tr><td>606</td><td>236</td><td>471</td><td>221</td><td>Courage Under Fire (1996)</td><td>4</td><td>878146986</td></tr><tr><td>391</td><td>121</td><td>471</td><td>221</td><td>Courage Under Fire (1996)</td><td>2</td><td>877399864</td></tr><tr><td>703</td><td>47</td><td>471</td><td>221</td><td>Courage Under Fire (1996)</td><td>4</td><td>875242885</td></tr><tr><td>533</td><td>260</td><td>471</td><td>221</td><td>Courage Under Fire (1996)</td><td>4</td><td>882902330</td></tr><tr><td>718</td><td>39</td><td>471</td><td>221</td><td>Courage Under Fire (1996)</td><td>5</td><td>883348634</td></tr><tr><td>717</td><td>93</td><td>471</td><td>221</td><td>Courage Under Fire (1996)</td><td>4</td><td>884642427</td></tr><tr><td>666</td><td>245</td><td>471</td><td>221</td><td>Courage Under Fire (1996)</td><td>4</td><td>880313423</td></tr><tr><td>588</td><td>225</td><td>471</td><td>221</td><td>Courage Under Fire (1996)</td><td>5</td><td>890024289</td></tr><tr><td>164</td><td>63</td><td>471</td><td>221</td><td>Courage Under Fire (1996)</td><td>5</td><td>889402245</td></tr><tr><td>677</td><td>49</td><td>471</td><td>221</td><td>Courage Under Fire (1996)</td><td>4</td><td>889399171</td></tr><tr><td>807</td><td>204</td><td>471</td><td>221</td><td>Courage Under Fire (1996)</td><td>4</td><td>892775416</td></tr><tr><td>396</td><td>54</td><td>471</td><td>221</td><td>Courage Under Fire (1996)</td><td>4</td><td>884646263</td></tr><tr><td>57</td><td>106</td><td>471</td><td>221</td><td>Courage Under Fire (1996)</td><td>4</td><td>883697134</td></tr><tr><td>779</td><td>37</td><td>471</td><td>221</td><td>Courage Under Fire (1996)</td><td>4</td><td>875993165</td></tr><tr><td>500</td><td>225</td><td>471</td><td>221</td><td>Courage Under Fire (1996)</td><td>4</td><td>883865391</td></tr><tr><td>251</td><td>77</td><td>471</td><td>221</td><td>Courage Under Fire (1996)</td><td>3</td><td>886272319</td></tr><tr><td>158</td><td>173</td><td>471</td><td>221</td><td>Courage Under Fire (1996)</td><td>4</td><td>880132513</td></tr><tr><td>256</td><td>207</td><td>471</td><td>221</td><td>Courage Under Fire (1996)</td><td>5</td><td>882150644</td></tr><tr><td>786</td><td>117</td><td>471</td><td>221</td><td>Courage Under Fire (1996)</td><td>4</td><td>882842311</td></tr><tr><td>280</td><td>258</td><td>471</td><td>221</td><td>Courage Under Fire (1996)</td><td>3</td><td>891700553</td></tr><tr><td>434</td><td>44</td><td>471</td><td>221</td><td>Courage Under Fire (1996)</td><td>2</td><td>886724797</td></tr><tr><td>470</td><td>57</td><td>471</td><td>221</td><td>Courage Under Fire (1996)</td><td>5</td><td>879178593</td></tr><tr><td>639</td><td>148</td><td>471</td><td>221</td><td>Courage Under Fire (1996)</td><td>2</td><td>891239349</td></tr><tr><td>716</td><td>269</td><td>471</td><td>221</td><td>Courage Under Fire (1996)</td><td>2</td><td>879795375</td></tr><tr><td>689</td><td>36</td><td>471</td><td>221</td><td>Courage Under Fire (1996)</td><td>4</td><td>876676433</td></tr><tr><td>402</td><td>68</td><td>471</td><td>221</td><td>Courage Under Fire (1996)</td><td>4</td><td>876267041</td></tr><tr><td>17</td><td>28</td><td>471</td><td>221</td><td>Courage Under Fire (1996)</td><td>2</td><td>885272779</td></tr><tr><td>708</td><td>105</td><td>471</td><td>221</td><td>Courage Under Fire (1996)</td><td>4</td><td>877325455</td></tr><tr><td>648</td><td>297</td><td>471</td><td>221</td><td>Courage Under Fire (1996)</td><td>4</td><td>882211685</td></tr><tr><td>432</td><td>62</td><td>471</td><td>221</td><td>Courage Under Fire (1996)</td><td>3</td><td>889416229</td></tr><tr><td>580</td><td>47</td><td>471</td><td>221</td><td>Courage Under Fire (1996)</td><td>3</td><td>884125018</td></tr><tr><td>450</td><td>540</td><td>471</td><td>221</td><td>Courage Under Fire (1996)</td><td>4</td><td>882396153</td></tr><tr><td>663</td><td>158</td><td>471</td><td>221</td><td>Courage Under Fire (1996)</td><td>3</td><td>889492841</td></tr><tr><td>277</td><td>54</td><td>471</td><td>221</td><td>Courage Under Fire (1996)</td><td>3</td><td>879543377</td></tr><tr><td>543</td><td>197</td><td>471</td><td>221</td><td>Courage Under Fire (1996)</td><td>3</td><td>875657863</td></tr><tr><td>613</td><td>28</td><td>471</td><td>221</td><td>Courage Under Fire (1996)</td><td>3</td><td>891227410</td></tr><tr><td>389</td><td>271</td><td>471</td><td>221</td><td>Courage Under Fire (1996)</td><td>4</td><td>879916077</td></tr><tr><td>637</td><td>104</td><td>471</td><td>221</td><td>Courage Under Fire (1996)</td><td>2</td><td>882903822</td></tr><tr><td>455</td><td>189</td><td>471</td><td>221</td><td>Courage Under Fire (1996)</td><td>4</td><td>879109692</td></tr><tr><td>416</td><td>493</td><td>471</td><td>221</td><td>Courage Under Fire (1996)</td><td>5</td><td>893213645</td></tr><tr><td>413</td><td>50</td><td>471</td><td>221</td><td>Courage Under Fire (1996)</td><td>4</td><td>879969642</td></tr><tr><td>634</td><td>135</td><td>471</td><td>221</td><td>Courage Under Fire (1996)</td><td>4</td><td>875729478</td></tr><tr><td>487</td><td>231</td><td>471</td><td>221</td><td>Courage Under Fire (1996)</td><td>3</td><td>883441956</td></tr><tr><td>423</td><td>64</td><td>471</td><td>221</td><td>Courage Under Fire (1996)</td><td>3</td><td>891395626</td></tr><tr><td>72</td><td>137</td><td>471</td><td>221</td><td>Courage Under Fire (1996)</td><td>4</td><td>880035588</td></tr><tr><td>13</td><td>636</td><td>471</td><td>221</td><td>Courage Under Fire (1996)</td><td>1</td><td>882140455</td></tr><tr><td>518</td><td>73</td><td>471</td><td>221</td><td>Courage Under Fire (1996)</td><td>3</td><td>876822873</td></tr><tr><td>207</td><td>230</td><td>471</td><td>221</td><td>Courage Under Fire (1996)</td><td>3</td><td>875509715</td></tr><tr><td>231</td><td>21</td><td>471</td><td>221</td><td>Courage Under Fire (1996)</td><td>5</td><td>888605273</td></tr><tr><td>534</td><td>80</td><td>471</td><td>221</td><td>Courage Under Fire (1996)</td><td>5</td><td>877807935</td></tr><tr><td>599</td><td>47</td><td>471</td><td>221</td><td>Courage Under Fire (1996)</td><td>4</td><td>880953441</td></tr><tr><td>438</td><td>33</td><td>471</td><td>221</td><td>Courage Under Fire (1996)</td><td>4</td><td>879868184</td></tr><tr><td>624</td><td>141</td><td>471</td><td>221</td><td>Courage Under Fire (1996)</td><td>4</td><td>879792493</td></tr><tr><td>551</td><td>334</td><td>471</td><td>221</td><td>Courage Under Fire (1996)</td><td>5</td><td>892783365</td></tr><tr><td>552</td><td>84</td><td>471</td><td>221</td><td>Courage Under Fire (1996)</td><td>3</td><td>879222306</td></tr><tr><td>128</td><td>184</td><td>471</td><td>221</td><td>Courage Under Fire (1996)</td><td>4</td><td>879967804</td></tr><tr><td>347</td><td>199</td><td>471</td><td>221</td><td>Courage Under Fire (1996)</td><td>4</td><td>881652518</td></tr><tr><td>349</td><td>41</td><td>471</td><td>221</td><td>Courage Under Fire (1996)</td><td>3</td><td>879465535</td></tr><tr><td>238</td><td>29</td><td>471</td><td>221</td><td>Courage Under Fire (1996)</td><td>4</td><td>883576359</td></tr><tr><td>343</td><td>237</td><td>471</td><td>221</td><td>Courage Under Fire (1996)</td><td>4</td><td>876402941</td></tr><tr><td>399</td><td>319</td><td>471</td><td>221</td><td>Courage Under Fire (1996)</td><td>3</td><td>882340719</td></tr><tr><td>99</td><td>136</td><td>471</td><td>221</td><td>Courage Under Fire (1996)</td><td>4</td><td>885679091</td></tr><tr><td>577</td><td>188</td><td>471</td><td>221</td><td>Courage Under Fire (1996)</td><td>3</td><td>880471640</td></tr><tr><td>249</td><td>161</td><td>471</td><td>221</td><td>Courage Under Fire (1996)</td><td>4</td><td>879640241</td></tr><tr><td>42</td><td>183</td><td>471</td><td>221</td><td>Courage Under Fire (1996)</td><td>4</td><td>881105505</td></tr><tr><td>453</td><td>156</td><td>471</td><td>221</td><td>Courage Under Fire (1996)</td><td>4</td><td>888205557</td></tr><tr><td>357</td><td>76</td><td>471</td><td>221</td><td>Courage Under Fire (1996)</td><td>5</td><td>878951498</td></tr><tr><td>190</td><td>59</td><td>471</td><td>221</td><td>Courage Under Fire (1996)</td><td>5</td><td>891033632</td></tr><tr><td>337</td><td>34</td><td>471</td><td>221</td><td>Courage Under Fire (1996)</td><td>5</td><td>875235809</td></tr><tr><td>457</td><td>277</td><td>471</td><td>221</td><td>Courage Under Fire (1996)</td><td>4</td><td>882393421</td></tr><tr><td>403</td><td>50</td><td>471</td><td>221</td><td>Courage Under Fire (1996)</td><td>5</td><td>879785822</td></tr><tr><td>54</td><td>65</td><td>471</td><td>221</td><td>Courage Under Fire (1996)</td><td>4</td><td>880937399</td></tr><tr><td>52</td><td>56</td><td>471</td><td>221</td><td>Courage Under Fire (1996)</td><td>4</td><td>882922562</td></tr><tr><td>486</td><td>189</td><td>471</td><td>221</td><td>Courage Under Fire (1996)</td><td>5</td><td>879874969</td></tr><tr><td>244</td><td>238</td><td>471</td><td>221</td><td>Courage Under Fire (1996)</td><td>1</td><td>880606874</td></tr><tr><td>298</td><td>127</td><td>471</td><td>221</td><td>Courage Under Fire (1996)</td><td>4</td><td>884125847</td></tr><tr><td>181</td><td>435</td><td>471</td><td>221</td><td>Courage Under Fire (1996)</td><td>2</td><td>878962919</td></tr><tr><td>108</td><td>33</td><td>471</td><td>221</td><td>Courage Under Fire (1996)</td><td>2</td><td>879880076</td></tr><tr><td>274</td><td>71</td><td>471</td><td>221</td><td>Courage Under Fire (1996)</td><td>4</td><td>878945505</td></tr><tr><td>83</td><td>155</td><td>471</td><td>221</td><td>Courage Under Fire (1996)</td><td>3</td><td>891182000</td></tr><tr><td>43</td><td>221</td><td>471</td><td>221</td><td>Courage Under Fire (1996)</td><td>3</td><td>883955319</td></tr><tr><td>271</td><td>278</td><td>471</td><td>221</td><td>Courage Under Fire (1996)</td><td>3</td><td>885847926</td></tr><tr><td>313</td><td>262</td><td>471</td><td>221</td><td>Courage Under Fire (1996)</td><td>4</td><td>891015196</td></tr><tr><td>378</td><td>375</td><td>471</td><td>221</td><td>Courage Under Fire (1996)</td><td>3</td><td>880057018</td></tr><tr><td>297</td><td>192</td><td>471</td><td>221</td><td>Courage Under Fire (1996)</td><td>3</td><td>874954611</td></tr><tr><td>222</td><td>387</td><td>471</td><td>221</td><td>Courage Under Fire (1996)</td><td>3</td><td>881060992</td></tr><tr><td>6</td><td>211</td><td>471</td><td>221</td><td>Courage Under Fire (1996)</td><td>2</td><td>883599558</td></tr><tr><td>289</td><td>27</td><td>471</td><td>221</td><td>Courage Under Fire (1996)</td><td>4</td><td>876789373</td></tr><tr><td>115</td><td>92</td><td>471</td><td>221</td><td>Courage Under Fire (1996)</td><td>2</td><td>881170791</td></tr><tr><td>270</td><td>138</td><td>471</td><td>221</td><td>Courage Under Fire (1996)</td><td>5</td><td>876954223</td></tr><tr><td>68</td><td>34</td><td>471</td><td>221</td><td>Courage Under Fire (1996)</td><td>3</td><td>876974023</td></tr><tr><td>344</td><td>190</td><td>471</td><td>221</td><td>Courage Under Fire (1996)</td><td>3</td><td>884899719</td></tr><tr><td>345</td><td>232</td><td>471</td><td>221</td><td>Courage Under Fire (1996)</td><td>3</td><td>884991127</td></tr><tr><td>276</td><td>518</td><td>471</td><td>221</td><td>Courage Under Fire (1996)</td><td>4</td><td>874786657</td></tr><tr><td>103</td><td>29</td><td>471</td><td>221</td><td>Courage Under Fire (1996)</td><td>4</td><td>880416921</td></tr><tr><td>15</td><td>104</td><td>471</td><td>221</td><td>Courage Under Fire (1996)</td><td>4</td><td>879456084</td></tr><tr><td>159</td><td>107</td><td>471</td><td>221</td><td>Courage Under Fire (1996)</td><td>4</td><td>880485861</td></tr><tr><td>90</td><td>300</td><td>471</td><td>221</td><td>Courage Under Fire (1996)</td><td>4</td><td>891385752</td></tr><tr><td>144</td><td>206</td><td>471</td><td>221</td><td>Courage Under Fire (1996)</td><td>4</td><td>888104213</td></tr><tr><td>182</td><td>28</td><td>471</td><td>221</td><td>Courage Under Fire (1996)</td><td>4</td><td>885613216</td></tr><tr><td>393</td><td>448</td><td>471</td><td>221</td><td>Courage Under Fire (1996)</td><td>4</td><td>887744549</td></tr><tr><td>141</td><td>107</td><td>471</td><td>221</td><td>Courage Under Fire (1996)</td><td>4</td><td>884585039</td></tr><tr><td>7</td><td>403</td><td>471</td><td>221</td><td>Courage Under Fire (1996)</td><td>4</td><td>891352864</td></tr><tr><td>194</td><td>305</td><td>471</td><td>221</td><td>Courage Under Fire (1996)</td><td>3</td><td>879540807</td></tr><tr><td>66</td><td>38</td><td>471</td><td>221</td><td>Courage Under Fire (1996)</td><td>5</td><td>883601296</td></tr><tr><td>92</td><td>388</td><td>471</td><td>221</td><td>Courage Under Fire (1996)</td><td>4</td><td>875640385</td></tr><tr><td>294</td><td>150</td><td>471</td><td>221</td><td>Courage Under Fire (1996)</td><td>4</td><td>877820189</td></tr><tr><td>95</td><td>278</td><td>471</td><td>221</td><td>Courage Under Fire (1996)</td><td>5</td><td>884266051</td></tr><tr><td>145</td><td>316</td><td>471</td><td>221</td><td>Courage Under Fire (1996)</td><td>4</td><td>885622707</td></tr><tr><td>232</td><td>93</td><td>471</td><td>221</td><td>Courage Under Fire (1996)</td><td>3</td><td>880062414</td></tr><tr><td>12</td><td>51</td><td>471</td><td>221</td><td>Courage Under Fire (1996)</td><td>5</td><td>879959670</td></tr><tr><td>311</td><td>294</td><td>471</td><td>221</td><td>Courage Under Fire (1996)</td><td>4</td><td>884963254</td></tr><tr><td>234</td><td>480</td><td>471</td><td>221</td><td>Courage Under Fire (1996)</td><td>3</td><td>892335074</td></tr><tr><td>324</td><td>66</td><td>471</td><td>221</td><td>Courage Under Fire (1996)</td><td>5</td><td>880575412</td></tr><tr><td>81</td><td>58</td><td>471</td><td>221</td><td>Courage Under Fire (1996)</td><td>3</td><td>876533586</td></tr><tr><td>213</td><td>126</td><td>471</td><td>221</td><td>Courage Under Fire (1996)</td><td>3</td><td>878870816</td></tr><tr><td>174</td><td>177</td><td>471</td><td>221</td><td>Courage Under Fire (1996)</td><td>5</td><td>886433804</td></tr><tr><td>291</td><td>296</td><td>471</td><td>221</td><td>Courage Under Fire (1996)</td><td>4</td><td>874833746</td></tr><tr><td>16</td><td>140</td><td>471</td><td>221</td><td>Courage Under Fire (1996)</td><td>3</td><td>877724845</td></tr><tr><td>101</td><td>67</td><td>471</td><td>221</td><td>Courage Under Fire (1996)</td><td>3</td><td>877136535</td></tr><tr><td>265</td><td>46</td><td>471</td><td>221</td><td>Courage Under Fire (1996)</td><td>4</td><td>875320302</td></tr><tr><td>94</td><td>400</td><td>471</td><td>221</td><td>Courage Under Fire (1996)</td><td>4</td><td>891721642</td></tr><tr><td>203</td><td>43</td><td>471</td><td>221</td><td>Courage Under Fire (1996)</td><td>4</td><td>880434463</td></tr><tr><td>305</td><td>222</td><td>471</td><td>221</td><td>Courage Under Fire (1996)</td><td>4</td><td>886323648</td></tr><tr><td>293</td><td>388</td><td>471</td><td>221</td><td>Courage Under Fire (1996)</td><td>3</td><td>888904884</td></tr><tr><td>884</td><td>43</td><td>463</td><td>71</td><td>Secret of Roan Inish, The (1994)</td><td>5</td><td>876859070</td></tr><tr><td>878</td><td>134</td><td>463</td><td>71</td><td>Secret of Roan Inish, The (1994)</td><td>2</td><td>880866177</td></tr><tr><td>828</td><td>104</td><td>463</td><td>71</td><td>Secret of Roan Inish, The (1994)</td><td>2</td><td>891036717</td></tr><tr><td>861</td><td>43</td><td>463</td><td>71</td><td>Secret of Roan Inish, The (1994)</td><td>3</td><td>881274698</td></tr><tr><td>894</td><td>245</td><td>463</td><td>71</td><td>Secret of Roan Inish, The (1994)</td><td>4</td><td>882404430</td></tr><tr><td>840</td><td>197</td><td>463</td><td>71</td><td>Secret of Roan Inish, The (1994)</td><td>5</td><td>891205287</td></tr><tr><td>846</td><td>405</td><td>463</td><td>71</td><td>Secret of Roan Inish, The (1994)</td><td>5</td><td>883948222</td></tr><tr><td>877</td><td>81</td><td>463</td><td>71</td><td>Secret of Roan Inish, The (1994)</td><td>4</td><td>882677311</td></tr><tr><td>588</td><td>225</td><td>463</td><td>71</td><td>Secret of Roan Inish, The (1994)</td><td>4</td><td>890023879</td></tr><tr><td>537</td><td>490</td><td>463</td><td>71</td><td>Secret of Roan Inish, The (1994)</td><td>3</td><td>886030738</td></tr><tr><td>592</td><td>360</td><td>463</td><td>71</td><td>Secret of Roan Inish, The (1994)</td><td>4</td><td>882956321</td></tr><tr><td>106</td><td>64</td><td>463</td><td>71</td><td>Secret of Roan Inish, The (1994)</td><td>3</td><td>881453413</td></tr><tr><td>344</td><td>190</td><td>463</td><td>71</td><td>Secret of Roan Inish, The (1994)</td><td>4</td><td>884901210</td></tr><tr><td>883</td><td>268</td><td>463</td><td>71</td><td>Secret of Roan Inish, The (1994)</td><td>3</td><td>891693058</td></tr><tr><td>455</td><td>189</td><td>463</td><td>71</td><td>Secret of Roan Inish, The (1994)</td><td>4</td><td>879111737</td></tr><tr><td>239</td><td>159</td><td>463</td><td>71</td><td>Secret of Roan Inish, The (1994)</td><td>5</td><td>889178689</td></tr><tr><td>235</td><td>94</td><td>463</td><td>71</td><td>Secret of Roan Inish, The (1994)</td><td>4</td><td>889656008</td></tr><tr><td>454</td><td>236</td><td>463</td><td>71</td><td>Secret of Roan Inish, The (1994)</td><td>2</td><td>888267560</td></tr><tr><td>64</td><td>200</td><td>463</td><td>71</td><td>Secret of Roan Inish, The (1994)</td><td>4</td><td>889739212</td></tr><tr><td>543</td><td>197</td><td>463</td><td>71</td><td>Secret of Roan Inish, The (1994)</td><td>3</td><td>874864034</td></tr><tr><td>854</td><td>217</td><td>463</td><td>71</td><td>Secret of Roan Inish, The (1994)</td><td>3</td><td>882814395</td></tr><tr><td>747</td><td>293</td><td>463</td><td>71</td><td>Secret of Roan Inish, The (1994)</td><td>3</td><td>888732695</td></tr><tr><td>675</td><td>34</td><td>463</td><td>71</td><td>Secret of Roan Inish, The (1994)</td><td>5</td><td>889489003</td></tr><tr><td>899</td><td>135</td><td>463</td><td>71</td><td>Secret of Roan Inish, The (1994)</td><td>4</td><td>884121342</td></tr><tr><td>503</td><td>160</td><td>463</td><td>71</td><td>Secret of Roan Inish, The (1994)</td><td>1</td><td>880383126</td></tr><tr><td>7</td><td>403</td><td>463</td><td>71</td><td>Secret of Roan Inish, The (1994)</td><td>4</td><td>891353192</td></tr><tr><td>798</td><td>239</td><td>463</td><td>71</td><td>Secret of Roan Inish, The (1994)</td><td>3</td><td>876175467</td></tr><tr><td>393</td><td>448</td><td>463</td><td>71</td><td>Secret of Roan Inish, The (1994)</td><td>4</td><td>889555225</td></tr><tr><td>392</td><td>111</td><td>463</td><td>71</td><td>Secret of Roan Inish, The (1994)</td><td>3</td><td>891038946</td></tr><tr><td>642</td><td>318</td><td>463</td><td>71</td><td>Secret of Roan Inish, The (1994)</td><td>3</td><td>885602232</td></tr><tr><td>172</td><td>27</td><td>463</td><td>71</td><td>Secret of Roan Inish, The (1994)</td><td>4</td><td>875537502</td></tr><tr><td>25</td><td>78</td><td>463</td><td>71</td><td>Secret of Roan Inish, The (1994)</td><td>4</td><td>885852529</td></tr><tr><td>711</td><td>221</td><td>463</td><td>71</td><td>Secret of Roan Inish, The (1994)</td><td>5</td><td>879993959</td></tr><tr><td>416</td><td>493</td><td>463</td><td>71</td><td>Secret of Roan Inish, The (1994)</td><td>4</td><td>886316703</td></tr><tr><td>62</td><td>232</td><td>463</td><td>71</td><td>Secret of Roan Inish, The (1994)</td><td>4</td><td>879374916</td></tr><tr><td>629</td><td>121</td><td>463</td><td>71</td><td>Secret of Roan Inish, The (1994)</td><td>4</td><td>880117852</td></tr><tr><td>52</td><td>56</td><td>463</td><td>71</td><td>Secret of Roan Inish, The (1994)</td><td>5</td><td>882922927</td></tr><tr><td>213</td><td>126</td><td>463</td><td>71</td><td>Secret of Roan Inish, The (1994)</td><td>5</td><td>878956000</td></tr><tr><td>437</td><td>263</td><td>463</td><td>71</td><td>Secret of Roan Inish, The (1994)</td><td>5</td><td>880141008</td></tr><tr><td>151</td><td>307</td><td>463</td><td>71</td><td>Secret of Roan Inish, The (1994)</td><td>5</td><td>879525002</td></tr><tr><td>585</td><td>80</td><td>463</td><td>71</td><td>Secret of Roan Inish, The (1994)</td><td>5</td><td>891284816</td></tr><tr><td>374</td><td>274</td><td>463</td><td>71</td><td>Secret of Roan Inish, The (1994)</td><td>1</td><td>880396511</td></tr><tr><td>474</td><td>327</td><td>463</td><td>71</td><td>Secret of Roan Inish, The (1994)</td><td>5</td><td>887927457</td></tr><tr><td>293</td><td>388</td><td>463</td><td>71</td><td>Secret of Roan Inish, The (1994)</td><td>4</td><td>888906619</td></tr><tr><td>479</td><td>202</td><td>463</td><td>71</td><td>Secret of Roan Inish, The (1994)</td><td>4</td><td>879460984</td></tr><tr><td>234</td><td>480</td><td>463</td><td>71</td><td>Secret of Roan Inish, The (1994)</td><td>4</td><td>892333865</td></tr><tr><td>321</td><td>125</td><td>463</td><td>71</td><td>Secret of Roan Inish, The (1994)</td><td>3</td><td>879440393</td></tr><tr><td>506</td><td>242</td><td>463</td><td>71</td><td>Secret of Roan Inish, The (1994)</td><td>3</td><td>874873157</td></tr><tr><td>142</td><td>33</td><td>463</td><td>71</td><td>Secret of Roan Inish, The (1994)</td><td>3</td><td>888640489</td></tr><tr><td>58</td><td>154</td><td>463</td><td>71</td><td>Secret of Roan Inish, The (1994)</td><td>3</td><td>884305241</td></tr><tr><td>499</td><td>102</td><td>463</td><td>71</td><td>Secret of Roan Inish, The (1994)</td><td>5</td><td>885599498</td></tr><tr><td>380</td><td>162</td><td>463</td><td>71</td><td>Secret of Roan Inish, The (1994)</td><td>4</td><td>885479372</td></tr><tr><td>95</td><td>278</td><td>463</td><td>71</td><td>Secret of Roan Inish, The (1994)</td><td>5</td><td>880573287</td></tr><tr><td>484</td><td>139</td><td>463</td><td>71</td><td>Secret of Roan Inish, The (1994)</td><td>4</td><td>882807416</td></tr><tr><td>312</td><td>223</td><td>463</td><td>71</td><td>Secret of Roan Inish, The (1994)</td><td>5</td><td>891698696</td></tr><tr><td>13</td><td>636</td><td>463</td><td>71</td><td>Secret of Roan Inish, The (1994)</td><td>5</td><td>882140318</td></tr><tr><td>387</td><td>304</td><td>463</td><td>71</td><td>Secret of Roan Inish, The (1994)</td><td>4</td><td>886483526</td></tr><tr><td>343</td><td>237</td><td>463</td><td>71</td><td>Secret of Roan Inish, The (1994)</td><td>4</td><td>876404793</td></tr><tr><td>405</td><td>737</td><td>463</td><td>71</td><td>Secret of Roan Inish, The (1994)</td><td>1</td><td>885548836</td></tr><tr><td>316</td><td>75</td><td>463</td><td>71</td><td>Secret of Roan Inish, The (1994)</td><td>5</td><td>880854267</td></tr><tr><td>406</td><td>342</td><td>463</td><td>71</td><td>Secret of Roan Inish, The (1994)</td><td>5</td><td>879793261</td></tr><tr><td>92</td><td>388</td><td>463</td><td>71</td><td>Secret of Roan Inish, The (1994)</td><td>4</td><td>875656623</td></tr><tr><td>160</td><td>120</td><td>463</td><td>71</td><td>Secret of Roan Inish, The (1994)</td><td>4</td><td>876859777</td></tr><tr><td>308</td><td>397</td><td>463</td><td>71</td><td>Secret of Roan Inish, The (1994)</td><td>4</td><td>887738057</td></tr><tr><td>18</td><td>277</td><td>463</td><td>71</td><td>Secret of Roan Inish, The (1994)</td><td>4</td><td>880131143</td></tr><tr><td>307</td><td>112</td><td>463</td><td>71</td><td>Secret of Roan Inish, The (1994)</td><td>5</td><td>879283786</td></tr><tr><td>354</td><td>233</td><td>463</td><td>71</td><td>Secret of Roan Inish, The (1994)</td><td>4</td><td>891217575</td></tr><tr><td>276</td><td>518</td><td>463</td><td>71</td><td>Secret of Roan Inish, The (1994)</td><td>4</td><td>874792839</td></tr><tr><td>10</td><td>184</td><td>463</td><td>71</td><td>Secret of Roan Inish, The (1994)</td><td>4</td><td>877889186</td></tr><tr><td>23</td><td>151</td><td>463</td><td>71</td><td>Secret of Roan Inish, The (1994)</td><td>4</td><td>874785843</td></tr><tr><td>6</td><td>211</td><td>463</td><td>71</td><td>Secret of Roan Inish, The (1994)</td><td>4</td><td>883601713</td></tr><tr><td>916</td><td>317</td><td>148</td><td>128</td><td>Ghost and the Darkness, The (1996)</td><td>2</td><td>880843892</td></tr><tr><td>552</td><td>84</td><td>148</td><td>128</td><td>Ghost and the Darkness, The (1996)</td><td>3</td><td>879222452</td></tr><tr><td>870</td><td>269</td><td>148</td><td>128</td><td>Ghost and the Darkness, The (1996)</td><td>2</td><td>879377064</td></tr><tr><td>621</td><td>171</td><td>148</td><td>128</td><td>Ghost and the Darkness, The (1996)</td><td>4</td><td>880739654</td></tr><tr><td>788</td><td>249</td><td>148</td><td>128</td><td>Ghost and the Darkness, The (1996)</td><td>3</td><td>880869215</td></tr><tr><td>54</td><td>65</td><td>148</td><td>128</td><td>Ghost and the Darkness, The (1996)</td><td>3</td><td>880937490</td></tr><tr><td>592</td><td>360</td><td>148</td><td>128</td><td>Ghost and the Darkness, The (1996)</td><td>2</td><td>882608961</td></tr><tr><td>618</td><td>216</td><td>148</td><td>128</td><td>Ghost and the Darkness, The (1996)</td><td>3</td><td>891309670</td></tr><tr><td>722</td><td>42</td><td>148</td><td>128</td><td>Ghost and the Darkness, The (1996)</td><td>3</td><td>891281710</td></tr><tr><td>562</td><td>72</td><td>148</td><td>128</td><td>Ghost and the Darkness, The (1996)</td><td>5</td><td>879195442</td></tr><tr><td>834</td><td>54</td><td>148</td><td>128</td><td>Ghost and the Darkness, The (1996)</td><td>4</td><td>890862563</td></tr><tr><td>938</td><td>108</td><td>148</td><td>128</td><td>Ghost and the Darkness, The (1996)</td><td>3</td><td>891356500</td></tr><tr><td>932</td><td>241</td><td>148</td><td>128</td><td>Ghost and the Darkness, The (1996)</td><td>2</td><td>891252140</td></tr><tr><td>919</td><td>217</td><td>148</td><td>128</td><td>Ghost and the Darkness, The (1996)</td><td>3</td><td>875289417</td></tr><tr><td>891</td><td>47</td><td>148</td><td>128</td><td>Ghost and the Darkness, The (1996)</td><td>5</td><td>891639793</td></tr><tr><td>821</td><td>62</td><td>148</td><td>128</td><td>Ghost and the Darkness, The (1996)</td><td>3</td><td>874792650</td></tr><tr><td>627</td><td>181</td><td>148</td><td>128</td><td>Ghost and the Darkness, The (1996)</td><td>3</td><td>879530463</td></tr><tr><td>633</td><td>58</td><td>148</td><td>128</td><td>Ghost and the Darkness, The (1996)</td><td>1</td><td>875326138</td></tr><tr><td>757</td><td>166</td><td>148</td><td>128</td><td>Ghost and the Darkness, The (1996)</td><td>4</td><td>888444948</td></tr><tr><td>486</td><td>189</td><td>148</td><td>128</td><td>Ghost and the Darkness, The (1996)</td><td>2</td><td>879874903</td></tr><tr><td>733</td><td>107</td><td>148</td><td>128</td><td>Ghost and the Darkness, The (1996)</td><td>3</td><td>879536607</td></tr><tr><td>825</td><td>145</td><td>148</td><td>128</td><td>Ghost and the Darkness, The (1996)</td><td>4</td><td>880756725</td></tr><tr><td>896</td><td>362</td><td>148</td><td>128</td><td>Ghost and the Darkness, The (1996)</td><td>2</td><td>887160606</td></tr><tr><td>880</td><td>368</td><td>148</td><td>128</td><td>Ghost and the Darkness, The (1996)</td><td>2</td><td>880167030</td></tr><tr><td>894</td><td>245</td><td>148</td><td>128</td><td>Ghost and the Darkness, The (1996)</td><td>3</td><td>880416137</td></tr><tr><td>690</td><td>115</td><td>148</td><td>128</td><td>Ghost and the Darkness, The (1996)</td><td>3</td><td>881178365</td></tr><tr><td>865</td><td>66</td><td>148</td><td>128</td><td>Ghost and the Darkness, The (1996)</td><td>3</td><td>880144194</td></tr><tr><td>793</td><td>55</td><td>148</td><td>128</td><td>Ghost and the Darkness, The (1996)</td><td>4</td><td>875104498</td></tr><tr><td>297</td><td>192</td><td>148</td><td>128</td><td>Ghost and the Darkness, The (1996)</td><td>3</td><td>875239619</td></tr><tr><td>935</td><td>39</td><td>148</td><td>128</td><td>Ghost and the Darkness, The (1996)</td><td>4</td><td>884472892</td></tr><tr><td>347</td><td>199</td><td>148</td><td>128</td><td>Ghost and the Darkness, The (1996)</td><td>3</td><td>881652888</td></tr><tr><td>234</td><td>480</td><td>148</td><td>128</td><td>Ghost and the Darkness, The (1996)</td><td>3</td><td>891228196</td></tr><tr><td>717</td><td>93</td><td>148</td><td>128</td><td>Ghost and the Darkness, The (1996)</td><td>3</td><td>884642958</td></tr><tr><td>363</td><td>311</td><td>148</td><td>128</td><td>Ghost and the Darkness, The (1996)</td><td>3</td><td>891497439</td></tr><tr><td>601</td><td>148</td><td>148</td><td>128</td><td>Ghost and the Darkness, The (1996)</td><td>3</td><td>876348140</td></tr><tr><td>438</td><td>33</td><td>148</td><td>128</td><td>Ghost and the Darkness, The (1996)</td><td>5</td><td>879868443</td></tr><tr><td>706</td><td>29</td><td>148</td><td>128</td><td>Ghost and the Darkness, The (1996)</td><td>4</td><td>880997464</td></tr><tr><td>536</td><td>163</td><td>148</td><td>128</td><td>Ghost and the Darkness, The (1996)</td><td>4</td><td>882318820</td></tr><tr><td>682</td><td>399</td><td>148</td><td>128</td><td>Ghost and the Darkness, The (1996)</td><td>3</td><td>888520923</td></tr><tr><td>606</td><td>236</td><td>148</td><td>128</td><td>Ghost and the Darkness, The (1996)</td><td>3</td><td>878150506</td></tr><tr><td>534</td><td>80</td><td>148</td><td>128</td><td>Ghost and the Darkness, The (1996)</td><td>4</td><td>877808198</td></tr><tr><td>727</td><td>322</td><td>148</td><td>128</td><td>Ghost and the Darkness, The (1996)</td><td>2</td><td>883709438</td></tr><tr><td>271</td><td>278</td><td>148</td><td>128</td><td>Ghost and the Darkness, The (1996)</td><td>3</td><td>886106165</td></tr><tr><td>923</td><td>74</td><td>148</td><td>128</td><td>Ghost and the Darkness, The (1996)</td><td>4</td><td>880387474</td></tr><tr><td>930</td><td>63</td><td>148</td><td>128</td><td>Ghost and the Darkness, The (1996)</td><td>1</td><td>879534886</td></tr><tr><td>893</td><td>59</td><td>148</td><td>128</td><td>Ghost and the Darkness, The (1996)</td><td>3</td><td>874829287</td></tr><tr><td>663</td><td>158</td><td>148</td><td>128</td><td>Ghost and the Darkness, The (1996)</td><td>4</td><td>889492989</td></tr><tr><td>705</td><td>114</td><td>148</td><td>128</td><td>Ghost and the Darkness, The (1996)</td><td>5</td><td>883427134</td></tr><tr><td>430</td><td>65</td><td>148</td><td>128</td><td>Ghost and the Darkness, The (1996)</td><td>2</td><td>877226047</td></tr><tr><td>416</td><td>493</td><td>148</td><td>128</td><td>Ghost and the Darkness, The (1996)</td><td>5</td><td>893212730</td></tr><tr><td>276</td><td>518</td><td>148</td><td>128</td><td>Ghost and the Darkness, The (1996)</td><td>3</td><td>874786924</td></tr><tr><td>479</td><td>202</td><td>148</td><td>128</td><td>Ghost and the Darkness, The (1996)</td><td>2</td><td>879460354</td></tr><tr><td>391</td><td>121</td><td>148</td><td>128</td><td>Ghost and the Darkness, The (1996)</td><td>3</td><td>877400062</td></tr><tr><td>805</td><td>273</td><td>148</td><td>128</td><td>Ghost and the Darkness, The (1996)</td><td>2</td><td>881695911</td></tr><tr><td>533</td><td>260</td><td>148</td><td>128</td><td>Ghost and the Darkness, The (1996)</td><td>3</td><td>882902641</td></tr><tr><td>749</td><td>305</td><td>148</td><td>128</td><td>Ghost and the Darkness, The (1996)</td><td>3</td><td>878850212</td></tr><tr><td>708</td><td>105</td><td>148</td><td>128</td><td>Ghost and the Darkness, The (1996)</td><td>4</td><td>892719246</td></tr><tr><td>761</td><td>66</td><td>148</td><td>128</td><td>Ghost and the Darkness, The (1996)</td><td>5</td><td>876189829</td></tr><tr><td>455</td><td>189</td><td>148</td><td>128</td><td>Ghost and the Darkness, The (1996)</td><td>3</td><td>879110346</td></tr><tr><td>602</td><td>29</td><td>148</td><td>128</td><td>Ghost and the Darkness, The (1996)</td><td>4</td><td>888638517</td></tr><tr><td>457</td><td>277</td><td>148</td><td>128</td><td>Ghost and the Darkness, The (1996)</td><td>4</td><td>882395360</td></tr><tr><td>26</td><td>107</td><td>148</td><td>128</td><td>Ghost and the Darkness, The (1996)</td><td>3</td><td>891377540</td></tr><tr><td>637</td><td>104</td><td>148</td><td>128</td><td>Ghost and the Darkness, The (1996)</td><td>3</td><td>882905070</td></tr><tr><td>190</td><td>59</td><td>148</td><td>128</td><td>Ghost and the Darkness, The (1996)</td><td>4</td><td>891033742</td></tr><tr><td>642</td><td>318</td><td>148</td><td>128</td><td>Ghost and the Darkness, The (1996)</td><td>5</td><td>885604163</td></tr><tr><td>677</td><td>49</td><td>148</td><td>128</td><td>Ghost and the Darkness, The (1996)</td><td>4</td><td>889399265</td></tr><tr><td>20</td><td>48</td><td>148</td><td>128</td><td>Ghost and the Darkness, The (1996)</td><td>5</td><td>879668713</td></tr><tr><td>294</td><td>150</td><td>148</td><td>128</td><td>Ghost and the Darkness, The (1996)</td><td>3</td><td>877820155</td></tr><tr><td>532</td><td>274</td><td>148</td><td>128</td><td>Ghost and the Darkness, The (1996)</td><td>5</td><td>888817717</td></tr><tr><td>620</td><td>110</td><td>148</td><td>128</td><td>Ghost and the Darkness, The (1996)</td><td>3</td><td>889987299</td></tr><tr><td>459</td><td>118</td><td>148</td><td>128</td><td>Ghost and the Darkness, The (1996)</td><td>5</td><td>879563367</td></tr><tr><td>308</td><td>397</td><td>148</td><td>128</td><td>Ghost and the Darkness, The (1996)</td><td>3</td><td>887740788</td></tr><tr><td>580</td><td>47</td><td>148</td><td>128</td><td>Ghost and the Darkness, The (1996)</td><td>4</td><td>884125773</td></tr><tr><td>249</td><td>161</td><td>148</td><td>128</td><td>Ghost and the Darkness, The (1996)</td><td>3</td><td>879640361</td></tr><tr><td>434</td><td>44</td><td>148</td><td>128</td><td>Ghost and the Darkness, The (1996)</td><td>3</td><td>886724797</td></tr><tr><td>586</td><td>166</td><td>148</td><td>128</td><td>Ghost and the Darkness, The (1996)</td><td>3</td><td>884065745</td></tr><tr><td>435</td><td>379</td><td>148</td><td>128</td><td>Ghost and the Darkness, The (1996)</td><td>3</td><td>884133284</td></tr><tr><td>423</td><td>64</td><td>148</td><td>128</td><td>Ghost and the Darkness, The (1996)</td><td>3</td><td>891395417</td></tr><tr><td>506</td><td>242</td><td>148</td><td>128</td><td>Ghost and the Darkness, The (1996)</td><td>3</td><td>877539905</td></tr><tr><td>27</td><td>25</td><td>148</td><td>128</td><td>Ghost and the Darkness, The (1996)</td><td>3</td><td>891543129</td></tr><tr><td>406</td><td>342</td><td>148</td><td>128</td><td>Ghost and the Darkness, The (1996)</td><td>3</td><td>879540276</td></tr><tr><td>374</td><td>274</td><td>148</td><td>128</td><td>Ghost and the Darkness, The (1996)</td><td>4</td><td>880392992</td></tr><tr><td>330</td><td>147</td><td>148</td><td>128</td><td>Ghost and the Darkness, The (1996)</td><td>4</td><td>876544781</td></tr><tr><td>345</td><td>232</td><td>148</td><td>128</td><td>Ghost and the Darkness, The (1996)</td><td>3</td><td>884991303</td></tr><tr><td>403</td><td>50</td><td>148</td><td>128</td><td>Ghost and the Darkness, The (1996)</td><td>5</td><td>879786351</td></tr><tr><td>269</td><td>323</td><td>148</td><td>128</td><td>Ghost and the Darkness, The (1996)</td><td>1</td><td>891446443</td></tr><tr><td>447</td><td>139</td><td>148</td><td>128</td><td>Ghost and the Darkness, The (1996)</td><td>4</td><td>878854729</td></tr><tr><td>120</td><td>26</td><td>148</td><td>128</td><td>Ghost and the Darkness, The (1996)</td><td>3</td><td>889490499</td></tr><tr><td>393</td><td>448</td><td>148</td><td>128</td><td>Ghost and the Darkness, The (1996)</td><td>4</td><td>887744419</td></tr><tr><td>158</td><td>173</td><td>148</td><td>128</td><td>Ghost and the Darkness, The (1996)</td><td>4</td><td>880132613</td></tr><tr><td>21</td><td>179</td><td>148</td><td>128</td><td>Ghost and the Darkness, The (1996)</td><td>1</td><td>874951482</td></tr><tr><td>90</td><td>300</td><td>148</td><td>128</td><td>Ghost and the Darkness, The (1996)</td><td>2</td><td>891385787</td></tr><tr><td>92</td><td>388</td><td>148</td><td>128</td><td>Ghost and the Darkness, The (1996)</td><td>2</td><td>877383934</td></tr><tr><td>200</td><td>216</td><td>148</td><td>128</td><td>Ghost and the Darkness, The (1996)</td><td>4</td><td>876042340</td></tr><tr><td>399</td><td>319</td><td>148</td><td>128</td><td>Ghost and the Darkness, The (1996)</td><td>4</td><td>882341362</td></tr><tr><td>396</td><td>54</td><td>148</td><td>128</td><td>Ghost and the Darkness, The (1996)</td><td>4</td><td>884646436</td></tr><tr><td>372</td><td>66</td><td>148</td><td>128</td><td>Ghost and the Darkness, The (1996)</td><td>5</td><td>876869915</td></tr><tr><td>84</td><td>68</td><td>148</td><td>128</td><td>Ghost and the Darkness, The (1996)</td><td>4</td><td>883452274</td></tr><tr><td>378</td><td>375</td><td>148</td><td>128</td><td>Ghost and the Darkness, The (1996)</td><td>4</td><td>880044944</td></tr><tr><td>1</td><td>272</td><td>148</td><td>128</td><td>Ghost and the Darkness, The (1996)</td><td>2</td><td>875240799</td></tr><tr><td>44</td><td>151</td><td>148</td><td>128</td><td>Ghost and the Darkness, The (1996)</td><td>4</td><td>878346946</td></tr><tr><td>236</td><td>124</td><td>148</td><td>128</td><td>Ghost and the Darkness, The (1996)</td><td>4</td><td>890117028</td></tr><tr><td>344</td><td>190</td><td>148</td><td>128</td><td>Ghost and the Darkness, The (1996)</td><td>2</td><td>884900248</td></tr><tr><td>15</td><td>104</td><td>148</td><td>128</td><td>Ghost and the Darkness, The (1996)</td><td>3</td><td>879456049</td></tr><tr><td>328</td><td>283</td><td>148</td><td>128</td><td>Ghost and the Darkness, The (1996)</td><td>3</td><td>885048638</td></tr><tr><td>224</td><td>141</td><td>148</td><td>128</td><td>Ghost and the Darkness, The (1996)</td><td>3</td><td>888104154</td></tr><tr><td>361</td><td>121</td><td>148</td><td>128</td><td>Ghost and the Darkness, The (1996)</td><td>1</td><td>879441324</td></tr><tr><td>188</td><td>112</td><td>148</td><td>128</td><td>Ghost and the Darkness, The (1996)</td><td>4</td><td>875074667</td></tr><tr><td>181</td><td>435</td><td>148</td><td>128</td><td>Ghost and the Darkness, The (1996)</td><td>2</td><td>878963204</td></tr><tr><td>164</td><td>63</td><td>148</td><td>128</td><td>Ghost and the Darkness, The (1996)</td><td>5</td><td>889402203</td></tr><tr><td>332</td><td>183</td><td>148</td><td>128</td><td>Ghost and the Darkness, The (1996)</td><td>5</td><td>887938486</td></tr><tr><td>320</td><td>154</td><td>148</td><td>128</td><td>Ghost and the Darkness, The (1996)</td><td>4</td><td>884748708</td></tr><tr><td>130</td><td>353</td><td>148</td><td>128</td><td>Ghost and the Darkness, The (1996)</td><td>4</td><td>876251127</td></tr><tr><td>274</td><td>71</td><td>148</td><td>128</td><td>Ghost and the Darkness, The (1996)</td><td>2</td><td>878946133</td></tr><tr><td>51</td><td>23</td><td>148</td><td>128</td><td>Ghost and the Darkness, The (1996)</td><td>3</td><td>883498623</td></tr><tr><td>198</td><td>181</td><td>148</td><td>128</td><td>Ghost and the Darkness, The (1996)</td><td>3</td><td>884206401</td></tr><tr><td>270</td><td>138</td><td>148</td><td>128</td><td>Ghost and the Darkness, The (1996)</td><td>4</td><td>876954062</td></tr><tr><td>293</td><td>388</td><td>148</td><td>128</td><td>Ghost and the Darkness, The (1996)</td><td>1</td><td>888907015</td></tr><tr><td>49</td><td>215</td><td>148</td><td>128</td><td>Ghost and the Darkness, The (1996)</td><td>1</td><td>888068195</td></tr><tr><td>178</td><td>273</td><td>148</td><td>128</td><td>Ghost and the Darkness, The (1996)</td><td>4</td><td>882824325</td></tr><tr><td>313</td><td>262</td><td>148</td><td>128</td><td>Ghost and the Darkness, The (1996)</td><td>2</td><td>891031979</td></tr><tr><td>203</td><td>43</td><td>148</td><td>128</td><td>Ghost and the Darkness, The (1996)</td><td>3</td><td>880434755</td></tr><tr><td>244</td><td>238</td><td>148</td><td>128</td><td>Ghost and the Darkness, The (1996)</td><td>2</td><td>880605071</td></tr><tr><td>59</td><td>382</td><td>148</td><td>128</td><td>Ghost and the Darkness, The (1996)</td><td>3</td><td>888203175</td></tr><tr><td>251</td><td>77</td><td>148</td><td>128</td><td>Ghost and the Darkness, The (1996)</td><td>2</td><td>886272547</td></tr><tr><td>222</td><td>387</td><td>148</td><td>128</td><td>Ghost and the Darkness, The (1996)</td><td>2</td><td>881061164</td></tr><tr><td>201</td><td>386</td><td>148</td><td>128</td><td>Ghost and the Darkness, The (1996)</td><td>1</td><td>884140751</td></tr><tr><td>186</td><td>92</td><td>148</td><td>128</td><td>Ghost and the Darkness, The (1996)</td><td>4</td><td>891719774</td></tr><tr><td>662</td><td>23</td><td>1342</td><td>2</td><td>Convent, The (Convento, O) (1995)</td><td>4</td><td>880570112</td></tr><tr><td>181</td><td>435</td><td>1342</td><td>2</td><td>Convent, The (Convento, O) (1995)</td><td>1</td><td>878962168</td></tr><tr><td>624</td><td>141</td><td>833</td><td>49</td><td>Bulletproof (1996)</td><td>4</td><td>879793582</td></tr><tr><td>551</td><td>334</td><td>833</td><td>49</td><td>Bulletproof (1996)</td><td>3</td><td>892784166</td></tr><tr><td>342</td><td>201</td><td>833</td><td>49</td><td>Bulletproof (1996)</td><td>3</td><td>874984751</td></tr><tr><td>291</td><td>296</td><td>833</td><td>49</td><td>Bulletproof (1996)</td><td>3</td><td>874834236</td></tr><tr><td>663</td><td>158</td><td>833</td><td>49</td><td>Bulletproof (1996)</td><td>4</td><td>889492796</td></tr><tr><td>825</td><td>145</td><td>833</td><td>49</td><td>Bulletproof (1996)</td><td>4</td><td>881101329</td></tr><tr><td>493</td><td>135</td><td>833</td><td>49</td><td>Bulletproof (1996)</td><td>2</td><td>884131738</td></tr><tr><td>749</td><td>305</td><td>833</td><td>49</td><td>Bulletproof (1996)</td><td>2</td><td>878850565</td></tr><tr><td>889</td><td>326</td><td>833</td><td>49</td><td>Bulletproof (1996)</td><td>3</td><td>880177472</td></tr><tr><td>886</td><td>240</td><td>833</td><td>49</td><td>Bulletproof (1996)</td><td>5</td><td>876033460</td></tr><tr><td>216</td><td>131</td><td>833</td><td>49</td><td>Bulletproof (1996)</td><td>2</td><td>880233233</td></tr><tr><td>709</td><td>138</td><td>833</td><td>49</td><td>Bulletproof (1996)</td><td>4</td><td>879848792</td></tr><tr><td>606</td><td>236</td><td>833</td><td>49</td><td>Bulletproof (1996)</td><td>5</td><td>887060394</td></tr><tr><td>393</td><td>448</td><td>833</td><td>49</td><td>Bulletproof (1996)</td><td>4</td><td>887744626</td></tr><tr><td>279</td><td>434</td><td>833</td><td>49</td><td>Bulletproof (1996)</td><td>4</td><td>875297410</td></tr><tr><td>851</td><td>209</td><td>833</td><td>49</td><td>Bulletproof (1996)</td><td>3</td><td>875731105</td></tr><tr><td>75</td><td>79</td><td>833</td><td>49</td><td>Bulletproof (1996)</td><td>2</td><td>884051113</td></tr><tr><td>726</td><td>24</td><td>833</td><td>49</td><td>Bulletproof (1996)</td><td>5</td><td>889832807</td></tr><tr><td>521</td><td>150</td><td>833</td><td>49</td><td>Bulletproof (1996)</td><td>2</td><td>884476869</td></tr><tr><td>682</td><td>399</td><td>833</td><td>49</td><td>Bulletproof (1996)</td><td>1</td><td>888522260</td></tr><tr><td>697</td><td>105</td><td>833</td><td>49</td><td>Bulletproof (1996)</td><td>3</td><td>882622228</td></tr><tr><td>880</td><td>368</td><td>833</td><td>49</td><td>Bulletproof (1996)</td><td>4</td><td>880167288</td></tr><tr><td>303</td><td>484</td><td>833</td><td>49</td><td>Bulletproof (1996)</td><td>2</td><td>879484327</td></tr><tr><td>532</td><td>274</td><td>833</td><td>49</td><td>Bulletproof (1996)</td><td>4</td><td>888629804</td></tr><tr><td>37</td><td>57</td><td>833</td><td>49</td><td>Bulletproof (1996)</td><td>4</td><td>880915565</td></tr><tr><td>487</td><td>231</td><td>833</td><td>49</td><td>Bulletproof (1996)</td><td>4</td><td>888262381</td></tr><tr><td>622</td><td>228</td><td>833</td><td>49</td><td>Bulletproof (1996)</td><td>4</td><td>882590955</td></tr><tr><td>665</td><td>142</td><td>833</td><td>49</td><td>Bulletproof (1996)</td><td>3</td><td>884291210</td></tr><tr><td>332</td><td>183</td><td>833</td><td>49</td><td>Bulletproof (1996)</td><td>5</td><td>887938556</td></tr><tr><td>320</td><td>154</td><td>833</td><td>49</td><td>Bulletproof (1996)</td><td>1</td><td>884748904</td></tr><tr><td>181</td><td>435</td><td>833</td><td>49</td><td>Bulletproof (1996)</td><td>1</td><td>878963205</td></tr><tr><td>300</td><td>20</td><td>833</td><td>49</td><td>Bulletproof (1996)</td><td>4</td><td>875650329</td></tr><tr><td>637</td><td>104</td><td>833</td><td>49</td><td>Bulletproof (1996)</td><td>1</td><td>882905070</td></tr><tr><td>592</td><td>360</td><td>833</td><td>49</td><td>Bulletproof (1996)</td><td>4</td><td>882608662</td></tr><tr><td>77</td><td>72</td><td>833</td><td>49</td><td>Bulletproof (1996)</td><td>1</td><td>884733284</td></tr><tr><td>621</td><td>171</td><td>833</td><td>49</td><td>Bulletproof (1996)</td><td>3</td><td>880738462</td></tr><tr><td>429</td><td>414</td><td>833</td><td>49</td><td>Bulletproof (1996)</td><td>3</td><td>882386895</td></tr><tr><td>13</td><td>636</td><td>833</td><td>49</td><td>Bulletproof (1996)</td><td>2</td><td>882397974</td></tr><tr><td>434</td><td>44</td><td>833</td><td>49</td><td>Bulletproof (1996)</td><td>4</td><td>886724914</td></tr><tr><td>386</td><td>23</td><td>833</td><td>49</td><td>Bulletproof (1996)</td><td>3</td><td>877655195</td></tr><tr><td>57</td><td>106</td><td>833</td><td>49</td><td>Bulletproof (1996)</td><td>4</td><td>883697705</td></tr><tr><td>244</td><td>238</td><td>833</td><td>49</td><td>Bulletproof (1996)</td><td>3</td><td>880607878</td></tr><tr><td>416</td><td>493</td><td>833</td><td>49</td><td>Bulletproof (1996)</td><td>3</td><td>888700719</td></tr><tr><td>222</td><td>387</td><td>833</td><td>49</td><td>Bulletproof (1996)</td><td>2</td><td>877563913</td></tr><tr><td>67</td><td>30</td><td>833</td><td>49</td><td>Bulletproof (1996)</td><td>4</td><td>875379794</td></tr><tr><td>255</td><td>83</td><td>833</td><td>49</td><td>Bulletproof (1996)</td><td>4</td><td>883216902</td></tr><tr><td>130</td><td>353</td><td>833</td><td>49</td><td>Bulletproof (1996)</td><td>4</td><td>876251037</td></tr><tr><td>357</td><td>76</td><td>833</td><td>49</td><td>Bulletproof (1996)</td><td>4</td><td>878952341</td></tr><tr><td>314</td><td>245</td><td>833</td><td>49</td><td>Bulletproof (1996)</td><td>4</td><td>877887155</td></tr><tr><td>715</td><td>167</td><td>1088</td><td>13</td><td>Double Team (1997)</td><td>1</td><td>875962454</td></tr><tr><td>782</td><td>232</td><td>1088</td><td>13</td><td>Double Team (1997)</td><td>2</td><td>891499611</td></tr><tr><td>758</td><td>357</td><td>1088</td><td>13</td><td>Double Team (1997)</td><td>3</td><td>880672830</td></tr><tr><td>493</td><td>135</td><td>1088</td><td>13</td><td>Double Team (1997)</td><td>2</td><td>884131777</td></tr><tr><td>749</td><td>305</td><td>1088</td><td>13</td><td>Double Team (1997)</td><td>2</td><td>881602596</td></tr><tr><td>279</td><td>434</td><td>1088</td><td>13</td><td>Double Team (1997)</td><td>4</td><td>877756804</td></tr><tr><td>727</td><td>322</td><td>1088</td><td>13</td><td>Double Team (1997)</td><td>2</td><td>883709884</td></tr><tr><td>223</td><td>105</td><td>1088</td><td>13</td><td>Double Team (1997)</td><td>4</td><td>891550326</td></tr><tr><td>130</td><td>353</td><td>1088</td><td>13</td><td>Double Team (1997)</td><td>2</td><td>876250805</td></tr><tr><td>294</td><td>150</td><td>1088</td><td>13</td><td>Double Team (1997)</td><td>1</td><td>889243393</td></tr><tr><td>54</td><td>65</td><td>1088</td><td>13</td><td>Double Team (1997)</td><td>3</td><td>880937311</td></tr><tr><td>303</td><td>484</td><td>1088</td><td>13</td><td>Double Team (1997)</td><td>2</td><td>879544946</td></tr><tr><td>347</td><td>199</td><td>1088</td><td>13</td><td>Double Team (1997)</td><td>1</td><td>881653224</td></tr><tr><td>724</td><td>85</td><td>1591</td><td>6</td><td>Duoluo tianshi (1995)</td><td>1</td><td>883757468</td></tr><tr><td>405</td><td>737</td><td>1591</td><td>6</td><td>Duoluo tianshi (1995)</td><td>1</td><td>885549943</td></tr><tr><td>883</td><td>268</td><td>1591</td><td>6</td><td>Duoluo tianshi (1995)</td><td>3</td><td>891695570</td></tr><tr><td>519</td><td>49</td><td>1591</td><td>6</td><td>Duoluo tianshi (1995)</td><td>5</td><td>883250102</td></tr><tr><td>440</td><td>51</td><td>1591</td><td>6</td><td>Duoluo tianshi (1995)</td><td>5</td><td>891548567</td></tr><tr><td>445</td><td>135</td><td>1591</td><td>6</td><td>Duoluo tianshi (1995)</td><td>4</td><td>891199360</td></tr><tr><td>655</td><td>685</td><td>1238</td><td>8</td><td>Full Speed (1996)</td><td>2</td><td>888474843</td></tr><tr><td>845</td><td>31</td><td>1238</td><td>8</td><td>Full Speed (1996)</td><td>2</td><td>885409374</td></tr><tr><td>512</td><td>21</td><td>1238</td><td>8</td><td>Full Speed (1996)</td><td>4</td><td>888578602</td></tr><tr><td>519</td><td>49</td><td>1238</td><td>8</td><td>Full Speed (1996)</td><td>5</td><td>883248595</td></tr><tr><td>423</td><td>64</td><td>1238</td><td>8</td><td>Full Speed (1996)</td><td>3</td><td>891394874</td></tr><tr><td>404</td><td>44</td><td>1238</td><td>8</td><td>Full Speed (1996)</td><td>3</td><td>883790181</td></tr><tr><td>489</td><td>109</td><td>1238</td><td>8</td><td>Full Speed (1996)</td><td>4</td><td>891445352</td></tr><tr><td>100</td><td>59</td><td>1238</td><td>8</td><td>Full Speed (1996)</td><td>2</td><td>891375068</td></tr><tr><td>405</td><td>737</td><td>1580</td><td>1</td><td>Liebelei (1933)</td><td>1</td><td>885549543</td></tr><tr><td>655</td><td>685</td><td>1645</td><td>1</td><td>Butcher Boy, The (1998)</td><td>4</td><td>892871225</td></tr><tr><td>727</td><td>322</td><td>392</td><td>68</td><td>Man Without a Face, The (1993)</td><td>4</td><td>883711847</td></tr><tr><td>311</td><td>294</td><td>392</td><td>68</td><td>Man Without a Face, The (1993)</td><td>5</td><td>884366067</td></tr><tr><td>65</td><td>80</td><td>392</td><td>68</td><td>Man Without a Face, The (1993)</td><td>5</td><td>879217689</td></tr><tr><td>846</td><td>405</td><td>392</td><td>68</td><td>Man Without a Face, The (1993)</td><td>2</td><td>883950185</td></tr><tr><td>59</td><td>382</td><td>392</td><td>68</td><td>Man Without a Face, The (1993)</td><td>2</td><td>888206562</td></tr><tr><td>896</td><td>362</td><td>392</td><td>68</td><td>Man Without a Face, The (1993)</td><td>3</td><td>887160187</td></tr><tr><td>416</td><td>493</td><td>392</td><td>68</td><td>Man Without a Face, The (1993)</td><td>5</td><td>893213444</td></tr><tr><td>815</td><td>183</td><td>392</td><td>68</td><td>Man Without a Face, The (1993)</td><td>4</td><td>878697163</td></tr><tr><td>921</td><td>110</td><td>392</td><td>68</td><td>Man Without a Face, The (1993)</td><td>4</td><td>884673868</td></tr><tr><td>95</td><td>278</td><td>392</td><td>68</td><td>Man Without a Face, The (1993)</td><td>3</td><td>880571428</td></tr><tr><td>843</td><td>204</td><td>392</td><td>68</td><td>Man Without a Face, The (1993)</td><td>2</td><td>879447377</td></tr><tr><td>393</td><td>448</td><td>392</td><td>68</td><td>Man Without a Face, The (1993)</td><td>4</td><td>889555225</td></tr><tr><td>933</td><td>184</td><td>392</td><td>68</td><td>Man Without a Face, The (1993)</td><td>3</td><td>874854652</td></tr><tr><td>881</td><td>259</td><td>392</td><td>68</td><td>Man Without a Face, The (1993)</td><td>5</td><td>876538155</td></tr><tr><td>629</td><td>121</td><td>392</td><td>68</td><td>Man Without a Face, The (1993)</td><td>4</td><td>880117747</td></tr><tr><td>308</td><td>397</td><td>392</td><td>68</td><td>Man Without a Face, The (1993)</td><td>4</td><td>887740367</td></tr><tr><td>763</td><td>129</td><td>392</td><td>68</td><td>Man Without a Face, The (1993)</td><td>4</td><td>878919055</td></tr><tr><td>450</td><td>540</td><td>392</td><td>68</td><td>Man Without a Face, The (1993)</td><td>4</td><td>887660762</td></tr><tr><td>880</td><td>368</td><td>392</td><td>68</td><td>Man Without a Face, The (1993)</td><td>3</td><td>880242475</td></tr><tr><td>280</td><td>258</td><td>392</td><td>68</td><td>Man Without a Face, The (1993)</td><td>5</td><td>891701328</td></tr><tr><td>405</td><td>737</td><td>392</td><td>68</td><td>Man Without a Face, The (1993)</td><td>5</td><td>885545487</td></tr><tr><td>747</td><td>293</td><td>392</td><td>68</td><td>Man Without a Face, The (1993)</td><td>3</td><td>888734178</td></tr><tr><td>487</td><td>231</td><td>392</td><td>68</td><td>Man Without a Face, The (1993)</td><td>4</td><td>883529363</td></tr><tr><td>337</td><td>34</td><td>392</td><td>68</td><td>Man Without a Face, The (1993)</td><td>5</td><td>875236512</td></tr><tr><td>18</td><td>277</td><td>392</td><td>68</td><td>Man Without a Face, The (1993)</td><td>3</td><td>880130193</td></tr><tr><td>378</td><td>375</td><td>392</td><td>68</td><td>Man Without a Face, The (1993)</td><td>3</td><td>880055636</td></tr><tr><td>276</td><td>518</td><td>392</td><td>68</td><td>Man Without a Face, The (1993)</td><td>3</td><td>874790996</td></tr><tr><td>716</td><td>269</td><td>392</td><td>68</td><td>Man Without a Face, The (1993)</td><td>2</td><td>879796895</td></tr><tr><td>128</td><td>184</td><td>392</td><td>68</td><td>Man Without a Face, The (1993)</td><td>3</td><td>879967102</td></tr><tr><td>504</td><td>251</td><td>392</td><td>68</td><td>Man Without a Face, The (1993)</td><td>5</td><td>887908645</td></tr><tr><td>642</td><td>318</td><td>392</td><td>68</td><td>Man Without a Face, The (1993)</td><td>4</td><td>886132237</td></tr><tr><td>719</td><td>67</td><td>392</td><td>68</td><td>Man Without a Face, The (1993)</td><td>4</td><td>879360846</td></tr><tr><td>537</td><td>490</td><td>392</td><td>68</td><td>Man Without a Face, The (1993)</td><td>2</td><td>886032245</td></tr><tr><td>472</td><td>263</td><td>392</td><td>68</td><td>Man Without a Face, The (1993)</td><td>4</td><td>875981503</td></tr><tr><td>454</td><td>236</td><td>392</td><td>68</td><td>Man Without a Face, The (1993)</td><td>2</td><td>888266991</td></tr><tr><td>712</td><td>162</td><td>392</td><td>68</td><td>Man Without a Face, The (1993)</td><td>5</td><td>874729996</td></tr><tr><td>130</td><td>353</td><td>392</td><td>68</td><td>Man Without a Face, The (1993)</td><td>4</td><td>876252243</td></tr><tr><td>484</td><td>139</td><td>392</td><td>68</td><td>Man Without a Face, The (1993)</td><td>4</td><td>891194932</td></tr><tr><td>660</td><td>224</td><td>392</td><td>68</td><td>Man Without a Face, The (1993)</td><td>2</td><td>891200072</td></tr><tr><td>210</td><td>132</td><td>392</td><td>68</td><td>Man Without a Face, The (1993)</td><td>3</td><td>887736017</td></tr><tr><td>618</td><td>216</td><td>392</td><td>68</td><td>Man Without a Face, The (1993)</td><td>3</td><td>891308979</td></tr><tr><td>566</td><td>149</td><td>392</td><td>68</td><td>Man Without a Face, The (1993)</td><td>4</td><td>881650519</td></tr><tr><td>435</td><td>379</td><td>392</td><td>68</td><td>Man Without a Face, The (1993)</td><td>3</td><td>884131404</td></tr><tr><td>521</td><td>150</td><td>392</td><td>68</td><td>Man Without a Face, The (1993)</td><td>3</td><td>886063254</td></tr><tr><td>222</td><td>387</td><td>392</td><td>68</td><td>Man Without a Face, The (1993)</td><td>4</td><td>881059920</td></tr><tr><td>514</td><td>194</td><td>392</td><td>68</td><td>Man Without a Face, The (1993)</td><td>4</td><td>875463351</td></tr><tr><td>593</td><td>156</td><td>392</td><td>68</td><td>Man Without a Face, The (1993)</td><td>3</td><td>886193788</td></tr><tr><td>478</td><td>113</td><td>392</td><td>68</td><td>Man Without a Face, The (1993)</td><td>2</td><td>889398571</td></tr><tr><td>94</td><td>400</td><td>392</td><td>68</td><td>Man Without a Face, The (1993)</td><td>3</td><td>891722646</td></tr><tr><td>495</td><td>213</td><td>392</td><td>68</td><td>Man Without a Face, The (1993)</td><td>5</td><td>888635455</td></tr><tr><td>200</td><td>216</td><td>392</td><td>68</td><td>Man Without a Face, The (1993)</td><td>5</td><td>884128858</td></tr><tr><td>429</td><td>414</td><td>392</td><td>68</td><td>Man Without a Face, The (1993)</td><td>3</td><td>882386051</td></tr><tr><td>5</td><td>175</td><td>392</td><td>68</td><td>Man Without a Face, The (1993)</td><td>2</td><td>875637330</td></tr><tr><td>436</td><td>145</td><td>392</td><td>68</td><td>Man Without a Face, The (1993)</td><td>4</td><td>887769079</td></tr><tr><td>12</td><td>51</td><td>392</td><td>68</td><td>Man Without a Face, The (1993)</td><td>4</td><td>879959025</td></tr><tr><td>373</td><td>233</td><td>392</td><td>68</td><td>Man Without a Face, The (1993)</td><td>4</td><td>877100061</td></tr><tr><td>271</td><td>278</td><td>392</td><td>68</td><td>Man Without a Face, The (1993)</td><td>3</td><td>885848343</td></tr><tr><td>417</td><td>365</td><td>392</td><td>68</td><td>Man Without a Face, The (1993)</td><td>3</td><td>880950280</td></tr><tr><td>347</td><td>199</td><td>392</td><td>68</td><td>Man Without a Face, The (1993)</td><td>2</td><td>881654592</td></tr><tr><td>56</td><td>187</td><td>392</td><td>68</td><td>Man Without a Face, The (1993)</td><td>4</td><td>892678893</td></tr><tr><td>188</td><td>112</td><td>392</td><td>68</td><td>Man Without a Face, The (1993)</td><td>5</td><td>875073408</td></tr><tr><td>224</td><td>141</td><td>392</td><td>68</td><td>Man Without a Face, The (1993)</td><td>4</td><td>888104154</td></tr><tr><td>109</td><td>234</td><td>392</td><td>68</td><td>Man Without a Face, The (1993)</td><td>3</td><td>880579237</td></tr><tr><td>346</td><td>193</td><td>392</td><td>68</td><td>Man Without a Face, The (1993)</td><td>3</td><td>875266064</td></tr><tr><td>38</td><td>121</td><td>392</td><td>68</td><td>Man Without a Face, The (1993)</td><td>5</td><td>892430120</td></tr><tr><td>167</td><td>69</td><td>392</td><td>68</td><td>Man Without a Face, The (1993)</td><td>1</td><td>892738307</td></tr><tr><td>64</td><td>200</td><td>392</td><td>68</td><td>Man Without a Face, The (1993)</td><td>3</td><td>889737542</td></tr><tr><td>119</td><td>181</td><td>392</td><td>68</td><td>Man Without a Face, The (1993)</td><td>4</td><td>886176814</td></tr><tr><td>778</td><td>65</td><td>623</td><td>39</td><td>Angels in the Outfield (1994)</td><td>1</td><td>890804625</td></tr><tr><td>95</td><td>278</td><td>623</td><td>39</td><td>Angels in the Outfield (1994)</td><td>3</td><td>880572388</td></tr><tr><td>234</td><td>480</td><td>623</td><td>39</td><td>Angels in the Outfield (1994)</td><td>2</td><td>892318107</td></tr><tr><td>880</td><td>368</td><td>623</td><td>39</td><td>Angels in the Outfield (1994)</td><td>4</td><td>880243069</td></tr><tr><td>846</td><td>405</td><td>623</td><td>39</td><td>Angels in the Outfield (1994)</td><td>1</td><td>883950889</td></tr><tr><td>788</td><td>249</td><td>623</td><td>39</td><td>Angels in the Outfield (1994)</td><td>3</td><td>880870936</td></tr><tr><td>541</td><td>133</td><td>623</td><td>39</td><td>Angels in the Outfield (1994)</td><td>3</td><td>883874778</td></tr><tr><td>927</td><td>120</td><td>623</td><td>39</td><td>Angels in the Outfield (1994)</td><td>3</td><td>879199110</td></tr><tr><td>886</td><td>240</td><td>623</td><td>39</td><td>Angels in the Outfield (1994)</td><td>1</td><td>876033069</td></tr><tr><td>796</td><td>358</td><td>623</td><td>39</td><td>Angels in the Outfield (1994)</td><td>3</td><td>893219122</td></tr><tr><td>798</td><td>239</td><td>623</td><td>39</td><td>Angels in the Outfield (1994)</td><td>3</td><td>876175980</td></tr><tr><td>901</td><td>124</td><td>623</td><td>39</td><td>Angels in the Outfield (1994)</td><td>4</td><td>877131793</td></tr><tr><td>864</td><td>294</td><td>623</td><td>39</td><td>Angels in the Outfield (1994)</td><td>3</td><td>888889035</td></tr><tr><td>705</td><td>114</td><td>623</td><td>39</td><td>Angels in the Outfield (1994)</td><td>5</td><td>883427778</td></tr><tr><td>620</td><td>110</td><td>623</td><td>39</td><td>Angels in the Outfield (1994)</td><td>4</td><td>889988232</td></tr><tr><td>712</td><td>162</td><td>623</td><td>39</td><td>Angels in the Outfield (1994)</td><td>4</td><td>874729778</td></tr><tr><td>378</td><td>375</td><td>623</td><td>39</td><td>Angels in the Outfield (1994)</td><td>3</td><td>880333168</td></tr><tr><td>815</td><td>183</td><td>623</td><td>39</td><td>Angels in the Outfield (1994)</td><td>3</td><td>878697043</td></tr><tr><td>393</td><td>448</td><td>623</td><td>39</td><td>Angels in the Outfield (1994)</td><td>3</td><td>889731562</td></tr><tr><td>311</td><td>294</td><td>623</td><td>39</td><td>Angels in the Outfield (1994)</td><td>2</td><td>884366112</td></tr><tr><td>174</td><td>177</td><td>623</td><td>39</td><td>Angels in the Outfield (1994)</td><td>3</td><td>886515532</td></tr><tr><td>682</td><td>399</td><td>623</td><td>39</td><td>Angels in the Outfield (1994)</td><td>3</td><td>888523288</td></tr><tr><td>457</td><td>277</td><td>623</td><td>39</td><td>Angels in the Outfield (1994)</td><td>3</td><td>882550065</td></tr><tr><td>642</td><td>318</td><td>623</td><td>39</td><td>Angels in the Outfield (1994)</td><td>4</td><td>886570010</td></tr><tr><td>588</td><td>225</td><td>623</td><td>39</td><td>Angels in the Outfield (1994)</td><td>3</td><td>890026939</td></tr><tr><td>577</td><td>188</td><td>623</td><td>39</td><td>Angels in the Outfield (1994)</td><td>5</td><td>880475149</td></tr><tr><td>601</td><td>148</td><td>623</td><td>39</td><td>Angels in the Outfield (1994)</td><td>1</td><td>876349897</td></tr><tr><td>233</td><td>110</td><td>623</td><td>39</td><td>Angels in the Outfield (1994)</td><td>3</td><td>876374602</td></tr><tr><td>504</td><td>251</td><td>623</td><td>39</td><td>Angels in the Outfield (1994)</td><td>3</td><td>887910433</td></tr><tr><td>505</td><td>112</td><td>623</td><td>39</td><td>Angels in the Outfield (1994)</td><td>3</td><td>889333365</td></tr><tr><td>222</td><td>387</td><td>623</td><td>39</td><td>Angels in the Outfield (1994)</td><td>2</td><td>878183985</td></tr><tr><td>405</td><td>737</td><td>623</td><td>39</td><td>Angels in the Outfield (1994)</td><td>1</td><td>885549004</td></tr><tr><td>328</td><td>283</td><td>623</td><td>39</td><td>Angels in the Outfield (1994)</td><td>3</td><td>885048801</td></tr><tr><td>194</td><td>305</td><td>623</td><td>39</td><td>Angels in the Outfield (1994)</td><td>1</td><td>879551637</td></tr><tr><td>221</td><td>146</td><td>623</td><td>39</td><td>Angels in the Outfield (1994)</td><td>3</td><td>875245618</td></tr><tr><td>56</td><td>187</td><td>623</td><td>39</td><td>Angels in the Outfield (1994)</td><td>3</td><td>892910268</td></tr><tr><td>314</td><td>245</td><td>623</td><td>39</td><td>Angels in the Outfield (1994)</td><td>5</td><td>877890927</td></tr><tr><td>7</td><td>403</td><td>623</td><td>39</td><td>Angels in the Outfield (1994)</td><td>3</td><td>891354217</td></tr><tr><td>83</td><td>155</td><td>623</td><td>39</td><td>Angels in the Outfield (1994)</td><td>4</td><td>880308578</td></tr><tr><td>833</td><td>267</td><td>540</td><td>43</td><td>Money Train (1995)</td><td>1</td><td>875224687</td></tr><tr><td>889</td><td>326</td><td>540</td><td>43</td><td>Money Train (1995)</td><td>2</td><td>880182317</td></tr><tr><td>682</td><td>399</td><td>540</td><td>43</td><td>Money Train (1995)</td><td>2</td><td>888521291</td></tr><tr><td>709</td><td>138</td><td>540</td><td>43</td><td>Money Train (1995)</td><td>3</td><td>879848744</td></tr><tr><td>429</td><td>414</td><td>540</td><td>43</td><td>Money Train (1995)</td><td>3</td><td>882386916</td></tr><tr><td>826</td><td>115</td><td>540</td><td>43</td><td>Money Train (1995)</td><td>3</td><td>885690854</td></tr><tr><td>749</td><td>305</td><td>540</td><td>43</td><td>Money Train (1995)</td><td>3</td><td>878850388</td></tr><tr><td>640</td><td>109</td><td>540</td><td>43</td><td>Money Train (1995)</td><td>3</td><td>874778479</td></tr><tr><td>314</td><td>245</td><td>540</td><td>43</td><td>Money Train (1995)</td><td>3</td><td>877890407</td></tr><tr><td>399</td><td>319</td><td>540</td><td>43</td><td>Money Train (1995)</td><td>2</td><td>882348722</td></tr><tr><td>758</td><td>357</td><td>540</td><td>43</td><td>Money Train (1995)</td><td>3</td><td>882054637</td></tr><tr><td>276</td><td>518</td><td>540</td><td>43</td><td>Money Train (1995)</td><td>1</td><td>874792519</td></tr><tr><td>846</td><td>405</td><td>540</td><td>43</td><td>Money Train (1995)</td><td>2</td><td>883950711</td></tr><tr><td>425</td><td>204</td><td>540</td><td>43</td><td>Money Train (1995)</td><td>2</td><td>878738486</td></tr><tr><td>621</td><td>171</td><td>540</td><td>43</td><td>Money Train (1995)</td><td>3</td><td>874964657</td></tr><tr><td>788</td><td>249</td><td>540</td><td>43</td><td>Money Train (1995)</td><td>3</td><td>880871394</td></tr><tr><td>194</td><td>305</td><td>540</td><td>43</td><td>Money Train (1995)</td><td>1</td><td>879554950</td></tr><tr><td>796</td><td>358</td><td>540</td><td>43</td><td>Money Train (1995)</td><td>2</td><td>893048672</td></tr><tr><td>318</td><td>174</td><td>540</td><td>43</td><td>Money Train (1995)</td><td>4</td><td>884498141</td></tr><tr><td>472</td><td>263</td><td>540</td><td>43</td><td>Money Train (1995)</td><td>3</td><td>875982239</td></tr><tr><td>7</td><td>403</td><td>540</td><td>43</td><td>Money Train (1995)</td><td>3</td><td>892132972</td></tr><tr><td>600</td><td>89</td><td>540</td><td>43</td><td>Money Train (1995)</td><td>3</td><td>888453083</td></tr><tr><td>457</td><td>277</td><td>540</td><td>43</td><td>Money Train (1995)</td><td>3</td><td>882551740</td></tr><tr><td>394</td><td>149</td><td>540</td><td>43</td><td>Money Train (1995)</td><td>4</td><td>881058330</td></tr><tr><td>186</td><td>92</td><td>540</td><td>43</td><td>Money Train (1995)</td><td>4</td><td>879024014</td></tr><tr><td>487</td><td>231</td><td>540</td><td>43</td><td>Money Train (1995)</td><td>2</td><td>884050192</td></tr><tr><td>328</td><td>283</td><td>540</td><td>43</td><td>Money Train (1995)</td><td>3</td><td>885048730</td></tr><tr><td>303</td><td>484</td><td>540</td><td>43</td><td>Money Train (1995)</td><td>1</td><td>879543679</td></tr><tr><td>497</td><td>279</td><td>540</td><td>43</td><td>Money Train (1995)</td><td>2</td><td>879311007</td></tr><tr><td>393</td><td>448</td><td>540</td><td>43</td><td>Money Train (1995)</td><td>3</td><td>889731753</td></tr><tr><td>222</td><td>387</td><td>540</td><td>43</td><td>Money Train (1995)</td><td>3</td><td>878184087</td></tr><tr><td>291</td><td>296</td><td>540</td><td>43</td><td>Money Train (1995)</td><td>3</td><td>874835141</td></tr><tr><td>178</td><td>273</td><td>540</td><td>43</td><td>Money Train (1995)</td><td>3</td><td>886678484</td></tr><tr><td>405</td><td>737</td><td>540</td><td>43</td><td>Money Train (1995)</td><td>1</td><td>885548163</td></tr><tr><td>374</td><td>274</td><td>540</td><td>43</td><td>Money Train (1995)</td><td>3</td><td>880939304</td></tr><tr><td>207</td><td>230</td><td>540</td><td>43</td><td>Money Train (1995)</td><td>3</td><td>880161839</td></tr><tr><td>13</td><td>636</td><td>540</td><td>43</td><td>Money Train (1995)</td><td>3</td><td>882398410</td></tr><tr><td>110</td><td>133</td><td>540</td><td>43</td><td>Money Train (1995)</td><td>3</td><td>886988793</td></tr><tr><td>217</td><td>76</td><td>540</td><td>43</td><td>Money Train (1995)</td><td>1</td><td>889070087</td></tr><tr><td>268</td><td>328</td><td>540</td><td>43</td><td>Money Train (1995)</td><td>1</td><td>875542174</td></tr><tr><td>92</td><td>388</td><td>540</td><td>43</td><td>Money Train (1995)</td><td>2</td><td>875813197</td></tr><tr><td>37</td><td>57</td><td>540</td><td>43</td><td>Money Train (1995)</td><td>2</td><td>880916070</td></tr><tr><td>280</td><td>258</td><td>540</td><td>43</td><td>Money Train (1995)</td><td>3</td><td>891702304</td></tr><tr><td>21</td><td>179</td><td>858</td><td>3</td><td>Amityville: Dollhouse (1996)</td><td>1</td><td>874951858</td></tr><tr><td>405</td><td>737</td><td>858</td><td>3</td><td>Amityville: Dollhouse (1996)</td><td>1</td><td>885548435</td></tr><tr><td>13</td><td>636</td><td>858</td><td>3</td><td>Amityville: Dollhouse (1996)</td><td>1</td><td>882397068</td></tr><tr><td>916</td><td>317</td><td>737</td><td>59</td><td>Sirens (1994)</td><td>3</td><td>880845328</td></tr><tr><td>763</td><td>129</td><td>737</td><td>59</td><td>Sirens (1994)</td><td>2</td><td>878919055</td></tr><tr><td>828</td><td>104</td><td>737</td><td>59</td><td>Sirens (1994)</td><td>1</td><td>891037948</td></tr><tr><td>889</td><td>326</td><td>737</td><td>59</td><td>Sirens (1994)</td><td>3</td><td>880181515</td></tr><tr><td>861</td><td>43</td><td>737</td><td>59</td><td>Sirens (1994)</td><td>3</td><td>881274883</td></tr><tr><td>846</td><td>405</td><td>737</td><td>59</td><td>Sirens (1994)</td><td>4</td><td>883949771</td></tr><tr><td>201</td><td>386</td><td>737</td><td>59</td><td>Sirens (1994)</td><td>2</td><td>884112077</td></tr><tr><td>561</td><td>357</td><td>737</td><td>59</td><td>Sirens (1994)</td><td>3</td><td>885810706</td></tr><tr><td>804</td><td>332</td><td>737</td><td>59</td><td>Sirens (1994)</td><td>3</td><td>879444781</td></tr><tr><td>429</td><td>414</td><td>737</td><td>59</td><td>Sirens (1994)</td><td>4</td><td>882387505</td></tr><tr><td>407</td><td>226</td><td>737</td><td>59</td><td>Sirens (1994)</td><td>4</td><td>875117053</td></tr><tr><td>221</td><td>146</td><td>737</td><td>59</td><td>Sirens (1994)</td><td>4</td><td>875393346</td></tr><tr><td>94</td><td>400</td><td>737</td><td>59</td><td>Sirens (1994)</td><td>4</td><td>891723459</td></tr><tr><td>758</td><td>357</td><td>737</td><td>59</td><td>Sirens (1994)</td><td>3</td><td>881978864</td></tr><tr><td>773</td><td>161</td><td>737</td><td>59</td><td>Sirens (1994)</td><td>3</td><td>888539064</td></tr><tr><td>877</td><td>81</td><td>737</td><td>59</td><td>Sirens (1994)</td><td>1</td><td>882677749</td></tr><tr><td>405</td><td>737</td><td>737</td><td>59</td><td>Sirens (1994)</td><td>1</td><td>885546487</td></tr><tr><td>363</td><td>311</td><td>737</td><td>59</td><td>Sirens (1994)</td><td>1</td><td>891497174</td></tr><tr><td>918</td><td>103</td><td>737</td><td>59</td><td>Sirens (1994)</td><td>3</td><td>891988123</td></tr><tr><td>890</td><td>119</td><td>737</td><td>59</td><td>Sirens (1994)</td><td>3</td><td>882917152</td></tr><tr><td>11</td><td>181</td><td>737</td><td>59</td><td>Sirens (1994)</td><td>4</td><td>891904789</td></tr><tr><td>447</td><td>139</td><td>737</td><td>59</td><td>Sirens (1994)</td><td>4</td><td>878855907</td></tr><tr><td>474</td><td>327</td><td>737</td><td>59</td><td>Sirens (1994)</td><td>4</td><td>887926633</td></tr><tr><td>862</td><td>165</td><td>737</td><td>59</td><td>Sirens (1994)</td><td>4</td><td>879305386</td></tr><tr><td>751</td><td>168</td><td>737</td><td>59</td><td>Sirens (1994)</td><td>4</td><td>889298945</td></tr><tr><td>325</td><td>142</td><td>737</td><td>59</td><td>Sirens (1994)</td><td>4</td><td>891479846</td></tr><tr><td>345</td><td>232</td><td>737</td><td>59</td><td>Sirens (1994)</td><td>3</td><td>884993418</td></tr><tr><td>840</td><td>197</td><td>737</td><td>59</td><td>Sirens (1994)</td><td>4</td><td>891205320</td></tr><tr><td>243</td><td>81</td><td>737</td><td>59</td><td>Sirens (1994)</td><td>3</td><td>879988557</td></tr><tr><td>354</td><td>233</td><td>737</td><td>59</td><td>Sirens (1994)</td><td>4</td><td>891307206</td></tr><tr><td>18</td><td>277</td><td>737</td><td>59</td><td>Sirens (1994)</td><td>3</td><td>880132055</td></tr><tr><td>194</td><td>305</td><td>737</td><td>59</td><td>Sirens (1994)</td><td>4</td><td>879553003</td></tr><tr><td>682</td><td>399</td><td>737</td><td>59</td><td>Sirens (1994)</td><td>3</td><td>888518104</td></tr><tr><td>622</td><td>228</td><td>737</td><td>59</td><td>Sirens (1994)</td><td>5</td><td>882592678</td></tr><tr><td>416</td><td>493</td><td>737</td><td>59</td><td>Sirens (1994)</td><td>3</td><td>886318613</td></tr><tr><td>653</td><td>283</td><td>737</td><td>59</td><td>Sirens (1994)</td><td>1</td><td>880151839</td></tr><tr><td>650</td><td>311</td><td>737</td><td>59</td><td>Sirens (1994)</td><td>2</td><td>891383832</td></tr><tr><td>13</td><td>636</td><td>737</td><td>59</td><td>Sirens (1994)</td><td>4</td><td>882399615</td></tr><tr><td>543</td><td>197</td><td>737</td><td>59</td><td>Sirens (1994)</td><td>3</td><td>874866535</td></tr><tr><td>398</td><td>172</td><td>737</td><td>59</td><td>Sirens (1994)</td><td>2</td><td>875811449</td></tr><tr><td>92</td><td>388</td><td>737</td><td>59</td><td>Sirens (1994)</td><td>4</td><td>875654125</td></tr><tr><td>44</td><td>151</td><td>737</td><td>59</td><td>Sirens (1994)</td><td>1</td><td>883613298</td></tr><tr><td>387</td><td>304</td><td>737</td><td>59</td><td>Sirens (1994)</td><td>3</td><td>886484098</td></tr><tr><td>339</td><td>254</td><td>737</td><td>59</td><td>Sirens (1994)</td><td>3</td><td>891035180</td></tr><tr><td>286</td><td>288</td><td>737</td><td>59</td><td>Sirens (1994)</td><td>4</td><td>877532419</td></tr><tr><td>456</td><td>217</td><td>737</td><td>59</td><td>Sirens (1994)</td><td>3</td><td>881375254</td></tr><tr><td>437</td><td>263</td><td>737</td><td>59</td><td>Sirens (1994)</td><td>1</td><td>880142614</td></tr><tr><td>361</td><td>121</td><td>737</td><td>59</td><td>Sirens (1994)</td><td>4</td><td>879441179</td></tr><tr><td>406</td><td>342</td><td>737</td><td>59</td><td>Sirens (1994)</td><td>3</td><td>879793376</td></tr><tr><td>301</td><td>275</td><td>737</td><td>59</td><td>Sirens (1994)</td><td>2</td><td>882078906</td></tr><tr><td>393</td><td>448</td><td>737</td><td>59</td><td>Sirens (1994)</td><td>2</td><td>889730261</td></tr><tr><td>49</td><td>215</td><td>737</td><td>59</td><td>Sirens (1994)</td><td>1</td><td>888066828</td></tr><tr><td>122</td><td>61</td><td>737</td><td>59</td><td>Sirens (1994)</td><td>4</td><td>879270874</td></tr><tr><td>295</td><td>196</td><td>737</td><td>59</td><td>Sirens (1994)</td><td>5</td><td>879518607</td></tr><tr><td>89</td><td>76</td><td>737</td><td>59</td><td>Sirens (1994)</td><td>1</td><td>879460376</td></tr><tr><td>276</td><td>518</td><td>737</td><td>59</td><td>Sirens (1994)</td><td>4</td><td>890979964</td></tr><tr><td>95</td><td>278</td><td>737</td><td>59</td><td>Sirens (1994)</td><td>3</td><td>879197021</td></tr><tr><td>180</td><td>63</td><td>737</td><td>59</td><td>Sirens (1994)</td><td>3</td><td>877128327</td></tr><tr><td>145</td><td>316</td><td>737</td><td>59</td><td>Sirens (1994)</td><td>2</td><td>875272833</td></tr><tr><td>550</td><td>40</td><td>243</td><td>132</td><td>Jungle2Jungle (1997)</td><td>2</td><td>883426119</td></tr><tr><td>401</td><td>153</td><td>243</td><td>132</td><td>Jungle2Jungle (1997)</td><td>3</td><td>891031867</td></tr><tr><td>811</td><td>21</td><td>243</td><td>132</td><td>Jungle2Jungle (1997)</td><td>3</td><td>886377579</td></tr><tr><td>813</td><td>29</td><td>243</td><td>132</td><td>Jungle2Jungle (1997)</td><td>3</td><td>883752660</td></tr><tr><td>59</td><td>382</td><td>243</td><td>132</td><td>Jungle2Jungle (1997)</td><td>1</td><td>888206764</td></tr><tr><td>881</td><td>259</td><td>243</td><td>132</td><td>Jungle2Jungle (1997)</td><td>2</td><td>876535663</td></tr><tr><td>533</td><td>260</td><td>243</td><td>132</td><td>Jungle2Jungle (1997)</td><td>3</td><td>879193517</td></tr><tr><td>556</td><td>44</td><td>243</td><td>132</td><td>Jungle2Jungle (1997)</td><td>1</td><td>882135994</td></tr><tr><td>505</td><td>112</td><td>243</td><td>132</td><td>Jungle2Jungle (1997)</td><td>2</td><td>888631415</td></tr><tr><td>691</td><td>32</td><td>243</td><td>132</td><td>Jungle2Jungle (1997)</td><td>1</td><td>875542944</td></tr><tr><td>761</td><td>66</td><td>243</td><td>132</td><td>Jungle2Jungle (1997)</td><td>3</td><td>876189749</td></tr><tr><td>796</td><td>358</td><td>243</td><td>132</td><td>Jungle2Jungle (1997)</td><td>3</td><td>892612354</td></tr><tr><td>824</td><td>20</td><td>243</td><td>132</td><td>Jungle2Jungle (1997)</td><td>1</td><td>877021002</td></tr><tr><td>598</td><td>25</td><td>243</td><td>132</td><td>Jungle2Jungle (1997)</td><td>2</td><td>886711192</td></tr><tr><td>816</td><td>25</td><td>243</td><td>132</td><td>Jungle2Jungle (1997)</td><td>4</td><td>891711554</td></tr><tr><td>798</td><td>239</td><td>243</td><td>132</td><td>Jungle2Jungle (1997)</td><td>4</td><td>875295566</td></tr><tr><td>612</td><td>27</td><td>243</td><td>132</td><td>Jungle2Jungle (1997)</td><td>2</td><td>875324355</td></tr><tr><td>602</td><td>29</td><td>243</td><td>132</td><td>Jungle2Jungle (1997)</td><td>3</td><td>888638277</td></tr><tr><td>897</td><td>185</td><td>243</td><td>132</td><td>Jungle2Jungle (1997)</td><td>4</td><td>879988868</td></tr><tr><td>938</td><td>108</td><td>243</td><td>132</td><td>Jungle2Jungle (1997)</td><td>4</td><td>891356085</td></tr><tr><td>20</td><td>48</td><td>243</td><td>132</td><td>Jungle2Jungle (1997)</td><td>4</td><td>879667799</td></tr><tr><td>887</td><td>171</td><td>243</td><td>132</td><td>Jungle2Jungle (1997)</td><td>1</td><td>881378370</td></tr><tr><td>901</td><td>124</td><td>243</td><td>132</td><td>Jungle2Jungle (1997)</td><td>2</td><td>877129839</td></tr><tr><td>832</td><td>25</td><td>243</td><td>132</td><td>Jungle2Jungle (1997)</td><td>2</td><td>888259984</td></tr><tr><td>797</td><td>26</td><td>243</td><td>132</td><td>Jungle2Jungle (1997)</td><td>2</td><td>879439104</td></tr><tr><td>728</td><td>26</td><td>243</td><td>132</td><td>Jungle2Jungle (1997)</td><td>2</td><td>879442892</td></tr><tr><td>898</td><td>30</td><td>243</td><td>132</td><td>Jungle2Jungle (1997)</td><td>1</td><td>888294707</td></tr><tr><td>732</td><td>20</td><td>243</td><td>132</td><td>Jungle2Jungle (1997)</td><td>5</td><td>882589879</td></tr><tr><td>8</td><td>59</td><td>243</td><td>132</td><td>Jungle2Jungle (1997)</td><td>2</td><td>879361732</td></tr><tr><td>304</td><td>26</td><td>243</td><td>132</td><td>Jungle2Jungle (1997)</td><td>3</td><td>884967391</td></tr><tr><td>48</td><td>66</td><td>243</td><td>132</td><td>Jungle2Jungle (1997)</td><td>3</td><td>879434330</td></tr><tr><td>199</td><td>40</td><td>243</td><td>132</td><td>Jungle2Jungle (1997)</td><td>1</td><td>883782636</td></tr><tr><td>754</td><td>34</td><td>243</td><td>132</td><td>Jungle2Jungle (1997)</td><td>1</td><td>879451163</td></tr><tr><td>482</td><td>26</td><td>243</td><td>132</td><td>Jungle2Jungle (1997)</td><td>2</td><td>887644023</td></tr><tr><td>387</td><td>304</td><td>243</td><td>132</td><td>Jungle2Jungle (1997)</td><td>1</td><td>886484460</td></tr><tr><td>397</td><td>102</td><td>243</td><td>132</td><td>Jungle2Jungle (1997)</td><td>1</td><td>875063613</td></tr><tr><td>771</td><td>70</td><td>243</td><td>132</td><td>Jungle2Jungle (1997)</td><td>3</td><td>886640629</td></tr><tr><td>847</td><td>146</td><td>243</td><td>132</td><td>Jungle2Jungle (1997)</td><td>1</td><td>878774856</td></tr><tr><td>810</td><td>26</td><td>243</td><td>132</td><td>Jungle2Jungle (1997)</td><td>4</td><td>879895350</td></tr><tr><td>936</td><td>142</td><td>243</td><td>132</td><td>Jungle2Jungle (1997)</td><td>2</td><td>886831820</td></tr><tr><td>620</td><td>110</td><td>243</td><td>132</td><td>Jungle2Jungle (1997)</td><td>3</td><td>889986676</td></tr><tr><td>677</td><td>49</td><td>243</td><td>132</td><td>Jungle2Jungle (1997)</td><td>3</td><td>889399113</td></tr><tr><td>682</td><td>399</td><td>243</td><td>132</td><td>Jungle2Jungle (1997)</td><td>1</td><td>888516865</td></tr><tr><td>699</td><td>149</td><td>243</td><td>132</td><td>Jungle2Jungle (1997)</td><td>2</td><td>879147597</td></tr><tr><td>721</td><td>168</td><td>243</td><td>132</td><td>Jungle2Jungle (1997)</td><td>3</td><td>877137527</td></tr><tr><td>882</td><td>137</td><td>243</td><td>132</td><td>Jungle2Jungle (1997)</td><td>4</td><td>879861325</td></tr><tr><td>825</td><td>145</td><td>243</td><td>132</td><td>Jungle2Jungle (1997)</td><td>4</td><td>884642187</td></tr><tr><td>645</td><td>122</td><td>243</td><td>132</td><td>Jungle2Jungle (1997)</td><td>1</td><td>892052232</td></tr><tr><td>919</td><td>217</td><td>243</td><td>132</td><td>Jungle2Jungle (1997)</td><td>3</td><td>875288418</td></tr><tr><td>125</td><td>182</td><td>243</td><td>132</td><td>Jungle2Jungle (1997)</td><td>2</td><td>892836123</td></tr><tr><td>880</td><td>368</td><td>243</td><td>132</td><td>Jungle2Jungle (1997)</td><td>2</td><td>892958608</td></tr><tr><td>234</td><td>480</td><td>243</td><td>132</td><td>Jungle2Jungle (1997)</td><td>1</td><td>891034107</td></tr><tr><td>534</td><td>80</td><td>243</td><td>132</td><td>Jungle2Jungle (1997)</td><td>3</td><td>877807461</td></tr><tr><td>587</td><td>98</td><td>243</td><td>132</td><td>Jungle2Jungle (1997)</td><td>3</td><td>892871401</td></tr><tr><td>38</td><td>121</td><td>243</td><td>132</td><td>Jungle2Jungle (1997)</td><td>3</td><td>892429095</td></tr><tr><td>17</td><td>28</td><td>243</td><td>132</td><td>Jungle2Jungle (1997)</td><td>1</td><td>885166209</td></tr><tr><td>779</td><td>37</td><td>243</td><td>132</td><td>Jungle2Jungle (1997)</td><td>4</td><td>875501402</td></tr></tbody></table>Showing the first 1000 rows.</div>"
      ]
     },
     "metadata": {
      "application/vnd.databricks.v1+output": {
       "overflow": true,
       "datasetInfos": [],
       "data": [
        [
         691.0,
         32.0,
         496.0,
         231.0,
         "It's a Wonderful Life (1946)",
         5.0,
         8.75543025E8
        ],
        [
         654.0,
         147.0,
         496.0,
         231.0,
         "It's a Wonderful Life (1946)",
         4.0,
         8.8786423E8
        ],
        [
         479.0,
         202.0,
         496.0,
         231.0,
         "It's a Wonderful Life (1946)",
         3.0,
         8.79461084E8
        ],
        [
         890.0,
         119.0,
         496.0,
         231.0,
         "It's a Wonderful Life (1946)",
         5.0,
         8.8291646E8
        ],
        [
         731.0,
         83.0,
         496.0,
         231.0,
         "It's a Wonderful Life (1946)",
         5.0,
         8.8617904E8
        ],
        [
         665.0,
         142.0,
         496.0,
         231.0,
         "It's a Wonderful Life (1946)",
         3.0,
         8.842942E8
        ],
        [
         929.0,
         49.0,
         496.0,
         231.0,
         "It's a Wonderful Life (1946)",
         3.0,
         8.79640256E8
        ],
        [
         426.0,
         101.0,
         496.0,
         231.0,
         "It's a Wonderful Life (1946)",
         3.0,
         8.79442841E8
        ],
        [
         698.0,
         127.0,
         496.0,
         231.0,
         "It's a Wonderful Life (1946)",
         3.0,
         8.8636669E8
        ],
        [
         807.0,
         204.0,
         496.0,
         231.0,
         "It's a Wonderful Life (1946)",
         5.0,
         8.92528918E8
        ],
        [
         330.0,
         147.0,
         496.0,
         231.0,
         "It's a Wonderful Life (1946)",
         5.0,
         8.76546172E8
        ],
        [
         850.0,
         51.0,
         496.0,
         231.0,
         "It's a Wonderful Life (1946)",
         5.0,
         8.83195079E8
        ],
        [
         648.0,
         297.0,
         496.0,
         231.0,
         "It's a Wonderful Life (1946)",
         4.0,
         8.84796822E8
        ],
        [
         846.0,
         405.0,
         496.0,
         231.0,
         "It's a Wonderful Life (1946)",
         3.0,
         8.8394763E8
        ],
        [
         537.0,
         490.0,
         496.0,
         231.0,
         "It's a Wonderful Life (1946)",
         4.0,
         8.86030831E8
        ],
        [
         932.0,
         241.0,
         496.0,
         231.0,
         "It's a Wonderful Life (1946)",
         4.0,
         8.91250169E8
        ],
        [
         363.0,
         311.0,
         496.0,
         231.0,
         "It's a Wonderful Life (1946)",
         4.0,
         8.91494563E8
        ],
        [
         907.0,
         147.0,
         496.0,
         231.0,
         "It's a Wonderful Life (1946)",
         4.0,
         8.80159666E8
        ],
        [
         417.0,
         365.0,
         496.0,
         231.0,
         "It's a Wonderful Life (1946)",
         3.0,
         8.7964704E8
        ],
        [
         908.0,
         74.0,
         496.0,
         231.0,
         "It's a Wonderful Life (1946)",
         5.0,
         8.79722361E8
        ],
        [
         771.0,
         70.0,
         496.0,
         231.0,
         "It's a Wonderful Life (1946)",
         5.0,
         8.80659606E8
        ],
        [
         883.0,
         268.0,
         496.0,
         231.0,
         "It's a Wonderful Life (1946)",
         2.0,
         8.91755066E8
        ],
        [
         64.0,
         200.0,
         496.0,
         231.0,
         "It's a Wonderful Life (1946)",
         5.0,
         8.89737567E8
        ],
        [
         344.0,
         190.0,
         496.0,
         231.0,
         "It's a Wonderful Life (1946)",
         4.0,
         8.89814194E8
        ],
        [
         804.0,
         332.0,
         496.0,
         231.0,
         "It's a Wonderful Life (1946)",
         5.0,
         8.79441973E8
        ],
        [
         897.0,
         185.0,
         496.0,
         231.0,
         "It's a Wonderful Life (1946)",
         5.0,
         8.79994113E8
        ],
        [
         593.0,
         156.0,
         496.0,
         231.0,
         "It's a Wonderful Life (1946)",
         5.0,
         8.75671198E8
        ],
        [
         785.0,
         27.0,
         496.0,
         231.0,
         "It's a Wonderful Life (1946)",
         4.0,
         8.7943881E8
        ],
        [
         887.0,
         171.0,
         496.0,
         231.0,
         "It's a Wonderful Life (1946)",
         4.0,
         8.81379685E8
        ],
        [
         371.0,
         51.0,
         496.0,
         231.0,
         "It's a Wonderful Life (1946)",
         4.0,
         8.77487052E8
        ],
        [
         896.0,
         362.0,
         496.0,
         231.0,
         "It's a Wonderful Life (1946)",
         4.0,
         8.87158029E8
        ],
        [
         664.0,
         166.0,
         496.0,
         231.0,
         "It's a Wonderful Life (1946)",
         5.0,
         8.78090381E8
        ],
        [
         661.0,
         121.0,
         496.0,
         231.0,
         "It's a Wonderful Life (1946)",
         5.0,
         8.7601553E8
        ],
        [
         870.0,
         269.0,
         496.0,
         231.0,
         "It's a Wonderful Life (1946)",
         5.0,
         8.82801371E8
        ],
        [
         847.0,
         146.0,
         496.0,
         231.0,
         "It's a Wonderful Life (1946)",
         4.0,
         8.78940954E8
        ],
        [
         521.0,
         150.0,
         496.0,
         231.0,
         "It's a Wonderful Life (1946)",
         2.0,
         8.85253668E8
        ],
        [
         862.0,
         165.0,
         496.0,
         231.0,
         "It's a Wonderful Life (1946)",
         5.0,
         8.79304902E8
        ],
        [
         868.0,
         208.0,
         496.0,
         231.0,
         "It's a Wonderful Life (1946)",
         2.0,
         8.77107597E8
        ],
        [
         617.0,
         108.0,
         496.0,
         231.0,
         "It's a Wonderful Life (1946)",
         1.0,
         8.8378908E8
        ],
        [
         924.0,
         82.0,
         496.0,
         231.0,
         "It's a Wonderful Life (1946)",
         5.0,
         8.86327689E8
        ],
        [
         867.0,
         95.0,
         496.0,
         231.0,
         "It's a Wonderful Life (1946)",
         5.0,
         8.80078574E8
        ],
        [
         6.0,
         211.0,
         496.0,
         231.0,
         "It's a Wonderful Life (1946)",
         4.0,
         8.83601155E8
        ],
        [
         886.0,
         240.0,
         496.0,
         231.0,
         "It's a Wonderful Life (1946)",
         4.0,
         8.76031952E8
        ],
        [
         566.0,
         149.0,
         496.0,
         231.0,
         "It's a Wonderful Life (1946)",
         5.0,
         8.81649428E8
        ],
        [
         577.0,
         188.0,
         496.0,
         231.0,
         "It's a Wonderful Life (1946)",
         5.0,
         8.80474455E8
        ],
        [
         848.0,
         150.0,
         496.0,
         231.0,
         "It's a Wonderful Life (1946)",
         2.0,
         8.8703798E8
        ],
        [
         786.0,
         117.0,
         496.0,
         231.0,
         "It's a Wonderful Life (1946)",
         5.0,
         8.82843312E8
        ],
        [
         942.0,
         79.0,
         496.0,
         231.0,
         "It's a Wonderful Life (1946)",
         5.0,
         8.91283043E8
        ],
        [
         642.0,
         318.0,
         496.0,
         231.0,
         "It's a Wonderful Life (1946)",
         4.0,
         8.85603516E8
        ],
        [
         496.0,
         129.0,
         496.0,
         231.0,
         "It's a Wonderful Life (1946)",
         1.0,
         8.76066424E8
        ],
        [
         645.0,
         122.0,
         496.0,
         231.0,
         "It's a Wonderful Life (1946)",
         3.0,
         8.92053686E8
        ],
        [
         875.0,
         89.0,
         496.0,
         231.0,
         "It's a Wonderful Life (1946)",
         4.0,
         8.76465144E8
        ],
        [
         382.0,
         53.0,
         496.0,
         231.0,
         "It's a Wonderful Life (1946)",
         3.0,
         8.75946945E8
        ],
        [
         647.0,
         58.0,
         496.0,
         231.0,
         "It's a Wonderful Life (1946)",
         4.0,
         8.76534275E8
        ],
        [
         60.0,
         208.0,
         496.0,
         231.0,
         "It's a Wonderful Life (1946)",
         4.0,
         8.83326682E8
        ],
        [
         653.0,
         283.0,
         496.0,
         231.0,
         "It's a Wonderful Life (1946)",
         2.0,
         8.78866679E8
        ],
        [
         334.0,
         333.0,
         496.0,
         231.0,
         "It's a Wonderful Life (1946)",
         3.0,
         8.9154704E8
        ],
        [
         734.0,
         64.0,
         496.0,
         231.0,
         "It's a Wonderful Life (1946)",
         5.0,
         8.91025523E8
        ],
        [
         892.0,
         226.0,
         496.0,
         231.0,
         "It's a Wonderful Life (1946)",
         5.0,
         8.86609435E8
        ],
        [
         561.0,
         357.0,
         496.0,
         231.0,
         "It's a Wonderful Life (1946)",
         3.0,
         8.85807369E8
        ],
        [
         271.0,
         278.0,
         496.0,
         231.0,
         "It's a Wonderful Life (1946)",
         5.0,
         8.8584914E8
        ],
        [
         343.0,
         237.0,
         496.0,
         231.0,
         "It's a Wonderful Life (1946)",
         5.0,
         8.76404426E8
        ],
        [
         506.0,
         242.0,
         496.0,
         231.0,
         "It's a Wonderful Life (1946)",
         5.0,
         8.74873615E8
        ],
        [
         154.0,
         51.0,
         496.0,
         231.0,
         "It's a Wonderful Life (1946)",
         3.0,
         8.7913891E8
        ],
        [
         216.0,
         131.0,
         496.0,
         231.0,
         "It's a Wonderful Life (1946)",
         5.0,
         8.80233635E8
        ],
        [
         503.0,
         160.0,
         496.0,
         231.0,
         "It's a Wonderful Life (1946)",
         5.0,
         8.80472474E8
        ],
        [
         912.0,
         53.0,
         496.0,
         231.0,
         "It's a Wonderful Life (1946)",
         4.0,
         8.75965939E8
        ],
        [
         194.0,
         305.0,
         496.0,
         231.0,
         "It's a Wonderful Life (1946)",
         4.0,
         8.79520743E8
        ],
        [
         643.0,
         206.0,
         496.0,
         231.0,
         "It's a Wonderful Life (1946)",
         4.0,
         8.91446688E8
        ],
        [
         864.0,
         294.0,
         496.0,
         231.0,
         "It's a Wonderful Life (1946)",
         5.0,
         8.88887944E8
        ],
        [
         806.0,
         140.0,
         496.0,
         231.0,
         "It's a Wonderful Life (1946)",
         5.0,
         8.82387798E8
        ],
        [
         498.0,
         149.0,
         496.0,
         231.0,
         "It's a Wonderful Life (1946)",
         3.0,
         8.81957905E8
        ],
        [
         882.0,
         137.0,
         496.0,
         231.0,
         "It's a Wonderful Life (1946)",
         5.0,
         8.7986632E8
        ],
        [
         254.0,
         159.0,
         496.0,
         231.0,
         "It's a Wonderful Life (1946)",
         4.0,
         8.86471982E8
        ],
        [
         539.0,
         56.0,
         496.0,
         231.0,
         "It's a Wonderful Life (1946)",
         3.0,
         8.79787985E8
        ],
        [
         899.0,
         135.0,
         496.0,
         231.0,
         "It's a Wonderful Life (1946)",
         5.0,
         8.84121379E8
        ],
        [
         311.0,
         294.0,
         496.0,
         231.0,
         "It's a Wonderful Life (1946)",
         5.0,
         8.84364593E8
        ],
        [
         928.0,
         32.0,
         496.0,
         231.0,
         "It's a Wonderful Life (1946)",
         5.0,
         8.80936863E8
        ],
        [
         878.0,
         134.0,
         496.0,
         231.0,
         "It's a Wonderful Life (1946)",
         5.0,
         8.80867387E8
        ],
        [
         911.0,
         98.0,
         496.0,
         231.0,
         "It's a Wonderful Life (1946)",
         3.0,
         8.92838954E8
        ],
        [
         128.0,
         184.0,
         496.0,
         231.0,
         "It's a Wonderful Life (1946)",
         5.0,
         8.79967225E8
        ],
        [
         435.0,
         379.0,
         496.0,
         231.0,
         "It's a Wonderful Life (1946)",
         4.0,
         8.84131243E8
        ],
        [
         790.0,
         231.0,
         496.0,
         231.0,
         "It's a Wonderful Life (1946)",
         3.0,
         8.85155172E8
        ],
        [
         758.0,
         357.0,
         496.0,
         231.0,
         "It's a Wonderful Life (1946)",
         3.0,
         8.81976031E8
        ],
        [
         383.0,
         71.0,
         496.0,
         231.0,
         "It's a Wonderful Life (1946)",
         5.0,
         8.91192888E8
        ],
        [
         630.0,
         108.0,
         496.0,
         231.0,
         "It's a Wonderful Life (1946)",
         3.0,
         8.85667854E8
        ],
        [
         780.0,
         55.0,
         496.0,
         231.0,
         "It's a Wonderful Life (1946)",
         4.0,
         8.91364027E8
        ],
        [
         711.0,
         221.0,
         496.0,
         231.0,
         "It's a Wonderful Life (1946)",
         5.0,
         8.79993073E8
        ],
        [
         766.0,
         175.0,
         496.0,
         231.0,
         "It's a Wonderful Life (1946)",
         5.0,
         8.91309767E8
        ],
        [
         640.0,
         109.0,
         496.0,
         231.0,
         "It's a Wonderful Life (1946)",
         4.0,
         8.74777491E8
        ],
        [
         741.0,
         104.0,
         496.0,
         231.0,
         "It's a Wonderful Life (1946)",
         5.0,
         8.91456718E8
        ],
        [
         710.0,
         86.0,
         496.0,
         231.0,
         "It's a Wonderful Life (1946)",
         4.0,
         8.82063793E8
        ],
        [
         749.0,
         305.0,
         496.0,
         231.0,
         "It's a Wonderful Life (1946)",
         5.0,
         8.78847673E8
        ],
        [
         836.0,
         50.0,
         496.0,
         231.0,
         "It's a Wonderful Life (1946)",
         4.0,
         8.85754231E8
        ],
        [
         690.0,
         115.0,
         496.0,
         231.0,
         "It's a Wonderful Life (1946)",
         4.0,
         8.81179222E8
        ],
        [
         535.0,
         218.0,
         496.0,
         231.0,
         "It's a Wonderful Life (1946)",
         5.0,
         8.79618246E8
        ],
        [
         262.0,
         160.0,
         496.0,
         231.0,
         "It's a Wonderful Life (1946)",
         4.0,
         8.79792402E8
        ],
        [
         840.0,
         197.0,
         496.0,
         231.0,
         "It's a Wonderful Life (1946)",
         5.0,
         8.91204089E8
        ],
        [
         393.0,
         448.0,
         496.0,
         231.0,
         "It's a Wonderful Life (1946)",
         5.0,
         8.87746119E8
        ],
        [
         694.0,
         157.0,
         496.0,
         231.0,
         "It's a Wonderful Life (1946)",
         4.0,
         8.7572764E8
        ],
        [
         778.0,
         65.0,
         496.0,
         231.0,
         "It's a Wonderful Life (1946)",
         1.0,
         8.91234406E8
        ],
        [
         815.0,
         183.0,
         496.0,
         231.0,
         "It's a Wonderful Life (1946)",
         5.0,
         8.78694027E8
        ],
        [
         659.0,
         191.0,
         496.0,
         231.0,
         "It's a Wonderful Life (1946)",
         5.0,
         8.91385258E8
        ],
        [
         354.0,
         233.0,
         496.0,
         231.0,
         "It's a Wonderful Life (1946)",
         3.0,
         8.91217109E8
        ],
        [
         82.0,
         168.0,
         496.0,
         231.0,
         "It's a Wonderful Life (1946)",
         4.0,
         8.78769992E8
        ],
        [
         532.0,
         274.0,
         496.0,
         231.0,
         "It's a Wonderful Life (1946)",
         5.0,
         8.93119491E8
        ],
        [
         472.0,
         263.0,
         496.0,
         231.0,
         "It's a Wonderful Life (1946)",
         4.0,
         8.75980823E8
        ],
        [
         527.0,
         137.0,
         496.0,
         231.0,
         "It's a Wonderful Life (1946)",
         4.0,
         8.79456248E8
        ],
        [
         764.0,
         109.0,
         496.0,
         231.0,
         "It's a Wonderful Life (1946)",
         5.0,
         8.76244991E8
        ],
        [
         97.0,
         63.0,
         496.0,
         231.0,
         "It's a Wonderful Life (1946)",
         2.0,
         8.84238693E8
        ],
        [
         605.0,
         90.0,
         496.0,
         231.0,
         "It's a Wonderful Life (1946)",
         5.0,
         8.794246E8
        ],
        [
         20.0,
         48.0,
         496.0,
         231.0,
         "It's a Wonderful Life (1946)",
         5.0,
         8.79669244E8
        ],
        [
         230.0,
         133.0,
         496.0,
         231.0,
         "It's a Wonderful Life (1946)",
         5.0,
         8.80484501E8
        ],
        [
         452.0,
         206.0,
         496.0,
         231.0,
         "It's a Wonderful Life (1946)",
         5.0,
         8.75261666E8
        ],
        [
         524.0,
         306.0,
         496.0,
         231.0,
         "It's a Wonderful Life (1946)",
         2.0,
         8.84637314E8
        ],
        [
         184.0,
         251.0,
         496.0,
         231.0,
         "It's a Wonderful Life (1946)",
         5.0,
         8.89908539E8
        ],
        [
         796.0,
         358.0,
         496.0,
         231.0,
         "It's a Wonderful Life (1946)",
         5.0,
         8.92662223E8
        ],
        [
         214.0,
         128.0,
         496.0,
         231.0,
         "It's a Wonderful Life (1946)",
         4.0,
         8.91544545E8
        ],
        [
         641.0,
         40.0,
         496.0,
         231.0,
         "It's a Wonderful Life (1946)",
         2.0,
         8.79370337E8
        ],
        [
         738.0,
         148.0,
         496.0,
         231.0,
         "It's a Wonderful Life (1946)",
         4.0,
         8.75351346E8
        ],
        [
         776.0,
         105.0,
         496.0,
         231.0,
         "It's a Wonderful Life (1946)",
         3.0,
         8.91628708E8
        ],
        [
         342.0,
         201.0,
         496.0,
         231.0,
         "It's a Wonderful Life (1946)",
         4.0,
         8.75319334E8
        ],
        [
         650.0,
         311.0,
         496.0,
         231.0,
         "It's a Wonderful Life (1946)",
         4.0,
         8.91369707E8
        ],
        [
         747.0,
         293.0,
         496.0,
         231.0,
         "It's a Wonderful Life (1946)",
         5.0,
         8.88640136E8
        ],
        [
         704.0,
         90.0,
         496.0,
         231.0,
         "It's a Wonderful Life (1946)",
         5.0,
         8.91397712E8
        ],
        [
         748.0,
         108.0,
         496.0,
         231.0,
         "It's a Wonderful Life (1946)",
         4.0,
         8.79454455E8
        ],
        [
         560.0,
         101.0,
         496.0,
         231.0,
         "It's a Wonderful Life (1946)",
         3.0,
         8.79975752E8
        ],
        [
         666.0,
         245.0,
         496.0,
         231.0,
         "It's a Wonderful Life (1946)",
         4.0,
         8.80139149E8
        ],
        [
         87.0,
         211.0,
         496.0,
         231.0,
         "It's a Wonderful Life (1946)",
         5.0,
         8.79877709E8
        ],
        [
         660.0,
         224.0,
         496.0,
         231.0,
         "It's a Wonderful Life (1946)",
         3.0,
         8.91199082E8
        ],
        [
         373.0,
         233.0,
         496.0,
         231.0,
         "It's a Wonderful Life (1946)",
         5.0,
         8.77098643E8
        ],
        [
         716.0,
         269.0,
         496.0,
         231.0,
         "It's a Wonderful Life (1946)",
         5.0,
         8.79795467E8
        ],
        [
         407.0,
         226.0,
         496.0,
         231.0,
         "It's a Wonderful Life (1946)",
         5.0,
         8.75042425E8
        ],
        [
         453.0,
         156.0,
         496.0,
         231.0,
         "It's a Wonderful Life (1946)",
         4.0,
         8.88203066E8
        ],
        [
         707.0,
         236.0,
         496.0,
         231.0,
         "It's a Wonderful Life (1946)",
         3.0,
         8.86286433E8
        ],
        [
         622.0,
         228.0,
         496.0,
         231.0,
         "It's a Wonderful Life (1946)",
         4.0,
         8.82592314E8
        ],
        [
         437.0,
         263.0,
         496.0,
         231.0,
         "It's a Wonderful Life (1946)",
         4.0,
         8.80140662E8
        ],
        [
         429.0,
         414.0,
         496.0,
         231.0,
         "It's a Wonderful Life (1946)",
         4.0,
         8.82384603E8
        ],
        [
         308.0,
         397.0,
         496.0,
         231.0,
         "It's a Wonderful Life (1946)",
         3.0,
         8.87736532E8
        ],
        [
         269.0,
         323.0,
         496.0,
         231.0,
         "It's a Wonderful Life (1946)",
         5.0,
         8.91455816E8
        ],
        [
         44.0,
         151.0,
         496.0,
         231.0,
         "It's a Wonderful Life (1946)",
         4.0,
         8.78348885E8
        ],
        [
         90.0,
         300.0,
         496.0,
         231.0,
         "It's a Wonderful Life (1946)",
         4.0,
         8.91385787E8
        ],
        [
         234.0,
         480.0,
         496.0,
         231.0,
         "It's a Wonderful Life (1946)",
         4.0,
         8.9207919E8
        ],
        [
         57.0,
         106.0,
         496.0,
         231.0,
         "It's a Wonderful Life (1946)",
         4.0,
         8.83698362E8
        ],
        [
         314.0,
         245.0,
         496.0,
         231.0,
         "It's a Wonderful Life (1946)",
         4.0,
         8.7788806E8
        ],
        [
         505.0,
         112.0,
         496.0,
         231.0,
         "It's a Wonderful Life (1946)",
         5.0,
         8.89333534E8
        ],
        [
         536.0,
         163.0,
         496.0,
         231.0,
         "It's a Wonderful Life (1946)",
         5.0,
         8.82359455E8
        ],
        [
         398.0,
         172.0,
         496.0,
         231.0,
         "It's a Wonderful Life (1946)",
         5.0,
         8.75721111E8
        ],
        [
         280.0,
         258.0,
         496.0,
         231.0,
         "It's a Wonderful Life (1946)",
         5.0,
         8.91700321E8
        ],
        [
         586.0,
         166.0,
         496.0,
         231.0,
         "It's a Wonderful Life (1946)",
         3.0,
         8.84059426E8
        ],
        [
         394.0,
         149.0,
         496.0,
         231.0,
         "It's a Wonderful Life (1946)",
         5.0,
         8.80887206E8
        ],
        [
         161.0,
         58.0,
         496.0,
         231.0,
         "It's a Wonderful Life (1946)",
         3.0,
         8.91171734E8
        ],
        [
         200.0,
         216.0,
         496.0,
         231.0,
         "It's a Wonderful Life (1946)",
         5.0,
         8.84128904E8
        ],
        [
         488.0,
         154.0,
         496.0,
         231.0,
         "It's a Wonderful Life (1946)",
         4.0,
         8.91294246E8
        ],
        [
         588.0,
         225.0,
         496.0,
         231.0,
         "It's a Wonderful Life (1946)",
         3.0,
         8.90023879E8
        ],
        [
         387.0,
         304.0,
         496.0,
         231.0,
         "It's a Wonderful Life (1946)",
         3.0,
         8.86480515E8
        ],
        [
         567.0,
         155.0,
         496.0,
         231.0,
         "It's a Wonderful Life (1946)",
         5.0,
         8.82426184E8
        ],
        [
         618.0,
         216.0,
         496.0,
         231.0,
         "It's a Wonderful Life (1946)",
         4.0,
         8.91307619E8
        ],
        [
         601.0,
         148.0,
         496.0,
         231.0,
         "It's a Wonderful Life (1946)",
         4.0,
         8.76349302E8
        ],
        [
         495.0,
         213.0,
         496.0,
         231.0,
         "It's a Wonderful Life (1946)",
         5.0,
         8.88632888E8
        ],
        [
         85.0,
         288.0,
         496.0,
         231.0,
         "It's a Wonderful Life (1946)",
         4.0,
         8.79453781E8
        ],
        [
         571.0,
         20.0,
         496.0,
         231.0,
         "It's a Wonderful Life (1946)",
         3.0,
         8.83354886E8
        ],
        [
         533.0,
         260.0,
         496.0,
         231.0,
         "It's a Wonderful Life (1946)",
         5.0,
         8.79439061E8
        ],
        [
         148.0,
         65.0,
         496.0,
         231.0,
         "It's a Wonderful Life (1946)",
         3.0,
         8.77015066E8
        ],
        [
         553.0,
         100.0,
         496.0,
         231.0,
         "It's a Wonderful Life (1946)",
         3.0,
         8.7994846E8
        ],
        [
         235.0,
         94.0,
         496.0,
         231.0,
         "It's a Wonderful Life (1946)",
         4.0,
         8.89655662E8
        ],
        [
         454.0,
         236.0,
         496.0,
         231.0,
         "It's a Wonderful Life (1946)",
         4.0,
         8.81959991E8
        ],
        [
         542.0,
         135.0,
         496.0,
         231.0,
         "It's a Wonderful Life (1946)",
         4.0,
         8.86532534E8
        ],
        [
         538.0,
         81.0,
         496.0,
         231.0,
         "It's a Wonderful Life (1946)",
         5.0,
         8.77107491E8
        ],
        [
         346.0,
         193.0,
         496.0,
         231.0,
         "It's a Wonderful Life (1946)",
         5.0,
         8.75260242E8
        ],
        [
         556.0,
         44.0,
         496.0,
         231.0,
         "It's a Wonderful Life (1946)",
         5.0,
         8.82136252E8
        ],
        [
         409.0,
         203.0,
         496.0,
         231.0,
         "It's a Wonderful Life (1946)",
         5.0,
         8.81107817E8
        ],
        [
         385.0,
         281.0,
         496.0,
         231.0,
         "It's a Wonderful Life (1946)",
         2.0,
         8.79441538E8
        ],
        [
         474.0,
         327.0,
         496.0,
         231.0,
         "It's a Wonderful Life (1946)",
         4.0,
         8.87923708E8
        ],
        [
         478.0,
         113.0,
         496.0,
         231.0,
         "It's a Wonderful Life (1946)",
         5.0,
         8.89388862E8
        ],
        [
         48.0,
         66.0,
         496.0,
         231.0,
         "It's a Wonderful Life (1946)",
         5.0,
         8.79434791E8
        ],
        [
         378.0,
         375.0,
         496.0,
         231.0,
         "It's a Wonderful Life (1946)",
         3.0,
         8.80045935E8
        ],
        [
         290.0,
         150.0,
         496.0,
         231.0,
         "It's a Wonderful Life (1946)",
         4.0,
         8.80474156E8
        ],
        [
         236.0,
         124.0,
         496.0,
         231.0,
         "It's a Wonderful Life (1946)",
         3.0,
         8.90116499E8
        ],
        [
         399.0,
         319.0,
         496.0,
         231.0,
         "It's a Wonderful Life (1946)",
         3.0,
         8.82349868E8
        ],
        [
         465.0,
         80.0,
         496.0,
         231.0,
         "It's a Wonderful Life (1946)",
         3.0,
         8.83531246E8
        ],
        [
         215.0,
         93.0,
         496.0,
         231.0,
         "It's a Wonderful Life (1946)",
         5.0,
         8.91435183E8
        ],
        [
         151.0,
         307.0,
         496.0,
         231.0,
         "It's a Wonderful Life (1946)",
         4.0,
         8.79524974E8
        ],
        [
         313.0,
         262.0,
         496.0,
         231.0,
         "It's a Wonderful Life (1946)",
         5.0,
         8.91014753E8
        ],
        [
         416.0,
         493.0,
         496.0,
         231.0,
         "It's a Wonderful Life (1946)",
         5.0,
         8.93212572E8
        ],
        [
         43.0,
         221.0,
         496.0,
         231.0,
         "It's a Wonderful Life (1946)",
         5.0,
         8.83955605E8
        ],
        [
         458.0,
         183.0,
         496.0,
         231.0,
         "It's a Wonderful Life (1946)",
         3.0,
         8.86398289E8
        ],
        [
         58.0,
         154.0,
         496.0,
         231.0,
         "It's a Wonderful Life (1946)",
         2.0,
         8.91611593E8
        ],
        [
         70.0,
         131.0,
         496.0,
         231.0,
         "It's a Wonderful Life (1946)",
         4.0,
         8.84064545E8
        ],
        [
         263.0,
         123.0,
         496.0,
         231.0,
         "It's a Wonderful Life (1946)",
         5.0,
         8.91298218E8
        ],
        [
         295.0,
         196.0,
         496.0,
         231.0,
         "It's a Wonderful Life (1946)",
         5.0,
         8.79517682E8
        ],
        [
         16.0,
         140.0,
         496.0,
         231.0,
         "It's a Wonderful Life (1946)",
         5.0,
         8.77721905E8
        ],
        [
         450.0,
         540.0,
         496.0,
         231.0,
         "It's a Wonderful Life (1946)",
         5.0,
         8.82373532E8
        ],
        [
         7.0,
         403.0,
         496.0,
         231.0,
         "It's a Wonderful Life (1946)",
         5.0,
         8.91351083E8
        ],
        [
         380.0,
         162.0,
         496.0,
         231.0,
         "It's a Wonderful Life (1946)",
         4.0,
         8.85479537E8
        ],
        [
         95.0,
         278.0,
         496.0,
         231.0,
         "It's a Wonderful Life (1946)",
         4.0,
         8.79198746E8
        ],
        [
         125.0,
         182.0,
         496.0,
         231.0,
         "It's a Wonderful Life (1946)",
         5.0,
         8.79454419E8
        ],
        [
         94.0,
         400.0,
         496.0,
         231.0,
         "It's a Wonderful Life (1946)",
         3.0,
         8.85873159E8
        ],
        [
         253.0,
         97.0,
         496.0,
         231.0,
         "It's a Wonderful Life (1946)",
         5.0,
         8.91628278E8
        ],
        [
         115.0,
         92.0,
         496.0,
         231.0,
         "It's a Wonderful Life (1946)",
         1.0,
         8.81171203E8
        ],
        [
         379.0,
         196.0,
         496.0,
         231.0,
         "It's a Wonderful Life (1946)",
         5.0,
         8.92879481E8
        ],
        [
         42.0,
         183.0,
         496.0,
         231.0,
         "It's a Wonderful Life (1946)",
         5.0,
         8.81107718E8
        ],
        [
         339.0,
         254.0,
         496.0,
         231.0,
         "It's a Wonderful Life (1946)",
         5.0,
         8.9103232E8
        ],
        [
         360.0,
         102.0,
         496.0,
         231.0,
         "It's a Wonderful Life (1946)",
         3.0,
         8.80356092E8
        ],
        [
         221.0,
         146.0,
         496.0,
         231.0,
         "It's a Wonderful Life (1946)",
         3.0,
         8.75246146E8
        ],
        [
         406.0,
         342.0,
         496.0,
         231.0,
         "It's a Wonderful Life (1946)",
         4.0,
         8.79445378E8
        ],
        [
         175.0,
         38.0,
         496.0,
         231.0,
         "It's a Wonderful Life (1946)",
         5.0,
         8.77108098E8
        ],
        [
         389.0,
         271.0,
         496.0,
         231.0,
         "It's a Wonderful Life (1946)",
         4.0,
         8.79991218E8
        ],
        [
         130.0,
         353.0,
         496.0,
         231.0,
         "It's a Wonderful Life (1946)",
         5.0,
         8.75216593E8
        ],
        [
         275.0,
         95.0,
         496.0,
         231.0,
         "It's a Wonderful Life (1946)",
         3.0,
         8.80314031E8
        ],
        [
         312.0,
         223.0,
         496.0,
         231.0,
         "It's a Wonderful Life (1946)",
         5.0,
         8.91698664E8
        ],
        [
         51.0,
         23.0,
         496.0,
         231.0,
         "It's a Wonderful Life (1946)",
         4.0,
         8.83498655E8
        ],
        [
         291.0,
         296.0,
         496.0,
         231.0,
         "It's a Wonderful Life (1946)",
         5.0,
         8.75088191E8
        ],
        [
         114.0,
         48.0,
         496.0,
         231.0,
         "It's a Wonderful Life (1946)",
         4.0,
         8.81259994E8
        ],
        [
         10.0,
         184.0,
         496.0,
         231.0,
         "It's a Wonderful Life (1946)",
         5.0,
         8.77889005E8
        ],
        [
         299.0,
         280.0,
         496.0,
         231.0,
         "It's a Wonderful Life (1946)",
         3.0,
         8.78192154E8
        ],
        [
         276.0,
         518.0,
         496.0,
         231.0,
         "It's a Wonderful Life (1946)",
         4.0,
         8.82659476E8
        ],
        [
         298.0,
         127.0,
         496.0,
         231.0,
         "It's a Wonderful Life (1946)",
         5.0,
         8.84127603E8
        ],
        [
         274.0,
         71.0,
         496.0,
         231.0,
         "It's a Wonderful Life (1946)",
         5.0,
         8.78946473E8
        ],
        [
         189.0,
         187.0,
         496.0,
         231.0,
         "It's a Wonderful Life (1946)",
         5.0,
         8.9326538E8
        ],
        [
         326.0,
         187.0,
         496.0,
         231.0,
         "It's a Wonderful Life (1946)",
         5.0,
         8.79874825E8
        ],
        [
         75.0,
         79.0,
         496.0,
         231.0,
         "It's a Wonderful Life (1946)",
         5.0,
         8.84051921E8
        ],
        [
         301.0,
         275.0,
         496.0,
         231.0,
         "It's a Wonderful Life (1946)",
         5.0,
         8.82075743E8
        ],
        [
         195.0,
         96.0,
         496.0,
         231.0,
         "It's a Wonderful Life (1946)",
         4.0,
         8.88737525E8
        ],
        [
         59.0,
         382.0,
         496.0,
         231.0,
         "It's a Wonderful Life (1946)",
         4.0,
         8.88205144E8
        ],
        [
         293.0,
         388.0,
         496.0,
         231.0,
         "It's a Wonderful Life (1946)",
         5.0,
         8.8890584E8
        ],
        [
         321.0,
         125.0,
         496.0,
         231.0,
         "It's a Wonderful Life (1946)",
         4.0,
         8.79438607E8
        ],
        [
         138.0,
         51.0,
         496.0,
         231.0,
         "It's a Wonderful Life (1946)",
         4.0,
         8.79024043E8
        ],
        [
         18.0,
         277.0,
         496.0,
         231.0,
         "It's a Wonderful Life (1946)",
         5.0,
         8.8013047E8
        ],
        [
         124.0,
         24.0,
         496.0,
         231.0,
         "It's a Wonderful Life (1946)",
         1.0,
         8.90286933E8
        ],
        [
         250.0,
         122.0,
         496.0,
         231.0,
         "It's a Wonderful Life (1946)",
         4.0,
         8.78090499E8
        ],
        [
         939.0,
         49.0,
         471.0,
         221.0,
         "Courage Under Fire (1996)",
         5.0,
         8.80261254E8
        ],
        [
         924.0,
         82.0,
         471.0,
         221.0,
         "Courage Under Fire (1996)",
         4.0,
         8.84371635E8
        ],
        [
         201.0,
         386.0,
         471.0,
         221.0,
         "Courage Under Fire (1996)",
         2.0,
         8.84140637E8
        ],
        [
         758.0,
         357.0,
         471.0,
         221.0,
         "Courage Under Fire (1996)",
         3.0,
         8.81975472E8
        ],
        [
         865.0,
         66.0,
         471.0,
         221.0,
         "Courage Under Fire (1996)",
         1.0,
         8.80143612E8
        ],
        [
         940.0,
         107.0,
         471.0,
         221.0,
         "Courage Under Fire (1996)",
         4.0,
         8.85921628E8
        ],
        [
         705.0,
         114.0,
         471.0,
         221.0,
         "Courage Under Fire (1996)",
         5.0,
         8.83427339E8
        ],
        [
         630.0,
         108.0,
         471.0,
         221.0,
         "Courage Under Fire (1996)",
         4.0,
         8.85666955E8
        ],
        [
         548.0,
         155.0,
         471.0,
         221.0,
         "Courage Under Fire (1996)",
         5.0,
         8.91415709E8
        ],
        [
         459.0,
         118.0,
         471.0,
         221.0,
         "Courage Under Fire (1996)",
         3.0,
         8.79562659E8
        ],
        [
         524.0,
         306.0,
         471.0,
         221.0,
         "Courage Under Fire (1996)",
         4.0,
         8.84322169E8
        ],
        [
         374.0,
         274.0,
         471.0,
         221.0,
         "Courage Under Fire (1996)",
         4.0,
         8.80393056E8
        ],
        [
         119.0,
         181.0,
         471.0,
         221.0,
         "Courage Under Fire (1996)",
         4.0,
         8.86177338E8
        ],
        [
         844.0,
         81.0,
         471.0,
         221.0,
         "Courage Under Fire (1996)",
         3.0,
         8.77381736E8
        ],
        [
         887.0,
         171.0,
         471.0,
         221.0,
         "Courage Under Fire (1996)",
         3.0,
         8.81377972E8
        ],
        [
         661.0,
         121.0,
         471.0,
         221.0,
         "Courage Under Fire (1996)",
         4.0,
         8.76037167E8
        ],
        [
         360.0,
         102.0,
         471.0,
         221.0,
         "Courage Under Fire (1996)",
         4.0,
         8.80355177E8
        ],
        [
         655.0,
         685.0,
         471.0,
         221.0,
         "Courage Under Fire (1996)",
         3.0,
         8.87611594E8
        ],
        [
         665.0,
         142.0,
         471.0,
         221.0,
         "Courage Under Fire (1996)",
         3.0,
         8.84292009E8
        ],
        [
         854.0,
         217.0,
         471.0,
         221.0,
         "Courage Under Fire (1996)",
         2.0,
         8.82812928E8
        ],
        [
         26.0,
         107.0,
         471.0,
         221.0,
         "Courage Under Fire (1996)",
         2.0,
         8.91371676E8
        ],
        [
         931.0,
         61.0,
         471.0,
         221.0,
         "Courage Under Fire (1996)",
         3.0,
         8.91036506E8
        ],
        [
         927.0,
         120.0,
         471.0,
         221.0,
         "Courage Under Fire (1996)",
         4.0,
         8.79193906E8
        ],
        [
         104.0,
         111.0,
         471.0,
         221.0,
         "Courage Under Fire (1996)",
         3.0,
         8.8846529E8
        ],
        [
         328.0,
         283.0,
         471.0,
         221.0,
         "Courage Under Fire (1996)",
         3.0,
         8.85048004E8
        ],
        [
         733.0,
         107.0,
         471.0,
         221.0,
         "Courage Under Fire (1996)",
         3.0,
         8.79535814E8
        ],
        [
         905.0,
         40.0,
         471.0,
         221.0,
         "Courage Under Fire (1996)",
         4.0,
         8.84983952E8
        ],
        [
         907.0,
         147.0,
         471.0,
         221.0,
         "Courage Under Fire (1996)",
         5.0,
         8.80159059E8
        ],
        [
         537.0,
         490.0,
         471.0,
         221.0,
         "Courage Under Fire (1996)",
         3.0,
         8.86030012E8
        ],
        [
         821.0,
         62.0,
         471.0,
         221.0,
         "Courage Under Fire (1996)",
         4.0,
         8.74792752E8
        ],
        [
         576.0,
         36.0,
         471.0,
         221.0,
         "Courage Under Fire (1996)",
         4.0,
         8.86986237E8
        ],
        [
         906.0,
         41.0,
         471.0,
         221.0,
         "Courage Under Fire (1996)",
         3.0,
         8.79435415E8
        ],
        [
         728.0,
         26.0,
         471.0,
         221.0,
         "Courage Under Fire (1996)",
         4.0,
         8.79443291E8
        ],
        [
         373.0,
         233.0,
         471.0,
         221.0,
         "Courage Under Fire (1996)",
         3.0,
         8.77100458E8
        ],
        [
         653.0,
         283.0,
         471.0,
         221.0,
         "Courage Under Fire (1996)",
         2.0,
         8.8440556E8
        ],
        [
         938.0,
         108.0,
         471.0,
         221.0,
         "Courage Under Fire (1996)",
         3.0,
         8.91356413E8
        ],
        [
         479.0,
         202.0,
         471.0,
         221.0,
         "Courage Under Fire (1996)",
         4.0,
         8.79460028E8
        ],
        [
         569.0,
         70.0,
         471.0,
         221.0,
         "Courage Under Fire (1996)",
         3.0,
         8.79793466E8
        ],
        [
         65.0,
         80.0,
         471.0,
         221.0,
         "Courage Under Fire (1996)",
         4.0,
         8.79217434E8
        ],
        [
         592.0,
         360.0,
         471.0,
         221.0,
         "Courage Under Fire (1996)",
         4.0,
         8.82608234E8
        ],
        [
         540.0,
         63.0,
         471.0,
         221.0,
         "Courage Under Fire (1996)",
         4.0,
         8.82157706E8
        ],
        [
         447.0,
         139.0,
         471.0,
         221.0,
         "Courage Under Fire (1996)",
         4.0,
         8.7885434E8
        ],
        [
         699.0,
         149.0,
         471.0,
         221.0,
         "Courage Under Fire (1996)",
         3.0,
         8.79147597E8
        ],
        [
         759.0,
         32.0,
         471.0,
         221.0,
         "Courage Under Fire (1996)",
         4.0,
         8.81476969E8
        ],
        [
         889.0,
         326.0,
         471.0,
         221.0,
         "Courage Under Fire (1996)",
         3.0,
         8.80176926E8
        ],
        [
         933.0,
         184.0,
         471.0,
         221.0,
         "Courage Under Fire (1996)",
         3.0,
         8.74854611E8
        ],
        [
         484.0,
         139.0,
         471.0,
         221.0,
         "Courage Under Fire (1996)",
         4.0,
         8.81449737E8
        ],
        [
         178.0,
         273.0,
         471.0,
         221.0,
         "Courage Under Fire (1996)",
         4.0,
         8.8282393E8
        ],
        [
         896.0,
         362.0,
         471.0,
         221.0,
         "Courage Under Fire (1996)",
         3.0,
         8.87159972E8
        ],
        [
         715.0,
         167.0,
         471.0,
         221.0,
         "Courage Under Fire (1996)",
         4.0,
         8.75962202E8
        ],
        [
         727.0,
         322.0,
         471.0,
         221.0,
         "Courage Under Fire (1996)",
         3.0,
         8.83709188E8
        ],
        [
         693.0,
         154.0,
         471.0,
         221.0,
         "Courage Under Fire (1996)",
         3.0,
         8.75482653E8
        ],
        [
         535.0,
         218.0,
         471.0,
         221.0,
         "Courage Under Fire (1996)",
         4.0,
         8.79618743E8
        ],
        [
         714.0,
         44.0,
         471.0,
         221.0,
         "Courage Under Fire (1996)",
         4.0,
         8.92777903E8
        ],
        [
         922.0,
         127.0,
         471.0,
         221.0,
         "Courage Under Fire (1996)",
         3.0,
         8.91453501E8
        ],
        [
         894.0,
         245.0,
         471.0,
         221.0,
         "Courage Under Fire (1996)",
         4.0,
         8.80416314E8
        ],
        [
         658.0,
         71.0,
         471.0,
         221.0,
         "Courage Under Fire (1996)",
         4.0,
         8.75145879E8
        ],
        [
         454.0,
         236.0,
         471.0,
         221.0,
         "Courage Under Fire (1996)",
         3.0,
         8.81960445E8
        ],
        [
         919.0,
         217.0,
         471.0,
         221.0,
         "Courage Under Fire (1996)",
         3.0,
         8.75289638E8
        ],
        [
         864.0,
         294.0,
         471.0,
         221.0,
         "Courage Under Fire (1996)",
         5.0,
         8.88888862E8
        ],
        [
         870.0,
         269.0,
         471.0,
         221.0,
         "Courage Under Fire (1996)",
         4.0,
         8.85071869E8
        ],
        [
         899.0,
         135.0,
         471.0,
         221.0,
         "Courage Under Fire (1996)",
         4.0,
         8.84120007E8
        ],
        [
         943.0,
         168.0,
         471.0,
         221.0,
         "Courage Under Fire (1996)",
         5.0,
         8.75502042E8
        ],
        [
         900.0,
         45.0,
         471.0,
         221.0,
         "Courage Under Fire (1996)",
         2.0,
         8.77833259E8
        ],
        [
         649.0,
         24.0,
         471.0,
         221.0,
         "Courage Under Fire (1996)",
         5.0,
         8.91440412E8
        ],
        [
         880.0,
         368.0,
         471.0,
         221.0,
         "Courage Under Fire (1996)",
         4.0,
         8.80167114E8
        ],
        [
         474.0,
         327.0,
         471.0,
         221.0,
         "Courage Under Fire (1996)",
         3.0,
         8.87915307E8
        ],
        [
         757.0,
         166.0,
         471.0,
         221.0,
         "Courage Under Fire (1996)",
         4.0,
         8.88444738E8
        ],
        [
         893.0,
         59.0,
         471.0,
         221.0,
         "Courage Under Fire (1996)",
         4.0,
         8.74828897E8
        ],
        [
         921.0,
         110.0,
         471.0,
         221.0,
         "Courage Under Fire (1996)",
         2.0,
         8.79379821E8
        ],
        [
         332.0,
         183.0,
         471.0,
         221.0,
         "Courage Under Fire (1996)",
         4.0,
         8.87938351E8
        ],
        [
         722.0,
         42.0,
         471.0,
         221.0,
         "Courage Under Fire (1996)",
         4.0,
         8.9128102E8
        ],
        [
         768.0,
         64.0,
         471.0,
         221.0,
         "Courage Under Fire (1996)",
         3.0,
         8.80135875E8
        ],
        [
         935.0,
         39.0,
         471.0,
         221.0,
         "Courage Under Fire (1996)",
         4.0,
         8.84472352E8
        ],
        [
         917.0,
         35.0,
         471.0,
         221.0,
         "Courage Under Fire (1996)",
         4.0,
         8.82911099E8
        ],
        [
         891.0,
         47.0,
         471.0,
         221.0,
         "Courage Under Fire (1996)",
         5.0,
         8.91639941E8
        ],
        [
         130.0,
         353.0,
         471.0,
         221.0,
         "Courage Under Fire (1996)",
         2.0,
         8.74953928E8
        ],
        [
         605.0,
         90.0,
         471.0,
         221.0,
         "Courage Under Fire (1996)",
         3.0,
         8.79365748E8
        ],
        [
         682.0,
         399.0,
         471.0,
         221.0,
         "Courage Under Fire (1996)",
         3.0,
         8.88517537E8
        ],
        [
         882.0,
         137.0,
         471.0,
         221.0,
         "Courage Under Fire (1996)",
         4.0,
         8.79861562E8
        ],
        [
         788.0,
         249.0,
         471.0,
         221.0,
         "Courage Under Fire (1996)",
         3.0,
         8.80869862E8
        ],
        [
         706.0,
         29.0,
         471.0,
         221.0,
         "Courage Under Fire (1996)",
         4.0,
         8.80997172E8
        ],
        [
         401.0,
         153.0,
         471.0,
         221.0,
         "Courage Under Fire (1996)",
         4.0,
         8.91032495E8
        ],
        [
         761.0,
         66.0,
         471.0,
         221.0,
         "Courage Under Fire (1996)",
         3.0,
         8.76190336E8
        ],
        [
         627.0,
         181.0,
         471.0,
         221.0,
         "Courage Under Fire (1996)",
         3.0,
         8.79530463E8
        ],
        [
         676.0,
         77.0,
         471.0,
         221.0,
         "Courage Under Fire (1996)",
         3.0,
         8.92686273E8
        ],
        [
         505.0,
         112.0,
         471.0,
         221.0,
         "Courage Under Fire (1996)",
         4.0,
         8.89333392E8
        ],
        [
         468.0,
         143.0,
         471.0,
         221.0,
         "Courage Under Fire (1996)",
         3.0,
         8.75279269E8
        ],
        [
         593.0,
         156.0,
         471.0,
         221.0,
         "Courage Under Fire (1996)",
         3.0,
         8.75659826E8
        ],
        [
         308.0,
         397.0,
         471.0,
         221.0,
         "Courage Under Fire (1996)",
         3.0,
         8.87739382E8
        ],
        [
         792.0,
         47.0,
         471.0,
         221.0,
         "Courage Under Fire (1996)",
         4.0,
         8.77910822E8
        ],
        [
         721.0,
         168.0,
         471.0,
         221.0,
         "Courage Under Fire (1996)",
         5.0,
         8.771382E8
        ],
        [
         815.0,
         183.0,
         471.0,
         221.0,
         "Courage Under Fire (1996)",
         2.0,
         8.78692149E8
        ],
        [
         823.0,
         185.0,
         471.0,
         221.0,
         "Courage Under Fire (1996)",
         3.0,
         8.78438608E8
        ],
        [
         618.0,
         216.0,
         471.0,
         221.0,
         "Courage Under Fire (1996)",
         3.0,
         8.91309041E8
        ],
        [
         832.0,
         25.0,
         471.0,
         221.0,
         "Courage Under Fire (1996)",
         4.0,
         8.88260089E8
        ],
        [
         606.0,
         236.0,
         471.0,
         221.0,
         "Courage Under Fire (1996)",
         4.0,
         8.78146986E8
        ],
        [
         391.0,
         121.0,
         471.0,
         221.0,
         "Courage Under Fire (1996)",
         2.0,
         8.77399864E8
        ],
        [
         703.0,
         47.0,
         471.0,
         221.0,
         "Courage Under Fire (1996)",
         4.0,
         8.75242885E8
        ],
        [
         533.0,
         260.0,
         471.0,
         221.0,
         "Courage Under Fire (1996)",
         4.0,
         8.8290233E8
        ],
        [
         718.0,
         39.0,
         471.0,
         221.0,
         "Courage Under Fire (1996)",
         5.0,
         8.83348634E8
        ],
        [
         717.0,
         93.0,
         471.0,
         221.0,
         "Courage Under Fire (1996)",
         4.0,
         8.84642427E8
        ],
        [
         666.0,
         245.0,
         471.0,
         221.0,
         "Courage Under Fire (1996)",
         4.0,
         8.80313423E8
        ],
        [
         588.0,
         225.0,
         471.0,
         221.0,
         "Courage Under Fire (1996)",
         5.0,
         8.90024289E8
        ],
        [
         164.0,
         63.0,
         471.0,
         221.0,
         "Courage Under Fire (1996)",
         5.0,
         8.89402245E8
        ],
        [
         677.0,
         49.0,
         471.0,
         221.0,
         "Courage Under Fire (1996)",
         4.0,
         8.89399171E8
        ],
        [
         807.0,
         204.0,
         471.0,
         221.0,
         "Courage Under Fire (1996)",
         4.0,
         8.92775416E8
        ],
        [
         396.0,
         54.0,
         471.0,
         221.0,
         "Courage Under Fire (1996)",
         4.0,
         8.84646263E8
        ],
        [
         57.0,
         106.0,
         471.0,
         221.0,
         "Courage Under Fire (1996)",
         4.0,
         8.83697134E8
        ],
        [
         779.0,
         37.0,
         471.0,
         221.0,
         "Courage Under Fire (1996)",
         4.0,
         8.75993165E8
        ],
        [
         500.0,
         225.0,
         471.0,
         221.0,
         "Courage Under Fire (1996)",
         4.0,
         8.83865391E8
        ],
        [
         251.0,
         77.0,
         471.0,
         221.0,
         "Courage Under Fire (1996)",
         3.0,
         8.86272319E8
        ],
        [
         158.0,
         173.0,
         471.0,
         221.0,
         "Courage Under Fire (1996)",
         4.0,
         8.80132513E8
        ],
        [
         256.0,
         207.0,
         471.0,
         221.0,
         "Courage Under Fire (1996)",
         5.0,
         8.82150644E8
        ],
        [
         786.0,
         117.0,
         471.0,
         221.0,
         "Courage Under Fire (1996)",
         4.0,
         8.82842311E8
        ],
        [
         280.0,
         258.0,
         471.0,
         221.0,
         "Courage Under Fire (1996)",
         3.0,
         8.91700553E8
        ],
        [
         434.0,
         44.0,
         471.0,
         221.0,
         "Courage Under Fire (1996)",
         2.0,
         8.86724797E8
        ],
        [
         470.0,
         57.0,
         471.0,
         221.0,
         "Courage Under Fire (1996)",
         5.0,
         8.79178593E8
        ],
        [
         639.0,
         148.0,
         471.0,
         221.0,
         "Courage Under Fire (1996)",
         2.0,
         8.91239349E8
        ],
        [
         716.0,
         269.0,
         471.0,
         221.0,
         "Courage Under Fire (1996)",
         2.0,
         8.79795375E8
        ],
        [
         689.0,
         36.0,
         471.0,
         221.0,
         "Courage Under Fire (1996)",
         4.0,
         8.76676433E8
        ],
        [
         402.0,
         68.0,
         471.0,
         221.0,
         "Courage Under Fire (1996)",
         4.0,
         8.76267041E8
        ],
        [
         17.0,
         28.0,
         471.0,
         221.0,
         "Courage Under Fire (1996)",
         2.0,
         8.85272779E8
        ],
        [
         708.0,
         105.0,
         471.0,
         221.0,
         "Courage Under Fire (1996)",
         4.0,
         8.77325455E8
        ],
        [
         648.0,
         297.0,
         471.0,
         221.0,
         "Courage Under Fire (1996)",
         4.0,
         8.82211685E8
        ],
        [
         432.0,
         62.0,
         471.0,
         221.0,
         "Courage Under Fire (1996)",
         3.0,
         8.89416229E8
        ],
        [
         580.0,
         47.0,
         471.0,
         221.0,
         "Courage Under Fire (1996)",
         3.0,
         8.84125018E8
        ],
        [
         450.0,
         540.0,
         471.0,
         221.0,
         "Courage Under Fire (1996)",
         4.0,
         8.82396153E8
        ],
        [
         663.0,
         158.0,
         471.0,
         221.0,
         "Courage Under Fire (1996)",
         3.0,
         8.89492841E8
        ],
        [
         277.0,
         54.0,
         471.0,
         221.0,
         "Courage Under Fire (1996)",
         3.0,
         8.79543377E8
        ],
        [
         543.0,
         197.0,
         471.0,
         221.0,
         "Courage Under Fire (1996)",
         3.0,
         8.75657863E8
        ],
        [
         613.0,
         28.0,
         471.0,
         221.0,
         "Courage Under Fire (1996)",
         3.0,
         8.9122741E8
        ],
        [
         389.0,
         271.0,
         471.0,
         221.0,
         "Courage Under Fire (1996)",
         4.0,
         8.79916077E8
        ],
        [
         637.0,
         104.0,
         471.0,
         221.0,
         "Courage Under Fire (1996)",
         2.0,
         8.82903822E8
        ],
        [
         455.0,
         189.0,
         471.0,
         221.0,
         "Courage Under Fire (1996)",
         4.0,
         8.79109692E8
        ],
        [
         416.0,
         493.0,
         471.0,
         221.0,
         "Courage Under Fire (1996)",
         5.0,
         8.93213645E8
        ],
        [
         413.0,
         50.0,
         471.0,
         221.0,
         "Courage Under Fire (1996)",
         4.0,
         8.79969642E8
        ],
        [
         634.0,
         135.0,
         471.0,
         221.0,
         "Courage Under Fire (1996)",
         4.0,
         8.75729478E8
        ],
        [
         487.0,
         231.0,
         471.0,
         221.0,
         "Courage Under Fire (1996)",
         3.0,
         8.83441956E8
        ],
        [
         423.0,
         64.0,
         471.0,
         221.0,
         "Courage Under Fire (1996)",
         3.0,
         8.91395626E8
        ],
        [
         72.0,
         137.0,
         471.0,
         221.0,
         "Courage Under Fire (1996)",
         4.0,
         8.80035588E8
        ],
        [
         13.0,
         636.0,
         471.0,
         221.0,
         "Courage Under Fire (1996)",
         1.0,
         8.82140455E8
        ],
        [
         518.0,
         73.0,
         471.0,
         221.0,
         "Courage Under Fire (1996)",
         3.0,
         8.76822873E8
        ],
        [
         207.0,
         230.0,
         471.0,
         221.0,
         "Courage Under Fire (1996)",
         3.0,
         8.75509715E8
        ],
        [
         231.0,
         21.0,
         471.0,
         221.0,
         "Courage Under Fire (1996)",
         5.0,
         8.88605273E8
        ],
        [
         534.0,
         80.0,
         471.0,
         221.0,
         "Courage Under Fire (1996)",
         5.0,
         8.77807935E8
        ],
        [
         599.0,
         47.0,
         471.0,
         221.0,
         "Courage Under Fire (1996)",
         4.0,
         8.80953441E8
        ],
        [
         438.0,
         33.0,
         471.0,
         221.0,
         "Courage Under Fire (1996)",
         4.0,
         8.79868184E8
        ],
        [
         624.0,
         141.0,
         471.0,
         221.0,
         "Courage Under Fire (1996)",
         4.0,
         8.79792493E8
        ],
        [
         551.0,
         334.0,
         471.0,
         221.0,
         "Courage Under Fire (1996)",
         5.0,
         8.92783365E8
        ],
        [
         552.0,
         84.0,
         471.0,
         221.0,
         "Courage Under Fire (1996)",
         3.0,
         8.79222306E8
        ],
        [
         128.0,
         184.0,
         471.0,
         221.0,
         "Courage Under Fire (1996)",
         4.0,
         8.79967804E8
        ],
        [
         347.0,
         199.0,
         471.0,
         221.0,
         "Courage Under Fire (1996)",
         4.0,
         8.81652518E8
        ],
        [
         349.0,
         41.0,
         471.0,
         221.0,
         "Courage Under Fire (1996)",
         3.0,
         8.79465535E8
        ],
        [
         238.0,
         29.0,
         471.0,
         221.0,
         "Courage Under Fire (1996)",
         4.0,
         8.83576359E8
        ],
        [
         343.0,
         237.0,
         471.0,
         221.0,
         "Courage Under Fire (1996)",
         4.0,
         8.76402941E8
        ],
        [
         399.0,
         319.0,
         471.0,
         221.0,
         "Courage Under Fire (1996)",
         3.0,
         8.82340719E8
        ],
        [
         99.0,
         136.0,
         471.0,
         221.0,
         "Courage Under Fire (1996)",
         4.0,
         8.85679091E8
        ],
        [
         577.0,
         188.0,
         471.0,
         221.0,
         "Courage Under Fire (1996)",
         3.0,
         8.8047164E8
        ],
        [
         249.0,
         161.0,
         471.0,
         221.0,
         "Courage Under Fire (1996)",
         4.0,
         8.79640241E8
        ],
        [
         42.0,
         183.0,
         471.0,
         221.0,
         "Courage Under Fire (1996)",
         4.0,
         8.81105505E8
        ],
        [
         453.0,
         156.0,
         471.0,
         221.0,
         "Courage Under Fire (1996)",
         4.0,
         8.88205557E8
        ],
        [
         357.0,
         76.0,
         471.0,
         221.0,
         "Courage Under Fire (1996)",
         5.0,
         8.78951498E8
        ],
        [
         190.0,
         59.0,
         471.0,
         221.0,
         "Courage Under Fire (1996)",
         5.0,
         8.91033632E8
        ],
        [
         337.0,
         34.0,
         471.0,
         221.0,
         "Courage Under Fire (1996)",
         5.0,
         8.75235809E8
        ],
        [
         457.0,
         277.0,
         471.0,
         221.0,
         "Courage Under Fire (1996)",
         4.0,
         8.82393421E8
        ],
        [
         403.0,
         50.0,
         471.0,
         221.0,
         "Courage Under Fire (1996)",
         5.0,
         8.79785822E8
        ],
        [
         54.0,
         65.0,
         471.0,
         221.0,
         "Courage Under Fire (1996)",
         4.0,
         8.80937399E8
        ],
        [
         52.0,
         56.0,
         471.0,
         221.0,
         "Courage Under Fire (1996)",
         4.0,
         8.82922562E8
        ],
        [
         486.0,
         189.0,
         471.0,
         221.0,
         "Courage Under Fire (1996)",
         5.0,
         8.79874969E8
        ],
        [
         244.0,
         238.0,
         471.0,
         221.0,
         "Courage Under Fire (1996)",
         1.0,
         8.80606874E8
        ],
        [
         298.0,
         127.0,
         471.0,
         221.0,
         "Courage Under Fire (1996)",
         4.0,
         8.84125847E8
        ],
        [
         181.0,
         435.0,
         471.0,
         221.0,
         "Courage Under Fire (1996)",
         2.0,
         8.78962919E8
        ],
        [
         108.0,
         33.0,
         471.0,
         221.0,
         "Courage Under Fire (1996)",
         2.0,
         8.79880076E8
        ],
        [
         274.0,
         71.0,
         471.0,
         221.0,
         "Courage Under Fire (1996)",
         4.0,
         8.78945505E8
        ],
        [
         83.0,
         155.0,
         471.0,
         221.0,
         "Courage Under Fire (1996)",
         3.0,
         8.91182E8
        ],
        [
         43.0,
         221.0,
         471.0,
         221.0,
         "Courage Under Fire (1996)",
         3.0,
         8.83955319E8
        ],
        [
         271.0,
         278.0,
         471.0,
         221.0,
         "Courage Under Fire (1996)",
         3.0,
         8.85847926E8
        ],
        [
         313.0,
         262.0,
         471.0,
         221.0,
         "Courage Under Fire (1996)",
         4.0,
         8.91015196E8
        ],
        [
         378.0,
         375.0,
         471.0,
         221.0,
         "Courage Under Fire (1996)",
         3.0,
         8.80057018E8
        ],
        [
         297.0,
         192.0,
         471.0,
         221.0,
         "Courage Under Fire (1996)",
         3.0,
         8.74954611E8
        ],
        [
         222.0,
         387.0,
         471.0,
         221.0,
         "Courage Under Fire (1996)",
         3.0,
         8.81060992E8
        ],
        [
         6.0,
         211.0,
         471.0,
         221.0,
         "Courage Under Fire (1996)",
         2.0,
         8.83599558E8
        ],
        [
         289.0,
         27.0,
         471.0,
         221.0,
         "Courage Under Fire (1996)",
         4.0,
         8.76789373E8
        ],
        [
         115.0,
         92.0,
         471.0,
         221.0,
         "Courage Under Fire (1996)",
         2.0,
         8.81170791E8
        ],
        [
         270.0,
         138.0,
         471.0,
         221.0,
         "Courage Under Fire (1996)",
         5.0,
         8.76954223E8
        ],
        [
         68.0,
         34.0,
         471.0,
         221.0,
         "Courage Under Fire (1996)",
         3.0,
         8.76974023E8
        ],
        [
         344.0,
         190.0,
         471.0,
         221.0,
         "Courage Under Fire (1996)",
         3.0,
         8.84899719E8
        ],
        [
         345.0,
         232.0,
         471.0,
         221.0,
         "Courage Under Fire (1996)",
         3.0,
         8.84991127E8
        ],
        [
         276.0,
         518.0,
         471.0,
         221.0,
         "Courage Under Fire (1996)",
         4.0,
         8.74786657E8
        ],
        [
         103.0,
         29.0,
         471.0,
         221.0,
         "Courage Under Fire (1996)",
         4.0,
         8.80416921E8
        ],
        [
         15.0,
         104.0,
         471.0,
         221.0,
         "Courage Under Fire (1996)",
         4.0,
         8.79456084E8
        ],
        [
         159.0,
         107.0,
         471.0,
         221.0,
         "Courage Under Fire (1996)",
         4.0,
         8.80485861E8
        ],
        [
         90.0,
         300.0,
         471.0,
         221.0,
         "Courage Under Fire (1996)",
         4.0,
         8.91385752E8
        ],
        [
         144.0,
         206.0,
         471.0,
         221.0,
         "Courage Under Fire (1996)",
         4.0,
         8.88104213E8
        ],
        [
         182.0,
         28.0,
         471.0,
         221.0,
         "Courage Under Fire (1996)",
         4.0,
         8.85613216E8
        ],
        [
         393.0,
         448.0,
         471.0,
         221.0,
         "Courage Under Fire (1996)",
         4.0,
         8.87744549E8
        ],
        [
         141.0,
         107.0,
         471.0,
         221.0,
         "Courage Under Fire (1996)",
         4.0,
         8.84585039E8
        ],
        [
         7.0,
         403.0,
         471.0,
         221.0,
         "Courage Under Fire (1996)",
         4.0,
         8.91352864E8
        ],
        [
         194.0,
         305.0,
         471.0,
         221.0,
         "Courage Under Fire (1996)",
         3.0,
         8.79540807E8
        ],
        [
         66.0,
         38.0,
         471.0,
         221.0,
         "Courage Under Fire (1996)",
         5.0,
         8.83601296E8
        ],
        [
         92.0,
         388.0,
         471.0,
         221.0,
         "Courage Under Fire (1996)",
         4.0,
         8.75640385E8
        ],
        [
         294.0,
         150.0,
         471.0,
         221.0,
         "Courage Under Fire (1996)",
         4.0,
         8.77820189E8
        ],
        [
         95.0,
         278.0,
         471.0,
         221.0,
         "Courage Under Fire (1996)",
         5.0,
         8.84266051E8
        ],
        [
         145.0,
         316.0,
         471.0,
         221.0,
         "Courage Under Fire (1996)",
         4.0,
         8.85622707E8
        ],
        [
         232.0,
         93.0,
         471.0,
         221.0,
         "Courage Under Fire (1996)",
         3.0,
         8.80062414E8
        ],
        [
         12.0,
         51.0,
         471.0,
         221.0,
         "Courage Under Fire (1996)",
         5.0,
         8.7995967E8
        ],
        [
         311.0,
         294.0,
         471.0,
         221.0,
         "Courage Under Fire (1996)",
         4.0,
         8.84963254E8
        ],
        [
         234.0,
         480.0,
         471.0,
         221.0,
         "Courage Under Fire (1996)",
         3.0,
         8.92335074E8
        ],
        [
         324.0,
         66.0,
         471.0,
         221.0,
         "Courage Under Fire (1996)",
         5.0,
         8.80575412E8
        ],
        [
         81.0,
         58.0,
         471.0,
         221.0,
         "Courage Under Fire (1996)",
         3.0,
         8.76533586E8
        ],
        [
         213.0,
         126.0,
         471.0,
         221.0,
         "Courage Under Fire (1996)",
         3.0,
         8.78870816E8
        ],
        [
         174.0,
         177.0,
         471.0,
         221.0,
         "Courage Under Fire (1996)",
         5.0,
         8.86433804E8
        ],
        [
         291.0,
         296.0,
         471.0,
         221.0,
         "Courage Under Fire (1996)",
         4.0,
         8.74833746E8
        ],
        [
         16.0,
         140.0,
         471.0,
         221.0,
         "Courage Under Fire (1996)",
         3.0,
         8.77724845E8
        ],
        [
         101.0,
         67.0,
         471.0,
         221.0,
         "Courage Under Fire (1996)",
         3.0,
         8.77136535E8
        ],
        [
         265.0,
         46.0,
         471.0,
         221.0,
         "Courage Under Fire (1996)",
         4.0,
         8.75320302E8
        ],
        [
         94.0,
         400.0,
         471.0,
         221.0,
         "Courage Under Fire (1996)",
         4.0,
         8.91721642E8
        ],
        [
         203.0,
         43.0,
         471.0,
         221.0,
         "Courage Under Fire (1996)",
         4.0,
         8.80434463E8
        ],
        [
         305.0,
         222.0,
         471.0,
         221.0,
         "Courage Under Fire (1996)",
         4.0,
         8.86323648E8
        ],
        [
         293.0,
         388.0,
         471.0,
         221.0,
         "Courage Under Fire (1996)",
         3.0,
         8.88904884E8
        ],
        [
         884.0,
         43.0,
         463.0,
         71.0,
         "Secret of Roan Inish, The (1994)",
         5.0,
         8.7685907E8
        ],
        [
         878.0,
         134.0,
         463.0,
         71.0,
         "Secret of Roan Inish, The (1994)",
         2.0,
         8.80866177E8
        ],
        [
         828.0,
         104.0,
         463.0,
         71.0,
         "Secret of Roan Inish, The (1994)",
         2.0,
         8.91036717E8
        ],
        [
         861.0,
         43.0,
         463.0,
         71.0,
         "Secret of Roan Inish, The (1994)",
         3.0,
         8.81274698E8
        ],
        [
         894.0,
         245.0,
         463.0,
         71.0,
         "Secret of Roan Inish, The (1994)",
         4.0,
         8.8240443E8
        ],
        [
         840.0,
         197.0,
         463.0,
         71.0,
         "Secret of Roan Inish, The (1994)",
         5.0,
         8.91205287E8
        ],
        [
         846.0,
         405.0,
         463.0,
         71.0,
         "Secret of Roan Inish, The (1994)",
         5.0,
         8.83948222E8
        ],
        [
         877.0,
         81.0,
         463.0,
         71.0,
         "Secret of Roan Inish, The (1994)",
         4.0,
         8.82677311E8
        ],
        [
         588.0,
         225.0,
         463.0,
         71.0,
         "Secret of Roan Inish, The (1994)",
         4.0,
         8.90023879E8
        ],
        [
         537.0,
         490.0,
         463.0,
         71.0,
         "Secret of Roan Inish, The (1994)",
         3.0,
         8.86030738E8
        ],
        [
         592.0,
         360.0,
         463.0,
         71.0,
         "Secret of Roan Inish, The (1994)",
         4.0,
         8.82956321E8
        ],
        [
         106.0,
         64.0,
         463.0,
         71.0,
         "Secret of Roan Inish, The (1994)",
         3.0,
         8.81453413E8
        ],
        [
         344.0,
         190.0,
         463.0,
         71.0,
         "Secret of Roan Inish, The (1994)",
         4.0,
         8.8490121E8
        ],
        [
         883.0,
         268.0,
         463.0,
         71.0,
         "Secret of Roan Inish, The (1994)",
         3.0,
         8.91693058E8
        ],
        [
         455.0,
         189.0,
         463.0,
         71.0,
         "Secret of Roan Inish, The (1994)",
         4.0,
         8.79111737E8
        ],
        [
         239.0,
         159.0,
         463.0,
         71.0,
         "Secret of Roan Inish, The (1994)",
         5.0,
         8.89178689E8
        ],
        [
         235.0,
         94.0,
         463.0,
         71.0,
         "Secret of Roan Inish, The (1994)",
         4.0,
         8.89656008E8
        ],
        [
         454.0,
         236.0,
         463.0,
         71.0,
         "Secret of Roan Inish, The (1994)",
         2.0,
         8.8826756E8
        ],
        [
         64.0,
         200.0,
         463.0,
         71.0,
         "Secret of Roan Inish, The (1994)",
         4.0,
         8.89739212E8
        ],
        [
         543.0,
         197.0,
         463.0,
         71.0,
         "Secret of Roan Inish, The (1994)",
         3.0,
         8.74864034E8
        ],
        [
         854.0,
         217.0,
         463.0,
         71.0,
         "Secret of Roan Inish, The (1994)",
         3.0,
         8.82814395E8
        ],
        [
         747.0,
         293.0,
         463.0,
         71.0,
         "Secret of Roan Inish, The (1994)",
         3.0,
         8.88732695E8
        ],
        [
         675.0,
         34.0,
         463.0,
         71.0,
         "Secret of Roan Inish, The (1994)",
         5.0,
         8.89489003E8
        ],
        [
         899.0,
         135.0,
         463.0,
         71.0,
         "Secret of Roan Inish, The (1994)",
         4.0,
         8.84121342E8
        ],
        [
         503.0,
         160.0,
         463.0,
         71.0,
         "Secret of Roan Inish, The (1994)",
         1.0,
         8.80383126E8
        ],
        [
         7.0,
         403.0,
         463.0,
         71.0,
         "Secret of Roan Inish, The (1994)",
         4.0,
         8.91353192E8
        ],
        [
         798.0,
         239.0,
         463.0,
         71.0,
         "Secret of Roan Inish, The (1994)",
         3.0,
         8.76175467E8
        ],
        [
         393.0,
         448.0,
         463.0,
         71.0,
         "Secret of Roan Inish, The (1994)",
         4.0,
         8.89555225E8
        ],
        [
         392.0,
         111.0,
         463.0,
         71.0,
         "Secret of Roan Inish, The (1994)",
         3.0,
         8.91038946E8
        ],
        [
         642.0,
         318.0,
         463.0,
         71.0,
         "Secret of Roan Inish, The (1994)",
         3.0,
         8.85602232E8
        ],
        [
         172.0,
         27.0,
         463.0,
         71.0,
         "Secret of Roan Inish, The (1994)",
         4.0,
         8.75537502E8
        ],
        [
         25.0,
         78.0,
         463.0,
         71.0,
         "Secret of Roan Inish, The (1994)",
         4.0,
         8.85852529E8
        ],
        [
         711.0,
         221.0,
         463.0,
         71.0,
         "Secret of Roan Inish, The (1994)",
         5.0,
         8.79993959E8
        ],
        [
         416.0,
         493.0,
         463.0,
         71.0,
         "Secret of Roan Inish, The (1994)",
         4.0,
         8.86316703E8
        ],
        [
         62.0,
         232.0,
         463.0,
         71.0,
         "Secret of Roan Inish, The (1994)",
         4.0,
         8.79374916E8
        ],
        [
         629.0,
         121.0,
         463.0,
         71.0,
         "Secret of Roan Inish, The (1994)",
         4.0,
         8.80117852E8
        ],
        [
         52.0,
         56.0,
         463.0,
         71.0,
         "Secret of Roan Inish, The (1994)",
         5.0,
         8.82922927E8
        ],
        [
         213.0,
         126.0,
         463.0,
         71.0,
         "Secret of Roan Inish, The (1994)",
         5.0,
         8.78956E8
        ],
        [
         437.0,
         263.0,
         463.0,
         71.0,
         "Secret of Roan Inish, The (1994)",
         5.0,
         8.80141008E8
        ],
        [
         151.0,
         307.0,
         463.0,
         71.0,
         "Secret of Roan Inish, The (1994)",
         5.0,
         8.79525002E8
        ],
        [
         585.0,
         80.0,
         463.0,
         71.0,
         "Secret of Roan Inish, The (1994)",
         5.0,
         8.91284816E8
        ],
        [
         374.0,
         274.0,
         463.0,
         71.0,
         "Secret of Roan Inish, The (1994)",
         1.0,
         8.80396511E8
        ],
        [
         474.0,
         327.0,
         463.0,
         71.0,
         "Secret of Roan Inish, The (1994)",
         5.0,
         8.87927457E8
        ],
        [
         293.0,
         388.0,
         463.0,
         71.0,
         "Secret of Roan Inish, The (1994)",
         4.0,
         8.88906619E8
        ],
        [
         479.0,
         202.0,
         463.0,
         71.0,
         "Secret of Roan Inish, The (1994)",
         4.0,
         8.79460984E8
        ],
        [
         234.0,
         480.0,
         463.0,
         71.0,
         "Secret of Roan Inish, The (1994)",
         4.0,
         8.92333865E8
        ],
        [
         321.0,
         125.0,
         463.0,
         71.0,
         "Secret of Roan Inish, The (1994)",
         3.0,
         8.79440393E8
        ],
        [
         506.0,
         242.0,
         463.0,
         71.0,
         "Secret of Roan Inish, The (1994)",
         3.0,
         8.74873157E8
        ],
        [
         142.0,
         33.0,
         463.0,
         71.0,
         "Secret of Roan Inish, The (1994)",
         3.0,
         8.88640489E8
        ],
        [
         58.0,
         154.0,
         463.0,
         71.0,
         "Secret of Roan Inish, The (1994)",
         3.0,
         8.84305241E8
        ],
        [
         499.0,
         102.0,
         463.0,
         71.0,
         "Secret of Roan Inish, The (1994)",
         5.0,
         8.85599498E8
        ],
        [
         380.0,
         162.0,
         463.0,
         71.0,
         "Secret of Roan Inish, The (1994)",
         4.0,
         8.85479372E8
        ],
        [
         95.0,
         278.0,
         463.0,
         71.0,
         "Secret of Roan Inish, The (1994)",
         5.0,
         8.80573287E8
        ],
        [
         484.0,
         139.0,
         463.0,
         71.0,
         "Secret of Roan Inish, The (1994)",
         4.0,
         8.82807416E8
        ],
        [
         312.0,
         223.0,
         463.0,
         71.0,
         "Secret of Roan Inish, The (1994)",
         5.0,
         8.91698696E8
        ],
        [
         13.0,
         636.0,
         463.0,
         71.0,
         "Secret of Roan Inish, The (1994)",
         5.0,
         8.82140318E8
        ],
        [
         387.0,
         304.0,
         463.0,
         71.0,
         "Secret of Roan Inish, The (1994)",
         4.0,
         8.86483526E8
        ],
        [
         343.0,
         237.0,
         463.0,
         71.0,
         "Secret of Roan Inish, The (1994)",
         4.0,
         8.76404793E8
        ],
        [
         405.0,
         737.0,
         463.0,
         71.0,
         "Secret of Roan Inish, The (1994)",
         1.0,
         8.85548836E8
        ],
        [
         316.0,
         75.0,
         463.0,
         71.0,
         "Secret of Roan Inish, The (1994)",
         5.0,
         8.80854267E8
        ],
        [
         406.0,
         342.0,
         463.0,
         71.0,
         "Secret of Roan Inish, The (1994)",
         5.0,
         8.79793261E8
        ],
        [
         92.0,
         388.0,
         463.0,
         71.0,
         "Secret of Roan Inish, The (1994)",
         4.0,
         8.75656623E8
        ],
        [
         160.0,
         120.0,
         463.0,
         71.0,
         "Secret of Roan Inish, The (1994)",
         4.0,
         8.76859777E8
        ],
        [
         308.0,
         397.0,
         463.0,
         71.0,
         "Secret of Roan Inish, The (1994)",
         4.0,
         8.87738057E8
        ],
        [
         18.0,
         277.0,
         463.0,
         71.0,
         "Secret of Roan Inish, The (1994)",
         4.0,
         8.80131143E8
        ],
        [
         307.0,
         112.0,
         463.0,
         71.0,
         "Secret of Roan Inish, The (1994)",
         5.0,
         8.79283786E8
        ],
        [
         354.0,
         233.0,
         463.0,
         71.0,
         "Secret of Roan Inish, The (1994)",
         4.0,
         8.91217575E8
        ],
        [
         276.0,
         518.0,
         463.0,
         71.0,
         "Secret of Roan Inish, The (1994)",
         4.0,
         8.74792839E8
        ],
        [
         10.0,
         184.0,
         463.0,
         71.0,
         "Secret of Roan Inish, The (1994)",
         4.0,
         8.77889186E8
        ],
        [
         23.0,
         151.0,
         463.0,
         71.0,
         "Secret of Roan Inish, The (1994)",
         4.0,
         8.74785843E8
        ],
        [
         6.0,
         211.0,
         463.0,
         71.0,
         "Secret of Roan Inish, The (1994)",
         4.0,
         8.83601713E8
        ],
        [
         916.0,
         317.0,
         148.0,
         128.0,
         "Ghost and the Darkness, The (1996)",
         2.0,
         8.80843892E8
        ],
        [
         552.0,
         84.0,
         148.0,
         128.0,
         "Ghost and the Darkness, The (1996)",
         3.0,
         8.79222452E8
        ],
        [
         870.0,
         269.0,
         148.0,
         128.0,
         "Ghost and the Darkness, The (1996)",
         2.0,
         8.79377064E8
        ],
        [
         621.0,
         171.0,
         148.0,
         128.0,
         "Ghost and the Darkness, The (1996)",
         4.0,
         8.80739654E8
        ],
        [
         788.0,
         249.0,
         148.0,
         128.0,
         "Ghost and the Darkness, The (1996)",
         3.0,
         8.80869215E8
        ],
        [
         54.0,
         65.0,
         148.0,
         128.0,
         "Ghost and the Darkness, The (1996)",
         3.0,
         8.8093749E8
        ],
        [
         592.0,
         360.0,
         148.0,
         128.0,
         "Ghost and the Darkness, The (1996)",
         2.0,
         8.82608961E8
        ],
        [
         618.0,
         216.0,
         148.0,
         128.0,
         "Ghost and the Darkness, The (1996)",
         3.0,
         8.9130967E8
        ],
        [
         722.0,
         42.0,
         148.0,
         128.0,
         "Ghost and the Darkness, The (1996)",
         3.0,
         8.9128171E8
        ],
        [
         562.0,
         72.0,
         148.0,
         128.0,
         "Ghost and the Darkness, The (1996)",
         5.0,
         8.79195442E8
        ],
        [
         834.0,
         54.0,
         148.0,
         128.0,
         "Ghost and the Darkness, The (1996)",
         4.0,
         8.90862563E8
        ],
        [
         938.0,
         108.0,
         148.0,
         128.0,
         "Ghost and the Darkness, The (1996)",
         3.0,
         8.913565E8
        ],
        [
         932.0,
         241.0,
         148.0,
         128.0,
         "Ghost and the Darkness, The (1996)",
         2.0,
         8.9125214E8
        ],
        [
         919.0,
         217.0,
         148.0,
         128.0,
         "Ghost and the Darkness, The (1996)",
         3.0,
         8.75289417E8
        ],
        [
         891.0,
         47.0,
         148.0,
         128.0,
         "Ghost and the Darkness, The (1996)",
         5.0,
         8.91639793E8
        ],
        [
         821.0,
         62.0,
         148.0,
         128.0,
         "Ghost and the Darkness, The (1996)",
         3.0,
         8.7479265E8
        ],
        [
         627.0,
         181.0,
         148.0,
         128.0,
         "Ghost and the Darkness, The (1996)",
         3.0,
         8.79530463E8
        ],
        [
         633.0,
         58.0,
         148.0,
         128.0,
         "Ghost and the Darkness, The (1996)",
         1.0,
         8.75326138E8
        ],
        [
         757.0,
         166.0,
         148.0,
         128.0,
         "Ghost and the Darkness, The (1996)",
         4.0,
         8.88444948E8
        ],
        [
         486.0,
         189.0,
         148.0,
         128.0,
         "Ghost and the Darkness, The (1996)",
         2.0,
         8.79874903E8
        ],
        [
         733.0,
         107.0,
         148.0,
         128.0,
         "Ghost and the Darkness, The (1996)",
         3.0,
         8.79536607E8
        ],
        [
         825.0,
         145.0,
         148.0,
         128.0,
         "Ghost and the Darkness, The (1996)",
         4.0,
         8.80756725E8
        ],
        [
         896.0,
         362.0,
         148.0,
         128.0,
         "Ghost and the Darkness, The (1996)",
         2.0,
         8.87160606E8
        ],
        [
         880.0,
         368.0,
         148.0,
         128.0,
         "Ghost and the Darkness, The (1996)",
         2.0,
         8.8016703E8
        ],
        [
         894.0,
         245.0,
         148.0,
         128.0,
         "Ghost and the Darkness, The (1996)",
         3.0,
         8.80416137E8
        ],
        [
         690.0,
         115.0,
         148.0,
         128.0,
         "Ghost and the Darkness, The (1996)",
         3.0,
         8.81178365E8
        ],
        [
         865.0,
         66.0,
         148.0,
         128.0,
         "Ghost and the Darkness, The (1996)",
         3.0,
         8.80144194E8
        ],
        [
         793.0,
         55.0,
         148.0,
         128.0,
         "Ghost and the Darkness, The (1996)",
         4.0,
         8.75104498E8
        ],
        [
         297.0,
         192.0,
         148.0,
         128.0,
         "Ghost and the Darkness, The (1996)",
         3.0,
         8.75239619E8
        ],
        [
         935.0,
         39.0,
         148.0,
         128.0,
         "Ghost and the Darkness, The (1996)",
         4.0,
         8.84472892E8
        ],
        [
         347.0,
         199.0,
         148.0,
         128.0,
         "Ghost and the Darkness, The (1996)",
         3.0,
         8.81652888E8
        ],
        [
         234.0,
         480.0,
         148.0,
         128.0,
         "Ghost and the Darkness, The (1996)",
         3.0,
         8.91228196E8
        ],
        [
         717.0,
         93.0,
         148.0,
         128.0,
         "Ghost and the Darkness, The (1996)",
         3.0,
         8.84642958E8
        ],
        [
         363.0,
         311.0,
         148.0,
         128.0,
         "Ghost and the Darkness, The (1996)",
         3.0,
         8.91497439E8
        ],
        [
         601.0,
         148.0,
         148.0,
         128.0,
         "Ghost and the Darkness, The (1996)",
         3.0,
         8.7634814E8
        ],
        [
         438.0,
         33.0,
         148.0,
         128.0,
         "Ghost and the Darkness, The (1996)",
         5.0,
         8.79868443E8
        ],
        [
         706.0,
         29.0,
         148.0,
         128.0,
         "Ghost and the Darkness, The (1996)",
         4.0,
         8.80997464E8
        ],
        [
         536.0,
         163.0,
         148.0,
         128.0,
         "Ghost and the Darkness, The (1996)",
         4.0,
         8.8231882E8
        ],
        [
         682.0,
         399.0,
         148.0,
         128.0,
         "Ghost and the Darkness, The (1996)",
         3.0,
         8.88520923E8
        ],
        [
         606.0,
         236.0,
         148.0,
         128.0,
         "Ghost and the Darkness, The (1996)",
         3.0,
         8.78150506E8
        ],
        [
         534.0,
         80.0,
         148.0,
         128.0,
         "Ghost and the Darkness, The (1996)",
         4.0,
         8.77808198E8
        ],
        [
         727.0,
         322.0,
         148.0,
         128.0,
         "Ghost and the Darkness, The (1996)",
         2.0,
         8.83709438E8
        ],
        [
         271.0,
         278.0,
         148.0,
         128.0,
         "Ghost and the Darkness, The (1996)",
         3.0,
         8.86106165E8
        ],
        [
         923.0,
         74.0,
         148.0,
         128.0,
         "Ghost and the Darkness, The (1996)",
         4.0,
         8.80387474E8
        ],
        [
         930.0,
         63.0,
         148.0,
         128.0,
         "Ghost and the Darkness, The (1996)",
         1.0,
         8.79534886E8
        ],
        [
         893.0,
         59.0,
         148.0,
         128.0,
         "Ghost and the Darkness, The (1996)",
         3.0,
         8.74829287E8
        ],
        [
         663.0,
         158.0,
         148.0,
         128.0,
         "Ghost and the Darkness, The (1996)",
         4.0,
         8.89492989E8
        ],
        [
         705.0,
         114.0,
         148.0,
         128.0,
         "Ghost and the Darkness, The (1996)",
         5.0,
         8.83427134E8
        ],
        [
         430.0,
         65.0,
         148.0,
         128.0,
         "Ghost and the Darkness, The (1996)",
         2.0,
         8.77226047E8
        ],
        [
         416.0,
         493.0,
         148.0,
         128.0,
         "Ghost and the Darkness, The (1996)",
         5.0,
         8.9321273E8
        ],
        [
         276.0,
         518.0,
         148.0,
         128.0,
         "Ghost and the Darkness, The (1996)",
         3.0,
         8.74786924E8
        ],
        [
         479.0,
         202.0,
         148.0,
         128.0,
         "Ghost and the Darkness, The (1996)",
         2.0,
         8.79460354E8
        ],
        [
         391.0,
         121.0,
         148.0,
         128.0,
         "Ghost and the Darkness, The (1996)",
         3.0,
         8.77400062E8
        ],
        [
         805.0,
         273.0,
         148.0,
         128.0,
         "Ghost and the Darkness, The (1996)",
         2.0,
         8.81695911E8
        ],
        [
         533.0,
         260.0,
         148.0,
         128.0,
         "Ghost and the Darkness, The (1996)",
         3.0,
         8.82902641E8
        ],
        [
         749.0,
         305.0,
         148.0,
         128.0,
         "Ghost and the Darkness, The (1996)",
         3.0,
         8.78850212E8
        ],
        [
         708.0,
         105.0,
         148.0,
         128.0,
         "Ghost and the Darkness, The (1996)",
         4.0,
         8.92719246E8
        ],
        [
         761.0,
         66.0,
         148.0,
         128.0,
         "Ghost and the Darkness, The (1996)",
         5.0,
         8.76189829E8
        ],
        [
         455.0,
         189.0,
         148.0,
         128.0,
         "Ghost and the Darkness, The (1996)",
         3.0,
         8.79110346E8
        ],
        [
         602.0,
         29.0,
         148.0,
         128.0,
         "Ghost and the Darkness, The (1996)",
         4.0,
         8.88638517E8
        ],
        [
         457.0,
         277.0,
         148.0,
         128.0,
         "Ghost and the Darkness, The (1996)",
         4.0,
         8.8239536E8
        ],
        [
         26.0,
         107.0,
         148.0,
         128.0,
         "Ghost and the Darkness, The (1996)",
         3.0,
         8.9137754E8
        ],
        [
         637.0,
         104.0,
         148.0,
         128.0,
         "Ghost and the Darkness, The (1996)",
         3.0,
         8.8290507E8
        ],
        [
         190.0,
         59.0,
         148.0,
         128.0,
         "Ghost and the Darkness, The (1996)",
         4.0,
         8.91033742E8
        ],
        [
         642.0,
         318.0,
         148.0,
         128.0,
         "Ghost and the Darkness, The (1996)",
         5.0,
         8.85604163E8
        ],
        [
         677.0,
         49.0,
         148.0,
         128.0,
         "Ghost and the Darkness, The (1996)",
         4.0,
         8.89399265E8
        ],
        [
         20.0,
         48.0,
         148.0,
         128.0,
         "Ghost and the Darkness, The (1996)",
         5.0,
         8.79668713E8
        ],
        [
         294.0,
         150.0,
         148.0,
         128.0,
         "Ghost and the Darkness, The (1996)",
         3.0,
         8.77820155E8
        ],
        [
         532.0,
         274.0,
         148.0,
         128.0,
         "Ghost and the Darkness, The (1996)",
         5.0,
         8.88817717E8
        ],
        [
         620.0,
         110.0,
         148.0,
         128.0,
         "Ghost and the Darkness, The (1996)",
         3.0,
         8.89987299E8
        ],
        [
         459.0,
         118.0,
         148.0,
         128.0,
         "Ghost and the Darkness, The (1996)",
         5.0,
         8.79563367E8
        ],
        [
         308.0,
         397.0,
         148.0,
         128.0,
         "Ghost and the Darkness, The (1996)",
         3.0,
         8.87740788E8
        ],
        [
         580.0,
         47.0,
         148.0,
         128.0,
         "Ghost and the Darkness, The (1996)",
         4.0,
         8.84125773E8
        ],
        [
         249.0,
         161.0,
         148.0,
         128.0,
         "Ghost and the Darkness, The (1996)",
         3.0,
         8.79640361E8
        ],
        [
         434.0,
         44.0,
         148.0,
         128.0,
         "Ghost and the Darkness, The (1996)",
         3.0,
         8.86724797E8
        ],
        [
         586.0,
         166.0,
         148.0,
         128.0,
         "Ghost and the Darkness, The (1996)",
         3.0,
         8.84065745E8
        ],
        [
         435.0,
         379.0,
         148.0,
         128.0,
         "Ghost and the Darkness, The (1996)",
         3.0,
         8.84133284E8
        ],
        [
         423.0,
         64.0,
         148.0,
         128.0,
         "Ghost and the Darkness, The (1996)",
         3.0,
         8.91395417E8
        ],
        [
         506.0,
         242.0,
         148.0,
         128.0,
         "Ghost and the Darkness, The (1996)",
         3.0,
         8.77539905E8
        ],
        [
         27.0,
         25.0,
         148.0,
         128.0,
         "Ghost and the Darkness, The (1996)",
         3.0,
         8.91543129E8
        ],
        [
         406.0,
         342.0,
         148.0,
         128.0,
         "Ghost and the Darkness, The (1996)",
         3.0,
         8.79540276E8
        ],
        [
         374.0,
         274.0,
         148.0,
         128.0,
         "Ghost and the Darkness, The (1996)",
         4.0,
         8.80392992E8
        ],
        [
         330.0,
         147.0,
         148.0,
         128.0,
         "Ghost and the Darkness, The (1996)",
         4.0,
         8.76544781E8
        ],
        [
         345.0,
         232.0,
         148.0,
         128.0,
         "Ghost and the Darkness, The (1996)",
         3.0,
         8.84991303E8
        ],
        [
         403.0,
         50.0,
         148.0,
         128.0,
         "Ghost and the Darkness, The (1996)",
         5.0,
         8.79786351E8
        ],
        [
         269.0,
         323.0,
         148.0,
         128.0,
         "Ghost and the Darkness, The (1996)",
         1.0,
         8.91446443E8
        ],
        [
         447.0,
         139.0,
         148.0,
         128.0,
         "Ghost and the Darkness, The (1996)",
         4.0,
         8.78854729E8
        ],
        [
         120.0,
         26.0,
         148.0,
         128.0,
         "Ghost and the Darkness, The (1996)",
         3.0,
         8.89490499E8
        ],
        [
         393.0,
         448.0,
         148.0,
         128.0,
         "Ghost and the Darkness, The (1996)",
         4.0,
         8.87744419E8
        ],
        [
         158.0,
         173.0,
         148.0,
         128.0,
         "Ghost and the Darkness, The (1996)",
         4.0,
         8.80132613E8
        ],
        [
         21.0,
         179.0,
         148.0,
         128.0,
         "Ghost and the Darkness, The (1996)",
         1.0,
         8.74951482E8
        ],
        [
         90.0,
         300.0,
         148.0,
         128.0,
         "Ghost and the Darkness, The (1996)",
         2.0,
         8.91385787E8
        ],
        [
         92.0,
         388.0,
         148.0,
         128.0,
         "Ghost and the Darkness, The (1996)",
         2.0,
         8.77383934E8
        ],
        [
         200.0,
         216.0,
         148.0,
         128.0,
         "Ghost and the Darkness, The (1996)",
         4.0,
         8.7604234E8
        ],
        [
         399.0,
         319.0,
         148.0,
         128.0,
         "Ghost and the Darkness, The (1996)",
         4.0,
         8.82341362E8
        ],
        [
         396.0,
         54.0,
         148.0,
         128.0,
         "Ghost and the Darkness, The (1996)",
         4.0,
         8.84646436E8
        ],
        [
         372.0,
         66.0,
         148.0,
         128.0,
         "Ghost and the Darkness, The (1996)",
         5.0,
         8.76869915E8
        ],
        [
         84.0,
         68.0,
         148.0,
         128.0,
         "Ghost and the Darkness, The (1996)",
         4.0,
         8.83452274E8
        ],
        [
         378.0,
         375.0,
         148.0,
         128.0,
         "Ghost and the Darkness, The (1996)",
         4.0,
         8.80044944E8
        ],
        [
         1.0,
         272.0,
         148.0,
         128.0,
         "Ghost and the Darkness, The (1996)",
         2.0,
         8.75240799E8
        ],
        [
         44.0,
         151.0,
         148.0,
         128.0,
         "Ghost and the Darkness, The (1996)",
         4.0,
         8.78346946E8
        ],
        [
         236.0,
         124.0,
         148.0,
         128.0,
         "Ghost and the Darkness, The (1996)",
         4.0,
         8.90117028E8
        ],
        [
         344.0,
         190.0,
         148.0,
         128.0,
         "Ghost and the Darkness, The (1996)",
         2.0,
         8.84900248E8
        ],
        [
         15.0,
         104.0,
         148.0,
         128.0,
         "Ghost and the Darkness, The (1996)",
         3.0,
         8.79456049E8
        ],
        [
         328.0,
         283.0,
         148.0,
         128.0,
         "Ghost and the Darkness, The (1996)",
         3.0,
         8.85048638E8
        ],
        [
         224.0,
         141.0,
         148.0,
         128.0,
         "Ghost and the Darkness, The (1996)",
         3.0,
         8.88104154E8
        ],
        [
         361.0,
         121.0,
         148.0,
         128.0,
         "Ghost and the Darkness, The (1996)",
         1.0,
         8.79441324E8
        ],
        [
         188.0,
         112.0,
         148.0,
         128.0,
         "Ghost and the Darkness, The (1996)",
         4.0,
         8.75074667E8
        ],
        [
         181.0,
         435.0,
         148.0,
         128.0,
         "Ghost and the Darkness, The (1996)",
         2.0,
         8.78963204E8
        ],
        [
         164.0,
         63.0,
         148.0,
         128.0,
         "Ghost and the Darkness, The (1996)",
         5.0,
         8.89402203E8
        ],
        [
         332.0,
         183.0,
         148.0,
         128.0,
         "Ghost and the Darkness, The (1996)",
         5.0,
         8.87938486E8
        ],
        [
         320.0,
         154.0,
         148.0,
         128.0,
         "Ghost and the Darkness, The (1996)",
         4.0,
         8.84748708E8
        ],
        [
         130.0,
         353.0,
         148.0,
         128.0,
         "Ghost and the Darkness, The (1996)",
         4.0,
         8.76251127E8
        ],
        [
         274.0,
         71.0,
         148.0,
         128.0,
         "Ghost and the Darkness, The (1996)",
         2.0,
         8.78946133E8
        ],
        [
         51.0,
         23.0,
         148.0,
         128.0,
         "Ghost and the Darkness, The (1996)",
         3.0,
         8.83498623E8
        ],
        [
         198.0,
         181.0,
         148.0,
         128.0,
         "Ghost and the Darkness, The (1996)",
         3.0,
         8.84206401E8
        ],
        [
         270.0,
         138.0,
         148.0,
         128.0,
         "Ghost and the Darkness, The (1996)",
         4.0,
         8.76954062E8
        ],
        [
         293.0,
         388.0,
         148.0,
         128.0,
         "Ghost and the Darkness, The (1996)",
         1.0,
         8.88907015E8
        ],
        [
         49.0,
         215.0,
         148.0,
         128.0,
         "Ghost and the Darkness, The (1996)",
         1.0,
         8.88068195E8
        ],
        [
         178.0,
         273.0,
         148.0,
         128.0,
         "Ghost and the Darkness, The (1996)",
         4.0,
         8.82824325E8
        ],
        [
         313.0,
         262.0,
         148.0,
         128.0,
         "Ghost and the Darkness, The (1996)",
         2.0,
         8.91031979E8
        ],
        [
         203.0,
         43.0,
         148.0,
         128.0,
         "Ghost and the Darkness, The (1996)",
         3.0,
         8.80434755E8
        ],
        [
         244.0,
         238.0,
         148.0,
         128.0,
         "Ghost and the Darkness, The (1996)",
         2.0,
         8.80605071E8
        ],
        [
         59.0,
         382.0,
         148.0,
         128.0,
         "Ghost and the Darkness, The (1996)",
         3.0,
         8.88203175E8
        ],
        [
         251.0,
         77.0,
         148.0,
         128.0,
         "Ghost and the Darkness, The (1996)",
         2.0,
         8.86272547E8
        ],
        [
         222.0,
         387.0,
         148.0,
         128.0,
         "Ghost and the Darkness, The (1996)",
         2.0,
         8.81061164E8
        ],
        [
         201.0,
         386.0,
         148.0,
         128.0,
         "Ghost and the Darkness, The (1996)",
         1.0,
         8.84140751E8
        ],
        [
         186.0,
         92.0,
         148.0,
         128.0,
         "Ghost and the Darkness, The (1996)",
         4.0,
         8.91719774E8
        ],
        [
         662.0,
         23.0,
         1342.0,
         2.0,
         "Convent, The (Convento, O) (1995)",
         4.0,
         8.80570112E8
        ],
        [
         181.0,
         435.0,
         1342.0,
         2.0,
         "Convent, The (Convento, O) (1995)",
         1.0,
         8.78962168E8
        ],
        [
         624.0,
         141.0,
         833.0,
         49.0,
         "Bulletproof (1996)",
         4.0,
         8.79793582E8
        ],
        [
         551.0,
         334.0,
         833.0,
         49.0,
         "Bulletproof (1996)",
         3.0,
         8.92784166E8
        ],
        [
         342.0,
         201.0,
         833.0,
         49.0,
         "Bulletproof (1996)",
         3.0,
         8.74984751E8
        ],
        [
         291.0,
         296.0,
         833.0,
         49.0,
         "Bulletproof (1996)",
         3.0,
         8.74834236E8
        ],
        [
         663.0,
         158.0,
         833.0,
         49.0,
         "Bulletproof (1996)",
         4.0,
         8.89492796E8
        ],
        [
         825.0,
         145.0,
         833.0,
         49.0,
         "Bulletproof (1996)",
         4.0,
         8.81101329E8
        ],
        [
         493.0,
         135.0,
         833.0,
         49.0,
         "Bulletproof (1996)",
         2.0,
         8.84131738E8
        ],
        [
         749.0,
         305.0,
         833.0,
         49.0,
         "Bulletproof (1996)",
         2.0,
         8.78850565E8
        ],
        [
         889.0,
         326.0,
         833.0,
         49.0,
         "Bulletproof (1996)",
         3.0,
         8.80177472E8
        ],
        [
         886.0,
         240.0,
         833.0,
         49.0,
         "Bulletproof (1996)",
         5.0,
         8.7603346E8
        ],
        [
         216.0,
         131.0,
         833.0,
         49.0,
         "Bulletproof (1996)",
         2.0,
         8.80233233E8
        ],
        [
         709.0,
         138.0,
         833.0,
         49.0,
         "Bulletproof (1996)",
         4.0,
         8.79848792E8
        ],
        [
         606.0,
         236.0,
         833.0,
         49.0,
         "Bulletproof (1996)",
         5.0,
         8.87060394E8
        ],
        [
         393.0,
         448.0,
         833.0,
         49.0,
         "Bulletproof (1996)",
         4.0,
         8.87744626E8
        ],
        [
         279.0,
         434.0,
         833.0,
         49.0,
         "Bulletproof (1996)",
         4.0,
         8.7529741E8
        ],
        [
         851.0,
         209.0,
         833.0,
         49.0,
         "Bulletproof (1996)",
         3.0,
         8.75731105E8
        ],
        [
         75.0,
         79.0,
         833.0,
         49.0,
         "Bulletproof (1996)",
         2.0,
         8.84051113E8
        ],
        [
         726.0,
         24.0,
         833.0,
         49.0,
         "Bulletproof (1996)",
         5.0,
         8.89832807E8
        ],
        [
         521.0,
         150.0,
         833.0,
         49.0,
         "Bulletproof (1996)",
         2.0,
         8.84476869E8
        ],
        [
         682.0,
         399.0,
         833.0,
         49.0,
         "Bulletproof (1996)",
         1.0,
         8.8852226E8
        ],
        [
         697.0,
         105.0,
         833.0,
         49.0,
         "Bulletproof (1996)",
         3.0,
         8.82622228E8
        ],
        [
         880.0,
         368.0,
         833.0,
         49.0,
         "Bulletproof (1996)",
         4.0,
         8.80167288E8
        ],
        [
         303.0,
         484.0,
         833.0,
         49.0,
         "Bulletproof (1996)",
         2.0,
         8.79484327E8
        ],
        [
         532.0,
         274.0,
         833.0,
         49.0,
         "Bulletproof (1996)",
         4.0,
         8.88629804E8
        ],
        [
         37.0,
         57.0,
         833.0,
         49.0,
         "Bulletproof (1996)",
         4.0,
         8.80915565E8
        ],
        [
         487.0,
         231.0,
         833.0,
         49.0,
         "Bulletproof (1996)",
         4.0,
         8.88262381E8
        ],
        [
         622.0,
         228.0,
         833.0,
         49.0,
         "Bulletproof (1996)",
         4.0,
         8.82590955E8
        ],
        [
         665.0,
         142.0,
         833.0,
         49.0,
         "Bulletproof (1996)",
         3.0,
         8.8429121E8
        ],
        [
         332.0,
         183.0,
         833.0,
         49.0,
         "Bulletproof (1996)",
         5.0,
         8.87938556E8
        ],
        [
         320.0,
         154.0,
         833.0,
         49.0,
         "Bulletproof (1996)",
         1.0,
         8.84748904E8
        ],
        [
         181.0,
         435.0,
         833.0,
         49.0,
         "Bulletproof (1996)",
         1.0,
         8.78963205E8
        ],
        [
         300.0,
         20.0,
         833.0,
         49.0,
         "Bulletproof (1996)",
         4.0,
         8.75650329E8
        ],
        [
         637.0,
         104.0,
         833.0,
         49.0,
         "Bulletproof (1996)",
         1.0,
         8.8290507E8
        ],
        [
         592.0,
         360.0,
         833.0,
         49.0,
         "Bulletproof (1996)",
         4.0,
         8.82608662E8
        ],
        [
         77.0,
         72.0,
         833.0,
         49.0,
         "Bulletproof (1996)",
         1.0,
         8.84733284E8
        ],
        [
         621.0,
         171.0,
         833.0,
         49.0,
         "Bulletproof (1996)",
         3.0,
         8.80738462E8
        ],
        [
         429.0,
         414.0,
         833.0,
         49.0,
         "Bulletproof (1996)",
         3.0,
         8.82386895E8
        ],
        [
         13.0,
         636.0,
         833.0,
         49.0,
         "Bulletproof (1996)",
         2.0,
         8.82397974E8
        ],
        [
         434.0,
         44.0,
         833.0,
         49.0,
         "Bulletproof (1996)",
         4.0,
         8.86724914E8
        ],
        [
         386.0,
         23.0,
         833.0,
         49.0,
         "Bulletproof (1996)",
         3.0,
         8.77655195E8
        ],
        [
         57.0,
         106.0,
         833.0,
         49.0,
         "Bulletproof (1996)",
         4.0,
         8.83697705E8
        ],
        [
         244.0,
         238.0,
         833.0,
         49.0,
         "Bulletproof (1996)",
         3.0,
         8.80607878E8
        ],
        [
         416.0,
         493.0,
         833.0,
         49.0,
         "Bulletproof (1996)",
         3.0,
         8.88700719E8
        ],
        [
         222.0,
         387.0,
         833.0,
         49.0,
         "Bulletproof (1996)",
         2.0,
         8.77563913E8
        ],
        [
         67.0,
         30.0,
         833.0,
         49.0,
         "Bulletproof (1996)",
         4.0,
         8.75379794E8
        ],
        [
         255.0,
         83.0,
         833.0,
         49.0,
         "Bulletproof (1996)",
         4.0,
         8.83216902E8
        ],
        [
         130.0,
         353.0,
         833.0,
         49.0,
         "Bulletproof (1996)",
         4.0,
         8.76251037E8
        ],
        [
         357.0,
         76.0,
         833.0,
         49.0,
         "Bulletproof (1996)",
         4.0,
         8.78952341E8
        ],
        [
         314.0,
         245.0,
         833.0,
         49.0,
         "Bulletproof (1996)",
         4.0,
         8.77887155E8
        ],
        [
         715.0,
         167.0,
         1088.0,
         13.0,
         "Double Team (1997)",
         1.0,
         8.75962454E8
        ],
        [
         782.0,
         232.0,
         1088.0,
         13.0,
         "Double Team (1997)",
         2.0,
         8.91499611E8
        ],
        [
         758.0,
         357.0,
         1088.0,
         13.0,
         "Double Team (1997)",
         3.0,
         8.8067283E8
        ],
        [
         493.0,
         135.0,
         1088.0,
         13.0,
         "Double Team (1997)",
         2.0,
         8.84131777E8
        ],
        [
         749.0,
         305.0,
         1088.0,
         13.0,
         "Double Team (1997)",
         2.0,
         8.81602596E8
        ],
        [
         279.0,
         434.0,
         1088.0,
         13.0,
         "Double Team (1997)",
         4.0,
         8.77756804E8
        ],
        [
         727.0,
         322.0,
         1088.0,
         13.0,
         "Double Team (1997)",
         2.0,
         8.83709884E8
        ],
        [
         223.0,
         105.0,
         1088.0,
         13.0,
         "Double Team (1997)",
         4.0,
         8.91550326E8
        ],
        [
         130.0,
         353.0,
         1088.0,
         13.0,
         "Double Team (1997)",
         2.0,
         8.76250805E8
        ],
        [
         294.0,
         150.0,
         1088.0,
         13.0,
         "Double Team (1997)",
         1.0,
         8.89243393E8
        ],
        [
         54.0,
         65.0,
         1088.0,
         13.0,
         "Double Team (1997)",
         3.0,
         8.80937311E8
        ],
        [
         303.0,
         484.0,
         1088.0,
         13.0,
         "Double Team (1997)",
         2.0,
         8.79544946E8
        ],
        [
         347.0,
         199.0,
         1088.0,
         13.0,
         "Double Team (1997)",
         1.0,
         8.81653224E8
        ],
        [
         724.0,
         85.0,
         1591.0,
         6.0,
         "Duoluo tianshi (1995)",
         1.0,
         8.83757468E8
        ],
        [
         405.0,
         737.0,
         1591.0,
         6.0,
         "Duoluo tianshi (1995)",
         1.0,
         8.85549943E8
        ],
        [
         883.0,
         268.0,
         1591.0,
         6.0,
         "Duoluo tianshi (1995)",
         3.0,
         8.9169557E8
        ],
        [
         519.0,
         49.0,
         1591.0,
         6.0,
         "Duoluo tianshi (1995)",
         5.0,
         8.83250102E8
        ],
        [
         440.0,
         51.0,
         1591.0,
         6.0,
         "Duoluo tianshi (1995)",
         5.0,
         8.91548567E8
        ],
        [
         445.0,
         135.0,
         1591.0,
         6.0,
         "Duoluo tianshi (1995)",
         4.0,
         8.9119936E8
        ],
        [
         655.0,
         685.0,
         1238.0,
         8.0,
         "Full Speed (1996)",
         2.0,
         8.88474843E8
        ],
        [
         845.0,
         31.0,
         1238.0,
         8.0,
         "Full Speed (1996)",
         2.0,
         8.85409374E8
        ],
        [
         512.0,
         21.0,
         1238.0,
         8.0,
         "Full Speed (1996)",
         4.0,
         8.88578602E8
        ],
        [
         519.0,
         49.0,
         1238.0,
         8.0,
         "Full Speed (1996)",
         5.0,
         8.83248595E8
        ],
        [
         423.0,
         64.0,
         1238.0,
         8.0,
         "Full Speed (1996)",
         3.0,
         8.91394874E8
        ],
        [
         404.0,
         44.0,
         1238.0,
         8.0,
         "Full Speed (1996)",
         3.0,
         8.83790181E8
        ],
        [
         489.0,
         109.0,
         1238.0,
         8.0,
         "Full Speed (1996)",
         4.0,
         8.91445352E8
        ],
        [
         100.0,
         59.0,
         1238.0,
         8.0,
         "Full Speed (1996)",
         2.0,
         8.91375068E8
        ],
        [
         405.0,
         737.0,
         1580.0,
         1.0,
         "Liebelei (1933)",
         1.0,
         8.85549543E8
        ],
        [
         655.0,
         685.0,
         1645.0,
         1.0,
         "Butcher Boy, The (1998)",
         4.0,
         8.92871225E8
        ],
        [
         727.0,
         322.0,
         392.0,
         68.0,
         "Man Without a Face, The (1993)",
         4.0,
         8.83711847E8
        ],
        [
         311.0,
         294.0,
         392.0,
         68.0,
         "Man Without a Face, The (1993)",
         5.0,
         8.84366067E8
        ],
        [
         65.0,
         80.0,
         392.0,
         68.0,
         "Man Without a Face, The (1993)",
         5.0,
         8.79217689E8
        ],
        [
         846.0,
         405.0,
         392.0,
         68.0,
         "Man Without a Face, The (1993)",
         2.0,
         8.83950185E8
        ],
        [
         59.0,
         382.0,
         392.0,
         68.0,
         "Man Without a Face, The (1993)",
         2.0,
         8.88206562E8
        ],
        [
         896.0,
         362.0,
         392.0,
         68.0,
         "Man Without a Face, The (1993)",
         3.0,
         8.87160187E8
        ],
        [
         416.0,
         493.0,
         392.0,
         68.0,
         "Man Without a Face, The (1993)",
         5.0,
         8.93213444E8
        ],
        [
         815.0,
         183.0,
         392.0,
         68.0,
         "Man Without a Face, The (1993)",
         4.0,
         8.78697163E8
        ],
        [
         921.0,
         110.0,
         392.0,
         68.0,
         "Man Without a Face, The (1993)",
         4.0,
         8.84673868E8
        ],
        [
         95.0,
         278.0,
         392.0,
         68.0,
         "Man Without a Face, The (1993)",
         3.0,
         8.80571428E8
        ],
        [
         843.0,
         204.0,
         392.0,
         68.0,
         "Man Without a Face, The (1993)",
         2.0,
         8.79447377E8
        ],
        [
         393.0,
         448.0,
         392.0,
         68.0,
         "Man Without a Face, The (1993)",
         4.0,
         8.89555225E8
        ],
        [
         933.0,
         184.0,
         392.0,
         68.0,
         "Man Without a Face, The (1993)",
         3.0,
         8.74854652E8
        ],
        [
         881.0,
         259.0,
         392.0,
         68.0,
         "Man Without a Face, The (1993)",
         5.0,
         8.76538155E8
        ],
        [
         629.0,
         121.0,
         392.0,
         68.0,
         "Man Without a Face, The (1993)",
         4.0,
         8.80117747E8
        ],
        [
         308.0,
         397.0,
         392.0,
         68.0,
         "Man Without a Face, The (1993)",
         4.0,
         8.87740367E8
        ],
        [
         763.0,
         129.0,
         392.0,
         68.0,
         "Man Without a Face, The (1993)",
         4.0,
         8.78919055E8
        ],
        [
         450.0,
         540.0,
         392.0,
         68.0,
         "Man Without a Face, The (1993)",
         4.0,
         8.87660762E8
        ],
        [
         880.0,
         368.0,
         392.0,
         68.0,
         "Man Without a Face, The (1993)",
         3.0,
         8.80242475E8
        ],
        [
         280.0,
         258.0,
         392.0,
         68.0,
         "Man Without a Face, The (1993)",
         5.0,
         8.91701328E8
        ],
        [
         405.0,
         737.0,
         392.0,
         68.0,
         "Man Without a Face, The (1993)",
         5.0,
         8.85545487E8
        ],
        [
         747.0,
         293.0,
         392.0,
         68.0,
         "Man Without a Face, The (1993)",
         3.0,
         8.88734178E8
        ],
        [
         487.0,
         231.0,
         392.0,
         68.0,
         "Man Without a Face, The (1993)",
         4.0,
         8.83529363E8
        ],
        [
         337.0,
         34.0,
         392.0,
         68.0,
         "Man Without a Face, The (1993)",
         5.0,
         8.75236512E8
        ],
        [
         18.0,
         277.0,
         392.0,
         68.0,
         "Man Without a Face, The (1993)",
         3.0,
         8.80130193E8
        ],
        [
         378.0,
         375.0,
         392.0,
         68.0,
         "Man Without a Face, The (1993)",
         3.0,
         8.80055636E8
        ],
        [
         276.0,
         518.0,
         392.0,
         68.0,
         "Man Without a Face, The (1993)",
         3.0,
         8.74790996E8
        ],
        [
         716.0,
         269.0,
         392.0,
         68.0,
         "Man Without a Face, The (1993)",
         2.0,
         8.79796895E8
        ],
        [
         128.0,
         184.0,
         392.0,
         68.0,
         "Man Without a Face, The (1993)",
         3.0,
         8.79967102E8
        ],
        [
         504.0,
         251.0,
         392.0,
         68.0,
         "Man Without a Face, The (1993)",
         5.0,
         8.87908645E8
        ],
        [
         642.0,
         318.0,
         392.0,
         68.0,
         "Man Without a Face, The (1993)",
         4.0,
         8.86132237E8
        ],
        [
         719.0,
         67.0,
         392.0,
         68.0,
         "Man Without a Face, The (1993)",
         4.0,
         8.79360846E8
        ],
        [
         537.0,
         490.0,
         392.0,
         68.0,
         "Man Without a Face, The (1993)",
         2.0,
         8.86032245E8
        ],
        [
         472.0,
         263.0,
         392.0,
         68.0,
         "Man Without a Face, The (1993)",
         4.0,
         8.75981503E8
        ],
        [
         454.0,
         236.0,
         392.0,
         68.0,
         "Man Without a Face, The (1993)",
         2.0,
         8.88266991E8
        ],
        [
         712.0,
         162.0,
         392.0,
         68.0,
         "Man Without a Face, The (1993)",
         5.0,
         8.74729996E8
        ],
        [
         130.0,
         353.0,
         392.0,
         68.0,
         "Man Without a Face, The (1993)",
         4.0,
         8.76252243E8
        ],
        [
         484.0,
         139.0,
         392.0,
         68.0,
         "Man Without a Face, The (1993)",
         4.0,
         8.91194932E8
        ],
        [
         660.0,
         224.0,
         392.0,
         68.0,
         "Man Without a Face, The (1993)",
         2.0,
         8.91200072E8
        ],
        [
         210.0,
         132.0,
         392.0,
         68.0,
         "Man Without a Face, The (1993)",
         3.0,
         8.87736017E8
        ],
        [
         618.0,
         216.0,
         392.0,
         68.0,
         "Man Without a Face, The (1993)",
         3.0,
         8.91308979E8
        ],
        [
         566.0,
         149.0,
         392.0,
         68.0,
         "Man Without a Face, The (1993)",
         4.0,
         8.81650519E8
        ],
        [
         435.0,
         379.0,
         392.0,
         68.0,
         "Man Without a Face, The (1993)",
         3.0,
         8.84131404E8
        ],
        [
         521.0,
         150.0,
         392.0,
         68.0,
         "Man Without a Face, The (1993)",
         3.0,
         8.86063254E8
        ],
        [
         222.0,
         387.0,
         392.0,
         68.0,
         "Man Without a Face, The (1993)",
         4.0,
         8.8105992E8
        ],
        [
         514.0,
         194.0,
         392.0,
         68.0,
         "Man Without a Face, The (1993)",
         4.0,
         8.75463351E8
        ],
        [
         593.0,
         156.0,
         392.0,
         68.0,
         "Man Without a Face, The (1993)",
         3.0,
         8.86193788E8
        ],
        [
         478.0,
         113.0,
         392.0,
         68.0,
         "Man Without a Face, The (1993)",
         2.0,
         8.89398571E8
        ],
        [
         94.0,
         400.0,
         392.0,
         68.0,
         "Man Without a Face, The (1993)",
         3.0,
         8.91722646E8
        ],
        [
         495.0,
         213.0,
         392.0,
         68.0,
         "Man Without a Face, The (1993)",
         5.0,
         8.88635455E8
        ],
        [
         200.0,
         216.0,
         392.0,
         68.0,
         "Man Without a Face, The (1993)",
         5.0,
         8.84128858E8
        ],
        [
         429.0,
         414.0,
         392.0,
         68.0,
         "Man Without a Face, The (1993)",
         3.0,
         8.82386051E8
        ],
        [
         5.0,
         175.0,
         392.0,
         68.0,
         "Man Without a Face, The (1993)",
         2.0,
         8.7563733E8
        ],
        [
         436.0,
         145.0,
         392.0,
         68.0,
         "Man Without a Face, The (1993)",
         4.0,
         8.87769079E8
        ],
        [
         12.0,
         51.0,
         392.0,
         68.0,
         "Man Without a Face, The (1993)",
         4.0,
         8.79959025E8
        ],
        [
         373.0,
         233.0,
         392.0,
         68.0,
         "Man Without a Face, The (1993)",
         4.0,
         8.77100061E8
        ],
        [
         271.0,
         278.0,
         392.0,
         68.0,
         "Man Without a Face, The (1993)",
         3.0,
         8.85848343E8
        ],
        [
         417.0,
         365.0,
         392.0,
         68.0,
         "Man Without a Face, The (1993)",
         3.0,
         8.8095028E8
        ],
        [
         347.0,
         199.0,
         392.0,
         68.0,
         "Man Without a Face, The (1993)",
         2.0,
         8.81654592E8
        ],
        [
         56.0,
         187.0,
         392.0,
         68.0,
         "Man Without a Face, The (1993)",
         4.0,
         8.92678893E8
        ],
        [
         188.0,
         112.0,
         392.0,
         68.0,
         "Man Without a Face, The (1993)",
         5.0,
         8.75073408E8
        ],
        [
         224.0,
         141.0,
         392.0,
         68.0,
         "Man Without a Face, The (1993)",
         4.0,
         8.88104154E8
        ],
        [
         109.0,
         234.0,
         392.0,
         68.0,
         "Man Without a Face, The (1993)",
         3.0,
         8.80579237E8
        ],
        [
         346.0,
         193.0,
         392.0,
         68.0,
         "Man Without a Face, The (1993)",
         3.0,
         8.75266064E8
        ],
        [
         38.0,
         121.0,
         392.0,
         68.0,
         "Man Without a Face, The (1993)",
         5.0,
         8.9243012E8
        ],
        [
         167.0,
         69.0,
         392.0,
         68.0,
         "Man Without a Face, The (1993)",
         1.0,
         8.92738307E8
        ],
        [
         64.0,
         200.0,
         392.0,
         68.0,
         "Man Without a Face, The (1993)",
         3.0,
         8.89737542E8
        ],
        [
         119.0,
         181.0,
         392.0,
         68.0,
         "Man Without a Face, The (1993)",
         4.0,
         8.86176814E8
        ],
        [
         778.0,
         65.0,
         623.0,
         39.0,
         "Angels in the Outfield (1994)",
         1.0,
         8.90804625E8
        ],
        [
         95.0,
         278.0,
         623.0,
         39.0,
         "Angels in the Outfield (1994)",
         3.0,
         8.80572388E8
        ],
        [
         234.0,
         480.0,
         623.0,
         39.0,
         "Angels in the Outfield (1994)",
         2.0,
         8.92318107E8
        ],
        [
         880.0,
         368.0,
         623.0,
         39.0,
         "Angels in the Outfield (1994)",
         4.0,
         8.80243069E8
        ],
        [
         846.0,
         405.0,
         623.0,
         39.0,
         "Angels in the Outfield (1994)",
         1.0,
         8.83950889E8
        ],
        [
         788.0,
         249.0,
         623.0,
         39.0,
         "Angels in the Outfield (1994)",
         3.0,
         8.80870936E8
        ],
        [
         541.0,
         133.0,
         623.0,
         39.0,
         "Angels in the Outfield (1994)",
         3.0,
         8.83874778E8
        ],
        [
         927.0,
         120.0,
         623.0,
         39.0,
         "Angels in the Outfield (1994)",
         3.0,
         8.7919911E8
        ],
        [
         886.0,
         240.0,
         623.0,
         39.0,
         "Angels in the Outfield (1994)",
         1.0,
         8.76033069E8
        ],
        [
         796.0,
         358.0,
         623.0,
         39.0,
         "Angels in the Outfield (1994)",
         3.0,
         8.93219122E8
        ],
        [
         798.0,
         239.0,
         623.0,
         39.0,
         "Angels in the Outfield (1994)",
         3.0,
         8.7617598E8
        ],
        [
         901.0,
         124.0,
         623.0,
         39.0,
         "Angels in the Outfield (1994)",
         4.0,
         8.77131793E8
        ],
        [
         864.0,
         294.0,
         623.0,
         39.0,
         "Angels in the Outfield (1994)",
         3.0,
         8.88889035E8
        ],
        [
         705.0,
         114.0,
         623.0,
         39.0,
         "Angels in the Outfield (1994)",
         5.0,
         8.83427778E8
        ],
        [
         620.0,
         110.0,
         623.0,
         39.0,
         "Angels in the Outfield (1994)",
         4.0,
         8.89988232E8
        ],
        [
         712.0,
         162.0,
         623.0,
         39.0,
         "Angels in the Outfield (1994)",
         4.0,
         8.74729778E8
        ],
        [
         378.0,
         375.0,
         623.0,
         39.0,
         "Angels in the Outfield (1994)",
         3.0,
         8.80333168E8
        ],
        [
         815.0,
         183.0,
         623.0,
         39.0,
         "Angels in the Outfield (1994)",
         3.0,
         8.78697043E8
        ],
        [
         393.0,
         448.0,
         623.0,
         39.0,
         "Angels in the Outfield (1994)",
         3.0,
         8.89731562E8
        ],
        [
         311.0,
         294.0,
         623.0,
         39.0,
         "Angels in the Outfield (1994)",
         2.0,
         8.84366112E8
        ],
        [
         174.0,
         177.0,
         623.0,
         39.0,
         "Angels in the Outfield (1994)",
         3.0,
         8.86515532E8
        ],
        [
         682.0,
         399.0,
         623.0,
         39.0,
         "Angels in the Outfield (1994)",
         3.0,
         8.88523288E8
        ],
        [
         457.0,
         277.0,
         623.0,
         39.0,
         "Angels in the Outfield (1994)",
         3.0,
         8.82550065E8
        ],
        [
         642.0,
         318.0,
         623.0,
         39.0,
         "Angels in the Outfield (1994)",
         4.0,
         8.8657001E8
        ],
        [
         588.0,
         225.0,
         623.0,
         39.0,
         "Angels in the Outfield (1994)",
         3.0,
         8.90026939E8
        ],
        [
         577.0,
         188.0,
         623.0,
         39.0,
         "Angels in the Outfield (1994)",
         5.0,
         8.80475149E8
        ],
        [
         601.0,
         148.0,
         623.0,
         39.0,
         "Angels in the Outfield (1994)",
         1.0,
         8.76349897E8
        ],
        [
         233.0,
         110.0,
         623.0,
         39.0,
         "Angels in the Outfield (1994)",
         3.0,
         8.76374602E8
        ],
        [
         504.0,
         251.0,
         623.0,
         39.0,
         "Angels in the Outfield (1994)",
         3.0,
         8.87910433E8
        ],
        [
         505.0,
         112.0,
         623.0,
         39.0,
         "Angels in the Outfield (1994)",
         3.0,
         8.89333365E8
        ],
        [
         222.0,
         387.0,
         623.0,
         39.0,
         "Angels in the Outfield (1994)",
         2.0,
         8.78183985E8
        ],
        [
         405.0,
         737.0,
         623.0,
         39.0,
         "Angels in the Outfield (1994)",
         1.0,
         8.85549004E8
        ],
        [
         328.0,
         283.0,
         623.0,
         39.0,
         "Angels in the Outfield (1994)",
         3.0,
         8.85048801E8
        ],
        [
         194.0,
         305.0,
         623.0,
         39.0,
         "Angels in the Outfield (1994)",
         1.0,
         8.79551637E8
        ],
        [
         221.0,
         146.0,
         623.0,
         39.0,
         "Angels in the Outfield (1994)",
         3.0,
         8.75245618E8
        ],
        [
         56.0,
         187.0,
         623.0,
         39.0,
         "Angels in the Outfield (1994)",
         3.0,
         8.92910268E8
        ],
        [
         314.0,
         245.0,
         623.0,
         39.0,
         "Angels in the Outfield (1994)",
         5.0,
         8.77890927E8
        ],
        [
         7.0,
         403.0,
         623.0,
         39.0,
         "Angels in the Outfield (1994)",
         3.0,
         8.91354217E8
        ],
        [
         83.0,
         155.0,
         623.0,
         39.0,
         "Angels in the Outfield (1994)",
         4.0,
         8.80308578E8
        ],
        [
         833.0,
         267.0,
         540.0,
         43.0,
         "Money Train (1995)",
         1.0,
         8.75224687E8
        ],
        [
         889.0,
         326.0,
         540.0,
         43.0,
         "Money Train (1995)",
         2.0,
         8.80182317E8
        ],
        [
         682.0,
         399.0,
         540.0,
         43.0,
         "Money Train (1995)",
         2.0,
         8.88521291E8
        ],
        [
         709.0,
         138.0,
         540.0,
         43.0,
         "Money Train (1995)",
         3.0,
         8.79848744E8
        ],
        [
         429.0,
         414.0,
         540.0,
         43.0,
         "Money Train (1995)",
         3.0,
         8.82386916E8
        ],
        [
         826.0,
         115.0,
         540.0,
         43.0,
         "Money Train (1995)",
         3.0,
         8.85690854E8
        ],
        [
         749.0,
         305.0,
         540.0,
         43.0,
         "Money Train (1995)",
         3.0,
         8.78850388E8
        ],
        [
         640.0,
         109.0,
         540.0,
         43.0,
         "Money Train (1995)",
         3.0,
         8.74778479E8
        ],
        [
         314.0,
         245.0,
         540.0,
         43.0,
         "Money Train (1995)",
         3.0,
         8.77890407E8
        ],
        [
         399.0,
         319.0,
         540.0,
         43.0,
         "Money Train (1995)",
         2.0,
         8.82348722E8
        ],
        [
         758.0,
         357.0,
         540.0,
         43.0,
         "Money Train (1995)",
         3.0,
         8.82054637E8
        ],
        [
         276.0,
         518.0,
         540.0,
         43.0,
         "Money Train (1995)",
         1.0,
         8.74792519E8
        ],
        [
         846.0,
         405.0,
         540.0,
         43.0,
         "Money Train (1995)",
         2.0,
         8.83950711E8
        ],
        [
         425.0,
         204.0,
         540.0,
         43.0,
         "Money Train (1995)",
         2.0,
         8.78738486E8
        ],
        [
         621.0,
         171.0,
         540.0,
         43.0,
         "Money Train (1995)",
         3.0,
         8.74964657E8
        ],
        [
         788.0,
         249.0,
         540.0,
         43.0,
         "Money Train (1995)",
         3.0,
         8.80871394E8
        ],
        [
         194.0,
         305.0,
         540.0,
         43.0,
         "Money Train (1995)",
         1.0,
         8.7955495E8
        ],
        [
         796.0,
         358.0,
         540.0,
         43.0,
         "Money Train (1995)",
         2.0,
         8.93048672E8
        ],
        [
         318.0,
         174.0,
         540.0,
         43.0,
         "Money Train (1995)",
         4.0,
         8.84498141E8
        ],
        [
         472.0,
         263.0,
         540.0,
         43.0,
         "Money Train (1995)",
         3.0,
         8.75982239E8
        ],
        [
         7.0,
         403.0,
         540.0,
         43.0,
         "Money Train (1995)",
         3.0,
         8.92132972E8
        ],
        [
         600.0,
         89.0,
         540.0,
         43.0,
         "Money Train (1995)",
         3.0,
         8.88453083E8
        ],
        [
         457.0,
         277.0,
         540.0,
         43.0,
         "Money Train (1995)",
         3.0,
         8.8255174E8
        ],
        [
         394.0,
         149.0,
         540.0,
         43.0,
         "Money Train (1995)",
         4.0,
         8.8105833E8
        ],
        [
         186.0,
         92.0,
         540.0,
         43.0,
         "Money Train (1995)",
         4.0,
         8.79024014E8
        ],
        [
         487.0,
         231.0,
         540.0,
         43.0,
         "Money Train (1995)",
         2.0,
         8.84050192E8
        ],
        [
         328.0,
         283.0,
         540.0,
         43.0,
         "Money Train (1995)",
         3.0,
         8.8504873E8
        ],
        [
         303.0,
         484.0,
         540.0,
         43.0,
         "Money Train (1995)",
         1.0,
         8.79543679E8
        ],
        [
         497.0,
         279.0,
         540.0,
         43.0,
         "Money Train (1995)",
         2.0,
         8.79311007E8
        ],
        [
         393.0,
         448.0,
         540.0,
         43.0,
         "Money Train (1995)",
         3.0,
         8.89731753E8
        ],
        [
         222.0,
         387.0,
         540.0,
         43.0,
         "Money Train (1995)",
         3.0,
         8.78184087E8
        ],
        [
         291.0,
         296.0,
         540.0,
         43.0,
         "Money Train (1995)",
         3.0,
         8.74835141E8
        ],
        [
         178.0,
         273.0,
         540.0,
         43.0,
         "Money Train (1995)",
         3.0,
         8.86678484E8
        ],
        [
         405.0,
         737.0,
         540.0,
         43.0,
         "Money Train (1995)",
         1.0,
         8.85548163E8
        ],
        [
         374.0,
         274.0,
         540.0,
         43.0,
         "Money Train (1995)",
         3.0,
         8.80939304E8
        ],
        [
         207.0,
         230.0,
         540.0,
         43.0,
         "Money Train (1995)",
         3.0,
         8.80161839E8
        ],
        [
         13.0,
         636.0,
         540.0,
         43.0,
         "Money Train (1995)",
         3.0,
         8.8239841E8
        ],
        [
         110.0,
         133.0,
         540.0,
         43.0,
         "Money Train (1995)",
         3.0,
         8.86988793E8
        ],
        [
         217.0,
         76.0,
         540.0,
         43.0,
         "Money Train (1995)",
         1.0,
         8.89070087E8
        ],
        [
         268.0,
         328.0,
         540.0,
         43.0,
         "Money Train (1995)",
         1.0,
         8.75542174E8
        ],
        [
         92.0,
         388.0,
         540.0,
         43.0,
         "Money Train (1995)",
         2.0,
         8.75813197E8
        ],
        [
         37.0,
         57.0,
         540.0,
         43.0,
         "Money Train (1995)",
         2.0,
         8.8091607E8
        ],
        [
         280.0,
         258.0,
         540.0,
         43.0,
         "Money Train (1995)",
         3.0,
         8.91702304E8
        ],
        [
         21.0,
         179.0,
         858.0,
         3.0,
         "Amityville: Dollhouse (1996)",
         1.0,
         8.74951858E8
        ],
        [
         405.0,
         737.0,
         858.0,
         3.0,
         "Amityville: Dollhouse (1996)",
         1.0,
         8.85548435E8
        ],
        [
         13.0,
         636.0,
         858.0,
         3.0,
         "Amityville: Dollhouse (1996)",
         1.0,
         8.82397068E8
        ],
        [
         916.0,
         317.0,
         737.0,
         59.0,
         "Sirens (1994)",
         3.0,
         8.80845328E8
        ],
        [
         763.0,
         129.0,
         737.0,
         59.0,
         "Sirens (1994)",
         2.0,
         8.78919055E8
        ],
        [
         828.0,
         104.0,
         737.0,
         59.0,
         "Sirens (1994)",
         1.0,
         8.91037948E8
        ],
        [
         889.0,
         326.0,
         737.0,
         59.0,
         "Sirens (1994)",
         3.0,
         8.80181515E8
        ],
        [
         861.0,
         43.0,
         737.0,
         59.0,
         "Sirens (1994)",
         3.0,
         8.81274883E8
        ],
        [
         846.0,
         405.0,
         737.0,
         59.0,
         "Sirens (1994)",
         4.0,
         8.83949771E8
        ],
        [
         201.0,
         386.0,
         737.0,
         59.0,
         "Sirens (1994)",
         2.0,
         8.84112077E8
        ],
        [
         561.0,
         357.0,
         737.0,
         59.0,
         "Sirens (1994)",
         3.0,
         8.85810706E8
        ],
        [
         804.0,
         332.0,
         737.0,
         59.0,
         "Sirens (1994)",
         3.0,
         8.79444781E8
        ],
        [
         429.0,
         414.0,
         737.0,
         59.0,
         "Sirens (1994)",
         4.0,
         8.82387505E8
        ],
        [
         407.0,
         226.0,
         737.0,
         59.0,
         "Sirens (1994)",
         4.0,
         8.75117053E8
        ],
        [
         221.0,
         146.0,
         737.0,
         59.0,
         "Sirens (1994)",
         4.0,
         8.75393346E8
        ],
        [
         94.0,
         400.0,
         737.0,
         59.0,
         "Sirens (1994)",
         4.0,
         8.91723459E8
        ],
        [
         758.0,
         357.0,
         737.0,
         59.0,
         "Sirens (1994)",
         3.0,
         8.81978864E8
        ],
        [
         773.0,
         161.0,
         737.0,
         59.0,
         "Sirens (1994)",
         3.0,
         8.88539064E8
        ],
        [
         877.0,
         81.0,
         737.0,
         59.0,
         "Sirens (1994)",
         1.0,
         8.82677749E8
        ],
        [
         405.0,
         737.0,
         737.0,
         59.0,
         "Sirens (1994)",
         1.0,
         8.85546487E8
        ],
        [
         363.0,
         311.0,
         737.0,
         59.0,
         "Sirens (1994)",
         1.0,
         8.91497174E8
        ],
        [
         918.0,
         103.0,
         737.0,
         59.0,
         "Sirens (1994)",
         3.0,
         8.91988123E8
        ],
        [
         890.0,
         119.0,
         737.0,
         59.0,
         "Sirens (1994)",
         3.0,
         8.82917152E8
        ],
        [
         11.0,
         181.0,
         737.0,
         59.0,
         "Sirens (1994)",
         4.0,
         8.91904789E8
        ],
        [
         447.0,
         139.0,
         737.0,
         59.0,
         "Sirens (1994)",
         4.0,
         8.78855907E8
        ],
        [
         474.0,
         327.0,
         737.0,
         59.0,
         "Sirens (1994)",
         4.0,
         8.87926633E8
        ],
        [
         862.0,
         165.0,
         737.0,
         59.0,
         "Sirens (1994)",
         4.0,
         8.79305386E8
        ],
        [
         751.0,
         168.0,
         737.0,
         59.0,
         "Sirens (1994)",
         4.0,
         8.89298945E8
        ],
        [
         325.0,
         142.0,
         737.0,
         59.0,
         "Sirens (1994)",
         4.0,
         8.91479846E8
        ],
        [
         345.0,
         232.0,
         737.0,
         59.0,
         "Sirens (1994)",
         3.0,
         8.84993418E8
        ],
        [
         840.0,
         197.0,
         737.0,
         59.0,
         "Sirens (1994)",
         4.0,
         8.9120532E8
        ],
        [
         243.0,
         81.0,
         737.0,
         59.0,
         "Sirens (1994)",
         3.0,
         8.79988557E8
        ],
        [
         354.0,
         233.0,
         737.0,
         59.0,
         "Sirens (1994)",
         4.0,
         8.91307206E8
        ],
        [
         18.0,
         277.0,
         737.0,
         59.0,
         "Sirens (1994)",
         3.0,
         8.80132055E8
        ],
        [
         194.0,
         305.0,
         737.0,
         59.0,
         "Sirens (1994)",
         4.0,
         8.79553003E8
        ],
        [
         682.0,
         399.0,
         737.0,
         59.0,
         "Sirens (1994)",
         3.0,
         8.88518104E8
        ],
        [
         622.0,
         228.0,
         737.0,
         59.0,
         "Sirens (1994)",
         5.0,
         8.82592678E8
        ],
        [
         416.0,
         493.0,
         737.0,
         59.0,
         "Sirens (1994)",
         3.0,
         8.86318613E8
        ],
        [
         653.0,
         283.0,
         737.0,
         59.0,
         "Sirens (1994)",
         1.0,
         8.80151839E8
        ],
        [
         650.0,
         311.0,
         737.0,
         59.0,
         "Sirens (1994)",
         2.0,
         8.91383832E8
        ],
        [
         13.0,
         636.0,
         737.0,
         59.0,
         "Sirens (1994)",
         4.0,
         8.82399615E8
        ],
        [
         543.0,
         197.0,
         737.0,
         59.0,
         "Sirens (1994)",
         3.0,
         8.74866535E8
        ],
        [
         398.0,
         172.0,
         737.0,
         59.0,
         "Sirens (1994)",
         2.0,
         8.75811449E8
        ],
        [
         92.0,
         388.0,
         737.0,
         59.0,
         "Sirens (1994)",
         4.0,
         8.75654125E8
        ],
        [
         44.0,
         151.0,
         737.0,
         59.0,
         "Sirens (1994)",
         1.0,
         8.83613298E8
        ],
        [
         387.0,
         304.0,
         737.0,
         59.0,
         "Sirens (1994)",
         3.0,
         8.86484098E8
        ],
        [
         339.0,
         254.0,
         737.0,
         59.0,
         "Sirens (1994)",
         3.0,
         8.9103518E8
        ],
        [
         286.0,
         288.0,
         737.0,
         59.0,
         "Sirens (1994)",
         4.0,
         8.77532419E8
        ],
        [
         456.0,
         217.0,
         737.0,
         59.0,
         "Sirens (1994)",
         3.0,
         8.81375254E8
        ],
        [
         437.0,
         263.0,
         737.0,
         59.0,
         "Sirens (1994)",
         1.0,
         8.80142614E8
        ],
        [
         361.0,
         121.0,
         737.0,
         59.0,
         "Sirens (1994)",
         4.0,
         8.79441179E8
        ],
        [
         406.0,
         342.0,
         737.0,
         59.0,
         "Sirens (1994)",
         3.0,
         8.79793376E8
        ],
        [
         301.0,
         275.0,
         737.0,
         59.0,
         "Sirens (1994)",
         2.0,
         8.82078906E8
        ],
        [
         393.0,
         448.0,
         737.0,
         59.0,
         "Sirens (1994)",
         2.0,
         8.89730261E8
        ],
        [
         49.0,
         215.0,
         737.0,
         59.0,
         "Sirens (1994)",
         1.0,
         8.88066828E8
        ],
        [
         122.0,
         61.0,
         737.0,
         59.0,
         "Sirens (1994)",
         4.0,
         8.79270874E8
        ],
        [
         295.0,
         196.0,
         737.0,
         59.0,
         "Sirens (1994)",
         5.0,
         8.79518607E8
        ],
        [
         89.0,
         76.0,
         737.0,
         59.0,
         "Sirens (1994)",
         1.0,
         8.79460376E8
        ],
        [
         276.0,
         518.0,
         737.0,
         59.0,
         "Sirens (1994)",
         4.0,
         8.90979964E8
        ],
        [
         95.0,
         278.0,
         737.0,
         59.0,
         "Sirens (1994)",
         3.0,
         8.79197021E8
        ],
        [
         180.0,
         63.0,
         737.0,
         59.0,
         "Sirens (1994)",
         3.0,
         8.77128327E8
        ],
        [
         145.0,
         316.0,
         737.0,
         59.0,
         "Sirens (1994)",
         2.0,
         8.75272833E8
        ],
        [
         550.0,
         40.0,
         243.0,
         132.0,
         "Jungle2Jungle (1997)",
         2.0,
         8.83426119E8
        ],
        [
         401.0,
         153.0,
         243.0,
         132.0,
         "Jungle2Jungle (1997)",
         3.0,
         8.91031867E8
        ],
        [
         811.0,
         21.0,
         243.0,
         132.0,
         "Jungle2Jungle (1997)",
         3.0,
         8.86377579E8
        ],
        [
         813.0,
         29.0,
         243.0,
         132.0,
         "Jungle2Jungle (1997)",
         3.0,
         8.8375266E8
        ],
        [
         59.0,
         382.0,
         243.0,
         132.0,
         "Jungle2Jungle (1997)",
         1.0,
         8.88206764E8
        ],
        [
         881.0,
         259.0,
         243.0,
         132.0,
         "Jungle2Jungle (1997)",
         2.0,
         8.76535663E8
        ],
        [
         533.0,
         260.0,
         243.0,
         132.0,
         "Jungle2Jungle (1997)",
         3.0,
         8.79193517E8
        ],
        [
         556.0,
         44.0,
         243.0,
         132.0,
         "Jungle2Jungle (1997)",
         1.0,
         8.82135994E8
        ],
        [
         505.0,
         112.0,
         243.0,
         132.0,
         "Jungle2Jungle (1997)",
         2.0,
         8.88631415E8
        ],
        [
         691.0,
         32.0,
         243.0,
         132.0,
         "Jungle2Jungle (1997)",
         1.0,
         8.75542944E8
        ],
        [
         761.0,
         66.0,
         243.0,
         132.0,
         "Jungle2Jungle (1997)",
         3.0,
         8.76189749E8
        ],
        [
         796.0,
         358.0,
         243.0,
         132.0,
         "Jungle2Jungle (1997)",
         3.0,
         8.92612354E8
        ],
        [
         824.0,
         20.0,
         243.0,
         132.0,
         "Jungle2Jungle (1997)",
         1.0,
         8.77021002E8
        ],
        [
         598.0,
         25.0,
         243.0,
         132.0,
         "Jungle2Jungle (1997)",
         2.0,
         8.86711192E8
        ],
        [
         816.0,
         25.0,
         243.0,
         132.0,
         "Jungle2Jungle (1997)",
         4.0,
         8.91711554E8
        ],
        [
         798.0,
         239.0,
         243.0,
         132.0,
         "Jungle2Jungle (1997)",
         4.0,
         8.75295566E8
        ],
        [
         612.0,
         27.0,
         243.0,
         132.0,
         "Jungle2Jungle (1997)",
         2.0,
         8.75324355E8
        ],
        [
         602.0,
         29.0,
         243.0,
         132.0,
         "Jungle2Jungle (1997)",
         3.0,
         8.88638277E8
        ],
        [
         897.0,
         185.0,
         243.0,
         132.0,
         "Jungle2Jungle (1997)",
         4.0,
         8.79988868E8
        ],
        [
         938.0,
         108.0,
         243.0,
         132.0,
         "Jungle2Jungle (1997)",
         4.0,
         8.91356085E8
        ],
        [
         20.0,
         48.0,
         243.0,
         132.0,
         "Jungle2Jungle (1997)",
         4.0,
         8.79667799E8
        ],
        [
         887.0,
         171.0,
         243.0,
         132.0,
         "Jungle2Jungle (1997)",
         1.0,
         8.8137837E8
        ],
        [
         901.0,
         124.0,
         243.0,
         132.0,
         "Jungle2Jungle (1997)",
         2.0,
         8.77129839E8
        ],
        [
         832.0,
         25.0,
         243.0,
         132.0,
         "Jungle2Jungle (1997)",
         2.0,
         8.88259984E8
        ],
        [
         797.0,
         26.0,
         243.0,
         132.0,
         "Jungle2Jungle (1997)",
         2.0,
         8.79439104E8
        ],
        [
         728.0,
         26.0,
         243.0,
         132.0,
         "Jungle2Jungle (1997)",
         2.0,
         8.79442892E8
        ],
        [
         898.0,
         30.0,
         243.0,
         132.0,
         "Jungle2Jungle (1997)",
         1.0,
         8.88294707E8
        ],
        [
         732.0,
         20.0,
         243.0,
         132.0,
         "Jungle2Jungle (1997)",
         5.0,
         8.82589879E8
        ],
        [
         8.0,
         59.0,
         243.0,
         132.0,
         "Jungle2Jungle (1997)",
         2.0,
         8.79361732E8
        ],
        [
         304.0,
         26.0,
         243.0,
         132.0,
         "Jungle2Jungle (1997)",
         3.0,
         8.84967391E8
        ],
        [
         48.0,
         66.0,
         243.0,
         132.0,
         "Jungle2Jungle (1997)",
         3.0,
         8.7943433E8
        ],
        [
         199.0,
         40.0,
         243.0,
         132.0,
         "Jungle2Jungle (1997)",
         1.0,
         8.83782636E8
        ],
        [
         754.0,
         34.0,
         243.0,
         132.0,
         "Jungle2Jungle (1997)",
         1.0,
         8.79451163E8
        ],
        [
         482.0,
         26.0,
         243.0,
         132.0,
         "Jungle2Jungle (1997)",
         2.0,
         8.87644023E8
        ],
        [
         387.0,
         304.0,
         243.0,
         132.0,
         "Jungle2Jungle (1997)",
         1.0,
         8.8648446E8
        ],
        [
         397.0,
         102.0,
         243.0,
         132.0,
         "Jungle2Jungle (1997)",
         1.0,
         8.75063613E8
        ],
        [
         771.0,
         70.0,
         243.0,
         132.0,
         "Jungle2Jungle (1997)",
         3.0,
         8.86640629E8
        ],
        [
         847.0,
         146.0,
         243.0,
         132.0,
         "Jungle2Jungle (1997)",
         1.0,
         8.78774856E8
        ],
        [
         810.0,
         26.0,
         243.0,
         132.0,
         "Jungle2Jungle (1997)",
         4.0,
         8.7989535E8
        ],
        [
         936.0,
         142.0,
         243.0,
         132.0,
         "Jungle2Jungle (1997)",
         2.0,
         8.8683182E8
        ],
        [
         620.0,
         110.0,
         243.0,
         132.0,
         "Jungle2Jungle (1997)",
         3.0,
         8.89986676E8
        ],
        [
         677.0,
         49.0,
         243.0,
         132.0,
         "Jungle2Jungle (1997)",
         3.0,
         8.89399113E8
        ],
        [
         682.0,
         399.0,
         243.0,
         132.0,
         "Jungle2Jungle (1997)",
         1.0,
         8.88516865E8
        ],
        [
         699.0,
         149.0,
         243.0,
         132.0,
         "Jungle2Jungle (1997)",
         2.0,
         8.79147597E8
        ],
        [
         721.0,
         168.0,
         243.0,
         132.0,
         "Jungle2Jungle (1997)",
         3.0,
         8.77137527E8
        ],
        [
         882.0,
         137.0,
         243.0,
         132.0,
         "Jungle2Jungle (1997)",
         4.0,
         8.79861325E8
        ],
        [
         825.0,
         145.0,
         243.0,
         132.0,
         "Jungle2Jungle (1997)",
         4.0,
         8.84642187E8
        ],
        [
         645.0,
         122.0,
         243.0,
         132.0,
         "Jungle2Jungle (1997)",
         1.0,
         8.92052232E8
        ],
        [
         919.0,
         217.0,
         243.0,
         132.0,
         "Jungle2Jungle (1997)",
         3.0,
         8.75288418E8
        ],
        [
         125.0,
         182.0,
         243.0,
         132.0,
         "Jungle2Jungle (1997)",
         2.0,
         8.92836123E8
        ],
        [
         880.0,
         368.0,
         243.0,
         132.0,
         "Jungle2Jungle (1997)",
         2.0,
         8.92958608E8
        ],
        [
         234.0,
         480.0,
         243.0,
         132.0,
         "Jungle2Jungle (1997)",
         1.0,
         8.91034107E8
        ],
        [
         534.0,
         80.0,
         243.0,
         132.0,
         "Jungle2Jungle (1997)",
         3.0,
         8.77807461E8
        ],
        [
         587.0,
         98.0,
         243.0,
         132.0,
         "Jungle2Jungle (1997)",
         3.0,
         8.92871401E8
        ],
        [
         38.0,
         121.0,
         243.0,
         132.0,
         "Jungle2Jungle (1997)",
         3.0,
         8.92429095E8
        ],
        [
         17.0,
         28.0,
         243.0,
         132.0,
         "Jungle2Jungle (1997)",
         1.0,
         8.85166209E8
        ],
        [
         779.0,
         37.0,
         243.0,
         132.0,
         "Jungle2Jungle (1997)",
         4.0,
         8.75501402E8
        ]
       ],
       "plotOptions": {
        "displayType": "plotlyBar",
        "customPlotOptions": {},
        "pivotColumns": null,
        "pivotAggregation": null,
        "xColumns": null,
        "yColumns": null
       },
       "columnCustomDisplayInfos": {},
       "aggType": "",
       "isJsonSchema": true,
       "removedWidgets": [],
       "aggSchema": [],
       "schema": [
        {
         "name": "user_id",
         "type": "\"integer\"",
         "metadata": "{}"
        },
        {
         "name": "user_count",
         "type": "\"long\"",
         "metadata": "{}"
        },
        {
         "name": "movie_id",
         "type": "\"integer\"",
         "metadata": "{}"
        },
        {
         "name": "movie_count",
         "type": "\"long\"",
         "metadata": "{}"
        },
        {
         "name": "movie_names",
         "type": "\"string\"",
         "metadata": "{}"
        },
        {
         "name": "rating",
         "type": "\"integer\"",
         "metadata": "{}"
        },
        {
         "name": "timestamp",
         "type": "\"long\"",
         "metadata": "{}"
        }
       ],
       "aggError": "",
       "aggData": [],
       "addedWidgets": {},
       "dbfsResultPath": null,
       "type": "table",
       "aggOverflow": false,
       "aggSeriesLimitReached": false,
       "arguments": {}
      }
     },
     "output_type": "execute_result"
    }
   ],
   "source": [
    "display(df5)"
   ]
  },
  {
   "cell_type": "code",
   "execution_count": 0,
   "metadata": {
    "application/vnd.databricks.v1+cell": {
     "title": "",
     "showTitle": false,
     "inputWidgets": {},
     "nuid": "b3d53480-1d58-44cb-bc6a-aa3b8a6c7048"
    }
   },
   "outputs": [
    {
     "data": {
      "text/html": [
       "<style scoped>\n  .ansiout {\n    display: block;\n    unicode-bidi: embed;\n    white-space: pre-wrap;\n    word-wrap: break-word;\n    word-break: break-all;\n    font-family: \"Source Code Pro\", \"Menlo\", monospace;;\n    font-size: 13px;\n    color: #555;\n    margin-left: 4px;\n    line-height: 19px;\n  }\n</style>"
      ]
     },
     "metadata": {
      "application/vnd.databricks.v1+output": {
       "type": "ipynbError",
       "data": "",
       "errorSummary": "",
       "arguments": {}
      }
     },
     "output_type": "execute_result"
    }
   ],
   "source": [
    ""
   ]
  }
 ],
 "metadata": {
  "application/vnd.databricks.v1+notebook": {
   "notebookName": "Movie-Rating-Data Analysis",
   "dashboards": [],
   "language": "python",
   "widgets": {},
   "notebookOrigID": 1.646053641499552E15
  }
 },
 "nbformat": 4,
 "nbformat_minor": 0
}
